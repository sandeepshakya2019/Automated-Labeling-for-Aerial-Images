{
 "cells": [
  {
   "cell_type": "markdown",
   "id": "6960fbb5",
   "metadata": {},
   "source": [
    "### Live Prediction"
   ]
  },
  {
   "cell_type": "code",
   "execution_count": null,
   "id": "baec892b",
   "metadata": {},
   "outputs": [
    {
     "name": "stdout",
     "output_type": "stream",
     "text": [
      "Defaulting to user installation because normal site-packages is not writeable\n",
      "Requirement already satisfied: opencv-python in /home/ssl49/.local/lib/python3.10/site-packages (4.11.0.86)\n",
      "Requirement already satisfied: numpy>=1.17.0 in /home/ssl49/.local/lib/python3.10/site-packages (from opencv-python) (1.24.4)\n"
     ]
    }
   ],
   "source": [
    "# !pip install opencv-python"
   ]
  },
  {
   "cell_type": "code",
   "execution_count": 2,
   "id": "14b7109b",
   "metadata": {},
   "outputs": [],
   "source": [
    "import cv2\n",
    "from ultralytics import YOLO\n",
    "\n",
    "def load_model(model_path=\"best.pt\"):\n",
    "    \"\"\"\n",
    "    Loads a YOLOv8 model from the given path.\n",
    "    \"\"\"\n",
    "    return YOLO(model_path)\n",
    "\n",
    "def predict_frame(model, frame, conf_thresh=0.25):\n",
    "    \"\"\"\n",
    "    Runs prediction on a single frame and returns annotated frame.\n",
    "    \"\"\"\n",
    "    results = model.predict(source=frame, conf=conf_thresh, verbose=False)\n",
    "\n",
    "    for r in results:\n",
    "        for box in r.boxes:\n",
    "            x1, y1, x2, y2 = map(int, box.xyxy[0])\n",
    "            cls_id = int(box.cls[0])\n",
    "            conf = float(box.conf[0])\n",
    "            label = f\"{model.names[cls_id]}: {conf:.2f}\"\n",
    "\n",
    "            # Draw bounding box and label\n",
    "            cv2.rectangle(frame, (x1, y1), (x2, y2), (0, 255, 0), 2)\n",
    "            cv2.putText(frame, label, (x1, y1 - 10),\n",
    "                        cv2.FONT_HERSHEY_SIMPLEX, 0.6, (255, 255, 255), 2)\n",
    "\n",
    "    return frame\n",
    "\n",
    "def run_webcam_detection(model_path=\"best.pt\"):\n",
    "    \"\"\"\n",
    "    Opens webcam and runs YOLOv8 object detection in real-time.\n",
    "    \"\"\"\n",
    "    model = load_model(model_path)\n",
    "    cap = cv2.VideoCapture(0)\n",
    "\n",
    "    if not cap.isOpened():\n",
    "        print(\"Error: Could not open webcam.\")\n",
    "        return\n",
    "\n",
    "    print(\"Press 'q' to exit...\")\n",
    "    while True:\n",
    "        ret, frame = cap.read()\n",
    "        if not ret:\n",
    "            break\n",
    "\n",
    "        annotated_frame = predict_frame(model, frame)\n",
    "\n",
    "        cv2.imshow(\"YOLOv8 Live Detection\", annotated_frame)\n",
    "\n",
    "        if cv2.waitKey(1) & 0xFF == ord('q'):\n",
    "            break\n",
    "\n",
    "    cap.release()\n",
    "    cv2.destroyAllWindows()\n"
   ]
  },
  {
   "cell_type": "code",
   "execution_count": null,
   "id": "4ada6e53",
   "metadata": {},
   "outputs": [],
   "source": [
    "def find_best_model(base_dir='runs_yolo/'):\n",
    "    best_paths = list(Path(base_dir).rglob('best.pt'))\n",
    "    if not best_paths:\n",
    "        raise FileNotFoundError(\"No 'best.pt' file found in the 'runs/' directory.\")\n",
    "    \n",
    "    # Optionally, sort by latest modified time\n",
    "    best_paths.sort(key=lambda p: p.stat().st_mtime, reverse=True)\n",
    "    \n",
    "    print(f\"✅ Found best.pt at: {best_paths[0]}\")\n",
    "    return str(best_paths[0])\n"
   ]
  },
  {
   "cell_type": "code",
   "execution_count": 3,
   "id": "7b676d13",
   "metadata": {},
   "outputs": [
    {
     "ename": "NameError",
     "evalue": "name 'find_best_model' is not defined",
     "output_type": "error",
     "traceback": [
      "\u001b[0;31m---------------------------------------------------------------------------\u001b[0m",
      "\u001b[0;31mNameError\u001b[0m                                 Traceback (most recent call last)",
      "Cell \u001b[0;32mIn[3], line 2\u001b[0m\n\u001b[1;32m      1\u001b[0m yolov8 \u001b[38;5;241m=\u001b[39m \u001b[38;5;124m'\u001b[39m\u001b[38;5;124m./runs/train/yolov8\u001b[39m\u001b[38;5;124m'\u001b[39m\n\u001b[0;32m----> 2\u001b[0m best_pt_path \u001b[38;5;241m=\u001b[39m \u001b[43mfind_best_model\u001b[49m(yolov8)\n\u001b[1;32m      3\u001b[0m run_webcam_detection(best_pt_path)\n",
      "\u001b[0;31mNameError\u001b[0m: name 'find_best_model' is not defined"
     ]
    }
   ],
   "source": [
    "yolov8 = './runs/train/yolov8'\n",
    "best_pt_path = find_best_model(yolov8)\n",
    "run_webcam_detection(best_pt_path)\n"
   ]
  },
  {
   "cell_type": "code",
   "execution_count": null,
   "id": "8df9d0c4",
   "metadata": {},
   "outputs": [],
   "source": []
  },
  {
   "cell_type": "code",
   "execution_count": null,
   "id": "cae537a9",
   "metadata": {},
   "outputs": [],
   "source": []
  }
 ],
 "metadata": {
  "kernelspec": {
   "display_name": "Python 3",
   "language": "python",
   "name": "python3"
  },
  "language_info": {
   "codemirror_mode": {
    "name": "ipython",
    "version": 3
   },
   "file_extension": ".py",
   "mimetype": "text/x-python",
   "name": "python",
   "nbconvert_exporter": "python",
   "pygments_lexer": "ipython3",
   "version": "3.10.13"
  }
 },
 "nbformat": 4,
 "nbformat_minor": 5
}
