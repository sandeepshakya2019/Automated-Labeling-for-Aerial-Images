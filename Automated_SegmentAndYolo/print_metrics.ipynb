{
 "cells": [
  {
   "cell_type": "markdown",
   "id": "f439d446",
   "metadata": {},
   "source": [
    "# Print Metrics"
   ]
  },
  {
   "cell_type": "markdown",
   "id": "e1f39c31",
   "metadata": {},
   "source": [
    "## Creating Required Functions"
   ]
  },
  {
   "cell_type": "markdown",
   "id": "ce4380a4",
   "metadata": {},
   "source": [
    "### Import Library"
   ]
  },
  {
   "cell_type": "code",
   "execution_count": 43,
   "id": "9cc21d86",
   "metadata": {},
   "outputs": [],
   "source": [
    "from pathlib import Path\n",
    "import os\n",
    "import pandas as pd"
   ]
  },
  {
   "cell_type": "markdown",
   "id": "07427de3",
   "metadata": {},
   "source": [
    "### Function to Find the Best YOLO Model (best.pt)"
   ]
  },
  {
   "cell_type": "code",
   "execution_count": 44,
   "id": "7608373e",
   "metadata": {},
   "outputs": [],
   "source": [
    "def find_best_model(base_dir='runs_yolo/'):\n",
    "    best_paths = list(Path(base_dir).rglob('best.pt'))\n",
    "    if not best_paths:\n",
    "        raise FileNotFoundError(\"No 'best.pt' file found in the 'runs/' directory.\")\n",
    "    \n",
    "    # Optionally, sort by latest modified time\n",
    "    best_paths.sort(key=lambda p: p.stat().st_mtime, reverse=True)\n",
    "    \n",
    "    print(f\"[+] Found best.pt at: {best_paths[0]}\")\n",
    "    return str(best_paths[0])\n"
   ]
  },
  {
   "cell_type": "markdown",
   "id": "66d57524",
   "metadata": {},
   "source": [
    "### Functions to Load and Print Metrics from YOLO Training Results"
   ]
  },
  {
   "cell_type": "code",
   "execution_count": 45,
   "id": "1f287ea7",
   "metadata": {},
   "outputs": [],
   "source": [
    "def find_results_csv(directory):\n",
    "    \"\"\"Find the results.csv file in the specified directory.\"\"\"\n",
    "    for root, dirs, files in os.walk(directory):\n",
    "        if 'results.csv' in files:\n",
    "            return os.path.join(root, 'results.csv')\n",
    "    return None\n",
    "\n",
    "def load_results_csv(results_csv_path):\n",
    "    \"\"\"Load the results CSV into a pandas DataFrame.\"\"\"\n",
    "    return pd.read_csv(results_csv_path)\n",
    "\n",
    "def calculate_total_epochs(df):\n",
    "    \"\"\"Calculate the total number of epochs from the DataFrame.\"\"\"\n",
    "    return df['epoch'].max()\n",
    "\n",
    "def calculate_training_loss(epoch_data):\n",
    "    \"\"\"Calculate the total training loss from the given epoch data.\"\"\"\n",
    "    train_box_loss = epoch_data['train/box_loss']\n",
    "    train_cls_loss = epoch_data['train/cls_loss']\n",
    "    train_dfl_loss = epoch_data['train/dfl_loss']\n",
    "    return train_box_loss + train_cls_loss + train_dfl_loss\n",
    "\n",
    "def calculate_validation_loss(epoch_data):\n",
    "    \"\"\"Calculate the total validation loss from the given epoch data.\"\"\"\n",
    "    val_box_loss = epoch_data['val/box_loss']\n",
    "    val_cls_loss = epoch_data['val/cls_loss']\n",
    "    val_dfl_loss = epoch_data['val/dfl_loss']\n",
    "    return val_box_loss + val_cls_loss + val_dfl_loss\n",
    "\n",
    "def print_final_metrics(df):\n",
    "    \"\"\"Print the final metrics for the last epoch.\"\"\"\n",
    "    final_epoch_data = df.iloc[-1]\n",
    "\n",
    "    # Calculate total training and validation loss\n",
    "    train_loss = calculate_training_loss(final_epoch_data)\n",
    "    val_loss = calculate_validation_loss(final_epoch_data)\n",
    "\n",
    "    # Print overall metrics\n",
    "    print(\"\\n========== Final Training Metrics ==========\")\n",
    "    print(f\"Training Loss: {train_loss:.6f}\")\n",
    "    print(f\"Precision: {final_epoch_data['metrics/precision(B)']:.6f}\")\n",
    "    print(f\"Recall: {final_epoch_data['metrics/recall(B)']:.6f}\")\n",
    "    print(f\"mAP@0.5: {final_epoch_data['metrics/mAP50(B)']:.6f}\")\n",
    "    print(f\"mAP@0.5:0.95: {final_epoch_data['metrics/mAP50-95(B)']:.6f}\")\n",
    "\n",
    "    print(\"\\n========== Final Validation Metrics ==========\")\n",
    "    print(f\"Validation Loss: {val_loss:.6f}\")\n",
    "\n",
    "\n",
    "def print_csv_metrics(directory):\n",
    "    \"\"\"Main function to process and print final metrics.\"\"\"\n",
    "    # Find the results.csv file\n",
    "    results_csv_path = find_results_csv(directory)\n",
    "    \n",
    "    if not results_csv_path:\n",
    "        print(\"Error: 'results.csv' file not found in the specified directory.\")\n",
    "        return\n",
    "\n",
    "    print(f\"Found results.csv at: {results_csv_path}\")\n",
    "\n",
    "    # Load results CSV\n",
    "    df = load_results_csv(results_csv_path)\n",
    "\n",
    "    # Get the total number of epochs\n",
    "    total_epochs = calculate_total_epochs(df)\n",
    "    print(f\"Total number of epochs: {total_epochs}\")\n",
    "\n",
    "    print_final_metrics(df)\n"
   ]
  },
  {
   "cell_type": "markdown",
   "id": "dd88ee73",
   "metadata": {},
   "source": [
    "### Function to Compare Metrics Between Two YOLO Training Runs"
   ]
  },
  {
   "cell_type": "code",
   "execution_count": 46,
   "id": "801b09fe",
   "metadata": {},
   "outputs": [],
   "source": [
    "import pandas as pd\n",
    "\n",
    "def compare_final_metrics(csv1_path, csv2_path):\n",
    "    df1 = pd.read_csv(csv1_path)\n",
    "    df2 = pd.read_csv(csv2_path)\n",
    "\n",
    "    last1 = df1.iloc[-1]\n",
    "    last2 = df2.iloc[-1]\n",
    "\n",
    "    metrics_to_compare = {\n",
    "        \"train/box_loss\": \"Box Loss (Train)\",\n",
    "        \"train/cls_loss\": \"Cls Loss (Train)\",\n",
    "        \"train/dfl_loss\": \"DFL Loss (Train)\",\n",
    "        \"metrics/precision(B)\": \"Precision\",\n",
    "        \"metrics/recall(B)\": \"Recall\",\n",
    "        \"metrics/mAP50(B)\": \"mAP@0.5\",\n",
    "        \"metrics/mAP50-95(B)\": \"mAP@0.5:0.95\",\n",
    "        \"val/box_loss\": \"Box Loss (Val)\",\n",
    "        \"val/cls_loss\": \"Cls Loss (Val)\",\n",
    "        \"val/dfl_loss\": \"DFL Loss (Val)\"\n",
    "    }\n",
    "\n",
    "    print(\"Changes in Metrics Before and After Retraning:\\n\")\n",
    "    print(f\"{'Metric':<25} {'Before':<10} {'After':<10} {'Diff':<10} {'Trend'}\")\n",
    "    print(\"-\" * 65)\n",
    "\n",
    "    for key, label in metrics_to_compare.items():\n",
    "        val1 = last1[key]\n",
    "        val2 = last2[key]\n",
    "        diff = val2 - val1\n",
    "        if abs(diff) > 1e-6:\n",
    "            # If increase, color green; if decrease, color red\n",
    "            if diff > 0:\n",
    "                trend = f\"\\033[92m Increase\\033[0m\"  # Green\n",
    "            else:\n",
    "                trend = f\"\\033[91m Decrease\\033[0m\"  # Red\n",
    "\n",
    "            # Printing with colors\n",
    "            print(f\"{label:<25} {val1:<10.5f} {val2:<10.5f} {diff:<10.5f} {trend}\")\n"
   ]
  },
  {
   "cell_type": "markdown",
   "id": "515f884a",
   "metadata": {},
   "source": [
    "### Function to Compare mAP@0.5:0.95 Metrics Between Two Models (Before and After Retraining)"
   ]
  },
  {
   "cell_type": "code",
   "execution_count": null,
   "id": "1f9f96f7",
   "metadata": {},
   "outputs": [],
   "source": [
    "import json\n",
    "\n",
    "def compare_maps(json_path1, json_path2):\n",
    "    with open(json_path1, 'r') as f1, open(json_path2, 'r') as f2:\n",
    "        metrics1 = json.load(f1)\n",
    "        metrics2 = json.load(f2)\n",
    "\n",
    "    print(\"\\nmAP@0.5:0.95 Differences Before and After Retraning:\\n\")\n",
    "    print(f\"{'Class':<15} {'Before':<10} {'After':<10} {'Diff':<10} {'Trend'}\")\n",
    "    print(\"-\" * 60)\n",
    "\n",
    "    for class_name in metrics1:\n",
    "        map1 = metrics1[class_name].get(\"mAP@0.5:0.95\", 0)\n",
    "        map2 = metrics2.get(class_name, {}).get(\"mAP@0.5:0.95\", 0)\n",
    "\n",
    "        diff = map2 - map1\n",
    "        if abs(diff) > 1e-6:\n",
    "            if diff > 0:\n",
    "                trend = f\"\\033[92m Increase\\033[0m\"  # Green for increase\n",
    "            else:\n",
    "                trend = f\"\\033[91m Decrease\\033[0m\"  # Red for decrease\n",
    "\n",
    "            # Printing with colors\n",
    "            print(f\"{class_name:<15} {map1:<10.4f} {map2:<10.4f} {diff:<10.4f} {trend}\")\n"
   ]
  },
  {
   "cell_type": "markdown",
   "id": "a571c798",
   "metadata": {},
   "source": [
    "### YOLO Model Evaluation and Metrics Extraction"
   ]
  },
  {
   "cell_type": "code",
   "execution_count": null,
   "id": "565fb52f",
   "metadata": {},
   "outputs": [],
   "source": [
    "import json\n",
    "from ultralytics import YOLO\n",
    "\n",
    "def load_yolo_model(model_path):\n",
    "    return YOLO(model_path)\n",
    "\n",
    "def run_model_validation(model, yaml):\n",
    "    return model.val(data=yaml)\n",
    "\n",
    "def extract_per_class_metrics(results):\n",
    "    \"\"\"\n",
    "    Extracts mAP@0.5:0.95 per class from results.\n",
    "    NOTE: Only mAP@0.5:0.95 is available via `results.box.maps`\n",
    "    \"\"\"\n",
    "    per_class_metrics = {}\n",
    "    if hasattr(results.box, 'maps') and results.box.maps is not None:\n",
    "        maps = results.box.maps  # This is a NumPy array [num_classes]\n",
    "        for i, name in results.names.items():\n",
    "            per_class_metrics[name] = {\n",
    "                \"class_id\": i,\n",
    "                \"mAP@0.5:0.95\": round(float(maps[i]), 4)\n",
    "            }\n",
    "    else:\n",
    "        print(\"[-] No per-class mAP@0.5:0.95 data found.\")\n",
    "    return per_class_metrics\n",
    "\n",
    "def save_metrics_to_json(metrics, output_path):\n",
    "    with open(output_path, \"w\") as f:\n",
    "        json.dump(metrics, f, indent=4)\n",
    "    print(f\"[+] Saved per-class metrics to {output_path}\")\n",
    "\n",
    "def evaluate_and_save_metrics(model_path, yaml, output_json_path=\"per_class_metrics.json\"):\n",
    "    model = load_yolo_model(model_path)\n",
    "    results = run_model_validation(model, yaml)\n",
    "    metrics = extract_per_class_metrics(results)\n",
    "    save_metrics_to_json(metrics, output_json_path)"
   ]
  },
  {
   "cell_type": "markdown",
   "id": "89860d7a",
   "metadata": {},
   "source": [
    "### Per-Class mAP@0.5:0.95 Metrics Extraction and Display"
   ]
  },
  {
   "cell_type": "code",
   "execution_count": 49,
   "id": "f44129ab",
   "metadata": {},
   "outputs": [],
   "source": [
    "import json\n",
    "\n",
    "def print_per_class_metrics(json_path=\"per_class_metrics.json\"):\n",
    "    with open(json_path, \"r\") as f:\n",
    "        metrics = json.load(f)\n",
    "    \n",
    "    print(\"Per-Class mAP@0.5:0.95 Metrics:\\n\")\n",
    "    print(f\"{'Class Name':<15} {'Class ID':<10} {'mAP@0.5:0.95':<15}\")\n",
    "    print(\"-\" * 40)\n",
    "    \n",
    "    for name, data in metrics.items():\n",
    "        print(f\"{name:<15} {data['class_id']:<10} {data['mAP@0.5:0.95']:<15}\")\n"
   ]
  },
  {
   "cell_type": "markdown",
   "id": "628dbf2a",
   "metadata": {},
   "source": [
    "## Calling Functions"
   ]
  },
  {
   "cell_type": "markdown",
   "id": "42a274fb",
   "metadata": {},
   "source": [
    "### Before Retraning"
   ]
  },
  {
   "cell_type": "code",
   "execution_count": 50,
   "id": "d24f63fd",
   "metadata": {},
   "outputs": [
    {
     "name": "stdout",
     "output_type": "stream",
     "text": [
      "Found results.csv at: ./runs/train/yolov8/results.csv\n",
      "Total number of epochs: 100\n",
      "\n",
      "========== Final Training Metrics ==========\n",
      "Training Loss: 1.890630\n",
      "Precision: 0.567870\n",
      "Recall: 0.301020\n",
      "mAP@0.5: 0.316460\n",
      "mAP@0.5:0.95: 0.202430\n",
      "\n",
      "========== Final Validation Metrics ==========\n",
      "Validation Loss: 5.499160\n"
     ]
    }
   ],
   "source": [
    "yolov8 = './runs/train/yolov8'\n",
    "print_csv_metrics(yolov8)"
   ]
  },
  {
   "cell_type": "code",
   "execution_count": 51,
   "id": "74072972",
   "metadata": {},
   "outputs": [
    {
     "name": "stdout",
     "output_type": "stream",
     "text": [
      "[+] Found best.pt at: runs/train/yolov8/weights/best.pt\n",
      "Ultralytics 8.3.109 🚀 Python-3.10.13 torch-2.6.0+cu124 CUDA:0 (NVIDIA GeForce RTX 3050 OEM, 7957MiB)\n"
     ]
    },
    {
     "name": "stdout",
     "output_type": "stream",
     "text": [
      "Model summary (fused): 72 layers, 3,008,378 parameters, 0 gradients, 8.1 GFLOPs\n"
     ]
    },
    {
     "name": "stderr",
     "output_type": "stream",
     "text": [
      "\u001b[34m\u001b[1mval: \u001b[0mScanning /home/ssl49/Desktop/Automated-Labeling-for-Aerial-Images-main/Automated_SegmentAndYolo/datasets/new_dataset_yolo_split/val/labels.cache... 1181 images, 0 backgrounds, 0 corrupt: 100%|██████████| 1181/1181 [00:00<?, ?it/s]\n",
      "                 Class     Images  Instances      Box(P          R      mAP50  mAP50-95): 100%|██████████| 74/74 [00:09<00:00,  7.84it/s]\n"
     ]
    },
    {
     "name": "stdout",
     "output_type": "stream",
     "text": [
      "                   all       1181      70393      0.516      0.298      0.327      0.214\n",
      "                  pool          9          9      0.703      0.889      0.874      0.742\n",
      "            vegetation         75       1780      0.533      0.266      0.271      0.144\n",
      "                  roof         42         79     0.0482      0.722      0.528      0.429\n",
      "                  wall         62        255      0.223      0.224      0.196      0.117\n",
      "                window         38        139      0.612      0.324      0.361       0.22\n",
      "                person         75        637      0.874      0.293      0.364       0.19\n",
      "                   dog          6         12      0.286     0.0833      0.121     0.0591\n",
      "                   car       1115      53669      0.822      0.283      0.486      0.243\n",
      "               bicycle         32         53      0.431      0.302      0.335      0.141\n",
      "                  tree         38        108      0.735      0.463      0.492      0.352\n",
      "                 truck        907       3904      0.559    0.00422     0.0721      0.036\n",
      "                   bus        169        169          0          0          0          0\n",
      "               vehicle       1079       9579      0.883     0.0181      0.152      0.115\n",
      "Speed: 0.2ms preprocess, 2.7ms inference, 0.0ms loss, 2.3ms postprocess per image\n",
      "Results saved to \u001b[1mruns/detect/val14\u001b[0m\n",
      "[+] Saved per-class metrics to per_class_metrics.json\n"
     ]
    }
   ],
   "source": [
    "best_pt_path = find_best_model(yolov8)\n",
    "evaluate_and_save_metrics(best_pt_path, yaml=\"yolov8.yaml\",output_json_path=\"per_class_metrics.json\")"
   ]
  },
  {
   "cell_type": "code",
   "execution_count": 52,
   "id": "9f87c283",
   "metadata": {},
   "outputs": [
    {
     "name": "stdout",
     "output_type": "stream",
     "text": [
      "Per-Class mAP@0.5:0.95 Metrics:\n",
      "\n",
      "Class Name      Class ID   mAP@0.5:0.95   \n",
      "----------------------------------------\n",
      "unlabeled       0          0.2145         \n",
      "pool            1          0.7424         \n",
      "vegetation      2          0.1437         \n",
      "roof            3          0.4295         \n",
      "wall            4          0.1173         \n",
      "window          5          0.2202         \n",
      "person          6          0.1895         \n",
      "dog             7          0.0591         \n",
      "car             8          0.2427         \n",
      "bicycle         9          0.1408         \n",
      "tree            10         0.3524         \n",
      "truck           11         0.036          \n",
      "bus             12         0.0            \n",
      "vehicle         13         0.1147         \n"
     ]
    }
   ],
   "source": [
    "print_per_class_metrics(\"per_class_metrics.json\")"
   ]
  },
  {
   "cell_type": "markdown",
   "id": "f8fe6772",
   "metadata": {},
   "source": [
    "### After Retraning"
   ]
  },
  {
   "cell_type": "code",
   "execution_count": 53,
   "id": "e8d41ebf",
   "metadata": {},
   "outputs": [
    {
     "name": "stdout",
     "output_type": "stream",
     "text": [
      "Found results.csv at: ./runs/train/fine-tune-yolov8/results.csv\n",
      "Total number of epochs: 10\n",
      "\n",
      "========== Final Training Metrics ==========\n",
      "Training Loss: 1.996340\n",
      "Precision: 0.565270\n",
      "Recall: 0.540430\n",
      "mAP@0.5: 0.588980\n",
      "mAP@0.5:0.95: 0.461290\n",
      "\n",
      "========== Final Validation Metrics ==========\n",
      "Validation Loss: 2.772980\n"
     ]
    }
   ],
   "source": [
    "new_path = './runs/train/fine-tune-yolov8'\n",
    "print_csv_metrics(new_path)"
   ]
  },
  {
   "cell_type": "code",
   "execution_count": 54,
   "id": "c511331b",
   "metadata": {},
   "outputs": [
    {
     "name": "stdout",
     "output_type": "stream",
     "text": [
      "[+] Found best.pt at: runs/train/fine-tune-yolov8/weights/best.pt\n",
      "Ultralytics 8.3.109 🚀 Python-3.10.13 torch-2.6.0+cu124 CUDA:0 (NVIDIA GeForce RTX 3050 OEM, 7957MiB)\n",
      "Model summary (fused): 72 layers, 3,008,378 parameters, 0 gradients, 8.1 GFLOPs\n"
     ]
    },
    {
     "name": "stderr",
     "output_type": "stream",
     "text": [
      "\u001b[34m\u001b[1mval: \u001b[0mScanning /home/ssl49/Desktop/Automated-Labeling-for-Aerial-Images-main/Automated_SegmentAndYolo/datasets/split_videos_dataset/val/labels.cache... 2101 images, 0 backgrounds, 0 corrupt: 100%|██████████| 2101/2101 [00:00<?, ?it/s]\n",
      "                 Class     Images  Instances      Box(P          R      mAP50  mAP50-95): 100%|██████████| 132/132 [00:09<00:00, 13.97it/s]\n"
     ]
    },
    {
     "name": "stdout",
     "output_type": "stream",
     "text": [
      "                   all       2101       4219       0.46      0.616      0.589      0.467\n",
      "                  pool          3          3      0.742          1      0.995      0.796\n",
      "                  roof       1092       1541      0.754      0.913      0.931      0.786\n",
      "                  wall        560        587      0.552      0.796      0.776      0.643\n",
      "                window        108        117       0.25      0.592      0.381      0.271\n",
      "                person        953       1451      0.589      0.642      0.635      0.496\n",
      "               bicycle         83         88      0.187      0.217      0.169      0.112\n",
      "                  tree        394        422      0.588      0.751      0.764      0.589\n",
      "               vehicle         10         10     0.0196     0.0176     0.0572      0.046\n",
      "Speed: 0.2ms preprocess, 2.9ms inference, 0.0ms loss, 0.2ms postprocess per image\n",
      "Results saved to \u001b[1mruns/detect/val15\u001b[0m\n",
      "[+] Saved per-class metrics to per_class_metrics_retrain.json\n"
     ]
    }
   ],
   "source": [
    "best_pt_path = find_best_model(new_path)\n",
    "evaluate_and_save_metrics(best_pt_path, yaml=\"yolo_retrain.yaml\",output_json_path=\"per_class_metrics_retrain.json\")"
   ]
  },
  {
   "cell_type": "code",
   "execution_count": 55,
   "id": "d016be73",
   "metadata": {},
   "outputs": [
    {
     "name": "stdout",
     "output_type": "stream",
     "text": [
      "Per-Class mAP@0.5:0.95 Metrics:\n",
      "\n",
      "Class Name      Class ID   mAP@0.5:0.95   \n",
      "----------------------------------------\n",
      "unlabeled       0          0.4673         \n",
      "pool            1          0.796          \n",
      "vegetation      2          0.4673         \n",
      "roof            3          0.7855         \n",
      "wall            4          0.6431         \n",
      "window          5          0.2713         \n",
      "person          6          0.496          \n",
      "dog             7          0.4673         \n",
      "car             8          0.4673         \n",
      "bicycle         9          0.1123         \n",
      "tree            10         0.5887         \n",
      "truck           11         0.4673         \n",
      "bus             12         0.4673         \n",
      "vehicle         13         0.046          \n"
     ]
    }
   ],
   "source": [
    "print_per_class_metrics(\"per_class_metrics_retrain.json\")"
   ]
  },
  {
   "cell_type": "markdown",
   "id": "22530f34",
   "metadata": {},
   "source": [
    "### Compare both metrics"
   ]
  },
  {
   "cell_type": "code",
   "execution_count": 56,
   "id": "0187f8d1",
   "metadata": {},
   "outputs": [
    {
     "name": "stdout",
     "output_type": "stream",
     "text": [
      "Changes in Metrics Before and After Retraning:\n",
      "\n",
      "Metric                    Before     After      Diff       Trend\n",
      "-----------------------------------------------------------------\n",
      "Box Loss (Train)          0.65540    0.67524    0.01984    \u001b[92m Increase\u001b[0m\n",
      "Cls Loss (Train)          0.39123    0.44638    0.05515    \u001b[92m Increase\u001b[0m\n",
      "DFL Loss (Train)          0.84400    0.87472    0.03072    \u001b[92m Increase\u001b[0m\n",
      "Precision                 0.56787    0.56527    -0.00260   \u001b[91m Decrease\u001b[0m\n",
      "Recall                    0.30102    0.54043    0.23941    \u001b[92m Increase\u001b[0m\n",
      "mAP@0.5                   0.31646    0.58898    0.27252    \u001b[92m Increase\u001b[0m\n",
      "mAP@0.5:0.95              0.20243    0.46129    0.25886    \u001b[92m Increase\u001b[0m\n",
      "Box Loss (Val)            2.04225    0.83381    -1.20844   \u001b[91m Decrease\u001b[0m\n",
      "Cls Loss (Val)            2.38927    0.89746    -1.49181   \u001b[91m Decrease\u001b[0m\n",
      "DFL Loss (Val)            1.06764    1.04171    -0.02593   \u001b[91m Decrease\u001b[0m\n"
     ]
    }
   ],
   "source": [
    "new_path = './runs/train/fine-tune-yolov8'\n",
    "old_path = './runs/train/yolov8'\n",
    "\n",
    "results_csv_path = find_results_csv(new_path)\n",
    "results_csv_path_1 = find_results_csv(old_path)\n",
    "\n",
    "compare_final_metrics(results_csv_path_1, results_csv_path)"
   ]
  },
  {
   "cell_type": "code",
   "execution_count": 57,
   "id": "cb5c726c",
   "metadata": {},
   "outputs": [
    {
     "name": "stdout",
     "output_type": "stream",
     "text": [
      "\n",
      "mAP@0.5:0.95 Differences Before and After Retraning:\n",
      "\n",
      "Class           Before     After      Diff       Trend\n",
      "------------------------------------------------------------\n",
      "unlabeled       0.2145     0.4673     0.2528     \u001b[92m Increase\u001b[0m\n",
      "pool            0.7424     0.7960     0.0536     \u001b[92m Increase\u001b[0m\n",
      "vegetation      0.1437     0.4673     0.3236     \u001b[92m Increase\u001b[0m\n",
      "roof            0.4295     0.7855     0.3560     \u001b[92m Increase\u001b[0m\n",
      "wall            0.1173     0.6431     0.5258     \u001b[92m Increase\u001b[0m\n",
      "window          0.2202     0.2713     0.0511     \u001b[92m Increase\u001b[0m\n",
      "person          0.1895     0.4960     0.3065     \u001b[92m Increase\u001b[0m\n",
      "dog             0.0591     0.4673     0.4082     \u001b[92m Increase\u001b[0m\n",
      "car             0.2427     0.4673     0.2246     \u001b[92m Increase\u001b[0m\n",
      "bicycle         0.1408     0.1123     -0.0285    \u001b[91m Decrease\u001b[0m\n",
      "tree            0.3524     0.5887     0.2363     \u001b[92m Increase\u001b[0m\n",
      "truck           0.0360     0.4673     0.4313     \u001b[92m Increase\u001b[0m\n",
      "bus             0.0000     0.4673     0.4673     \u001b[92m Increase\u001b[0m\n",
      "vehicle         0.1147     0.0460     -0.0687    \u001b[91m Decrease\u001b[0m\n"
     ]
    }
   ],
   "source": [
    "compare_maps(\"per_class_metrics.json\", \"per_class_metrics_retrain.json\")"
   ]
  }
 ],
 "metadata": {
  "kernelspec": {
   "display_name": "Python 3",
   "language": "python",
   "name": "python3"
  },
  "language_info": {
   "codemirror_mode": {
    "name": "ipython",
    "version": 3
   },
   "file_extension": ".py",
   "mimetype": "text/x-python",
   "name": "python",
   "nbconvert_exporter": "python",
   "pygments_lexer": "ipython3",
   "version": "3.10.13"
  }
 },
 "nbformat": 4,
 "nbformat_minor": 5
}
