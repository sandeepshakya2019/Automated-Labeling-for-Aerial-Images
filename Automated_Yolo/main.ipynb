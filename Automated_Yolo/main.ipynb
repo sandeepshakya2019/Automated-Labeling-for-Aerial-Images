{
 "cells": [
  {
   "cell_type": "markdown",
   "id": "422e53a6",
   "metadata": {},
   "source": [
    "# Download Dataset"
   ]
  },
  {
   "cell_type": "code",
   "execution_count": 9,
   "id": "9e3d7d25",
   "metadata": {},
   "outputs": [],
   "source": [
    "# !pip install gdown"
   ]
  },
  {
   "cell_type": "code",
   "execution_count": null,
   "id": "9bfac64a",
   "metadata": {},
   "outputs": [
    {
     "name": "stdout",
     "output_type": "stream",
     "text": [
      "[INFO] Downloading ZIP from Google Drive...\n"
     ]
    },
    {
     "name": "stderr",
     "output_type": "stream",
     "text": [
      "Downloading...\n",
      "From (original): https://drive.google.com/uc?id=12cbrTaBAMIsuU-mwAA7IgDk9wSLC9cC-\n",
      "From (redirected): https://drive.google.com/uc?id=12cbrTaBAMIsuU-mwAA7IgDk9wSLC9cC-&confirm=t&uuid=8c3c49cd-c5fe-4404-8e0f-d4cff3377313\n",
      "To: c:\\Users\\sande\\OneDrive\\Desktop\\IITTP\\2_Asgn\\Sem2\\2_dl\\SemProject\\Automated_Yolo\\dataset\\downloaded.zip\n",
      "100%|██████████| 5.21G/5.21G [02:48<00:00, 30.9MB/s]\n"
     ]
    },
    {
     "name": "stdout",
     "output_type": "stream",
     "text": [
      "[INFO] Extracting ZIP...\n",
      "[DONE] Extracted files to: dataset\n"
     ]
    }
   ],
   "source": [
    "# import gdown\n",
    "# import zipfile\n",
    "# import os\n",
    "\n",
    "# def download_and_extract_from_gdrive(gdrive_url, extract_to=\"extracted\"):\n",
    "#     # Convert shared drive URL to direct download URL\n",
    "#     file_id = gdrive_url.split(\"/d/\")[1].split(\"/\")[0]\n",
    "#     download_url = f\"https://drive.google.com/uc?id={file_id}\"\n",
    "\n",
    "#     # Create output folder\n",
    "#     os.makedirs(extract_to, exist_ok=True)\n",
    "\n",
    "#     zip_path = os.path.join(extract_to, \"downloaded.zip\")\n",
    "\n",
    "#     print(\"[INFO] Downloading ZIP from Google Drive...\")\n",
    "#     gdown.download(download_url, zip_path, quiet=False)\n",
    "\n",
    "#     print(\"[INFO] Extracting ZIP...\")\n",
    "#     with zipfile.ZipFile(zip_path, 'r') as zip_ref:\n",
    "#         zip_ref.extractall(extract_to)\n",
    "\n",
    "#     # Optionally, remove the ZIP file after extraction\n",
    "#     os.remove(zip_path)\n",
    "\n",
    "#     print(f\"[DONE] Extracted files to: {extract_to}\")\n",
    "\n",
    "# # --------- Usage ----------\n",
    "# gdrive_url = \"https://drive.google.com/file/d/12cbrTaBAMIsuU-mwAA7IgDk9wSLC9cC-/view?usp=sharing\"\n",
    "# download_and_extract_from_gdrive(gdrive_url, extract_to=\"dataset\")"
   ]
  },
  {
   "cell_type": "markdown",
   "id": "5be1f5e3",
   "metadata": {},
   "source": [
    "# Convert dataset into yolo format"
   ]
  },
  {
   "cell_type": "code",
   "execution_count": 4,
   "id": "31d5bd3c",
   "metadata": {},
   "outputs": [],
   "source": [
    "import os\n",
    "from PIL import Image\n",
    "from tqdm.auto import tqdm\n",
    "\n",
    "def convert_annotation(input_path, output_path, image_path, stats):\n",
    "    try:\n",
    "        image = Image.open(image_path)\n",
    "        image_width, image_height = image.size\n",
    "    except Exception as e:\n",
    "        print(f\"⚠️  Could not open image: {image_path} — {e}\")\n",
    "        stats[\"missing_image\"] += 1\n",
    "        return\n",
    "\n",
    "    with open(input_path, \"r\") as infile, open(output_path, \"w\") as outfile:\n",
    "        for line in infile:\n",
    "            parts = line.strip().split(\",\")\n",
    "            if len(parts) < 6:\n",
    "                stats[\"malformed\"] += 1\n",
    "                continue\n",
    "\n",
    "            x, y, w, h = map(int, parts[:4])\n",
    "            class_id_raw = int(parts[5])\n",
    "            stats[\"total\"] += 1\n",
    "\n",
    "            if class_id_raw not in [0, 1, 2, 3]:\n",
    "                stats[\"skipped\"][class_id_raw] += 1\n",
    "                continue\n",
    "\n",
    "            stats[\"converted\"] += 1\n",
    "\n",
    "            x_center = (x + w / 2) / image_width\n",
    "            y_center = (y + h / 2) / image_height\n",
    "            w_norm = w / image_width\n",
    "            h_norm = h / image_height\n",
    "\n",
    "            outfile.write(f\"{class_id_raw} {x_center:.6f} {y_center:.6f} {w_norm:.6f} {h_norm:.6f}\\n\")"
   ]
  },
  {
   "cell_type": "code",
   "execution_count": 5,
   "id": "89ec9090",
   "metadata": {},
   "outputs": [
    {
     "name": "stdout",
     "output_type": "stream",
     "text": [
      "🔄 Converting 30946 annotation files to YOLO format with dynamic image size...\n"
     ]
    },
    {
     "data": {
      "application/vnd.jupyter.widget-view+json": {
       "model_id": "6a2392b652a34e909cd3fd77220decca",
       "version_major": 2,
       "version_minor": 0
      },
      "text/plain": [
       "Converting:   0%|          | 0/30946 [00:00<?, ?file/s]"
      ]
     },
     "metadata": {},
     "output_type": "display_data"
    },
    {
     "name": "stdout",
     "output_type": "stream",
     "text": [
      "\n",
      "✅ Conversion complete.\n",
      "📊 Total boxes:     868139\n",
      "✅ Converted boxes: 868139\n",
      "❌ Skipped boxes:   0\n",
      "⚠️ Malformed lines: 0\n",
      "🖼️  Missing images: 0\n"
     ]
    }
   ],
   "source": [
    "from collections import defaultdict\n",
    "from glob import glob\n",
    "from tqdm.auto import tqdm\n",
    "\n",
    "\n",
    "root_dir = \"./dataset/UAVDT-2024\"\n",
    "annotation_paths = glob(os.path.join(root_dir, \"M*/annotations/*.txt\"))\n",
    "total_files = len(annotation_paths)\n",
    "\n",
    "stats = {\n",
    "    \"total\": 0,\n",
    "    \"converted\": 0,\n",
    "    \"malformed\": 0,\n",
    "    \"missing_image\": 0,\n",
    "    \"skipped\": defaultdict(int)\n",
    "}\n",
    "\n",
    "print(f\"🔄 Converting {total_files} annotation files to YOLO format with dynamic image size...\")\n",
    "\n",
    "for anno_path in tqdm(annotation_paths, desc=\"Converting\", unit=\"file\"):\n",
    "    sequence_dir = os.path.dirname(os.path.dirname(anno_path))  # Mxxxx\n",
    "    file_name = os.path.basename(anno_path)\n",
    "\n",
    "    label_dir = os.path.join(sequence_dir, \"labels\")\n",
    "    os.makedirs(label_dir, exist_ok=True)\n",
    "\n",
    "    label_path = os.path.join(label_dir, file_name)\n",
    "\n",
    "        # 🔍 Construct image path\n",
    "    image_name = file_name.replace(\".txt\", \".jpg\")\n",
    "    image_path = os.path.join(sequence_dir, \"images\", image_name)\n",
    "\n",
    "    convert_annotation(anno_path, label_path, image_path, stats)\n",
    "\n",
    "print(\"\\n✅ Conversion complete.\")\n",
    "print(f\"📊 Total boxes:     {stats['total']}\")\n",
    "print(f\"✅ Converted boxes: {stats['converted']}\")\n",
    "print(f\"❌ Skipped boxes:   {sum(stats['skipped'].values())}\")\n",
    "for cls, count in sorted(stats[\"skipped\"].items()):\n",
    "    print(f\"   - Skipped class {cls}: {count}\")\n",
    "print(f\"⚠️ Malformed lines: {stats['malformed']}\")\n",
    "print(f\"🖼️  Missing images: {stats['missing_image']}\")\n"
   ]
  },
  {
   "cell_type": "markdown",
   "id": "425da023",
   "metadata": {},
   "source": [
    "# Split into train and test sets"
   ]
  },
  {
   "cell_type": "code",
   "execution_count": 6,
   "id": "05a7f9e8",
   "metadata": {},
   "outputs": [],
   "source": [
    "# save this as split_uavdt_train_val.py\n",
    "\n",
    "import os\n",
    "import shutil\n",
    "from glob import glob\n",
    "from sklearn.model_selection import train_test_split\n",
    "from tqdm.auto import tqdm\n",
    "\n",
    "def copy_split_sequences(src_root, dst_root, train_ratio=0.8):\n",
    "    all_sequences = sorted(glob(os.path.join(src_root, \"M*\")))\n",
    "    train_seqs, val_seqs = train_test_split(all_sequences, train_size=train_ratio, random_state=42)\n",
    "\n",
    "    for split_name, split_list in zip(['train', 'val'], [train_seqs, val_seqs]):\n",
    "        for seq_path in tqdm(split_list):\n",
    "            images_src = os.path.join(seq_path, \"images\")\n",
    "            labels_src = os.path.join(seq_path, \"labels\")\n",
    "          \n",
    "            images_dst = os.path.join(dst_root, split_name, \"images\")\n",
    "            labels_dst = os.path.join(dst_root, split_name, \"labels\")\n",
    "\n",
    "            os.makedirs(images_dst, exist_ok=True)\n",
    "            os.makedirs(labels_dst, exist_ok=True)\n",
    "\n",
    "            for img_file in glob(os.path.join(images_src, \"*.jpg\")):\n",
    "                shutil.copy(img_file, os.path.join(images_dst, os.path.basename(img_file)))\n",
    "                \n",
    "            for label_file in glob(os.path.join(labels_src, \"*.txt\")):\n",
    "                shutil.copy(label_file, os.path.join(labels_dst, os.path.basename(label_file)))\n",
    "            \n",
    "\n",
    "    print(\"✅ Split complete into train/ and val/\")\n"
   ]
  },
  {
   "cell_type": "code",
   "execution_count": 7,
   "id": "6afb0170",
   "metadata": {},
   "outputs": [
    {
     "data": {
      "application/vnd.jupyter.widget-view+json": {
       "model_id": "42027990ebdb4be9bb1550773b60a339",
       "version_major": 2,
       "version_minor": 0
      },
      "text/plain": [
       "  0%|          | 0/37 [00:00<?, ?it/s]"
      ]
     },
     "metadata": {},
     "output_type": "display_data"
    },
    {
     "data": {
      "application/vnd.jupyter.widget-view+json": {
       "model_id": "593457c91bf147c0bf5a802e6efaa051",
       "version_major": 2,
       "version_minor": 0
      },
      "text/plain": [
       "  0%|          | 0/10 [00:00<?, ?it/s]"
      ]
     },
     "metadata": {},
     "output_type": "display_data"
    },
    {
     "name": "stdout",
     "output_type": "stream",
     "text": [
      "✅ Split complete into train/ and val/\n"
     ]
    }
   ],
   "source": [
    "src_root = \"./dataset/UAVDT-2024\"\n",
    "dst_root = \"./dataset/UAVDT-processed\"\n",
    "copy_split_sequences(src_root, dst_root)\n"
   ]
  },
  {
   "cell_type": "markdown",
   "id": "315dff76",
   "metadata": {},
   "source": [
    "# Dataset visulaization"
   ]
  },
  {
   "cell_type": "code",
   "execution_count": 10,
   "id": "84e416e7",
   "metadata": {},
   "outputs": [],
   "source": [
    "# import os\n",
    "# import matplotlib.pyplot as plt\n",
    "# import matplotlib.patches as patches\n",
    "# from PIL import Image\n",
    "\n",
    "# # Paths\n",
    "# image_dir = \"./dataset/UAVDT-processed/train/images\"\n",
    "# label_dir = \"./dataset/UAVDT-processed/train/labels\"\n",
    "\n",
    "# # Get first 5 image files\n",
    "# image_files = sorted([f for f in os.listdir(image_dir) if f.endswith(\".jpg\")])[:20]\n",
    "\n",
    "# # Class ID to name mapping (modify this as needed)\n",
    "# class_id_to_name = {\n",
    "#     0: \"car\",\n",
    "#     1: \"truck\",\n",
    "#     2: \"bus\",\n",
    "#     3: \"van\"  # if used\n",
    "# }\n",
    "\n",
    "# # Visualization loop\n",
    "# for img_name in image_files:\n",
    "#     img_path = os.path.join(image_dir, img_name)\n",
    "#     label_path = os.path.join(label_dir, img_name.replace(\".jpg\", \".txt\"))\n",
    "\n",
    "#     # Open image\n",
    "#     image = Image.open(img_path)\n",
    "#     width, height = image.size\n",
    "\n",
    "#     # Plot setup\n",
    "#     fig, ax = plt.subplots(1)\n",
    "#     ax.imshow(image)\n",
    "\n",
    "#     # Read and draw bounding boxes\n",
    "#     if os.path.exists(label_path):\n",
    "#         with open(label_path, 'r') as f:\n",
    "#             for line in f.readlines():\n",
    "#                 class_id, x_center, y_center, w, h = map(float, line.strip().split())\n",
    "\n",
    "#                 # Convert YOLO format to (x1, y1) top-left corner\n",
    "#                 x1 = (x_center - w / 2) * width\n",
    "#                 y1 = (y_center - h / 2) * height\n",
    "#                 box_w = w * width\n",
    "#                 box_h = h * height\n",
    "\n",
    "#                 rect = patches.Rectangle((x1, y1), box_w, box_h, linewidth=2, edgecolor='r', facecolor='none')\n",
    "#                 ax.add_patch(rect)\n",
    "#                 label = class_id_to_name.get(int(class_id), f\"Class {int(class_id)}\")\n",
    "#                 ax.text(x1, y1 - 5, label, color='white', bbox=dict(facecolor='red', alpha=0.5))\n",
    "\n",
    "#     ax.set_title(f\"Image: {img_name}\")\n",
    "#     plt.axis('off')\n",
    "#     plt.show()\n"
   ]
  },
  {
   "cell_type": "markdown",
   "id": "62f39975",
   "metadata": {},
   "source": [
    "# Training Yolo Model on Datsets"
   ]
  },
  {
   "cell_type": "code",
   "execution_count": 13,
   "id": "7dbef7a0",
   "metadata": {},
   "outputs": [
    {
     "name": "stdout",
     "output_type": "stream",
     "text": [
      "Ultralytics 8.3.107  Python-3.12.4 torch-2.5.1+cpu CPU (AMD Ryzen 7 5800H with Radeon Graphics)\n",
      "\u001b[34m\u001b[1mengine\\trainer: \u001b[0mtask=detect, mode=train, model=yolov8n.pt, data=uavdt.yaml, epochs=1, time=None, patience=100, batch=32, imgsz=640, save=True, save_period=-1, cache=False, device=None, workers=8, project=runs/train, name=yolov8-uavdt3, exist_ok=False, pretrained=True, optimizer=auto, verbose=True, seed=0, deterministic=True, single_cls=False, rect=False, cos_lr=False, close_mosaic=10, resume=False, amp=True, fraction=1.0, profile=False, freeze=None, multi_scale=False, overlap_mask=True, mask_ratio=4, dropout=0.0, val=True, split=val, save_json=False, conf=None, iou=0.7, max_det=300, half=False, dnn=False, plots=True, source=None, vid_stride=1, stream_buffer=False, visualize=False, augment=False, agnostic_nms=False, classes=None, retina_masks=False, embed=None, show=False, save_frames=False, save_txt=False, save_conf=False, save_crop=False, show_labels=True, show_conf=True, show_boxes=True, line_width=None, format=torchscript, keras=False, optimize=False, int8=False, dynamic=False, simplify=True, opset=None, workspace=None, nms=False, lr0=0.01, lrf=0.01, momentum=0.937, weight_decay=0.0005, warmup_epochs=3.0, warmup_momentum=0.8, warmup_bias_lr=0.1, box=7.5, cls=0.5, dfl=1.5, pose=12.0, kobj=1.0, nbs=64, hsv_h=0.015, hsv_s=0.7, hsv_v=0.4, degrees=0.0, translate=0.1, scale=0.5, shear=0.0, perspective=0.0, flipud=0.0, fliplr=0.5, bgr=0.0, mosaic=1.0, mixup=0.0, copy_paste=0.0, copy_paste_mode=flip, auto_augment=randaugment, erasing=0.4, crop_fraction=1.0, cfg=None, tracker=botsort.yaml, save_dir=runs\\train\\yolov8-uavdt3\n",
      "Overriding model.yaml nc=80 with nc=4\n",
      "\n",
      "                   from  n    params  module                                       arguments                     \n",
      "  0                  -1  1       464  ultralytics.nn.modules.conv.Conv             [3, 16, 3, 2]                 \n",
      "  1                  -1  1      4672  ultralytics.nn.modules.conv.Conv             [16, 32, 3, 2]                \n",
      "  2                  -1  1      7360  ultralytics.nn.modules.block.C2f             [32, 32, 1, True]             \n",
      "  3                  -1  1     18560  ultralytics.nn.modules.conv.Conv             [32, 64, 3, 2]                \n",
      "  4                  -1  2     49664  ultralytics.nn.modules.block.C2f             [64, 64, 2, True]             \n",
      "  5                  -1  1     73984  ultralytics.nn.modules.conv.Conv             [64, 128, 3, 2]               \n",
      "  6                  -1  2    197632  ultralytics.nn.modules.block.C2f             [128, 128, 2, True]           \n",
      "  7                  -1  1    295424  ultralytics.nn.modules.conv.Conv             [128, 256, 3, 2]              \n",
      "  8                  -1  1    460288  ultralytics.nn.modules.block.C2f             [256, 256, 1, True]           \n",
      "  9                  -1  1    164608  ultralytics.nn.modules.block.SPPF            [256, 256, 5]                 \n",
      " 10                  -1  1         0  torch.nn.modules.upsampling.Upsample         [None, 2, 'nearest']          \n",
      " 11             [-1, 6]  1         0  ultralytics.nn.modules.conv.Concat           [1]                           \n",
      " 12                  -1  1    148224  ultralytics.nn.modules.block.C2f             [384, 128, 1]                 \n",
      " 13                  -1  1         0  torch.nn.modules.upsampling.Upsample         [None, 2, 'nearest']          \n",
      " 14             [-1, 4]  1         0  ultralytics.nn.modules.conv.Concat           [1]                           \n",
      " 15                  -1  1     37248  ultralytics.nn.modules.block.C2f             [192, 64, 1]                  \n",
      " 16                  -1  1     36992  ultralytics.nn.modules.conv.Conv             [64, 64, 3, 2]                \n",
      " 17            [-1, 12]  1         0  ultralytics.nn.modules.conv.Concat           [1]                           \n",
      " 18                  -1  1    123648  ultralytics.nn.modules.block.C2f             [192, 128, 1]                 \n",
      " 19                  -1  1    147712  ultralytics.nn.modules.conv.Conv             [128, 128, 3, 2]              \n",
      " 20             [-1, 9]  1         0  ultralytics.nn.modules.conv.Concat           [1]                           \n",
      " 21                  -1  1    493056  ultralytics.nn.modules.block.C2f             [384, 256, 1]                 \n",
      " 22        [15, 18, 21]  1    752092  ultralytics.nn.modules.head.Detect           [4, [64, 128, 256]]           \n",
      "Model summary: 129 layers, 3,011,628 parameters, 3,011,612 gradients, 8.2 GFLOPs\n",
      "\n",
      "Transferred 319/355 items from pretrained weights\n",
      "Freezing layer 'model.22.dfl.conv.weight'\n"
     ]
    },
    {
     "name": "stderr",
     "output_type": "stream",
     "text": [
      "\u001b[34m\u001b[1mtrain: \u001b[0mScanning D:\\2_Code\\10_ArtificialIntelligence\\1_DeepLearning\\1_DeepLearning_HandsOn_Pytorch\\7_MTP\\Pipeline\\dataset\\UAVDT-processed\\train\\labels.cache... 2035 images, 0 backgrounds, 0 corrupt: 100%|██████████| 2035/2035 [00:00<?, ?it/s]\n",
      "\u001b[34m\u001b[1mval: \u001b[0mScanning D:\\2_Code\\10_ArtificialIntelligence\\1_DeepLearning\\1_DeepLearning_HandsOn_Pytorch\\7_MTP\\Pipeline\\dataset\\UAVDT-processed\\val\\labels.cache... 1101 images, 0 backgrounds, 0 corrupt: 100%|██████████| 1101/1101 [00:00<?, ?it/s]\n"
     ]
    },
    {
     "name": "stdout",
     "output_type": "stream",
     "text": [
      "Plotting labels to runs\\train\\yolov8-uavdt3\\labels.jpg... \n",
      "\u001b[34m\u001b[1moptimizer:\u001b[0m 'optimizer=auto' found, ignoring 'lr0=0.01' and 'momentum=0.937' and determining best 'optimizer', 'lr0' and 'momentum' automatically... \n",
      "\u001b[34m\u001b[1moptimizer:\u001b[0m AdamW(lr=0.00125, momentum=0.9) with parameter groups 57 weight(decay=0.0), 64 weight(decay=0.0005), 63 bias(decay=0.0)\n",
      "Image sizes 640 train, 640 val\n",
      "Using 0 dataloader workers\n",
      "Logging results to \u001b[1mruns\\train\\yolov8-uavdt3\u001b[0m\n",
      "Starting training for 1 epochs...\n",
      "\n",
      "      Epoch    GPU_mem   box_loss   cls_loss   dfl_loss  Instances       Size\n"
     ]
    },
    {
     "name": "stderr",
     "output_type": "stream",
     "text": [
      "        1/1         0G      1.549      1.958     0.9539        425        640: 100%|██████████| 64/64 [10:07<00:00,  9.49s/it]\n",
      "                 Class     Images  Instances      Box(P          R      mAP50  mAP50-95): 100%|██████████| 18/18 [01:28<00:00,  4.92s/it]\n"
     ]
    },
    {
     "name": "stdout",
     "output_type": "stream",
     "text": [
      "                   all       1101      67296     0.0262      0.162     0.0419     0.0191\n",
      "\n",
      "1 epochs completed in 0.194 hours.\n",
      "Optimizer stripped from runs\\train\\yolov8-uavdt3\\weights\\last.pt, 6.2MB\n",
      "Optimizer stripped from runs\\train\\yolov8-uavdt3\\weights\\best.pt, 6.2MB\n",
      "\n",
      "Validating runs\\train\\yolov8-uavdt3\\weights\\best.pt...\n",
      "Ultralytics 8.3.107  Python-3.12.4 torch-2.5.1+cpu CPU (AMD Ryzen 7 5800H with Radeon Graphics)\n",
      "Model summary (fused): 72 layers, 3,006,428 parameters, 0 gradients, 8.1 GFLOPs\n"
     ]
    },
    {
     "name": "stderr",
     "output_type": "stream",
     "text": [
      "                 Class     Images  Instances      Box(P          R      mAP50  mAP50-95): 100%|██████████| 18/18 [00:59<00:00,  3.30s/it]\n"
     ]
    },
    {
     "name": "stdout",
     "output_type": "stream",
     "text": [
      "                   all       1101      67296     0.0262      0.162     0.0418      0.019\n",
      "                   car       1101      53644      0.102      0.225      0.161     0.0741\n",
      "                 truck        907       3904   0.000513    0.00615   0.000259   4.42e-05\n",
      "                   bus        169        169   0.000738      0.402    0.00402    0.00133\n",
      "               vehicle       1079       9579    0.00211     0.0158    0.00133   0.000524\n",
      "Speed: 1.2ms preprocess, 41.6ms inference, 0.0ms loss, 2.3ms postprocess per image\n",
      "Results saved to \u001b[1mruns\\train\\yolov8-uavdt3\u001b[0m\n"
     ]
    },
    {
     "data": {
      "text/plain": [
       "ultralytics.utils.metrics.DetMetrics object with attributes:\n",
       "\n",
       "ap_class_index: array([0, 1, 2, 3])\n",
       "box: ultralytics.utils.metrics.Metric object\n",
       "confusion_matrix: <ultralytics.utils.metrics.ConfusionMatrix object at 0x0000021644AA00B0>\n",
       "curves: ['Precision-Recall(B)', 'F1-Confidence(B)', 'Precision-Confidence(B)', 'Recall-Confidence(B)']\n",
       "curves_results: [[array([          0,    0.001001,    0.002002,    0.003003,    0.004004,    0.005005,    0.006006,    0.007007,    0.008008,    0.009009,     0.01001,    0.011011,    0.012012,    0.013013,    0.014014,    0.015015,    0.016016,    0.017017,    0.018018,    0.019019,     0.02002,    0.021021,    0.022022,    0.023023,\n",
       "          0.024024,    0.025025,    0.026026,    0.027027,    0.028028,    0.029029,     0.03003,    0.031031,    0.032032,    0.033033,    0.034034,    0.035035,    0.036036,    0.037037,    0.038038,    0.039039,     0.04004,    0.041041,    0.042042,    0.043043,    0.044044,    0.045045,    0.046046,    0.047047,\n",
       "          0.048048,    0.049049,     0.05005,    0.051051,    0.052052,    0.053053,    0.054054,    0.055055,    0.056056,    0.057057,    0.058058,    0.059059,     0.06006,    0.061061,    0.062062,    0.063063,    0.064064,    0.065065,    0.066066,    0.067067,    0.068068,    0.069069,     0.07007,    0.071071,\n",
       "          0.072072,    0.073073,    0.074074,    0.075075,    0.076076,    0.077077,    0.078078,    0.079079,     0.08008,    0.081081,    0.082082,    0.083083,    0.084084,    0.085085,    0.086086,    0.087087,    0.088088,    0.089089,     0.09009,    0.091091,    0.092092,    0.093093,    0.094094,    0.095095,\n",
       "          0.096096,    0.097097,    0.098098,    0.099099,      0.1001,      0.1011,      0.1021,      0.1031,      0.1041,     0.10511,     0.10611,     0.10711,     0.10811,     0.10911,     0.11011,     0.11111,     0.11211,     0.11311,     0.11411,     0.11512,     0.11612,     0.11712,     0.11812,     0.11912,\n",
       "           0.12012,     0.12112,     0.12212,     0.12312,     0.12412,     0.12513,     0.12613,     0.12713,     0.12813,     0.12913,     0.13013,     0.13113,     0.13213,     0.13313,     0.13413,     0.13514,     0.13614,     0.13714,     0.13814,     0.13914,     0.14014,     0.14114,     0.14214,     0.14314,\n",
       "           0.14414,     0.14515,     0.14615,     0.14715,     0.14815,     0.14915,     0.15015,     0.15115,     0.15215,     0.15315,     0.15415,     0.15516,     0.15616,     0.15716,     0.15816,     0.15916,     0.16016,     0.16116,     0.16216,     0.16316,     0.16416,     0.16517,     0.16617,     0.16717,\n",
       "           0.16817,     0.16917,     0.17017,     0.17117,     0.17217,     0.17317,     0.17417,     0.17518,     0.17618,     0.17718,     0.17818,     0.17918,     0.18018,     0.18118,     0.18218,     0.18318,     0.18418,     0.18519,     0.18619,     0.18719,     0.18819,     0.18919,     0.19019,     0.19119,\n",
       "           0.19219,     0.19319,     0.19419,      0.1952,      0.1962,      0.1972,      0.1982,      0.1992,      0.2002,      0.2012,      0.2022,      0.2032,      0.2042,     0.20521,     0.20621,     0.20721,     0.20821,     0.20921,     0.21021,     0.21121,     0.21221,     0.21321,     0.21421,     0.21522,\n",
       "           0.21622,     0.21722,     0.21822,     0.21922,     0.22022,     0.22122,     0.22222,     0.22322,     0.22422,     0.22523,     0.22623,     0.22723,     0.22823,     0.22923,     0.23023,     0.23123,     0.23223,     0.23323,     0.23423,     0.23524,     0.23624,     0.23724,     0.23824,     0.23924,\n",
       "           0.24024,     0.24124,     0.24224,     0.24324,     0.24424,     0.24525,     0.24625,     0.24725,     0.24825,     0.24925,     0.25025,     0.25125,     0.25225,     0.25325,     0.25425,     0.25526,     0.25626,     0.25726,     0.25826,     0.25926,     0.26026,     0.26126,     0.26226,     0.26326,\n",
       "           0.26426,     0.26527,     0.26627,     0.26727,     0.26827,     0.26927,     0.27027,     0.27127,     0.27227,     0.27327,     0.27427,     0.27528,     0.27628,     0.27728,     0.27828,     0.27928,     0.28028,     0.28128,     0.28228,     0.28328,     0.28428,     0.28529,     0.28629,     0.28729,\n",
       "           0.28829,     0.28929,     0.29029,     0.29129,     0.29229,     0.29329,     0.29429,      0.2953,      0.2963,      0.2973,      0.2983,      0.2993,      0.3003,      0.3013,      0.3023,      0.3033,      0.3043,     0.30531,     0.30631,     0.30731,     0.30831,     0.30931,     0.31031,     0.31131,\n",
       "           0.31231,     0.31331,     0.31431,     0.31532,     0.31632,     0.31732,     0.31832,     0.31932,     0.32032,     0.32132,     0.32232,     0.32332,     0.32432,     0.32533,     0.32633,     0.32733,     0.32833,     0.32933,     0.33033,     0.33133,     0.33233,     0.33333,     0.33433,     0.33534,\n",
       "           0.33634,     0.33734,     0.33834,     0.33934,     0.34034,     0.34134,     0.34234,     0.34334,     0.34434,     0.34535,     0.34635,     0.34735,     0.34835,     0.34935,     0.35035,     0.35135,     0.35235,     0.35335,     0.35435,     0.35536,     0.35636,     0.35736,     0.35836,     0.35936,\n",
       "           0.36036,     0.36136,     0.36236,     0.36336,     0.36436,     0.36537,     0.36637,     0.36737,     0.36837,     0.36937,     0.37037,     0.37137,     0.37237,     0.37337,     0.37437,     0.37538,     0.37638,     0.37738,     0.37838,     0.37938,     0.38038,     0.38138,     0.38238,     0.38338,\n",
       "           0.38438,     0.38539,     0.38639,     0.38739,     0.38839,     0.38939,     0.39039,     0.39139,     0.39239,     0.39339,     0.39439,      0.3954,      0.3964,      0.3974,      0.3984,      0.3994,      0.4004,      0.4014,      0.4024,      0.4034,      0.4044,     0.40541,     0.40641,     0.40741,\n",
       "           0.40841,     0.40941,     0.41041,     0.41141,     0.41241,     0.41341,     0.41441,     0.41542,     0.41642,     0.41742,     0.41842,     0.41942,     0.42042,     0.42142,     0.42242,     0.42342,     0.42442,     0.42543,     0.42643,     0.42743,     0.42843,     0.42943,     0.43043,     0.43143,\n",
       "           0.43243,     0.43343,     0.43443,     0.43544,     0.43644,     0.43744,     0.43844,     0.43944,     0.44044,     0.44144,     0.44244,     0.44344,     0.44444,     0.44545,     0.44645,     0.44745,     0.44845,     0.44945,     0.45045,     0.45145,     0.45245,     0.45345,     0.45445,     0.45546,\n",
       "           0.45646,     0.45746,     0.45846,     0.45946,     0.46046,     0.46146,     0.46246,     0.46346,     0.46446,     0.46547,     0.46647,     0.46747,     0.46847,     0.46947,     0.47047,     0.47147,     0.47247,     0.47347,     0.47447,     0.47548,     0.47648,     0.47748,     0.47848,     0.47948,\n",
       "           0.48048,     0.48148,     0.48248,     0.48348,     0.48448,     0.48549,     0.48649,     0.48749,     0.48849,     0.48949,     0.49049,     0.49149,     0.49249,     0.49349,     0.49449,      0.4955,      0.4965,      0.4975,      0.4985,      0.4995,      0.5005,      0.5015,      0.5025,      0.5035,\n",
       "            0.5045,     0.50551,     0.50651,     0.50751,     0.50851,     0.50951,     0.51051,     0.51151,     0.51251,     0.51351,     0.51451,     0.51552,     0.51652,     0.51752,     0.51852,     0.51952,     0.52052,     0.52152,     0.52252,     0.52352,     0.52452,     0.52553,     0.52653,     0.52753,\n",
       "           0.52853,     0.52953,     0.53053,     0.53153,     0.53253,     0.53353,     0.53453,     0.53554,     0.53654,     0.53754,     0.53854,     0.53954,     0.54054,     0.54154,     0.54254,     0.54354,     0.54454,     0.54555,     0.54655,     0.54755,     0.54855,     0.54955,     0.55055,     0.55155,\n",
       "           0.55255,     0.55355,     0.55455,     0.55556,     0.55656,     0.55756,     0.55856,     0.55956,     0.56056,     0.56156,     0.56256,     0.56356,     0.56456,     0.56557,     0.56657,     0.56757,     0.56857,     0.56957,     0.57057,     0.57157,     0.57257,     0.57357,     0.57457,     0.57558,\n",
       "           0.57658,     0.57758,     0.57858,     0.57958,     0.58058,     0.58158,     0.58258,     0.58358,     0.58458,     0.58559,     0.58659,     0.58759,     0.58859,     0.58959,     0.59059,     0.59159,     0.59259,     0.59359,     0.59459,      0.5956,      0.5966,      0.5976,      0.5986,      0.5996,\n",
       "            0.6006,      0.6016,      0.6026,      0.6036,      0.6046,     0.60561,     0.60661,     0.60761,     0.60861,     0.60961,     0.61061,     0.61161,     0.61261,     0.61361,     0.61461,     0.61562,     0.61662,     0.61762,     0.61862,     0.61962,     0.62062,     0.62162,     0.62262,     0.62362,\n",
       "           0.62462,     0.62563,     0.62663,     0.62763,     0.62863,     0.62963,     0.63063,     0.63163,     0.63263,     0.63363,     0.63463,     0.63564,     0.63664,     0.63764,     0.63864,     0.63964,     0.64064,     0.64164,     0.64264,     0.64364,     0.64464,     0.64565,     0.64665,     0.64765,\n",
       "           0.64865,     0.64965,     0.65065,     0.65165,     0.65265,     0.65365,     0.65465,     0.65566,     0.65666,     0.65766,     0.65866,     0.65966,     0.66066,     0.66166,     0.66266,     0.66366,     0.66466,     0.66567,     0.66667,     0.66767,     0.66867,     0.66967,     0.67067,     0.67167,\n",
       "           0.67267,     0.67367,     0.67467,     0.67568,     0.67668,     0.67768,     0.67868,     0.67968,     0.68068,     0.68168,     0.68268,     0.68368,     0.68468,     0.68569,     0.68669,     0.68769,     0.68869,     0.68969,     0.69069,     0.69169,     0.69269,     0.69369,     0.69469,      0.6957,\n",
       "            0.6967,      0.6977,      0.6987,      0.6997,      0.7007,      0.7017,      0.7027,      0.7037,      0.7047,     0.70571,     0.70671,     0.70771,     0.70871,     0.70971,     0.71071,     0.71171,     0.71271,     0.71371,     0.71471,     0.71572,     0.71672,     0.71772,     0.71872,     0.71972,\n",
       "           0.72072,     0.72172,     0.72272,     0.72372,     0.72472,     0.72573,     0.72673,     0.72773,     0.72873,     0.72973,     0.73073,     0.73173,     0.73273,     0.73373,     0.73473,     0.73574,     0.73674,     0.73774,     0.73874,     0.73974,     0.74074,     0.74174,     0.74274,     0.74374,\n",
       "           0.74474,     0.74575,     0.74675,     0.74775,     0.74875,     0.74975,     0.75075,     0.75175,     0.75275,     0.75375,     0.75475,     0.75576,     0.75676,     0.75776,     0.75876,     0.75976,     0.76076,     0.76176,     0.76276,     0.76376,     0.76476,     0.76577,     0.76677,     0.76777,\n",
       "           0.76877,     0.76977,     0.77077,     0.77177,     0.77277,     0.77377,     0.77477,     0.77578,     0.77678,     0.77778,     0.77878,     0.77978,     0.78078,     0.78178,     0.78278,     0.78378,     0.78478,     0.78579,     0.78679,     0.78779,     0.78879,     0.78979,     0.79079,     0.79179,\n",
       "           0.79279,     0.79379,     0.79479,      0.7958,      0.7968,      0.7978,      0.7988,      0.7998,      0.8008,      0.8018,      0.8028,      0.8038,      0.8048,     0.80581,     0.80681,     0.80781,     0.80881,     0.80981,     0.81081,     0.81181,     0.81281,     0.81381,     0.81481,     0.81582,\n",
       "           0.81682,     0.81782,     0.81882,     0.81982,     0.82082,     0.82182,     0.82282,     0.82382,     0.82482,     0.82583,     0.82683,     0.82783,     0.82883,     0.82983,     0.83083,     0.83183,     0.83283,     0.83383,     0.83483,     0.83584,     0.83684,     0.83784,     0.83884,     0.83984,\n",
       "           0.84084,     0.84184,     0.84284,     0.84384,     0.84484,     0.84585,     0.84685,     0.84785,     0.84885,     0.84985,     0.85085,     0.85185,     0.85285,     0.85385,     0.85485,     0.85586,     0.85686,     0.85786,     0.85886,     0.85986,     0.86086,     0.86186,     0.86286,     0.86386,\n",
       "           0.86486,     0.86587,     0.86687,     0.86787,     0.86887,     0.86987,     0.87087,     0.87187,     0.87287,     0.87387,     0.87487,     0.87588,     0.87688,     0.87788,     0.87888,     0.87988,     0.88088,     0.88188,     0.88288,     0.88388,     0.88488,     0.88589,     0.88689,     0.88789,\n",
       "           0.88889,     0.88989,     0.89089,     0.89189,     0.89289,     0.89389,     0.89489,      0.8959,      0.8969,      0.8979,      0.8989,      0.8999,      0.9009,      0.9019,      0.9029,      0.9039,      0.9049,     0.90591,     0.90691,     0.90791,     0.90891,     0.90991,     0.91091,     0.91191,\n",
       "           0.91291,     0.91391,     0.91491,     0.91592,     0.91692,     0.91792,     0.91892,     0.91992,     0.92092,     0.92192,     0.92292,     0.92392,     0.92492,     0.92593,     0.92693,     0.92793,     0.92893,     0.92993,     0.93093,     0.93193,     0.93293,     0.93393,     0.93493,     0.93594,\n",
       "           0.93694,     0.93794,     0.93894,     0.93994,     0.94094,     0.94194,     0.94294,     0.94394,     0.94494,     0.94595,     0.94695,     0.94795,     0.94895,     0.94995,     0.95095,     0.95195,     0.95295,     0.95395,     0.95495,     0.95596,     0.95696,     0.95796,     0.95896,     0.95996,\n",
       "           0.96096,     0.96196,     0.96296,     0.96396,     0.96496,     0.96597,     0.96697,     0.96797,     0.96897,     0.96997,     0.97097,     0.97197,     0.97297,     0.97397,     0.97497,     0.97598,     0.97698,     0.97798,     0.97898,     0.97998,     0.98098,     0.98198,     0.98298,     0.98398,\n",
       "           0.98498,     0.98599,     0.98699,     0.98799,     0.98899,     0.98999,     0.99099,     0.99199,     0.99299,     0.99399,     0.99499,       0.996,       0.997,       0.998,       0.999,           1]), array([[          1,     0.94118,     0.88525, ...,  0.00026243,  0.00013121,           0],\n",
       "       [ 0.00069979,  0.00062017,  0.00062017, ...,   1.034e-06,  5.1701e-07,           0],\n",
       "       [   0.011509,    0.011509,    0.011509, ...,  2.4706e-06,  1.2353e-06,           0],\n",
       "       [    0.05303,    0.011468,   0.0058188, ...,  4.2913e-06,  2.1457e-06,           0]]), 'Recall', 'Precision'], [array([          0,    0.001001,    0.002002,    0.003003,    0.004004,    0.005005,    0.006006,    0.007007,    0.008008,    0.009009,     0.01001,    0.011011,    0.012012,    0.013013,    0.014014,    0.015015,    0.016016,    0.017017,    0.018018,    0.019019,     0.02002,    0.021021,    0.022022,    0.023023,\n",
       "          0.024024,    0.025025,    0.026026,    0.027027,    0.028028,    0.029029,     0.03003,    0.031031,    0.032032,    0.033033,    0.034034,    0.035035,    0.036036,    0.037037,    0.038038,    0.039039,     0.04004,    0.041041,    0.042042,    0.043043,    0.044044,    0.045045,    0.046046,    0.047047,\n",
       "          0.048048,    0.049049,     0.05005,    0.051051,    0.052052,    0.053053,    0.054054,    0.055055,    0.056056,    0.057057,    0.058058,    0.059059,     0.06006,    0.061061,    0.062062,    0.063063,    0.064064,    0.065065,    0.066066,    0.067067,    0.068068,    0.069069,     0.07007,    0.071071,\n",
       "          0.072072,    0.073073,    0.074074,    0.075075,    0.076076,    0.077077,    0.078078,    0.079079,     0.08008,    0.081081,    0.082082,    0.083083,    0.084084,    0.085085,    0.086086,    0.087087,    0.088088,    0.089089,     0.09009,    0.091091,    0.092092,    0.093093,    0.094094,    0.095095,\n",
       "          0.096096,    0.097097,    0.098098,    0.099099,      0.1001,      0.1011,      0.1021,      0.1031,      0.1041,     0.10511,     0.10611,     0.10711,     0.10811,     0.10911,     0.11011,     0.11111,     0.11211,     0.11311,     0.11411,     0.11512,     0.11612,     0.11712,     0.11812,     0.11912,\n",
       "           0.12012,     0.12112,     0.12212,     0.12312,     0.12412,     0.12513,     0.12613,     0.12713,     0.12813,     0.12913,     0.13013,     0.13113,     0.13213,     0.13313,     0.13413,     0.13514,     0.13614,     0.13714,     0.13814,     0.13914,     0.14014,     0.14114,     0.14214,     0.14314,\n",
       "           0.14414,     0.14515,     0.14615,     0.14715,     0.14815,     0.14915,     0.15015,     0.15115,     0.15215,     0.15315,     0.15415,     0.15516,     0.15616,     0.15716,     0.15816,     0.15916,     0.16016,     0.16116,     0.16216,     0.16316,     0.16416,     0.16517,     0.16617,     0.16717,\n",
       "           0.16817,     0.16917,     0.17017,     0.17117,     0.17217,     0.17317,     0.17417,     0.17518,     0.17618,     0.17718,     0.17818,     0.17918,     0.18018,     0.18118,     0.18218,     0.18318,     0.18418,     0.18519,     0.18619,     0.18719,     0.18819,     0.18919,     0.19019,     0.19119,\n",
       "           0.19219,     0.19319,     0.19419,      0.1952,      0.1962,      0.1972,      0.1982,      0.1992,      0.2002,      0.2012,      0.2022,      0.2032,      0.2042,     0.20521,     0.20621,     0.20721,     0.20821,     0.20921,     0.21021,     0.21121,     0.21221,     0.21321,     0.21421,     0.21522,\n",
       "           0.21622,     0.21722,     0.21822,     0.21922,     0.22022,     0.22122,     0.22222,     0.22322,     0.22422,     0.22523,     0.22623,     0.22723,     0.22823,     0.22923,     0.23023,     0.23123,     0.23223,     0.23323,     0.23423,     0.23524,     0.23624,     0.23724,     0.23824,     0.23924,\n",
       "           0.24024,     0.24124,     0.24224,     0.24324,     0.24424,     0.24525,     0.24625,     0.24725,     0.24825,     0.24925,     0.25025,     0.25125,     0.25225,     0.25325,     0.25425,     0.25526,     0.25626,     0.25726,     0.25826,     0.25926,     0.26026,     0.26126,     0.26226,     0.26326,\n",
       "           0.26426,     0.26527,     0.26627,     0.26727,     0.26827,     0.26927,     0.27027,     0.27127,     0.27227,     0.27327,     0.27427,     0.27528,     0.27628,     0.27728,     0.27828,     0.27928,     0.28028,     0.28128,     0.28228,     0.28328,     0.28428,     0.28529,     0.28629,     0.28729,\n",
       "           0.28829,     0.28929,     0.29029,     0.29129,     0.29229,     0.29329,     0.29429,      0.2953,      0.2963,      0.2973,      0.2983,      0.2993,      0.3003,      0.3013,      0.3023,      0.3033,      0.3043,     0.30531,     0.30631,     0.30731,     0.30831,     0.30931,     0.31031,     0.31131,\n",
       "           0.31231,     0.31331,     0.31431,     0.31532,     0.31632,     0.31732,     0.31832,     0.31932,     0.32032,     0.32132,     0.32232,     0.32332,     0.32432,     0.32533,     0.32633,     0.32733,     0.32833,     0.32933,     0.33033,     0.33133,     0.33233,     0.33333,     0.33433,     0.33534,\n",
       "           0.33634,     0.33734,     0.33834,     0.33934,     0.34034,     0.34134,     0.34234,     0.34334,     0.34434,     0.34535,     0.34635,     0.34735,     0.34835,     0.34935,     0.35035,     0.35135,     0.35235,     0.35335,     0.35435,     0.35536,     0.35636,     0.35736,     0.35836,     0.35936,\n",
       "           0.36036,     0.36136,     0.36236,     0.36336,     0.36436,     0.36537,     0.36637,     0.36737,     0.36837,     0.36937,     0.37037,     0.37137,     0.37237,     0.37337,     0.37437,     0.37538,     0.37638,     0.37738,     0.37838,     0.37938,     0.38038,     0.38138,     0.38238,     0.38338,\n",
       "           0.38438,     0.38539,     0.38639,     0.38739,     0.38839,     0.38939,     0.39039,     0.39139,     0.39239,     0.39339,     0.39439,      0.3954,      0.3964,      0.3974,      0.3984,      0.3994,      0.4004,      0.4014,      0.4024,      0.4034,      0.4044,     0.40541,     0.40641,     0.40741,\n",
       "           0.40841,     0.40941,     0.41041,     0.41141,     0.41241,     0.41341,     0.41441,     0.41542,     0.41642,     0.41742,     0.41842,     0.41942,     0.42042,     0.42142,     0.42242,     0.42342,     0.42442,     0.42543,     0.42643,     0.42743,     0.42843,     0.42943,     0.43043,     0.43143,\n",
       "           0.43243,     0.43343,     0.43443,     0.43544,     0.43644,     0.43744,     0.43844,     0.43944,     0.44044,     0.44144,     0.44244,     0.44344,     0.44444,     0.44545,     0.44645,     0.44745,     0.44845,     0.44945,     0.45045,     0.45145,     0.45245,     0.45345,     0.45445,     0.45546,\n",
       "           0.45646,     0.45746,     0.45846,     0.45946,     0.46046,     0.46146,     0.46246,     0.46346,     0.46446,     0.46547,     0.46647,     0.46747,     0.46847,     0.46947,     0.47047,     0.47147,     0.47247,     0.47347,     0.47447,     0.47548,     0.47648,     0.47748,     0.47848,     0.47948,\n",
       "           0.48048,     0.48148,     0.48248,     0.48348,     0.48448,     0.48549,     0.48649,     0.48749,     0.48849,     0.48949,     0.49049,     0.49149,     0.49249,     0.49349,     0.49449,      0.4955,      0.4965,      0.4975,      0.4985,      0.4995,      0.5005,      0.5015,      0.5025,      0.5035,\n",
       "            0.5045,     0.50551,     0.50651,     0.50751,     0.50851,     0.50951,     0.51051,     0.51151,     0.51251,     0.51351,     0.51451,     0.51552,     0.51652,     0.51752,     0.51852,     0.51952,     0.52052,     0.52152,     0.52252,     0.52352,     0.52452,     0.52553,     0.52653,     0.52753,\n",
       "           0.52853,     0.52953,     0.53053,     0.53153,     0.53253,     0.53353,     0.53453,     0.53554,     0.53654,     0.53754,     0.53854,     0.53954,     0.54054,     0.54154,     0.54254,     0.54354,     0.54454,     0.54555,     0.54655,     0.54755,     0.54855,     0.54955,     0.55055,     0.55155,\n",
       "           0.55255,     0.55355,     0.55455,     0.55556,     0.55656,     0.55756,     0.55856,     0.55956,     0.56056,     0.56156,     0.56256,     0.56356,     0.56456,     0.56557,     0.56657,     0.56757,     0.56857,     0.56957,     0.57057,     0.57157,     0.57257,     0.57357,     0.57457,     0.57558,\n",
       "           0.57658,     0.57758,     0.57858,     0.57958,     0.58058,     0.58158,     0.58258,     0.58358,     0.58458,     0.58559,     0.58659,     0.58759,     0.58859,     0.58959,     0.59059,     0.59159,     0.59259,     0.59359,     0.59459,      0.5956,      0.5966,      0.5976,      0.5986,      0.5996,\n",
       "            0.6006,      0.6016,      0.6026,      0.6036,      0.6046,     0.60561,     0.60661,     0.60761,     0.60861,     0.60961,     0.61061,     0.61161,     0.61261,     0.61361,     0.61461,     0.61562,     0.61662,     0.61762,     0.61862,     0.61962,     0.62062,     0.62162,     0.62262,     0.62362,\n",
       "           0.62462,     0.62563,     0.62663,     0.62763,     0.62863,     0.62963,     0.63063,     0.63163,     0.63263,     0.63363,     0.63463,     0.63564,     0.63664,     0.63764,     0.63864,     0.63964,     0.64064,     0.64164,     0.64264,     0.64364,     0.64464,     0.64565,     0.64665,     0.64765,\n",
       "           0.64865,     0.64965,     0.65065,     0.65165,     0.65265,     0.65365,     0.65465,     0.65566,     0.65666,     0.65766,     0.65866,     0.65966,     0.66066,     0.66166,     0.66266,     0.66366,     0.66466,     0.66567,     0.66667,     0.66767,     0.66867,     0.66967,     0.67067,     0.67167,\n",
       "           0.67267,     0.67367,     0.67467,     0.67568,     0.67668,     0.67768,     0.67868,     0.67968,     0.68068,     0.68168,     0.68268,     0.68368,     0.68468,     0.68569,     0.68669,     0.68769,     0.68869,     0.68969,     0.69069,     0.69169,     0.69269,     0.69369,     0.69469,      0.6957,\n",
       "            0.6967,      0.6977,      0.6987,      0.6997,      0.7007,      0.7017,      0.7027,      0.7037,      0.7047,     0.70571,     0.70671,     0.70771,     0.70871,     0.70971,     0.71071,     0.71171,     0.71271,     0.71371,     0.71471,     0.71572,     0.71672,     0.71772,     0.71872,     0.71972,\n",
       "           0.72072,     0.72172,     0.72272,     0.72372,     0.72472,     0.72573,     0.72673,     0.72773,     0.72873,     0.72973,     0.73073,     0.73173,     0.73273,     0.73373,     0.73473,     0.73574,     0.73674,     0.73774,     0.73874,     0.73974,     0.74074,     0.74174,     0.74274,     0.74374,\n",
       "           0.74474,     0.74575,     0.74675,     0.74775,     0.74875,     0.74975,     0.75075,     0.75175,     0.75275,     0.75375,     0.75475,     0.75576,     0.75676,     0.75776,     0.75876,     0.75976,     0.76076,     0.76176,     0.76276,     0.76376,     0.76476,     0.76577,     0.76677,     0.76777,\n",
       "           0.76877,     0.76977,     0.77077,     0.77177,     0.77277,     0.77377,     0.77477,     0.77578,     0.77678,     0.77778,     0.77878,     0.77978,     0.78078,     0.78178,     0.78278,     0.78378,     0.78478,     0.78579,     0.78679,     0.78779,     0.78879,     0.78979,     0.79079,     0.79179,\n",
       "           0.79279,     0.79379,     0.79479,      0.7958,      0.7968,      0.7978,      0.7988,      0.7998,      0.8008,      0.8018,      0.8028,      0.8038,      0.8048,     0.80581,     0.80681,     0.80781,     0.80881,     0.80981,     0.81081,     0.81181,     0.81281,     0.81381,     0.81481,     0.81582,\n",
       "           0.81682,     0.81782,     0.81882,     0.81982,     0.82082,     0.82182,     0.82282,     0.82382,     0.82482,     0.82583,     0.82683,     0.82783,     0.82883,     0.82983,     0.83083,     0.83183,     0.83283,     0.83383,     0.83483,     0.83584,     0.83684,     0.83784,     0.83884,     0.83984,\n",
       "           0.84084,     0.84184,     0.84284,     0.84384,     0.84484,     0.84585,     0.84685,     0.84785,     0.84885,     0.84985,     0.85085,     0.85185,     0.85285,     0.85385,     0.85485,     0.85586,     0.85686,     0.85786,     0.85886,     0.85986,     0.86086,     0.86186,     0.86286,     0.86386,\n",
       "           0.86486,     0.86587,     0.86687,     0.86787,     0.86887,     0.86987,     0.87087,     0.87187,     0.87287,     0.87387,     0.87487,     0.87588,     0.87688,     0.87788,     0.87888,     0.87988,     0.88088,     0.88188,     0.88288,     0.88388,     0.88488,     0.88589,     0.88689,     0.88789,\n",
       "           0.88889,     0.88989,     0.89089,     0.89189,     0.89289,     0.89389,     0.89489,      0.8959,      0.8969,      0.8979,      0.8989,      0.8999,      0.9009,      0.9019,      0.9029,      0.9039,      0.9049,     0.90591,     0.90691,     0.90791,     0.90891,     0.90991,     0.91091,     0.91191,\n",
       "           0.91291,     0.91391,     0.91491,     0.91592,     0.91692,     0.91792,     0.91892,     0.91992,     0.92092,     0.92192,     0.92292,     0.92392,     0.92492,     0.92593,     0.92693,     0.92793,     0.92893,     0.92993,     0.93093,     0.93193,     0.93293,     0.93393,     0.93493,     0.93594,\n",
       "           0.93694,     0.93794,     0.93894,     0.93994,     0.94094,     0.94194,     0.94294,     0.94394,     0.94494,     0.94595,     0.94695,     0.94795,     0.94895,     0.94995,     0.95095,     0.95195,     0.95295,     0.95395,     0.95495,     0.95596,     0.95696,     0.95796,     0.95896,     0.95996,\n",
       "           0.96096,     0.96196,     0.96296,     0.96396,     0.96496,     0.96597,     0.96697,     0.96797,     0.96897,     0.96997,     0.97097,     0.97197,     0.97297,     0.97397,     0.97497,     0.97598,     0.97698,     0.97798,     0.97898,     0.97998,     0.98098,     0.98198,     0.98298,     0.98398,\n",
       "           0.98498,     0.98599,     0.98699,     0.98799,     0.98899,     0.98999,     0.99099,     0.99199,     0.99299,     0.99399,     0.99499,       0.996,       0.997,       0.998,       0.999,           1]), array([[       0.14,        0.14,     0.13783, ...,           0,           0,           0],\n",
       "       [ 0.00094751,  0.00094751,  0.00094925, ...,           0,           0,           0],\n",
       "       [  0.0014723,   0.0014723,   0.0014724, ...,           0,           0,           0],\n",
       "       [  0.0037214,   0.0037214,   0.0026254, ...,           0,           0,           0]]), 'Confidence', 'F1'], [array([          0,    0.001001,    0.002002,    0.003003,    0.004004,    0.005005,    0.006006,    0.007007,    0.008008,    0.009009,     0.01001,    0.011011,    0.012012,    0.013013,    0.014014,    0.015015,    0.016016,    0.017017,    0.018018,    0.019019,     0.02002,    0.021021,    0.022022,    0.023023,\n",
       "          0.024024,    0.025025,    0.026026,    0.027027,    0.028028,    0.029029,     0.03003,    0.031031,    0.032032,    0.033033,    0.034034,    0.035035,    0.036036,    0.037037,    0.038038,    0.039039,     0.04004,    0.041041,    0.042042,    0.043043,    0.044044,    0.045045,    0.046046,    0.047047,\n",
       "          0.048048,    0.049049,     0.05005,    0.051051,    0.052052,    0.053053,    0.054054,    0.055055,    0.056056,    0.057057,    0.058058,    0.059059,     0.06006,    0.061061,    0.062062,    0.063063,    0.064064,    0.065065,    0.066066,    0.067067,    0.068068,    0.069069,     0.07007,    0.071071,\n",
       "          0.072072,    0.073073,    0.074074,    0.075075,    0.076076,    0.077077,    0.078078,    0.079079,     0.08008,    0.081081,    0.082082,    0.083083,    0.084084,    0.085085,    0.086086,    0.087087,    0.088088,    0.089089,     0.09009,    0.091091,    0.092092,    0.093093,    0.094094,    0.095095,\n",
       "          0.096096,    0.097097,    0.098098,    0.099099,      0.1001,      0.1011,      0.1021,      0.1031,      0.1041,     0.10511,     0.10611,     0.10711,     0.10811,     0.10911,     0.11011,     0.11111,     0.11211,     0.11311,     0.11411,     0.11512,     0.11612,     0.11712,     0.11812,     0.11912,\n",
       "           0.12012,     0.12112,     0.12212,     0.12312,     0.12412,     0.12513,     0.12613,     0.12713,     0.12813,     0.12913,     0.13013,     0.13113,     0.13213,     0.13313,     0.13413,     0.13514,     0.13614,     0.13714,     0.13814,     0.13914,     0.14014,     0.14114,     0.14214,     0.14314,\n",
       "           0.14414,     0.14515,     0.14615,     0.14715,     0.14815,     0.14915,     0.15015,     0.15115,     0.15215,     0.15315,     0.15415,     0.15516,     0.15616,     0.15716,     0.15816,     0.15916,     0.16016,     0.16116,     0.16216,     0.16316,     0.16416,     0.16517,     0.16617,     0.16717,\n",
       "           0.16817,     0.16917,     0.17017,     0.17117,     0.17217,     0.17317,     0.17417,     0.17518,     0.17618,     0.17718,     0.17818,     0.17918,     0.18018,     0.18118,     0.18218,     0.18318,     0.18418,     0.18519,     0.18619,     0.18719,     0.18819,     0.18919,     0.19019,     0.19119,\n",
       "           0.19219,     0.19319,     0.19419,      0.1952,      0.1962,      0.1972,      0.1982,      0.1992,      0.2002,      0.2012,      0.2022,      0.2032,      0.2042,     0.20521,     0.20621,     0.20721,     0.20821,     0.20921,     0.21021,     0.21121,     0.21221,     0.21321,     0.21421,     0.21522,\n",
       "           0.21622,     0.21722,     0.21822,     0.21922,     0.22022,     0.22122,     0.22222,     0.22322,     0.22422,     0.22523,     0.22623,     0.22723,     0.22823,     0.22923,     0.23023,     0.23123,     0.23223,     0.23323,     0.23423,     0.23524,     0.23624,     0.23724,     0.23824,     0.23924,\n",
       "           0.24024,     0.24124,     0.24224,     0.24324,     0.24424,     0.24525,     0.24625,     0.24725,     0.24825,     0.24925,     0.25025,     0.25125,     0.25225,     0.25325,     0.25425,     0.25526,     0.25626,     0.25726,     0.25826,     0.25926,     0.26026,     0.26126,     0.26226,     0.26326,\n",
       "           0.26426,     0.26527,     0.26627,     0.26727,     0.26827,     0.26927,     0.27027,     0.27127,     0.27227,     0.27327,     0.27427,     0.27528,     0.27628,     0.27728,     0.27828,     0.27928,     0.28028,     0.28128,     0.28228,     0.28328,     0.28428,     0.28529,     0.28629,     0.28729,\n",
       "           0.28829,     0.28929,     0.29029,     0.29129,     0.29229,     0.29329,     0.29429,      0.2953,      0.2963,      0.2973,      0.2983,      0.2993,      0.3003,      0.3013,      0.3023,      0.3033,      0.3043,     0.30531,     0.30631,     0.30731,     0.30831,     0.30931,     0.31031,     0.31131,\n",
       "           0.31231,     0.31331,     0.31431,     0.31532,     0.31632,     0.31732,     0.31832,     0.31932,     0.32032,     0.32132,     0.32232,     0.32332,     0.32432,     0.32533,     0.32633,     0.32733,     0.32833,     0.32933,     0.33033,     0.33133,     0.33233,     0.33333,     0.33433,     0.33534,\n",
       "           0.33634,     0.33734,     0.33834,     0.33934,     0.34034,     0.34134,     0.34234,     0.34334,     0.34434,     0.34535,     0.34635,     0.34735,     0.34835,     0.34935,     0.35035,     0.35135,     0.35235,     0.35335,     0.35435,     0.35536,     0.35636,     0.35736,     0.35836,     0.35936,\n",
       "           0.36036,     0.36136,     0.36236,     0.36336,     0.36436,     0.36537,     0.36637,     0.36737,     0.36837,     0.36937,     0.37037,     0.37137,     0.37237,     0.37337,     0.37437,     0.37538,     0.37638,     0.37738,     0.37838,     0.37938,     0.38038,     0.38138,     0.38238,     0.38338,\n",
       "           0.38438,     0.38539,     0.38639,     0.38739,     0.38839,     0.38939,     0.39039,     0.39139,     0.39239,     0.39339,     0.39439,      0.3954,      0.3964,      0.3974,      0.3984,      0.3994,      0.4004,      0.4014,      0.4024,      0.4034,      0.4044,     0.40541,     0.40641,     0.40741,\n",
       "           0.40841,     0.40941,     0.41041,     0.41141,     0.41241,     0.41341,     0.41441,     0.41542,     0.41642,     0.41742,     0.41842,     0.41942,     0.42042,     0.42142,     0.42242,     0.42342,     0.42442,     0.42543,     0.42643,     0.42743,     0.42843,     0.42943,     0.43043,     0.43143,\n",
       "           0.43243,     0.43343,     0.43443,     0.43544,     0.43644,     0.43744,     0.43844,     0.43944,     0.44044,     0.44144,     0.44244,     0.44344,     0.44444,     0.44545,     0.44645,     0.44745,     0.44845,     0.44945,     0.45045,     0.45145,     0.45245,     0.45345,     0.45445,     0.45546,\n",
       "           0.45646,     0.45746,     0.45846,     0.45946,     0.46046,     0.46146,     0.46246,     0.46346,     0.46446,     0.46547,     0.46647,     0.46747,     0.46847,     0.46947,     0.47047,     0.47147,     0.47247,     0.47347,     0.47447,     0.47548,     0.47648,     0.47748,     0.47848,     0.47948,\n",
       "           0.48048,     0.48148,     0.48248,     0.48348,     0.48448,     0.48549,     0.48649,     0.48749,     0.48849,     0.48949,     0.49049,     0.49149,     0.49249,     0.49349,     0.49449,      0.4955,      0.4965,      0.4975,      0.4985,      0.4995,      0.5005,      0.5015,      0.5025,      0.5035,\n",
       "            0.5045,     0.50551,     0.50651,     0.50751,     0.50851,     0.50951,     0.51051,     0.51151,     0.51251,     0.51351,     0.51451,     0.51552,     0.51652,     0.51752,     0.51852,     0.51952,     0.52052,     0.52152,     0.52252,     0.52352,     0.52452,     0.52553,     0.52653,     0.52753,\n",
       "           0.52853,     0.52953,     0.53053,     0.53153,     0.53253,     0.53353,     0.53453,     0.53554,     0.53654,     0.53754,     0.53854,     0.53954,     0.54054,     0.54154,     0.54254,     0.54354,     0.54454,     0.54555,     0.54655,     0.54755,     0.54855,     0.54955,     0.55055,     0.55155,\n",
       "           0.55255,     0.55355,     0.55455,     0.55556,     0.55656,     0.55756,     0.55856,     0.55956,     0.56056,     0.56156,     0.56256,     0.56356,     0.56456,     0.56557,     0.56657,     0.56757,     0.56857,     0.56957,     0.57057,     0.57157,     0.57257,     0.57357,     0.57457,     0.57558,\n",
       "           0.57658,     0.57758,     0.57858,     0.57958,     0.58058,     0.58158,     0.58258,     0.58358,     0.58458,     0.58559,     0.58659,     0.58759,     0.58859,     0.58959,     0.59059,     0.59159,     0.59259,     0.59359,     0.59459,      0.5956,      0.5966,      0.5976,      0.5986,      0.5996,\n",
       "            0.6006,      0.6016,      0.6026,      0.6036,      0.6046,     0.60561,     0.60661,     0.60761,     0.60861,     0.60961,     0.61061,     0.61161,     0.61261,     0.61361,     0.61461,     0.61562,     0.61662,     0.61762,     0.61862,     0.61962,     0.62062,     0.62162,     0.62262,     0.62362,\n",
       "           0.62462,     0.62563,     0.62663,     0.62763,     0.62863,     0.62963,     0.63063,     0.63163,     0.63263,     0.63363,     0.63463,     0.63564,     0.63664,     0.63764,     0.63864,     0.63964,     0.64064,     0.64164,     0.64264,     0.64364,     0.64464,     0.64565,     0.64665,     0.64765,\n",
       "           0.64865,     0.64965,     0.65065,     0.65165,     0.65265,     0.65365,     0.65465,     0.65566,     0.65666,     0.65766,     0.65866,     0.65966,     0.66066,     0.66166,     0.66266,     0.66366,     0.66466,     0.66567,     0.66667,     0.66767,     0.66867,     0.66967,     0.67067,     0.67167,\n",
       "           0.67267,     0.67367,     0.67467,     0.67568,     0.67668,     0.67768,     0.67868,     0.67968,     0.68068,     0.68168,     0.68268,     0.68368,     0.68468,     0.68569,     0.68669,     0.68769,     0.68869,     0.68969,     0.69069,     0.69169,     0.69269,     0.69369,     0.69469,      0.6957,\n",
       "            0.6967,      0.6977,      0.6987,      0.6997,      0.7007,      0.7017,      0.7027,      0.7037,      0.7047,     0.70571,     0.70671,     0.70771,     0.70871,     0.70971,     0.71071,     0.71171,     0.71271,     0.71371,     0.71471,     0.71572,     0.71672,     0.71772,     0.71872,     0.71972,\n",
       "           0.72072,     0.72172,     0.72272,     0.72372,     0.72472,     0.72573,     0.72673,     0.72773,     0.72873,     0.72973,     0.73073,     0.73173,     0.73273,     0.73373,     0.73473,     0.73574,     0.73674,     0.73774,     0.73874,     0.73974,     0.74074,     0.74174,     0.74274,     0.74374,\n",
       "           0.74474,     0.74575,     0.74675,     0.74775,     0.74875,     0.74975,     0.75075,     0.75175,     0.75275,     0.75375,     0.75475,     0.75576,     0.75676,     0.75776,     0.75876,     0.75976,     0.76076,     0.76176,     0.76276,     0.76376,     0.76476,     0.76577,     0.76677,     0.76777,\n",
       "           0.76877,     0.76977,     0.77077,     0.77177,     0.77277,     0.77377,     0.77477,     0.77578,     0.77678,     0.77778,     0.77878,     0.77978,     0.78078,     0.78178,     0.78278,     0.78378,     0.78478,     0.78579,     0.78679,     0.78779,     0.78879,     0.78979,     0.79079,     0.79179,\n",
       "           0.79279,     0.79379,     0.79479,      0.7958,      0.7968,      0.7978,      0.7988,      0.7998,      0.8008,      0.8018,      0.8028,      0.8038,      0.8048,     0.80581,     0.80681,     0.80781,     0.80881,     0.80981,     0.81081,     0.81181,     0.81281,     0.81381,     0.81481,     0.81582,\n",
       "           0.81682,     0.81782,     0.81882,     0.81982,     0.82082,     0.82182,     0.82282,     0.82382,     0.82482,     0.82583,     0.82683,     0.82783,     0.82883,     0.82983,     0.83083,     0.83183,     0.83283,     0.83383,     0.83483,     0.83584,     0.83684,     0.83784,     0.83884,     0.83984,\n",
       "           0.84084,     0.84184,     0.84284,     0.84384,     0.84484,     0.84585,     0.84685,     0.84785,     0.84885,     0.84985,     0.85085,     0.85185,     0.85285,     0.85385,     0.85485,     0.85586,     0.85686,     0.85786,     0.85886,     0.85986,     0.86086,     0.86186,     0.86286,     0.86386,\n",
       "           0.86486,     0.86587,     0.86687,     0.86787,     0.86887,     0.86987,     0.87087,     0.87187,     0.87287,     0.87387,     0.87487,     0.87588,     0.87688,     0.87788,     0.87888,     0.87988,     0.88088,     0.88188,     0.88288,     0.88388,     0.88488,     0.88589,     0.88689,     0.88789,\n",
       "           0.88889,     0.88989,     0.89089,     0.89189,     0.89289,     0.89389,     0.89489,      0.8959,      0.8969,      0.8979,      0.8989,      0.8999,      0.9009,      0.9019,      0.9029,      0.9039,      0.9049,     0.90591,     0.90691,     0.90791,     0.90891,     0.90991,     0.91091,     0.91191,\n",
       "           0.91291,     0.91391,     0.91491,     0.91592,     0.91692,     0.91792,     0.91892,     0.91992,     0.92092,     0.92192,     0.92292,     0.92392,     0.92492,     0.92593,     0.92693,     0.92793,     0.92893,     0.92993,     0.93093,     0.93193,     0.93293,     0.93393,     0.93493,     0.93594,\n",
       "           0.93694,     0.93794,     0.93894,     0.93994,     0.94094,     0.94194,     0.94294,     0.94394,     0.94494,     0.94595,     0.94695,     0.94795,     0.94895,     0.94995,     0.95095,     0.95195,     0.95295,     0.95395,     0.95495,     0.95596,     0.95696,     0.95796,     0.95896,     0.95996,\n",
       "           0.96096,     0.96196,     0.96296,     0.96396,     0.96496,     0.96597,     0.96697,     0.96797,     0.96897,     0.96997,     0.97097,     0.97197,     0.97297,     0.97397,     0.97497,     0.97598,     0.97698,     0.97798,     0.97898,     0.97998,     0.98098,     0.98198,     0.98298,     0.98398,\n",
       "           0.98498,     0.98599,     0.98699,     0.98799,     0.98899,     0.98999,     0.99099,     0.99199,     0.99299,     0.99399,     0.99499,       0.996,       0.997,       0.998,       0.999,           1]), array([[    0.10154,     0.10154,     0.10021, ...,           1,           1,           1],\n",
       "       [ 0.00051331,  0.00051331,  0.00051433, ...,           1,           1,           1],\n",
       "       [ 0.00073752,  0.00073752,  0.00073753, ...,           1,           1,           1],\n",
       "       [  0.0021097,   0.0021097,   0.0014894, ...,           1,           1,           1]]), 'Confidence', 'Precision'], [array([          0,    0.001001,    0.002002,    0.003003,    0.004004,    0.005005,    0.006006,    0.007007,    0.008008,    0.009009,     0.01001,    0.011011,    0.012012,    0.013013,    0.014014,    0.015015,    0.016016,    0.017017,    0.018018,    0.019019,     0.02002,    0.021021,    0.022022,    0.023023,\n",
       "          0.024024,    0.025025,    0.026026,    0.027027,    0.028028,    0.029029,     0.03003,    0.031031,    0.032032,    0.033033,    0.034034,    0.035035,    0.036036,    0.037037,    0.038038,    0.039039,     0.04004,    0.041041,    0.042042,    0.043043,    0.044044,    0.045045,    0.046046,    0.047047,\n",
       "          0.048048,    0.049049,     0.05005,    0.051051,    0.052052,    0.053053,    0.054054,    0.055055,    0.056056,    0.057057,    0.058058,    0.059059,     0.06006,    0.061061,    0.062062,    0.063063,    0.064064,    0.065065,    0.066066,    0.067067,    0.068068,    0.069069,     0.07007,    0.071071,\n",
       "          0.072072,    0.073073,    0.074074,    0.075075,    0.076076,    0.077077,    0.078078,    0.079079,     0.08008,    0.081081,    0.082082,    0.083083,    0.084084,    0.085085,    0.086086,    0.087087,    0.088088,    0.089089,     0.09009,    0.091091,    0.092092,    0.093093,    0.094094,    0.095095,\n",
       "          0.096096,    0.097097,    0.098098,    0.099099,      0.1001,      0.1011,      0.1021,      0.1031,      0.1041,     0.10511,     0.10611,     0.10711,     0.10811,     0.10911,     0.11011,     0.11111,     0.11211,     0.11311,     0.11411,     0.11512,     0.11612,     0.11712,     0.11812,     0.11912,\n",
       "           0.12012,     0.12112,     0.12212,     0.12312,     0.12412,     0.12513,     0.12613,     0.12713,     0.12813,     0.12913,     0.13013,     0.13113,     0.13213,     0.13313,     0.13413,     0.13514,     0.13614,     0.13714,     0.13814,     0.13914,     0.14014,     0.14114,     0.14214,     0.14314,\n",
       "           0.14414,     0.14515,     0.14615,     0.14715,     0.14815,     0.14915,     0.15015,     0.15115,     0.15215,     0.15315,     0.15415,     0.15516,     0.15616,     0.15716,     0.15816,     0.15916,     0.16016,     0.16116,     0.16216,     0.16316,     0.16416,     0.16517,     0.16617,     0.16717,\n",
       "           0.16817,     0.16917,     0.17017,     0.17117,     0.17217,     0.17317,     0.17417,     0.17518,     0.17618,     0.17718,     0.17818,     0.17918,     0.18018,     0.18118,     0.18218,     0.18318,     0.18418,     0.18519,     0.18619,     0.18719,     0.18819,     0.18919,     0.19019,     0.19119,\n",
       "           0.19219,     0.19319,     0.19419,      0.1952,      0.1962,      0.1972,      0.1982,      0.1992,      0.2002,      0.2012,      0.2022,      0.2032,      0.2042,     0.20521,     0.20621,     0.20721,     0.20821,     0.20921,     0.21021,     0.21121,     0.21221,     0.21321,     0.21421,     0.21522,\n",
       "           0.21622,     0.21722,     0.21822,     0.21922,     0.22022,     0.22122,     0.22222,     0.22322,     0.22422,     0.22523,     0.22623,     0.22723,     0.22823,     0.22923,     0.23023,     0.23123,     0.23223,     0.23323,     0.23423,     0.23524,     0.23624,     0.23724,     0.23824,     0.23924,\n",
       "           0.24024,     0.24124,     0.24224,     0.24324,     0.24424,     0.24525,     0.24625,     0.24725,     0.24825,     0.24925,     0.25025,     0.25125,     0.25225,     0.25325,     0.25425,     0.25526,     0.25626,     0.25726,     0.25826,     0.25926,     0.26026,     0.26126,     0.26226,     0.26326,\n",
       "           0.26426,     0.26527,     0.26627,     0.26727,     0.26827,     0.26927,     0.27027,     0.27127,     0.27227,     0.27327,     0.27427,     0.27528,     0.27628,     0.27728,     0.27828,     0.27928,     0.28028,     0.28128,     0.28228,     0.28328,     0.28428,     0.28529,     0.28629,     0.28729,\n",
       "           0.28829,     0.28929,     0.29029,     0.29129,     0.29229,     0.29329,     0.29429,      0.2953,      0.2963,      0.2973,      0.2983,      0.2993,      0.3003,      0.3013,      0.3023,      0.3033,      0.3043,     0.30531,     0.30631,     0.30731,     0.30831,     0.30931,     0.31031,     0.31131,\n",
       "           0.31231,     0.31331,     0.31431,     0.31532,     0.31632,     0.31732,     0.31832,     0.31932,     0.32032,     0.32132,     0.32232,     0.32332,     0.32432,     0.32533,     0.32633,     0.32733,     0.32833,     0.32933,     0.33033,     0.33133,     0.33233,     0.33333,     0.33433,     0.33534,\n",
       "           0.33634,     0.33734,     0.33834,     0.33934,     0.34034,     0.34134,     0.34234,     0.34334,     0.34434,     0.34535,     0.34635,     0.34735,     0.34835,     0.34935,     0.35035,     0.35135,     0.35235,     0.35335,     0.35435,     0.35536,     0.35636,     0.35736,     0.35836,     0.35936,\n",
       "           0.36036,     0.36136,     0.36236,     0.36336,     0.36436,     0.36537,     0.36637,     0.36737,     0.36837,     0.36937,     0.37037,     0.37137,     0.37237,     0.37337,     0.37437,     0.37538,     0.37638,     0.37738,     0.37838,     0.37938,     0.38038,     0.38138,     0.38238,     0.38338,\n",
       "           0.38438,     0.38539,     0.38639,     0.38739,     0.38839,     0.38939,     0.39039,     0.39139,     0.39239,     0.39339,     0.39439,      0.3954,      0.3964,      0.3974,      0.3984,      0.3994,      0.4004,      0.4014,      0.4024,      0.4034,      0.4044,     0.40541,     0.40641,     0.40741,\n",
       "           0.40841,     0.40941,     0.41041,     0.41141,     0.41241,     0.41341,     0.41441,     0.41542,     0.41642,     0.41742,     0.41842,     0.41942,     0.42042,     0.42142,     0.42242,     0.42342,     0.42442,     0.42543,     0.42643,     0.42743,     0.42843,     0.42943,     0.43043,     0.43143,\n",
       "           0.43243,     0.43343,     0.43443,     0.43544,     0.43644,     0.43744,     0.43844,     0.43944,     0.44044,     0.44144,     0.44244,     0.44344,     0.44444,     0.44545,     0.44645,     0.44745,     0.44845,     0.44945,     0.45045,     0.45145,     0.45245,     0.45345,     0.45445,     0.45546,\n",
       "           0.45646,     0.45746,     0.45846,     0.45946,     0.46046,     0.46146,     0.46246,     0.46346,     0.46446,     0.46547,     0.46647,     0.46747,     0.46847,     0.46947,     0.47047,     0.47147,     0.47247,     0.47347,     0.47447,     0.47548,     0.47648,     0.47748,     0.47848,     0.47948,\n",
       "           0.48048,     0.48148,     0.48248,     0.48348,     0.48448,     0.48549,     0.48649,     0.48749,     0.48849,     0.48949,     0.49049,     0.49149,     0.49249,     0.49349,     0.49449,      0.4955,      0.4965,      0.4975,      0.4985,      0.4995,      0.5005,      0.5015,      0.5025,      0.5035,\n",
       "            0.5045,     0.50551,     0.50651,     0.50751,     0.50851,     0.50951,     0.51051,     0.51151,     0.51251,     0.51351,     0.51451,     0.51552,     0.51652,     0.51752,     0.51852,     0.51952,     0.52052,     0.52152,     0.52252,     0.52352,     0.52452,     0.52553,     0.52653,     0.52753,\n",
       "           0.52853,     0.52953,     0.53053,     0.53153,     0.53253,     0.53353,     0.53453,     0.53554,     0.53654,     0.53754,     0.53854,     0.53954,     0.54054,     0.54154,     0.54254,     0.54354,     0.54454,     0.54555,     0.54655,     0.54755,     0.54855,     0.54955,     0.55055,     0.55155,\n",
       "           0.55255,     0.55355,     0.55455,     0.55556,     0.55656,     0.55756,     0.55856,     0.55956,     0.56056,     0.56156,     0.56256,     0.56356,     0.56456,     0.56557,     0.56657,     0.56757,     0.56857,     0.56957,     0.57057,     0.57157,     0.57257,     0.57357,     0.57457,     0.57558,\n",
       "           0.57658,     0.57758,     0.57858,     0.57958,     0.58058,     0.58158,     0.58258,     0.58358,     0.58458,     0.58559,     0.58659,     0.58759,     0.58859,     0.58959,     0.59059,     0.59159,     0.59259,     0.59359,     0.59459,      0.5956,      0.5966,      0.5976,      0.5986,      0.5996,\n",
       "            0.6006,      0.6016,      0.6026,      0.6036,      0.6046,     0.60561,     0.60661,     0.60761,     0.60861,     0.60961,     0.61061,     0.61161,     0.61261,     0.61361,     0.61461,     0.61562,     0.61662,     0.61762,     0.61862,     0.61962,     0.62062,     0.62162,     0.62262,     0.62362,\n",
       "           0.62462,     0.62563,     0.62663,     0.62763,     0.62863,     0.62963,     0.63063,     0.63163,     0.63263,     0.63363,     0.63463,     0.63564,     0.63664,     0.63764,     0.63864,     0.63964,     0.64064,     0.64164,     0.64264,     0.64364,     0.64464,     0.64565,     0.64665,     0.64765,\n",
       "           0.64865,     0.64965,     0.65065,     0.65165,     0.65265,     0.65365,     0.65465,     0.65566,     0.65666,     0.65766,     0.65866,     0.65966,     0.66066,     0.66166,     0.66266,     0.66366,     0.66466,     0.66567,     0.66667,     0.66767,     0.66867,     0.66967,     0.67067,     0.67167,\n",
       "           0.67267,     0.67367,     0.67467,     0.67568,     0.67668,     0.67768,     0.67868,     0.67968,     0.68068,     0.68168,     0.68268,     0.68368,     0.68468,     0.68569,     0.68669,     0.68769,     0.68869,     0.68969,     0.69069,     0.69169,     0.69269,     0.69369,     0.69469,      0.6957,\n",
       "            0.6967,      0.6977,      0.6987,      0.6997,      0.7007,      0.7017,      0.7027,      0.7037,      0.7047,     0.70571,     0.70671,     0.70771,     0.70871,     0.70971,     0.71071,     0.71171,     0.71271,     0.71371,     0.71471,     0.71572,     0.71672,     0.71772,     0.71872,     0.71972,\n",
       "           0.72072,     0.72172,     0.72272,     0.72372,     0.72472,     0.72573,     0.72673,     0.72773,     0.72873,     0.72973,     0.73073,     0.73173,     0.73273,     0.73373,     0.73473,     0.73574,     0.73674,     0.73774,     0.73874,     0.73974,     0.74074,     0.74174,     0.74274,     0.74374,\n",
       "           0.74474,     0.74575,     0.74675,     0.74775,     0.74875,     0.74975,     0.75075,     0.75175,     0.75275,     0.75375,     0.75475,     0.75576,     0.75676,     0.75776,     0.75876,     0.75976,     0.76076,     0.76176,     0.76276,     0.76376,     0.76476,     0.76577,     0.76677,     0.76777,\n",
       "           0.76877,     0.76977,     0.77077,     0.77177,     0.77277,     0.77377,     0.77477,     0.77578,     0.77678,     0.77778,     0.77878,     0.77978,     0.78078,     0.78178,     0.78278,     0.78378,     0.78478,     0.78579,     0.78679,     0.78779,     0.78879,     0.78979,     0.79079,     0.79179,\n",
       "           0.79279,     0.79379,     0.79479,      0.7958,      0.7968,      0.7978,      0.7988,      0.7998,      0.8008,      0.8018,      0.8028,      0.8038,      0.8048,     0.80581,     0.80681,     0.80781,     0.80881,     0.80981,     0.81081,     0.81181,     0.81281,     0.81381,     0.81481,     0.81582,\n",
       "           0.81682,     0.81782,     0.81882,     0.81982,     0.82082,     0.82182,     0.82282,     0.82382,     0.82482,     0.82583,     0.82683,     0.82783,     0.82883,     0.82983,     0.83083,     0.83183,     0.83283,     0.83383,     0.83483,     0.83584,     0.83684,     0.83784,     0.83884,     0.83984,\n",
       "           0.84084,     0.84184,     0.84284,     0.84384,     0.84484,     0.84585,     0.84685,     0.84785,     0.84885,     0.84985,     0.85085,     0.85185,     0.85285,     0.85385,     0.85485,     0.85586,     0.85686,     0.85786,     0.85886,     0.85986,     0.86086,     0.86186,     0.86286,     0.86386,\n",
       "           0.86486,     0.86587,     0.86687,     0.86787,     0.86887,     0.86987,     0.87087,     0.87187,     0.87287,     0.87387,     0.87487,     0.87588,     0.87688,     0.87788,     0.87888,     0.87988,     0.88088,     0.88188,     0.88288,     0.88388,     0.88488,     0.88589,     0.88689,     0.88789,\n",
       "           0.88889,     0.88989,     0.89089,     0.89189,     0.89289,     0.89389,     0.89489,      0.8959,      0.8969,      0.8979,      0.8989,      0.8999,      0.9009,      0.9019,      0.9029,      0.9039,      0.9049,     0.90591,     0.90691,     0.90791,     0.90891,     0.90991,     0.91091,     0.91191,\n",
       "           0.91291,     0.91391,     0.91491,     0.91592,     0.91692,     0.91792,     0.91892,     0.91992,     0.92092,     0.92192,     0.92292,     0.92392,     0.92492,     0.92593,     0.92693,     0.92793,     0.92893,     0.92993,     0.93093,     0.93193,     0.93293,     0.93393,     0.93493,     0.93594,\n",
       "           0.93694,     0.93794,     0.93894,     0.93994,     0.94094,     0.94194,     0.94294,     0.94394,     0.94494,     0.94595,     0.94695,     0.94795,     0.94895,     0.94995,     0.95095,     0.95195,     0.95295,     0.95395,     0.95495,     0.95596,     0.95696,     0.95796,     0.95896,     0.95996,\n",
       "           0.96096,     0.96196,     0.96296,     0.96396,     0.96496,     0.96597,     0.96697,     0.96797,     0.96897,     0.96997,     0.97097,     0.97197,     0.97297,     0.97397,     0.97497,     0.97598,     0.97698,     0.97798,     0.97898,     0.97998,     0.98098,     0.98198,     0.98298,     0.98398,\n",
       "           0.98498,     0.98599,     0.98699,     0.98799,     0.98899,     0.98999,     0.99099,     0.99199,     0.99299,     0.99399,     0.99499,       0.996,       0.997,       0.998,       0.999,           1]), array([[    0.22537,     0.22537,     0.22064, ...,           0,           0,           0],\n",
       "       [  0.0061475,   0.0061475,   0.0061475, ...,           0,           0,           0],\n",
       "       [    0.40237,     0.40237,     0.40237, ...,           0,           0,           0],\n",
       "       [   0.015764,    0.015764,    0.011066, ...,           0,           0,           0]]), 'Confidence', 'Recall']]\n",
       "fitness: 0.02127025388618134\n",
       "keys: ['metrics/precision(B)', 'metrics/recall(B)', 'metrics/mAP50(B)', 'metrics/mAP50-95(B)']\n",
       "maps: array([   0.074076,  4.4192e-05,   0.0013306,  0.00052378])\n",
       "names: {0: 'car', 1: 'truck', 2: 'bus', 3: 'vehicle'}\n",
       "plot: True\n",
       "results_dict: {'metrics/precision(B)': 0.026225222372942596, 'metrics/recall(B)': 0.16241318673897037, 'metrics/mAP50(B)': 0.04175979481602328, 'metrics/mAP50-95(B)': 0.01899363822731001, 'fitness': 0.02127025388618134}\n",
       "save_dir: WindowsPath('runs/train/yolov8-uavdt3')\n",
       "speed: {'preprocess': 1.2043667576537147, 'inference': 41.6115564942321, 'loss': 2.5159032248995935e-05, 'postprocess': 2.2837180747049137}\n",
       "task: 'detect'"
      ]
     },
     "execution_count": 13,
     "metadata": {},
     "output_type": "execute_result"
    }
   ],
   "source": [
    "import os\n",
    "from ultralytics import YOLO\n",
    "\n",
    "os.environ[\"KMP_DUPLICATE_LIB_OK\"] = \"TRUE\"\n",
    "\n",
    "model = YOLO(\"yolov8n.pt\")\n",
    "\n",
    "model.train(\n",
    "    data=\"uavdt.yaml\",\n",
    "    epochs=1,\n",
    "    imgsz=640,\n",
    "    batch=32,\n",
    "    show=False,\n",
    "    name=\"yolov8-uavdt\",\n",
    "    project=\"runs/train\"\n",
    ")\n"
   ]
  },
  {
   "cell_type": "markdown",
   "id": "3108448d",
   "metadata": {},
   "source": [
    "# Model Metrics"
   ]
  },
  {
   "cell_type": "code",
   "execution_count": 17,
   "id": "bc4e9d9d",
   "metadata": {},
   "outputs": [
    {
     "name": "stdout",
     "output_type": "stream",
     "text": [
      "Evaluating model: runs/train\\yolov8-uavdt3\\weights\\best.pt\n",
      "Ultralytics 8.3.107  Python-3.12.4 torch-2.5.1+cpu CPU (AMD Ryzen 7 5800H with Radeon Graphics)\n",
      "Model summary (fused): 72 layers, 3,006,428 parameters, 0 gradients, 8.1 GFLOPs\n"
     ]
    },
    {
     "name": "stderr",
     "output_type": "stream",
     "text": [
      "\u001b[34m\u001b[1mval: \u001b[0mScanning D:\\2_Code\\10_ArtificialIntelligence\\1_DeepLearning\\1_DeepLearning_HandsOn_Pytorch\\7_MTP\\Pipeline\\dataset\\UAVDT-processed\\val\\labels.cache... 1101 images, 0 backgrounds, 0 corrupt: 100%|██████████| 1101/1101 [00:00<?, ?it/s]\n",
      "                 Class     Images  Instances      Box(P          R      mAP50  mAP50-95): 100%|██████████| 69/69 [00:50<00:00,  1.37it/s]\n"
     ]
    },
    {
     "name": "stdout",
     "output_type": "stream",
     "text": [
      "                   all       1101      67296     0.0262      0.162     0.0418      0.019\n",
      "                   car       1101      53644      0.102      0.225      0.161     0.0741\n",
      "                 truck        907       3904   0.000513    0.00615   0.000259   4.42e-05\n",
      "                   bus        169        169   0.000738      0.402    0.00402    0.00133\n",
      "               vehicle       1079       9579    0.00211     0.0158    0.00133   0.000524\n",
      "Speed: 0.7ms preprocess, 33.7ms inference, 0.0ms loss, 2.1ms postprocess per image\n",
      "Results saved to \u001b[1mruns\\detect\\val2\u001b[0m\n",
      "\n",
      "📊 Validation Metrics:\n",
      "metrics/precision(B)     : 0.0262\n",
      "metrics/recall(B)        : 0.1624\n",
      "metrics/mAP50(B)         : 0.0418\n",
      "metrics/mAP50-95(B)      : 0.0190\n",
      "fitness                  : 0.0213\n",
      "\n",
      "🎯 Per-Class mAP@0.5:\n",
      "car       : mAP50 = 0.074076\n",
      "truck     : mAP50 = 0.000044\n",
      "bus       : mAP50 = 0.001331\n",
      "vehicle   : mAP50 = 0.000524\n",
      "\n",
      "✅ Saved metrics to runs\\detect\\val2\\metrics_summary.json\n",
      "✅ Saved per-class mAP to runs\\detect\\val2\\per_class_map.txt\n"
     ]
    }
   ],
   "source": [
    "import os\n",
    "import json\n",
    "from ultralytics import YOLO\n",
    "\n",
    "# Path to root directory of your trained runs\n",
    "root_dir = \"runs/train\"\n",
    "\n",
    "# Get all best.pt weights\n",
    "best_weights = []\n",
    "\n",
    "for subdir in os.listdir(root_dir):\n",
    "    full_path = os.path.join(root_dir, subdir, \"weights\", \"best.pt\")\n",
    "    if os.path.isfile(full_path):\n",
    "        best_weights.append(full_path)\n",
    "\n",
    "# Use the first found model (you can loop for multiple if needed)\n",
    "path = best_weights[0]\n",
    "print(f\"Evaluating model: {path}\")\n",
    "\n",
    "# Load and validate the model\n",
    "model = YOLO(path)\n",
    "metrics = model.val()\n",
    "\n",
    "# === Extracted metrics ===\n",
    "results_dict = metrics.results_dict\n",
    "maps = metrics.maps\n",
    "names = metrics.names\n",
    "save_dir = metrics.save_dir\n",
    "\n",
    "# === Print key metrics ===\n",
    "print(\"\\n📊 Validation Metrics:\")\n",
    "for k, v in results_dict.items():\n",
    "    print(f\"{k:<25}: {v:.4f}\")\n",
    "\n",
    "# === Print per-class mAP50 ===\n",
    "print(\"\\n🎯 Per-Class mAP@0.5:\")\n",
    "for i, name in names.items():\n",
    "    print(f\"{name:<10}: mAP50 = {maps[i]:.6f}\")\n",
    "\n",
    "# === Save metrics to JSON ===\n",
    "json_path = os.path.join(save_dir, \"metrics_summary.json\")\n",
    "with open(json_path, \"w\") as f:\n",
    "    json.dump(results_dict, f, indent=4)\n",
    "print(f\"\\n✅ Saved metrics to {json_path}\")\n",
    "\n",
    "# === Save per-class mAP to text ===\n",
    "txt_path = os.path.join(save_dir, \"per_class_map.txt\")\n",
    "with open(txt_path, \"w\") as f:\n",
    "    for i, name in names.items():\n",
    "        f.write(f\"{name}: mAP50 = {maps[i]:.6f}\\n\")\n",
    "print(f\"✅ Saved per-class mAP to {txt_path}\")\n"
   ]
  },
  {
   "cell_type": "markdown",
   "id": "38b50b15",
   "metadata": {},
   "source": [
    "# Save Predictions as a new datsets and get metrics"
   ]
  },
  {
   "cell_type": "code",
   "execution_count": 1,
   "id": "c4b0875a",
   "metadata": {},
   "outputs": [
    {
     "name": "stdout",
     "output_type": "stream",
     "text": [
      "runs/train\\yolov8-uavdt3\\weights\\best.pt\n"
     ]
    },
    {
     "name": "stderr",
     "output_type": "stream",
     "text": [
      "  0%|          | 0/1101 [00:00<?, ?it/s]"
     ]
    },
    {
     "name": "stdout",
     "output_type": "stream",
     "text": [
      "\n",
      "image 1/1 c:\\Users\\sande\\OneDrive\\Desktop\\IITTP\\2_Asgn\\Sem2\\2_dl\\SemProject\\Automated_Yolo\\dataset\\UAVDT-processed\\val\\images\\img000001.jpg: 352x640 (no detections), 60.0ms\n",
      "Speed: 1.9ms preprocess, 60.0ms inference, 0.6ms postprocess per image at shape (1, 3, 352, 640)\n"
     ]
    },
    {
     "name": "stderr",
     "output_type": "stream",
     "text": [
      "  0%|          | 1/1101 [00:01<23:21,  1.27s/it]"
     ]
    },
    {
     "name": "stdout",
     "output_type": "stream",
     "text": [
      "\n",
      "image 1/1 c:\\Users\\sande\\OneDrive\\Desktop\\IITTP\\2_Asgn\\Sem2\\2_dl\\SemProject\\Automated_Yolo\\dataset\\UAVDT-processed\\val\\images\\img000002.jpg: 352x640 (no detections), 37.7ms\n",
      "Speed: 1.5ms preprocess, 37.7ms inference, 0.4ms postprocess per image at shape (1, 3, 352, 640)\n",
      "\n",
      "image 1/1 c:\\Users\\sande\\OneDrive\\Desktop\\IITTP\\2_Asgn\\Sem2\\2_dl\\SemProject\\Automated_Yolo\\dataset\\UAVDT-processed\\val\\images\\img000003.jpg: 352x640 (no detections), 32.6ms\n",
      "Speed: 1.3ms preprocess, 32.6ms inference, 0.4ms postprocess per image at shape (1, 3, 352, 640)\n"
     ]
    },
    {
     "name": "stderr",
     "output_type": "stream",
     "text": [
      "  0%|          | 3/1101 [00:01<06:43,  2.72it/s]"
     ]
    },
    {
     "name": "stdout",
     "output_type": "stream",
     "text": [
      "\n",
      "image 1/1 c:\\Users\\sande\\OneDrive\\Desktop\\IITTP\\2_Asgn\\Sem2\\2_dl\\SemProject\\Automated_Yolo\\dataset\\UAVDT-processed\\val\\images\\img000004.jpg: 352x640 (no detections), 37.5ms\n",
      "Speed: 1.3ms preprocess, 37.5ms inference, 0.4ms postprocess per image at shape (1, 3, 352, 640)\n",
      "\n",
      "image 1/1 c:\\Users\\sande\\OneDrive\\Desktop\\IITTP\\2_Asgn\\Sem2\\2_dl\\SemProject\\Automated_Yolo\\dataset\\UAVDT-processed\\val\\images\\img000005.jpg: 352x640 (no detections), 33.2ms\n",
      "Speed: 1.7ms preprocess, 33.2ms inference, 0.3ms postprocess per image at shape (1, 3, 352, 640)\n"
     ]
    },
    {
     "name": "stderr",
     "output_type": "stream",
     "text": [
      "  0%|          | 5/1101 [00:01<03:45,  4.86it/s]"
     ]
    },
    {
     "name": "stdout",
     "output_type": "stream",
     "text": [
      "\n",
      "image 1/1 c:\\Users\\sande\\OneDrive\\Desktop\\IITTP\\2_Asgn\\Sem2\\2_dl\\SemProject\\Automated_Yolo\\dataset\\UAVDT-processed\\val\\images\\img000006.jpg: 352x640 (no detections), 41.1ms\n",
      "Speed: 1.2ms preprocess, 41.1ms inference, 0.5ms postprocess per image at shape (1, 3, 352, 640)\n",
      "\n",
      "image 1/1 c:\\Users\\sande\\OneDrive\\Desktop\\IITTP\\2_Asgn\\Sem2\\2_dl\\SemProject\\Automated_Yolo\\dataset\\UAVDT-processed\\val\\images\\img000007.jpg: 352x640 (no detections), 33.4ms\n",
      "Speed: 1.4ms preprocess, 33.4ms inference, 0.4ms postprocess per image at shape (1, 3, 352, 640)\n",
      "\n",
      "image 1/1 c:\\Users\\sande\\OneDrive\\Desktop\\IITTP\\2_Asgn\\Sem2\\2_dl\\SemProject\\Automated_Yolo\\dataset\\UAVDT-processed\\val\\images\\img000008.jpg: 352x640 (no detections), 32.6ms\n",
      "Speed: 1.3ms preprocess, 32.6ms inference, 0.4ms postprocess per image at shape (1, 3, 352, 640)\n"
     ]
    },
    {
     "name": "stderr",
     "output_type": "stream",
     "text": [
      "  1%|          | 8/1101 [00:01<02:15,  8.09it/s]"
     ]
    },
    {
     "name": "stdout",
     "output_type": "stream",
     "text": [
      "\n",
      "image 1/1 c:\\Users\\sande\\OneDrive\\Desktop\\IITTP\\2_Asgn\\Sem2\\2_dl\\SemProject\\Automated_Yolo\\dataset\\UAVDT-processed\\val\\images\\img000009.jpg: 352x640 (no detections), 37.5ms\n",
      "Speed: 1.3ms preprocess, 37.5ms inference, 0.3ms postprocess per image at shape (1, 3, 352, 640)\n",
      "\n",
      "image 1/1 c:\\Users\\sande\\OneDrive\\Desktop\\IITTP\\2_Asgn\\Sem2\\2_dl\\SemProject\\Automated_Yolo\\dataset\\UAVDT-processed\\val\\images\\img000010.jpg: 352x640 (no detections), 32.9ms\n",
      "Speed: 1.2ms preprocess, 32.9ms inference, 0.4ms postprocess per image at shape (1, 3, 352, 640)\n"
     ]
    },
    {
     "name": "stderr",
     "output_type": "stream",
     "text": [
      "  1%|          | 10/1101 [00:01<01:49,  9.92it/s]"
     ]
    },
    {
     "name": "stdout",
     "output_type": "stream",
     "text": [
      "\n",
      "image 1/1 c:\\Users\\sande\\OneDrive\\Desktop\\IITTP\\2_Asgn\\Sem2\\2_dl\\SemProject\\Automated_Yolo\\dataset\\UAVDT-processed\\val\\images\\img000011.jpg: 352x640 (no detections), 36.8ms\n",
      "Speed: 1.4ms preprocess, 36.8ms inference, 0.3ms postprocess per image at shape (1, 3, 352, 640)\n",
      "\n",
      "image 1/1 c:\\Users\\sande\\OneDrive\\Desktop\\IITTP\\2_Asgn\\Sem2\\2_dl\\SemProject\\Automated_Yolo\\dataset\\UAVDT-processed\\val\\images\\img000012.jpg: 352x640 (no detections), 32.4ms\n",
      "Speed: 1.3ms preprocess, 32.4ms inference, 0.4ms postprocess per image at shape (1, 3, 352, 640)\n",
      "\n",
      "image 1/1 c:\\Users\\sande\\OneDrive\\Desktop\\IITTP\\2_Asgn\\Sem2\\2_dl\\SemProject\\Automated_Yolo\\dataset\\UAVDT-processed\\val\\images\\img000013.jpg: 352x640 (no detections), 36.6ms\n",
      "Speed: 1.3ms preprocess, 36.6ms inference, 0.5ms postprocess per image at shape (1, 3, 352, 640)\n"
     ]
    },
    {
     "name": "stderr",
     "output_type": "stream",
     "text": [
      "  1%|          | 13/1101 [00:01<01:26, 12.56it/s]"
     ]
    },
    {
     "name": "stdout",
     "output_type": "stream",
     "text": [
      "\n",
      "image 1/1 c:\\Users\\sande\\OneDrive\\Desktop\\IITTP\\2_Asgn\\Sem2\\2_dl\\SemProject\\Automated_Yolo\\dataset\\UAVDT-processed\\val\\images\\img000014.jpg: 352x640 (no detections), 66.7ms\n",
      "Speed: 1.4ms preprocess, 66.7ms inference, 0.5ms postprocess per image at shape (1, 3, 352, 640)\n",
      "\n",
      "image 1/1 c:\\Users\\sande\\OneDrive\\Desktop\\IITTP\\2_Asgn\\Sem2\\2_dl\\SemProject\\Automated_Yolo\\dataset\\UAVDT-processed\\val\\images\\img000015.jpg: 352x640 (no detections), 35.1ms\n",
      "Speed: 1.5ms preprocess, 35.1ms inference, 0.3ms postprocess per image at shape (1, 3, 352, 640)\n"
     ]
    },
    {
     "name": "stderr",
     "output_type": "stream",
     "text": [
      "  1%|▏         | 15/1101 [00:02<01:23, 13.02it/s]"
     ]
    },
    {
     "name": "stdout",
     "output_type": "stream",
     "text": [
      "\n",
      "image 1/1 c:\\Users\\sande\\OneDrive\\Desktop\\IITTP\\2_Asgn\\Sem2\\2_dl\\SemProject\\Automated_Yolo\\dataset\\UAVDT-processed\\val\\images\\img000016.jpg: 352x640 (no detections), 37.0ms\n",
      "Speed: 1.3ms preprocess, 37.0ms inference, 0.4ms postprocess per image at shape (1, 3, 352, 640)\n",
      "\n",
      "image 1/1 c:\\Users\\sande\\OneDrive\\Desktop\\IITTP\\2_Asgn\\Sem2\\2_dl\\SemProject\\Automated_Yolo\\dataset\\UAVDT-processed\\val\\images\\img000017.jpg: 352x640 (no detections), 35.2ms\n",
      "Speed: 1.4ms preprocess, 35.2ms inference, 0.4ms postprocess per image at shape (1, 3, 352, 640)\n"
     ]
    },
    {
     "name": "stderr",
     "output_type": "stream",
     "text": [
      "  2%|▏         | 17/1101 [00:02<01:16, 14.25it/s]"
     ]
    },
    {
     "name": "stdout",
     "output_type": "stream",
     "text": [
      "\n",
      "image 1/1 c:\\Users\\sande\\OneDrive\\Desktop\\IITTP\\2_Asgn\\Sem2\\2_dl\\SemProject\\Automated_Yolo\\dataset\\UAVDT-processed\\val\\images\\img000018.jpg: 352x640 (no detections), 41.4ms\n",
      "Speed: 2.2ms preprocess, 41.4ms inference, 0.4ms postprocess per image at shape (1, 3, 352, 640)\n",
      "\n",
      "image 1/1 c:\\Users\\sande\\OneDrive\\Desktop\\IITTP\\2_Asgn\\Sem2\\2_dl\\SemProject\\Automated_Yolo\\dataset\\UAVDT-processed\\val\\images\\img000019.jpg: 352x640 (no detections), 39.3ms\n",
      "Speed: 2.1ms preprocess, 39.3ms inference, 0.5ms postprocess per image at shape (1, 3, 352, 640)\n"
     ]
    },
    {
     "name": "stderr",
     "output_type": "stream",
     "text": [
      "  2%|▏         | 19/1101 [00:02<01:12, 14.91it/s]"
     ]
    },
    {
     "name": "stdout",
     "output_type": "stream",
     "text": [
      "\n",
      "image 1/1 c:\\Users\\sande\\OneDrive\\Desktop\\IITTP\\2_Asgn\\Sem2\\2_dl\\SemProject\\Automated_Yolo\\dataset\\UAVDT-processed\\val\\images\\img000020.jpg: 352x640 (no detections), 40.4ms\n",
      "Speed: 1.9ms preprocess, 40.4ms inference, 0.4ms postprocess per image at shape (1, 3, 352, 640)\n",
      "\n",
      "image 1/1 c:\\Users\\sande\\OneDrive\\Desktop\\IITTP\\2_Asgn\\Sem2\\2_dl\\SemProject\\Automated_Yolo\\dataset\\UAVDT-processed\\val\\images\\img000021.jpg: 352x640 (no detections), 36.2ms\n",
      "Speed: 1.5ms preprocess, 36.2ms inference, 0.4ms postprocess per image at shape (1, 3, 352, 640)\n"
     ]
    },
    {
     "name": "stderr",
     "output_type": "stream",
     "text": [
      "  2%|▏         | 21/1101 [00:02<01:08, 15.77it/s]"
     ]
    },
    {
     "name": "stdout",
     "output_type": "stream",
     "text": [
      "\n",
      "image 1/1 c:\\Users\\sande\\OneDrive\\Desktop\\IITTP\\2_Asgn\\Sem2\\2_dl\\SemProject\\Automated_Yolo\\dataset\\UAVDT-processed\\val\\images\\img000022.jpg: 352x640 (no detections), 38.6ms\n",
      "Speed: 2.1ms preprocess, 38.6ms inference, 0.5ms postprocess per image at shape (1, 3, 352, 640)\n",
      "\n",
      "image 1/1 c:\\Users\\sande\\OneDrive\\Desktop\\IITTP\\2_Asgn\\Sem2\\2_dl\\SemProject\\Automated_Yolo\\dataset\\UAVDT-processed\\val\\images\\img000023.jpg: 352x640 (no detections), 36.7ms\n",
      "Speed: 2.2ms preprocess, 36.7ms inference, 0.4ms postprocess per image at shape (1, 3, 352, 640)\n"
     ]
    },
    {
     "name": "stderr",
     "output_type": "stream",
     "text": [
      "  2%|▏         | 23/1101 [00:02<01:06, 16.19it/s]"
     ]
    },
    {
     "name": "stdout",
     "output_type": "stream",
     "text": [
      "\n",
      "image 1/1 c:\\Users\\sande\\OneDrive\\Desktop\\IITTP\\2_Asgn\\Sem2\\2_dl\\SemProject\\Automated_Yolo\\dataset\\UAVDT-processed\\val\\images\\img000024.jpg: 352x640 (no detections), 40.9ms\n",
      "Speed: 1.4ms preprocess, 40.9ms inference, 0.5ms postprocess per image at shape (1, 3, 352, 640)\n",
      "\n",
      "image 1/1 c:\\Users\\sande\\OneDrive\\Desktop\\IITTP\\2_Asgn\\Sem2\\2_dl\\SemProject\\Automated_Yolo\\dataset\\UAVDT-processed\\val\\images\\img000025.jpg: 352x640 (no detections), 43.1ms\n",
      "Speed: 1.9ms preprocess, 43.1ms inference, 0.5ms postprocess per image at shape (1, 3, 352, 640)\n"
     ]
    },
    {
     "name": "stderr",
     "output_type": "stream",
     "text": [
      "  2%|▏         | 25/1101 [00:02<01:05, 16.41it/s]"
     ]
    },
    {
     "name": "stdout",
     "output_type": "stream",
     "text": [
      "\n",
      "image 1/1 c:\\Users\\sande\\OneDrive\\Desktop\\IITTP\\2_Asgn\\Sem2\\2_dl\\SemProject\\Automated_Yolo\\dataset\\UAVDT-processed\\val\\images\\img000026.jpg: 352x640 (no detections), 51.2ms\n",
      "Speed: 2.4ms preprocess, 51.2ms inference, 0.7ms postprocess per image at shape (1, 3, 352, 640)\n",
      "\n",
      "image 1/1 c:\\Users\\sande\\OneDrive\\Desktop\\IITTP\\2_Asgn\\Sem2\\2_dl\\SemProject\\Automated_Yolo\\dataset\\UAVDT-processed\\val\\images\\img000027.jpg: 352x640 (no detections), 47.2ms\n",
      "Speed: 2.4ms preprocess, 47.2ms inference, 0.6ms postprocess per image at shape (1, 3, 352, 640)\n"
     ]
    },
    {
     "name": "stderr",
     "output_type": "stream",
     "text": [
      "  2%|▏         | 27/1101 [00:02<01:10, 15.19it/s]"
     ]
    },
    {
     "name": "stdout",
     "output_type": "stream",
     "text": [
      "\n",
      "image 1/1 c:\\Users\\sande\\OneDrive\\Desktop\\IITTP\\2_Asgn\\Sem2\\2_dl\\SemProject\\Automated_Yolo\\dataset\\UAVDT-processed\\val\\images\\img000028.jpg: 352x640 (no detections), 42.7ms\n",
      "Speed: 2.8ms preprocess, 42.7ms inference, 0.5ms postprocess per image at shape (1, 3, 352, 640)\n",
      "\n",
      "image 1/1 c:\\Users\\sande\\OneDrive\\Desktop\\IITTP\\2_Asgn\\Sem2\\2_dl\\SemProject\\Automated_Yolo\\dataset\\UAVDT-processed\\val\\images\\img000029.jpg: 352x640 (no detections), 36.0ms\n",
      "Speed: 1.4ms preprocess, 36.0ms inference, 0.9ms postprocess per image at shape (1, 3, 352, 640)\n"
     ]
    },
    {
     "name": "stderr",
     "output_type": "stream",
     "text": [
      "  3%|▎         | 29/1101 [00:02<01:09, 15.47it/s]"
     ]
    },
    {
     "name": "stdout",
     "output_type": "stream",
     "text": [
      "\n",
      "image 1/1 c:\\Users\\sande\\OneDrive\\Desktop\\IITTP\\2_Asgn\\Sem2\\2_dl\\SemProject\\Automated_Yolo\\dataset\\UAVDT-processed\\val\\images\\img000030.jpg: 352x640 (no detections), 57.9ms\n",
      "Speed: 3.6ms preprocess, 57.9ms inference, 0.5ms postprocess per image at shape (1, 3, 352, 640)\n",
      "\n",
      "image 1/1 c:\\Users\\sande\\OneDrive\\Desktop\\IITTP\\2_Asgn\\Sem2\\2_dl\\SemProject\\Automated_Yolo\\dataset\\UAVDT-processed\\val\\images\\img000031.jpg: 352x640 (no detections), 37.5ms\n",
      "Speed: 1.5ms preprocess, 37.5ms inference, 0.4ms postprocess per image at shape (1, 3, 352, 640)\n"
     ]
    },
    {
     "name": "stderr",
     "output_type": "stream",
     "text": [
      "  3%|▎         | 31/1101 [00:03<01:10, 15.20it/s]"
     ]
    },
    {
     "name": "stdout",
     "output_type": "stream",
     "text": [
      "\n",
      "image 1/1 c:\\Users\\sande\\OneDrive\\Desktop\\IITTP\\2_Asgn\\Sem2\\2_dl\\SemProject\\Automated_Yolo\\dataset\\UAVDT-processed\\val\\images\\img000032.jpg: 352x640 (no detections), 42.4ms\n",
      "Speed: 1.7ms preprocess, 42.4ms inference, 0.4ms postprocess per image at shape (1, 3, 352, 640)\n",
      "\n",
      "image 1/1 c:\\Users\\sande\\OneDrive\\Desktop\\IITTP\\2_Asgn\\Sem2\\2_dl\\SemProject\\Automated_Yolo\\dataset\\UAVDT-processed\\val\\images\\img000033.jpg: 352x640 (no detections), 40.7ms\n",
      "Speed: 2.2ms preprocess, 40.7ms inference, 0.5ms postprocess per image at shape (1, 3, 352, 640)\n"
     ]
    },
    {
     "name": "stderr",
     "output_type": "stream",
     "text": [
      "  3%|▎         | 33/1101 [00:03<01:08, 15.49it/s]"
     ]
    },
    {
     "name": "stdout",
     "output_type": "stream",
     "text": [
      "\n",
      "image 1/1 c:\\Users\\sande\\OneDrive\\Desktop\\IITTP\\2_Asgn\\Sem2\\2_dl\\SemProject\\Automated_Yolo\\dataset\\UAVDT-processed\\val\\images\\img000034.jpg: 352x640 (no detections), 41.7ms\n",
      "Speed: 1.4ms preprocess, 41.7ms inference, 0.4ms postprocess per image at shape (1, 3, 352, 640)\n",
      "\n",
      "image 1/1 c:\\Users\\sande\\OneDrive\\Desktop\\IITTP\\2_Asgn\\Sem2\\2_dl\\SemProject\\Automated_Yolo\\dataset\\UAVDT-processed\\val\\images\\img000035.jpg: 352x640 (no detections), 39.0ms\n",
      "Speed: 2.2ms preprocess, 39.0ms inference, 0.5ms postprocess per image at shape (1, 3, 352, 640)\n"
     ]
    },
    {
     "name": "stderr",
     "output_type": "stream",
     "text": [
      "  3%|▎         | 35/1101 [00:03<01:07, 15.90it/s]"
     ]
    },
    {
     "name": "stdout",
     "output_type": "stream",
     "text": [
      "\n",
      "image 1/1 c:\\Users\\sande\\OneDrive\\Desktop\\IITTP\\2_Asgn\\Sem2\\2_dl\\SemProject\\Automated_Yolo\\dataset\\UAVDT-processed\\val\\images\\img000036.jpg: 352x640 (no detections), 39.5ms\n",
      "Speed: 2.2ms preprocess, 39.5ms inference, 0.4ms postprocess per image at shape (1, 3, 352, 640)\n",
      "\n",
      "image 1/1 c:\\Users\\sande\\OneDrive\\Desktop\\IITTP\\2_Asgn\\Sem2\\2_dl\\SemProject\\Automated_Yolo\\dataset\\UAVDT-processed\\val\\images\\img000037.jpg: 352x640 (no detections), 39.8ms\n",
      "Speed: 2.2ms preprocess, 39.8ms inference, 0.4ms postprocess per image at shape (1, 3, 352, 640)\n"
     ]
    },
    {
     "name": "stderr",
     "output_type": "stream",
     "text": [
      "  3%|▎         | 37/1101 [00:03<01:06, 16.03it/s]"
     ]
    },
    {
     "name": "stdout",
     "output_type": "stream",
     "text": [
      "\n",
      "image 1/1 c:\\Users\\sande\\OneDrive\\Desktop\\IITTP\\2_Asgn\\Sem2\\2_dl\\SemProject\\Automated_Yolo\\dataset\\UAVDT-processed\\val\\images\\img000038.jpg: 352x640 (no detections), 42.6ms\n",
      "Speed: 2.4ms preprocess, 42.6ms inference, 0.4ms postprocess per image at shape (1, 3, 352, 640)\n",
      "\n",
      "image 1/1 c:\\Users\\sande\\OneDrive\\Desktop\\IITTP\\2_Asgn\\Sem2\\2_dl\\SemProject\\Automated_Yolo\\dataset\\UAVDT-processed\\val\\images\\img000039.jpg: 352x640 (no detections), 36.9ms\n",
      "Speed: 1.6ms preprocess, 36.9ms inference, 0.5ms postprocess per image at shape (1, 3, 352, 640)\n"
     ]
    },
    {
     "name": "stderr",
     "output_type": "stream",
     "text": [
      "  4%|▎         | 39/1101 [00:03<01:04, 16.44it/s]"
     ]
    },
    {
     "name": "stdout",
     "output_type": "stream",
     "text": [
      "\n",
      "image 1/1 c:\\Users\\sande\\OneDrive\\Desktop\\IITTP\\2_Asgn\\Sem2\\2_dl\\SemProject\\Automated_Yolo\\dataset\\UAVDT-processed\\val\\images\\img000040.jpg: 352x640 (no detections), 41.2ms\n",
      "Speed: 1.4ms preprocess, 41.2ms inference, 0.4ms postprocess per image at shape (1, 3, 352, 640)\n",
      "\n",
      "image 1/1 c:\\Users\\sande\\OneDrive\\Desktop\\IITTP\\2_Asgn\\Sem2\\2_dl\\SemProject\\Automated_Yolo\\dataset\\UAVDT-processed\\val\\images\\img000041.jpg: 352x640 (no detections), 40.0ms\n",
      "Speed: 1.8ms preprocess, 40.0ms inference, 0.5ms postprocess per image at shape (1, 3, 352, 640)\n"
     ]
    },
    {
     "name": "stderr",
     "output_type": "stream",
     "text": [
      "  4%|▎         | 41/1101 [00:03<01:03, 16.62it/s]"
     ]
    },
    {
     "name": "stdout",
     "output_type": "stream",
     "text": [
      "\n",
      "image 1/1 c:\\Users\\sande\\OneDrive\\Desktop\\IITTP\\2_Asgn\\Sem2\\2_dl\\SemProject\\Automated_Yolo\\dataset\\UAVDT-processed\\val\\images\\img000042.jpg: 352x640 (no detections), 79.7ms\n",
      "Speed: 2.2ms preprocess, 79.7ms inference, 0.5ms postprocess per image at shape (1, 3, 352, 640)\n",
      "\n",
      "image 1/1 c:\\Users\\sande\\OneDrive\\Desktop\\IITTP\\2_Asgn\\Sem2\\2_dl\\SemProject\\Automated_Yolo\\dataset\\UAVDT-processed\\val\\images\\img000043.jpg: 352x640 (no detections), 39.9ms\n",
      "Speed: 1.5ms preprocess, 39.9ms inference, 0.6ms postprocess per image at shape (1, 3, 352, 640)\n"
     ]
    },
    {
     "name": "stderr",
     "output_type": "stream",
     "text": [
      "  4%|▍         | 43/1101 [00:03<01:11, 14.90it/s]"
     ]
    },
    {
     "name": "stdout",
     "output_type": "stream",
     "text": [
      "\n",
      "image 1/1 c:\\Users\\sande\\OneDrive\\Desktop\\IITTP\\2_Asgn\\Sem2\\2_dl\\SemProject\\Automated_Yolo\\dataset\\UAVDT-processed\\val\\images\\img000044.jpg: 352x640 (no detections), 43.3ms\n",
      "Speed: 1.9ms preprocess, 43.3ms inference, 0.5ms postprocess per image at shape (1, 3, 352, 640)\n",
      "\n",
      "image 1/1 c:\\Users\\sande\\OneDrive\\Desktop\\IITTP\\2_Asgn\\Sem2\\2_dl\\SemProject\\Automated_Yolo\\dataset\\UAVDT-processed\\val\\images\\img000045.jpg: 352x640 (no detections), 36.2ms\n",
      "Speed: 1.7ms preprocess, 36.2ms inference, 0.4ms postprocess per image at shape (1, 3, 352, 640)\n"
     ]
    },
    {
     "name": "stderr",
     "output_type": "stream",
     "text": [
      "  4%|▍         | 45/1101 [00:03<01:08, 15.43it/s]"
     ]
    },
    {
     "name": "stdout",
     "output_type": "stream",
     "text": [
      "\n",
      "image 1/1 c:\\Users\\sande\\OneDrive\\Desktop\\IITTP\\2_Asgn\\Sem2\\2_dl\\SemProject\\Automated_Yolo\\dataset\\UAVDT-processed\\val\\images\\img000046.jpg: 352x640 (no detections), 43.5ms\n",
      "Speed: 2.1ms preprocess, 43.5ms inference, 0.6ms postprocess per image at shape (1, 3, 352, 640)\n",
      "\n",
      "image 1/1 c:\\Users\\sande\\OneDrive\\Desktop\\IITTP\\2_Asgn\\Sem2\\2_dl\\SemProject\\Automated_Yolo\\dataset\\UAVDT-processed\\val\\images\\img000047.jpg: 352x640 (no detections), 34.5ms\n",
      "Speed: 1.5ms preprocess, 34.5ms inference, 0.4ms postprocess per image at shape (1, 3, 352, 640)\n"
     ]
    },
    {
     "name": "stderr",
     "output_type": "stream",
     "text": [
      "  4%|▍         | 47/1101 [00:04<01:06, 15.85it/s]"
     ]
    },
    {
     "name": "stdout",
     "output_type": "stream",
     "text": [
      "\n",
      "image 1/1 c:\\Users\\sande\\OneDrive\\Desktop\\IITTP\\2_Asgn\\Sem2\\2_dl\\SemProject\\Automated_Yolo\\dataset\\UAVDT-processed\\val\\images\\img000048.jpg: 352x640 (no detections), 42.9ms\n",
      "Speed: 2.3ms preprocess, 42.9ms inference, 0.5ms postprocess per image at shape (1, 3, 352, 640)\n",
      "\n",
      "image 1/1 c:\\Users\\sande\\OneDrive\\Desktop\\IITTP\\2_Asgn\\Sem2\\2_dl\\SemProject\\Automated_Yolo\\dataset\\UAVDT-processed\\val\\images\\img000049.jpg: 352x640 (no detections), 38.3ms\n",
      "Speed: 1.6ms preprocess, 38.3ms inference, 0.4ms postprocess per image at shape (1, 3, 352, 640)\n"
     ]
    },
    {
     "name": "stderr",
     "output_type": "stream",
     "text": [
      "  4%|▍         | 49/1101 [00:04<01:05, 16.07it/s]"
     ]
    },
    {
     "name": "stdout",
     "output_type": "stream",
     "text": [
      "\n",
      "image 1/1 c:\\Users\\sande\\OneDrive\\Desktop\\IITTP\\2_Asgn\\Sem2\\2_dl\\SemProject\\Automated_Yolo\\dataset\\UAVDT-processed\\val\\images\\img000050.jpg: 352x640 (no detections), 42.7ms\n",
      "Speed: 2.0ms preprocess, 42.7ms inference, 0.4ms postprocess per image at shape (1, 3, 352, 640)\n",
      "\n",
      "image 1/1 c:\\Users\\sande\\OneDrive\\Desktop\\IITTP\\2_Asgn\\Sem2\\2_dl\\SemProject\\Automated_Yolo\\dataset\\UAVDT-processed\\val\\images\\img000051.jpg: 352x640 (no detections), 39.4ms\n",
      "Speed: 2.5ms preprocess, 39.4ms inference, 0.6ms postprocess per image at shape (1, 3, 352, 640)\n"
     ]
    },
    {
     "name": "stderr",
     "output_type": "stream",
     "text": [
      "  5%|▍         | 51/1101 [00:04<01:04, 16.33it/s]"
     ]
    },
    {
     "name": "stdout",
     "output_type": "stream",
     "text": [
      "\n",
      "image 1/1 c:\\Users\\sande\\OneDrive\\Desktop\\IITTP\\2_Asgn\\Sem2\\2_dl\\SemProject\\Automated_Yolo\\dataset\\UAVDT-processed\\val\\images\\img000052.jpg: 352x640 (no detections), 42.3ms\n",
      "Speed: 2.2ms preprocess, 42.3ms inference, 0.4ms postprocess per image at shape (1, 3, 352, 640)\n",
      "\n",
      "image 1/1 c:\\Users\\sande\\OneDrive\\Desktop\\IITTP\\2_Asgn\\Sem2\\2_dl\\SemProject\\Automated_Yolo\\dataset\\UAVDT-processed\\val\\images\\img000053.jpg: 352x640 (no detections), 40.8ms\n",
      "Speed: 2.2ms preprocess, 40.8ms inference, 0.5ms postprocess per image at shape (1, 3, 352, 640)\n"
     ]
    },
    {
     "name": "stderr",
     "output_type": "stream",
     "text": [
      "  5%|▍         | 53/1101 [00:04<01:05, 16.05it/s]"
     ]
    },
    {
     "name": "stdout",
     "output_type": "stream",
     "text": [
      "\n",
      "image 1/1 c:\\Users\\sande\\OneDrive\\Desktop\\IITTP\\2_Asgn\\Sem2\\2_dl\\SemProject\\Automated_Yolo\\dataset\\UAVDT-processed\\val\\images\\img000054.jpg: 352x640 (no detections), 39.9ms\n",
      "Speed: 1.4ms preprocess, 39.9ms inference, 0.4ms postprocess per image at shape (1, 3, 352, 640)\n",
      "\n",
      "image 1/1 c:\\Users\\sande\\OneDrive\\Desktop\\IITTP\\2_Asgn\\Sem2\\2_dl\\SemProject\\Automated_Yolo\\dataset\\UAVDT-processed\\val\\images\\img000055.jpg: 352x640 (no detections), 39.9ms\n",
      "Speed: 2.3ms preprocess, 39.9ms inference, 0.5ms postprocess per image at shape (1, 3, 352, 640)\n"
     ]
    },
    {
     "name": "stderr",
     "output_type": "stream",
     "text": [
      "  5%|▍         | 55/1101 [00:04<01:04, 16.32it/s]"
     ]
    },
    {
     "name": "stdout",
     "output_type": "stream",
     "text": [
      "\n",
      "image 1/1 c:\\Users\\sande\\OneDrive\\Desktop\\IITTP\\2_Asgn\\Sem2\\2_dl\\SemProject\\Automated_Yolo\\dataset\\UAVDT-processed\\val\\images\\img000056.jpg: 352x640 (no detections), 58.7ms\n",
      "Speed: 4.0ms preprocess, 58.7ms inference, 0.5ms postprocess per image at shape (1, 3, 352, 640)\n",
      "\n",
      "image 1/1 c:\\Users\\sande\\OneDrive\\Desktop\\IITTP\\2_Asgn\\Sem2\\2_dl\\SemProject\\Automated_Yolo\\dataset\\UAVDT-processed\\val\\images\\img000057.jpg: 352x640 (no detections), 40.8ms\n",
      "Speed: 1.6ms preprocess, 40.8ms inference, 0.4ms postprocess per image at shape (1, 3, 352, 640)\n"
     ]
    },
    {
     "name": "stderr",
     "output_type": "stream",
     "text": [
      "  5%|▌         | 57/1101 [00:04<01:07, 15.52it/s]"
     ]
    },
    {
     "name": "stdout",
     "output_type": "stream",
     "text": [
      "\n",
      "image 1/1 c:\\Users\\sande\\OneDrive\\Desktop\\IITTP\\2_Asgn\\Sem2\\2_dl\\SemProject\\Automated_Yolo\\dataset\\UAVDT-processed\\val\\images\\img000058.jpg: 352x640 (no detections), 44.5ms\n",
      "Speed: 2.3ms preprocess, 44.5ms inference, 0.5ms postprocess per image at shape (1, 3, 352, 640)\n",
      "\n",
      "image 1/1 c:\\Users\\sande\\OneDrive\\Desktop\\IITTP\\2_Asgn\\Sem2\\2_dl\\SemProject\\Automated_Yolo\\dataset\\UAVDT-processed\\val\\images\\img000059.jpg: 352x640 (no detections), 37.2ms\n",
      "Speed: 1.5ms preprocess, 37.2ms inference, 0.5ms postprocess per image at shape (1, 3, 352, 640)\n"
     ]
    },
    {
     "name": "stderr",
     "output_type": "stream",
     "text": [
      "  5%|▌         | 59/1101 [00:04<01:05, 15.82it/s]"
     ]
    },
    {
     "name": "stdout",
     "output_type": "stream",
     "text": [
      "\n",
      "image 1/1 c:\\Users\\sande\\OneDrive\\Desktop\\IITTP\\2_Asgn\\Sem2\\2_dl\\SemProject\\Automated_Yolo\\dataset\\UAVDT-processed\\val\\images\\img000060.jpg: 352x640 (no detections), 43.6ms\n",
      "Speed: 2.2ms preprocess, 43.6ms inference, 0.6ms postprocess per image at shape (1, 3, 352, 640)\n",
      "\n",
      "image 1/1 c:\\Users\\sande\\OneDrive\\Desktop\\IITTP\\2_Asgn\\Sem2\\2_dl\\SemProject\\Automated_Yolo\\dataset\\UAVDT-processed\\val\\images\\img000061.jpg: 352x640 (no detections), 40.4ms\n",
      "Speed: 1.5ms preprocess, 40.4ms inference, 0.4ms postprocess per image at shape (1, 3, 352, 640)\n"
     ]
    },
    {
     "name": "stderr",
     "output_type": "stream",
     "text": [
      "  6%|▌         | 61/1101 [00:04<01:05, 15.96it/s]"
     ]
    },
    {
     "name": "stdout",
     "output_type": "stream",
     "text": [
      "\n",
      "image 1/1 c:\\Users\\sande\\OneDrive\\Desktop\\IITTP\\2_Asgn\\Sem2\\2_dl\\SemProject\\Automated_Yolo\\dataset\\UAVDT-processed\\val\\images\\img000062.jpg: 352x640 (no detections), 43.9ms\n",
      "Speed: 2.3ms preprocess, 43.9ms inference, 0.5ms postprocess per image at shape (1, 3, 352, 640)\n",
      "\n",
      "image 1/1 c:\\Users\\sande\\OneDrive\\Desktop\\IITTP\\2_Asgn\\Sem2\\2_dl\\SemProject\\Automated_Yolo\\dataset\\UAVDT-processed\\val\\images\\img000063.jpg: 352x640 (no detections), 39.4ms\n",
      "Speed: 1.8ms preprocess, 39.4ms inference, 0.5ms postprocess per image at shape (1, 3, 352, 640)\n"
     ]
    },
    {
     "name": "stderr",
     "output_type": "stream",
     "text": [
      "  6%|▌         | 63/1101 [00:04<01:02, 16.48it/s]"
     ]
    },
    {
     "name": "stdout",
     "output_type": "stream",
     "text": [
      "\n",
      "image 1/1 c:\\Users\\sande\\OneDrive\\Desktop\\IITTP\\2_Asgn\\Sem2\\2_dl\\SemProject\\Automated_Yolo\\dataset\\UAVDT-processed\\val\\images\\img000064.jpg: 352x640 (no detections), 43.4ms\n",
      "Speed: 1.5ms preprocess, 43.4ms inference, 0.5ms postprocess per image at shape (1, 3, 352, 640)\n",
      "\n",
      "image 1/1 c:\\Users\\sande\\OneDrive\\Desktop\\IITTP\\2_Asgn\\Sem2\\2_dl\\SemProject\\Automated_Yolo\\dataset\\UAVDT-processed\\val\\images\\img000065.jpg: 352x640 (no detections), 40.7ms\n",
      "Speed: 1.6ms preprocess, 40.7ms inference, 0.5ms postprocess per image at shape (1, 3, 352, 640)\n"
     ]
    },
    {
     "name": "stderr",
     "output_type": "stream",
     "text": [
      "  6%|▌         | 65/1101 [00:05<01:04, 16.18it/s]"
     ]
    },
    {
     "name": "stdout",
     "output_type": "stream",
     "text": [
      "\n",
      "image 1/1 c:\\Users\\sande\\OneDrive\\Desktop\\IITTP\\2_Asgn\\Sem2\\2_dl\\SemProject\\Automated_Yolo\\dataset\\UAVDT-processed\\val\\images\\img000066.jpg: 352x640 (no detections), 42.2ms\n",
      "Speed: 2.2ms preprocess, 42.2ms inference, 0.4ms postprocess per image at shape (1, 3, 352, 640)\n",
      "\n",
      "image 1/1 c:\\Users\\sande\\OneDrive\\Desktop\\IITTP\\2_Asgn\\Sem2\\2_dl\\SemProject\\Automated_Yolo\\dataset\\UAVDT-processed\\val\\images\\img000067.jpg: 352x640 (no detections), 32.8ms\n",
      "Speed: 1.9ms preprocess, 32.8ms inference, 0.4ms postprocess per image at shape (1, 3, 352, 640)\n"
     ]
    },
    {
     "name": "stderr",
     "output_type": "stream",
     "text": [
      "  6%|▌         | 67/1101 [00:05<01:02, 16.51it/s]"
     ]
    },
    {
     "name": "stdout",
     "output_type": "stream",
     "text": [
      "\n",
      "image 1/1 c:\\Users\\sande\\OneDrive\\Desktop\\IITTP\\2_Asgn\\Sem2\\2_dl\\SemProject\\Automated_Yolo\\dataset\\UAVDT-processed\\val\\images\\img000068.jpg: 352x640 (no detections), 44.8ms\n",
      "Speed: 1.7ms preprocess, 44.8ms inference, 0.4ms postprocess per image at shape (1, 3, 352, 640)\n",
      "\n",
      "image 1/1 c:\\Users\\sande\\OneDrive\\Desktop\\IITTP\\2_Asgn\\Sem2\\2_dl\\SemProject\\Automated_Yolo\\dataset\\UAVDT-processed\\val\\images\\img000069.jpg: 352x640 (no detections), 38.4ms\n",
      "Speed: 1.5ms preprocess, 38.4ms inference, 0.4ms postprocess per image at shape (1, 3, 352, 640)\n"
     ]
    },
    {
     "name": "stderr",
     "output_type": "stream",
     "text": [
      "  6%|▋         | 69/1101 [00:05<01:01, 16.90it/s]"
     ]
    },
    {
     "name": "stdout",
     "output_type": "stream",
     "text": [
      "\n",
      "image 1/1 c:\\Users\\sande\\OneDrive\\Desktop\\IITTP\\2_Asgn\\Sem2\\2_dl\\SemProject\\Automated_Yolo\\dataset\\UAVDT-processed\\val\\images\\img000070.jpg: 352x640 (no detections), 58.3ms\n",
      "Speed: 1.4ms preprocess, 58.3ms inference, 0.7ms postprocess per image at shape (1, 3, 352, 640)\n",
      "\n",
      "image 1/1 c:\\Users\\sande\\OneDrive\\Desktop\\IITTP\\2_Asgn\\Sem2\\2_dl\\SemProject\\Automated_Yolo\\dataset\\UAVDT-processed\\val\\images\\img000071.jpg: 352x640 (no detections), 41.5ms\n",
      "Speed: 1.8ms preprocess, 41.5ms inference, 0.5ms postprocess per image at shape (1, 3, 352, 640)\n"
     ]
    },
    {
     "name": "stderr",
     "output_type": "stream",
     "text": [
      "  6%|▋         | 71/1101 [00:05<01:06, 15.47it/s]"
     ]
    },
    {
     "name": "stdout",
     "output_type": "stream",
     "text": [
      "\n",
      "image 1/1 c:\\Users\\sande\\OneDrive\\Desktop\\IITTP\\2_Asgn\\Sem2\\2_dl\\SemProject\\Automated_Yolo\\dataset\\UAVDT-processed\\val\\images\\img000072.jpg: 352x640 (no detections), 44.4ms\n",
      "Speed: 1.5ms preprocess, 44.4ms inference, 0.4ms postprocess per image at shape (1, 3, 352, 640)\n",
      "\n",
      "image 1/1 c:\\Users\\sande\\OneDrive\\Desktop\\IITTP\\2_Asgn\\Sem2\\2_dl\\SemProject\\Automated_Yolo\\dataset\\UAVDT-processed\\val\\images\\img000073.jpg: 352x640 (no detections), 41.3ms\n",
      "Speed: 1.7ms preprocess, 41.3ms inference, 0.5ms postprocess per image at shape (1, 3, 352, 640)\n"
     ]
    },
    {
     "name": "stderr",
     "output_type": "stream",
     "text": [
      "  7%|▋         | 73/1101 [00:05<01:04, 15.89it/s]"
     ]
    },
    {
     "name": "stdout",
     "output_type": "stream",
     "text": [
      "\n",
      "image 1/1 c:\\Users\\sande\\OneDrive\\Desktop\\IITTP\\2_Asgn\\Sem2\\2_dl\\SemProject\\Automated_Yolo\\dataset\\UAVDT-processed\\val\\images\\img000074.jpg: 352x640 (no detections), 44.3ms\n",
      "Speed: 2.1ms preprocess, 44.3ms inference, 0.4ms postprocess per image at shape (1, 3, 352, 640)\n",
      "\n",
      "image 1/1 c:\\Users\\sande\\OneDrive\\Desktop\\IITTP\\2_Asgn\\Sem2\\2_dl\\SemProject\\Automated_Yolo\\dataset\\UAVDT-processed\\val\\images\\img000075.jpg: 352x640 (no detections), 39.1ms\n",
      "Speed: 2.3ms preprocess, 39.1ms inference, 0.4ms postprocess per image at shape (1, 3, 352, 640)\n"
     ]
    },
    {
     "name": "stderr",
     "output_type": "stream",
     "text": [
      "  7%|▋         | 75/1101 [00:05<01:05, 15.78it/s]"
     ]
    },
    {
     "name": "stdout",
     "output_type": "stream",
     "text": [
      "\n",
      "image 1/1 c:\\Users\\sande\\OneDrive\\Desktop\\IITTP\\2_Asgn\\Sem2\\2_dl\\SemProject\\Automated_Yolo\\dataset\\UAVDT-processed\\val\\images\\img000076.jpg: 352x640 (no detections), 40.6ms\n",
      "Speed: 2.2ms preprocess, 40.6ms inference, 0.6ms postprocess per image at shape (1, 3, 352, 640)\n",
      "\n",
      "image 1/1 c:\\Users\\sande\\OneDrive\\Desktop\\IITTP\\2_Asgn\\Sem2\\2_dl\\SemProject\\Automated_Yolo\\dataset\\UAVDT-processed\\val\\images\\img000077.jpg: 352x640 (no detections), 38.8ms\n",
      "Speed: 1.8ms preprocess, 38.8ms inference, 0.4ms postprocess per image at shape (1, 3, 352, 640)\n"
     ]
    },
    {
     "name": "stderr",
     "output_type": "stream",
     "text": [
      "  7%|▋         | 77/1101 [00:05<01:03, 16.11it/s]"
     ]
    },
    {
     "name": "stdout",
     "output_type": "stream",
     "text": [
      "\n",
      "image 1/1 c:\\Users\\sande\\OneDrive\\Desktop\\IITTP\\2_Asgn\\Sem2\\2_dl\\SemProject\\Automated_Yolo\\dataset\\UAVDT-processed\\val\\images\\img000078.jpg: 352x640 (no detections), 42.5ms\n",
      "Speed: 2.4ms preprocess, 42.5ms inference, 0.5ms postprocess per image at shape (1, 3, 352, 640)\n",
      "\n",
      "image 1/1 c:\\Users\\sande\\OneDrive\\Desktop\\IITTP\\2_Asgn\\Sem2\\2_dl\\SemProject\\Automated_Yolo\\dataset\\UAVDT-processed\\val\\images\\img000079.jpg: 352x640 (no detections), 40.1ms\n",
      "Speed: 2.2ms preprocess, 40.1ms inference, 0.4ms postprocess per image at shape (1, 3, 352, 640)\n"
     ]
    },
    {
     "name": "stderr",
     "output_type": "stream",
     "text": [
      "  7%|▋         | 79/1101 [00:05<01:03, 16.08it/s]"
     ]
    },
    {
     "name": "stdout",
     "output_type": "stream",
     "text": [
      "\n",
      "image 1/1 c:\\Users\\sande\\OneDrive\\Desktop\\IITTP\\2_Asgn\\Sem2\\2_dl\\SemProject\\Automated_Yolo\\dataset\\UAVDT-processed\\val\\images\\img000080.jpg: 352x640 (no detections), 42.5ms\n",
      "Speed: 2.2ms preprocess, 42.5ms inference, 0.4ms postprocess per image at shape (1, 3, 352, 640)\n",
      "\n",
      "image 1/1 c:\\Users\\sande\\OneDrive\\Desktop\\IITTP\\2_Asgn\\Sem2\\2_dl\\SemProject\\Automated_Yolo\\dataset\\UAVDT-processed\\val\\images\\img000081.jpg: 352x640 (no detections), 38.4ms\n",
      "Speed: 1.7ms preprocess, 38.4ms inference, 0.4ms postprocess per image at shape (1, 3, 352, 640)\n"
     ]
    },
    {
     "name": "stderr",
     "output_type": "stream",
     "text": [
      "  7%|▋         | 81/1101 [00:06<01:02, 16.33it/s]"
     ]
    },
    {
     "name": "stdout",
     "output_type": "stream",
     "text": [
      "\n",
      "image 1/1 c:\\Users\\sande\\OneDrive\\Desktop\\IITTP\\2_Asgn\\Sem2\\2_dl\\SemProject\\Automated_Yolo\\dataset\\UAVDT-processed\\val\\images\\img000082.jpg: 352x640 (no detections), 46.3ms\n",
      "Speed: 1.9ms preprocess, 46.3ms inference, 0.5ms postprocess per image at shape (1, 3, 352, 640)\n",
      "\n",
      "image 1/1 c:\\Users\\sande\\OneDrive\\Desktop\\IITTP\\2_Asgn\\Sem2\\2_dl\\SemProject\\Automated_Yolo\\dataset\\UAVDT-processed\\val\\images\\img000083.jpg: 352x640 (no detections), 40.1ms\n",
      "Speed: 2.3ms preprocess, 40.1ms inference, 0.4ms postprocess per image at shape (1, 3, 352, 640)\n"
     ]
    },
    {
     "name": "stderr",
     "output_type": "stream",
     "text": [
      "  8%|▊         | 83/1101 [00:06<01:03, 15.96it/s]"
     ]
    },
    {
     "name": "stdout",
     "output_type": "stream",
     "text": [
      "\n",
      "image 1/1 c:\\Users\\sande\\OneDrive\\Desktop\\IITTP\\2_Asgn\\Sem2\\2_dl\\SemProject\\Automated_Yolo\\dataset\\UAVDT-processed\\val\\images\\img000084.jpg: 352x640 (no detections), 68.7ms\n",
      "Speed: 2.4ms preprocess, 68.7ms inference, 0.4ms postprocess per image at shape (1, 3, 352, 640)\n",
      "\n",
      "image 1/1 c:\\Users\\sande\\OneDrive\\Desktop\\IITTP\\2_Asgn\\Sem2\\2_dl\\SemProject\\Automated_Yolo\\dataset\\UAVDT-processed\\val\\images\\img000085.jpg: 352x640 (no detections), 41.1ms\n",
      "Speed: 1.5ms preprocess, 41.1ms inference, 0.4ms postprocess per image at shape (1, 3, 352, 640)\n"
     ]
    },
    {
     "name": "stderr",
     "output_type": "stream",
     "text": [
      "  8%|▊         | 85/1101 [00:06<01:06, 15.19it/s]"
     ]
    },
    {
     "name": "stdout",
     "output_type": "stream",
     "text": [
      "\n",
      "image 1/1 c:\\Users\\sande\\OneDrive\\Desktop\\IITTP\\2_Asgn\\Sem2\\2_dl\\SemProject\\Automated_Yolo\\dataset\\UAVDT-processed\\val\\images\\img000086.jpg: 352x640 (no detections), 43.1ms\n",
      "Speed: 2.2ms preprocess, 43.1ms inference, 0.5ms postprocess per image at shape (1, 3, 352, 640)\n",
      "\n",
      "image 1/1 c:\\Users\\sande\\OneDrive\\Desktop\\IITTP\\2_Asgn\\Sem2\\2_dl\\SemProject\\Automated_Yolo\\dataset\\UAVDT-processed\\val\\images\\img000087.jpg: 352x640 (no detections), 43.0ms\n",
      "Speed: 2.3ms preprocess, 43.0ms inference, 0.5ms postprocess per image at shape (1, 3, 352, 640)\n"
     ]
    },
    {
     "name": "stderr",
     "output_type": "stream",
     "text": [
      "  8%|▊         | 87/1101 [00:06<01:06, 15.20it/s]"
     ]
    },
    {
     "name": "stdout",
     "output_type": "stream",
     "text": [
      "\n",
      "image 1/1 c:\\Users\\sande\\OneDrive\\Desktop\\IITTP\\2_Asgn\\Sem2\\2_dl\\SemProject\\Automated_Yolo\\dataset\\UAVDT-processed\\val\\images\\img000088.jpg: 352x640 (no detections), 53.0ms\n",
      "Speed: 2.1ms preprocess, 53.0ms inference, 0.4ms postprocess per image at shape (1, 3, 352, 640)\n",
      "\n",
      "image 1/1 c:\\Users\\sande\\OneDrive\\Desktop\\IITTP\\2_Asgn\\Sem2\\2_dl\\SemProject\\Automated_Yolo\\dataset\\UAVDT-processed\\val\\images\\img000089.jpg: 352x640 (no detections), 45.7ms\n",
      "Speed: 1.6ms preprocess, 45.7ms inference, 0.6ms postprocess per image at shape (1, 3, 352, 640)\n"
     ]
    },
    {
     "name": "stderr",
     "output_type": "stream",
     "text": [
      "  8%|▊         | 89/1101 [00:06<01:07, 14.95it/s]"
     ]
    },
    {
     "name": "stdout",
     "output_type": "stream",
     "text": [
      "\n",
      "image 1/1 c:\\Users\\sande\\OneDrive\\Desktop\\IITTP\\2_Asgn\\Sem2\\2_dl\\SemProject\\Automated_Yolo\\dataset\\UAVDT-processed\\val\\images\\img000090.jpg: 352x640 (no detections), 42.6ms\n",
      "Speed: 2.3ms preprocess, 42.6ms inference, 0.4ms postprocess per image at shape (1, 3, 352, 640)\n",
      "\n",
      "image 1/1 c:\\Users\\sande\\OneDrive\\Desktop\\IITTP\\2_Asgn\\Sem2\\2_dl\\SemProject\\Automated_Yolo\\dataset\\UAVDT-processed\\val\\images\\img000091.jpg: 352x640 (no detections), 41.5ms\n",
      "Speed: 1.9ms preprocess, 41.5ms inference, 0.4ms postprocess per image at shape (1, 3, 352, 640)\n"
     ]
    },
    {
     "name": "stderr",
     "output_type": "stream",
     "text": [
      "  8%|▊         | 91/1101 [00:06<01:06, 15.28it/s]"
     ]
    },
    {
     "name": "stdout",
     "output_type": "stream",
     "text": [
      "\n",
      "image 1/1 c:\\Users\\sande\\OneDrive\\Desktop\\IITTP\\2_Asgn\\Sem2\\2_dl\\SemProject\\Automated_Yolo\\dataset\\UAVDT-processed\\val\\images\\img000092.jpg: 352x640 (no detections), 43.8ms\n",
      "Speed: 2.2ms preprocess, 43.8ms inference, 0.5ms postprocess per image at shape (1, 3, 352, 640)\n",
      "\n",
      "image 1/1 c:\\Users\\sande\\OneDrive\\Desktop\\IITTP\\2_Asgn\\Sem2\\2_dl\\SemProject\\Automated_Yolo\\dataset\\UAVDT-processed\\val\\images\\img000093.jpg: 352x640 (no detections), 37.7ms\n",
      "Speed: 1.5ms preprocess, 37.7ms inference, 0.4ms postprocess per image at shape (1, 3, 352, 640)\n"
     ]
    },
    {
     "name": "stderr",
     "output_type": "stream",
     "text": [
      "  8%|▊         | 93/1101 [00:06<01:04, 15.71it/s]"
     ]
    },
    {
     "name": "stdout",
     "output_type": "stream",
     "text": [
      "\n",
      "image 1/1 c:\\Users\\sande\\OneDrive\\Desktop\\IITTP\\2_Asgn\\Sem2\\2_dl\\SemProject\\Automated_Yolo\\dataset\\UAVDT-processed\\val\\images\\img000094.jpg: 352x640 (no detections), 42.7ms\n",
      "Speed: 1.4ms preprocess, 42.7ms inference, 0.5ms postprocess per image at shape (1, 3, 352, 640)\n",
      "\n",
      "image 1/1 c:\\Users\\sande\\OneDrive\\Desktop\\IITTP\\2_Asgn\\Sem2\\2_dl\\SemProject\\Automated_Yolo\\dataset\\UAVDT-processed\\val\\images\\img000095.jpg: 352x640 (no detections), 42.9ms\n",
      "Speed: 1.6ms preprocess, 42.9ms inference, 0.6ms postprocess per image at shape (1, 3, 352, 640)\n"
     ]
    },
    {
     "name": "stderr",
     "output_type": "stream",
     "text": [
      "  9%|▊         | 95/1101 [00:07<01:03, 15.75it/s]"
     ]
    },
    {
     "name": "stdout",
     "output_type": "stream",
     "text": [
      "\n",
      "image 1/1 c:\\Users\\sande\\OneDrive\\Desktop\\IITTP\\2_Asgn\\Sem2\\2_dl\\SemProject\\Automated_Yolo\\dataset\\UAVDT-processed\\val\\images\\img000096.jpg: 352x640 (no detections), 46.2ms\n",
      "Speed: 1.7ms preprocess, 46.2ms inference, 0.5ms postprocess per image at shape (1, 3, 352, 640)\n",
      "\n",
      "image 1/1 c:\\Users\\sande\\OneDrive\\Desktop\\IITTP\\2_Asgn\\Sem2\\2_dl\\SemProject\\Automated_Yolo\\dataset\\UAVDT-processed\\val\\images\\img000097.jpg: 352x640 (no detections), 36.4ms\n",
      "Speed: 2.2ms preprocess, 36.4ms inference, 0.5ms postprocess per image at shape (1, 3, 352, 640)\n"
     ]
    },
    {
     "name": "stderr",
     "output_type": "stream",
     "text": [
      "  9%|▉         | 97/1101 [00:07<01:03, 15.81it/s]"
     ]
    },
    {
     "name": "stdout",
     "output_type": "stream",
     "text": [
      "\n",
      "image 1/1 c:\\Users\\sande\\OneDrive\\Desktop\\IITTP\\2_Asgn\\Sem2\\2_dl\\SemProject\\Automated_Yolo\\dataset\\UAVDT-processed\\val\\images\\img000098.jpg: 352x640 (no detections), 63.3ms\n",
      "Speed: 4.6ms preprocess, 63.3ms inference, 0.6ms postprocess per image at shape (1, 3, 352, 640)\n",
      "\n",
      "image 1/1 c:\\Users\\sande\\OneDrive\\Desktop\\IITTP\\2_Asgn\\Sem2\\2_dl\\SemProject\\Automated_Yolo\\dataset\\UAVDT-processed\\val\\images\\img000099.jpg: 352x640 (no detections), 42.7ms\n",
      "Speed: 2.0ms preprocess, 42.7ms inference, 0.5ms postprocess per image at shape (1, 3, 352, 640)\n"
     ]
    },
    {
     "name": "stderr",
     "output_type": "stream",
     "text": [
      "  9%|▉         | 99/1101 [00:07<01:06, 15.02it/s]"
     ]
    },
    {
     "name": "stdout",
     "output_type": "stream",
     "text": [
      "\n",
      "image 1/1 c:\\Users\\sande\\OneDrive\\Desktop\\IITTP\\2_Asgn\\Sem2\\2_dl\\SemProject\\Automated_Yolo\\dataset\\UAVDT-processed\\val\\images\\img000100.jpg: 352x640 (no detections), 41.2ms\n",
      "Speed: 1.9ms preprocess, 41.2ms inference, 0.4ms postprocess per image at shape (1, 3, 352, 640)\n",
      "\n",
      "image 1/1 c:\\Users\\sande\\OneDrive\\Desktop\\IITTP\\2_Asgn\\Sem2\\2_dl\\SemProject\\Automated_Yolo\\dataset\\UAVDT-processed\\val\\images\\img000101.jpg: 352x640 (no detections), 40.9ms\n",
      "Speed: 2.5ms preprocess, 40.9ms inference, 0.5ms postprocess per image at shape (1, 3, 352, 640)\n"
     ]
    },
    {
     "name": "stderr",
     "output_type": "stream",
     "text": [
      "  9%|▉         | 101/1101 [00:07<01:05, 15.28it/s]"
     ]
    },
    {
     "name": "stdout",
     "output_type": "stream",
     "text": [
      "\n",
      "image 1/1 c:\\Users\\sande\\OneDrive\\Desktop\\IITTP\\2_Asgn\\Sem2\\2_dl\\SemProject\\Automated_Yolo\\dataset\\UAVDT-processed\\val\\images\\img000102.jpg: 352x640 (no detections), 41.1ms\n",
      "Speed: 1.5ms preprocess, 41.1ms inference, 0.4ms postprocess per image at shape (1, 3, 352, 640)\n",
      "\n",
      "image 1/1 c:\\Users\\sande\\OneDrive\\Desktop\\IITTP\\2_Asgn\\Sem2\\2_dl\\SemProject\\Automated_Yolo\\dataset\\UAVDT-processed\\val\\images\\img000103.jpg: 352x640 (no detections), 38.8ms\n",
      "Speed: 1.4ms preprocess, 38.8ms inference, 0.5ms postprocess per image at shape (1, 3, 352, 640)\n"
     ]
    },
    {
     "name": "stderr",
     "output_type": "stream",
     "text": [
      "  9%|▉         | 103/1101 [00:07<01:01, 16.11it/s]"
     ]
    },
    {
     "name": "stdout",
     "output_type": "stream",
     "text": [
      "\n",
      "image 1/1 c:\\Users\\sande\\OneDrive\\Desktop\\IITTP\\2_Asgn\\Sem2\\2_dl\\SemProject\\Automated_Yolo\\dataset\\UAVDT-processed\\val\\images\\img000104.jpg: 352x640 (no detections), 42.4ms\n",
      "Speed: 2.3ms preprocess, 42.4ms inference, 0.4ms postprocess per image at shape (1, 3, 352, 640)\n",
      "\n",
      "image 1/1 c:\\Users\\sande\\OneDrive\\Desktop\\IITTP\\2_Asgn\\Sem2\\2_dl\\SemProject\\Automated_Yolo\\dataset\\UAVDT-processed\\val\\images\\img000105.jpg: 352x640 (no detections), 43.0ms\n",
      "Speed: 1.8ms preprocess, 43.0ms inference, 0.6ms postprocess per image at shape (1, 3, 352, 640)\n"
     ]
    },
    {
     "name": "stderr",
     "output_type": "stream",
     "text": [
      " 10%|▉         | 105/1101 [00:07<01:02, 15.90it/s]"
     ]
    },
    {
     "name": "stdout",
     "output_type": "stream",
     "text": [
      "\n",
      "image 1/1 c:\\Users\\sande\\OneDrive\\Desktop\\IITTP\\2_Asgn\\Sem2\\2_dl\\SemProject\\Automated_Yolo\\dataset\\UAVDT-processed\\val\\images\\img000106.jpg: 352x640 (no detections), 47.2ms\n",
      "Speed: 2.4ms preprocess, 47.2ms inference, 0.5ms postprocess per image at shape (1, 3, 352, 640)\n",
      "\n",
      "image 1/1 c:\\Users\\sande\\OneDrive\\Desktop\\IITTP\\2_Asgn\\Sem2\\2_dl\\SemProject\\Automated_Yolo\\dataset\\UAVDT-processed\\val\\images\\img000107.jpg: 352x640 (no detections), 38.6ms\n",
      "Speed: 1.6ms preprocess, 38.6ms inference, 0.4ms postprocess per image at shape (1, 3, 352, 640)\n"
     ]
    },
    {
     "name": "stderr",
     "output_type": "stream",
     "text": [
      " 10%|▉         | 107/1101 [00:07<01:02, 16.01it/s]"
     ]
    },
    {
     "name": "stdout",
     "output_type": "stream",
     "text": [
      "\n",
      "image 1/1 c:\\Users\\sande\\OneDrive\\Desktop\\IITTP\\2_Asgn\\Sem2\\2_dl\\SemProject\\Automated_Yolo\\dataset\\UAVDT-processed\\val\\images\\img000108.jpg: 352x640 (no detections), 43.6ms\n",
      "Speed: 1.7ms preprocess, 43.6ms inference, 0.4ms postprocess per image at shape (1, 3, 352, 640)\n",
      "\n",
      "image 1/1 c:\\Users\\sande\\OneDrive\\Desktop\\IITTP\\2_Asgn\\Sem2\\2_dl\\SemProject\\Automated_Yolo\\dataset\\UAVDT-processed\\val\\images\\img000109.jpg: 352x640 (no detections), 37.2ms\n",
      "Speed: 2.3ms preprocess, 37.2ms inference, 0.5ms postprocess per image at shape (1, 3, 352, 640)\n"
     ]
    },
    {
     "name": "stderr",
     "output_type": "stream",
     "text": [
      " 10%|▉         | 109/1101 [00:07<01:02, 15.93it/s]"
     ]
    },
    {
     "name": "stdout",
     "output_type": "stream",
     "text": [
      "\n",
      "image 1/1 c:\\Users\\sande\\OneDrive\\Desktop\\IITTP\\2_Asgn\\Sem2\\2_dl\\SemProject\\Automated_Yolo\\dataset\\UAVDT-processed\\val\\images\\img000110.jpg: 352x640 (no detections), 75.8ms\n",
      "Speed: 1.8ms preprocess, 75.8ms inference, 0.4ms postprocess per image at shape (1, 3, 352, 640)\n",
      "\n",
      "image 1/1 c:\\Users\\sande\\OneDrive\\Desktop\\IITTP\\2_Asgn\\Sem2\\2_dl\\SemProject\\Automated_Yolo\\dataset\\UAVDT-processed\\val\\images\\img000111.jpg: 352x640 (no detections), 44.5ms\n",
      "Speed: 1.8ms preprocess, 44.5ms inference, 0.4ms postprocess per image at shape (1, 3, 352, 640)\n"
     ]
    },
    {
     "name": "stderr",
     "output_type": "stream",
     "text": [
      " 10%|█         | 111/1101 [00:08<01:08, 14.53it/s]"
     ]
    },
    {
     "name": "stdout",
     "output_type": "stream",
     "text": [
      "\n",
      "image 1/1 c:\\Users\\sande\\OneDrive\\Desktop\\IITTP\\2_Asgn\\Sem2\\2_dl\\SemProject\\Automated_Yolo\\dataset\\UAVDT-processed\\val\\images\\img000112.jpg: 352x640 (no detections), 45.9ms\n",
      "Speed: 1.7ms preprocess, 45.9ms inference, 0.6ms postprocess per image at shape (1, 3, 352, 640)\n",
      "\n",
      "image 1/1 c:\\Users\\sande\\OneDrive\\Desktop\\IITTP\\2_Asgn\\Sem2\\2_dl\\SemProject\\Automated_Yolo\\dataset\\UAVDT-processed\\val\\images\\img000113.jpg: 352x640 (no detections), 37.1ms\n",
      "Speed: 2.3ms preprocess, 37.1ms inference, 0.4ms postprocess per image at shape (1, 3, 352, 640)\n"
     ]
    },
    {
     "name": "stderr",
     "output_type": "stream",
     "text": [
      " 10%|█         | 113/1101 [00:08<01:05, 15.15it/s]"
     ]
    },
    {
     "name": "stdout",
     "output_type": "stream",
     "text": [
      "\n",
      "image 1/1 c:\\Users\\sande\\OneDrive\\Desktop\\IITTP\\2_Asgn\\Sem2\\2_dl\\SemProject\\Automated_Yolo\\dataset\\UAVDT-processed\\val\\images\\img000114.jpg: 352x640 (no detections), 43.6ms\n",
      "Speed: 1.6ms preprocess, 43.6ms inference, 0.4ms postprocess per image at shape (1, 3, 352, 640)\n",
      "\n",
      "image 1/1 c:\\Users\\sande\\OneDrive\\Desktop\\IITTP\\2_Asgn\\Sem2\\2_dl\\SemProject\\Automated_Yolo\\dataset\\UAVDT-processed\\val\\images\\img000115.jpg: 352x640 (no detections), 39.8ms\n",
      "Speed: 1.6ms preprocess, 39.8ms inference, 0.5ms postprocess per image at shape (1, 3, 352, 640)\n"
     ]
    },
    {
     "name": "stderr",
     "output_type": "stream",
     "text": [
      " 10%|█         | 115/1101 [00:08<01:04, 15.40it/s]"
     ]
    },
    {
     "name": "stdout",
     "output_type": "stream",
     "text": [
      "\n",
      "image 1/1 c:\\Users\\sande\\OneDrive\\Desktop\\IITTP\\2_Asgn\\Sem2\\2_dl\\SemProject\\Automated_Yolo\\dataset\\UAVDT-processed\\val\\images\\img000116.jpg: 352x640 (no detections), 44.3ms\n",
      "Speed: 2.1ms preprocess, 44.3ms inference, 0.4ms postprocess per image at shape (1, 3, 352, 640)\n",
      "\n",
      "image 1/1 c:\\Users\\sande\\OneDrive\\Desktop\\IITTP\\2_Asgn\\Sem2\\2_dl\\SemProject\\Automated_Yolo\\dataset\\UAVDT-processed\\val\\images\\img000117.jpg: 352x640 (no detections), 43.6ms\n",
      "Speed: 2.3ms preprocess, 43.6ms inference, 0.5ms postprocess per image at shape (1, 3, 352, 640)\n"
     ]
    },
    {
     "name": "stderr",
     "output_type": "stream",
     "text": [
      " 11%|█         | 117/1101 [00:08<01:04, 15.24it/s]"
     ]
    },
    {
     "name": "stdout",
     "output_type": "stream",
     "text": [
      "\n",
      "image 1/1 c:\\Users\\sande\\OneDrive\\Desktop\\IITTP\\2_Asgn\\Sem2\\2_dl\\SemProject\\Automated_Yolo\\dataset\\UAVDT-processed\\val\\images\\img000118.jpg: 352x640 (no detections), 42.2ms\n",
      "Speed: 2.3ms preprocess, 42.2ms inference, 0.4ms postprocess per image at shape (1, 3, 352, 640)\n",
      "\n",
      "image 1/1 c:\\Users\\sande\\OneDrive\\Desktop\\IITTP\\2_Asgn\\Sem2\\2_dl\\SemProject\\Automated_Yolo\\dataset\\UAVDT-processed\\val\\images\\img000119.jpg: 352x640 (no detections), 40.6ms\n",
      "Speed: 1.5ms preprocess, 40.6ms inference, 0.4ms postprocess per image at shape (1, 3, 352, 640)\n"
     ]
    },
    {
     "name": "stderr",
     "output_type": "stream",
     "text": [
      " 11%|█         | 119/1101 [00:08<01:03, 15.57it/s]"
     ]
    },
    {
     "name": "stdout",
     "output_type": "stream",
     "text": [
      "\n",
      "image 1/1 c:\\Users\\sande\\OneDrive\\Desktop\\IITTP\\2_Asgn\\Sem2\\2_dl\\SemProject\\Automated_Yolo\\dataset\\UAVDT-processed\\val\\images\\img000120.jpg: 352x640 (no detections), 44.5ms\n",
      "Speed: 1.5ms preprocess, 44.5ms inference, 0.5ms postprocess per image at shape (1, 3, 352, 640)\n",
      "\n",
      "image 1/1 c:\\Users\\sande\\OneDrive\\Desktop\\IITTP\\2_Asgn\\Sem2\\2_dl\\SemProject\\Automated_Yolo\\dataset\\UAVDT-processed\\val\\images\\img000121.jpg: 352x640 (no detections), 37.8ms\n",
      "Speed: 1.8ms preprocess, 37.8ms inference, 0.5ms postprocess per image at shape (1, 3, 352, 640)\n"
     ]
    },
    {
     "name": "stderr",
     "output_type": "stream",
     "text": [
      " 11%|█         | 121/1101 [00:08<01:01, 15.93it/s]"
     ]
    },
    {
     "name": "stdout",
     "output_type": "stream",
     "text": [
      "\n",
      "image 1/1 c:\\Users\\sande\\OneDrive\\Desktop\\IITTP\\2_Asgn\\Sem2\\2_dl\\SemProject\\Automated_Yolo\\dataset\\UAVDT-processed\\val\\images\\img000122.jpg: 352x640 (no detections), 44.1ms\n",
      "Speed: 2.4ms preprocess, 44.1ms inference, 0.5ms postprocess per image at shape (1, 3, 352, 640)\n",
      "\n",
      "image 1/1 c:\\Users\\sande\\OneDrive\\Desktop\\IITTP\\2_Asgn\\Sem2\\2_dl\\SemProject\\Automated_Yolo\\dataset\\UAVDT-processed\\val\\images\\img000123.jpg: 352x640 (no detections), 38.5ms\n",
      "Speed: 1.8ms preprocess, 38.5ms inference, 0.4ms postprocess per image at shape (1, 3, 352, 640)\n"
     ]
    },
    {
     "name": "stderr",
     "output_type": "stream",
     "text": [
      " 11%|█         | 123/1101 [00:08<01:01, 15.95it/s]"
     ]
    },
    {
     "name": "stdout",
     "output_type": "stream",
     "text": [
      "\n",
      "image 1/1 c:\\Users\\sande\\OneDrive\\Desktop\\IITTP\\2_Asgn\\Sem2\\2_dl\\SemProject\\Automated_Yolo\\dataset\\UAVDT-processed\\val\\images\\img000124.jpg: 352x640 (no detections), 65.5ms\n",
      "Speed: 2.5ms preprocess, 65.5ms inference, 0.6ms postprocess per image at shape (1, 3, 352, 640)\n",
      "\n",
      "image 1/1 c:\\Users\\sande\\OneDrive\\Desktop\\IITTP\\2_Asgn\\Sem2\\2_dl\\SemProject\\Automated_Yolo\\dataset\\UAVDT-processed\\val\\images\\img000125.jpg: 352x640 (no detections), 43.7ms\n",
      "Speed: 2.5ms preprocess, 43.7ms inference, 0.5ms postprocess per image at shape (1, 3, 352, 640)\n"
     ]
    },
    {
     "name": "stderr",
     "output_type": "stream",
     "text": [
      " 11%|█▏        | 125/1101 [00:08<01:05, 15.00it/s]"
     ]
    },
    {
     "name": "stdout",
     "output_type": "stream",
     "text": [
      "\n",
      "image 1/1 c:\\Users\\sande\\OneDrive\\Desktop\\IITTP\\2_Asgn\\Sem2\\2_dl\\SemProject\\Automated_Yolo\\dataset\\UAVDT-processed\\val\\images\\img000126.jpg: 352x640 (no detections), 43.8ms\n",
      "Speed: 2.3ms preprocess, 43.8ms inference, 0.4ms postprocess per image at shape (1, 3, 352, 640)\n",
      "\n",
      "image 1/1 c:\\Users\\sande\\OneDrive\\Desktop\\IITTP\\2_Asgn\\Sem2\\2_dl\\SemProject\\Automated_Yolo\\dataset\\UAVDT-processed\\val\\images\\img000127.jpg: 352x640 (no detections), 39.7ms\n",
      "Speed: 2.1ms preprocess, 39.7ms inference, 0.4ms postprocess per image at shape (1, 3, 352, 640)\n"
     ]
    },
    {
     "name": "stderr",
     "output_type": "stream",
     "text": [
      " 12%|█▏        | 127/1101 [00:09<01:03, 15.26it/s]"
     ]
    },
    {
     "name": "stdout",
     "output_type": "stream",
     "text": [
      "\n",
      "image 1/1 c:\\Users\\sande\\OneDrive\\Desktop\\IITTP\\2_Asgn\\Sem2\\2_dl\\SemProject\\Automated_Yolo\\dataset\\UAVDT-processed\\val\\images\\img000128.jpg: 352x640 (no detections), 44.1ms\n",
      "Speed: 2.5ms preprocess, 44.1ms inference, 0.4ms postprocess per image at shape (1, 3, 352, 640)\n",
      "\n",
      "image 1/1 c:\\Users\\sande\\OneDrive\\Desktop\\IITTP\\2_Asgn\\Sem2\\2_dl\\SemProject\\Automated_Yolo\\dataset\\UAVDT-processed\\val\\images\\img000129.jpg: 352x640 (no detections), 39.1ms\n",
      "Speed: 2.0ms preprocess, 39.1ms inference, 0.5ms postprocess per image at shape (1, 3, 352, 640)\n"
     ]
    },
    {
     "name": "stderr",
     "output_type": "stream",
     "text": [
      " 12%|█▏        | 129/1101 [00:09<01:02, 15.47it/s]"
     ]
    },
    {
     "name": "stdout",
     "output_type": "stream",
     "text": [
      "\n",
      "image 1/1 c:\\Users\\sande\\OneDrive\\Desktop\\IITTP\\2_Asgn\\Sem2\\2_dl\\SemProject\\Automated_Yolo\\dataset\\UAVDT-processed\\val\\images\\img000130.jpg: 352x640 (no detections), 44.4ms\n",
      "Speed: 1.6ms preprocess, 44.4ms inference, 0.5ms postprocess per image at shape (1, 3, 352, 640)\n",
      "\n",
      "image 1/1 c:\\Users\\sande\\OneDrive\\Desktop\\IITTP\\2_Asgn\\Sem2\\2_dl\\SemProject\\Automated_Yolo\\dataset\\UAVDT-processed\\val\\images\\img000131.jpg: 352x640 (no detections), 42.8ms\n",
      "Speed: 1.6ms preprocess, 42.8ms inference, 0.5ms postprocess per image at shape (1, 3, 352, 640)\n"
     ]
    },
    {
     "name": "stderr",
     "output_type": "stream",
     "text": [
      " 12%|█▏        | 131/1101 [00:09<01:02, 15.57it/s]"
     ]
    },
    {
     "name": "stdout",
     "output_type": "stream",
     "text": [
      "\n",
      "image 1/1 c:\\Users\\sande\\OneDrive\\Desktop\\IITTP\\2_Asgn\\Sem2\\2_dl\\SemProject\\Automated_Yolo\\dataset\\UAVDT-processed\\val\\images\\img000132.jpg: 352x640 (no detections), 42.5ms\n",
      "Speed: 2.1ms preprocess, 42.5ms inference, 0.5ms postprocess per image at shape (1, 3, 352, 640)\n",
      "\n",
      "image 1/1 c:\\Users\\sande\\OneDrive\\Desktop\\IITTP\\2_Asgn\\Sem2\\2_dl\\SemProject\\Automated_Yolo\\dataset\\UAVDT-processed\\val\\images\\img000133.jpg: 352x640 (no detections), 37.6ms\n",
      "Speed: 1.9ms preprocess, 37.6ms inference, 0.4ms postprocess per image at shape (1, 3, 352, 640)\n"
     ]
    },
    {
     "name": "stderr",
     "output_type": "stream",
     "text": [
      " 12%|█▏        | 133/1101 [00:09<01:00, 16.02it/s]"
     ]
    },
    {
     "name": "stdout",
     "output_type": "stream",
     "text": [
      "\n",
      "image 1/1 c:\\Users\\sande\\OneDrive\\Desktop\\IITTP\\2_Asgn\\Sem2\\2_dl\\SemProject\\Automated_Yolo\\dataset\\UAVDT-processed\\val\\images\\img000134.jpg: 352x640 (no detections), 43.1ms\n",
      "Speed: 1.8ms preprocess, 43.1ms inference, 0.4ms postprocess per image at shape (1, 3, 352, 640)\n",
      "\n",
      "image 1/1 c:\\Users\\sande\\OneDrive\\Desktop\\IITTP\\2_Asgn\\Sem2\\2_dl\\SemProject\\Automated_Yolo\\dataset\\UAVDT-processed\\val\\images\\img000135.jpg: 352x640 (no detections), 39.8ms\n",
      "Speed: 2.2ms preprocess, 39.8ms inference, 0.5ms postprocess per image at shape (1, 3, 352, 640)\n"
     ]
    },
    {
     "name": "stderr",
     "output_type": "stream",
     "text": [
      " 12%|█▏        | 135/1101 [00:09<01:00, 16.02it/s]"
     ]
    },
    {
     "name": "stdout",
     "output_type": "stream",
     "text": [
      "\n",
      "image 1/1 c:\\Users\\sande\\OneDrive\\Desktop\\IITTP\\2_Asgn\\Sem2\\2_dl\\SemProject\\Automated_Yolo\\dataset\\UAVDT-processed\\val\\images\\img000136.jpg: 352x640 (no detections), 44.1ms\n",
      "Speed: 1.5ms preprocess, 44.1ms inference, 0.4ms postprocess per image at shape (1, 3, 352, 640)\n",
      "\n",
      "image 1/1 c:\\Users\\sande\\OneDrive\\Desktop\\IITTP\\2_Asgn\\Sem2\\2_dl\\SemProject\\Automated_Yolo\\dataset\\UAVDT-processed\\val\\images\\img000137.jpg: 352x640 (no detections), 61.8ms\n",
      "Speed: 3.2ms preprocess, 61.8ms inference, 0.6ms postprocess per image at shape (1, 3, 352, 640)\n"
     ]
    },
    {
     "name": "stderr",
     "output_type": "stream",
     "text": [
      " 12%|█▏        | 137/1101 [00:09<01:01, 15.60it/s]"
     ]
    },
    {
     "name": "stdout",
     "output_type": "stream",
     "text": [
      "\n",
      "image 1/1 c:\\Users\\sande\\OneDrive\\Desktop\\IITTP\\2_Asgn\\Sem2\\2_dl\\SemProject\\Automated_Yolo\\dataset\\UAVDT-processed\\val\\images\\img000138.jpg: 352x640 (no detections), 44.4ms\n",
      "Speed: 2.4ms preprocess, 44.4ms inference, 0.5ms postprocess per image at shape (1, 3, 352, 640)\n",
      "\n",
      "image 1/1 c:\\Users\\sande\\OneDrive\\Desktop\\IITTP\\2_Asgn\\Sem2\\2_dl\\SemProject\\Automated_Yolo\\dataset\\UAVDT-processed\\val\\images\\img000139.jpg: 352x640 (no detections), 37.9ms\n",
      "Speed: 2.1ms preprocess, 37.9ms inference, 0.4ms postprocess per image at shape (1, 3, 352, 640)\n"
     ]
    },
    {
     "name": "stderr",
     "output_type": "stream",
     "text": [
      " 13%|█▎        | 139/1101 [00:09<01:00, 15.93it/s]"
     ]
    },
    {
     "name": "stdout",
     "output_type": "stream",
     "text": [
      "\n",
      "image 1/1 c:\\Users\\sande\\OneDrive\\Desktop\\IITTP\\2_Asgn\\Sem2\\2_dl\\SemProject\\Automated_Yolo\\dataset\\UAVDT-processed\\val\\images\\img000140.jpg: 352x640 (no detections), 42.0ms\n",
      "Speed: 1.5ms preprocess, 42.0ms inference, 0.4ms postprocess per image at shape (1, 3, 352, 640)\n",
      "\n",
      "image 1/1 c:\\Users\\sande\\OneDrive\\Desktop\\IITTP\\2_Asgn\\Sem2\\2_dl\\SemProject\\Automated_Yolo\\dataset\\UAVDT-processed\\val\\images\\img000141.jpg: 352x640 (no detections), 37.9ms\n",
      "Speed: 2.3ms preprocess, 37.9ms inference, 0.4ms postprocess per image at shape (1, 3, 352, 640)\n"
     ]
    },
    {
     "name": "stderr",
     "output_type": "stream",
     "text": [
      " 13%|█▎        | 141/1101 [00:09<01:01, 15.65it/s]"
     ]
    },
    {
     "name": "stdout",
     "output_type": "stream",
     "text": [
      "\n",
      "image 1/1 c:\\Users\\sande\\OneDrive\\Desktop\\IITTP\\2_Asgn\\Sem2\\2_dl\\SemProject\\Automated_Yolo\\dataset\\UAVDT-processed\\val\\images\\img000142.jpg: 352x640 (no detections), 41.3ms\n",
      "Speed: 2.2ms preprocess, 41.3ms inference, 0.4ms postprocess per image at shape (1, 3, 352, 640)\n",
      "\n",
      "image 1/1 c:\\Users\\sande\\OneDrive\\Desktop\\IITTP\\2_Asgn\\Sem2\\2_dl\\SemProject\\Automated_Yolo\\dataset\\UAVDT-processed\\val\\images\\img000143.jpg: 352x640 (no detections), 36.6ms\n",
      "Speed: 1.6ms preprocess, 36.6ms inference, 0.5ms postprocess per image at shape (1, 3, 352, 640)\n"
     ]
    },
    {
     "name": "stderr",
     "output_type": "stream",
     "text": [
      " 13%|█▎        | 143/1101 [00:10<00:59, 15.99it/s]"
     ]
    },
    {
     "name": "stdout",
     "output_type": "stream",
     "text": [
      "\n",
      "image 1/1 c:\\Users\\sande\\OneDrive\\Desktop\\IITTP\\2_Asgn\\Sem2\\2_dl\\SemProject\\Automated_Yolo\\dataset\\UAVDT-processed\\val\\images\\img000144.jpg: 352x640 (no detections), 40.7ms\n",
      "Speed: 2.3ms preprocess, 40.7ms inference, 0.4ms postprocess per image at shape (1, 3, 352, 640)\n",
      "\n",
      "image 1/1 c:\\Users\\sande\\OneDrive\\Desktop\\IITTP\\2_Asgn\\Sem2\\2_dl\\SemProject\\Automated_Yolo\\dataset\\UAVDT-processed\\val\\images\\img000145.jpg: 352x640 (no detections), 39.3ms\n",
      "Speed: 2.3ms preprocess, 39.3ms inference, 0.5ms postprocess per image at shape (1, 3, 352, 640)\n"
     ]
    },
    {
     "name": "stderr",
     "output_type": "stream",
     "text": [
      " 13%|█▎        | 145/1101 [00:10<00:58, 16.27it/s]"
     ]
    },
    {
     "name": "stdout",
     "output_type": "stream",
     "text": [
      "\n",
      "image 1/1 c:\\Users\\sande\\OneDrive\\Desktop\\IITTP\\2_Asgn\\Sem2\\2_dl\\SemProject\\Automated_Yolo\\dataset\\UAVDT-processed\\val\\images\\img000146.jpg: 352x640 (no detections), 43.4ms\n",
      "Speed: 1.6ms preprocess, 43.4ms inference, 0.4ms postprocess per image at shape (1, 3, 352, 640)\n",
      "\n",
      "image 1/1 c:\\Users\\sande\\OneDrive\\Desktop\\IITTP\\2_Asgn\\Sem2\\2_dl\\SemProject\\Automated_Yolo\\dataset\\UAVDT-processed\\val\\images\\img000147.jpg: 352x640 (no detections), 40.5ms\n",
      "Speed: 2.4ms preprocess, 40.5ms inference, 0.4ms postprocess per image at shape (1, 3, 352, 640)\n"
     ]
    },
    {
     "name": "stderr",
     "output_type": "stream",
     "text": [
      " 13%|█▎        | 147/1101 [00:10<00:57, 16.52it/s]"
     ]
    },
    {
     "name": "stdout",
     "output_type": "stream",
     "text": [
      "\n",
      "image 1/1 c:\\Users\\sande\\OneDrive\\Desktop\\IITTP\\2_Asgn\\Sem2\\2_dl\\SemProject\\Automated_Yolo\\dataset\\UAVDT-processed\\val\\images\\img000148.jpg: 352x640 (no detections), 43.1ms\n",
      "Speed: 2.1ms preprocess, 43.1ms inference, 0.5ms postprocess per image at shape (1, 3, 352, 640)\n",
      "\n",
      "image 1/1 c:\\Users\\sande\\OneDrive\\Desktop\\IITTP\\2_Asgn\\Sem2\\2_dl\\SemProject\\Automated_Yolo\\dataset\\UAVDT-processed\\val\\images\\img000149.jpg: 352x640 (no detections), 38.4ms\n",
      "Speed: 1.6ms preprocess, 38.4ms inference, 0.4ms postprocess per image at shape (1, 3, 352, 640)\n"
     ]
    },
    {
     "name": "stderr",
     "output_type": "stream",
     "text": [
      " 14%|█▎        | 149/1101 [00:10<00:57, 16.65it/s]"
     ]
    },
    {
     "name": "stdout",
     "output_type": "stream",
     "text": [
      "\n",
      "image 1/1 c:\\Users\\sande\\OneDrive\\Desktop\\IITTP\\2_Asgn\\Sem2\\2_dl\\SemProject\\Automated_Yolo\\dataset\\UAVDT-processed\\val\\images\\img000150.jpg: 352x640 (no detections), 71.4ms\n",
      "Speed: 2.3ms preprocess, 71.4ms inference, 0.6ms postprocess per image at shape (1, 3, 352, 640)\n",
      "\n",
      "image 1/1 c:\\Users\\sande\\OneDrive\\Desktop\\IITTP\\2_Asgn\\Sem2\\2_dl\\SemProject\\Automated_Yolo\\dataset\\UAVDT-processed\\val\\images\\img000151.jpg: 352x640 (no detections), 37.3ms\n",
      "Speed: 1.5ms preprocess, 37.3ms inference, 0.4ms postprocess per image at shape (1, 3, 352, 640)\n"
     ]
    },
    {
     "name": "stderr",
     "output_type": "stream",
     "text": [
      " 14%|█▎        | 151/1101 [00:10<01:02, 15.23it/s]"
     ]
    },
    {
     "name": "stdout",
     "output_type": "stream",
     "text": [
      "\n",
      "image 1/1 c:\\Users\\sande\\OneDrive\\Desktop\\IITTP\\2_Asgn\\Sem2\\2_dl\\SemProject\\Automated_Yolo\\dataset\\UAVDT-processed\\val\\images\\img000152.jpg: 352x640 (no detections), 40.5ms\n",
      "Speed: 1.5ms preprocess, 40.5ms inference, 0.4ms postprocess per image at shape (1, 3, 352, 640)\n",
      "\n",
      "image 1/1 c:\\Users\\sande\\OneDrive\\Desktop\\IITTP\\2_Asgn\\Sem2\\2_dl\\SemProject\\Automated_Yolo\\dataset\\UAVDT-processed\\val\\images\\img000153.jpg: 352x640 (no detections), 41.6ms\n",
      "Speed: 1.6ms preprocess, 41.6ms inference, 0.5ms postprocess per image at shape (1, 3, 352, 640)\n"
     ]
    },
    {
     "name": "stderr",
     "output_type": "stream",
     "text": [
      " 14%|█▍        | 153/1101 [00:10<01:00, 15.56it/s]"
     ]
    },
    {
     "name": "stdout",
     "output_type": "stream",
     "text": [
      "\n",
      "image 1/1 c:\\Users\\sande\\OneDrive\\Desktop\\IITTP\\2_Asgn\\Sem2\\2_dl\\SemProject\\Automated_Yolo\\dataset\\UAVDT-processed\\val\\images\\img000154.jpg: 352x640 (no detections), 43.2ms\n",
      "Speed: 1.5ms preprocess, 43.2ms inference, 0.5ms postprocess per image at shape (1, 3, 352, 640)\n",
      "\n",
      "image 1/1 c:\\Users\\sande\\OneDrive\\Desktop\\IITTP\\2_Asgn\\Sem2\\2_dl\\SemProject\\Automated_Yolo\\dataset\\UAVDT-processed\\val\\images\\img000155.jpg: 352x640 (no detections), 36.9ms\n",
      "Speed: 2.2ms preprocess, 36.9ms inference, 0.4ms postprocess per image at shape (1, 3, 352, 640)\n"
     ]
    },
    {
     "name": "stderr",
     "output_type": "stream",
     "text": [
      " 14%|█▍        | 155/1101 [00:10<00:59, 15.97it/s]"
     ]
    },
    {
     "name": "stdout",
     "output_type": "stream",
     "text": [
      "\n",
      "image 1/1 c:\\Users\\sande\\OneDrive\\Desktop\\IITTP\\2_Asgn\\Sem2\\2_dl\\SemProject\\Automated_Yolo\\dataset\\UAVDT-processed\\val\\images\\img000156.jpg: 352x640 (no detections), 41.4ms\n",
      "Speed: 1.7ms preprocess, 41.4ms inference, 0.5ms postprocess per image at shape (1, 3, 352, 640)\n",
      "\n",
      "image 1/1 c:\\Users\\sande\\OneDrive\\Desktop\\IITTP\\2_Asgn\\Sem2\\2_dl\\SemProject\\Automated_Yolo\\dataset\\UAVDT-processed\\val\\images\\img000157.jpg: 352x640 (no detections), 39.1ms\n",
      "Speed: 2.1ms preprocess, 39.1ms inference, 0.4ms postprocess per image at shape (1, 3, 352, 640)\n"
     ]
    },
    {
     "name": "stderr",
     "output_type": "stream",
     "text": [
      " 14%|█▍        | 157/1101 [00:10<00:58, 16.25it/s]"
     ]
    },
    {
     "name": "stdout",
     "output_type": "stream",
     "text": [
      "\n",
      "image 1/1 c:\\Users\\sande\\OneDrive\\Desktop\\IITTP\\2_Asgn\\Sem2\\2_dl\\SemProject\\Automated_Yolo\\dataset\\UAVDT-processed\\val\\images\\img000158.jpg: 352x640 (no detections), 43.0ms\n",
      "Speed: 2.3ms preprocess, 43.0ms inference, 0.5ms postprocess per image at shape (1, 3, 352, 640)\n",
      "\n",
      "image 1/1 c:\\Users\\sande\\OneDrive\\Desktop\\IITTP\\2_Asgn\\Sem2\\2_dl\\SemProject\\Automated_Yolo\\dataset\\UAVDT-processed\\val\\images\\img000159.jpg: 352x640 (no detections), 39.7ms\n",
      "Speed: 1.5ms preprocess, 39.7ms inference, 0.5ms postprocess per image at shape (1, 3, 352, 640)\n"
     ]
    },
    {
     "name": "stderr",
     "output_type": "stream",
     "text": [
      " 14%|█▍        | 159/1101 [00:11<00:56, 16.66it/s]"
     ]
    },
    {
     "name": "stdout",
     "output_type": "stream",
     "text": [
      "\n",
      "image 1/1 c:\\Users\\sande\\OneDrive\\Desktop\\IITTP\\2_Asgn\\Sem2\\2_dl\\SemProject\\Automated_Yolo\\dataset\\UAVDT-processed\\val\\images\\img000160.jpg: 352x640 (no detections), 41.1ms\n",
      "Speed: 1.5ms preprocess, 41.1ms inference, 0.4ms postprocess per image at shape (1, 3, 352, 640)\n",
      "\n",
      "image 1/1 c:\\Users\\sande\\OneDrive\\Desktop\\IITTP\\2_Asgn\\Sem2\\2_dl\\SemProject\\Automated_Yolo\\dataset\\UAVDT-processed\\val\\images\\img000161.jpg: 352x640 (no detections), 42.4ms\n",
      "Speed: 2.2ms preprocess, 42.4ms inference, 0.4ms postprocess per image at shape (1, 3, 352, 640)\n"
     ]
    },
    {
     "name": "stderr",
     "output_type": "stream",
     "text": [
      " 15%|█▍        | 161/1101 [00:11<00:56, 16.51it/s]"
     ]
    },
    {
     "name": "stdout",
     "output_type": "stream",
     "text": [
      "\n",
      "image 1/1 c:\\Users\\sande\\OneDrive\\Desktop\\IITTP\\2_Asgn\\Sem2\\2_dl\\SemProject\\Automated_Yolo\\dataset\\UAVDT-processed\\val\\images\\img000162.jpg: 352x640 (no detections), 44.3ms\n",
      "Speed: 1.7ms preprocess, 44.3ms inference, 0.6ms postprocess per image at shape (1, 3, 352, 640)\n",
      "\n",
      "image 1/1 c:\\Users\\sande\\OneDrive\\Desktop\\IITTP\\2_Asgn\\Sem2\\2_dl\\SemProject\\Automated_Yolo\\dataset\\UAVDT-processed\\val\\images\\img000163.jpg: 352x640 (no detections), 37.5ms\n",
      "Speed: 1.8ms preprocess, 37.5ms inference, 0.5ms postprocess per image at shape (1, 3, 352, 640)\n"
     ]
    },
    {
     "name": "stderr",
     "output_type": "stream",
     "text": [
      " 15%|█▍        | 163/1101 [00:11<00:57, 16.41it/s]"
     ]
    },
    {
     "name": "stdout",
     "output_type": "stream",
     "text": [
      "\n",
      "image 1/1 c:\\Users\\sande\\OneDrive\\Desktop\\IITTP\\2_Asgn\\Sem2\\2_dl\\SemProject\\Automated_Yolo\\dataset\\UAVDT-processed\\val\\images\\img000164.jpg: 352x640 (no detections), 60.6ms\n",
      "Speed: 1.5ms preprocess, 60.6ms inference, 0.7ms postprocess per image at shape (1, 3, 352, 640)\n",
      "\n",
      "image 1/1 c:\\Users\\sande\\OneDrive\\Desktop\\IITTP\\2_Asgn\\Sem2\\2_dl\\SemProject\\Automated_Yolo\\dataset\\UAVDT-processed\\val\\images\\img000165.jpg: 352x640 (no detections), 38.1ms\n",
      "Speed: 2.2ms preprocess, 38.1ms inference, 0.4ms postprocess per image at shape (1, 3, 352, 640)\n"
     ]
    },
    {
     "name": "stderr",
     "output_type": "stream",
     "text": [
      " 15%|█▍        | 165/1101 [00:11<00:59, 15.67it/s]"
     ]
    },
    {
     "name": "stdout",
     "output_type": "stream",
     "text": [
      "\n",
      "image 1/1 c:\\Users\\sande\\OneDrive\\Desktop\\IITTP\\2_Asgn\\Sem2\\2_dl\\SemProject\\Automated_Yolo\\dataset\\UAVDT-processed\\val\\images\\img000166.jpg: 352x640 (no detections), 43.3ms\n",
      "Speed: 2.5ms preprocess, 43.3ms inference, 0.5ms postprocess per image at shape (1, 3, 352, 640)\n",
      "\n",
      "image 1/1 c:\\Users\\sande\\OneDrive\\Desktop\\IITTP\\2_Asgn\\Sem2\\2_dl\\SemProject\\Automated_Yolo\\dataset\\UAVDT-processed\\val\\images\\img000167.jpg: 352x640 (no detections), 40.1ms\n",
      "Speed: 2.3ms preprocess, 40.1ms inference, 0.5ms postprocess per image at shape (1, 3, 352, 640)\n"
     ]
    },
    {
     "name": "stderr",
     "output_type": "stream",
     "text": [
      " 15%|█▌        | 167/1101 [00:11<00:59, 15.80it/s]"
     ]
    },
    {
     "name": "stdout",
     "output_type": "stream",
     "text": [
      "\n",
      "image 1/1 c:\\Users\\sande\\OneDrive\\Desktop\\IITTP\\2_Asgn\\Sem2\\2_dl\\SemProject\\Automated_Yolo\\dataset\\UAVDT-processed\\val\\images\\img000168.jpg: 352x640 (no detections), 42.3ms\n",
      "Speed: 1.5ms preprocess, 42.3ms inference, 0.4ms postprocess per image at shape (1, 3, 352, 640)\n",
      "\n",
      "image 1/1 c:\\Users\\sande\\OneDrive\\Desktop\\IITTP\\2_Asgn\\Sem2\\2_dl\\SemProject\\Automated_Yolo\\dataset\\UAVDT-processed\\val\\images\\img000169.jpg: 352x640 (no detections), 40.0ms\n",
      "Speed: 1.7ms preprocess, 40.0ms inference, 0.5ms postprocess per image at shape (1, 3, 352, 640)\n"
     ]
    },
    {
     "name": "stderr",
     "output_type": "stream",
     "text": [
      " 15%|█▌        | 169/1101 [00:11<00:56, 16.43it/s]"
     ]
    },
    {
     "name": "stdout",
     "output_type": "stream",
     "text": [
      "\n",
      "image 1/1 c:\\Users\\sande\\OneDrive\\Desktop\\IITTP\\2_Asgn\\Sem2\\2_dl\\SemProject\\Automated_Yolo\\dataset\\UAVDT-processed\\val\\images\\img000170.jpg: 352x640 (no detections), 42.4ms\n",
      "Speed: 2.1ms preprocess, 42.4ms inference, 0.5ms postprocess per image at shape (1, 3, 352, 640)\n",
      "\n",
      "image 1/1 c:\\Users\\sande\\OneDrive\\Desktop\\IITTP\\2_Asgn\\Sem2\\2_dl\\SemProject\\Automated_Yolo\\dataset\\UAVDT-processed\\val\\images\\img000171.jpg: 352x640 (no detections), 38.9ms\n",
      "Speed: 1.6ms preprocess, 38.9ms inference, 0.5ms postprocess per image at shape (1, 3, 352, 640)\n"
     ]
    },
    {
     "name": "stderr",
     "output_type": "stream",
     "text": [
      " 16%|█▌        | 171/1101 [00:11<00:57, 16.25it/s]"
     ]
    },
    {
     "name": "stdout",
     "output_type": "stream",
     "text": [
      "\n",
      "image 1/1 c:\\Users\\sande\\OneDrive\\Desktop\\IITTP\\2_Asgn\\Sem2\\2_dl\\SemProject\\Automated_Yolo\\dataset\\UAVDT-processed\\val\\images\\img000172.jpg: 352x640 (no detections), 40.9ms\n",
      "Speed: 1.5ms preprocess, 40.9ms inference, 0.4ms postprocess per image at shape (1, 3, 352, 640)\n",
      "\n",
      "image 1/1 c:\\Users\\sande\\OneDrive\\Desktop\\IITTP\\2_Asgn\\Sem2\\2_dl\\SemProject\\Automated_Yolo\\dataset\\UAVDT-processed\\val\\images\\img000173.jpg: 352x640 (no detections), 35.8ms\n",
      "Speed: 1.5ms preprocess, 35.8ms inference, 0.4ms postprocess per image at shape (1, 3, 352, 640)\n"
     ]
    },
    {
     "name": "stderr",
     "output_type": "stream",
     "text": [
      " 16%|█▌        | 173/1101 [00:11<00:55, 16.62it/s]"
     ]
    },
    {
     "name": "stdout",
     "output_type": "stream",
     "text": [
      "\n",
      "image 1/1 c:\\Users\\sande\\OneDrive\\Desktop\\IITTP\\2_Asgn\\Sem2\\2_dl\\SemProject\\Automated_Yolo\\dataset\\UAVDT-processed\\val\\images\\img000174.jpg: 352x640 (no detections), 49.3ms\n",
      "Speed: 1.7ms preprocess, 49.3ms inference, 0.4ms postprocess per image at shape (1, 3, 352, 640)\n",
      "\n",
      "image 1/1 c:\\Users\\sande\\OneDrive\\Desktop\\IITTP\\2_Asgn\\Sem2\\2_dl\\SemProject\\Automated_Yolo\\dataset\\UAVDT-processed\\val\\images\\img000175.jpg: 352x640 (no detections), 38.8ms\n",
      "Speed: 2.3ms preprocess, 38.8ms inference, 0.5ms postprocess per image at shape (1, 3, 352, 640)\n"
     ]
    },
    {
     "name": "stderr",
     "output_type": "stream",
     "text": [
      " 16%|█▌        | 175/1101 [00:12<00:54, 16.88it/s]"
     ]
    },
    {
     "name": "stdout",
     "output_type": "stream",
     "text": [
      "\n",
      "image 1/1 c:\\Users\\sande\\OneDrive\\Desktop\\IITTP\\2_Asgn\\Sem2\\2_dl\\SemProject\\Automated_Yolo\\dataset\\UAVDT-processed\\val\\images\\img000176.jpg: 352x640 (no detections), 61.2ms\n",
      "Speed: 1.5ms preprocess, 61.2ms inference, 0.4ms postprocess per image at shape (1, 3, 352, 640)\n",
      "\n",
      "image 1/1 c:\\Users\\sande\\OneDrive\\Desktop\\IITTP\\2_Asgn\\Sem2\\2_dl\\SemProject\\Automated_Yolo\\dataset\\UAVDT-processed\\val\\images\\img000177.jpg: 352x640 (no detections), 42.9ms\n",
      "Speed: 2.5ms preprocess, 42.9ms inference, 0.4ms postprocess per image at shape (1, 3, 352, 640)\n"
     ]
    },
    {
     "name": "stderr",
     "output_type": "stream",
     "text": [
      " 16%|█▌        | 177/1101 [00:12<01:00, 15.27it/s]"
     ]
    },
    {
     "name": "stdout",
     "output_type": "stream",
     "text": [
      "\n",
      "image 1/1 c:\\Users\\sande\\OneDrive\\Desktop\\IITTP\\2_Asgn\\Sem2\\2_dl\\SemProject\\Automated_Yolo\\dataset\\UAVDT-processed\\val\\images\\img000178.jpg: 352x640 (no detections), 49.7ms\n",
      "Speed: 2.2ms preprocess, 49.7ms inference, 0.5ms postprocess per image at shape (1, 3, 352, 640)\n",
      "\n",
      "image 1/1 c:\\Users\\sande\\OneDrive\\Desktop\\IITTP\\2_Asgn\\Sem2\\2_dl\\SemProject\\Automated_Yolo\\dataset\\UAVDT-processed\\val\\images\\img000179.jpg: 352x640 (no detections), 36.2ms\n",
      "Speed: 1.7ms preprocess, 36.2ms inference, 0.4ms postprocess per image at shape (1, 3, 352, 640)\n"
     ]
    },
    {
     "name": "stderr",
     "output_type": "stream",
     "text": [
      " 16%|█▋        | 179/1101 [00:12<00:59, 15.48it/s]"
     ]
    },
    {
     "name": "stdout",
     "output_type": "stream",
     "text": [
      "\n",
      "image 1/1 c:\\Users\\sande\\OneDrive\\Desktop\\IITTP\\2_Asgn\\Sem2\\2_dl\\SemProject\\Automated_Yolo\\dataset\\UAVDT-processed\\val\\images\\img000180.jpg: 352x640 (no detections), 47.4ms\n",
      "Speed: 2.3ms preprocess, 47.4ms inference, 0.6ms postprocess per image at shape (1, 3, 352, 640)\n",
      "\n",
      "image 1/1 c:\\Users\\sande\\OneDrive\\Desktop\\IITTP\\2_Asgn\\Sem2\\2_dl\\SemProject\\Automated_Yolo\\dataset\\UAVDT-processed\\val\\images\\img000181.jpg: 352x640 (no detections), 38.6ms\n",
      "Speed: 1.8ms preprocess, 38.6ms inference, 0.6ms postprocess per image at shape (1, 3, 352, 640)\n"
     ]
    },
    {
     "name": "stderr",
     "output_type": "stream",
     "text": [
      " 16%|█▋        | 181/1101 [00:12<00:58, 15.65it/s]"
     ]
    },
    {
     "name": "stdout",
     "output_type": "stream",
     "text": [
      "\n",
      "image 1/1 c:\\Users\\sande\\OneDrive\\Desktop\\IITTP\\2_Asgn\\Sem2\\2_dl\\SemProject\\Automated_Yolo\\dataset\\UAVDT-processed\\val\\images\\img000182.jpg: 352x640 (no detections), 43.8ms\n",
      "Speed: 1.5ms preprocess, 43.8ms inference, 0.6ms postprocess per image at shape (1, 3, 352, 640)\n",
      "\n",
      "image 1/1 c:\\Users\\sande\\OneDrive\\Desktop\\IITTP\\2_Asgn\\Sem2\\2_dl\\SemProject\\Automated_Yolo\\dataset\\UAVDT-processed\\val\\images\\img000183.jpg: 352x640 (no detections), 40.2ms\n",
      "Speed: 1.5ms preprocess, 40.2ms inference, 0.4ms postprocess per image at shape (1, 3, 352, 640)\n"
     ]
    },
    {
     "name": "stderr",
     "output_type": "stream",
     "text": [
      " 17%|█▋        | 183/1101 [00:12<00:57, 15.85it/s]"
     ]
    },
    {
     "name": "stdout",
     "output_type": "stream",
     "text": [
      "\n",
      "image 1/1 c:\\Users\\sande\\OneDrive\\Desktop\\IITTP\\2_Asgn\\Sem2\\2_dl\\SemProject\\Automated_Yolo\\dataset\\UAVDT-processed\\val\\images\\img000184.jpg: 352x640 (no detections), 43.6ms\n",
      "Speed: 2.2ms preprocess, 43.6ms inference, 0.5ms postprocess per image at shape (1, 3, 352, 640)\n",
      "\n",
      "image 1/1 c:\\Users\\sande\\OneDrive\\Desktop\\IITTP\\2_Asgn\\Sem2\\2_dl\\SemProject\\Automated_Yolo\\dataset\\UAVDT-processed\\val\\images\\img000185.jpg: 352x640 (no detections), 38.3ms\n",
      "Speed: 1.5ms preprocess, 38.3ms inference, 0.6ms postprocess per image at shape (1, 3, 352, 640)\n"
     ]
    },
    {
     "name": "stderr",
     "output_type": "stream",
     "text": [
      " 17%|█▋        | 185/1101 [00:12<00:56, 16.21it/s]"
     ]
    },
    {
     "name": "stdout",
     "output_type": "stream",
     "text": [
      "\n",
      "image 1/1 c:\\Users\\sande\\OneDrive\\Desktop\\IITTP\\2_Asgn\\Sem2\\2_dl\\SemProject\\Automated_Yolo\\dataset\\UAVDT-processed\\val\\images\\img000186.jpg: 352x640 (no detections), 45.0ms\n",
      "Speed: 1.6ms preprocess, 45.0ms inference, 0.4ms postprocess per image at shape (1, 3, 352, 640)\n",
      "\n",
      "image 1/1 c:\\Users\\sande\\OneDrive\\Desktop\\IITTP\\2_Asgn\\Sem2\\2_dl\\SemProject\\Automated_Yolo\\dataset\\UAVDT-processed\\val\\images\\img000187.jpg: 352x640 (no detections), 41.0ms\n",
      "Speed: 2.4ms preprocess, 41.0ms inference, 0.4ms postprocess per image at shape (1, 3, 352, 640)\n"
     ]
    },
    {
     "name": "stderr",
     "output_type": "stream",
     "text": [
      " 17%|█▋        | 187/1101 [00:12<00:57, 15.95it/s]"
     ]
    },
    {
     "name": "stdout",
     "output_type": "stream",
     "text": [
      "\n",
      "image 1/1 c:\\Users\\sande\\OneDrive\\Desktop\\IITTP\\2_Asgn\\Sem2\\2_dl\\SemProject\\Automated_Yolo\\dataset\\UAVDT-processed\\val\\images\\img000188.jpg: 352x640 (no detections), 66.2ms\n",
      "Speed: 2.2ms preprocess, 66.2ms inference, 0.5ms postprocess per image at shape (1, 3, 352, 640)\n",
      "\n",
      "image 1/1 c:\\Users\\sande\\OneDrive\\Desktop\\IITTP\\2_Asgn\\Sem2\\2_dl\\SemProject\\Automated_Yolo\\dataset\\UAVDT-processed\\val\\images\\img000189.jpg: 352x640 (no detections), 40.8ms\n",
      "Speed: 2.4ms preprocess, 40.8ms inference, 0.5ms postprocess per image at shape (1, 3, 352, 640)\n"
     ]
    },
    {
     "name": "stderr",
     "output_type": "stream",
     "text": [
      " 17%|█▋        | 189/1101 [00:12<01:00, 15.15it/s]"
     ]
    },
    {
     "name": "stdout",
     "output_type": "stream",
     "text": [
      "\n",
      "image 1/1 c:\\Users\\sande\\OneDrive\\Desktop\\IITTP\\2_Asgn\\Sem2\\2_dl\\SemProject\\Automated_Yolo\\dataset\\UAVDT-processed\\val\\images\\img000190.jpg: 352x640 (no detections), 41.7ms\n",
      "Speed: 2.2ms preprocess, 41.7ms inference, 0.4ms postprocess per image at shape (1, 3, 352, 640)\n",
      "\n",
      "image 1/1 c:\\Users\\sande\\OneDrive\\Desktop\\IITTP\\2_Asgn\\Sem2\\2_dl\\SemProject\\Automated_Yolo\\dataset\\UAVDT-processed\\val\\images\\img000191.jpg: 352x640 (no detections), 41.8ms\n",
      "Speed: 1.7ms preprocess, 41.8ms inference, 0.5ms postprocess per image at shape (1, 3, 352, 640)\n"
     ]
    },
    {
     "name": "stderr",
     "output_type": "stream",
     "text": [
      " 17%|█▋        | 191/1101 [00:13<00:59, 15.42it/s]"
     ]
    },
    {
     "name": "stdout",
     "output_type": "stream",
     "text": [
      "\n",
      "image 1/1 c:\\Users\\sande\\OneDrive\\Desktop\\IITTP\\2_Asgn\\Sem2\\2_dl\\SemProject\\Automated_Yolo\\dataset\\UAVDT-processed\\val\\images\\img000192.jpg: 352x640 (no detections), 44.8ms\n",
      "Speed: 2.4ms preprocess, 44.8ms inference, 0.5ms postprocess per image at shape (1, 3, 352, 640)\n",
      "\n",
      "image 1/1 c:\\Users\\sande\\OneDrive\\Desktop\\IITTP\\2_Asgn\\Sem2\\2_dl\\SemProject\\Automated_Yolo\\dataset\\UAVDT-processed\\val\\images\\img000193.jpg: 352x640 (no detections), 38.5ms\n",
      "Speed: 1.5ms preprocess, 38.5ms inference, 0.4ms postprocess per image at shape (1, 3, 352, 640)\n"
     ]
    },
    {
     "name": "stderr",
     "output_type": "stream",
     "text": [
      " 18%|█▊        | 193/1101 [00:13<00:57, 15.90it/s]"
     ]
    },
    {
     "name": "stdout",
     "output_type": "stream",
     "text": [
      "\n",
      "image 1/1 c:\\Users\\sande\\OneDrive\\Desktop\\IITTP\\2_Asgn\\Sem2\\2_dl\\SemProject\\Automated_Yolo\\dataset\\UAVDT-processed\\val\\images\\img000194.jpg: 352x640 (no detections), 42.3ms\n",
      "Speed: 1.9ms preprocess, 42.3ms inference, 0.4ms postprocess per image at shape (1, 3, 352, 640)\n",
      "\n",
      "image 1/1 c:\\Users\\sande\\OneDrive\\Desktop\\IITTP\\2_Asgn\\Sem2\\2_dl\\SemProject\\Automated_Yolo\\dataset\\UAVDT-processed\\val\\images\\img000195.jpg: 352x640 (no detections), 40.4ms\n",
      "Speed: 1.6ms preprocess, 40.4ms inference, 0.5ms postprocess per image at shape (1, 3, 352, 640)\n"
     ]
    },
    {
     "name": "stderr",
     "output_type": "stream",
     "text": [
      " 18%|█▊        | 195/1101 [00:13<00:56, 15.93it/s]"
     ]
    },
    {
     "name": "stdout",
     "output_type": "stream",
     "text": [
      "\n",
      "image 1/1 c:\\Users\\sande\\OneDrive\\Desktop\\IITTP\\2_Asgn\\Sem2\\2_dl\\SemProject\\Automated_Yolo\\dataset\\UAVDT-processed\\val\\images\\img000196.jpg: 352x640 (no detections), 43.6ms\n",
      "Speed: 2.2ms preprocess, 43.6ms inference, 0.5ms postprocess per image at shape (1, 3, 352, 640)\n",
      "\n",
      "image 1/1 c:\\Users\\sande\\OneDrive\\Desktop\\IITTP\\2_Asgn\\Sem2\\2_dl\\SemProject\\Automated_Yolo\\dataset\\UAVDT-processed\\val\\images\\img000197.jpg: 352x640 (no detections), 41.8ms\n",
      "Speed: 1.5ms preprocess, 41.8ms inference, 0.4ms postprocess per image at shape (1, 3, 352, 640)\n"
     ]
    },
    {
     "name": "stderr",
     "output_type": "stream",
     "text": [
      " 18%|█▊        | 197/1101 [00:13<00:56, 15.95it/s]"
     ]
    },
    {
     "name": "stdout",
     "output_type": "stream",
     "text": [
      "\n",
      "image 1/1 c:\\Users\\sande\\OneDrive\\Desktop\\IITTP\\2_Asgn\\Sem2\\2_dl\\SemProject\\Automated_Yolo\\dataset\\UAVDT-processed\\val\\images\\img000198.jpg: 352x640 (no detections), 45.9ms\n",
      "Speed: 2.4ms preprocess, 45.9ms inference, 0.4ms postprocess per image at shape (1, 3, 352, 640)\n",
      "\n",
      "image 1/1 c:\\Users\\sande\\OneDrive\\Desktop\\IITTP\\2_Asgn\\Sem2\\2_dl\\SemProject\\Automated_Yolo\\dataset\\UAVDT-processed\\val\\images\\img000199.jpg: 352x640 (no detections), 57.2ms\n",
      "Speed: 1.6ms preprocess, 57.2ms inference, 0.6ms postprocess per image at shape (1, 3, 352, 640)\n"
     ]
    },
    {
     "name": "stderr",
     "output_type": "stream",
     "text": [
      " 18%|█▊        | 199/1101 [00:13<00:59, 15.20it/s]"
     ]
    },
    {
     "name": "stdout",
     "output_type": "stream",
     "text": [
      "\n",
      "image 1/1 c:\\Users\\sande\\OneDrive\\Desktop\\IITTP\\2_Asgn\\Sem2\\2_dl\\SemProject\\Automated_Yolo\\dataset\\UAVDT-processed\\val\\images\\img000200.jpg: 352x640 (no detections), 46.0ms\n",
      "Speed: 2.4ms preprocess, 46.0ms inference, 0.5ms postprocess per image at shape (1, 3, 352, 640)\n",
      "\n",
      "image 1/1 c:\\Users\\sande\\OneDrive\\Desktop\\IITTP\\2_Asgn\\Sem2\\2_dl\\SemProject\\Automated_Yolo\\dataset\\UAVDT-processed\\val\\images\\img000201.jpg: 352x640 (no detections), 36.4ms\n",
      "Speed: 1.6ms preprocess, 36.4ms inference, 0.4ms postprocess per image at shape (1, 3, 352, 640)\n"
     ]
    },
    {
     "name": "stderr",
     "output_type": "stream",
     "text": [
      " 18%|█▊        | 201/1101 [00:13<00:57, 15.68it/s]"
     ]
    },
    {
     "name": "stdout",
     "output_type": "stream",
     "text": [
      "\n",
      "image 1/1 c:\\Users\\sande\\OneDrive\\Desktop\\IITTP\\2_Asgn\\Sem2\\2_dl\\SemProject\\Automated_Yolo\\dataset\\UAVDT-processed\\val\\images\\img000202.jpg: 352x640 (no detections), 42.2ms\n",
      "Speed: 1.8ms preprocess, 42.2ms inference, 0.5ms postprocess per image at shape (1, 3, 352, 640)\n",
      "\n",
      "image 1/1 c:\\Users\\sande\\OneDrive\\Desktop\\IITTP\\2_Asgn\\Sem2\\2_dl\\SemProject\\Automated_Yolo\\dataset\\UAVDT-processed\\val\\images\\img000203.jpg: 352x640 (no detections), 38.7ms\n",
      "Speed: 1.5ms preprocess, 38.7ms inference, 0.4ms postprocess per image at shape (1, 3, 352, 640)\n"
     ]
    },
    {
     "name": "stderr",
     "output_type": "stream",
     "text": [
      " 18%|█▊        | 203/1101 [00:13<00:55, 16.05it/s]"
     ]
    },
    {
     "name": "stdout",
     "output_type": "stream",
     "text": [
      "\n",
      "image 1/1 c:\\Users\\sande\\OneDrive\\Desktop\\IITTP\\2_Asgn\\Sem2\\2_dl\\SemProject\\Automated_Yolo\\dataset\\UAVDT-processed\\val\\images\\img000204.jpg: 352x640 (no detections), 43.8ms\n",
      "Speed: 2.3ms preprocess, 43.8ms inference, 0.4ms postprocess per image at shape (1, 3, 352, 640)\n",
      "\n",
      "image 1/1 c:\\Users\\sande\\OneDrive\\Desktop\\IITTP\\2_Asgn\\Sem2\\2_dl\\SemProject\\Automated_Yolo\\dataset\\UAVDT-processed\\val\\images\\img000205.jpg: 352x640 (no detections), 33.9ms\n",
      "Speed: 1.7ms preprocess, 33.9ms inference, 0.5ms postprocess per image at shape (1, 3, 352, 640)\n"
     ]
    },
    {
     "name": "stderr",
     "output_type": "stream",
     "text": [
      " 19%|█▊        | 205/1101 [00:13<00:54, 16.31it/s]"
     ]
    },
    {
     "name": "stdout",
     "output_type": "stream",
     "text": [
      "\n",
      "image 1/1 c:\\Users\\sande\\OneDrive\\Desktop\\IITTP\\2_Asgn\\Sem2\\2_dl\\SemProject\\Automated_Yolo\\dataset\\UAVDT-processed\\val\\images\\img000206.jpg: 352x640 (no detections), 45.8ms\n",
      "Speed: 2.5ms preprocess, 45.8ms inference, 0.5ms postprocess per image at shape (1, 3, 352, 640)\n",
      "\n",
      "image 1/1 c:\\Users\\sande\\OneDrive\\Desktop\\IITTP\\2_Asgn\\Sem2\\2_dl\\SemProject\\Automated_Yolo\\dataset\\UAVDT-processed\\val\\images\\img000207.jpg: 352x640 (no detections), 39.4ms\n",
      "Speed: 1.5ms preprocess, 39.4ms inference, 0.4ms postprocess per image at shape (1, 3, 352, 640)\n"
     ]
    },
    {
     "name": "stderr",
     "output_type": "stream",
     "text": [
      " 19%|█▉        | 207/1101 [00:14<00:55, 16.21it/s]"
     ]
    },
    {
     "name": "stdout",
     "output_type": "stream",
     "text": [
      "\n",
      "image 1/1 c:\\Users\\sande\\OneDrive\\Desktop\\IITTP\\2_Asgn\\Sem2\\2_dl\\SemProject\\Automated_Yolo\\dataset\\UAVDT-processed\\val\\images\\img000208.jpg: 352x640 (no detections), 40.9ms\n",
      "Speed: 2.0ms preprocess, 40.9ms inference, 0.5ms postprocess per image at shape (1, 3, 352, 640)\n",
      "\n",
      "image 1/1 c:\\Users\\sande\\OneDrive\\Desktop\\IITTP\\2_Asgn\\Sem2\\2_dl\\SemProject\\Automated_Yolo\\dataset\\UAVDT-processed\\val\\images\\img000209.jpg: 352x640 (no detections), 38.7ms\n",
      "Speed: 2.2ms preprocess, 38.7ms inference, 0.5ms postprocess per image at shape (1, 3, 352, 640)\n"
     ]
    },
    {
     "name": "stderr",
     "output_type": "stream",
     "text": [
      " 19%|█▉        | 209/1101 [00:14<00:55, 16.15it/s]"
     ]
    },
    {
     "name": "stdout",
     "output_type": "stream",
     "text": [
      "\n",
      "image 1/1 c:\\Users\\sande\\OneDrive\\Desktop\\IITTP\\2_Asgn\\Sem2\\2_dl\\SemProject\\Automated_Yolo\\dataset\\UAVDT-processed\\val\\images\\img000210.jpg: 352x640 (no detections), 71.1ms\n",
      "Speed: 2.3ms preprocess, 71.1ms inference, 0.9ms postprocess per image at shape (1, 3, 352, 640)\n",
      "\n",
      "image 1/1 c:\\Users\\sande\\OneDrive\\Desktop\\IITTP\\2_Asgn\\Sem2\\2_dl\\SemProject\\Automated_Yolo\\dataset\\UAVDT-processed\\val\\images\\img000211.jpg: 352x640 (no detections), 40.5ms\n",
      "Speed: 1.9ms preprocess, 40.5ms inference, 0.4ms postprocess per image at shape (1, 3, 352, 640)\n"
     ]
    },
    {
     "name": "stderr",
     "output_type": "stream",
     "text": [
      " 19%|█▉        | 211/1101 [00:14<00:59, 15.04it/s]"
     ]
    },
    {
     "name": "stdout",
     "output_type": "stream",
     "text": [
      "\n",
      "image 1/1 c:\\Users\\sande\\OneDrive\\Desktop\\IITTP\\2_Asgn\\Sem2\\2_dl\\SemProject\\Automated_Yolo\\dataset\\UAVDT-processed\\val\\images\\img000212.jpg: 352x640 (no detections), 43.6ms\n",
      "Speed: 2.3ms preprocess, 43.6ms inference, 0.5ms postprocess per image at shape (1, 3, 352, 640)\n",
      "\n",
      "image 1/1 c:\\Users\\sande\\OneDrive\\Desktop\\IITTP\\2_Asgn\\Sem2\\2_dl\\SemProject\\Automated_Yolo\\dataset\\UAVDT-processed\\val\\images\\img000213.jpg: 352x640 (no detections), 40.7ms\n",
      "Speed: 2.2ms preprocess, 40.7ms inference, 0.5ms postprocess per image at shape (1, 3, 352, 640)\n"
     ]
    },
    {
     "name": "stderr",
     "output_type": "stream",
     "text": [
      " 19%|█▉        | 213/1101 [00:14<00:57, 15.37it/s]"
     ]
    },
    {
     "name": "stdout",
     "output_type": "stream",
     "text": [
      "\n",
      "image 1/1 c:\\Users\\sande\\OneDrive\\Desktop\\IITTP\\2_Asgn\\Sem2\\2_dl\\SemProject\\Automated_Yolo\\dataset\\UAVDT-processed\\val\\images\\img000214.jpg: 352x640 (no detections), 42.6ms\n",
      "Speed: 1.5ms preprocess, 42.6ms inference, 0.4ms postprocess per image at shape (1, 3, 352, 640)\n",
      "\n",
      "image 1/1 c:\\Users\\sande\\OneDrive\\Desktop\\IITTP\\2_Asgn\\Sem2\\2_dl\\SemProject\\Automated_Yolo\\dataset\\UAVDT-processed\\val\\images\\img000215.jpg: 352x640 (no detections), 37.8ms\n",
      "Speed: 1.8ms preprocess, 37.8ms inference, 0.4ms postprocess per image at shape (1, 3, 352, 640)\n"
     ]
    },
    {
     "name": "stderr",
     "output_type": "stream",
     "text": [
      " 20%|█▉        | 215/1101 [00:14<00:56, 15.81it/s]"
     ]
    },
    {
     "name": "stdout",
     "output_type": "stream",
     "text": [
      "\n",
      "image 1/1 c:\\Users\\sande\\OneDrive\\Desktop\\IITTP\\2_Asgn\\Sem2\\2_dl\\SemProject\\Automated_Yolo\\dataset\\UAVDT-processed\\val\\images\\img000216.jpg: 352x640 (no detections), 43.9ms\n",
      "Speed: 1.5ms preprocess, 43.9ms inference, 0.5ms postprocess per image at shape (1, 3, 352, 640)\n",
      "\n",
      "image 1/1 c:\\Users\\sande\\OneDrive\\Desktop\\IITTP\\2_Asgn\\Sem2\\2_dl\\SemProject\\Automated_Yolo\\dataset\\UAVDT-processed\\val\\images\\img000217.jpg: 352x640 (no detections), 40.8ms\n",
      "Speed: 2.0ms preprocess, 40.8ms inference, 0.5ms postprocess per image at shape (1, 3, 352, 640)\n"
     ]
    },
    {
     "name": "stderr",
     "output_type": "stream",
     "text": [
      " 20%|█▉        | 217/1101 [00:14<00:55, 15.80it/s]"
     ]
    },
    {
     "name": "stdout",
     "output_type": "stream",
     "text": [
      "\n",
      "image 1/1 c:\\Users\\sande\\OneDrive\\Desktop\\IITTP\\2_Asgn\\Sem2\\2_dl\\SemProject\\Automated_Yolo\\dataset\\UAVDT-processed\\val\\images\\img000218.jpg: 352x640 (no detections), 44.1ms\n",
      "Speed: 2.2ms preprocess, 44.1ms inference, 0.4ms postprocess per image at shape (1, 3, 352, 640)\n",
      "\n",
      "image 1/1 c:\\Users\\sande\\OneDrive\\Desktop\\IITTP\\2_Asgn\\Sem2\\2_dl\\SemProject\\Automated_Yolo\\dataset\\UAVDT-processed\\val\\images\\img000219.jpg: 352x640 (no detections), 39.6ms\n",
      "Speed: 2.3ms preprocess, 39.6ms inference, 0.5ms postprocess per image at shape (1, 3, 352, 640)\n"
     ]
    },
    {
     "name": "stderr",
     "output_type": "stream",
     "text": [
      " 20%|█▉        | 219/1101 [00:14<00:55, 15.93it/s]"
     ]
    },
    {
     "name": "stdout",
     "output_type": "stream",
     "text": [
      "\n",
      "image 1/1 c:\\Users\\sande\\OneDrive\\Desktop\\IITTP\\2_Asgn\\Sem2\\2_dl\\SemProject\\Automated_Yolo\\dataset\\UAVDT-processed\\val\\images\\img000220.jpg: 352x640 (no detections), 43.1ms\n",
      "Speed: 1.4ms preprocess, 43.1ms inference, 0.5ms postprocess per image at shape (1, 3, 352, 640)\n",
      "\n",
      "image 1/1 c:\\Users\\sande\\OneDrive\\Desktop\\IITTP\\2_Asgn\\Sem2\\2_dl\\SemProject\\Automated_Yolo\\dataset\\UAVDT-processed\\val\\images\\img000221.jpg: 352x640 (no detections), 39.3ms\n",
      "Speed: 1.6ms preprocess, 39.3ms inference, 0.4ms postprocess per image at shape (1, 3, 352, 640)\n"
     ]
    },
    {
     "name": "stderr",
     "output_type": "stream",
     "text": [
      " 20%|██        | 221/1101 [00:14<00:54, 16.21it/s]"
     ]
    },
    {
     "name": "stdout",
     "output_type": "stream",
     "text": [
      "\n",
      "image 1/1 c:\\Users\\sande\\OneDrive\\Desktop\\IITTP\\2_Asgn\\Sem2\\2_dl\\SemProject\\Automated_Yolo\\dataset\\UAVDT-processed\\val\\images\\img000222.jpg: 352x640 (no detections), 67.4ms\n",
      "Speed: 1.6ms preprocess, 67.4ms inference, 0.6ms postprocess per image at shape (1, 3, 352, 640)\n",
      "\n",
      "image 1/1 c:\\Users\\sande\\OneDrive\\Desktop\\IITTP\\2_Asgn\\Sem2\\2_dl\\SemProject\\Automated_Yolo\\dataset\\UAVDT-processed\\val\\images\\img000223.jpg: 352x640 (no detections), 40.4ms\n",
      "Speed: 2.4ms preprocess, 40.4ms inference, 0.4ms postprocess per image at shape (1, 3, 352, 640)\n"
     ]
    },
    {
     "name": "stderr",
     "output_type": "stream",
     "text": [
      " 20%|██        | 223/1101 [00:15<00:57, 15.34it/s]"
     ]
    },
    {
     "name": "stdout",
     "output_type": "stream",
     "text": [
      "\n",
      "image 1/1 c:\\Users\\sande\\OneDrive\\Desktop\\IITTP\\2_Asgn\\Sem2\\2_dl\\SemProject\\Automated_Yolo\\dataset\\UAVDT-processed\\val\\images\\img000224.jpg: 352x640 (no detections), 43.2ms\n",
      "Speed: 2.4ms preprocess, 43.2ms inference, 0.4ms postprocess per image at shape (1, 3, 352, 640)\n",
      "\n",
      "image 1/1 c:\\Users\\sande\\OneDrive\\Desktop\\IITTP\\2_Asgn\\Sem2\\2_dl\\SemProject\\Automated_Yolo\\dataset\\UAVDT-processed\\val\\images\\img000225.jpg: 352x640 (no detections), 38.9ms\n",
      "Speed: 2.0ms preprocess, 38.9ms inference, 0.5ms postprocess per image at shape (1, 3, 352, 640)\n"
     ]
    },
    {
     "name": "stderr",
     "output_type": "stream",
     "text": [
      " 20%|██        | 225/1101 [00:15<00:56, 15.58it/s]"
     ]
    },
    {
     "name": "stdout",
     "output_type": "stream",
     "text": [
      "\n",
      "image 1/1 c:\\Users\\sande\\OneDrive\\Desktop\\IITTP\\2_Asgn\\Sem2\\2_dl\\SemProject\\Automated_Yolo\\dataset\\UAVDT-processed\\val\\images\\img000226.jpg: 352x640 (no detections), 42.7ms\n",
      "Speed: 2.3ms preprocess, 42.7ms inference, 0.5ms postprocess per image at shape (1, 3, 352, 640)\n",
      "\n",
      "image 1/1 c:\\Users\\sande\\OneDrive\\Desktop\\IITTP\\2_Asgn\\Sem2\\2_dl\\SemProject\\Automated_Yolo\\dataset\\UAVDT-processed\\val\\images\\img000227.jpg: 352x640 (no detections), 39.8ms\n",
      "Speed: 1.8ms preprocess, 39.8ms inference, 0.4ms postprocess per image at shape (1, 3, 352, 640)\n"
     ]
    },
    {
     "name": "stderr",
     "output_type": "stream",
     "text": [
      " 21%|██        | 227/1101 [00:15<00:54, 15.96it/s]"
     ]
    },
    {
     "name": "stdout",
     "output_type": "stream",
     "text": [
      "\n",
      "image 1/1 c:\\Users\\sande\\OneDrive\\Desktop\\IITTP\\2_Asgn\\Sem2\\2_dl\\SemProject\\Automated_Yolo\\dataset\\UAVDT-processed\\val\\images\\img000228.jpg: 352x640 (no detections), 42.3ms\n",
      "Speed: 1.9ms preprocess, 42.3ms inference, 0.5ms postprocess per image at shape (1, 3, 352, 640)\n",
      "\n",
      "image 1/1 c:\\Users\\sande\\OneDrive\\Desktop\\IITTP\\2_Asgn\\Sem2\\2_dl\\SemProject\\Automated_Yolo\\dataset\\UAVDT-processed\\val\\images\\img000229.jpg: 352x640 (no detections), 42.0ms\n",
      "Speed: 1.8ms preprocess, 42.0ms inference, 0.4ms postprocess per image at shape (1, 3, 352, 640)\n"
     ]
    },
    {
     "name": "stderr",
     "output_type": "stream",
     "text": [
      " 21%|██        | 229/1101 [00:15<00:54, 15.97it/s]"
     ]
    },
    {
     "name": "stdout",
     "output_type": "stream",
     "text": [
      "\n",
      "image 1/1 c:\\Users\\sande\\OneDrive\\Desktop\\IITTP\\2_Asgn\\Sem2\\2_dl\\SemProject\\Automated_Yolo\\dataset\\UAVDT-processed\\val\\images\\img000230.jpg: 352x640 (no detections), 41.1ms\n",
      "Speed: 2.5ms preprocess, 41.1ms inference, 0.4ms postprocess per image at shape (1, 3, 352, 640)\n",
      "\n",
      "image 1/1 c:\\Users\\sande\\OneDrive\\Desktop\\IITTP\\2_Asgn\\Sem2\\2_dl\\SemProject\\Automated_Yolo\\dataset\\UAVDT-processed\\val\\images\\img000231.jpg: 352x640 (no detections), 39.7ms\n",
      "Speed: 1.6ms preprocess, 39.7ms inference, 0.4ms postprocess per image at shape (1, 3, 352, 640)\n"
     ]
    },
    {
     "name": "stderr",
     "output_type": "stream",
     "text": [
      " 21%|██        | 231/1101 [00:15<00:53, 16.25it/s]"
     ]
    },
    {
     "name": "stdout",
     "output_type": "stream",
     "text": [
      "\n",
      "image 1/1 c:\\Users\\sande\\OneDrive\\Desktop\\IITTP\\2_Asgn\\Sem2\\2_dl\\SemProject\\Automated_Yolo\\dataset\\UAVDT-processed\\val\\images\\img000232.jpg: 352x640 (no detections), 43.6ms\n",
      "Speed: 1.9ms preprocess, 43.6ms inference, 0.5ms postprocess per image at shape (1, 3, 352, 640)\n",
      "\n",
      "image 1/1 c:\\Users\\sande\\OneDrive\\Desktop\\IITTP\\2_Asgn\\Sem2\\2_dl\\SemProject\\Automated_Yolo\\dataset\\UAVDT-processed\\val\\images\\img000233.jpg: 352x640 (no detections), 38.5ms\n",
      "Speed: 2.3ms preprocess, 38.5ms inference, 0.4ms postprocess per image at shape (1, 3, 352, 640)\n"
     ]
    },
    {
     "name": "stderr",
     "output_type": "stream",
     "text": [
      " 21%|██        | 233/1101 [00:15<00:53, 16.17it/s]"
     ]
    },
    {
     "name": "stdout",
     "output_type": "stream",
     "text": [
      "\n",
      "image 1/1 c:\\Users\\sande\\OneDrive\\Desktop\\IITTP\\2_Asgn\\Sem2\\2_dl\\SemProject\\Automated_Yolo\\dataset\\UAVDT-processed\\val\\images\\img000234.jpg: 352x640 (no detections), 54.4ms\n",
      "Speed: 2.0ms preprocess, 54.4ms inference, 0.6ms postprocess per image at shape (1, 3, 352, 640)\n",
      "\n",
      "image 1/1 c:\\Users\\sande\\OneDrive\\Desktop\\IITTP\\2_Asgn\\Sem2\\2_dl\\SemProject\\Automated_Yolo\\dataset\\UAVDT-processed\\val\\images\\img000235.jpg: 352x640 (no detections), 44.4ms\n",
      "Speed: 3.1ms preprocess, 44.4ms inference, 0.4ms postprocess per image at shape (1, 3, 352, 640)\n"
     ]
    },
    {
     "name": "stderr",
     "output_type": "stream",
     "text": [
      " 21%|██▏       | 235/1101 [00:15<00:55, 15.54it/s]"
     ]
    },
    {
     "name": "stdout",
     "output_type": "stream",
     "text": [
      "\n",
      "image 1/1 c:\\Users\\sande\\OneDrive\\Desktop\\IITTP\\2_Asgn\\Sem2\\2_dl\\SemProject\\Automated_Yolo\\dataset\\UAVDT-processed\\val\\images\\img000236.jpg: 352x640 (no detections), 43.9ms\n",
      "Speed: 2.5ms preprocess, 43.9ms inference, 0.5ms postprocess per image at shape (1, 3, 352, 640)\n",
      "\n",
      "image 1/1 c:\\Users\\sande\\OneDrive\\Desktop\\IITTP\\2_Asgn\\Sem2\\2_dl\\SemProject\\Automated_Yolo\\dataset\\UAVDT-processed\\val\\images\\img000237.jpg: 352x640 (no detections), 39.0ms\n",
      "Speed: 1.9ms preprocess, 39.0ms inference, 0.4ms postprocess per image at shape (1, 3, 352, 640)\n"
     ]
    },
    {
     "name": "stderr",
     "output_type": "stream",
     "text": [
      " 22%|██▏       | 237/1101 [00:16<00:54, 15.73it/s]"
     ]
    },
    {
     "name": "stdout",
     "output_type": "stream",
     "text": [
      "\n",
      "image 1/1 c:\\Users\\sande\\OneDrive\\Desktop\\IITTP\\2_Asgn\\Sem2\\2_dl\\SemProject\\Automated_Yolo\\dataset\\UAVDT-processed\\val\\images\\img000238.jpg: 352x640 (no detections), 44.2ms\n",
      "Speed: 1.5ms preprocess, 44.2ms inference, 0.4ms postprocess per image at shape (1, 3, 352, 640)\n",
      "\n",
      "image 1/1 c:\\Users\\sande\\OneDrive\\Desktop\\IITTP\\2_Asgn\\Sem2\\2_dl\\SemProject\\Automated_Yolo\\dataset\\UAVDT-processed\\val\\images\\img000239.jpg: 352x640 (no detections), 39.0ms\n",
      "Speed: 2.3ms preprocess, 39.0ms inference, 0.5ms postprocess per image at shape (1, 3, 352, 640)\n"
     ]
    },
    {
     "name": "stderr",
     "output_type": "stream",
     "text": [
      " 22%|██▏       | 239/1101 [00:16<00:53, 16.08it/s]"
     ]
    },
    {
     "name": "stdout",
     "output_type": "stream",
     "text": [
      "\n",
      "image 1/1 c:\\Users\\sande\\OneDrive\\Desktop\\IITTP\\2_Asgn\\Sem2\\2_dl\\SemProject\\Automated_Yolo\\dataset\\UAVDT-processed\\val\\images\\img000240.jpg: 352x640 (no detections), 42.0ms\n",
      "Speed: 1.5ms preprocess, 42.0ms inference, 0.5ms postprocess per image at shape (1, 3, 352, 640)\n",
      "\n",
      "image 1/1 c:\\Users\\sande\\OneDrive\\Desktop\\IITTP\\2_Asgn\\Sem2\\2_dl\\SemProject\\Automated_Yolo\\dataset\\UAVDT-processed\\val\\images\\img000241.jpg: 352x640 (no detections), 39.7ms\n",
      "Speed: 1.6ms preprocess, 39.7ms inference, 0.6ms postprocess per image at shape (1, 3, 352, 640)\n"
     ]
    },
    {
     "name": "stderr",
     "output_type": "stream",
     "text": [
      " 22%|██▏       | 241/1101 [00:16<00:52, 16.32it/s]"
     ]
    },
    {
     "name": "stdout",
     "output_type": "stream",
     "text": [
      "\n",
      "image 1/1 c:\\Users\\sande\\OneDrive\\Desktop\\IITTP\\2_Asgn\\Sem2\\2_dl\\SemProject\\Automated_Yolo\\dataset\\UAVDT-processed\\val\\images\\img000242.jpg: 352x640 (no detections), 45.0ms\n",
      "Speed: 2.6ms preprocess, 45.0ms inference, 0.4ms postprocess per image at shape (1, 3, 352, 640)\n",
      "\n",
      "image 1/1 c:\\Users\\sande\\OneDrive\\Desktop\\IITTP\\2_Asgn\\Sem2\\2_dl\\SemProject\\Automated_Yolo\\dataset\\UAVDT-processed\\val\\images\\img000243.jpg: 352x640 (no detections), 37.2ms\n",
      "Speed: 1.5ms preprocess, 37.2ms inference, 0.4ms postprocess per image at shape (1, 3, 352, 640)\n"
     ]
    },
    {
     "name": "stderr",
     "output_type": "stream",
     "text": [
      " 22%|██▏       | 243/1101 [00:16<00:51, 16.51it/s]"
     ]
    },
    {
     "name": "stdout",
     "output_type": "stream",
     "text": [
      "\n",
      "image 1/1 c:\\Users\\sande\\OneDrive\\Desktop\\IITTP\\2_Asgn\\Sem2\\2_dl\\SemProject\\Automated_Yolo\\dataset\\UAVDT-processed\\val\\images\\img000244.jpg: 352x640 (no detections), 42.7ms\n",
      "Speed: 1.5ms preprocess, 42.7ms inference, 0.5ms postprocess per image at shape (1, 3, 352, 640)\n",
      "\n",
      "image 1/1 c:\\Users\\sande\\OneDrive\\Desktop\\IITTP\\2_Asgn\\Sem2\\2_dl\\SemProject\\Automated_Yolo\\dataset\\UAVDT-processed\\val\\images\\img000245.jpg: 352x640 (no detections), 38.3ms\n",
      "Speed: 2.3ms preprocess, 38.3ms inference, 0.4ms postprocess per image at shape (1, 3, 352, 640)\n"
     ]
    },
    {
     "name": "stderr",
     "output_type": "stream",
     "text": [
      " 22%|██▏       | 245/1101 [00:16<00:52, 16.38it/s]"
     ]
    },
    {
     "name": "stdout",
     "output_type": "stream",
     "text": [
      "\n",
      "image 1/1 c:\\Users\\sande\\OneDrive\\Desktop\\IITTP\\2_Asgn\\Sem2\\2_dl\\SemProject\\Automated_Yolo\\dataset\\UAVDT-processed\\val\\images\\img000246.jpg: 352x640 (no detections), 56.6ms\n",
      "Speed: 2.2ms preprocess, 56.6ms inference, 0.6ms postprocess per image at shape (1, 3, 352, 640)\n",
      "\n",
      "image 1/1 c:\\Users\\sande\\OneDrive\\Desktop\\IITTP\\2_Asgn\\Sem2\\2_dl\\SemProject\\Automated_Yolo\\dataset\\UAVDT-processed\\val\\images\\img000247.jpg: 352x640 (no detections), 48.7ms\n",
      "Speed: 2.6ms preprocess, 48.7ms inference, 0.5ms postprocess per image at shape (1, 3, 352, 640)\n"
     ]
    },
    {
     "name": "stderr",
     "output_type": "stream",
     "text": [
      " 22%|██▏       | 247/1101 [00:16<00:55, 15.33it/s]"
     ]
    },
    {
     "name": "stdout",
     "output_type": "stream",
     "text": [
      "\n",
      "image 1/1 c:\\Users\\sande\\OneDrive\\Desktop\\IITTP\\2_Asgn\\Sem2\\2_dl\\SemProject\\Automated_Yolo\\dataset\\UAVDT-processed\\val\\images\\img000248.jpg: 352x640 (no detections), 46.6ms\n",
      "Speed: 2.4ms preprocess, 46.6ms inference, 0.6ms postprocess per image at shape (1, 3, 352, 640)\n",
      "\n",
      "image 1/1 c:\\Users\\sande\\OneDrive\\Desktop\\IITTP\\2_Asgn\\Sem2\\2_dl\\SemProject\\Automated_Yolo\\dataset\\UAVDT-processed\\val\\images\\img000249.jpg: 352x640 (no detections), 38.9ms\n",
      "Speed: 2.4ms preprocess, 38.9ms inference, 0.4ms postprocess per image at shape (1, 3, 352, 640)\n"
     ]
    },
    {
     "name": "stderr",
     "output_type": "stream",
     "text": [
      " 23%|██▎       | 249/1101 [00:16<00:55, 15.46it/s]"
     ]
    },
    {
     "name": "stdout",
     "output_type": "stream",
     "text": [
      "\n",
      "image 1/1 c:\\Users\\sande\\OneDrive\\Desktop\\IITTP\\2_Asgn\\Sem2\\2_dl\\SemProject\\Automated_Yolo\\dataset\\UAVDT-processed\\val\\images\\img000250.jpg: 352x640 (no detections), 40.5ms\n",
      "Speed: 1.5ms preprocess, 40.5ms inference, 0.5ms postprocess per image at shape (1, 3, 352, 640)\n",
      "\n",
      "image 1/1 c:\\Users\\sande\\OneDrive\\Desktop\\IITTP\\2_Asgn\\Sem2\\2_dl\\SemProject\\Automated_Yolo\\dataset\\UAVDT-processed\\val\\images\\img000251.jpg: 352x640 (no detections), 40.6ms\n",
      "Speed: 1.7ms preprocess, 40.6ms inference, 0.4ms postprocess per image at shape (1, 3, 352, 640)\n"
     ]
    },
    {
     "name": "stderr",
     "output_type": "stream",
     "text": [
      " 23%|██▎       | 251/1101 [00:16<00:53, 16.00it/s]"
     ]
    },
    {
     "name": "stdout",
     "output_type": "stream",
     "text": [
      "\n",
      "image 1/1 c:\\Users\\sande\\OneDrive\\Desktop\\IITTP\\2_Asgn\\Sem2\\2_dl\\SemProject\\Automated_Yolo\\dataset\\UAVDT-processed\\val\\images\\img000252.jpg: 352x640 (no detections), 45.9ms\n",
      "Speed: 1.7ms preprocess, 45.9ms inference, 0.5ms postprocess per image at shape (1, 3, 352, 640)\n",
      "\n",
      "image 1/1 c:\\Users\\sande\\OneDrive\\Desktop\\IITTP\\2_Asgn\\Sem2\\2_dl\\SemProject\\Automated_Yolo\\dataset\\UAVDT-processed\\val\\images\\img000253.jpg: 352x640 (no detections), 39.6ms\n",
      "Speed: 1.8ms preprocess, 39.6ms inference, 0.4ms postprocess per image at shape (1, 3, 352, 640)\n"
     ]
    },
    {
     "name": "stderr",
     "output_type": "stream",
     "text": [
      " 23%|██▎       | 253/1101 [00:17<00:53, 15.76it/s]"
     ]
    },
    {
     "name": "stdout",
     "output_type": "stream",
     "text": [
      "\n",
      "image 1/1 c:\\Users\\sande\\OneDrive\\Desktop\\IITTP\\2_Asgn\\Sem2\\2_dl\\SemProject\\Automated_Yolo\\dataset\\UAVDT-processed\\val\\images\\img000254.jpg: 352x640 (no detections), 44.2ms\n",
      "Speed: 2.3ms preprocess, 44.2ms inference, 0.5ms postprocess per image at shape (1, 3, 352, 640)\n",
      "\n",
      "image 1/1 c:\\Users\\sande\\OneDrive\\Desktop\\IITTP\\2_Asgn\\Sem2\\2_dl\\SemProject\\Automated_Yolo\\dataset\\UAVDT-processed\\val\\images\\img000255.jpg: 352x640 (no detections), 39.6ms\n",
      "Speed: 1.6ms preprocess, 39.6ms inference, 0.5ms postprocess per image at shape (1, 3, 352, 640)\n"
     ]
    },
    {
     "name": "stderr",
     "output_type": "stream",
     "text": [
      " 23%|██▎       | 255/1101 [00:17<00:52, 16.04it/s]"
     ]
    },
    {
     "name": "stdout",
     "output_type": "stream",
     "text": [
      "\n",
      "image 1/1 c:\\Users\\sande\\OneDrive\\Desktop\\IITTP\\2_Asgn\\Sem2\\2_dl\\SemProject\\Automated_Yolo\\dataset\\UAVDT-processed\\val\\images\\img000256.jpg: 352x640 (no detections), 42.8ms\n",
      "Speed: 2.4ms preprocess, 42.8ms inference, 0.4ms postprocess per image at shape (1, 3, 352, 640)\n",
      "\n",
      "image 1/1 c:\\Users\\sande\\OneDrive\\Desktop\\IITTP\\2_Asgn\\Sem2\\2_dl\\SemProject\\Automated_Yolo\\dataset\\UAVDT-processed\\val\\images\\img000257.jpg: 352x640 (no detections), 42.1ms\n",
      "Speed: 1.8ms preprocess, 42.1ms inference, 0.5ms postprocess per image at shape (1, 3, 352, 640)\n"
     ]
    },
    {
     "name": "stderr",
     "output_type": "stream",
     "text": [
      " 23%|██▎       | 257/1101 [00:17<00:52, 15.94it/s]"
     ]
    },
    {
     "name": "stdout",
     "output_type": "stream",
     "text": [
      "\n",
      "image 1/1 c:\\Users\\sande\\OneDrive\\Desktop\\IITTP\\2_Asgn\\Sem2\\2_dl\\SemProject\\Automated_Yolo\\dataset\\UAVDT-processed\\val\\images\\img000258.jpg: 352x640 (no detections), 72.9ms\n",
      "Speed: 1.8ms preprocess, 72.9ms inference, 0.5ms postprocess per image at shape (1, 3, 352, 640)\n",
      "\n",
      "image 1/1 c:\\Users\\sande\\OneDrive\\Desktop\\IITTP\\2_Asgn\\Sem2\\2_dl\\SemProject\\Automated_Yolo\\dataset\\UAVDT-processed\\val\\images\\img000259.jpg: 352x640 (no detections), 39.8ms\n",
      "Speed: 1.6ms preprocess, 39.8ms inference, 0.4ms postprocess per image at shape (1, 3, 352, 640)\n"
     ]
    },
    {
     "name": "stderr",
     "output_type": "stream",
     "text": [
      " 24%|██▎       | 259/1101 [00:17<00:55, 15.12it/s]"
     ]
    },
    {
     "name": "stdout",
     "output_type": "stream",
     "text": [
      "\n",
      "image 1/1 c:\\Users\\sande\\OneDrive\\Desktop\\IITTP\\2_Asgn\\Sem2\\2_dl\\SemProject\\Automated_Yolo\\dataset\\UAVDT-processed\\val\\images\\img000260.jpg: 352x640 (no detections), 44.0ms\n",
      "Speed: 1.6ms preprocess, 44.0ms inference, 0.5ms postprocess per image at shape (1, 3, 352, 640)\n",
      "\n",
      "image 1/1 c:\\Users\\sande\\OneDrive\\Desktop\\IITTP\\2_Asgn\\Sem2\\2_dl\\SemProject\\Automated_Yolo\\dataset\\UAVDT-processed\\val\\images\\img000261.jpg: 352x640 (no detections), 46.8ms\n",
      "Speed: 2.2ms preprocess, 46.8ms inference, 0.4ms postprocess per image at shape (1, 3, 352, 640)\n"
     ]
    },
    {
     "name": "stderr",
     "output_type": "stream",
     "text": [
      " 24%|██▎       | 261/1101 [00:17<00:55, 15.03it/s]"
     ]
    },
    {
     "name": "stdout",
     "output_type": "stream",
     "text": [
      "\n",
      "image 1/1 c:\\Users\\sande\\OneDrive\\Desktop\\IITTP\\2_Asgn\\Sem2\\2_dl\\SemProject\\Automated_Yolo\\dataset\\UAVDT-processed\\val\\images\\img000262.jpg: 352x640 (no detections), 43.9ms\n",
      "Speed: 1.5ms preprocess, 43.9ms inference, 0.5ms postprocess per image at shape (1, 3, 352, 640)\n",
      "\n",
      "image 1/1 c:\\Users\\sande\\OneDrive\\Desktop\\IITTP\\2_Asgn\\Sem2\\2_dl\\SemProject\\Automated_Yolo\\dataset\\UAVDT-processed\\val\\images\\img000263.jpg: 352x640 (no detections), 41.1ms\n",
      "Speed: 1.5ms preprocess, 41.1ms inference, 0.5ms postprocess per image at shape (1, 3, 352, 640)\n"
     ]
    },
    {
     "name": "stderr",
     "output_type": "stream",
     "text": [
      " 24%|██▍       | 263/1101 [00:17<00:53, 15.75it/s]"
     ]
    },
    {
     "name": "stdout",
     "output_type": "stream",
     "text": [
      "\n",
      "image 1/1 c:\\Users\\sande\\OneDrive\\Desktop\\IITTP\\2_Asgn\\Sem2\\2_dl\\SemProject\\Automated_Yolo\\dataset\\UAVDT-processed\\val\\images\\img000264.jpg: 352x640 (no detections), 41.8ms\n",
      "Speed: 2.0ms preprocess, 41.8ms inference, 0.4ms postprocess per image at shape (1, 3, 352, 640)\n",
      "\n",
      "image 1/1 c:\\Users\\sande\\OneDrive\\Desktop\\IITTP\\2_Asgn\\Sem2\\2_dl\\SemProject\\Automated_Yolo\\dataset\\UAVDT-processed\\val\\images\\img000265.jpg: 352x640 (no detections), 40.0ms\n",
      "Speed: 1.8ms preprocess, 40.0ms inference, 0.5ms postprocess per image at shape (1, 3, 352, 640)\n"
     ]
    },
    {
     "name": "stderr",
     "output_type": "stream",
     "text": [
      " 24%|██▍       | 265/1101 [00:17<00:53, 15.73it/s]"
     ]
    },
    {
     "name": "stdout",
     "output_type": "stream",
     "text": [
      "\n",
      "image 1/1 c:\\Users\\sande\\OneDrive\\Desktop\\IITTP\\2_Asgn\\Sem2\\2_dl\\SemProject\\Automated_Yolo\\dataset\\UAVDT-processed\\val\\images\\img000266.jpg: 352x640 (no detections), 47.2ms\n",
      "Speed: 1.6ms preprocess, 47.2ms inference, 0.5ms postprocess per image at shape (1, 3, 352, 640)\n",
      "\n",
      "image 1/1 c:\\Users\\sande\\OneDrive\\Desktop\\IITTP\\2_Asgn\\Sem2\\2_dl\\SemProject\\Automated_Yolo\\dataset\\UAVDT-processed\\val\\images\\img000267.jpg: 352x640 (no detections), 45.4ms\n",
      "Speed: 2.1ms preprocess, 45.4ms inference, 0.7ms postprocess per image at shape (1, 3, 352, 640)\n"
     ]
    },
    {
     "name": "stderr",
     "output_type": "stream",
     "text": [
      " 24%|██▍       | 267/1101 [00:17<00:53, 15.46it/s]"
     ]
    },
    {
     "name": "stdout",
     "output_type": "stream",
     "text": [
      "\n",
      "image 1/1 c:\\Users\\sande\\OneDrive\\Desktop\\IITTP\\2_Asgn\\Sem2\\2_dl\\SemProject\\Automated_Yolo\\dataset\\UAVDT-processed\\val\\images\\img000268.jpg: 352x640 (no detections), 48.0ms\n",
      "Speed: 2.4ms preprocess, 48.0ms inference, 0.5ms postprocess per image at shape (1, 3, 352, 640)\n",
      "\n",
      "image 1/1 c:\\Users\\sande\\OneDrive\\Desktop\\IITTP\\2_Asgn\\Sem2\\2_dl\\SemProject\\Automated_Yolo\\dataset\\UAVDT-processed\\val\\images\\img000269.jpg: 352x640 (no detections), 43.6ms\n",
      "Speed: 1.6ms preprocess, 43.6ms inference, 0.5ms postprocess per image at shape (1, 3, 352, 640)\n"
     ]
    },
    {
     "name": "stderr",
     "output_type": "stream",
     "text": [
      " 24%|██▍       | 269/1101 [00:18<00:54, 15.39it/s]"
     ]
    },
    {
     "name": "stdout",
     "output_type": "stream",
     "text": [
      "\n",
      "image 1/1 c:\\Users\\sande\\OneDrive\\Desktop\\IITTP\\2_Asgn\\Sem2\\2_dl\\SemProject\\Automated_Yolo\\dataset\\UAVDT-processed\\val\\images\\img000270.jpg: 352x640 (no detections), 67.6ms\n",
      "Speed: 1.5ms preprocess, 67.6ms inference, 0.5ms postprocess per image at shape (1, 3, 352, 640)\n",
      "\n",
      "image 1/1 c:\\Users\\sande\\OneDrive\\Desktop\\IITTP\\2_Asgn\\Sem2\\2_dl\\SemProject\\Automated_Yolo\\dataset\\UAVDT-processed\\val\\images\\img000271.jpg: 352x640 (no detections), 39.7ms\n",
      "Speed: 2.3ms preprocess, 39.7ms inference, 0.5ms postprocess per image at shape (1, 3, 352, 640)\n"
     ]
    },
    {
     "name": "stderr",
     "output_type": "stream",
     "text": [
      " 25%|██▍       | 271/1101 [00:18<00:56, 14.63it/s]"
     ]
    },
    {
     "name": "stdout",
     "output_type": "stream",
     "text": [
      "\n",
      "image 1/1 c:\\Users\\sande\\OneDrive\\Desktop\\IITTP\\2_Asgn\\Sem2\\2_dl\\SemProject\\Automated_Yolo\\dataset\\UAVDT-processed\\val\\images\\img000272.jpg: 352x640 (no detections), 44.8ms\n",
      "Speed: 1.5ms preprocess, 44.8ms inference, 0.4ms postprocess per image at shape (1, 3, 352, 640)\n",
      "\n",
      "image 1/1 c:\\Users\\sande\\OneDrive\\Desktop\\IITTP\\2_Asgn\\Sem2\\2_dl\\SemProject\\Automated_Yolo\\dataset\\UAVDT-processed\\val\\images\\img000273.jpg: 352x640 (no detections), 38.4ms\n",
      "Speed: 1.6ms preprocess, 38.4ms inference, 0.4ms postprocess per image at shape (1, 3, 352, 640)\n"
     ]
    },
    {
     "name": "stderr",
     "output_type": "stream",
     "text": [
      " 25%|██▍       | 273/1101 [00:18<00:54, 15.08it/s]"
     ]
    },
    {
     "name": "stdout",
     "output_type": "stream",
     "text": [
      "\n",
      "image 1/1 c:\\Users\\sande\\OneDrive\\Desktop\\IITTP\\2_Asgn\\Sem2\\2_dl\\SemProject\\Automated_Yolo\\dataset\\UAVDT-processed\\val\\images\\img000274.jpg: 352x640 (no detections), 42.1ms\n",
      "Speed: 1.6ms preprocess, 42.1ms inference, 0.4ms postprocess per image at shape (1, 3, 352, 640)\n",
      "\n",
      "image 1/1 c:\\Users\\sande\\OneDrive\\Desktop\\IITTP\\2_Asgn\\Sem2\\2_dl\\SemProject\\Automated_Yolo\\dataset\\UAVDT-processed\\val\\images\\img000275.jpg: 352x640 (no detections), 40.0ms\n",
      "Speed: 1.5ms preprocess, 40.0ms inference, 0.4ms postprocess per image at shape (1, 3, 352, 640)\n"
     ]
    },
    {
     "name": "stderr",
     "output_type": "stream",
     "text": [
      " 25%|██▍       | 275/1101 [00:18<00:53, 15.43it/s]"
     ]
    },
    {
     "name": "stdout",
     "output_type": "stream",
     "text": [
      "\n",
      "image 1/1 c:\\Users\\sande\\OneDrive\\Desktop\\IITTP\\2_Asgn\\Sem2\\2_dl\\SemProject\\Automated_Yolo\\dataset\\UAVDT-processed\\val\\images\\img000276.jpg: 352x640 (no detections), 43.5ms\n",
      "Speed: 1.5ms preprocess, 43.5ms inference, 0.6ms postprocess per image at shape (1, 3, 352, 640)\n",
      "\n",
      "image 1/1 c:\\Users\\sande\\OneDrive\\Desktop\\IITTP\\2_Asgn\\Sem2\\2_dl\\SemProject\\Automated_Yolo\\dataset\\UAVDT-processed\\val\\images\\img000277.jpg: 352x640 (no detections), 38.1ms\n",
      "Speed: 2.3ms preprocess, 38.1ms inference, 0.4ms postprocess per image at shape (1, 3, 352, 640)\n"
     ]
    },
    {
     "name": "stderr",
     "output_type": "stream",
     "text": [
      " 25%|██▌       | 277/1101 [00:18<00:52, 15.79it/s]"
     ]
    },
    {
     "name": "stdout",
     "output_type": "stream",
     "text": [
      "\n",
      "image 1/1 c:\\Users\\sande\\OneDrive\\Desktop\\IITTP\\2_Asgn\\Sem2\\2_dl\\SemProject\\Automated_Yolo\\dataset\\UAVDT-processed\\val\\images\\img000278.jpg: 352x640 (no detections), 42.4ms\n",
      "Speed: 1.6ms preprocess, 42.4ms inference, 0.5ms postprocess per image at shape (1, 3, 352, 640)\n",
      "\n",
      "image 1/1 c:\\Users\\sande\\OneDrive\\Desktop\\IITTP\\2_Asgn\\Sem2\\2_dl\\SemProject\\Automated_Yolo\\dataset\\UAVDT-processed\\val\\images\\img000279.jpg: 352x640 (no detections), 40.3ms\n",
      "Speed: 2.2ms preprocess, 40.3ms inference, 0.4ms postprocess per image at shape (1, 3, 352, 640)\n"
     ]
    },
    {
     "name": "stderr",
     "output_type": "stream",
     "text": [
      " 25%|██▌       | 279/1101 [00:18<00:52, 15.80it/s]"
     ]
    },
    {
     "name": "stdout",
     "output_type": "stream",
     "text": [
      "\n",
      "image 1/1 c:\\Users\\sande\\OneDrive\\Desktop\\IITTP\\2_Asgn\\Sem2\\2_dl\\SemProject\\Automated_Yolo\\dataset\\UAVDT-processed\\val\\images\\img000280.jpg: 352x640 (no detections), 43.1ms\n",
      "Speed: 1.5ms preprocess, 43.1ms inference, 0.5ms postprocess per image at shape (1, 3, 352, 640)\n",
      "\n",
      "image 1/1 c:\\Users\\sande\\OneDrive\\Desktop\\IITTP\\2_Asgn\\Sem2\\2_dl\\SemProject\\Automated_Yolo\\dataset\\UAVDT-processed\\val\\images\\img000281.jpg: 352x640 (no detections), 40.6ms\n",
      "Speed: 1.5ms preprocess, 40.6ms inference, 0.4ms postprocess per image at shape (1, 3, 352, 640)\n"
     ]
    },
    {
     "name": "stderr",
     "output_type": "stream",
     "text": [
      " 26%|██▌       | 281/1101 [00:18<00:50, 16.15it/s]"
     ]
    },
    {
     "name": "stdout",
     "output_type": "stream",
     "text": [
      "\n",
      "image 1/1 c:\\Users\\sande\\OneDrive\\Desktop\\IITTP\\2_Asgn\\Sem2\\2_dl\\SemProject\\Automated_Yolo\\dataset\\UAVDT-processed\\val\\images\\img000282.jpg: 352x640 (no detections), 49.3ms\n",
      "Speed: 1.5ms preprocess, 49.3ms inference, 0.5ms postprocess per image at shape (1, 3, 352, 640)\n",
      "\n",
      "image 1/1 c:\\Users\\sande\\OneDrive\\Desktop\\IITTP\\2_Asgn\\Sem2\\2_dl\\SemProject\\Automated_Yolo\\dataset\\UAVDT-processed\\val\\images\\img000283.jpg: 352x640 (no detections), 47.1ms\n",
      "Speed: 1.8ms preprocess, 47.1ms inference, 0.5ms postprocess per image at shape (1, 3, 352, 640)\n"
     ]
    },
    {
     "name": "stderr",
     "output_type": "stream",
     "text": [
      " 26%|██▌       | 283/1101 [00:18<00:53, 15.20it/s]"
     ]
    },
    {
     "name": "stdout",
     "output_type": "stream",
     "text": [
      "\n",
      "image 1/1 c:\\Users\\sande\\OneDrive\\Desktop\\IITTP\\2_Asgn\\Sem2\\2_dl\\SemProject\\Automated_Yolo\\dataset\\UAVDT-processed\\val\\images\\img000284.jpg: 352x640 (no detections), 40.3ms\n",
      "Speed: 1.6ms preprocess, 40.3ms inference, 0.4ms postprocess per image at shape (1, 3, 352, 640)\n",
      "\n",
      "image 1/1 c:\\Users\\sande\\OneDrive\\Desktop\\IITTP\\2_Asgn\\Sem2\\2_dl\\SemProject\\Automated_Yolo\\dataset\\UAVDT-processed\\val\\images\\img000285.jpg: 352x640 (no detections), 40.5ms\n",
      "Speed: 1.7ms preprocess, 40.5ms inference, 0.5ms postprocess per image at shape (1, 3, 352, 640)\n"
     ]
    },
    {
     "name": "stderr",
     "output_type": "stream",
     "text": [
      " 26%|██▌       | 285/1101 [00:19<00:52, 15.55it/s]"
     ]
    },
    {
     "name": "stdout",
     "output_type": "stream",
     "text": [
      "\n",
      "image 1/1 c:\\Users\\sande\\OneDrive\\Desktop\\IITTP\\2_Asgn\\Sem2\\2_dl\\SemProject\\Automated_Yolo\\dataset\\UAVDT-processed\\val\\images\\img000286.jpg: 352x640 (no detections), 45.1ms\n",
      "Speed: 1.5ms preprocess, 45.1ms inference, 0.5ms postprocess per image at shape (1, 3, 352, 640)\n",
      "\n",
      "image 1/1 c:\\Users\\sande\\OneDrive\\Desktop\\IITTP\\2_Asgn\\Sem2\\2_dl\\SemProject\\Automated_Yolo\\dataset\\UAVDT-processed\\val\\images\\img000287.jpg: 352x640 (no detections), 40.3ms\n",
      "Speed: 1.7ms preprocess, 40.3ms inference, 0.5ms postprocess per image at shape (1, 3, 352, 640)\n"
     ]
    },
    {
     "name": "stderr",
     "output_type": "stream",
     "text": [
      " 26%|██▌       | 287/1101 [00:19<00:51, 15.72it/s]"
     ]
    },
    {
     "name": "stdout",
     "output_type": "stream",
     "text": [
      "\n",
      "image 1/1 c:\\Users\\sande\\OneDrive\\Desktop\\IITTP\\2_Asgn\\Sem2\\2_dl\\SemProject\\Automated_Yolo\\dataset\\UAVDT-processed\\val\\images\\img000288.jpg: 352x640 (no detections), 45.0ms\n",
      "Speed: 2.0ms preprocess, 45.0ms inference, 0.4ms postprocess per image at shape (1, 3, 352, 640)\n",
      "\n",
      "image 1/1 c:\\Users\\sande\\OneDrive\\Desktop\\IITTP\\2_Asgn\\Sem2\\2_dl\\SemProject\\Automated_Yolo\\dataset\\UAVDT-processed\\val\\images\\img000289.jpg: 352x640 (no detections), 41.0ms\n",
      "Speed: 2.1ms preprocess, 41.0ms inference, 0.5ms postprocess per image at shape (1, 3, 352, 640)\n"
     ]
    },
    {
     "name": "stderr",
     "output_type": "stream",
     "text": [
      " 26%|██▌       | 289/1101 [00:19<00:52, 15.54it/s]"
     ]
    },
    {
     "name": "stdout",
     "output_type": "stream",
     "text": [
      "\n",
      "image 1/1 c:\\Users\\sande\\OneDrive\\Desktop\\IITTP\\2_Asgn\\Sem2\\2_dl\\SemProject\\Automated_Yolo\\dataset\\UAVDT-processed\\val\\images\\img000290.jpg: 352x640 (no detections), 40.1ms\n",
      "Speed: 1.6ms preprocess, 40.1ms inference, 0.4ms postprocess per image at shape (1, 3, 352, 640)\n",
      "\n",
      "image 1/1 c:\\Users\\sande\\OneDrive\\Desktop\\IITTP\\2_Asgn\\Sem2\\2_dl\\SemProject\\Automated_Yolo\\dataset\\UAVDT-processed\\val\\images\\img000291.jpg: 352x640 (no detections), 39.8ms\n",
      "Speed: 1.5ms preprocess, 39.8ms inference, 0.4ms postprocess per image at shape (1, 3, 352, 640)\n"
     ]
    },
    {
     "name": "stderr",
     "output_type": "stream",
     "text": [
      " 26%|██▋       | 291/1101 [00:19<00:50, 15.95it/s]"
     ]
    },
    {
     "name": "stdout",
     "output_type": "stream",
     "text": [
      "\n",
      "image 1/1 c:\\Users\\sande\\OneDrive\\Desktop\\IITTP\\2_Asgn\\Sem2\\2_dl\\SemProject\\Automated_Yolo\\dataset\\UAVDT-processed\\val\\images\\img000292.jpg: 352x640 (no detections), 43.1ms\n",
      "Speed: 1.5ms preprocess, 43.1ms inference, 0.4ms postprocess per image at shape (1, 3, 352, 640)\n",
      "\n",
      "image 1/1 c:\\Users\\sande\\OneDrive\\Desktop\\IITTP\\2_Asgn\\Sem2\\2_dl\\SemProject\\Automated_Yolo\\dataset\\UAVDT-processed\\val\\images\\img000293.jpg: 352x640 (no detections), 42.3ms\n",
      "Speed: 2.3ms preprocess, 42.3ms inference, 0.4ms postprocess per image at shape (1, 3, 352, 640)\n"
     ]
    },
    {
     "name": "stderr",
     "output_type": "stream",
     "text": [
      " 27%|██▋       | 293/1101 [00:19<00:53, 15.12it/s]"
     ]
    },
    {
     "name": "stdout",
     "output_type": "stream",
     "text": [
      "\n",
      "image 1/1 c:\\Users\\sande\\OneDrive\\Desktop\\IITTP\\2_Asgn\\Sem2\\2_dl\\SemProject\\Automated_Yolo\\dataset\\UAVDT-processed\\val\\images\\img000294.jpg: 352x640 (no detections), 64.4ms\n",
      "Speed: 1.6ms preprocess, 64.4ms inference, 0.7ms postprocess per image at shape (1, 3, 352, 640)\n",
      "\n",
      "image 1/1 c:\\Users\\sande\\OneDrive\\Desktop\\IITTP\\2_Asgn\\Sem2\\2_dl\\SemProject\\Automated_Yolo\\dataset\\UAVDT-processed\\val\\images\\img000295.jpg: 352x640 (no detections), 45.1ms\n",
      "Speed: 2.5ms preprocess, 45.1ms inference, 0.5ms postprocess per image at shape (1, 3, 352, 640)\n"
     ]
    },
    {
     "name": "stderr",
     "output_type": "stream",
     "text": [
      " 27%|██▋       | 295/1101 [00:19<00:57, 14.09it/s]"
     ]
    },
    {
     "name": "stdout",
     "output_type": "stream",
     "text": [
      "\n",
      "image 1/1 c:\\Users\\sande\\OneDrive\\Desktop\\IITTP\\2_Asgn\\Sem2\\2_dl\\SemProject\\Automated_Yolo\\dataset\\UAVDT-processed\\val\\images\\img000296.jpg: 352x640 (no detections), 43.0ms\n",
      "Speed: 1.6ms preprocess, 43.0ms inference, 0.4ms postprocess per image at shape (1, 3, 352, 640)\n",
      "\n",
      "image 1/1 c:\\Users\\sande\\OneDrive\\Desktop\\IITTP\\2_Asgn\\Sem2\\2_dl\\SemProject\\Automated_Yolo\\dataset\\UAVDT-processed\\val\\images\\img000297.jpg: 352x640 (no detections), 38.5ms\n",
      "Speed: 1.4ms preprocess, 38.5ms inference, 0.5ms postprocess per image at shape (1, 3, 352, 640)\n"
     ]
    },
    {
     "name": "stderr",
     "output_type": "stream",
     "text": [
      " 27%|██▋       | 297/1101 [00:19<00:55, 14.41it/s]"
     ]
    },
    {
     "name": "stdout",
     "output_type": "stream",
     "text": [
      "\n",
      "image 1/1 c:\\Users\\sande\\OneDrive\\Desktop\\IITTP\\2_Asgn\\Sem2\\2_dl\\SemProject\\Automated_Yolo\\dataset\\UAVDT-processed\\val\\images\\img000298.jpg: 352x640 (no detections), 42.2ms\n",
      "Speed: 2.2ms preprocess, 42.2ms inference, 0.4ms postprocess per image at shape (1, 3, 352, 640)\n",
      "\n",
      "image 1/1 c:\\Users\\sande\\OneDrive\\Desktop\\IITTP\\2_Asgn\\Sem2\\2_dl\\SemProject\\Automated_Yolo\\dataset\\UAVDT-processed\\val\\images\\img000299.jpg: 352x640 (no detections), 40.4ms\n",
      "Speed: 2.3ms preprocess, 40.4ms inference, 0.4ms postprocess per image at shape (1, 3, 352, 640)\n"
     ]
    },
    {
     "name": "stderr",
     "output_type": "stream",
     "text": [
      " 27%|██▋       | 299/1101 [00:20<00:56, 14.29it/s]"
     ]
    },
    {
     "name": "stdout",
     "output_type": "stream",
     "text": [
      "\n",
      "image 1/1 c:\\Users\\sande\\OneDrive\\Desktop\\IITTP\\2_Asgn\\Sem2\\2_dl\\SemProject\\Automated_Yolo\\dataset\\UAVDT-processed\\val\\images\\img000300.jpg: 352x640 (no detections), 43.3ms\n",
      "Speed: 1.6ms preprocess, 43.3ms inference, 0.5ms postprocess per image at shape (1, 3, 352, 640)\n",
      "\n",
      "image 1/1 c:\\Users\\sande\\OneDrive\\Desktop\\IITTP\\2_Asgn\\Sem2\\2_dl\\SemProject\\Automated_Yolo\\dataset\\UAVDT-processed\\val\\images\\img000301.jpg: 352x640 (no detections), 43.9ms\n",
      "Speed: 1.4ms preprocess, 43.9ms inference, 0.6ms postprocess per image at shape (1, 3, 352, 640)\n"
     ]
    },
    {
     "name": "stderr",
     "output_type": "stream",
     "text": [
      " 27%|██▋       | 301/1101 [00:20<00:55, 14.30it/s]"
     ]
    },
    {
     "name": "stdout",
     "output_type": "stream",
     "text": [
      "\n",
      "image 1/1 c:\\Users\\sande\\OneDrive\\Desktop\\IITTP\\2_Asgn\\Sem2\\2_dl\\SemProject\\Automated_Yolo\\dataset\\UAVDT-processed\\val\\images\\img000302.jpg: 352x640 (no detections), 43.0ms\n",
      "Speed: 2.3ms preprocess, 43.0ms inference, 0.5ms postprocess per image at shape (1, 3, 352, 640)\n",
      "\n",
      "image 1/1 c:\\Users\\sande\\OneDrive\\Desktop\\IITTP\\2_Asgn\\Sem2\\2_dl\\SemProject\\Automated_Yolo\\dataset\\UAVDT-processed\\val\\images\\img000303.jpg: 352x640 (no detections), 42.2ms\n",
      "Speed: 2.2ms preprocess, 42.2ms inference, 0.4ms postprocess per image at shape (1, 3, 352, 640)\n"
     ]
    },
    {
     "name": "stderr",
     "output_type": "stream",
     "text": [
      " 28%|██▊       | 303/1101 [00:20<00:56, 14.25it/s]"
     ]
    },
    {
     "name": "stdout",
     "output_type": "stream",
     "text": [
      "\n",
      "image 1/1 c:\\Users\\sande\\OneDrive\\Desktop\\IITTP\\2_Asgn\\Sem2\\2_dl\\SemProject\\Automated_Yolo\\dataset\\UAVDT-processed\\val\\images\\img000304.jpg: 352x640 (no detections), 42.5ms\n",
      "Speed: 2.5ms preprocess, 42.5ms inference, 0.4ms postprocess per image at shape (1, 3, 352, 640)\n",
      "\n",
      "image 1/1 c:\\Users\\sande\\OneDrive\\Desktop\\IITTP\\2_Asgn\\Sem2\\2_dl\\SemProject\\Automated_Yolo\\dataset\\UAVDT-processed\\val\\images\\img000305.jpg: 352x640 (no detections), 41.0ms\n",
      "Speed: 2.2ms preprocess, 41.0ms inference, 0.5ms postprocess per image at shape (1, 3, 352, 640)\n"
     ]
    },
    {
     "name": "stderr",
     "output_type": "stream",
     "text": [
      " 28%|██▊       | 305/1101 [00:20<00:57, 13.93it/s]"
     ]
    },
    {
     "name": "stdout",
     "output_type": "stream",
     "text": [
      "\n",
      "image 1/1 c:\\Users\\sande\\OneDrive\\Desktop\\IITTP\\2_Asgn\\Sem2\\2_dl\\SemProject\\Automated_Yolo\\dataset\\UAVDT-processed\\val\\images\\img000306.jpg: 352x640 (no detections), 60.0ms\n",
      "Speed: 1.9ms preprocess, 60.0ms inference, 0.7ms postprocess per image at shape (1, 3, 352, 640)\n",
      "\n",
      "image 1/1 c:\\Users\\sande\\OneDrive\\Desktop\\IITTP\\2_Asgn\\Sem2\\2_dl\\SemProject\\Automated_Yolo\\dataset\\UAVDT-processed\\val\\images\\img000307.jpg: 352x640 (no detections), 41.5ms\n",
      "Speed: 1.8ms preprocess, 41.5ms inference, 0.5ms postprocess per image at shape (1, 3, 352, 640)\n"
     ]
    },
    {
     "name": "stderr",
     "output_type": "stream",
     "text": [
      " 28%|██▊       | 307/1101 [00:20<01:00, 13.03it/s]"
     ]
    },
    {
     "name": "stdout",
     "output_type": "stream",
     "text": [
      "\n",
      "image 1/1 c:\\Users\\sande\\OneDrive\\Desktop\\IITTP\\2_Asgn\\Sem2\\2_dl\\SemProject\\Automated_Yolo\\dataset\\UAVDT-processed\\val\\images\\img000308.jpg: 352x640 (no detections), 43.4ms\n",
      "Speed: 2.2ms preprocess, 43.4ms inference, 0.4ms postprocess per image at shape (1, 3, 352, 640)\n",
      "\n",
      "image 1/1 c:\\Users\\sande\\OneDrive\\Desktop\\IITTP\\2_Asgn\\Sem2\\2_dl\\SemProject\\Automated_Yolo\\dataset\\UAVDT-processed\\val\\images\\img000309.jpg: 352x640 (no detections), 42.2ms\n",
      "Speed: 1.5ms preprocess, 42.2ms inference, 0.5ms postprocess per image at shape (1, 3, 352, 640)\n"
     ]
    },
    {
     "name": "stderr",
     "output_type": "stream",
     "text": [
      " 28%|██▊       | 309/1101 [00:20<00:59, 13.21it/s]"
     ]
    },
    {
     "name": "stdout",
     "output_type": "stream",
     "text": [
      "\n",
      "image 1/1 c:\\Users\\sande\\OneDrive\\Desktop\\IITTP\\2_Asgn\\Sem2\\2_dl\\SemProject\\Automated_Yolo\\dataset\\UAVDT-processed\\val\\images\\img000310.jpg: 352x640 (no detections), 45.2ms\n",
      "Speed: 1.7ms preprocess, 45.2ms inference, 0.5ms postprocess per image at shape (1, 3, 352, 640)\n",
      "\n",
      "image 1/1 c:\\Users\\sande\\OneDrive\\Desktop\\IITTP\\2_Asgn\\Sem2\\2_dl\\SemProject\\Automated_Yolo\\dataset\\UAVDT-processed\\val\\images\\img000311.jpg: 352x640 (no detections), 39.8ms\n",
      "Speed: 1.6ms preprocess, 39.8ms inference, 0.4ms postprocess per image at shape (1, 3, 352, 640)\n"
     ]
    },
    {
     "name": "stderr",
     "output_type": "stream",
     "text": [
      " 28%|██▊       | 311/1101 [00:20<00:58, 13.48it/s]"
     ]
    },
    {
     "name": "stdout",
     "output_type": "stream",
     "text": [
      "\n",
      "image 1/1 c:\\Users\\sande\\OneDrive\\Desktop\\IITTP\\2_Asgn\\Sem2\\2_dl\\SemProject\\Automated_Yolo\\dataset\\UAVDT-processed\\val\\images\\img000312.jpg: 352x640 (no detections), 45.6ms\n",
      "Speed: 1.6ms preprocess, 45.6ms inference, 0.4ms postprocess per image at shape (1, 3, 352, 640)\n",
      "\n",
      "image 1/1 c:\\Users\\sande\\OneDrive\\Desktop\\IITTP\\2_Asgn\\Sem2\\2_dl\\SemProject\\Automated_Yolo\\dataset\\UAVDT-processed\\val\\images\\img000313.jpg: 352x640 (no detections), 42.3ms\n",
      "Speed: 1.5ms preprocess, 42.3ms inference, 0.4ms postprocess per image at shape (1, 3, 352, 640)\n"
     ]
    },
    {
     "name": "stderr",
     "output_type": "stream",
     "text": [
      " 28%|██▊       | 313/1101 [00:21<00:59, 13.31it/s]"
     ]
    },
    {
     "name": "stdout",
     "output_type": "stream",
     "text": [
      "\n",
      "image 1/1 c:\\Users\\sande\\OneDrive\\Desktop\\IITTP\\2_Asgn\\Sem2\\2_dl\\SemProject\\Automated_Yolo\\dataset\\UAVDT-processed\\val\\images\\img000314.jpg: 352x640 (no detections), 42.0ms\n",
      "Speed: 1.4ms preprocess, 42.0ms inference, 0.4ms postprocess per image at shape (1, 3, 352, 640)\n",
      "\n",
      "image 1/1 c:\\Users\\sande\\OneDrive\\Desktop\\IITTP\\2_Asgn\\Sem2\\2_dl\\SemProject\\Automated_Yolo\\dataset\\UAVDT-processed\\val\\images\\img000315.jpg: 352x640 (no detections), 42.5ms\n",
      "Speed: 1.5ms preprocess, 42.5ms inference, 0.6ms postprocess per image at shape (1, 3, 352, 640)\n"
     ]
    },
    {
     "name": "stderr",
     "output_type": "stream",
     "text": [
      " 29%|██▊       | 315/1101 [00:21<00:58, 13.47it/s]"
     ]
    },
    {
     "name": "stdout",
     "output_type": "stream",
     "text": [
      "\n",
      "image 1/1 c:\\Users\\sande\\OneDrive\\Desktop\\IITTP\\2_Asgn\\Sem2\\2_dl\\SemProject\\Automated_Yolo\\dataset\\UAVDT-processed\\val\\images\\img000316.jpg: 352x640 (no detections), 55.0ms\n",
      "Speed: 2.4ms preprocess, 55.0ms inference, 0.6ms postprocess per image at shape (1, 3, 352, 640)\n",
      "\n",
      "image 1/1 c:\\Users\\sande\\OneDrive\\Desktop\\IITTP\\2_Asgn\\Sem2\\2_dl\\SemProject\\Automated_Yolo\\dataset\\UAVDT-processed\\val\\images\\img000317.jpg: 352x640 (no detections), 41.3ms\n",
      "Speed: 2.4ms preprocess, 41.3ms inference, 0.4ms postprocess per image at shape (1, 3, 352, 640)\n"
     ]
    },
    {
     "name": "stderr",
     "output_type": "stream",
     "text": [
      " 29%|██▉       | 317/1101 [00:21<00:59, 13.11it/s]"
     ]
    },
    {
     "name": "stdout",
     "output_type": "stream",
     "text": [
      "\n",
      "image 1/1 c:\\Users\\sande\\OneDrive\\Desktop\\IITTP\\2_Asgn\\Sem2\\2_dl\\SemProject\\Automated_Yolo\\dataset\\UAVDT-processed\\val\\images\\img000318.jpg: 352x640 (no detections), 41.4ms\n",
      "Speed: 2.3ms preprocess, 41.4ms inference, 0.4ms postprocess per image at shape (1, 3, 352, 640)\n",
      "\n",
      "image 1/1 c:\\Users\\sande\\OneDrive\\Desktop\\IITTP\\2_Asgn\\Sem2\\2_dl\\SemProject\\Automated_Yolo\\dataset\\UAVDT-processed\\val\\images\\img000319.jpg: 352x640 (no detections), 39.8ms\n",
      "Speed: 2.2ms preprocess, 39.8ms inference, 0.4ms postprocess per image at shape (1, 3, 352, 640)\n"
     ]
    },
    {
     "name": "stderr",
     "output_type": "stream",
     "text": [
      " 29%|██▉       | 319/1101 [00:21<00:58, 13.30it/s]"
     ]
    },
    {
     "name": "stdout",
     "output_type": "stream",
     "text": [
      "\n",
      "image 1/1 c:\\Users\\sande\\OneDrive\\Desktop\\IITTP\\2_Asgn\\Sem2\\2_dl\\SemProject\\Automated_Yolo\\dataset\\UAVDT-processed\\val\\images\\img000320.jpg: 352x640 (no detections), 41.4ms\n",
      "Speed: 2.3ms preprocess, 41.4ms inference, 0.4ms postprocess per image at shape (1, 3, 352, 640)\n",
      "\n",
      "image 1/1 c:\\Users\\sande\\OneDrive\\Desktop\\IITTP\\2_Asgn\\Sem2\\2_dl\\SemProject\\Automated_Yolo\\dataset\\UAVDT-processed\\val\\images\\img000321.jpg: 352x640 (no detections), 40.2ms\n",
      "Speed: 1.8ms preprocess, 40.2ms inference, 0.5ms postprocess per image at shape (1, 3, 352, 640)\n"
     ]
    },
    {
     "name": "stderr",
     "output_type": "stream",
     "text": [
      " 29%|██▉       | 321/1101 [00:21<00:56, 13.79it/s]"
     ]
    },
    {
     "name": "stdout",
     "output_type": "stream",
     "text": [
      "\n",
      "image 1/1 c:\\Users\\sande\\OneDrive\\Desktop\\IITTP\\2_Asgn\\Sem2\\2_dl\\SemProject\\Automated_Yolo\\dataset\\UAVDT-processed\\val\\images\\img000322.jpg: 352x640 (no detections), 35.4ms\n",
      "Speed: 2.1ms preprocess, 35.4ms inference, 0.4ms postprocess per image at shape (1, 3, 352, 640)\n",
      "\n",
      "image 1/1 c:\\Users\\sande\\OneDrive\\Desktop\\IITTP\\2_Asgn\\Sem2\\2_dl\\SemProject\\Automated_Yolo\\dataset\\UAVDT-processed\\val\\images\\img000323.jpg: 352x640 (no detections), 41.1ms\n",
      "Speed: 2.1ms preprocess, 41.1ms inference, 0.7ms postprocess per image at shape (1, 3, 352, 640)\n"
     ]
    },
    {
     "name": "stderr",
     "output_type": "stream",
     "text": [
      " 29%|██▉       | 323/1101 [00:21<00:55, 13.98it/s]"
     ]
    },
    {
     "name": "stdout",
     "output_type": "stream",
     "text": [
      "\n",
      "image 1/1 c:\\Users\\sande\\OneDrive\\Desktop\\IITTP\\2_Asgn\\Sem2\\2_dl\\SemProject\\Automated_Yolo\\dataset\\UAVDT-processed\\val\\images\\img000324.jpg: 352x640 (no detections), 45.9ms\n",
      "Speed: 1.8ms preprocess, 45.9ms inference, 0.5ms postprocess per image at shape (1, 3, 352, 640)\n",
      "\n",
      "image 1/1 c:\\Users\\sande\\OneDrive\\Desktop\\IITTP\\2_Asgn\\Sem2\\2_dl\\SemProject\\Automated_Yolo\\dataset\\UAVDT-processed\\val\\images\\img000325.jpg: 352x640 (no detections), 42.3ms\n",
      "Speed: 1.6ms preprocess, 42.3ms inference, 0.4ms postprocess per image at shape (1, 3, 352, 640)\n"
     ]
    },
    {
     "name": "stderr",
     "output_type": "stream",
     "text": [
      " 30%|██▉       | 325/1101 [00:21<00:56, 13.74it/s]"
     ]
    },
    {
     "name": "stdout",
     "output_type": "stream",
     "text": [
      "\n",
      "image 1/1 c:\\Users\\sande\\OneDrive\\Desktop\\IITTP\\2_Asgn\\Sem2\\2_dl\\SemProject\\Automated_Yolo\\dataset\\UAVDT-processed\\val\\images\\img000326.jpg: 352x640 (no detections), 89.8ms\n",
      "Speed: 2.7ms preprocess, 89.8ms inference, 0.6ms postprocess per image at shape (1, 3, 352, 640)\n",
      "\n",
      "image 1/1 c:\\Users\\sande\\OneDrive\\Desktop\\IITTP\\2_Asgn\\Sem2\\2_dl\\SemProject\\Automated_Yolo\\dataset\\UAVDT-processed\\val\\images\\img000327.jpg: 352x640 (no detections), 47.8ms\n",
      "Speed: 1.6ms preprocess, 47.8ms inference, 0.5ms postprocess per image at shape (1, 3, 352, 640)\n"
     ]
    },
    {
     "name": "stderr",
     "output_type": "stream",
     "text": [
      " 30%|██▉       | 327/1101 [00:22<01:02, 12.44it/s]"
     ]
    },
    {
     "name": "stdout",
     "output_type": "stream",
     "text": [
      "\n",
      "image 1/1 c:\\Users\\sande\\OneDrive\\Desktop\\IITTP\\2_Asgn\\Sem2\\2_dl\\SemProject\\Automated_Yolo\\dataset\\UAVDT-processed\\val\\images\\img000328.jpg: 352x640 (no detections), 46.4ms\n",
      "Speed: 2.5ms preprocess, 46.4ms inference, 0.4ms postprocess per image at shape (1, 3, 352, 640)\n",
      "\n",
      "image 1/1 c:\\Users\\sande\\OneDrive\\Desktop\\IITTP\\2_Asgn\\Sem2\\2_dl\\SemProject\\Automated_Yolo\\dataset\\UAVDT-processed\\val\\images\\img000329.jpg: 352x640 (no detections), 42.3ms\n",
      "Speed: 2.3ms preprocess, 42.3ms inference, 0.5ms postprocess per image at shape (1, 3, 352, 640)\n"
     ]
    },
    {
     "name": "stderr",
     "output_type": "stream",
     "text": [
      " 30%|██▉       | 329/1101 [00:22<01:01, 12.61it/s]"
     ]
    },
    {
     "name": "stdout",
     "output_type": "stream",
     "text": [
      "\n",
      "image 1/1 c:\\Users\\sande\\OneDrive\\Desktop\\IITTP\\2_Asgn\\Sem2\\2_dl\\SemProject\\Automated_Yolo\\dataset\\UAVDT-processed\\val\\images\\img000330.jpg: 352x640 (no detections), 43.1ms\n",
      "Speed: 2.3ms preprocess, 43.1ms inference, 0.5ms postprocess per image at shape (1, 3, 352, 640)\n",
      "\n",
      "image 1/1 c:\\Users\\sande\\OneDrive\\Desktop\\IITTP\\2_Asgn\\Sem2\\2_dl\\SemProject\\Automated_Yolo\\dataset\\UAVDT-processed\\val\\images\\img000331.jpg: 352x640 (no detections), 40.2ms\n",
      "Speed: 1.5ms preprocess, 40.2ms inference, 0.5ms postprocess per image at shape (1, 3, 352, 640)\n"
     ]
    },
    {
     "name": "stderr",
     "output_type": "stream",
     "text": [
      " 30%|███       | 331/1101 [00:22<00:59, 12.99it/s]"
     ]
    },
    {
     "name": "stdout",
     "output_type": "stream",
     "text": [
      "\n",
      "image 1/1 c:\\Users\\sande\\OneDrive\\Desktop\\IITTP\\2_Asgn\\Sem2\\2_dl\\SemProject\\Automated_Yolo\\dataset\\UAVDT-processed\\val\\images\\img000332.jpg: 352x640 (no detections), 46.2ms\n",
      "Speed: 2.3ms preprocess, 46.2ms inference, 0.4ms postprocess per image at shape (1, 3, 352, 640)\n",
      "\n",
      "image 1/1 c:\\Users\\sande\\OneDrive\\Desktop\\IITTP\\2_Asgn\\Sem2\\2_dl\\SemProject\\Automated_Yolo\\dataset\\UAVDT-processed\\val\\images\\img000333.jpg: 352x640 (no detections), 40.6ms\n",
      "Speed: 2.0ms preprocess, 40.6ms inference, 0.5ms postprocess per image at shape (1, 3, 352, 640)\n"
     ]
    },
    {
     "name": "stderr",
     "output_type": "stream",
     "text": [
      " 30%|███       | 333/1101 [00:22<00:58, 13.13it/s]"
     ]
    },
    {
     "name": "stdout",
     "output_type": "stream",
     "text": [
      "\n",
      "image 1/1 c:\\Users\\sande\\OneDrive\\Desktop\\IITTP\\2_Asgn\\Sem2\\2_dl\\SemProject\\Automated_Yolo\\dataset\\UAVDT-processed\\val\\images\\img000334.jpg: 352x640 (no detections), 46.0ms\n",
      "Speed: 2.4ms preprocess, 46.0ms inference, 0.4ms postprocess per image at shape (1, 3, 352, 640)\n",
      "\n",
      "image 1/1 c:\\Users\\sande\\OneDrive\\Desktop\\IITTP\\2_Asgn\\Sem2\\2_dl\\SemProject\\Automated_Yolo\\dataset\\UAVDT-processed\\val\\images\\img000335.jpg: 352x640 (no detections), 42.2ms\n",
      "Speed: 1.8ms preprocess, 42.2ms inference, 0.4ms postprocess per image at shape (1, 3, 352, 640)\n"
     ]
    },
    {
     "name": "stderr",
     "output_type": "stream",
     "text": [
      " 30%|███       | 335/1101 [00:22<00:56, 13.53it/s]"
     ]
    },
    {
     "name": "stdout",
     "output_type": "stream",
     "text": [
      "\n",
      "image 1/1 c:\\Users\\sande\\OneDrive\\Desktop\\IITTP\\2_Asgn\\Sem2\\2_dl\\SemProject\\Automated_Yolo\\dataset\\UAVDT-processed\\val\\images\\img000336.jpg: 352x640 (no detections), 69.7ms\n",
      "Speed: 2.7ms preprocess, 69.7ms inference, 0.5ms postprocess per image at shape (1, 3, 352, 640)\n",
      "\n",
      "image 1/1 c:\\Users\\sande\\OneDrive\\Desktop\\IITTP\\2_Asgn\\Sem2\\2_dl\\SemProject\\Automated_Yolo\\dataset\\UAVDT-processed\\val\\images\\img000337.jpg: 352x640 (no detections), 42.8ms\n",
      "Speed: 1.6ms preprocess, 42.8ms inference, 0.5ms postprocess per image at shape (1, 3, 352, 640)\n"
     ]
    },
    {
     "name": "stderr",
     "output_type": "stream",
     "text": [
      " 31%|███       | 337/1101 [00:22<01:00, 12.65it/s]"
     ]
    },
    {
     "name": "stdout",
     "output_type": "stream",
     "text": [
      "\n",
      "image 1/1 c:\\Users\\sande\\OneDrive\\Desktop\\IITTP\\2_Asgn\\Sem2\\2_dl\\SemProject\\Automated_Yolo\\dataset\\UAVDT-processed\\val\\images\\img000338.jpg: 352x640 (no detections), 42.8ms\n",
      "Speed: 2.4ms preprocess, 42.8ms inference, 0.4ms postprocess per image at shape (1, 3, 352, 640)\n",
      "\n",
      "image 1/1 c:\\Users\\sande\\OneDrive\\Desktop\\IITTP\\2_Asgn\\Sem2\\2_dl\\SemProject\\Automated_Yolo\\dataset\\UAVDT-processed\\val\\images\\img000339.jpg: 352x640 (no detections), 38.8ms\n",
      "Speed: 2.1ms preprocess, 38.8ms inference, 0.4ms postprocess per image at shape (1, 3, 352, 640)\n"
     ]
    },
    {
     "name": "stderr",
     "output_type": "stream",
     "text": [
      " 31%|███       | 339/1101 [00:23<00:58, 12.99it/s]"
     ]
    },
    {
     "name": "stdout",
     "output_type": "stream",
     "text": [
      "\n",
      "image 1/1 c:\\Users\\sande\\OneDrive\\Desktop\\IITTP\\2_Asgn\\Sem2\\2_dl\\SemProject\\Automated_Yolo\\dataset\\UAVDT-processed\\val\\images\\img000340.jpg: 352x640 (no detections), 41.3ms\n",
      "Speed: 2.2ms preprocess, 41.3ms inference, 0.4ms postprocess per image at shape (1, 3, 352, 640)\n",
      "\n",
      "image 1/1 c:\\Users\\sande\\OneDrive\\Desktop\\IITTP\\2_Asgn\\Sem2\\2_dl\\SemProject\\Automated_Yolo\\dataset\\UAVDT-processed\\val\\images\\img000341.jpg: 352x640 (no detections), 40.9ms\n",
      "Speed: 2.2ms preprocess, 40.9ms inference, 0.4ms postprocess per image at shape (1, 3, 352, 640)\n"
     ]
    },
    {
     "name": "stderr",
     "output_type": "stream",
     "text": [
      " 31%|███       | 341/1101 [00:23<00:57, 13.17it/s]"
     ]
    },
    {
     "name": "stdout",
     "output_type": "stream",
     "text": [
      "\n",
      "image 1/1 c:\\Users\\sande\\OneDrive\\Desktop\\IITTP\\2_Asgn\\Sem2\\2_dl\\SemProject\\Automated_Yolo\\dataset\\UAVDT-processed\\val\\images\\img000342.jpg: 352x640 (no detections), 45.9ms\n",
      "Speed: 1.6ms preprocess, 45.9ms inference, 0.6ms postprocess per image at shape (1, 3, 352, 640)\n",
      "\n",
      "image 1/1 c:\\Users\\sande\\OneDrive\\Desktop\\IITTP\\2_Asgn\\Sem2\\2_dl\\SemProject\\Automated_Yolo\\dataset\\UAVDT-processed\\val\\images\\img000343.jpg: 352x640 (no detections), 42.7ms\n",
      "Speed: 2.5ms preprocess, 42.7ms inference, 0.4ms postprocess per image at shape (1, 3, 352, 640)\n"
     ]
    },
    {
     "name": "stderr",
     "output_type": "stream",
     "text": [
      " 31%|███       | 343/1101 [00:23<00:57, 13.17it/s]"
     ]
    },
    {
     "name": "stdout",
     "output_type": "stream",
     "text": [
      "\n",
      "image 1/1 c:\\Users\\sande\\OneDrive\\Desktop\\IITTP\\2_Asgn\\Sem2\\2_dl\\SemProject\\Automated_Yolo\\dataset\\UAVDT-processed\\val\\images\\img000344.jpg: 352x640 (no detections), 46.3ms\n",
      "Speed: 2.3ms preprocess, 46.3ms inference, 0.6ms postprocess per image at shape (1, 3, 352, 640)\n",
      "\n",
      "image 1/1 c:\\Users\\sande\\OneDrive\\Desktop\\IITTP\\2_Asgn\\Sem2\\2_dl\\SemProject\\Automated_Yolo\\dataset\\UAVDT-processed\\val\\images\\img000345.jpg: 352x640 (no detections), 41.7ms\n",
      "Speed: 1.5ms preprocess, 41.7ms inference, 0.4ms postprocess per image at shape (1, 3, 352, 640)\n"
     ]
    },
    {
     "name": "stderr",
     "output_type": "stream",
     "text": [
      " 31%|███▏      | 345/1101 [00:23<00:55, 13.68it/s]"
     ]
    },
    {
     "name": "stdout",
     "output_type": "stream",
     "text": [
      "\n",
      "image 1/1 c:\\Users\\sande\\OneDrive\\Desktop\\IITTP\\2_Asgn\\Sem2\\2_dl\\SemProject\\Automated_Yolo\\dataset\\UAVDT-processed\\val\\images\\img000346.jpg: 352x640 (no detections), 45.4ms\n",
      "Speed: 2.2ms preprocess, 45.4ms inference, 0.5ms postprocess per image at shape (1, 3, 352, 640)\n",
      "\n",
      "image 1/1 c:\\Users\\sande\\OneDrive\\Desktop\\IITTP\\2_Asgn\\Sem2\\2_dl\\SemProject\\Automated_Yolo\\dataset\\UAVDT-processed\\val\\images\\img000347.jpg: 352x640 (no detections), 41.6ms\n",
      "Speed: 1.6ms preprocess, 41.6ms inference, 0.4ms postprocess per image at shape (1, 3, 352, 640)\n"
     ]
    },
    {
     "name": "stderr",
     "output_type": "stream",
     "text": [
      " 32%|███▏      | 347/1101 [00:23<00:54, 13.78it/s]"
     ]
    },
    {
     "name": "stdout",
     "output_type": "stream",
     "text": [
      "\n",
      "image 1/1 c:\\Users\\sande\\OneDrive\\Desktop\\IITTP\\2_Asgn\\Sem2\\2_dl\\SemProject\\Automated_Yolo\\dataset\\UAVDT-processed\\val\\images\\img000348.jpg: 352x640 (no detections), 61.1ms\n",
      "Speed: 7.4ms preprocess, 61.1ms inference, 0.5ms postprocess per image at shape (1, 3, 352, 640)\n",
      "\n",
      "image 1/1 c:\\Users\\sande\\OneDrive\\Desktop\\IITTP\\2_Asgn\\Sem2\\2_dl\\SemProject\\Automated_Yolo\\dataset\\UAVDT-processed\\val\\images\\img000349.jpg: 352x640 (no detections), 41.4ms\n",
      "Speed: 1.5ms preprocess, 41.4ms inference, 0.6ms postprocess per image at shape (1, 3, 352, 640)\n"
     ]
    },
    {
     "name": "stderr",
     "output_type": "stream",
     "text": [
      " 32%|███▏      | 349/1101 [00:23<00:57, 13.13it/s]"
     ]
    },
    {
     "name": "stdout",
     "output_type": "stream",
     "text": [
      "\n",
      "image 1/1 c:\\Users\\sande\\OneDrive\\Desktop\\IITTP\\2_Asgn\\Sem2\\2_dl\\SemProject\\Automated_Yolo\\dataset\\UAVDT-processed\\val\\images\\img000350.jpg: 352x640 (no detections), 41.3ms\n",
      "Speed: 2.4ms preprocess, 41.3ms inference, 0.4ms postprocess per image at shape (1, 3, 352, 640)\n",
      "\n",
      "image 1/1 c:\\Users\\sande\\OneDrive\\Desktop\\IITTP\\2_Asgn\\Sem2\\2_dl\\SemProject\\Automated_Yolo\\dataset\\UAVDT-processed\\val\\images\\img000351.jpg: 352x640 (no detections), 39.5ms\n",
      "Speed: 1.6ms preprocess, 39.5ms inference, 0.6ms postprocess per image at shape (1, 3, 352, 640)\n"
     ]
    },
    {
     "name": "stderr",
     "output_type": "stream",
     "text": [
      " 32%|███▏      | 351/1101 [00:23<00:56, 13.24it/s]"
     ]
    },
    {
     "name": "stdout",
     "output_type": "stream",
     "text": [
      "\n",
      "image 1/1 c:\\Users\\sande\\OneDrive\\Desktop\\IITTP\\2_Asgn\\Sem2\\2_dl\\SemProject\\Automated_Yolo\\dataset\\UAVDT-processed\\val\\images\\img000352.jpg: 352x640 (no detections), 41.6ms\n",
      "Speed: 2.3ms preprocess, 41.6ms inference, 0.4ms postprocess per image at shape (1, 3, 352, 640)\n",
      "\n",
      "image 1/1 c:\\Users\\sande\\OneDrive\\Desktop\\IITTP\\2_Asgn\\Sem2\\2_dl\\SemProject\\Automated_Yolo\\dataset\\UAVDT-processed\\val\\images\\img000353.jpg: 352x640 (no detections), 44.0ms\n",
      "Speed: 2.2ms preprocess, 44.0ms inference, 0.5ms postprocess per image at shape (1, 3, 352, 640)\n"
     ]
    },
    {
     "name": "stderr",
     "output_type": "stream",
     "text": [
      " 32%|███▏      | 353/1101 [00:24<00:56, 13.13it/s]"
     ]
    },
    {
     "name": "stdout",
     "output_type": "stream",
     "text": [
      "\n",
      "image 1/1 c:\\Users\\sande\\OneDrive\\Desktop\\IITTP\\2_Asgn\\Sem2\\2_dl\\SemProject\\Automated_Yolo\\dataset\\UAVDT-processed\\val\\images\\img000354.jpg: 352x640 (no detections), 46.5ms\n",
      "Speed: 1.5ms preprocess, 46.5ms inference, 0.4ms postprocess per image at shape (1, 3, 352, 640)\n",
      "\n",
      "image 1/1 c:\\Users\\sande\\OneDrive\\Desktop\\IITTP\\2_Asgn\\Sem2\\2_dl\\SemProject\\Automated_Yolo\\dataset\\UAVDT-processed\\val\\images\\img000355.jpg: 352x640 (no detections), 41.3ms\n",
      "Speed: 2.3ms preprocess, 41.3ms inference, 0.7ms postprocess per image at shape (1, 3, 352, 640)\n"
     ]
    },
    {
     "name": "stderr",
     "output_type": "stream",
     "text": [
      " 32%|███▏      | 355/1101 [00:24<00:54, 13.61it/s]"
     ]
    },
    {
     "name": "stdout",
     "output_type": "stream",
     "text": [
      "\n",
      "image 1/1 c:\\Users\\sande\\OneDrive\\Desktop\\IITTP\\2_Asgn\\Sem2\\2_dl\\SemProject\\Automated_Yolo\\dataset\\UAVDT-processed\\val\\images\\img000356.jpg: 352x640 (no detections), 46.9ms\n",
      "Speed: 1.6ms preprocess, 46.9ms inference, 0.5ms postprocess per image at shape (1, 3, 352, 640)\n",
      "\n",
      "image 1/1 c:\\Users\\sande\\OneDrive\\Desktop\\IITTP\\2_Asgn\\Sem2\\2_dl\\SemProject\\Automated_Yolo\\dataset\\UAVDT-processed\\val\\images\\img000357.jpg: 352x640 (no detections), 42.0ms\n",
      "Speed: 1.6ms preprocess, 42.0ms inference, 0.4ms postprocess per image at shape (1, 3, 352, 640)\n"
     ]
    },
    {
     "name": "stderr",
     "output_type": "stream",
     "text": [
      " 32%|███▏      | 357/1101 [00:24<00:54, 13.64it/s]"
     ]
    },
    {
     "name": "stdout",
     "output_type": "stream",
     "text": [
      "\n",
      "image 1/1 c:\\Users\\sande\\OneDrive\\Desktop\\IITTP\\2_Asgn\\Sem2\\2_dl\\SemProject\\Automated_Yolo\\dataset\\UAVDT-processed\\val\\images\\img000358.jpg: 352x640 (no detections), 62.8ms\n",
      "Speed: 1.9ms preprocess, 62.8ms inference, 0.7ms postprocess per image at shape (1, 3, 352, 640)\n",
      "\n",
      "image 1/1 c:\\Users\\sande\\OneDrive\\Desktop\\IITTP\\2_Asgn\\Sem2\\2_dl\\SemProject\\Automated_Yolo\\dataset\\UAVDT-processed\\val\\images\\img000359.jpg: 352x640 (no detections), 42.0ms\n",
      "Speed: 1.7ms preprocess, 42.0ms inference, 0.4ms postprocess per image at shape (1, 3, 352, 640)\n"
     ]
    },
    {
     "name": "stderr",
     "output_type": "stream",
     "text": [
      " 33%|███▎      | 359/1101 [00:24<00:56, 13.08it/s]"
     ]
    },
    {
     "name": "stdout",
     "output_type": "stream",
     "text": [
      "\n",
      "image 1/1 c:\\Users\\sande\\OneDrive\\Desktop\\IITTP\\2_Asgn\\Sem2\\2_dl\\SemProject\\Automated_Yolo\\dataset\\UAVDT-processed\\val\\images\\img000360.jpg: 352x640 (no detections), 45.3ms\n",
      "Speed: 1.7ms preprocess, 45.3ms inference, 0.5ms postprocess per image at shape (1, 3, 352, 640)\n",
      "\n",
      "image 1/1 c:\\Users\\sande\\OneDrive\\Desktop\\IITTP\\2_Asgn\\Sem2\\2_dl\\SemProject\\Automated_Yolo\\dataset\\UAVDT-processed\\val\\images\\img000361.jpg: 352x640 (no detections), 44.7ms\n",
      "Speed: 2.3ms preprocess, 44.7ms inference, 0.4ms postprocess per image at shape (1, 3, 352, 640)\n"
     ]
    },
    {
     "name": "stderr",
     "output_type": "stream",
     "text": [
      " 33%|███▎      | 361/1101 [00:24<00:55, 13.24it/s]"
     ]
    },
    {
     "name": "stdout",
     "output_type": "stream",
     "text": [
      "\n",
      "image 1/1 c:\\Users\\sande\\OneDrive\\Desktop\\IITTP\\2_Asgn\\Sem2\\2_dl\\SemProject\\Automated_Yolo\\dataset\\UAVDT-processed\\val\\images\\img000362.jpg: 352x640 (no detections), 45.5ms\n",
      "Speed: 1.7ms preprocess, 45.5ms inference, 0.5ms postprocess per image at shape (1, 3, 352, 640)\n",
      "\n",
      "image 1/1 c:\\Users\\sande\\OneDrive\\Desktop\\IITTP\\2_Asgn\\Sem2\\2_dl\\SemProject\\Automated_Yolo\\dataset\\UAVDT-processed\\val\\images\\img000363.jpg: 352x640 (no detections), 40.5ms\n",
      "Speed: 1.9ms preprocess, 40.5ms inference, 0.4ms postprocess per image at shape (1, 3, 352, 640)\n"
     ]
    },
    {
     "name": "stderr",
     "output_type": "stream",
     "text": [
      " 33%|███▎      | 363/1101 [00:24<00:52, 14.02it/s]"
     ]
    },
    {
     "name": "stdout",
     "output_type": "stream",
     "text": [
      "\n",
      "image 1/1 c:\\Users\\sande\\OneDrive\\Desktop\\IITTP\\2_Asgn\\Sem2\\2_dl\\SemProject\\Automated_Yolo\\dataset\\UAVDT-processed\\val\\images\\img000364.jpg: 352x640 (no detections), 40.9ms\n",
      "Speed: 2.1ms preprocess, 40.9ms inference, 0.4ms postprocess per image at shape (1, 3, 352, 640)\n",
      "\n",
      "image 1/1 c:\\Users\\sande\\OneDrive\\Desktop\\IITTP\\2_Asgn\\Sem2\\2_dl\\SemProject\\Automated_Yolo\\dataset\\UAVDT-processed\\val\\images\\img000365.jpg: 352x640 (no detections), 38.0ms\n",
      "Speed: 1.5ms preprocess, 38.0ms inference, 0.4ms postprocess per image at shape (1, 3, 352, 640)\n"
     ]
    },
    {
     "name": "stderr",
     "output_type": "stream",
     "text": [
      " 33%|███▎      | 365/1101 [00:24<00:53, 13.70it/s]"
     ]
    },
    {
     "name": "stdout",
     "output_type": "stream",
     "text": [
      "\n",
      "image 1/1 c:\\Users\\sande\\OneDrive\\Desktop\\IITTP\\2_Asgn\\Sem2\\2_dl\\SemProject\\Automated_Yolo\\dataset\\UAVDT-processed\\val\\images\\img000366.jpg: 352x640 (no detections), 45.2ms\n",
      "Speed: 2.3ms preprocess, 45.2ms inference, 0.5ms postprocess per image at shape (1, 3, 352, 640)\n",
      "\n",
      "image 1/1 c:\\Users\\sande\\OneDrive\\Desktop\\IITTP\\2_Asgn\\Sem2\\2_dl\\SemProject\\Automated_Yolo\\dataset\\UAVDT-processed\\val\\images\\img000367.jpg: 352x640 (no detections), 46.6ms\n",
      "Speed: 1.5ms preprocess, 46.6ms inference, 0.5ms postprocess per image at shape (1, 3, 352, 640)\n"
     ]
    },
    {
     "name": "stderr",
     "output_type": "stream",
     "text": [
      " 33%|███▎      | 367/1101 [00:25<00:55, 13.32it/s]"
     ]
    },
    {
     "name": "stdout",
     "output_type": "stream",
     "text": [
      "\n",
      "image 1/1 c:\\Users\\sande\\OneDrive\\Desktop\\IITTP\\2_Asgn\\Sem2\\2_dl\\SemProject\\Automated_Yolo\\dataset\\UAVDT-processed\\val\\images\\img000368.jpg: 352x640 (no detections), 45.5ms\n",
      "Speed: 2.4ms preprocess, 45.5ms inference, 0.4ms postprocess per image at shape (1, 3, 352, 640)\n",
      "\n",
      "image 1/1 c:\\Users\\sande\\OneDrive\\Desktop\\IITTP\\2_Asgn\\Sem2\\2_dl\\SemProject\\Automated_Yolo\\dataset\\UAVDT-processed\\val\\images\\img000369.jpg: 352x640 (no detections), 42.0ms\n",
      "Speed: 2.2ms preprocess, 42.0ms inference, 0.5ms postprocess per image at shape (1, 3, 352, 640)\n"
     ]
    },
    {
     "name": "stderr",
     "output_type": "stream",
     "text": [
      " 34%|███▎      | 369/1101 [00:25<00:55, 13.29it/s]"
     ]
    },
    {
     "name": "stdout",
     "output_type": "stream",
     "text": [
      "\n",
      "image 1/1 c:\\Users\\sande\\OneDrive\\Desktop\\IITTP\\2_Asgn\\Sem2\\2_dl\\SemProject\\Automated_Yolo\\dataset\\UAVDT-processed\\val\\images\\img000370.jpg: 352x640 (no detections), 78.1ms\n",
      "Speed: 2.4ms preprocess, 78.1ms inference, 0.6ms postprocess per image at shape (1, 3, 352, 640)\n",
      "\n",
      "image 1/1 c:\\Users\\sande\\OneDrive\\Desktop\\IITTP\\2_Asgn\\Sem2\\2_dl\\SemProject\\Automated_Yolo\\dataset\\UAVDT-processed\\val\\images\\img000371.jpg: 352x640 (no detections), 37.9ms\n",
      "Speed: 1.6ms preprocess, 37.9ms inference, 0.5ms postprocess per image at shape (1, 3, 352, 640)\n"
     ]
    },
    {
     "name": "stderr",
     "output_type": "stream",
     "text": [
      " 34%|███▎      | 371/1101 [00:25<00:56, 12.85it/s]"
     ]
    },
    {
     "name": "stdout",
     "output_type": "stream",
     "text": [
      "\n",
      "image 1/1 c:\\Users\\sande\\OneDrive\\Desktop\\IITTP\\2_Asgn\\Sem2\\2_dl\\SemProject\\Automated_Yolo\\dataset\\UAVDT-processed\\val\\images\\img000372.jpg: 352x640 (no detections), 38.0ms\n",
      "Speed: 2.0ms preprocess, 38.0ms inference, 0.4ms postprocess per image at shape (1, 3, 352, 640)\n",
      "\n",
      "image 1/1 c:\\Users\\sande\\OneDrive\\Desktop\\IITTP\\2_Asgn\\Sem2\\2_dl\\SemProject\\Automated_Yolo\\dataset\\UAVDT-processed\\val\\images\\img000373.jpg: 352x640 (no detections), 39.9ms\n",
      "Speed: 1.7ms preprocess, 39.9ms inference, 0.4ms postprocess per image at shape (1, 3, 352, 640)\n"
     ]
    },
    {
     "name": "stderr",
     "output_type": "stream",
     "text": [
      " 34%|███▍      | 373/1101 [00:25<00:54, 13.29it/s]"
     ]
    },
    {
     "name": "stdout",
     "output_type": "stream",
     "text": [
      "\n",
      "image 1/1 c:\\Users\\sande\\OneDrive\\Desktop\\IITTP\\2_Asgn\\Sem2\\2_dl\\SemProject\\Automated_Yolo\\dataset\\UAVDT-processed\\val\\images\\img000374.jpg: 352x640 (no detections), 43.2ms\n",
      "Speed: 2.2ms preprocess, 43.2ms inference, 0.5ms postprocess per image at shape (1, 3, 352, 640)\n",
      "\n",
      "image 1/1 c:\\Users\\sande\\OneDrive\\Desktop\\IITTP\\2_Asgn\\Sem2\\2_dl\\SemProject\\Automated_Yolo\\dataset\\UAVDT-processed\\val\\images\\img000375.jpg: 352x640 (no detections), 38.2ms\n",
      "Speed: 1.4ms preprocess, 38.2ms inference, 0.4ms postprocess per image at shape (1, 3, 352, 640)\n"
     ]
    },
    {
     "name": "stderr",
     "output_type": "stream",
     "text": [
      " 34%|███▍      | 375/1101 [00:25<00:54, 13.33it/s]"
     ]
    },
    {
     "name": "stdout",
     "output_type": "stream",
     "text": [
      "\n",
      "image 1/1 c:\\Users\\sande\\OneDrive\\Desktop\\IITTP\\2_Asgn\\Sem2\\2_dl\\SemProject\\Automated_Yolo\\dataset\\UAVDT-processed\\val\\images\\img000376.jpg: 352x640 (no detections), 42.5ms\n",
      "Speed: 1.6ms preprocess, 42.5ms inference, 0.4ms postprocess per image at shape (1, 3, 352, 640)\n",
      "\n",
      "image 1/1 c:\\Users\\sande\\OneDrive\\Desktop\\IITTP\\2_Asgn\\Sem2\\2_dl\\SemProject\\Automated_Yolo\\dataset\\UAVDT-processed\\val\\images\\img000377.jpg: 352x640 (no detections), 42.8ms\n",
      "Speed: 2.3ms preprocess, 42.8ms inference, 0.4ms postprocess per image at shape (1, 3, 352, 640)\n"
     ]
    },
    {
     "name": "stderr",
     "output_type": "stream",
     "text": [
      " 34%|███▍      | 377/1101 [00:25<00:55, 13.12it/s]"
     ]
    },
    {
     "name": "stdout",
     "output_type": "stream",
     "text": [
      "\n",
      "image 1/1 c:\\Users\\sande\\OneDrive\\Desktop\\IITTP\\2_Asgn\\Sem2\\2_dl\\SemProject\\Automated_Yolo\\dataset\\UAVDT-processed\\val\\images\\img000378.jpg: 352x640 (no detections), 46.1ms\n",
      "Speed: 2.3ms preprocess, 46.1ms inference, 0.5ms postprocess per image at shape (1, 3, 352, 640)\n",
      "\n",
      "image 1/1 c:\\Users\\sande\\OneDrive\\Desktop\\IITTP\\2_Asgn\\Sem2\\2_dl\\SemProject\\Automated_Yolo\\dataset\\UAVDT-processed\\val\\images\\img000379.jpg: 352x640 (no detections), 39.6ms\n",
      "Speed: 1.6ms preprocess, 39.6ms inference, 0.4ms postprocess per image at shape (1, 3, 352, 640)\n"
     ]
    },
    {
     "name": "stderr",
     "output_type": "stream",
     "text": [
      " 34%|███▍      | 379/1101 [00:26<00:54, 13.21it/s]"
     ]
    },
    {
     "name": "stdout",
     "output_type": "stream",
     "text": [
      "\n",
      "image 1/1 c:\\Users\\sande\\OneDrive\\Desktop\\IITTP\\2_Asgn\\Sem2\\2_dl\\SemProject\\Automated_Yolo\\dataset\\UAVDT-processed\\val\\images\\img000380.jpg: 352x640 (no detections), 64.8ms\n",
      "Speed: 1.9ms preprocess, 64.8ms inference, 0.5ms postprocess per image at shape (1, 3, 352, 640)\n",
      "\n",
      "image 1/1 c:\\Users\\sande\\OneDrive\\Desktop\\IITTP\\2_Asgn\\Sem2\\2_dl\\SemProject\\Automated_Yolo\\dataset\\UAVDT-processed\\val\\images\\img000381.jpg: 352x640 (no detections), 41.4ms\n",
      "Speed: 2.3ms preprocess, 41.4ms inference, 0.4ms postprocess per image at shape (1, 3, 352, 640)\n"
     ]
    },
    {
     "name": "stderr",
     "output_type": "stream",
     "text": [
      " 35%|███▍      | 381/1101 [00:26<00:56, 12.75it/s]"
     ]
    },
    {
     "name": "stdout",
     "output_type": "stream",
     "text": [
      "\n",
      "image 1/1 c:\\Users\\sande\\OneDrive\\Desktop\\IITTP\\2_Asgn\\Sem2\\2_dl\\SemProject\\Automated_Yolo\\dataset\\UAVDT-processed\\val\\images\\img000382.jpg: 352x640 (no detections), 48.6ms\n",
      "Speed: 2.3ms preprocess, 48.6ms inference, 0.6ms postprocess per image at shape (1, 3, 352, 640)\n",
      "\n",
      "image 1/1 c:\\Users\\sande\\OneDrive\\Desktop\\IITTP\\2_Asgn\\Sem2\\2_dl\\SemProject\\Automated_Yolo\\dataset\\UAVDT-processed\\val\\images\\img000383.jpg: 352x640 (no detections), 42.7ms\n",
      "Speed: 2.3ms preprocess, 42.7ms inference, 0.5ms postprocess per image at shape (1, 3, 352, 640)\n"
     ]
    },
    {
     "name": "stderr",
     "output_type": "stream",
     "text": [
      " 35%|███▍      | 383/1101 [00:26<00:55, 12.88it/s]"
     ]
    },
    {
     "name": "stdout",
     "output_type": "stream",
     "text": [
      "\n",
      "image 1/1 c:\\Users\\sande\\OneDrive\\Desktop\\IITTP\\2_Asgn\\Sem2\\2_dl\\SemProject\\Automated_Yolo\\dataset\\UAVDT-processed\\val\\images\\img000384.jpg: 352x640 (no detections), 45.9ms\n",
      "Speed: 2.5ms preprocess, 45.9ms inference, 0.8ms postprocess per image at shape (1, 3, 352, 640)\n",
      "\n",
      "image 1/1 c:\\Users\\sande\\OneDrive\\Desktop\\IITTP\\2_Asgn\\Sem2\\2_dl\\SemProject\\Automated_Yolo\\dataset\\UAVDT-processed\\val\\images\\img000385.jpg: 352x640 (no detections), 47.1ms\n",
      "Speed: 2.7ms preprocess, 47.1ms inference, 0.6ms postprocess per image at shape (1, 3, 352, 640)\n"
     ]
    },
    {
     "name": "stderr",
     "output_type": "stream",
     "text": [
      " 35%|███▍      | 385/1101 [00:26<00:56, 12.76it/s]"
     ]
    },
    {
     "name": "stdout",
     "output_type": "stream",
     "text": [
      "\n",
      "image 1/1 c:\\Users\\sande\\OneDrive\\Desktop\\IITTP\\2_Asgn\\Sem2\\2_dl\\SemProject\\Automated_Yolo\\dataset\\UAVDT-processed\\val\\images\\img000386.jpg: 352x640 (no detections), 43.8ms\n",
      "Speed: 2.5ms preprocess, 43.8ms inference, 0.4ms postprocess per image at shape (1, 3, 352, 640)\n",
      "\n",
      "image 1/1 c:\\Users\\sande\\OneDrive\\Desktop\\IITTP\\2_Asgn\\Sem2\\2_dl\\SemProject\\Automated_Yolo\\dataset\\UAVDT-processed\\val\\images\\img000387.jpg: 352x640 (no detections), 39.8ms\n",
      "Speed: 2.0ms preprocess, 39.8ms inference, 0.4ms postprocess per image at shape (1, 3, 352, 640)\n"
     ]
    },
    {
     "name": "stderr",
     "output_type": "stream",
     "text": [
      " 35%|███▌      | 387/1101 [00:26<00:55, 12.84it/s]"
     ]
    },
    {
     "name": "stdout",
     "output_type": "stream",
     "text": [
      "\n",
      "image 1/1 c:\\Users\\sande\\OneDrive\\Desktop\\IITTP\\2_Asgn\\Sem2\\2_dl\\SemProject\\Automated_Yolo\\dataset\\UAVDT-processed\\val\\images\\img000388.jpg: 352x640 (no detections), 41.6ms\n",
      "Speed: 2.6ms preprocess, 41.6ms inference, 0.5ms postprocess per image at shape (1, 3, 352, 640)\n",
      "\n",
      "image 1/1 c:\\Users\\sande\\OneDrive\\Desktop\\IITTP\\2_Asgn\\Sem2\\2_dl\\SemProject\\Automated_Yolo\\dataset\\UAVDT-processed\\val\\images\\img000389.jpg: 352x640 (no detections), 40.7ms\n",
      "Speed: 1.4ms preprocess, 40.7ms inference, 0.6ms postprocess per image at shape (1, 3, 352, 640)\n"
     ]
    },
    {
     "name": "stderr",
     "output_type": "stream",
     "text": [
      " 35%|███▌      | 389/1101 [00:26<00:55, 12.95it/s]"
     ]
    },
    {
     "name": "stdout",
     "output_type": "stream",
     "text": [
      "\n",
      "image 1/1 c:\\Users\\sande\\OneDrive\\Desktop\\IITTP\\2_Asgn\\Sem2\\2_dl\\SemProject\\Automated_Yolo\\dataset\\UAVDT-processed\\val\\images\\img000390.jpg: 352x640 (no detections), 57.5ms\n",
      "Speed: 2.0ms preprocess, 57.5ms inference, 0.6ms postprocess per image at shape (1, 3, 352, 640)\n",
      "\n",
      "image 1/1 c:\\Users\\sande\\OneDrive\\Desktop\\IITTP\\2_Asgn\\Sem2\\2_dl\\SemProject\\Automated_Yolo\\dataset\\UAVDT-processed\\val\\images\\img000391.jpg: 352x640 (no detections), 44.1ms\n",
      "Speed: 1.7ms preprocess, 44.1ms inference, 0.4ms postprocess per image at shape (1, 3, 352, 640)\n"
     ]
    },
    {
     "name": "stderr",
     "output_type": "stream",
     "text": [
      " 36%|███▌      | 391/1101 [00:27<00:55, 12.78it/s]"
     ]
    },
    {
     "name": "stdout",
     "output_type": "stream",
     "text": [
      "\n",
      "image 1/1 c:\\Users\\sande\\OneDrive\\Desktop\\IITTP\\2_Asgn\\Sem2\\2_dl\\SemProject\\Automated_Yolo\\dataset\\UAVDT-processed\\val\\images\\img000392.jpg: 352x640 (no detections), 43.9ms\n",
      "Speed: 2.3ms preprocess, 43.9ms inference, 0.5ms postprocess per image at shape (1, 3, 352, 640)\n",
      "\n",
      "image 1/1 c:\\Users\\sande\\OneDrive\\Desktop\\IITTP\\2_Asgn\\Sem2\\2_dl\\SemProject\\Automated_Yolo\\dataset\\UAVDT-processed\\val\\images\\img000393.jpg: 352x640 (no detections), 43.6ms\n",
      "Speed: 1.7ms preprocess, 43.6ms inference, 0.4ms postprocess per image at shape (1, 3, 352, 640)\n"
     ]
    },
    {
     "name": "stderr",
     "output_type": "stream",
     "text": [
      " 36%|███▌      | 393/1101 [00:27<00:54, 13.04it/s]"
     ]
    },
    {
     "name": "stdout",
     "output_type": "stream",
     "text": [
      "\n",
      "image 1/1 c:\\Users\\sande\\OneDrive\\Desktop\\IITTP\\2_Asgn\\Sem2\\2_dl\\SemProject\\Automated_Yolo\\dataset\\UAVDT-processed\\val\\images\\img000394.jpg: 352x640 (no detections), 46.9ms\n",
      "Speed: 2.0ms preprocess, 46.9ms inference, 0.6ms postprocess per image at shape (1, 3, 352, 640)\n",
      "\n",
      "image 1/1 c:\\Users\\sande\\OneDrive\\Desktop\\IITTP\\2_Asgn\\Sem2\\2_dl\\SemProject\\Automated_Yolo\\dataset\\UAVDT-processed\\val\\images\\img000395.jpg: 352x640 (no detections), 43.8ms\n",
      "Speed: 1.5ms preprocess, 43.8ms inference, 0.5ms postprocess per image at shape (1, 3, 352, 640)\n"
     ]
    },
    {
     "name": "stderr",
     "output_type": "stream",
     "text": [
      " 36%|███▌      | 395/1101 [00:27<00:53, 13.10it/s]"
     ]
    },
    {
     "name": "stdout",
     "output_type": "stream",
     "text": [
      "\n",
      "image 1/1 c:\\Users\\sande\\OneDrive\\Desktop\\IITTP\\2_Asgn\\Sem2\\2_dl\\SemProject\\Automated_Yolo\\dataset\\UAVDT-processed\\val\\images\\img000396.jpg: 352x640 (no detections), 46.0ms\n",
      "Speed: 1.5ms preprocess, 46.0ms inference, 0.6ms postprocess per image at shape (1, 3, 352, 640)\n",
      "\n",
      "image 1/1 c:\\Users\\sande\\OneDrive\\Desktop\\IITTP\\2_Asgn\\Sem2\\2_dl\\SemProject\\Automated_Yolo\\dataset\\UAVDT-processed\\val\\images\\img000397.jpg: 352x640 (no detections), 36.2ms\n",
      "Speed: 1.5ms preprocess, 36.2ms inference, 0.4ms postprocess per image at shape (1, 3, 352, 640)\n"
     ]
    },
    {
     "name": "stderr",
     "output_type": "stream",
     "text": [
      " 36%|███▌      | 397/1101 [00:27<00:52, 13.48it/s]"
     ]
    },
    {
     "name": "stdout",
     "output_type": "stream",
     "text": [
      "\n",
      "image 1/1 c:\\Users\\sande\\OneDrive\\Desktop\\IITTP\\2_Asgn\\Sem2\\2_dl\\SemProject\\Automated_Yolo\\dataset\\UAVDT-processed\\val\\images\\img000398.jpg: 352x640 (no detections), 41.8ms\n",
      "Speed: 1.5ms preprocess, 41.8ms inference, 0.5ms postprocess per image at shape (1, 3, 352, 640)\n",
      "\n",
      "image 1/1 c:\\Users\\sande\\OneDrive\\Desktop\\IITTP\\2_Asgn\\Sem2\\2_dl\\SemProject\\Automated_Yolo\\dataset\\UAVDT-processed\\val\\images\\img000399.jpg: 352x640 (no detections), 39.3ms\n",
      "Speed: 1.6ms preprocess, 39.3ms inference, 0.4ms postprocess per image at shape (1, 3, 352, 640)\n"
     ]
    },
    {
     "name": "stderr",
     "output_type": "stream",
     "text": [
      " 36%|███▌      | 399/1101 [00:27<00:50, 13.82it/s]"
     ]
    },
    {
     "name": "stdout",
     "output_type": "stream",
     "text": [
      "\n",
      "image 1/1 c:\\Users\\sande\\OneDrive\\Desktop\\IITTP\\2_Asgn\\Sem2\\2_dl\\SemProject\\Automated_Yolo\\dataset\\UAVDT-processed\\val\\images\\img000400.jpg: 352x640 (no detections), 67.9ms\n",
      "Speed: 6.0ms preprocess, 67.9ms inference, 0.4ms postprocess per image at shape (1, 3, 352, 640)\n",
      "\n",
      "image 1/1 c:\\Users\\sande\\OneDrive\\Desktop\\IITTP\\2_Asgn\\Sem2\\2_dl\\SemProject\\Automated_Yolo\\dataset\\UAVDT-processed\\val\\images\\img000401.jpg: 352x640 (no detections), 39.8ms\n",
      "Speed: 1.6ms preprocess, 39.8ms inference, 0.5ms postprocess per image at shape (1, 3, 352, 640)\n"
     ]
    },
    {
     "name": "stderr",
     "output_type": "stream",
     "text": [
      " 36%|███▋      | 401/1101 [00:27<00:54, 12.95it/s]"
     ]
    },
    {
     "name": "stdout",
     "output_type": "stream",
     "text": [
      "\n",
      "image 1/1 c:\\Users\\sande\\OneDrive\\Desktop\\IITTP\\2_Asgn\\Sem2\\2_dl\\SemProject\\Automated_Yolo\\dataset\\UAVDT-processed\\val\\images\\img000402.jpg: 352x640 (no detections), 41.8ms\n",
      "Speed: 2.3ms preprocess, 41.8ms inference, 0.5ms postprocess per image at shape (1, 3, 352, 640)\n",
      "\n",
      "image 1/1 c:\\Users\\sande\\OneDrive\\Desktop\\IITTP\\2_Asgn\\Sem2\\2_dl\\SemProject\\Automated_Yolo\\dataset\\UAVDT-processed\\val\\images\\img000403.jpg: 352x640 (no detections), 42.2ms\n",
      "Speed: 1.5ms preprocess, 42.2ms inference, 0.4ms postprocess per image at shape (1, 3, 352, 640)\n"
     ]
    },
    {
     "name": "stderr",
     "output_type": "stream",
     "text": [
      " 37%|███▋      | 403/1101 [00:27<00:53, 12.96it/s]"
     ]
    },
    {
     "name": "stdout",
     "output_type": "stream",
     "text": [
      "\n",
      "image 1/1 c:\\Users\\sande\\OneDrive\\Desktop\\IITTP\\2_Asgn\\Sem2\\2_dl\\SemProject\\Automated_Yolo\\dataset\\UAVDT-processed\\val\\images\\img000404.jpg: 352x640 (no detections), 45.6ms\n",
      "Speed: 2.4ms preprocess, 45.6ms inference, 0.5ms postprocess per image at shape (1, 3, 352, 640)\n",
      "\n",
      "image 1/1 c:\\Users\\sande\\OneDrive\\Desktop\\IITTP\\2_Asgn\\Sem2\\2_dl\\SemProject\\Automated_Yolo\\dataset\\UAVDT-processed\\val\\images\\img000405.jpg: 352x640 (no detections), 44.0ms\n",
      "Speed: 1.6ms preprocess, 44.0ms inference, 0.5ms postprocess per image at shape (1, 3, 352, 640)\n"
     ]
    },
    {
     "name": "stderr",
     "output_type": "stream",
     "text": [
      " 37%|███▋      | 405/1101 [00:28<00:53, 13.07it/s]"
     ]
    },
    {
     "name": "stdout",
     "output_type": "stream",
     "text": [
      "\n",
      "image 1/1 c:\\Users\\sande\\OneDrive\\Desktop\\IITTP\\2_Asgn\\Sem2\\2_dl\\SemProject\\Automated_Yolo\\dataset\\UAVDT-processed\\val\\images\\img000406.jpg: 352x640 (no detections), 46.4ms\n",
      "Speed: 1.6ms preprocess, 46.4ms inference, 0.6ms postprocess per image at shape (1, 3, 352, 640)\n",
      "\n",
      "image 1/1 c:\\Users\\sande\\OneDrive\\Desktop\\IITTP\\2_Asgn\\Sem2\\2_dl\\SemProject\\Automated_Yolo\\dataset\\UAVDT-processed\\val\\images\\img000407.jpg: 352x640 (no detections), 41.1ms\n",
      "Speed: 1.6ms preprocess, 41.1ms inference, 0.4ms postprocess per image at shape (1, 3, 352, 640)\n"
     ]
    },
    {
     "name": "stderr",
     "output_type": "stream",
     "text": [
      " 37%|███▋      | 407/1101 [00:28<00:51, 13.58it/s]"
     ]
    },
    {
     "name": "stdout",
     "output_type": "stream",
     "text": [
      "\n",
      "image 1/1 c:\\Users\\sande\\OneDrive\\Desktop\\IITTP\\2_Asgn\\Sem2\\2_dl\\SemProject\\Automated_Yolo\\dataset\\UAVDT-processed\\val\\images\\img000408.jpg: 352x640 (no detections), 46.8ms\n",
      "Speed: 2.0ms preprocess, 46.8ms inference, 0.6ms postprocess per image at shape (1, 3, 352, 640)\n",
      "\n",
      "image 1/1 c:\\Users\\sande\\OneDrive\\Desktop\\IITTP\\2_Asgn\\Sem2\\2_dl\\SemProject\\Automated_Yolo\\dataset\\UAVDT-processed\\val\\images\\img000409.jpg: 352x640 (no detections), 66.1ms\n",
      "Speed: 1.7ms preprocess, 66.1ms inference, 0.6ms postprocess per image at shape (1, 3, 352, 640)\n"
     ]
    },
    {
     "name": "stderr",
     "output_type": "stream",
     "text": [
      " 37%|███▋      | 409/1101 [00:28<00:54, 12.72it/s]"
     ]
    },
    {
     "name": "stdout",
     "output_type": "stream",
     "text": [
      "\n",
      "image 1/1 c:\\Users\\sande\\OneDrive\\Desktop\\IITTP\\2_Asgn\\Sem2\\2_dl\\SemProject\\Automated_Yolo\\dataset\\UAVDT-processed\\val\\images\\img000410.jpg: 352x640 (no detections), 47.2ms\n",
      "Speed: 1.6ms preprocess, 47.2ms inference, 0.6ms postprocess per image at shape (1, 3, 352, 640)\n",
      "\n",
      "image 1/1 c:\\Users\\sande\\OneDrive\\Desktop\\IITTP\\2_Asgn\\Sem2\\2_dl\\SemProject\\Automated_Yolo\\dataset\\UAVDT-processed\\val\\images\\img000411.jpg: 352x640 (no detections), 38.2ms\n",
      "Speed: 2.3ms preprocess, 38.2ms inference, 0.4ms postprocess per image at shape (1, 3, 352, 640)\n"
     ]
    },
    {
     "name": "stderr",
     "output_type": "stream",
     "text": [
      " 37%|███▋      | 411/1101 [00:28<00:50, 13.55it/s]"
     ]
    },
    {
     "name": "stdout",
     "output_type": "stream",
     "text": [
      "\n",
      "image 1/1 c:\\Users\\sande\\OneDrive\\Desktop\\IITTP\\2_Asgn\\Sem2\\2_dl\\SemProject\\Automated_Yolo\\dataset\\UAVDT-processed\\val\\images\\img000412.jpg: 352x640 (no detections), 45.2ms\n",
      "Speed: 2.0ms preprocess, 45.2ms inference, 0.5ms postprocess per image at shape (1, 3, 352, 640)\n",
      "\n",
      "image 1/1 c:\\Users\\sande\\OneDrive\\Desktop\\IITTP\\2_Asgn\\Sem2\\2_dl\\SemProject\\Automated_Yolo\\dataset\\UAVDT-processed\\val\\images\\img000413.jpg: 352x640 (no detections), 42.8ms\n",
      "Speed: 1.6ms preprocess, 42.8ms inference, 0.4ms postprocess per image at shape (1, 3, 352, 640)\n"
     ]
    },
    {
     "name": "stderr",
     "output_type": "stream",
     "text": [
      " 38%|███▊      | 413/1101 [00:28<00:51, 13.41it/s]"
     ]
    },
    {
     "name": "stdout",
     "output_type": "stream",
     "text": [
      "\n",
      "image 1/1 c:\\Users\\sande\\OneDrive\\Desktop\\IITTP\\2_Asgn\\Sem2\\2_dl\\SemProject\\Automated_Yolo\\dataset\\UAVDT-processed\\val\\images\\img000414.jpg: 352x640 (no detections), 44.8ms\n",
      "Speed: 1.6ms preprocess, 44.8ms inference, 0.5ms postprocess per image at shape (1, 3, 352, 640)\n",
      "\n",
      "image 1/1 c:\\Users\\sande\\OneDrive\\Desktop\\IITTP\\2_Asgn\\Sem2\\2_dl\\SemProject\\Automated_Yolo\\dataset\\UAVDT-processed\\val\\images\\img000415.jpg: 352x640 (no detections), 38.2ms\n",
      "Speed: 2.1ms preprocess, 38.2ms inference, 0.4ms postprocess per image at shape (1, 3, 352, 640)\n"
     ]
    },
    {
     "name": "stderr",
     "output_type": "stream",
     "text": [
      " 38%|███▊      | 415/1101 [00:28<00:50, 13.52it/s]"
     ]
    },
    {
     "name": "stdout",
     "output_type": "stream",
     "text": [
      "\n",
      "image 1/1 c:\\Users\\sande\\OneDrive\\Desktop\\IITTP\\2_Asgn\\Sem2\\2_dl\\SemProject\\Automated_Yolo\\dataset\\UAVDT-processed\\val\\images\\img000416.jpg: 352x640 (no detections), 40.3ms\n",
      "Speed: 1.6ms preprocess, 40.3ms inference, 0.5ms postprocess per image at shape (1, 3, 352, 640)\n",
      "\n",
      "image 1/1 c:\\Users\\sande\\OneDrive\\Desktop\\IITTP\\2_Asgn\\Sem2\\2_dl\\SemProject\\Automated_Yolo\\dataset\\UAVDT-processed\\val\\images\\img000417.jpg: 352x640 (no detections), 45.1ms\n",
      "Speed: 1.8ms preprocess, 45.1ms inference, 0.6ms postprocess per image at shape (1, 3, 352, 640)\n"
     ]
    },
    {
     "name": "stderr",
     "output_type": "stream",
     "text": [
      " 38%|███▊      | 417/1101 [00:28<00:49, 13.71it/s]"
     ]
    },
    {
     "name": "stdout",
     "output_type": "stream",
     "text": [
      "\n",
      "image 1/1 c:\\Users\\sande\\OneDrive\\Desktop\\IITTP\\2_Asgn\\Sem2\\2_dl\\SemProject\\Automated_Yolo\\dataset\\UAVDT-processed\\val\\images\\img000418.jpg: 352x640 (no detections), 61.6ms\n",
      "Speed: 2.3ms preprocess, 61.6ms inference, 0.7ms postprocess per image at shape (1, 3, 352, 640)\n",
      "\n",
      "image 1/1 c:\\Users\\sande\\OneDrive\\Desktop\\IITTP\\2_Asgn\\Sem2\\2_dl\\SemProject\\Automated_Yolo\\dataset\\UAVDT-processed\\val\\images\\img000419.jpg: 352x640 (no detections), 43.6ms\n",
      "Speed: 2.5ms preprocess, 43.6ms inference, 0.5ms postprocess per image at shape (1, 3, 352, 640)\n"
     ]
    },
    {
     "name": "stderr",
     "output_type": "stream",
     "text": [
      " 38%|███▊      | 419/1101 [00:29<00:52, 13.01it/s]"
     ]
    },
    {
     "name": "stdout",
     "output_type": "stream",
     "text": [
      "\n",
      "image 1/1 c:\\Users\\sande\\OneDrive\\Desktop\\IITTP\\2_Asgn\\Sem2\\2_dl\\SemProject\\Automated_Yolo\\dataset\\UAVDT-processed\\val\\images\\img000420.jpg: 352x640 (no detections), 44.1ms\n",
      "Speed: 2.3ms preprocess, 44.1ms inference, 0.4ms postprocess per image at shape (1, 3, 352, 640)\n",
      "\n",
      "image 1/1 c:\\Users\\sande\\OneDrive\\Desktop\\IITTP\\2_Asgn\\Sem2\\2_dl\\SemProject\\Automated_Yolo\\dataset\\UAVDT-processed\\val\\images\\img000421.jpg: 352x640 (no detections), 39.7ms\n",
      "Speed: 1.5ms preprocess, 39.7ms inference, 0.4ms postprocess per image at shape (1, 3, 352, 640)\n"
     ]
    },
    {
     "name": "stderr",
     "output_type": "stream",
     "text": [
      " 38%|███▊      | 421/1101 [00:29<00:51, 13.32it/s]"
     ]
    },
    {
     "name": "stdout",
     "output_type": "stream",
     "text": [
      "\n",
      "image 1/1 c:\\Users\\sande\\OneDrive\\Desktop\\IITTP\\2_Asgn\\Sem2\\2_dl\\SemProject\\Automated_Yolo\\dataset\\UAVDT-processed\\val\\images\\img000422.jpg: 352x640 (no detections), 41.7ms\n",
      "Speed: 2.3ms preprocess, 41.7ms inference, 0.4ms postprocess per image at shape (1, 3, 352, 640)\n",
      "\n",
      "image 1/1 c:\\Users\\sande\\OneDrive\\Desktop\\IITTP\\2_Asgn\\Sem2\\2_dl\\SemProject\\Automated_Yolo\\dataset\\UAVDT-processed\\val\\images\\img000423.jpg: 352x640 (no detections), 37.8ms\n",
      "Speed: 1.4ms preprocess, 37.8ms inference, 0.5ms postprocess per image at shape (1, 3, 352, 640)\n"
     ]
    },
    {
     "name": "stderr",
     "output_type": "stream",
     "text": [
      " 38%|███▊      | 423/1101 [00:29<00:50, 13.33it/s]"
     ]
    },
    {
     "name": "stdout",
     "output_type": "stream",
     "text": [
      "\n",
      "image 1/1 c:\\Users\\sande\\OneDrive\\Desktop\\IITTP\\2_Asgn\\Sem2\\2_dl\\SemProject\\Automated_Yolo\\dataset\\UAVDT-processed\\val\\images\\img000424.jpg: 352x640 (no detections), 43.9ms\n",
      "Speed: 2.3ms preprocess, 43.9ms inference, 0.4ms postprocess per image at shape (1, 3, 352, 640)\n",
      "\n",
      "image 1/1 c:\\Users\\sande\\OneDrive\\Desktop\\IITTP\\2_Asgn\\Sem2\\2_dl\\SemProject\\Automated_Yolo\\dataset\\UAVDT-processed\\val\\images\\img000425.jpg: 352x640 (no detections), 38.8ms\n",
      "Speed: 2.2ms preprocess, 38.8ms inference, 0.5ms postprocess per image at shape (1, 3, 352, 640)\n"
     ]
    },
    {
     "name": "stderr",
     "output_type": "stream",
     "text": [
      " 39%|███▊      | 425/1101 [00:29<00:49, 13.56it/s]"
     ]
    },
    {
     "name": "stdout",
     "output_type": "stream",
     "text": [
      "\n",
      "image 1/1 c:\\Users\\sande\\OneDrive\\Desktop\\IITTP\\2_Asgn\\Sem2\\2_dl\\SemProject\\Automated_Yolo\\dataset\\UAVDT-processed\\val\\images\\img000426.jpg: 352x640 (no detections), 44.3ms\n",
      "Speed: 1.9ms preprocess, 44.3ms inference, 0.4ms postprocess per image at shape (1, 3, 352, 640)\n",
      "\n",
      "image 1/1 c:\\Users\\sande\\OneDrive\\Desktop\\IITTP\\2_Asgn\\Sem2\\2_dl\\SemProject\\Automated_Yolo\\dataset\\UAVDT-processed\\val\\images\\img000427.jpg: 352x640 (no detections), 42.0ms\n",
      "Speed: 2.2ms preprocess, 42.0ms inference, 0.5ms postprocess per image at shape (1, 3, 352, 640)\n"
     ]
    },
    {
     "name": "stderr",
     "output_type": "stream",
     "text": [
      " 39%|███▉      | 427/1101 [00:29<00:48, 13.77it/s]"
     ]
    },
    {
     "name": "stdout",
     "output_type": "stream",
     "text": [
      "\n",
      "image 1/1 c:\\Users\\sande\\OneDrive\\Desktop\\IITTP\\2_Asgn\\Sem2\\2_dl\\SemProject\\Automated_Yolo\\dataset\\UAVDT-processed\\val\\images\\img000428.jpg: 352x640 (no detections), 58.8ms\n",
      "Speed: 1.6ms preprocess, 58.8ms inference, 0.8ms postprocess per image at shape (1, 3, 352, 640)\n",
      "\n",
      "image 1/1 c:\\Users\\sande\\OneDrive\\Desktop\\IITTP\\2_Asgn\\Sem2\\2_dl\\SemProject\\Automated_Yolo\\dataset\\UAVDT-processed\\val\\images\\img000429.jpg: 352x640 (no detections), 41.0ms\n",
      "Speed: 1.8ms preprocess, 41.0ms inference, 0.4ms postprocess per image at shape (1, 3, 352, 640)\n"
     ]
    },
    {
     "name": "stderr",
     "output_type": "stream",
     "text": [
      " 39%|███▉      | 429/1101 [00:29<00:49, 13.45it/s]"
     ]
    },
    {
     "name": "stdout",
     "output_type": "stream",
     "text": [
      "\n",
      "image 1/1 c:\\Users\\sande\\OneDrive\\Desktop\\IITTP\\2_Asgn\\Sem2\\2_dl\\SemProject\\Automated_Yolo\\dataset\\UAVDT-processed\\val\\images\\img000430.jpg: 352x640 (no detections), 42.9ms\n",
      "Speed: 1.7ms preprocess, 42.9ms inference, 0.4ms postprocess per image at shape (1, 3, 352, 640)\n",
      "\n",
      "image 1/1 c:\\Users\\sande\\OneDrive\\Desktop\\IITTP\\2_Asgn\\Sem2\\2_dl\\SemProject\\Automated_Yolo\\dataset\\UAVDT-processed\\val\\images\\img000431.jpg: 352x640 (no detections), 42.1ms\n",
      "Speed: 1.5ms preprocess, 42.1ms inference, 0.5ms postprocess per image at shape (1, 3, 352, 640)\n"
     ]
    },
    {
     "name": "stderr",
     "output_type": "stream",
     "text": [
      " 39%|███▉      | 431/1101 [00:30<00:50, 13.35it/s]"
     ]
    },
    {
     "name": "stdout",
     "output_type": "stream",
     "text": [
      "\n",
      "image 1/1 c:\\Users\\sande\\OneDrive\\Desktop\\IITTP\\2_Asgn\\Sem2\\2_dl\\SemProject\\Automated_Yolo\\dataset\\UAVDT-processed\\val\\images\\img000432.jpg: 352x640 (no detections), 44.9ms\n",
      "Speed: 1.7ms preprocess, 44.9ms inference, 0.4ms postprocess per image at shape (1, 3, 352, 640)\n",
      "\n",
      "image 1/1 c:\\Users\\sande\\OneDrive\\Desktop\\IITTP\\2_Asgn\\Sem2\\2_dl\\SemProject\\Automated_Yolo\\dataset\\UAVDT-processed\\val\\images\\img000433.jpg: 352x640 (no detections), 39.6ms\n",
      "Speed: 1.5ms preprocess, 39.6ms inference, 0.4ms postprocess per image at shape (1, 3, 352, 640)\n"
     ]
    },
    {
     "name": "stderr",
     "output_type": "stream",
     "text": [
      " 39%|███▉      | 433/1101 [00:30<00:49, 13.37it/s]"
     ]
    },
    {
     "name": "stdout",
     "output_type": "stream",
     "text": [
      "\n",
      "image 1/1 c:\\Users\\sande\\OneDrive\\Desktop\\IITTP\\2_Asgn\\Sem2\\2_dl\\SemProject\\Automated_Yolo\\dataset\\UAVDT-processed\\val\\images\\img000434.jpg: 352x640 (no detections), 43.6ms\n",
      "Speed: 1.7ms preprocess, 43.6ms inference, 0.5ms postprocess per image at shape (1, 3, 352, 640)\n",
      "\n",
      "image 1/1 c:\\Users\\sande\\OneDrive\\Desktop\\IITTP\\2_Asgn\\Sem2\\2_dl\\SemProject\\Automated_Yolo\\dataset\\UAVDT-processed\\val\\images\\img000435.jpg: 352x640 (no detections), 46.2ms\n",
      "Speed: 1.5ms preprocess, 46.2ms inference, 0.5ms postprocess per image at shape (1, 3, 352, 640)\n"
     ]
    },
    {
     "name": "stderr",
     "output_type": "stream",
     "text": [
      " 40%|███▉      | 435/1101 [00:30<00:50, 13.21it/s]"
     ]
    },
    {
     "name": "stdout",
     "output_type": "stream",
     "text": [
      "\n",
      "image 1/1 c:\\Users\\sande\\OneDrive\\Desktop\\IITTP\\2_Asgn\\Sem2\\2_dl\\SemProject\\Automated_Yolo\\dataset\\UAVDT-processed\\val\\images\\img000436.jpg: 352x640 (no detections), 46.4ms\n",
      "Speed: 2.5ms preprocess, 46.4ms inference, 0.5ms postprocess per image at shape (1, 3, 352, 640)\n",
      "\n",
      "image 1/1 c:\\Users\\sande\\OneDrive\\Desktop\\IITTP\\2_Asgn\\Sem2\\2_dl\\SemProject\\Automated_Yolo\\dataset\\UAVDT-processed\\val\\images\\img000437.jpg: 352x640 (no detections), 55.3ms\n",
      "Speed: 2.2ms preprocess, 55.3ms inference, 0.5ms postprocess per image at shape (1, 3, 352, 640)\n"
     ]
    },
    {
     "name": "stderr",
     "output_type": "stream",
     "text": [
      " 40%|███▉      | 437/1101 [00:30<00:51, 12.98it/s]"
     ]
    },
    {
     "name": "stdout",
     "output_type": "stream",
     "text": [
      "\n",
      "image 1/1 c:\\Users\\sande\\OneDrive\\Desktop\\IITTP\\2_Asgn\\Sem2\\2_dl\\SemProject\\Automated_Yolo\\dataset\\UAVDT-processed\\val\\images\\img000438.jpg: 352x640 (no detections), 42.8ms\n",
      "Speed: 2.6ms preprocess, 42.8ms inference, 0.4ms postprocess per image at shape (1, 3, 352, 640)\n",
      "\n",
      "image 1/1 c:\\Users\\sande\\OneDrive\\Desktop\\IITTP\\2_Asgn\\Sem2\\2_dl\\SemProject\\Automated_Yolo\\dataset\\UAVDT-processed\\val\\images\\img000439.jpg: 352x640 (no detections), 40.1ms\n",
      "Speed: 1.5ms preprocess, 40.1ms inference, 0.4ms postprocess per image at shape (1, 3, 352, 640)\n"
     ]
    },
    {
     "name": "stderr",
     "output_type": "stream",
     "text": [
      " 40%|███▉      | 439/1101 [00:30<00:49, 13.48it/s]"
     ]
    },
    {
     "name": "stdout",
     "output_type": "stream",
     "text": [
      "\n",
      "image 1/1 c:\\Users\\sande\\OneDrive\\Desktop\\IITTP\\2_Asgn\\Sem2\\2_dl\\SemProject\\Automated_Yolo\\dataset\\UAVDT-processed\\val\\images\\img000440.jpg: 352x640 (no detections), 42.8ms\n",
      "Speed: 1.5ms preprocess, 42.8ms inference, 0.4ms postprocess per image at shape (1, 3, 352, 640)\n",
      "\n",
      "image 1/1 c:\\Users\\sande\\OneDrive\\Desktop\\IITTP\\2_Asgn\\Sem2\\2_dl\\SemProject\\Automated_Yolo\\dataset\\UAVDT-processed\\val\\images\\img000441.jpg: 352x640 (no detections), 39.4ms\n",
      "Speed: 1.4ms preprocess, 39.4ms inference, 0.4ms postprocess per image at shape (1, 3, 352, 640)\n"
     ]
    },
    {
     "name": "stderr",
     "output_type": "stream",
     "text": [
      " 40%|████      | 441/1101 [00:30<00:48, 13.53it/s]"
     ]
    },
    {
     "name": "stdout",
     "output_type": "stream",
     "text": [
      "\n",
      "image 1/1 c:\\Users\\sande\\OneDrive\\Desktop\\IITTP\\2_Asgn\\Sem2\\2_dl\\SemProject\\Automated_Yolo\\dataset\\UAVDT-processed\\val\\images\\img000442.jpg: 352x640 (no detections), 44.1ms\n",
      "Speed: 1.9ms preprocess, 44.1ms inference, 0.5ms postprocess per image at shape (1, 3, 352, 640)\n",
      "\n",
      "image 1/1 c:\\Users\\sande\\OneDrive\\Desktop\\IITTP\\2_Asgn\\Sem2\\2_dl\\SemProject\\Automated_Yolo\\dataset\\UAVDT-processed\\val\\images\\img000443.jpg: 352x640 (no detections), 39.5ms\n",
      "Speed: 1.6ms preprocess, 39.5ms inference, 0.5ms postprocess per image at shape (1, 3, 352, 640)\n"
     ]
    },
    {
     "name": "stderr",
     "output_type": "stream",
     "text": [
      " 40%|████      | 443/1101 [00:30<00:48, 13.45it/s]"
     ]
    },
    {
     "name": "stdout",
     "output_type": "stream",
     "text": [
      "\n",
      "image 1/1 c:\\Users\\sande\\OneDrive\\Desktop\\IITTP\\2_Asgn\\Sem2\\2_dl\\SemProject\\Automated_Yolo\\dataset\\UAVDT-processed\\val\\images\\img000444.jpg: 352x640 (no detections), 43.5ms\n",
      "Speed: 2.3ms preprocess, 43.5ms inference, 0.6ms postprocess per image at shape (1, 3, 352, 640)\n",
      "\n",
      "image 1/1 c:\\Users\\sande\\OneDrive\\Desktop\\IITTP\\2_Asgn\\Sem2\\2_dl\\SemProject\\Automated_Yolo\\dataset\\UAVDT-processed\\val\\images\\img000445.jpg: 352x640 (no detections), 49.9ms\n",
      "Speed: 1.6ms preprocess, 49.9ms inference, 0.5ms postprocess per image at shape (1, 3, 352, 640)\n"
     ]
    },
    {
     "name": "stderr",
     "output_type": "stream",
     "text": [
      " 40%|████      | 445/1101 [00:31<00:48, 13.44it/s]"
     ]
    },
    {
     "name": "stdout",
     "output_type": "stream",
     "text": [
      "\n",
      "image 1/1 c:\\Users\\sande\\OneDrive\\Desktop\\IITTP\\2_Asgn\\Sem2\\2_dl\\SemProject\\Automated_Yolo\\dataset\\UAVDT-processed\\val\\images\\img000446.jpg: 352x640 (no detections), 60.0ms\n",
      "Speed: 3.5ms preprocess, 60.0ms inference, 0.5ms postprocess per image at shape (1, 3, 352, 640)\n",
      "\n",
      "image 1/1 c:\\Users\\sande\\OneDrive\\Desktop\\IITTP\\2_Asgn\\Sem2\\2_dl\\SemProject\\Automated_Yolo\\dataset\\UAVDT-processed\\val\\images\\img000447.jpg: 352x640 (no detections), 39.6ms\n",
      "Speed: 1.5ms preprocess, 39.6ms inference, 0.4ms postprocess per image at shape (1, 3, 352, 640)\n"
     ]
    },
    {
     "name": "stderr",
     "output_type": "stream",
     "text": [
      " 41%|████      | 447/1101 [00:31<00:50, 13.02it/s]"
     ]
    },
    {
     "name": "stdout",
     "output_type": "stream",
     "text": [
      "\n",
      "image 1/1 c:\\Users\\sande\\OneDrive\\Desktop\\IITTP\\2_Asgn\\Sem2\\2_dl\\SemProject\\Automated_Yolo\\dataset\\UAVDT-processed\\val\\images\\img000448.jpg: 352x640 (no detections), 43.5ms\n",
      "Speed: 2.3ms preprocess, 43.5ms inference, 0.5ms postprocess per image at shape (1, 3, 352, 640)\n",
      "\n",
      "image 1/1 c:\\Users\\sande\\OneDrive\\Desktop\\IITTP\\2_Asgn\\Sem2\\2_dl\\SemProject\\Automated_Yolo\\dataset\\UAVDT-processed\\val\\images\\img000449.jpg: 352x640 (no detections), 41.1ms\n",
      "Speed: 2.2ms preprocess, 41.1ms inference, 0.5ms postprocess per image at shape (1, 3, 352, 640)\n"
     ]
    },
    {
     "name": "stderr",
     "output_type": "stream",
     "text": [
      " 41%|████      | 449/1101 [00:31<00:51, 12.70it/s]"
     ]
    },
    {
     "name": "stdout",
     "output_type": "stream",
     "text": [
      "\n",
      "image 1/1 c:\\Users\\sande\\OneDrive\\Desktop\\IITTP\\2_Asgn\\Sem2\\2_dl\\SemProject\\Automated_Yolo\\dataset\\UAVDT-processed\\val\\images\\img000450.jpg: 352x640 (no detections), 46.8ms\n",
      "Speed: 2.3ms preprocess, 46.8ms inference, 0.5ms postprocess per image at shape (1, 3, 352, 640)\n",
      "\n",
      "image 1/1 c:\\Users\\sande\\OneDrive\\Desktop\\IITTP\\2_Asgn\\Sem2\\2_dl\\SemProject\\Automated_Yolo\\dataset\\UAVDT-processed\\val\\images\\img000451.jpg: 352x640 (no detections), 38.4ms\n",
      "Speed: 1.7ms preprocess, 38.4ms inference, 0.4ms postprocess per image at shape (1, 3, 352, 640)\n"
     ]
    },
    {
     "name": "stderr",
     "output_type": "stream",
     "text": [
      " 41%|████      | 451/1101 [00:31<00:50, 12.87it/s]"
     ]
    },
    {
     "name": "stdout",
     "output_type": "stream",
     "text": [
      "\n",
      "image 1/1 c:\\Users\\sande\\OneDrive\\Desktop\\IITTP\\2_Asgn\\Sem2\\2_dl\\SemProject\\Automated_Yolo\\dataset\\UAVDT-processed\\val\\images\\img000452.jpg: 352x640 (no detections), 45.9ms\n",
      "Speed: 2.5ms preprocess, 45.9ms inference, 0.5ms postprocess per image at shape (1, 3, 352, 640)\n",
      "\n",
      "image 1/1 c:\\Users\\sande\\OneDrive\\Desktop\\IITTP\\2_Asgn\\Sem2\\2_dl\\SemProject\\Automated_Yolo\\dataset\\UAVDT-processed\\val\\images\\img000453.jpg: 352x640 (no detections), 39.2ms\n",
      "Speed: 1.6ms preprocess, 39.2ms inference, 0.5ms postprocess per image at shape (1, 3, 352, 640)\n"
     ]
    },
    {
     "name": "stderr",
     "output_type": "stream",
     "text": [
      " 41%|████      | 453/1101 [00:31<00:47, 13.50it/s]"
     ]
    },
    {
     "name": "stdout",
     "output_type": "stream",
     "text": [
      "\n",
      "image 1/1 c:\\Users\\sande\\OneDrive\\Desktop\\IITTP\\2_Asgn\\Sem2\\2_dl\\SemProject\\Automated_Yolo\\dataset\\UAVDT-processed\\val\\images\\img000454.jpg: 352x640 (no detections), 43.2ms\n",
      "Speed: 2.4ms preprocess, 43.2ms inference, 0.4ms postprocess per image at shape (1, 3, 352, 640)\n",
      "\n",
      "image 1/1 c:\\Users\\sande\\OneDrive\\Desktop\\IITTP\\2_Asgn\\Sem2\\2_dl\\SemProject\\Automated_Yolo\\dataset\\UAVDT-processed\\val\\images\\img000455.jpg: 352x640 (no detections), 39.2ms\n",
      "Speed: 1.5ms preprocess, 39.2ms inference, 0.4ms postprocess per image at shape (1, 3, 352, 640)\n"
     ]
    },
    {
     "name": "stderr",
     "output_type": "stream",
     "text": [
      " 41%|████▏     | 455/1101 [00:31<00:47, 13.56it/s]"
     ]
    },
    {
     "name": "stdout",
     "output_type": "stream",
     "text": [
      "\n",
      "image 1/1 c:\\Users\\sande\\OneDrive\\Desktop\\IITTP\\2_Asgn\\Sem2\\2_dl\\SemProject\\Automated_Yolo\\dataset\\UAVDT-processed\\val\\images\\img000456.jpg: 352x640 (no detections), 63.8ms\n",
      "Speed: 2.3ms preprocess, 63.8ms inference, 0.5ms postprocess per image at shape (1, 3, 352, 640)\n",
      "\n",
      "image 1/1 c:\\Users\\sande\\OneDrive\\Desktop\\IITTP\\2_Asgn\\Sem2\\2_dl\\SemProject\\Automated_Yolo\\dataset\\UAVDT-processed\\val\\images\\img000457.jpg: 352x640 (no detections), 43.9ms\n",
      "Speed: 2.4ms preprocess, 43.9ms inference, 0.6ms postprocess per image at shape (1, 3, 352, 640)\n"
     ]
    },
    {
     "name": "stderr",
     "output_type": "stream",
     "text": [
      " 42%|████▏     | 457/1101 [00:31<00:50, 12.66it/s]"
     ]
    },
    {
     "name": "stdout",
     "output_type": "stream",
     "text": [
      "\n",
      "image 1/1 c:\\Users\\sande\\OneDrive\\Desktop\\IITTP\\2_Asgn\\Sem2\\2_dl\\SemProject\\Automated_Yolo\\dataset\\UAVDT-processed\\val\\images\\img000458.jpg: 352x640 (no detections), 48.0ms\n",
      "Speed: 2.9ms preprocess, 48.0ms inference, 0.6ms postprocess per image at shape (1, 3, 352, 640)\n",
      "\n",
      "image 1/1 c:\\Users\\sande\\OneDrive\\Desktop\\IITTP\\2_Asgn\\Sem2\\2_dl\\SemProject\\Automated_Yolo\\dataset\\UAVDT-processed\\val\\images\\img000459.jpg: 352x640 (no detections), 43.0ms\n",
      "Speed: 1.6ms preprocess, 43.0ms inference, 0.5ms postprocess per image at shape (1, 3, 352, 640)\n"
     ]
    },
    {
     "name": "stderr",
     "output_type": "stream",
     "text": [
      " 42%|████▏     | 459/1101 [00:32<00:49, 13.01it/s]"
     ]
    },
    {
     "name": "stdout",
     "output_type": "stream",
     "text": [
      "\n",
      "image 1/1 c:\\Users\\sande\\OneDrive\\Desktop\\IITTP\\2_Asgn\\Sem2\\2_dl\\SemProject\\Automated_Yolo\\dataset\\UAVDT-processed\\val\\images\\img000460.jpg: 352x640 (no detections), 45.8ms\n",
      "Speed: 1.6ms preprocess, 45.8ms inference, 0.5ms postprocess per image at shape (1, 3, 352, 640)\n",
      "\n",
      "image 1/1 c:\\Users\\sande\\OneDrive\\Desktop\\IITTP\\2_Asgn\\Sem2\\2_dl\\SemProject\\Automated_Yolo\\dataset\\UAVDT-processed\\val\\images\\img000461.jpg: 352x640 (no detections), 41.6ms\n",
      "Speed: 1.4ms preprocess, 41.6ms inference, 0.6ms postprocess per image at shape (1, 3, 352, 640)\n"
     ]
    },
    {
     "name": "stderr",
     "output_type": "stream",
     "text": [
      " 42%|████▏     | 461/1101 [00:32<00:48, 13.22it/s]"
     ]
    },
    {
     "name": "stdout",
     "output_type": "stream",
     "text": [
      "\n",
      "image 1/1 c:\\Users\\sande\\OneDrive\\Desktop\\IITTP\\2_Asgn\\Sem2\\2_dl\\SemProject\\Automated_Yolo\\dataset\\UAVDT-processed\\val\\images\\img000462.jpg: 352x640 (no detections), 46.2ms\n",
      "Speed: 1.9ms preprocess, 46.2ms inference, 0.6ms postprocess per image at shape (1, 3, 352, 640)\n",
      "\n",
      "image 1/1 c:\\Users\\sande\\OneDrive\\Desktop\\IITTP\\2_Asgn\\Sem2\\2_dl\\SemProject\\Automated_Yolo\\dataset\\UAVDT-processed\\val\\images\\img000463.jpg: 352x640 (no detections), 40.9ms\n",
      "Speed: 2.3ms preprocess, 40.9ms inference, 0.5ms postprocess per image at shape (1, 3, 352, 640)\n"
     ]
    },
    {
     "name": "stderr",
     "output_type": "stream",
     "text": [
      " 42%|████▏     | 463/1101 [00:32<00:47, 13.34it/s]"
     ]
    },
    {
     "name": "stdout",
     "output_type": "stream",
     "text": [
      "\n",
      "image 1/1 c:\\Users\\sande\\OneDrive\\Desktop\\IITTP\\2_Asgn\\Sem2\\2_dl\\SemProject\\Automated_Yolo\\dataset\\UAVDT-processed\\val\\images\\img000464.jpg: 352x640 (no detections), 43.7ms\n",
      "Speed: 2.2ms preprocess, 43.7ms inference, 0.5ms postprocess per image at shape (1, 3, 352, 640)\n",
      "\n",
      "image 1/1 c:\\Users\\sande\\OneDrive\\Desktop\\IITTP\\2_Asgn\\Sem2\\2_dl\\SemProject\\Automated_Yolo\\dataset\\UAVDT-processed\\val\\images\\img000465.jpg: 352x640 (no detections), 40.8ms\n",
      "Speed: 1.5ms preprocess, 40.8ms inference, 0.4ms postprocess per image at shape (1, 3, 352, 640)\n"
     ]
    },
    {
     "name": "stderr",
     "output_type": "stream",
     "text": [
      " 42%|████▏     | 465/1101 [00:32<00:45, 13.85it/s]"
     ]
    },
    {
     "name": "stdout",
     "output_type": "stream",
     "text": [
      "\n",
      "image 1/1 c:\\Users\\sande\\OneDrive\\Desktop\\IITTP\\2_Asgn\\Sem2\\2_dl\\SemProject\\Automated_Yolo\\dataset\\UAVDT-processed\\val\\images\\img000466.jpg: 352x640 (no detections), 42.5ms\n",
      "Speed: 1.9ms preprocess, 42.5ms inference, 0.4ms postprocess per image at shape (1, 3, 352, 640)\n",
      "\n",
      "image 1/1 c:\\Users\\sande\\OneDrive\\Desktop\\IITTP\\2_Asgn\\Sem2\\2_dl\\SemProject\\Automated_Yolo\\dataset\\UAVDT-processed\\val\\images\\img000467.jpg: 352x640 (no detections), 51.9ms\n",
      "Speed: 1.5ms preprocess, 51.9ms inference, 0.7ms postprocess per image at shape (1, 3, 352, 640)\n"
     ]
    },
    {
     "name": "stderr",
     "output_type": "stream",
     "text": [
      " 42%|████▏     | 467/1101 [00:32<00:48, 13.14it/s]"
     ]
    },
    {
     "name": "stdout",
     "output_type": "stream",
     "text": [
      "\n",
      "image 1/1 c:\\Users\\sande\\OneDrive\\Desktop\\IITTP\\2_Asgn\\Sem2\\2_dl\\SemProject\\Automated_Yolo\\dataset\\UAVDT-processed\\val\\images\\img000468.jpg: 352x640 (no detections), 49.9ms\n",
      "Speed: 2.1ms preprocess, 49.9ms inference, 0.5ms postprocess per image at shape (1, 3, 352, 640)\n",
      "\n",
      "image 1/1 c:\\Users\\sande\\OneDrive\\Desktop\\IITTP\\2_Asgn\\Sem2\\2_dl\\SemProject\\Automated_Yolo\\dataset\\UAVDT-processed\\val\\images\\img000469.jpg: 352x640 (no detections), 38.3ms\n",
      "Speed: 1.5ms preprocess, 38.3ms inference, 0.4ms postprocess per image at shape (1, 3, 352, 640)\n"
     ]
    },
    {
     "name": "stderr",
     "output_type": "stream",
     "text": [
      " 43%|████▎     | 469/1101 [00:32<00:47, 13.23it/s]"
     ]
    },
    {
     "name": "stdout",
     "output_type": "stream",
     "text": [
      "\n",
      "image 1/1 c:\\Users\\sande\\OneDrive\\Desktop\\IITTP\\2_Asgn\\Sem2\\2_dl\\SemProject\\Automated_Yolo\\dataset\\UAVDT-processed\\val\\images\\img000470.jpg: 352x640 (no detections), 41.7ms\n",
      "Speed: 1.7ms preprocess, 41.7ms inference, 0.4ms postprocess per image at shape (1, 3, 352, 640)\n",
      "\n",
      "image 1/1 c:\\Users\\sande\\OneDrive\\Desktop\\IITTP\\2_Asgn\\Sem2\\2_dl\\SemProject\\Automated_Yolo\\dataset\\UAVDT-processed\\val\\images\\img000471.jpg: 352x640 (no detections), 42.2ms\n",
      "Speed: 1.4ms preprocess, 42.2ms inference, 0.5ms postprocess per image at shape (1, 3, 352, 640)\n"
     ]
    },
    {
     "name": "stderr",
     "output_type": "stream",
     "text": [
      " 43%|████▎     | 471/1101 [00:33<00:49, 12.85it/s]"
     ]
    },
    {
     "name": "stdout",
     "output_type": "stream",
     "text": [
      "\n",
      "image 1/1 c:\\Users\\sande\\OneDrive\\Desktop\\IITTP\\2_Asgn\\Sem2\\2_dl\\SemProject\\Automated_Yolo\\dataset\\UAVDT-processed\\val\\images\\img000472.jpg: 352x640 (no detections), 45.4ms\n",
      "Speed: 2.4ms preprocess, 45.4ms inference, 0.5ms postprocess per image at shape (1, 3, 352, 640)\n",
      "\n",
      "image 1/1 c:\\Users\\sande\\OneDrive\\Desktop\\IITTP\\2_Asgn\\Sem2\\2_dl\\SemProject\\Automated_Yolo\\dataset\\UAVDT-processed\\val\\images\\img000473.jpg: 352x640 (no detections), 42.5ms\n",
      "Speed: 2.3ms preprocess, 42.5ms inference, 0.5ms postprocess per image at shape (1, 3, 352, 640)\n"
     ]
    },
    {
     "name": "stderr",
     "output_type": "stream",
     "text": [
      " 43%|████▎     | 473/1101 [00:33<00:48, 12.88it/s]"
     ]
    },
    {
     "name": "stdout",
     "output_type": "stream",
     "text": [
      "\n",
      "image 1/1 c:\\Users\\sande\\OneDrive\\Desktop\\IITTP\\2_Asgn\\Sem2\\2_dl\\SemProject\\Automated_Yolo\\dataset\\UAVDT-processed\\val\\images\\img000474.jpg: 352x640 (no detections), 47.5ms\n",
      "Speed: 1.8ms preprocess, 47.5ms inference, 0.6ms postprocess per image at shape (1, 3, 352, 640)\n",
      "\n",
      "image 1/1 c:\\Users\\sande\\OneDrive\\Desktop\\IITTP\\2_Asgn\\Sem2\\2_dl\\SemProject\\Automated_Yolo\\dataset\\UAVDT-processed\\val\\images\\img000475.jpg: 352x640 (no detections), 44.2ms\n",
      "Speed: 2.2ms preprocess, 44.2ms inference, 0.4ms postprocess per image at shape (1, 3, 352, 640)\n"
     ]
    },
    {
     "name": "stderr",
     "output_type": "stream",
     "text": [
      " 43%|████▎     | 475/1101 [00:33<00:48, 12.88it/s]"
     ]
    },
    {
     "name": "stdout",
     "output_type": "stream",
     "text": [
      "\n",
      "image 1/1 c:\\Users\\sande\\OneDrive\\Desktop\\IITTP\\2_Asgn\\Sem2\\2_dl\\SemProject\\Automated_Yolo\\dataset\\UAVDT-processed\\val\\images\\img000476.jpg: 352x640 (no detections), 61.9ms\n",
      "Speed: 1.8ms preprocess, 61.9ms inference, 0.6ms postprocess per image at shape (1, 3, 352, 640)\n",
      "\n",
      "image 1/1 c:\\Users\\sande\\OneDrive\\Desktop\\IITTP\\2_Asgn\\Sem2\\2_dl\\SemProject\\Automated_Yolo\\dataset\\UAVDT-processed\\val\\images\\img000477.jpg: 352x640 (no detections), 42.3ms\n",
      "Speed: 1.7ms preprocess, 42.3ms inference, 0.5ms postprocess per image at shape (1, 3, 352, 640)\n"
     ]
    },
    {
     "name": "stderr",
     "output_type": "stream",
     "text": [
      " 43%|████▎     | 477/1101 [00:33<00:50, 12.36it/s]"
     ]
    },
    {
     "name": "stdout",
     "output_type": "stream",
     "text": [
      "\n",
      "image 1/1 c:\\Users\\sande\\OneDrive\\Desktop\\IITTP\\2_Asgn\\Sem2\\2_dl\\SemProject\\Automated_Yolo\\dataset\\UAVDT-processed\\val\\images\\img000478.jpg: 352x640 (no detections), 43.8ms\n",
      "Speed: 1.6ms preprocess, 43.8ms inference, 0.5ms postprocess per image at shape (1, 3, 352, 640)\n",
      "\n",
      "image 1/1 c:\\Users\\sande\\OneDrive\\Desktop\\IITTP\\2_Asgn\\Sem2\\2_dl\\SemProject\\Automated_Yolo\\dataset\\UAVDT-processed\\val\\images\\img000479.jpg: 352x640 (no detections), 40.8ms\n",
      "Speed: 1.5ms preprocess, 40.8ms inference, 0.5ms postprocess per image at shape (1, 3, 352, 640)\n"
     ]
    },
    {
     "name": "stderr",
     "output_type": "stream",
     "text": [
      " 44%|████▎     | 479/1101 [00:33<00:47, 13.08it/s]"
     ]
    },
    {
     "name": "stdout",
     "output_type": "stream",
     "text": [
      "\n",
      "image 1/1 c:\\Users\\sande\\OneDrive\\Desktop\\IITTP\\2_Asgn\\Sem2\\2_dl\\SemProject\\Automated_Yolo\\dataset\\UAVDT-processed\\val\\images\\img000480.jpg: 352x640 (no detections), 45.4ms\n",
      "Speed: 1.6ms preprocess, 45.4ms inference, 0.5ms postprocess per image at shape (1, 3, 352, 640)\n",
      "\n",
      "image 1/1 c:\\Users\\sande\\OneDrive\\Desktop\\IITTP\\2_Asgn\\Sem2\\2_dl\\SemProject\\Automated_Yolo\\dataset\\UAVDT-processed\\val\\images\\img000481.jpg: 352x640 (no detections), 41.2ms\n",
      "Speed: 2.3ms preprocess, 41.2ms inference, 0.4ms postprocess per image at shape (1, 3, 352, 640)\n"
     ]
    },
    {
     "name": "stderr",
     "output_type": "stream",
     "text": [
      " 44%|████▎     | 481/1101 [00:33<00:47, 13.05it/s]"
     ]
    },
    {
     "name": "stdout",
     "output_type": "stream",
     "text": [
      "\n",
      "image 1/1 c:\\Users\\sande\\OneDrive\\Desktop\\IITTP\\2_Asgn\\Sem2\\2_dl\\SemProject\\Automated_Yolo\\dataset\\UAVDT-processed\\val\\images\\img000482.jpg: 352x640 (no detections), 42.2ms\n",
      "Speed: 2.3ms preprocess, 42.2ms inference, 0.4ms postprocess per image at shape (1, 3, 352, 640)\n",
      "\n",
      "image 1/1 c:\\Users\\sande\\OneDrive\\Desktop\\IITTP\\2_Asgn\\Sem2\\2_dl\\SemProject\\Automated_Yolo\\dataset\\UAVDT-processed\\val\\images\\img000483.jpg: 352x640 (no detections), 39.9ms\n",
      "Speed: 1.5ms preprocess, 39.9ms inference, 0.5ms postprocess per image at shape (1, 3, 352, 640)\n"
     ]
    },
    {
     "name": "stderr",
     "output_type": "stream",
     "text": [
      " 44%|████▍     | 483/1101 [00:33<00:46, 13.24it/s]"
     ]
    },
    {
     "name": "stdout",
     "output_type": "stream",
     "text": [
      "\n",
      "image 1/1 c:\\Users\\sande\\OneDrive\\Desktop\\IITTP\\2_Asgn\\Sem2\\2_dl\\SemProject\\Automated_Yolo\\dataset\\UAVDT-processed\\val\\images\\img000484.jpg: 352x640 (no detections), 54.4ms\n",
      "Speed: 2.7ms preprocess, 54.4ms inference, 0.5ms postprocess per image at shape (1, 3, 352, 640)\n",
      "\n",
      "image 1/1 c:\\Users\\sande\\OneDrive\\Desktop\\IITTP\\2_Asgn\\Sem2\\2_dl\\SemProject\\Automated_Yolo\\dataset\\UAVDT-processed\\val\\images\\img000485.jpg: 352x640 (no detections), 44.8ms\n",
      "Speed: 2.0ms preprocess, 44.8ms inference, 0.6ms postprocess per image at shape (1, 3, 352, 640)\n"
     ]
    },
    {
     "name": "stderr",
     "output_type": "stream",
     "text": [
      " 44%|████▍     | 485/1101 [00:34<00:47, 13.02it/s]"
     ]
    },
    {
     "name": "stdout",
     "output_type": "stream",
     "text": [
      "\n",
      "image 1/1 c:\\Users\\sande\\OneDrive\\Desktop\\IITTP\\2_Asgn\\Sem2\\2_dl\\SemProject\\Automated_Yolo\\dataset\\UAVDT-processed\\val\\images\\img000486.jpg: 352x640 (no detections), 45.4ms\n",
      "Speed: 1.6ms preprocess, 45.4ms inference, 0.5ms postprocess per image at shape (1, 3, 352, 640)\n",
      "\n",
      "image 1/1 c:\\Users\\sande\\OneDrive\\Desktop\\IITTP\\2_Asgn\\Sem2\\2_dl\\SemProject\\Automated_Yolo\\dataset\\UAVDT-processed\\val\\images\\img000487.jpg: 352x640 (no detections), 37.9ms\n",
      "Speed: 2.2ms preprocess, 37.9ms inference, 0.4ms postprocess per image at shape (1, 3, 352, 640)\n"
     ]
    },
    {
     "name": "stderr",
     "output_type": "stream",
     "text": [
      " 44%|████▍     | 487/1101 [00:34<00:46, 13.21it/s]"
     ]
    },
    {
     "name": "stdout",
     "output_type": "stream",
     "text": [
      "\n",
      "image 1/1 c:\\Users\\sande\\OneDrive\\Desktop\\IITTP\\2_Asgn\\Sem2\\2_dl\\SemProject\\Automated_Yolo\\dataset\\UAVDT-processed\\val\\images\\img000488.jpg: 352x640 (no detections), 45.4ms\n",
      "Speed: 1.5ms preprocess, 45.4ms inference, 0.6ms postprocess per image at shape (1, 3, 352, 640)\n",
      "\n",
      "image 1/1 c:\\Users\\sande\\OneDrive\\Desktop\\IITTP\\2_Asgn\\Sem2\\2_dl\\SemProject\\Automated_Yolo\\dataset\\UAVDT-processed\\val\\images\\img000489.jpg: 352x640 (no detections), 44.8ms\n",
      "Speed: 2.4ms preprocess, 44.8ms inference, 0.6ms postprocess per image at shape (1, 3, 352, 640)\n"
     ]
    },
    {
     "name": "stderr",
     "output_type": "stream",
     "text": [
      " 44%|████▍     | 489/1101 [00:34<00:45, 13.42it/s]"
     ]
    },
    {
     "name": "stdout",
     "output_type": "stream",
     "text": [
      "\n",
      "image 1/1 c:\\Users\\sande\\OneDrive\\Desktop\\IITTP\\2_Asgn\\Sem2\\2_dl\\SemProject\\Automated_Yolo\\dataset\\UAVDT-processed\\val\\images\\img000490.jpg: 352x640 (no detections), 44.5ms\n",
      "Speed: 2.5ms preprocess, 44.5ms inference, 0.5ms postprocess per image at shape (1, 3, 352, 640)\n",
      "\n",
      "image 1/1 c:\\Users\\sande\\OneDrive\\Desktop\\IITTP\\2_Asgn\\Sem2\\2_dl\\SemProject\\Automated_Yolo\\dataset\\UAVDT-processed\\val\\images\\img000491.jpg: 352x640 (no detections), 40.3ms\n",
      "Speed: 2.0ms preprocess, 40.3ms inference, 0.5ms postprocess per image at shape (1, 3, 352, 640)\n"
     ]
    },
    {
     "name": "stderr",
     "output_type": "stream",
     "text": [
      " 45%|████▍     | 491/1101 [00:34<00:45, 13.32it/s]"
     ]
    },
    {
     "name": "stdout",
     "output_type": "stream",
     "text": [
      "\n",
      "image 1/1 c:\\Users\\sande\\OneDrive\\Desktop\\IITTP\\2_Asgn\\Sem2\\2_dl\\SemProject\\Automated_Yolo\\dataset\\UAVDT-processed\\val\\images\\img000492.jpg: 352x640 (no detections), 49.1ms\n",
      "Speed: 1.7ms preprocess, 49.1ms inference, 0.6ms postprocess per image at shape (1, 3, 352, 640)\n",
      "\n",
      "image 1/1 c:\\Users\\sande\\OneDrive\\Desktop\\IITTP\\2_Asgn\\Sem2\\2_dl\\SemProject\\Automated_Yolo\\dataset\\UAVDT-processed\\val\\images\\img000493.jpg: 352x640 (no detections), 41.2ms\n",
      "Speed: 1.8ms preprocess, 41.2ms inference, 0.5ms postprocess per image at shape (1, 3, 352, 640)\n"
     ]
    },
    {
     "name": "stderr",
     "output_type": "stream",
     "text": [
      " 45%|████▍     | 493/1101 [00:34<00:45, 13.23it/s]"
     ]
    },
    {
     "name": "stdout",
     "output_type": "stream",
     "text": [
      "\n",
      "image 1/1 c:\\Users\\sande\\OneDrive\\Desktop\\IITTP\\2_Asgn\\Sem2\\2_dl\\SemProject\\Automated_Yolo\\dataset\\UAVDT-processed\\val\\images\\img000494.jpg: 352x640 (no detections), 44.4ms\n",
      "Speed: 1.9ms preprocess, 44.4ms inference, 0.4ms postprocess per image at shape (1, 3, 352, 640)\n",
      "\n",
      "image 1/1 c:\\Users\\sande\\OneDrive\\Desktop\\IITTP\\2_Asgn\\Sem2\\2_dl\\SemProject\\Automated_Yolo\\dataset\\UAVDT-processed\\val\\images\\img000495.jpg: 352x640 (no detections), 39.6ms\n",
      "Speed: 1.5ms preprocess, 39.6ms inference, 0.4ms postprocess per image at shape (1, 3, 352, 640)\n"
     ]
    },
    {
     "name": "stderr",
     "output_type": "stream",
     "text": [
      " 45%|████▍     | 495/1101 [00:34<00:45, 13.38it/s]"
     ]
    },
    {
     "name": "stdout",
     "output_type": "stream",
     "text": [
      "\n",
      "image 1/1 c:\\Users\\sande\\OneDrive\\Desktop\\IITTP\\2_Asgn\\Sem2\\2_dl\\SemProject\\Automated_Yolo\\dataset\\UAVDT-processed\\val\\images\\img000496.jpg: 352x640 (no detections), 42.4ms\n",
      "Speed: 2.1ms preprocess, 42.4ms inference, 0.6ms postprocess per image at shape (1, 3, 352, 640)\n",
      "\n",
      "image 1/1 c:\\Users\\sande\\OneDrive\\Desktop\\IITTP\\2_Asgn\\Sem2\\2_dl\\SemProject\\Automated_Yolo\\dataset\\UAVDT-processed\\val\\images\\img000497.jpg: 352x640 (no detections), 40.0ms\n",
      "Speed: 2.3ms preprocess, 40.0ms inference, 0.6ms postprocess per image at shape (1, 3, 352, 640)\n"
     ]
    },
    {
     "name": "stderr",
     "output_type": "stream",
     "text": [
      " 45%|████▌     | 497/1101 [00:35<00:45, 13.22it/s]"
     ]
    },
    {
     "name": "stdout",
     "output_type": "stream",
     "text": [
      "\n",
      "image 1/1 c:\\Users\\sande\\OneDrive\\Desktop\\IITTP\\2_Asgn\\Sem2\\2_dl\\SemProject\\Automated_Yolo\\dataset\\UAVDT-processed\\val\\images\\img000498.jpg: 352x640 (no detections), 44.7ms\n",
      "Speed: 1.6ms preprocess, 44.7ms inference, 0.5ms postprocess per image at shape (1, 3, 352, 640)\n",
      "\n",
      "image 1/1 c:\\Users\\sande\\OneDrive\\Desktop\\IITTP\\2_Asgn\\Sem2\\2_dl\\SemProject\\Automated_Yolo\\dataset\\UAVDT-processed\\val\\images\\img000499.jpg: 352x640 (no detections), 38.0ms\n",
      "Speed: 1.5ms preprocess, 38.0ms inference, 0.4ms postprocess per image at shape (1, 3, 352, 640)\n"
     ]
    },
    {
     "name": "stderr",
     "output_type": "stream",
     "text": [
      " 45%|████▌     | 499/1101 [00:35<00:44, 13.44it/s]"
     ]
    },
    {
     "name": "stdout",
     "output_type": "stream",
     "text": [
      "\n",
      "image 1/1 c:\\Users\\sande\\OneDrive\\Desktop\\IITTP\\2_Asgn\\Sem2\\2_dl\\SemProject\\Automated_Yolo\\dataset\\UAVDT-processed\\val\\images\\img000500.jpg: 352x640 (no detections), 43.0ms\n",
      "Speed: 2.2ms preprocess, 43.0ms inference, 0.6ms postprocess per image at shape (1, 3, 352, 640)\n",
      "\n",
      "image 1/1 c:\\Users\\sande\\OneDrive\\Desktop\\IITTP\\2_Asgn\\Sem2\\2_dl\\SemProject\\Automated_Yolo\\dataset\\UAVDT-processed\\val\\images\\img000501.jpg: 352x640 (no detections), 37.4ms\n",
      "Speed: 1.5ms preprocess, 37.4ms inference, 0.4ms postprocess per image at shape (1, 3, 352, 640)\n"
     ]
    },
    {
     "name": "stderr",
     "output_type": "stream",
     "text": [
      " 46%|████▌     | 501/1101 [00:35<00:44, 13.53it/s]"
     ]
    },
    {
     "name": "stdout",
     "output_type": "stream",
     "text": [
      "\n",
      "image 1/1 c:\\Users\\sande\\OneDrive\\Desktop\\IITTP\\2_Asgn\\Sem2\\2_dl\\SemProject\\Automated_Yolo\\dataset\\UAVDT-processed\\val\\images\\img000502.jpg: 352x640 (no detections), 35.5ms\n",
      "Speed: 1.4ms preprocess, 35.5ms inference, 0.6ms postprocess per image at shape (1, 3, 352, 640)\n",
      "\n",
      "image 1/1 c:\\Users\\sande\\OneDrive\\Desktop\\IITTP\\2_Asgn\\Sem2\\2_dl\\SemProject\\Automated_Yolo\\dataset\\UAVDT-processed\\val\\images\\img000503.jpg: 352x640 (no detections), 38.6ms\n",
      "Speed: 2.0ms preprocess, 38.6ms inference, 0.4ms postprocess per image at shape (1, 3, 352, 640)\n"
     ]
    },
    {
     "name": "stderr",
     "output_type": "stream",
     "text": [
      " 46%|████▌     | 503/1101 [00:35<00:41, 14.42it/s]"
     ]
    },
    {
     "name": "stdout",
     "output_type": "stream",
     "text": [
      "\n",
      "image 1/1 c:\\Users\\sande\\OneDrive\\Desktop\\IITTP\\2_Asgn\\Sem2\\2_dl\\SemProject\\Automated_Yolo\\dataset\\UAVDT-processed\\val\\images\\img000504.jpg: 352x640 (no detections), 37.4ms\n",
      "Speed: 1.5ms preprocess, 37.4ms inference, 0.4ms postprocess per image at shape (1, 3, 352, 640)\n",
      "\n",
      "image 1/1 c:\\Users\\sande\\OneDrive\\Desktop\\IITTP\\2_Asgn\\Sem2\\2_dl\\SemProject\\Automated_Yolo\\dataset\\UAVDT-processed\\val\\images\\img000505.jpg: 352x640 (no detections), 39.2ms\n",
      "Speed: 1.6ms preprocess, 39.2ms inference, 0.5ms postprocess per image at shape (1, 3, 352, 640)\n"
     ]
    },
    {
     "name": "stderr",
     "output_type": "stream",
     "text": [
      " 46%|████▌     | 505/1101 [00:35<00:39, 14.95it/s]"
     ]
    },
    {
     "name": "stdout",
     "output_type": "stream",
     "text": [
      "\n",
      "image 1/1 c:\\Users\\sande\\OneDrive\\Desktop\\IITTP\\2_Asgn\\Sem2\\2_dl\\SemProject\\Automated_Yolo\\dataset\\UAVDT-processed\\val\\images\\img000506.jpg: 352x640 (no detections), 36.4ms\n",
      "Speed: 1.8ms preprocess, 36.4ms inference, 0.4ms postprocess per image at shape (1, 3, 352, 640)\n",
      "\n",
      "image 1/1 c:\\Users\\sande\\OneDrive\\Desktop\\IITTP\\2_Asgn\\Sem2\\2_dl\\SemProject\\Automated_Yolo\\dataset\\UAVDT-processed\\val\\images\\img000507.jpg: 352x640 (no detections), 36.2ms\n",
      "Speed: 1.7ms preprocess, 36.2ms inference, 0.4ms postprocess per image at shape (1, 3, 352, 640)\n"
     ]
    },
    {
     "name": "stderr",
     "output_type": "stream",
     "text": [
      " 46%|████▌     | 507/1101 [00:35<00:39, 14.86it/s]"
     ]
    },
    {
     "name": "stdout",
     "output_type": "stream",
     "text": [
      "\n",
      "image 1/1 c:\\Users\\sande\\OneDrive\\Desktop\\IITTP\\2_Asgn\\Sem2\\2_dl\\SemProject\\Automated_Yolo\\dataset\\UAVDT-processed\\val\\images\\img000508.jpg: 352x640 (no detections), 53.1ms\n",
      "Speed: 5.5ms preprocess, 53.1ms inference, 0.4ms postprocess per image at shape (1, 3, 352, 640)\n",
      "\n",
      "image 1/1 c:\\Users\\sande\\OneDrive\\Desktop\\IITTP\\2_Asgn\\Sem2\\2_dl\\SemProject\\Automated_Yolo\\dataset\\UAVDT-processed\\val\\images\\img000509.jpg: 352x640 (no detections), 35.9ms\n",
      "Speed: 1.5ms preprocess, 35.9ms inference, 0.5ms postprocess per image at shape (1, 3, 352, 640)\n"
     ]
    },
    {
     "name": "stderr",
     "output_type": "stream",
     "text": [
      " 46%|████▌     | 509/1101 [00:35<00:40, 14.60it/s]"
     ]
    },
    {
     "name": "stdout",
     "output_type": "stream",
     "text": [
      "\n",
      "image 1/1 c:\\Users\\sande\\OneDrive\\Desktop\\IITTP\\2_Asgn\\Sem2\\2_dl\\SemProject\\Automated_Yolo\\dataset\\UAVDT-processed\\val\\images\\img000510.jpg: 352x640 (no detections), 37.5ms\n",
      "Speed: 1.5ms preprocess, 37.5ms inference, 0.4ms postprocess per image at shape (1, 3, 352, 640)\n",
      "\n",
      "image 1/1 c:\\Users\\sande\\OneDrive\\Desktop\\IITTP\\2_Asgn\\Sem2\\2_dl\\SemProject\\Automated_Yolo\\dataset\\UAVDT-processed\\val\\images\\img000511.jpg: 352x640 (no detections), 36.4ms\n",
      "Speed: 1.4ms preprocess, 36.4ms inference, 0.4ms postprocess per image at shape (1, 3, 352, 640)\n"
     ]
    },
    {
     "name": "stderr",
     "output_type": "stream",
     "text": [
      " 46%|████▋     | 511/1101 [00:35<00:40, 14.50it/s]"
     ]
    },
    {
     "name": "stdout",
     "output_type": "stream",
     "text": [
      "\n",
      "image 1/1 c:\\Users\\sande\\OneDrive\\Desktop\\IITTP\\2_Asgn\\Sem2\\2_dl\\SemProject\\Automated_Yolo\\dataset\\UAVDT-processed\\val\\images\\img000512.jpg: 352x640 (no detections), 41.6ms\n",
      "Speed: 2.2ms preprocess, 41.6ms inference, 0.5ms postprocess per image at shape (1, 3, 352, 640)\n",
      "\n",
      "image 1/1 c:\\Users\\sande\\OneDrive\\Desktop\\IITTP\\2_Asgn\\Sem2\\2_dl\\SemProject\\Automated_Yolo\\dataset\\UAVDT-processed\\val\\images\\img000513.jpg: 352x640 (no detections), 37.2ms\n",
      "Speed: 1.9ms preprocess, 37.2ms inference, 0.6ms postprocess per image at shape (1, 3, 352, 640)\n"
     ]
    },
    {
     "name": "stderr",
     "output_type": "stream",
     "text": [
      " 47%|████▋     | 513/1101 [00:36<00:39, 14.94it/s]"
     ]
    },
    {
     "name": "stdout",
     "output_type": "stream",
     "text": [
      "\n",
      "image 1/1 c:\\Users\\sande\\OneDrive\\Desktop\\IITTP\\2_Asgn\\Sem2\\2_dl\\SemProject\\Automated_Yolo\\dataset\\UAVDT-processed\\val\\images\\img000514.jpg: 352x640 (no detections), 37.9ms\n",
      "Speed: 1.4ms preprocess, 37.9ms inference, 0.4ms postprocess per image at shape (1, 3, 352, 640)\n",
      "\n",
      "image 1/1 c:\\Users\\sande\\OneDrive\\Desktop\\IITTP\\2_Asgn\\Sem2\\2_dl\\SemProject\\Automated_Yolo\\dataset\\UAVDT-processed\\val\\images\\img000515.jpg: 352x640 (no detections), 38.5ms\n",
      "Speed: 1.4ms preprocess, 38.5ms inference, 0.5ms postprocess per image at shape (1, 3, 352, 640)\n"
     ]
    },
    {
     "name": "stderr",
     "output_type": "stream",
     "text": [
      " 47%|████▋     | 515/1101 [00:36<00:39, 14.80it/s]"
     ]
    },
    {
     "name": "stdout",
     "output_type": "stream",
     "text": [
      "\n",
      "image 1/1 c:\\Users\\sande\\OneDrive\\Desktop\\IITTP\\2_Asgn\\Sem2\\2_dl\\SemProject\\Automated_Yolo\\dataset\\UAVDT-processed\\val\\images\\img000516.jpg: 352x640 (no detections), 40.6ms\n",
      "Speed: 1.4ms preprocess, 40.6ms inference, 0.5ms postprocess per image at shape (1, 3, 352, 640)\n",
      "\n",
      "image 1/1 c:\\Users\\sande\\OneDrive\\Desktop\\IITTP\\2_Asgn\\Sem2\\2_dl\\SemProject\\Automated_Yolo\\dataset\\UAVDT-processed\\val\\images\\img000517.jpg: 352x640 (no detections), 37.0ms\n",
      "Speed: 2.1ms preprocess, 37.0ms inference, 0.5ms postprocess per image at shape (1, 3, 352, 640)\n"
     ]
    },
    {
     "name": "stderr",
     "output_type": "stream",
     "text": [
      " 47%|████▋     | 517/1101 [00:36<00:40, 14.50it/s]"
     ]
    },
    {
     "name": "stdout",
     "output_type": "stream",
     "text": [
      "\n",
      "image 1/1 c:\\Users\\sande\\OneDrive\\Desktop\\IITTP\\2_Asgn\\Sem2\\2_dl\\SemProject\\Automated_Yolo\\dataset\\UAVDT-processed\\val\\images\\img000518.jpg: 352x640 (no detections), 43.2ms\n",
      "Speed: 1.8ms preprocess, 43.2ms inference, 0.7ms postprocess per image at shape (1, 3, 352, 640)\n",
      "\n",
      "image 1/1 c:\\Users\\sande\\OneDrive\\Desktop\\IITTP\\2_Asgn\\Sem2\\2_dl\\SemProject\\Automated_Yolo\\dataset\\UAVDT-processed\\val\\images\\img000519.jpg: 352x640 (no detections), 36.2ms\n",
      "Speed: 1.4ms preprocess, 36.2ms inference, 0.4ms postprocess per image at shape (1, 3, 352, 640)\n"
     ]
    },
    {
     "name": "stderr",
     "output_type": "stream",
     "text": [
      " 47%|████▋     | 519/1101 [00:36<00:41, 13.96it/s]"
     ]
    },
    {
     "name": "stdout",
     "output_type": "stream",
     "text": [
      "\n",
      "image 1/1 c:\\Users\\sande\\OneDrive\\Desktop\\IITTP\\2_Asgn\\Sem2\\2_dl\\SemProject\\Automated_Yolo\\dataset\\UAVDT-processed\\val\\images\\img000520.jpg: 352x640 (no detections), 35.5ms\n",
      "Speed: 1.4ms preprocess, 35.5ms inference, 0.4ms postprocess per image at shape (1, 3, 352, 640)\n",
      "\n",
      "image 1/1 c:\\Users\\sande\\OneDrive\\Desktop\\IITTP\\2_Asgn\\Sem2\\2_dl\\SemProject\\Automated_Yolo\\dataset\\UAVDT-processed\\val\\images\\img000521.jpg: 352x640 (no detections), 39.9ms\n",
      "Speed: 2.2ms preprocess, 39.9ms inference, 0.5ms postprocess per image at shape (1, 3, 352, 640)\n"
     ]
    },
    {
     "name": "stderr",
     "output_type": "stream",
     "text": [
      " 47%|████▋     | 521/1101 [00:36<00:39, 14.78it/s]"
     ]
    },
    {
     "name": "stdout",
     "output_type": "stream",
     "text": [
      "\n",
      "image 1/1 c:\\Users\\sande\\OneDrive\\Desktop\\IITTP\\2_Asgn\\Sem2\\2_dl\\SemProject\\Automated_Yolo\\dataset\\UAVDT-processed\\val\\images\\img000522.jpg: 352x640 (no detections), 55.3ms\n",
      "Speed: 1.4ms preprocess, 55.3ms inference, 0.5ms postprocess per image at shape (1, 3, 352, 640)\n",
      "\n",
      "image 1/1 c:\\Users\\sande\\OneDrive\\Desktop\\IITTP\\2_Asgn\\Sem2\\2_dl\\SemProject\\Automated_Yolo\\dataset\\UAVDT-processed\\val\\images\\img000523.jpg: 352x640 (no detections), 35.4ms\n",
      "Speed: 1.7ms preprocess, 35.4ms inference, 0.4ms postprocess per image at shape (1, 3, 352, 640)\n"
     ]
    },
    {
     "name": "stderr",
     "output_type": "stream",
     "text": [
      " 48%|████▊     | 523/1101 [00:36<00:40, 14.26it/s]"
     ]
    },
    {
     "name": "stdout",
     "output_type": "stream",
     "text": [
      "\n",
      "image 1/1 c:\\Users\\sande\\OneDrive\\Desktop\\IITTP\\2_Asgn\\Sem2\\2_dl\\SemProject\\Automated_Yolo\\dataset\\UAVDT-processed\\val\\images\\img000524.jpg: 352x640 (no detections), 41.2ms\n",
      "Speed: 2.2ms preprocess, 41.2ms inference, 0.4ms postprocess per image at shape (1, 3, 352, 640)\n",
      "\n",
      "image 1/1 c:\\Users\\sande\\OneDrive\\Desktop\\IITTP\\2_Asgn\\Sem2\\2_dl\\SemProject\\Automated_Yolo\\dataset\\UAVDT-processed\\val\\images\\img000525.jpg: 352x640 (no detections), 37.5ms\n",
      "Speed: 1.5ms preprocess, 37.5ms inference, 0.4ms postprocess per image at shape (1, 3, 352, 640)\n"
     ]
    },
    {
     "name": "stderr",
     "output_type": "stream",
     "text": [
      " 48%|████▊     | 525/1101 [00:36<00:39, 14.69it/s]"
     ]
    },
    {
     "name": "stdout",
     "output_type": "stream",
     "text": [
      "\n",
      "image 1/1 c:\\Users\\sande\\OneDrive\\Desktop\\IITTP\\2_Asgn\\Sem2\\2_dl\\SemProject\\Automated_Yolo\\dataset\\UAVDT-processed\\val\\images\\img000526.jpg: 352x640 (no detections), 42.4ms\n",
      "Speed: 2.2ms preprocess, 42.4ms inference, 0.6ms postprocess per image at shape (1, 3, 352, 640)\n",
      "\n",
      "image 1/1 c:\\Users\\sande\\OneDrive\\Desktop\\IITTP\\2_Asgn\\Sem2\\2_dl\\SemProject\\Automated_Yolo\\dataset\\UAVDT-processed\\val\\images\\img000527.jpg: 352x640 (no detections), 36.3ms\n",
      "Speed: 1.4ms preprocess, 36.3ms inference, 0.4ms postprocess per image at shape (1, 3, 352, 640)\n"
     ]
    },
    {
     "name": "stderr",
     "output_type": "stream",
     "text": [
      " 48%|████▊     | 527/1101 [00:37<00:39, 14.57it/s]"
     ]
    },
    {
     "name": "stdout",
     "output_type": "stream",
     "text": [
      "\n",
      "image 1/1 c:\\Users\\sande\\OneDrive\\Desktop\\IITTP\\2_Asgn\\Sem2\\2_dl\\SemProject\\Automated_Yolo\\dataset\\UAVDT-processed\\val\\images\\img000528.jpg: 352x640 (no detections), 36.9ms\n",
      "Speed: 1.9ms preprocess, 36.9ms inference, 0.5ms postprocess per image at shape (1, 3, 352, 640)\n",
      "\n",
      "image 1/1 c:\\Users\\sande\\OneDrive\\Desktop\\IITTP\\2_Asgn\\Sem2\\2_dl\\SemProject\\Automated_Yolo\\dataset\\UAVDT-processed\\val\\images\\img000529.jpg: 352x640 (no detections), 36.9ms\n",
      "Speed: 1.4ms preprocess, 36.9ms inference, 0.5ms postprocess per image at shape (1, 3, 352, 640)\n"
     ]
    },
    {
     "name": "stderr",
     "output_type": "stream",
     "text": [
      " 48%|████▊     | 529/1101 [00:37<00:39, 14.51it/s]"
     ]
    },
    {
     "name": "stdout",
     "output_type": "stream",
     "text": [
      "\n",
      "image 1/1 c:\\Users\\sande\\OneDrive\\Desktop\\IITTP\\2_Asgn\\Sem2\\2_dl\\SemProject\\Automated_Yolo\\dataset\\UAVDT-processed\\val\\images\\img000530.jpg: 352x640 (no detections), 37.4ms\n",
      "Speed: 1.5ms preprocess, 37.4ms inference, 0.5ms postprocess per image at shape (1, 3, 352, 640)\n",
      "\n",
      "image 1/1 c:\\Users\\sande\\OneDrive\\Desktop\\IITTP\\2_Asgn\\Sem2\\2_dl\\SemProject\\Automated_Yolo\\dataset\\UAVDT-processed\\val\\images\\img000531.jpg: 352x640 (no detections), 39.2ms\n",
      "Speed: 1.7ms preprocess, 39.2ms inference, 0.5ms postprocess per image at shape (1, 3, 352, 640)\n"
     ]
    },
    {
     "name": "stderr",
     "output_type": "stream",
     "text": [
      " 48%|████▊     | 531/1101 [00:37<00:38, 14.66it/s]"
     ]
    },
    {
     "name": "stdout",
     "output_type": "stream",
     "text": [
      "\n",
      "image 1/1 c:\\Users\\sande\\OneDrive\\Desktop\\IITTP\\2_Asgn\\Sem2\\2_dl\\SemProject\\Automated_Yolo\\dataset\\UAVDT-processed\\val\\images\\img000532.jpg: 352x640 (no detections), 34.5ms\n",
      "Speed: 1.4ms preprocess, 34.5ms inference, 0.4ms postprocess per image at shape (1, 3, 352, 640)\n",
      "\n",
      "image 1/1 c:\\Users\\sande\\OneDrive\\Desktop\\IITTP\\2_Asgn\\Sem2\\2_dl\\SemProject\\Automated_Yolo\\dataset\\UAVDT-processed\\val\\images\\img000533.jpg: 352x640 (no detections), 38.4ms\n",
      "Speed: 1.6ms preprocess, 38.4ms inference, 0.5ms postprocess per image at shape (1, 3, 352, 640)\n"
     ]
    },
    {
     "name": "stderr",
     "output_type": "stream",
     "text": [
      " 48%|████▊     | 533/1101 [00:37<00:38, 14.93it/s]"
     ]
    },
    {
     "name": "stdout",
     "output_type": "stream",
     "text": [
      "\n",
      "image 1/1 c:\\Users\\sande\\OneDrive\\Desktop\\IITTP\\2_Asgn\\Sem2\\2_dl\\SemProject\\Automated_Yolo\\dataset\\UAVDT-processed\\val\\images\\img000534.jpg: 352x640 (no detections), 36.7ms\n",
      "Speed: 1.5ms preprocess, 36.7ms inference, 0.4ms postprocess per image at shape (1, 3, 352, 640)\n",
      "\n",
      "image 1/1 c:\\Users\\sande\\OneDrive\\Desktop\\IITTP\\2_Asgn\\Sem2\\2_dl\\SemProject\\Automated_Yolo\\dataset\\UAVDT-processed\\val\\images\\img000535.jpg: 352x640 (no detections), 59.0ms\n",
      "Speed: 1.4ms preprocess, 59.0ms inference, 0.9ms postprocess per image at shape (1, 3, 352, 640)\n"
     ]
    },
    {
     "name": "stderr",
     "output_type": "stream",
     "text": [
      " 49%|████▊     | 535/1101 [00:37<00:39, 14.46it/s]"
     ]
    },
    {
     "name": "stdout",
     "output_type": "stream",
     "text": [
      "\n",
      "image 1/1 c:\\Users\\sande\\OneDrive\\Desktop\\IITTP\\2_Asgn\\Sem2\\2_dl\\SemProject\\Automated_Yolo\\dataset\\UAVDT-processed\\val\\images\\img000536.jpg: 352x640 (no detections), 45.2ms\n",
      "Speed: 1.7ms preprocess, 45.2ms inference, 0.5ms postprocess per image at shape (1, 3, 352, 640)\n",
      "\n",
      "image 1/1 c:\\Users\\sande\\OneDrive\\Desktop\\IITTP\\2_Asgn\\Sem2\\2_dl\\SemProject\\Automated_Yolo\\dataset\\UAVDT-processed\\val\\images\\img000537.jpg: 352x640 (no detections), 37.9ms\n",
      "Speed: 1.5ms preprocess, 37.9ms inference, 0.5ms postprocess per image at shape (1, 3, 352, 640)\n"
     ]
    },
    {
     "name": "stderr",
     "output_type": "stream",
     "text": [
      " 49%|████▉     | 537/1101 [00:37<00:39, 14.34it/s]"
     ]
    },
    {
     "name": "stdout",
     "output_type": "stream",
     "text": [
      "\n",
      "image 1/1 c:\\Users\\sande\\OneDrive\\Desktop\\IITTP\\2_Asgn\\Sem2\\2_dl\\SemProject\\Automated_Yolo\\dataset\\UAVDT-processed\\val\\images\\img000538.jpg: 352x640 (no detections), 38.1ms\n",
      "Speed: 1.7ms preprocess, 38.1ms inference, 0.5ms postprocess per image at shape (1, 3, 352, 640)\n",
      "\n",
      "image 1/1 c:\\Users\\sande\\OneDrive\\Desktop\\IITTP\\2_Asgn\\Sem2\\2_dl\\SemProject\\Automated_Yolo\\dataset\\UAVDT-processed\\val\\images\\img000539.jpg: 352x640 (no detections), 35.1ms\n",
      "Speed: 1.4ms preprocess, 35.1ms inference, 0.4ms postprocess per image at shape (1, 3, 352, 640)\n"
     ]
    },
    {
     "name": "stderr",
     "output_type": "stream",
     "text": [
      " 49%|████▉     | 539/1101 [00:37<00:38, 14.74it/s]"
     ]
    },
    {
     "name": "stdout",
     "output_type": "stream",
     "text": [
      "\n",
      "image 1/1 c:\\Users\\sande\\OneDrive\\Desktop\\IITTP\\2_Asgn\\Sem2\\2_dl\\SemProject\\Automated_Yolo\\dataset\\UAVDT-processed\\val\\images\\img000540.jpg: 352x640 (no detections), 37.4ms\n",
      "Speed: 2.2ms preprocess, 37.4ms inference, 0.4ms postprocess per image at shape (1, 3, 352, 640)\n",
      "\n",
      "image 1/1 c:\\Users\\sande\\OneDrive\\Desktop\\IITTP\\2_Asgn\\Sem2\\2_dl\\SemProject\\Automated_Yolo\\dataset\\UAVDT-processed\\val\\images\\img000541.jpg: 352x640 (no detections), 39.1ms\n",
      "Speed: 1.4ms preprocess, 39.1ms inference, 0.5ms postprocess per image at shape (1, 3, 352, 640)\n"
     ]
    },
    {
     "name": "stderr",
     "output_type": "stream",
     "text": [
      " 49%|████▉     | 541/1101 [00:38<00:37, 14.91it/s]"
     ]
    },
    {
     "name": "stdout",
     "output_type": "stream",
     "text": [
      "\n",
      "image 1/1 c:\\Users\\sande\\OneDrive\\Desktop\\IITTP\\2_Asgn\\Sem2\\2_dl\\SemProject\\Automated_Yolo\\dataset\\UAVDT-processed\\val\\images\\img000542.jpg: 352x640 (no detections), 42.3ms\n",
      "Speed: 1.6ms preprocess, 42.3ms inference, 0.4ms postprocess per image at shape (1, 3, 352, 640)\n",
      "\n",
      "image 1/1 c:\\Users\\sande\\OneDrive\\Desktop\\IITTP\\2_Asgn\\Sem2\\2_dl\\SemProject\\Automated_Yolo\\dataset\\UAVDT-processed\\val\\images\\img000543.jpg: 352x640 (no detections), 39.1ms\n",
      "Speed: 1.8ms preprocess, 39.1ms inference, 0.5ms postprocess per image at shape (1, 3, 352, 640)\n"
     ]
    },
    {
     "name": "stderr",
     "output_type": "stream",
     "text": [
      " 49%|████▉     | 543/1101 [00:38<00:38, 14.53it/s]"
     ]
    },
    {
     "name": "stdout",
     "output_type": "stream",
     "text": [
      "\n",
      "image 1/1 c:\\Users\\sande\\OneDrive\\Desktop\\IITTP\\2_Asgn\\Sem2\\2_dl\\SemProject\\Automated_Yolo\\dataset\\UAVDT-processed\\val\\images\\img000544.jpg: 352x640 (no detections), 41.9ms\n",
      "Speed: 1.5ms preprocess, 41.9ms inference, 0.4ms postprocess per image at shape (1, 3, 352, 640)\n",
      "\n",
      "image 1/1 c:\\Users\\sande\\OneDrive\\Desktop\\IITTP\\2_Asgn\\Sem2\\2_dl\\SemProject\\Automated_Yolo\\dataset\\UAVDT-processed\\val\\images\\img000545.jpg: 352x640 (no detections), 42.9ms\n",
      "Speed: 1.6ms preprocess, 42.9ms inference, 0.5ms postprocess per image at shape (1, 3, 352, 640)\n"
     ]
    },
    {
     "name": "stderr",
     "output_type": "stream",
     "text": [
      " 50%|████▉     | 545/1101 [00:38<00:38, 14.45it/s]"
     ]
    },
    {
     "name": "stdout",
     "output_type": "stream",
     "text": [
      "\n",
      "image 1/1 c:\\Users\\sande\\OneDrive\\Desktop\\IITTP\\2_Asgn\\Sem2\\2_dl\\SemProject\\Automated_Yolo\\dataset\\UAVDT-processed\\val\\images\\img000546.jpg: 352x640 (no detections), 43.5ms\n",
      "Speed: 2.3ms preprocess, 43.5ms inference, 0.7ms postprocess per image at shape (1, 3, 352, 640)\n",
      "\n",
      "image 1/1 c:\\Users\\sande\\OneDrive\\Desktop\\IITTP\\2_Asgn\\Sem2\\2_dl\\SemProject\\Automated_Yolo\\dataset\\UAVDT-processed\\val\\images\\img000547.jpg: 352x640 (no detections), 55.0ms\n",
      "Speed: 2.4ms preprocess, 55.0ms inference, 0.5ms postprocess per image at shape (1, 3, 352, 640)\n"
     ]
    },
    {
     "name": "stderr",
     "output_type": "stream",
     "text": [
      " 50%|████▉     | 547/1101 [00:38<00:40, 13.76it/s]"
     ]
    },
    {
     "name": "stdout",
     "output_type": "stream",
     "text": [
      "\n",
      "image 1/1 c:\\Users\\sande\\OneDrive\\Desktop\\IITTP\\2_Asgn\\Sem2\\2_dl\\SemProject\\Automated_Yolo\\dataset\\UAVDT-processed\\val\\images\\img000548.jpg: 352x640 (no detections), 39.3ms\n",
      "Speed: 2.0ms preprocess, 39.3ms inference, 0.5ms postprocess per image at shape (1, 3, 352, 640)\n",
      "\n",
      "image 1/1 c:\\Users\\sande\\OneDrive\\Desktop\\IITTP\\2_Asgn\\Sem2\\2_dl\\SemProject\\Automated_Yolo\\dataset\\UAVDT-processed\\val\\images\\img000549.jpg: 352x640 (no detections), 33.1ms\n",
      "Speed: 1.7ms preprocess, 33.1ms inference, 0.4ms postprocess per image at shape (1, 3, 352, 640)\n"
     ]
    },
    {
     "name": "stderr",
     "output_type": "stream",
     "text": [
      " 50%|████▉     | 549/1101 [00:38<00:39, 14.10it/s]"
     ]
    },
    {
     "name": "stdout",
     "output_type": "stream",
     "text": [
      "\n",
      "image 1/1 c:\\Users\\sande\\OneDrive\\Desktop\\IITTP\\2_Asgn\\Sem2\\2_dl\\SemProject\\Automated_Yolo\\dataset\\UAVDT-processed\\val\\images\\img000550.jpg: 352x640 (no detections), 38.8ms\n",
      "Speed: 1.4ms preprocess, 38.8ms inference, 0.4ms postprocess per image at shape (1, 3, 352, 640)\n",
      "\n",
      "image 1/1 c:\\Users\\sande\\OneDrive\\Desktop\\IITTP\\2_Asgn\\Sem2\\2_dl\\SemProject\\Automated_Yolo\\dataset\\UAVDT-processed\\val\\images\\img000551.jpg: 352x640 (no detections), 40.0ms\n",
      "Speed: 1.8ms preprocess, 40.0ms inference, 0.6ms postprocess per image at shape (1, 3, 352, 640)\n"
     ]
    },
    {
     "name": "stderr",
     "output_type": "stream",
     "text": [
      " 50%|█████     | 551/1101 [00:38<00:38, 14.45it/s]"
     ]
    },
    {
     "name": "stdout",
     "output_type": "stream",
     "text": [
      "\n",
      "image 1/1 c:\\Users\\sande\\OneDrive\\Desktop\\IITTP\\2_Asgn\\Sem2\\2_dl\\SemProject\\Automated_Yolo\\dataset\\UAVDT-processed\\val\\images\\img000552.jpg: 352x640 (no detections), 34.7ms\n",
      "Speed: 1.5ms preprocess, 34.7ms inference, 0.5ms postprocess per image at shape (1, 3, 352, 640)\n",
      "\n",
      "image 1/1 c:\\Users\\sande\\OneDrive\\Desktop\\IITTP\\2_Asgn\\Sem2\\2_dl\\SemProject\\Automated_Yolo\\dataset\\UAVDT-processed\\val\\images\\img000553.jpg: 352x640 (no detections), 41.2ms\n",
      "Speed: 2.2ms preprocess, 41.2ms inference, 0.5ms postprocess per image at shape (1, 3, 352, 640)\n"
     ]
    },
    {
     "name": "stderr",
     "output_type": "stream",
     "text": [
      " 50%|█████     | 553/1101 [00:38<00:37, 14.75it/s]"
     ]
    },
    {
     "name": "stdout",
     "output_type": "stream",
     "text": [
      "\n",
      "image 1/1 c:\\Users\\sande\\OneDrive\\Desktop\\IITTP\\2_Asgn\\Sem2\\2_dl\\SemProject\\Automated_Yolo\\dataset\\UAVDT-processed\\val\\images\\img000554.jpg: 352x640 (no detections), 42.1ms\n",
      "Speed: 1.5ms preprocess, 42.1ms inference, 0.5ms postprocess per image at shape (1, 3, 352, 640)\n",
      "\n",
      "image 1/1 c:\\Users\\sande\\OneDrive\\Desktop\\IITTP\\2_Asgn\\Sem2\\2_dl\\SemProject\\Automated_Yolo\\dataset\\UAVDT-processed\\val\\images\\img000555.jpg: 352x640 (no detections), 37.8ms\n",
      "Speed: 1.4ms preprocess, 37.8ms inference, 0.5ms postprocess per image at shape (1, 3, 352, 640)\n"
     ]
    },
    {
     "name": "stderr",
     "output_type": "stream",
     "text": [
      " 50%|█████     | 555/1101 [00:38<00:37, 14.50it/s]"
     ]
    },
    {
     "name": "stdout",
     "output_type": "stream",
     "text": [
      "\n",
      "image 1/1 c:\\Users\\sande\\OneDrive\\Desktop\\IITTP\\2_Asgn\\Sem2\\2_dl\\SemProject\\Automated_Yolo\\dataset\\UAVDT-processed\\val\\images\\img000556.jpg: 352x640 (no detections), 36.9ms\n",
      "Speed: 1.4ms preprocess, 36.9ms inference, 0.5ms postprocess per image at shape (1, 3, 352, 640)\n",
      "\n",
      "image 1/1 c:\\Users\\sande\\OneDrive\\Desktop\\IITTP\\2_Asgn\\Sem2\\2_dl\\SemProject\\Automated_Yolo\\dataset\\UAVDT-processed\\val\\images\\img000557.jpg: 352x640 (no detections), 38.8ms\n",
      "Speed: 2.2ms preprocess, 38.8ms inference, 0.5ms postprocess per image at shape (1, 3, 352, 640)\n"
     ]
    },
    {
     "name": "stderr",
     "output_type": "stream",
     "text": [
      " 51%|█████     | 557/1101 [00:39<00:36, 14.74it/s]"
     ]
    },
    {
     "name": "stdout",
     "output_type": "stream",
     "text": [
      "\n",
      "image 1/1 c:\\Users\\sande\\OneDrive\\Desktop\\IITTP\\2_Asgn\\Sem2\\2_dl\\SemProject\\Automated_Yolo\\dataset\\UAVDT-processed\\val\\images\\img000558.jpg: 352x640 (no detections), 55.8ms\n",
      "Speed: 2.4ms preprocess, 55.8ms inference, 0.6ms postprocess per image at shape (1, 3, 352, 640)\n",
      "\n",
      "image 1/1 c:\\Users\\sande\\OneDrive\\Desktop\\IITTP\\2_Asgn\\Sem2\\2_dl\\SemProject\\Automated_Yolo\\dataset\\UAVDT-processed\\val\\images\\img000559.jpg: 352x640 (no detections), 39.4ms\n",
      "Speed: 1.5ms preprocess, 39.4ms inference, 0.5ms postprocess per image at shape (1, 3, 352, 640)\n"
     ]
    },
    {
     "name": "stderr",
     "output_type": "stream",
     "text": [
      " 51%|█████     | 559/1101 [00:39<00:38, 13.91it/s]"
     ]
    },
    {
     "name": "stdout",
     "output_type": "stream",
     "text": [
      "\n",
      "image 1/1 c:\\Users\\sande\\OneDrive\\Desktop\\IITTP\\2_Asgn\\Sem2\\2_dl\\SemProject\\Automated_Yolo\\dataset\\UAVDT-processed\\val\\images\\img000560.jpg: 352x640 (no detections), 37.2ms\n",
      "Speed: 1.5ms preprocess, 37.2ms inference, 0.5ms postprocess per image at shape (1, 3, 352, 640)\n",
      "\n",
      "image 1/1 c:\\Users\\sande\\OneDrive\\Desktop\\IITTP\\2_Asgn\\Sem2\\2_dl\\SemProject\\Automated_Yolo\\dataset\\UAVDT-processed\\val\\images\\img000561.jpg: 352x640 (no detections), 38.6ms\n",
      "Speed: 1.6ms preprocess, 38.6ms inference, 0.4ms postprocess per image at shape (1, 3, 352, 640)\n"
     ]
    },
    {
     "name": "stderr",
     "output_type": "stream",
     "text": [
      " 51%|█████     | 561/1101 [00:39<00:37, 14.44it/s]"
     ]
    },
    {
     "name": "stdout",
     "output_type": "stream",
     "text": [
      "\n",
      "image 1/1 c:\\Users\\sande\\OneDrive\\Desktop\\IITTP\\2_Asgn\\Sem2\\2_dl\\SemProject\\Automated_Yolo\\dataset\\UAVDT-processed\\val\\images\\img000562.jpg: 352x640 (no detections), 40.1ms\n",
      "Speed: 2.2ms preprocess, 40.1ms inference, 0.5ms postprocess per image at shape (1, 3, 352, 640)\n",
      "\n",
      "image 1/1 c:\\Users\\sande\\OneDrive\\Desktop\\IITTP\\2_Asgn\\Sem2\\2_dl\\SemProject\\Automated_Yolo\\dataset\\UAVDT-processed\\val\\images\\img000563.jpg: 352x640 (no detections), 48.4ms\n",
      "Speed: 2.4ms preprocess, 48.4ms inference, 0.8ms postprocess per image at shape (1, 3, 352, 640)\n"
     ]
    },
    {
     "name": "stderr",
     "output_type": "stream",
     "text": [
      " 51%|█████     | 563/1101 [00:39<00:39, 13.54it/s]"
     ]
    },
    {
     "name": "stdout",
     "output_type": "stream",
     "text": [
      "\n",
      "image 1/1 c:\\Users\\sande\\OneDrive\\Desktop\\IITTP\\2_Asgn\\Sem2\\2_dl\\SemProject\\Automated_Yolo\\dataset\\UAVDT-processed\\val\\images\\img000564.jpg: 352x640 (no detections), 53.5ms\n",
      "Speed: 1.6ms preprocess, 53.5ms inference, 0.6ms postprocess per image at shape (1, 3, 352, 640)\n",
      "\n",
      "image 1/1 c:\\Users\\sande\\OneDrive\\Desktop\\IITTP\\2_Asgn\\Sem2\\2_dl\\SemProject\\Automated_Yolo\\dataset\\UAVDT-processed\\val\\images\\img000565.jpg: 352x640 (no detections), 58.1ms\n",
      "Speed: 2.8ms preprocess, 58.1ms inference, 0.6ms postprocess per image at shape (1, 3, 352, 640)\n"
     ]
    },
    {
     "name": "stderr",
     "output_type": "stream",
     "text": [
      " 51%|█████▏    | 565/1101 [00:39<00:40, 13.14it/s]"
     ]
    },
    {
     "name": "stdout",
     "output_type": "stream",
     "text": [
      "\n",
      "image 1/1 c:\\Users\\sande\\OneDrive\\Desktop\\IITTP\\2_Asgn\\Sem2\\2_dl\\SemProject\\Automated_Yolo\\dataset\\UAVDT-processed\\val\\images\\img000566.jpg: 352x640 (no detections), 43.2ms\n",
      "Speed: 1.7ms preprocess, 43.2ms inference, 0.4ms postprocess per image at shape (1, 3, 352, 640)\n",
      "\n",
      "image 1/1 c:\\Users\\sande\\OneDrive\\Desktop\\IITTP\\2_Asgn\\Sem2\\2_dl\\SemProject\\Automated_Yolo\\dataset\\UAVDT-processed\\val\\images\\img000567.jpg: 352x640 (no detections), 42.3ms\n",
      "Speed: 1.6ms preprocess, 42.3ms inference, 0.4ms postprocess per image at shape (1, 3, 352, 640)\n"
     ]
    },
    {
     "name": "stderr",
     "output_type": "stream",
     "text": [
      " 51%|█████▏    | 567/1101 [00:39<00:38, 13.76it/s]"
     ]
    },
    {
     "name": "stdout",
     "output_type": "stream",
     "text": [
      "\n",
      "image 1/1 c:\\Users\\sande\\OneDrive\\Desktop\\IITTP\\2_Asgn\\Sem2\\2_dl\\SemProject\\Automated_Yolo\\dataset\\UAVDT-processed\\val\\images\\img000568.jpg: 352x640 (no detections), 40.5ms\n",
      "Speed: 1.6ms preprocess, 40.5ms inference, 0.4ms postprocess per image at shape (1, 3, 352, 640)\n",
      "\n",
      "image 1/1 c:\\Users\\sande\\OneDrive\\Desktop\\IITTP\\2_Asgn\\Sem2\\2_dl\\SemProject\\Automated_Yolo\\dataset\\UAVDT-processed\\val\\images\\img000569.jpg: 352x640 (no detections), 40.7ms\n",
      "Speed: 2.0ms preprocess, 40.7ms inference, 0.4ms postprocess per image at shape (1, 3, 352, 640)\n"
     ]
    },
    {
     "name": "stderr",
     "output_type": "stream",
     "text": [
      " 52%|█████▏    | 569/1101 [00:40<00:38, 13.80it/s]"
     ]
    },
    {
     "name": "stdout",
     "output_type": "stream",
     "text": [
      "\n",
      "image 1/1 c:\\Users\\sande\\OneDrive\\Desktop\\IITTP\\2_Asgn\\Sem2\\2_dl\\SemProject\\Automated_Yolo\\dataset\\UAVDT-processed\\val\\images\\img000570.jpg: 352x640 (no detections), 60.0ms\n",
      "Speed: 3.0ms preprocess, 60.0ms inference, 0.5ms postprocess per image at shape (1, 3, 352, 640)\n",
      "\n",
      "image 1/1 c:\\Users\\sande\\OneDrive\\Desktop\\IITTP\\2_Asgn\\Sem2\\2_dl\\SemProject\\Automated_Yolo\\dataset\\UAVDT-processed\\val\\images\\img000571.jpg: 352x640 (no detections), 42.8ms\n",
      "Speed: 2.0ms preprocess, 42.8ms inference, 0.5ms postprocess per image at shape (1, 3, 352, 640)\n"
     ]
    },
    {
     "name": "stderr",
     "output_type": "stream",
     "text": [
      " 52%|█████▏    | 571/1101 [00:40<00:41, 12.89it/s]"
     ]
    },
    {
     "name": "stdout",
     "output_type": "stream",
     "text": [
      "\n",
      "image 1/1 c:\\Users\\sande\\OneDrive\\Desktop\\IITTP\\2_Asgn\\Sem2\\2_dl\\SemProject\\Automated_Yolo\\dataset\\UAVDT-processed\\val\\images\\img000572.jpg: 352x640 (no detections), 40.8ms\n",
      "Speed: 1.5ms preprocess, 40.8ms inference, 0.5ms postprocess per image at shape (1, 3, 352, 640)\n",
      "\n",
      "image 1/1 c:\\Users\\sande\\OneDrive\\Desktop\\IITTP\\2_Asgn\\Sem2\\2_dl\\SemProject\\Automated_Yolo\\dataset\\UAVDT-processed\\val\\images\\img000573.jpg: 352x640 (no detections), 39.2ms\n",
      "Speed: 1.7ms preprocess, 39.2ms inference, 0.5ms postprocess per image at shape (1, 3, 352, 640)\n"
     ]
    },
    {
     "name": "stderr",
     "output_type": "stream",
     "text": [
      " 52%|█████▏    | 573/1101 [00:40<00:39, 13.30it/s]"
     ]
    },
    {
     "name": "stdout",
     "output_type": "stream",
     "text": [
      "\n",
      "image 1/1 c:\\Users\\sande\\OneDrive\\Desktop\\IITTP\\2_Asgn\\Sem2\\2_dl\\SemProject\\Automated_Yolo\\dataset\\UAVDT-processed\\val\\images\\img000574.jpg: 352x640 (no detections), 41.7ms\n",
      "Speed: 1.6ms preprocess, 41.7ms inference, 0.5ms postprocess per image at shape (1, 3, 352, 640)\n",
      "\n",
      "image 1/1 c:\\Users\\sande\\OneDrive\\Desktop\\IITTP\\2_Asgn\\Sem2\\2_dl\\SemProject\\Automated_Yolo\\dataset\\UAVDT-processed\\val\\images\\img000575.jpg: 352x640 (no detections), 41.1ms\n",
      "Speed: 1.7ms preprocess, 41.1ms inference, 0.5ms postprocess per image at shape (1, 3, 352, 640)\n"
     ]
    },
    {
     "name": "stderr",
     "output_type": "stream",
     "text": [
      " 52%|█████▏    | 575/1101 [00:40<00:37, 13.87it/s]"
     ]
    },
    {
     "name": "stdout",
     "output_type": "stream",
     "text": [
      "\n",
      "image 1/1 c:\\Users\\sande\\OneDrive\\Desktop\\IITTP\\2_Asgn\\Sem2\\2_dl\\SemProject\\Automated_Yolo\\dataset\\UAVDT-processed\\val\\images\\img000576.jpg: 352x640 (no detections), 39.3ms\n",
      "Speed: 2.2ms preprocess, 39.3ms inference, 0.4ms postprocess per image at shape (1, 3, 352, 640)\n",
      "\n",
      "image 1/1 c:\\Users\\sande\\OneDrive\\Desktop\\IITTP\\2_Asgn\\Sem2\\2_dl\\SemProject\\Automated_Yolo\\dataset\\UAVDT-processed\\val\\images\\img000577.jpg: 352x640 (no detections), 37.8ms\n",
      "Speed: 1.4ms preprocess, 37.8ms inference, 0.4ms postprocess per image at shape (1, 3, 352, 640)\n"
     ]
    },
    {
     "name": "stderr",
     "output_type": "stream",
     "text": [
      " 52%|█████▏    | 577/1101 [00:40<00:36, 14.22it/s]"
     ]
    },
    {
     "name": "stdout",
     "output_type": "stream",
     "text": [
      "\n",
      "image 1/1 c:\\Users\\sande\\OneDrive\\Desktop\\IITTP\\2_Asgn\\Sem2\\2_dl\\SemProject\\Automated_Yolo\\dataset\\UAVDT-processed\\val\\images\\img000578.jpg: 352x640 (no detections), 36.7ms\n",
      "Speed: 1.4ms preprocess, 36.7ms inference, 0.5ms postprocess per image at shape (1, 3, 352, 640)\n",
      "\n",
      "image 1/1 c:\\Users\\sande\\OneDrive\\Desktop\\IITTP\\2_Asgn\\Sem2\\2_dl\\SemProject\\Automated_Yolo\\dataset\\UAVDT-processed\\val\\images\\img000579.jpg: 352x640 (no detections), 41.9ms\n",
      "Speed: 1.6ms preprocess, 41.9ms inference, 0.5ms postprocess per image at shape (1, 3, 352, 640)\n"
     ]
    },
    {
     "name": "stderr",
     "output_type": "stream",
     "text": [
      " 53%|█████▎    | 579/1101 [00:40<00:36, 14.14it/s]"
     ]
    },
    {
     "name": "stdout",
     "output_type": "stream",
     "text": [
      "\n",
      "image 1/1 c:\\Users\\sande\\OneDrive\\Desktop\\IITTP\\2_Asgn\\Sem2\\2_dl\\SemProject\\Automated_Yolo\\dataset\\UAVDT-processed\\val\\images\\img000580.jpg: 352x640 (no detections), 47.4ms\n",
      "Speed: 1.6ms preprocess, 47.4ms inference, 0.5ms postprocess per image at shape (1, 3, 352, 640)\n",
      "\n",
      "image 1/1 c:\\Users\\sande\\OneDrive\\Desktop\\IITTP\\2_Asgn\\Sem2\\2_dl\\SemProject\\Automated_Yolo\\dataset\\UAVDT-processed\\val\\images\\img000581.jpg: 352x640 (no detections), 41.0ms\n",
      "Speed: 2.3ms preprocess, 41.0ms inference, 0.5ms postprocess per image at shape (1, 3, 352, 640)\n"
     ]
    },
    {
     "name": "stderr",
     "output_type": "stream",
     "text": [
      " 53%|█████▎    | 581/1101 [00:40<00:37, 13.81it/s]"
     ]
    },
    {
     "name": "stdout",
     "output_type": "stream",
     "text": [
      "\n",
      "image 1/1 c:\\Users\\sande\\OneDrive\\Desktop\\IITTP\\2_Asgn\\Sem2\\2_dl\\SemProject\\Automated_Yolo\\dataset\\UAVDT-processed\\val\\images\\img000582.jpg: 352x640 (no detections), 43.2ms\n",
      "Speed: 1.6ms preprocess, 43.2ms inference, 0.5ms postprocess per image at shape (1, 3, 352, 640)\n",
      "\n",
      "image 1/1 c:\\Users\\sande\\OneDrive\\Desktop\\IITTP\\2_Asgn\\Sem2\\2_dl\\SemProject\\Automated_Yolo\\dataset\\UAVDT-processed\\val\\images\\img000583.jpg: 352x640 (no detections), 62.9ms\n",
      "Speed: 3.0ms preprocess, 62.9ms inference, 0.5ms postprocess per image at shape (1, 3, 352, 640)\n"
     ]
    },
    {
     "name": "stderr",
     "output_type": "stream",
     "text": [
      " 53%|█████▎    | 583/1101 [00:41<00:38, 13.56it/s]"
     ]
    },
    {
     "name": "stdout",
     "output_type": "stream",
     "text": [
      "\n",
      "image 1/1 c:\\Users\\sande\\OneDrive\\Desktop\\IITTP\\2_Asgn\\Sem2\\2_dl\\SemProject\\Automated_Yolo\\dataset\\UAVDT-processed\\val\\images\\img000584.jpg: 352x640 (no detections), 43.9ms\n",
      "Speed: 2.3ms preprocess, 43.9ms inference, 0.4ms postprocess per image at shape (1, 3, 352, 640)\n",
      "\n",
      "image 1/1 c:\\Users\\sande\\OneDrive\\Desktop\\IITTP\\2_Asgn\\Sem2\\2_dl\\SemProject\\Automated_Yolo\\dataset\\UAVDT-processed\\val\\images\\img000585.jpg: 352x640 (no detections), 40.9ms\n",
      "Speed: 2.3ms preprocess, 40.9ms inference, 0.4ms postprocess per image at shape (1, 3, 352, 640)\n"
     ]
    },
    {
     "name": "stderr",
     "output_type": "stream",
     "text": [
      " 53%|█████▎    | 585/1101 [00:41<00:38, 13.45it/s]"
     ]
    },
    {
     "name": "stdout",
     "output_type": "stream",
     "text": [
      "\n",
      "image 1/1 c:\\Users\\sande\\OneDrive\\Desktop\\IITTP\\2_Asgn\\Sem2\\2_dl\\SemProject\\Automated_Yolo\\dataset\\UAVDT-processed\\val\\images\\img000586.jpg: 352x640 (no detections), 40.2ms\n",
      "Speed: 2.1ms preprocess, 40.2ms inference, 0.7ms postprocess per image at shape (1, 3, 352, 640)\n",
      "\n",
      "image 1/1 c:\\Users\\sande\\OneDrive\\Desktop\\IITTP\\2_Asgn\\Sem2\\2_dl\\SemProject\\Automated_Yolo\\dataset\\UAVDT-processed\\val\\images\\img000587.jpg: 352x640 (no detections), 36.7ms\n",
      "Speed: 1.5ms preprocess, 36.7ms inference, 0.5ms postprocess per image at shape (1, 3, 352, 640)\n"
     ]
    },
    {
     "name": "stderr",
     "output_type": "stream",
     "text": [
      " 53%|█████▎    | 587/1101 [00:41<00:37, 13.78it/s]"
     ]
    },
    {
     "name": "stdout",
     "output_type": "stream",
     "text": [
      "\n",
      "image 1/1 c:\\Users\\sande\\OneDrive\\Desktop\\IITTP\\2_Asgn\\Sem2\\2_dl\\SemProject\\Automated_Yolo\\dataset\\UAVDT-processed\\val\\images\\img000588.jpg: 352x640 (no detections), 41.8ms\n",
      "Speed: 2.2ms preprocess, 41.8ms inference, 0.4ms postprocess per image at shape (1, 3, 352, 640)\n",
      "\n",
      "image 1/1 c:\\Users\\sande\\OneDrive\\Desktop\\IITTP\\2_Asgn\\Sem2\\2_dl\\SemProject\\Automated_Yolo\\dataset\\UAVDT-processed\\val\\images\\img000589.jpg: 352x640 (no detections), 43.3ms\n",
      "Speed: 2.2ms preprocess, 43.3ms inference, 0.5ms postprocess per image at shape (1, 3, 352, 640)\n"
     ]
    },
    {
     "name": "stderr",
     "output_type": "stream",
     "text": [
      " 53%|█████▎    | 589/1101 [00:41<00:37, 13.64it/s]"
     ]
    },
    {
     "name": "stdout",
     "output_type": "stream",
     "text": [
      "\n",
      "image 1/1 c:\\Users\\sande\\OneDrive\\Desktop\\IITTP\\2_Asgn\\Sem2\\2_dl\\SemProject\\Automated_Yolo\\dataset\\UAVDT-processed\\val\\images\\img000590.jpg: 352x640 (no detections), 71.1ms\n",
      "Speed: 2.3ms preprocess, 71.1ms inference, 0.5ms postprocess per image at shape (1, 3, 352, 640)\n",
      "\n",
      "image 1/1 c:\\Users\\sande\\OneDrive\\Desktop\\IITTP\\2_Asgn\\Sem2\\2_dl\\SemProject\\Automated_Yolo\\dataset\\UAVDT-processed\\val\\images\\img000591.jpg: 352x640 (no detections), 48.0ms\n",
      "Speed: 2.7ms preprocess, 48.0ms inference, 0.6ms postprocess per image at shape (1, 3, 352, 640)\n"
     ]
    },
    {
     "name": "stderr",
     "output_type": "stream",
     "text": [
      " 54%|█████▎    | 591/1101 [00:41<00:40, 12.52it/s]"
     ]
    },
    {
     "name": "stdout",
     "output_type": "stream",
     "text": [
      "\n",
      "image 1/1 c:\\Users\\sande\\OneDrive\\Desktop\\IITTP\\2_Asgn\\Sem2\\2_dl\\SemProject\\Automated_Yolo\\dataset\\UAVDT-processed\\val\\images\\img000592.jpg: 352x640 (no detections), 48.8ms\n",
      "Speed: 1.6ms preprocess, 48.8ms inference, 0.5ms postprocess per image at shape (1, 3, 352, 640)\n",
      "\n",
      "image 1/1 c:\\Users\\sande\\OneDrive\\Desktop\\IITTP\\2_Asgn\\Sem2\\2_dl\\SemProject\\Automated_Yolo\\dataset\\UAVDT-processed\\val\\images\\img000593.jpg: 352x640 (no detections), 40.0ms\n",
      "Speed: 2.2ms preprocess, 40.0ms inference, 0.4ms postprocess per image at shape (1, 3, 352, 640)\n"
     ]
    },
    {
     "name": "stderr",
     "output_type": "stream",
     "text": [
      " 54%|█████▍    | 593/1101 [00:41<00:39, 12.92it/s]"
     ]
    },
    {
     "name": "stdout",
     "output_type": "stream",
     "text": [
      "\n",
      "image 1/1 c:\\Users\\sande\\OneDrive\\Desktop\\IITTP\\2_Asgn\\Sem2\\2_dl\\SemProject\\Automated_Yolo\\dataset\\UAVDT-processed\\val\\images\\img000594.jpg: 352x640 (no detections), 56.9ms\n",
      "Speed: 2.3ms preprocess, 56.9ms inference, 1.1ms postprocess per image at shape (1, 3, 352, 640)\n",
      "\n",
      "image 1/1 c:\\Users\\sande\\OneDrive\\Desktop\\IITTP\\2_Asgn\\Sem2\\2_dl\\SemProject\\Automated_Yolo\\dataset\\UAVDT-processed\\val\\images\\img000595.jpg: 352x640 (no detections), 45.4ms\n",
      "Speed: 1.8ms preprocess, 45.4ms inference, 0.5ms postprocess per image at shape (1, 3, 352, 640)\n"
     ]
    },
    {
     "name": "stderr",
     "output_type": "stream",
     "text": [
      " 54%|█████▍    | 595/1101 [00:41<00:40, 12.60it/s]"
     ]
    },
    {
     "name": "stdout",
     "output_type": "stream",
     "text": [
      "\n",
      "image 1/1 c:\\Users\\sande\\OneDrive\\Desktop\\IITTP\\2_Asgn\\Sem2\\2_dl\\SemProject\\Automated_Yolo\\dataset\\UAVDT-processed\\val\\images\\img000596.jpg: 352x640 (no detections), 45.7ms\n",
      "Speed: 2.2ms preprocess, 45.7ms inference, 0.5ms postprocess per image at shape (1, 3, 352, 640)\n",
      "\n",
      "image 1/1 c:\\Users\\sande\\OneDrive\\Desktop\\IITTP\\2_Asgn\\Sem2\\2_dl\\SemProject\\Automated_Yolo\\dataset\\UAVDT-processed\\val\\images\\img000597.jpg: 352x640 (no detections), 43.5ms\n",
      "Speed: 2.2ms preprocess, 43.5ms inference, 0.6ms postprocess per image at shape (1, 3, 352, 640)\n"
     ]
    },
    {
     "name": "stderr",
     "output_type": "stream",
     "text": [
      " 54%|█████▍    | 597/1101 [00:42<00:39, 12.65it/s]"
     ]
    },
    {
     "name": "stdout",
     "output_type": "stream",
     "text": [
      "\n",
      "image 1/1 c:\\Users\\sande\\OneDrive\\Desktop\\IITTP\\2_Asgn\\Sem2\\2_dl\\SemProject\\Automated_Yolo\\dataset\\UAVDT-processed\\val\\images\\img000598.jpg: 352x640 (no detections), 44.3ms\n",
      "Speed: 1.5ms preprocess, 44.3ms inference, 0.7ms postprocess per image at shape (1, 3, 352, 640)\n",
      "\n",
      "image 1/1 c:\\Users\\sande\\OneDrive\\Desktop\\IITTP\\2_Asgn\\Sem2\\2_dl\\SemProject\\Automated_Yolo\\dataset\\UAVDT-processed\\val\\images\\img000599.jpg: 352x640 (no detections), 43.4ms\n",
      "Speed: 1.9ms preprocess, 43.4ms inference, 0.4ms postprocess per image at shape (1, 3, 352, 640)\n"
     ]
    },
    {
     "name": "stderr",
     "output_type": "stream",
     "text": [
      " 54%|█████▍    | 599/1101 [00:42<00:38, 12.89it/s]"
     ]
    },
    {
     "name": "stdout",
     "output_type": "stream",
     "text": [
      "\n",
      "image 1/1 c:\\Users\\sande\\OneDrive\\Desktop\\IITTP\\2_Asgn\\Sem2\\2_dl\\SemProject\\Automated_Yolo\\dataset\\UAVDT-processed\\val\\images\\img000600.jpg: 352x640 (no detections), 43.1ms\n",
      "Speed: 1.9ms preprocess, 43.1ms inference, 0.4ms postprocess per image at shape (1, 3, 352, 640)\n",
      "\n",
      "image 1/1 c:\\Users\\sande\\OneDrive\\Desktop\\IITTP\\2_Asgn\\Sem2\\2_dl\\SemProject\\Automated_Yolo\\dataset\\UAVDT-processed\\val\\images\\img000601.jpg: 352x640 (no detections), 40.1ms\n",
      "Speed: 2.2ms preprocess, 40.1ms inference, 0.4ms postprocess per image at shape (1, 3, 352, 640)\n"
     ]
    },
    {
     "name": "stderr",
     "output_type": "stream",
     "text": [
      " 55%|█████▍    | 601/1101 [00:42<00:37, 13.36it/s]"
     ]
    },
    {
     "name": "stdout",
     "output_type": "stream",
     "text": [
      "\n",
      "image 1/1 c:\\Users\\sande\\OneDrive\\Desktop\\IITTP\\2_Asgn\\Sem2\\2_dl\\SemProject\\Automated_Yolo\\dataset\\UAVDT-processed\\val\\images\\img000602.jpg: 352x640 (no detections), 43.9ms\n",
      "Speed: 1.6ms preprocess, 43.9ms inference, 0.5ms postprocess per image at shape (1, 3, 352, 640)\n",
      "\n",
      "image 1/1 c:\\Users\\sande\\OneDrive\\Desktop\\IITTP\\2_Asgn\\Sem2\\2_dl\\SemProject\\Automated_Yolo\\dataset\\UAVDT-processed\\val\\images\\img000603.jpg: 352x640 (no detections), 36.0ms\n",
      "Speed: 1.4ms preprocess, 36.0ms inference, 0.4ms postprocess per image at shape (1, 3, 352, 640)\n"
     ]
    },
    {
     "name": "stderr",
     "output_type": "stream",
     "text": [
      " 55%|█████▍    | 603/1101 [00:42<00:36, 13.79it/s]"
     ]
    },
    {
     "name": "stdout",
     "output_type": "stream",
     "text": [
      "\n",
      "image 1/1 c:\\Users\\sande\\OneDrive\\Desktop\\IITTP\\2_Asgn\\Sem2\\2_dl\\SemProject\\Automated_Yolo\\dataset\\UAVDT-processed\\val\\images\\img000604.jpg: 352x640 (no detections), 43.2ms\n",
      "Speed: 1.8ms preprocess, 43.2ms inference, 0.6ms postprocess per image at shape (1, 3, 352, 640)\n",
      "\n",
      "image 1/1 c:\\Users\\sande\\OneDrive\\Desktop\\IITTP\\2_Asgn\\Sem2\\2_dl\\SemProject\\Automated_Yolo\\dataset\\UAVDT-processed\\val\\images\\img000605.jpg: 352x640 (no detections), 39.2ms\n",
      "Speed: 2.2ms preprocess, 39.2ms inference, 0.5ms postprocess per image at shape (1, 3, 352, 640)\n"
     ]
    },
    {
     "name": "stderr",
     "output_type": "stream",
     "text": [
      " 55%|█████▍    | 605/1101 [00:42<00:35, 13.96it/s]"
     ]
    },
    {
     "name": "stdout",
     "output_type": "stream",
     "text": [
      "\n",
      "image 1/1 c:\\Users\\sande\\OneDrive\\Desktop\\IITTP\\2_Asgn\\Sem2\\2_dl\\SemProject\\Automated_Yolo\\dataset\\UAVDT-processed\\val\\images\\img000606.jpg: 352x640 (no detections), 40.1ms\n",
      "Speed: 1.5ms preprocess, 40.1ms inference, 0.5ms postprocess per image at shape (1, 3, 352, 640)\n",
      "\n",
      "image 1/1 c:\\Users\\sande\\OneDrive\\Desktop\\IITTP\\2_Asgn\\Sem2\\2_dl\\SemProject\\Automated_Yolo\\dataset\\UAVDT-processed\\val\\images\\img000607.jpg: 352x640 (no detections), 47.5ms\n",
      "Speed: 1.6ms preprocess, 47.5ms inference, 1.2ms postprocess per image at shape (1, 3, 352, 640)\n"
     ]
    },
    {
     "name": "stderr",
     "output_type": "stream",
     "text": [
      " 55%|█████▌    | 607/1101 [00:42<00:35, 13.82it/s]"
     ]
    },
    {
     "name": "stdout",
     "output_type": "stream",
     "text": [
      "\n",
      "image 1/1 c:\\Users\\sande\\OneDrive\\Desktop\\IITTP\\2_Asgn\\Sem2\\2_dl\\SemProject\\Automated_Yolo\\dataset\\UAVDT-processed\\val\\images\\img000608.jpg: 352x640 (no detections), 49.3ms\n",
      "Speed: 2.5ms preprocess, 49.3ms inference, 0.4ms postprocess per image at shape (1, 3, 352, 640)\n",
      "\n",
      "image 1/1 c:\\Users\\sande\\OneDrive\\Desktop\\IITTP\\2_Asgn\\Sem2\\2_dl\\SemProject\\Automated_Yolo\\dataset\\UAVDT-processed\\val\\images\\img000609.jpg: 352x640 (no detections), 38.8ms\n",
      "Speed: 1.4ms preprocess, 38.8ms inference, 0.5ms postprocess per image at shape (1, 3, 352, 640)\n"
     ]
    },
    {
     "name": "stderr",
     "output_type": "stream",
     "text": [
      " 55%|█████▌    | 609/1101 [00:43<00:35, 13.73it/s]"
     ]
    },
    {
     "name": "stdout",
     "output_type": "stream",
     "text": [
      "\n",
      "image 1/1 c:\\Users\\sande\\OneDrive\\Desktop\\IITTP\\2_Asgn\\Sem2\\2_dl\\SemProject\\Automated_Yolo\\dataset\\UAVDT-processed\\val\\images\\img000610.jpg: 352x640 (no detections), 43.1ms\n",
      "Speed: 1.5ms preprocess, 43.1ms inference, 0.5ms postprocess per image at shape (1, 3, 352, 640)\n",
      "\n",
      "image 1/1 c:\\Users\\sande\\OneDrive\\Desktop\\IITTP\\2_Asgn\\Sem2\\2_dl\\SemProject\\Automated_Yolo\\dataset\\UAVDT-processed\\val\\images\\img000611.jpg: 352x640 (no detections), 38.0ms\n",
      "Speed: 1.5ms preprocess, 38.0ms inference, 0.5ms postprocess per image at shape (1, 3, 352, 640)\n"
     ]
    },
    {
     "name": "stderr",
     "output_type": "stream",
     "text": [
      " 55%|█████▌    | 611/1101 [00:43<00:34, 14.17it/s]"
     ]
    },
    {
     "name": "stdout",
     "output_type": "stream",
     "text": [
      "\n",
      "image 1/1 c:\\Users\\sande\\OneDrive\\Desktop\\IITTP\\2_Asgn\\Sem2\\2_dl\\SemProject\\Automated_Yolo\\dataset\\UAVDT-processed\\val\\images\\img000612.jpg: 352x640 (no detections), 37.9ms\n",
      "Speed: 2.1ms preprocess, 37.9ms inference, 0.4ms postprocess per image at shape (1, 3, 352, 640)\n",
      "\n",
      "image 1/1 c:\\Users\\sande\\OneDrive\\Desktop\\IITTP\\2_Asgn\\Sem2\\2_dl\\SemProject\\Automated_Yolo\\dataset\\UAVDT-processed\\val\\images\\img000613.jpg: 352x640 (no detections), 40.5ms\n",
      "Speed: 1.4ms preprocess, 40.5ms inference, 0.5ms postprocess per image at shape (1, 3, 352, 640)\n"
     ]
    },
    {
     "name": "stderr",
     "output_type": "stream",
     "text": [
      " 56%|█████▌    | 613/1101 [00:43<00:34, 14.18it/s]"
     ]
    },
    {
     "name": "stdout",
     "output_type": "stream",
     "text": [
      "\n",
      "image 1/1 c:\\Users\\sande\\OneDrive\\Desktop\\IITTP\\2_Asgn\\Sem2\\2_dl\\SemProject\\Automated_Yolo\\dataset\\UAVDT-processed\\val\\images\\img000614.jpg: 352x640 (no detections), 41.2ms\n",
      "Speed: 2.2ms preprocess, 41.2ms inference, 0.4ms postprocess per image at shape (1, 3, 352, 640)\n",
      "\n",
      "image 1/1 c:\\Users\\sande\\OneDrive\\Desktop\\IITTP\\2_Asgn\\Sem2\\2_dl\\SemProject\\Automated_Yolo\\dataset\\UAVDT-processed\\val\\images\\img000615.jpg: 352x640 (no detections), 37.6ms\n",
      "Speed: 1.5ms preprocess, 37.6ms inference, 0.5ms postprocess per image at shape (1, 3, 352, 640)\n"
     ]
    },
    {
     "name": "stderr",
     "output_type": "stream",
     "text": [
      " 56%|█████▌    | 615/1101 [00:43<00:34, 14.23it/s]"
     ]
    },
    {
     "name": "stdout",
     "output_type": "stream",
     "text": [
      "\n",
      "image 1/1 c:\\Users\\sande\\OneDrive\\Desktop\\IITTP\\2_Asgn\\Sem2\\2_dl\\SemProject\\Automated_Yolo\\dataset\\UAVDT-processed\\val\\images\\img000616.jpg: 352x640 (no detections), 39.6ms\n",
      "Speed: 1.4ms preprocess, 39.6ms inference, 0.5ms postprocess per image at shape (1, 3, 352, 640)\n",
      "\n",
      "image 1/1 c:\\Users\\sande\\OneDrive\\Desktop\\IITTP\\2_Asgn\\Sem2\\2_dl\\SemProject\\Automated_Yolo\\dataset\\UAVDT-processed\\val\\images\\img000617.jpg: 352x640 (no detections), 38.7ms\n",
      "Speed: 1.7ms preprocess, 38.7ms inference, 0.4ms postprocess per image at shape (1, 3, 352, 640)\n"
     ]
    },
    {
     "name": "stderr",
     "output_type": "stream",
     "text": [
      " 56%|█████▌    | 617/1101 [00:43<00:33, 14.49it/s]"
     ]
    },
    {
     "name": "stdout",
     "output_type": "stream",
     "text": [
      "\n",
      "image 1/1 c:\\Users\\sande\\OneDrive\\Desktop\\IITTP\\2_Asgn\\Sem2\\2_dl\\SemProject\\Automated_Yolo\\dataset\\UAVDT-processed\\val\\images\\img000618.jpg: 352x640 (no detections), 58.1ms\n",
      "Speed: 1.5ms preprocess, 58.1ms inference, 0.6ms postprocess per image at shape (1, 3, 352, 640)\n",
      "\n",
      "image 1/1 c:\\Users\\sande\\OneDrive\\Desktop\\IITTP\\2_Asgn\\Sem2\\2_dl\\SemProject\\Automated_Yolo\\dataset\\UAVDT-processed\\val\\images\\img000619.jpg: 352x640 (no detections), 40.6ms\n",
      "Speed: 2.3ms preprocess, 40.6ms inference, 0.5ms postprocess per image at shape (1, 3, 352, 640)\n"
     ]
    },
    {
     "name": "stderr",
     "output_type": "stream",
     "text": [
      " 56%|█████▌    | 619/1101 [00:43<00:35, 13.47it/s]"
     ]
    },
    {
     "name": "stdout",
     "output_type": "stream",
     "text": [
      "\n",
      "image 1/1 c:\\Users\\sande\\OneDrive\\Desktop\\IITTP\\2_Asgn\\Sem2\\2_dl\\SemProject\\Automated_Yolo\\dataset\\UAVDT-processed\\val\\images\\img000620.jpg: 352x640 (no detections), 36.7ms\n",
      "Speed: 1.4ms preprocess, 36.7ms inference, 0.4ms postprocess per image at shape (1, 3, 352, 640)\n",
      "\n",
      "image 1/1 c:\\Users\\sande\\OneDrive\\Desktop\\IITTP\\2_Asgn\\Sem2\\2_dl\\SemProject\\Automated_Yolo\\dataset\\UAVDT-processed\\val\\images\\img000621.jpg: 352x640 (no detections), 40.1ms\n",
      "Speed: 1.5ms preprocess, 40.1ms inference, 0.4ms postprocess per image at shape (1, 3, 352, 640)\n"
     ]
    },
    {
     "name": "stderr",
     "output_type": "stream",
     "text": [
      " 56%|█████▋    | 621/1101 [00:43<00:33, 14.15it/s]"
     ]
    },
    {
     "name": "stdout",
     "output_type": "stream",
     "text": [
      "\n",
      "image 1/1 c:\\Users\\sande\\OneDrive\\Desktop\\IITTP\\2_Asgn\\Sem2\\2_dl\\SemProject\\Automated_Yolo\\dataset\\UAVDT-processed\\val\\images\\img000622.jpg: 352x640 (no detections), 39.6ms\n",
      "Speed: 1.5ms preprocess, 39.6ms inference, 0.4ms postprocess per image at shape (1, 3, 352, 640)\n",
      "\n",
      "image 1/1 c:\\Users\\sande\\OneDrive\\Desktop\\IITTP\\2_Asgn\\Sem2\\2_dl\\SemProject\\Automated_Yolo\\dataset\\UAVDT-processed\\val\\images\\img000623.jpg: 352x640 (no detections), 36.3ms\n",
      "Speed: 1.6ms preprocess, 36.3ms inference, 0.5ms postprocess per image at shape (1, 3, 352, 640)\n"
     ]
    },
    {
     "name": "stderr",
     "output_type": "stream",
     "text": [
      " 57%|█████▋    | 623/1101 [00:43<00:33, 14.22it/s]"
     ]
    },
    {
     "name": "stdout",
     "output_type": "stream",
     "text": [
      "\n",
      "image 1/1 c:\\Users\\sande\\OneDrive\\Desktop\\IITTP\\2_Asgn\\Sem2\\2_dl\\SemProject\\Automated_Yolo\\dataset\\UAVDT-processed\\val\\images\\img000624.jpg: 352x640 (no detections), 43.7ms\n",
      "Speed: 1.5ms preprocess, 43.7ms inference, 0.5ms postprocess per image at shape (1, 3, 352, 640)\n",
      "\n",
      "image 1/1 c:\\Users\\sande\\OneDrive\\Desktop\\IITTP\\2_Asgn\\Sem2\\2_dl\\SemProject\\Automated_Yolo\\dataset\\UAVDT-processed\\val\\images\\img000625.jpg: 352x640 (no detections), 37.6ms\n",
      "Speed: 1.6ms preprocess, 37.6ms inference, 0.5ms postprocess per image at shape (1, 3, 352, 640)\n"
     ]
    },
    {
     "name": "stderr",
     "output_type": "stream",
     "text": [
      " 57%|█████▋    | 625/1101 [00:44<00:33, 14.27it/s]"
     ]
    },
    {
     "name": "stdout",
     "output_type": "stream",
     "text": [
      "\n",
      "image 1/1 c:\\Users\\sande\\OneDrive\\Desktop\\IITTP\\2_Asgn\\Sem2\\2_dl\\SemProject\\Automated_Yolo\\dataset\\UAVDT-processed\\val\\images\\img000626.jpg: 352x640 (no detections), 41.4ms\n",
      "Speed: 1.6ms preprocess, 41.4ms inference, 0.7ms postprocess per image at shape (1, 3, 352, 640)\n",
      "\n",
      "image 1/1 c:\\Users\\sande\\OneDrive\\Desktop\\IITTP\\2_Asgn\\Sem2\\2_dl\\SemProject\\Automated_Yolo\\dataset\\UAVDT-processed\\val\\images\\img000627.jpg: 352x640 (no detections), 36.7ms\n",
      "Speed: 1.9ms preprocess, 36.7ms inference, 0.4ms postprocess per image at shape (1, 3, 352, 640)\n"
     ]
    },
    {
     "name": "stderr",
     "output_type": "stream",
     "text": [
      " 57%|█████▋    | 627/1101 [00:44<00:32, 14.51it/s]"
     ]
    },
    {
     "name": "stdout",
     "output_type": "stream",
     "text": [
      "\n",
      "image 1/1 c:\\Users\\sande\\OneDrive\\Desktop\\IITTP\\2_Asgn\\Sem2\\2_dl\\SemProject\\Automated_Yolo\\dataset\\UAVDT-processed\\val\\images\\img000628.jpg: 352x640 (no detections), 42.0ms\n",
      "Speed: 1.4ms preprocess, 42.0ms inference, 0.4ms postprocess per image at shape (1, 3, 352, 640)\n",
      "\n",
      "image 1/1 c:\\Users\\sande\\OneDrive\\Desktop\\IITTP\\2_Asgn\\Sem2\\2_dl\\SemProject\\Automated_Yolo\\dataset\\UAVDT-processed\\val\\images\\img000629.jpg: 352x640 (no detections), 62.7ms\n",
      "Speed: 2.6ms preprocess, 62.7ms inference, 0.5ms postprocess per image at shape (1, 3, 352, 640)\n"
     ]
    },
    {
     "name": "stderr",
     "output_type": "stream",
     "text": [
      " 57%|█████▋    | 629/1101 [00:44<00:33, 13.96it/s]"
     ]
    },
    {
     "name": "stdout",
     "output_type": "stream",
     "text": [
      "\n",
      "image 1/1 c:\\Users\\sande\\OneDrive\\Desktop\\IITTP\\2_Asgn\\Sem2\\2_dl\\SemProject\\Automated_Yolo\\dataset\\UAVDT-processed\\val\\images\\img000630.jpg: 352x640 (no detections), 45.7ms\n",
      "Speed: 2.4ms preprocess, 45.7ms inference, 0.4ms postprocess per image at shape (1, 3, 352, 640)\n",
      "\n",
      "image 1/1 c:\\Users\\sande\\OneDrive\\Desktop\\IITTP\\2_Asgn\\Sem2\\2_dl\\SemProject\\Automated_Yolo\\dataset\\UAVDT-processed\\val\\images\\img000631.jpg: 352x640 (no detections), 39.0ms\n",
      "Speed: 1.8ms preprocess, 39.0ms inference, 0.4ms postprocess per image at shape (1, 3, 352, 640)\n"
     ]
    },
    {
     "name": "stderr",
     "output_type": "stream",
     "text": [
      " 57%|█████▋    | 631/1101 [00:44<00:34, 13.76it/s]"
     ]
    },
    {
     "name": "stdout",
     "output_type": "stream",
     "text": [
      "\n",
      "image 1/1 c:\\Users\\sande\\OneDrive\\Desktop\\IITTP\\2_Asgn\\Sem2\\2_dl\\SemProject\\Automated_Yolo\\dataset\\UAVDT-processed\\val\\images\\img000632.jpg: 352x640 (no detections), 40.1ms\n",
      "Speed: 1.6ms preprocess, 40.1ms inference, 0.5ms postprocess per image at shape (1, 3, 352, 640)\n",
      "\n",
      "image 1/1 c:\\Users\\sande\\OneDrive\\Desktop\\IITTP\\2_Asgn\\Sem2\\2_dl\\SemProject\\Automated_Yolo\\dataset\\UAVDT-processed\\val\\images\\img000633.jpg: 352x640 (no detections), 41.6ms\n",
      "Speed: 2.0ms preprocess, 41.6ms inference, 0.5ms postprocess per image at shape (1, 3, 352, 640)\n"
     ]
    },
    {
     "name": "stderr",
     "output_type": "stream",
     "text": [
      " 57%|█████▋    | 633/1101 [00:44<00:34, 13.71it/s]"
     ]
    },
    {
     "name": "stdout",
     "output_type": "stream",
     "text": [
      "\n",
      "image 1/1 c:\\Users\\sande\\OneDrive\\Desktop\\IITTP\\2_Asgn\\Sem2\\2_dl\\SemProject\\Automated_Yolo\\dataset\\UAVDT-processed\\val\\images\\img000634.jpg: 352x640 (no detections), 40.7ms\n",
      "Speed: 2.1ms preprocess, 40.7ms inference, 0.5ms postprocess per image at shape (1, 3, 352, 640)\n",
      "\n",
      "image 1/1 c:\\Users\\sande\\OneDrive\\Desktop\\IITTP\\2_Asgn\\Sem2\\2_dl\\SemProject\\Automated_Yolo\\dataset\\UAVDT-processed\\val\\images\\img000635.jpg: 352x640 (no detections), 41.6ms\n",
      "Speed: 2.2ms preprocess, 41.6ms inference, 0.5ms postprocess per image at shape (1, 3, 352, 640)\n"
     ]
    },
    {
     "name": "stderr",
     "output_type": "stream",
     "text": [
      " 58%|█████▊    | 635/1101 [00:44<00:34, 13.46it/s]"
     ]
    },
    {
     "name": "stdout",
     "output_type": "stream",
     "text": [
      "\n",
      "image 1/1 c:\\Users\\sande\\OneDrive\\Desktop\\IITTP\\2_Asgn\\Sem2\\2_dl\\SemProject\\Automated_Yolo\\dataset\\UAVDT-processed\\val\\images\\img000636.jpg: 352x640 (no detections), 42.1ms\n",
      "Speed: 2.1ms preprocess, 42.1ms inference, 0.5ms postprocess per image at shape (1, 3, 352, 640)\n",
      "\n",
      "image 1/1 c:\\Users\\sande\\OneDrive\\Desktop\\IITTP\\2_Asgn\\Sem2\\2_dl\\SemProject\\Automated_Yolo\\dataset\\UAVDT-processed\\val\\images\\img000637.jpg: 352x640 (no detections), 43.2ms\n",
      "Speed: 1.5ms preprocess, 43.2ms inference, 0.5ms postprocess per image at shape (1, 3, 352, 640)\n"
     ]
    },
    {
     "name": "stderr",
     "output_type": "stream",
     "text": [
      " 58%|█████▊    | 637/1101 [00:45<00:34, 13.54it/s]"
     ]
    },
    {
     "name": "stdout",
     "output_type": "stream",
     "text": [
      "\n",
      "image 1/1 c:\\Users\\sande\\OneDrive\\Desktop\\IITTP\\2_Asgn\\Sem2\\2_dl\\SemProject\\Automated_Yolo\\dataset\\UAVDT-processed\\val\\images\\img000638.jpg: 352x640 (no detections), 43.9ms\n",
      "Speed: 2.0ms preprocess, 43.9ms inference, 0.5ms postprocess per image at shape (1, 3, 352, 640)\n",
      "\n",
      "image 1/1 c:\\Users\\sande\\OneDrive\\Desktop\\IITTP\\2_Asgn\\Sem2\\2_dl\\SemProject\\Automated_Yolo\\dataset\\UAVDT-processed\\val\\images\\img000639.jpg: 352x640 (no detections), 42.1ms\n",
      "Speed: 1.8ms preprocess, 42.1ms inference, 0.5ms postprocess per image at shape (1, 3, 352, 640)\n"
     ]
    },
    {
     "name": "stderr",
     "output_type": "stream",
     "text": [
      " 58%|█████▊    | 639/1101 [00:45<00:33, 13.70it/s]"
     ]
    },
    {
     "name": "stdout",
     "output_type": "stream",
     "text": [
      "\n",
      "image 1/1 c:\\Users\\sande\\OneDrive\\Desktop\\IITTP\\2_Asgn\\Sem2\\2_dl\\SemProject\\Automated_Yolo\\dataset\\UAVDT-processed\\val\\images\\img000640.jpg: 352x640 (no detections), 49.3ms\n",
      "Speed: 2.1ms preprocess, 49.3ms inference, 0.7ms postprocess per image at shape (1, 3, 352, 640)\n",
      "\n",
      "image 1/1 c:\\Users\\sande\\OneDrive\\Desktop\\IITTP\\2_Asgn\\Sem2\\2_dl\\SemProject\\Automated_Yolo\\dataset\\UAVDT-processed\\val\\images\\img000641.jpg: 352x640 (no detections), 46.6ms\n",
      "Speed: 2.8ms preprocess, 46.6ms inference, 0.5ms postprocess per image at shape (1, 3, 352, 640)\n"
     ]
    },
    {
     "name": "stderr",
     "output_type": "stream",
     "text": [
      " 58%|█████▊    | 641/1101 [00:45<00:34, 13.33it/s]"
     ]
    },
    {
     "name": "stdout",
     "output_type": "stream",
     "text": [
      "\n",
      "image 1/1 c:\\Users\\sande\\OneDrive\\Desktop\\IITTP\\2_Asgn\\Sem2\\2_dl\\SemProject\\Automated_Yolo\\dataset\\UAVDT-processed\\val\\images\\img000642.jpg: 352x640 (no detections), 43.7ms\n",
      "Speed: 2.1ms preprocess, 43.7ms inference, 0.4ms postprocess per image at shape (1, 3, 352, 640)\n",
      "\n",
      "image 1/1 c:\\Users\\sande\\OneDrive\\Desktop\\IITTP\\2_Asgn\\Sem2\\2_dl\\SemProject\\Automated_Yolo\\dataset\\UAVDT-processed\\val\\images\\img000643.jpg: 352x640 (no detections), 40.4ms\n",
      "Speed: 2.1ms preprocess, 40.4ms inference, 0.5ms postprocess per image at shape (1, 3, 352, 640)\n"
     ]
    },
    {
     "name": "stderr",
     "output_type": "stream",
     "text": [
      " 58%|█████▊    | 643/1101 [00:45<00:34, 13.35it/s]"
     ]
    },
    {
     "name": "stdout",
     "output_type": "stream",
     "text": [
      "\n",
      "image 1/1 c:\\Users\\sande\\OneDrive\\Desktop\\IITTP\\2_Asgn\\Sem2\\2_dl\\SemProject\\Automated_Yolo\\dataset\\UAVDT-processed\\val\\images\\img000644.jpg: 352x640 (no detections), 41.6ms\n",
      "Speed: 2.0ms preprocess, 41.6ms inference, 0.5ms postprocess per image at shape (1, 3, 352, 640)\n",
      "\n",
      "image 1/1 c:\\Users\\sande\\OneDrive\\Desktop\\IITTP\\2_Asgn\\Sem2\\2_dl\\SemProject\\Automated_Yolo\\dataset\\UAVDT-processed\\val\\images\\img000645.jpg: 352x640 (no detections), 36.7ms\n",
      "Speed: 1.8ms preprocess, 36.7ms inference, 0.4ms postprocess per image at shape (1, 3, 352, 640)\n"
     ]
    },
    {
     "name": "stderr",
     "output_type": "stream",
     "text": [
      " 59%|█████▊    | 645/1101 [00:45<00:32, 14.00it/s]"
     ]
    },
    {
     "name": "stdout",
     "output_type": "stream",
     "text": [
      "\n",
      "image 1/1 c:\\Users\\sande\\OneDrive\\Desktop\\IITTP\\2_Asgn\\Sem2\\2_dl\\SemProject\\Automated_Yolo\\dataset\\UAVDT-processed\\val\\images\\img000646.jpg: 352x640 (no detections), 42.1ms\n",
      "Speed: 2.3ms preprocess, 42.1ms inference, 0.5ms postprocess per image at shape (1, 3, 352, 640)\n",
      "\n",
      "image 1/1 c:\\Users\\sande\\OneDrive\\Desktop\\IITTP\\2_Asgn\\Sem2\\2_dl\\SemProject\\Automated_Yolo\\dataset\\UAVDT-processed\\val\\images\\img000647.jpg: 352x640 (no detections), 40.8ms\n",
      "Speed: 2.1ms preprocess, 40.8ms inference, 0.5ms postprocess per image at shape (1, 3, 352, 640)\n"
     ]
    },
    {
     "name": "stderr",
     "output_type": "stream",
     "text": [
      " 59%|█████▉    | 647/1101 [00:45<00:33, 13.55it/s]"
     ]
    },
    {
     "name": "stdout",
     "output_type": "stream",
     "text": [
      "\n",
      "image 1/1 c:\\Users\\sande\\OneDrive\\Desktop\\IITTP\\2_Asgn\\Sem2\\2_dl\\SemProject\\Automated_Yolo\\dataset\\UAVDT-processed\\val\\images\\img000648.jpg: 352x640 (no detections), 41.1ms\n",
      "Speed: 2.1ms preprocess, 41.1ms inference, 0.5ms postprocess per image at shape (1, 3, 352, 640)\n",
      "\n",
      "image 1/1 c:\\Users\\sande\\OneDrive\\Desktop\\IITTP\\2_Asgn\\Sem2\\2_dl\\SemProject\\Automated_Yolo\\dataset\\UAVDT-processed\\val\\images\\img000649.jpg: 352x640 (no detections), 37.8ms\n",
      "Speed: 1.4ms preprocess, 37.8ms inference, 0.5ms postprocess per image at shape (1, 3, 352, 640)\n"
     ]
    },
    {
     "name": "stderr",
     "output_type": "stream",
     "text": [
      " 59%|█████▉    | 649/1101 [00:45<00:32, 13.76it/s]"
     ]
    },
    {
     "name": "stdout",
     "output_type": "stream",
     "text": [
      "\n",
      "image 1/1 c:\\Users\\sande\\OneDrive\\Desktop\\IITTP\\2_Asgn\\Sem2\\2_dl\\SemProject\\Automated_Yolo\\dataset\\UAVDT-processed\\val\\images\\img000650.jpg: 352x640 (no detections), 41.0ms\n",
      "Speed: 2.2ms preprocess, 41.0ms inference, 0.5ms postprocess per image at shape (1, 3, 352, 640)\n",
      "\n",
      "image 1/1 c:\\Users\\sande\\OneDrive\\Desktop\\IITTP\\2_Asgn\\Sem2\\2_dl\\SemProject\\Automated_Yolo\\dataset\\UAVDT-processed\\val\\images\\img000651.jpg: 352x640 (no detections), 40.1ms\n",
      "Speed: 2.2ms preprocess, 40.1ms inference, 0.5ms postprocess per image at shape (1, 3, 352, 640)\n"
     ]
    },
    {
     "name": "stderr",
     "output_type": "stream",
     "text": [
      " 59%|█████▉    | 651/1101 [00:46<00:33, 13.63it/s]"
     ]
    },
    {
     "name": "stdout",
     "output_type": "stream",
     "text": [
      "\n",
      "image 1/1 c:\\Users\\sande\\OneDrive\\Desktop\\IITTP\\2_Asgn\\Sem2\\2_dl\\SemProject\\Automated_Yolo\\dataset\\UAVDT-processed\\val\\images\\img000652.jpg: 352x640 (no detections), 41.9ms\n",
      "Speed: 2.2ms preprocess, 41.9ms inference, 0.6ms postprocess per image at shape (1, 3, 352, 640)\n",
      "\n",
      "image 1/1 c:\\Users\\sande\\OneDrive\\Desktop\\IITTP\\2_Asgn\\Sem2\\2_dl\\SemProject\\Automated_Yolo\\dataset\\UAVDT-processed\\val\\images\\img000653.jpg: 352x640 (no detections), 56.5ms\n",
      "Speed: 2.1ms preprocess, 56.5ms inference, 0.8ms postprocess per image at shape (1, 3, 352, 640)\n"
     ]
    },
    {
     "name": "stderr",
     "output_type": "stream",
     "text": [
      " 59%|█████▉    | 653/1101 [00:46<00:33, 13.35it/s]"
     ]
    },
    {
     "name": "stdout",
     "output_type": "stream",
     "text": [
      "\n",
      "image 1/1 c:\\Users\\sande\\OneDrive\\Desktop\\IITTP\\2_Asgn\\Sem2\\2_dl\\SemProject\\Automated_Yolo\\dataset\\UAVDT-processed\\val\\images\\img000654.jpg: 352x640 (no detections), 67.7ms\n",
      "Speed: 2.4ms preprocess, 67.7ms inference, 0.7ms postprocess per image at shape (1, 3, 352, 640)\n",
      "\n",
      "image 1/1 c:\\Users\\sande\\OneDrive\\Desktop\\IITTP\\2_Asgn\\Sem2\\2_dl\\SemProject\\Automated_Yolo\\dataset\\UAVDT-processed\\val\\images\\img000655.jpg: 352x640 (no detections), 41.4ms\n",
      "Speed: 1.5ms preprocess, 41.4ms inference, 0.5ms postprocess per image at shape (1, 3, 352, 640)\n"
     ]
    },
    {
     "name": "stderr",
     "output_type": "stream",
     "text": [
      " 59%|█████▉    | 655/1101 [00:46<00:35, 12.50it/s]"
     ]
    },
    {
     "name": "stdout",
     "output_type": "stream",
     "text": [
      "\n",
      "image 1/1 c:\\Users\\sande\\OneDrive\\Desktop\\IITTP\\2_Asgn\\Sem2\\2_dl\\SemProject\\Automated_Yolo\\dataset\\UAVDT-processed\\val\\images\\img000656.jpg: 352x640 (no detections), 40.6ms\n",
      "Speed: 2.2ms preprocess, 40.6ms inference, 0.5ms postprocess per image at shape (1, 3, 352, 640)\n",
      "\n",
      "image 1/1 c:\\Users\\sande\\OneDrive\\Desktop\\IITTP\\2_Asgn\\Sem2\\2_dl\\SemProject\\Automated_Yolo\\dataset\\UAVDT-processed\\val\\images\\img000657.jpg: 352x640 (no detections), 39.5ms\n",
      "Speed: 1.5ms preprocess, 39.5ms inference, 0.4ms postprocess per image at shape (1, 3, 352, 640)\n"
     ]
    },
    {
     "name": "stderr",
     "output_type": "stream",
     "text": [
      " 60%|█████▉    | 657/1101 [00:46<00:34, 12.78it/s]"
     ]
    },
    {
     "name": "stdout",
     "output_type": "stream",
     "text": [
      "\n",
      "image 1/1 c:\\Users\\sande\\OneDrive\\Desktop\\IITTP\\2_Asgn\\Sem2\\2_dl\\SemProject\\Automated_Yolo\\dataset\\UAVDT-processed\\val\\images\\img000658.jpg: 352x640 (no detections), 42.9ms\n",
      "Speed: 1.4ms preprocess, 42.9ms inference, 0.5ms postprocess per image at shape (1, 3, 352, 640)\n",
      "\n",
      "image 1/1 c:\\Users\\sande\\OneDrive\\Desktop\\IITTP\\2_Asgn\\Sem2\\2_dl\\SemProject\\Automated_Yolo\\dataset\\UAVDT-processed\\val\\images\\img000659.jpg: 352x640 (no detections), 39.0ms\n",
      "Speed: 2.1ms preprocess, 39.0ms inference, 0.5ms postprocess per image at shape (1, 3, 352, 640)\n"
     ]
    },
    {
     "name": "stderr",
     "output_type": "stream",
     "text": [
      " 60%|█████▉    | 659/1101 [00:46<00:33, 13.19it/s]"
     ]
    },
    {
     "name": "stdout",
     "output_type": "stream",
     "text": [
      "\n",
      "image 1/1 c:\\Users\\sande\\OneDrive\\Desktop\\IITTP\\2_Asgn\\Sem2\\2_dl\\SemProject\\Automated_Yolo\\dataset\\UAVDT-processed\\val\\images\\img000660.jpg: 352x640 (no detections), 41.1ms\n",
      "Speed: 2.1ms preprocess, 41.1ms inference, 0.5ms postprocess per image at shape (1, 3, 352, 640)\n",
      "\n",
      "image 1/1 c:\\Users\\sande\\OneDrive\\Desktop\\IITTP\\2_Asgn\\Sem2\\2_dl\\SemProject\\Automated_Yolo\\dataset\\UAVDT-processed\\val\\images\\img000661.jpg: 352x640 (no detections), 39.9ms\n",
      "Speed: 2.2ms preprocess, 39.9ms inference, 0.4ms postprocess per image at shape (1, 3, 352, 640)\n"
     ]
    },
    {
     "name": "stderr",
     "output_type": "stream",
     "text": [
      " 60%|██████    | 661/1101 [00:46<00:32, 13.54it/s]"
     ]
    },
    {
     "name": "stdout",
     "output_type": "stream",
     "text": [
      "\n",
      "image 1/1 c:\\Users\\sande\\OneDrive\\Desktop\\IITTP\\2_Asgn\\Sem2\\2_dl\\SemProject\\Automated_Yolo\\dataset\\UAVDT-processed\\val\\images\\img000662.jpg: 352x640 (no detections), 39.9ms\n",
      "Speed: 2.1ms preprocess, 39.9ms inference, 0.5ms postprocess per image at shape (1, 3, 352, 640)\n",
      "\n",
      "image 1/1 c:\\Users\\sande\\OneDrive\\Desktop\\IITTP\\2_Asgn\\Sem2\\2_dl\\SemProject\\Automated_Yolo\\dataset\\UAVDT-processed\\val\\images\\img000663.jpg: 352x640 (no detections), 41.1ms\n",
      "Speed: 2.3ms preprocess, 41.1ms inference, 0.5ms postprocess per image at shape (1, 3, 352, 640)\n"
     ]
    },
    {
     "name": "stderr",
     "output_type": "stream",
     "text": [
      " 60%|██████    | 663/1101 [00:46<00:30, 14.22it/s]"
     ]
    },
    {
     "name": "stdout",
     "output_type": "stream",
     "text": [
      "\n",
      "image 1/1 c:\\Users\\sande\\OneDrive\\Desktop\\IITTP\\2_Asgn\\Sem2\\2_dl\\SemProject\\Automated_Yolo\\dataset\\UAVDT-processed\\val\\images\\img000664.jpg: 352x640 (no detections), 60.5ms\n",
      "Speed: 1.9ms preprocess, 60.5ms inference, 0.6ms postprocess per image at shape (1, 3, 352, 640)\n",
      "\n",
      "image 1/1 c:\\Users\\sande\\OneDrive\\Desktop\\IITTP\\2_Asgn\\Sem2\\2_dl\\SemProject\\Automated_Yolo\\dataset\\UAVDT-processed\\val\\images\\img000665.jpg: 352x640 (no detections), 43.1ms\n",
      "Speed: 2.3ms preprocess, 43.1ms inference, 0.5ms postprocess per image at shape (1, 3, 352, 640)\n"
     ]
    },
    {
     "name": "stderr",
     "output_type": "stream",
     "text": [
      " 60%|██████    | 665/1101 [00:47<00:31, 13.70it/s]"
     ]
    },
    {
     "name": "stdout",
     "output_type": "stream",
     "text": [
      "\n",
      "image 1/1 c:\\Users\\sande\\OneDrive\\Desktop\\IITTP\\2_Asgn\\Sem2\\2_dl\\SemProject\\Automated_Yolo\\dataset\\UAVDT-processed\\val\\images\\img000666.jpg: 352x640 (no detections), 42.6ms\n",
      "Speed: 1.5ms preprocess, 42.6ms inference, 0.5ms postprocess per image at shape (1, 3, 352, 640)\n",
      "\n",
      "image 1/1 c:\\Users\\sande\\OneDrive\\Desktop\\IITTP\\2_Asgn\\Sem2\\2_dl\\SemProject\\Automated_Yolo\\dataset\\UAVDT-processed\\val\\images\\img000667.jpg: 352x640 (no detections), 42.3ms\n",
      "Speed: 2.2ms preprocess, 42.3ms inference, 0.5ms postprocess per image at shape (1, 3, 352, 640)\n"
     ]
    },
    {
     "name": "stderr",
     "output_type": "stream",
     "text": [
      " 61%|██████    | 667/1101 [00:47<00:30, 14.40it/s]"
     ]
    },
    {
     "name": "stdout",
     "output_type": "stream",
     "text": [
      "\n",
      "image 1/1 c:\\Users\\sande\\OneDrive\\Desktop\\IITTP\\2_Asgn\\Sem2\\2_dl\\SemProject\\Automated_Yolo\\dataset\\UAVDT-processed\\val\\images\\img000668.jpg: 352x640 (no detections), 43.0ms\n",
      "Speed: 2.1ms preprocess, 43.0ms inference, 0.5ms postprocess per image at shape (1, 3, 352, 640)\n",
      "\n",
      "image 1/1 c:\\Users\\sande\\OneDrive\\Desktop\\IITTP\\2_Asgn\\Sem2\\2_dl\\SemProject\\Automated_Yolo\\dataset\\UAVDT-processed\\val\\images\\img000669.jpg: 352x640 (no detections), 44.0ms\n",
      "Speed: 2.1ms preprocess, 44.0ms inference, 0.4ms postprocess per image at shape (1, 3, 352, 640)\n"
     ]
    },
    {
     "name": "stderr",
     "output_type": "stream",
     "text": [
      " 61%|██████    | 669/1101 [00:47<00:29, 14.40it/s]"
     ]
    },
    {
     "name": "stdout",
     "output_type": "stream",
     "text": [
      "\n",
      "image 1/1 c:\\Users\\sande\\OneDrive\\Desktop\\IITTP\\2_Asgn\\Sem2\\2_dl\\SemProject\\Automated_Yolo\\dataset\\UAVDT-processed\\val\\images\\img000670.jpg: 352x640 (no detections), 42.0ms\n",
      "Speed: 2.2ms preprocess, 42.0ms inference, 0.4ms postprocess per image at shape (1, 3, 352, 640)\n",
      "\n",
      "image 1/1 c:\\Users\\sande\\OneDrive\\Desktop\\IITTP\\2_Asgn\\Sem2\\2_dl\\SemProject\\Automated_Yolo\\dataset\\UAVDT-processed\\val\\images\\img000671.jpg: 352x640 (no detections), 40.2ms\n",
      "Speed: 2.0ms preprocess, 40.2ms inference, 1.0ms postprocess per image at shape (1, 3, 352, 640)\n"
     ]
    },
    {
     "name": "stderr",
     "output_type": "stream",
     "text": [
      " 61%|██████    | 671/1101 [00:47<00:29, 14.76it/s]"
     ]
    },
    {
     "name": "stdout",
     "output_type": "stream",
     "text": [
      "\n",
      "image 1/1 c:\\Users\\sande\\OneDrive\\Desktop\\IITTP\\2_Asgn\\Sem2\\2_dl\\SemProject\\Automated_Yolo\\dataset\\UAVDT-processed\\val\\images\\img000672.jpg: 352x640 (no detections), 43.5ms\n",
      "Speed: 2.2ms preprocess, 43.5ms inference, 0.5ms postprocess per image at shape (1, 3, 352, 640)\n",
      "\n",
      "image 1/1 c:\\Users\\sande\\OneDrive\\Desktop\\IITTP\\2_Asgn\\Sem2\\2_dl\\SemProject\\Automated_Yolo\\dataset\\UAVDT-processed\\val\\images\\img000673.jpg: 352x640 (no detections), 58.4ms\n",
      "Speed: 4.4ms preprocess, 58.4ms inference, 0.5ms postprocess per image at shape (1, 3, 352, 640)\n"
     ]
    },
    {
     "name": "stderr",
     "output_type": "stream",
     "text": [
      " 61%|██████    | 673/1101 [00:47<00:29, 14.29it/s]"
     ]
    },
    {
     "name": "stdout",
     "output_type": "stream",
     "text": [
      "\n",
      "image 1/1 c:\\Users\\sande\\OneDrive\\Desktop\\IITTP\\2_Asgn\\Sem2\\2_dl\\SemProject\\Automated_Yolo\\dataset\\UAVDT-processed\\val\\images\\img000674.jpg: 352x640 (no detections), 44.4ms\n",
      "Speed: 2.4ms preprocess, 44.4ms inference, 0.5ms postprocess per image at shape (1, 3, 352, 640)\n",
      "\n",
      "image 1/1 c:\\Users\\sande\\OneDrive\\Desktop\\IITTP\\2_Asgn\\Sem2\\2_dl\\SemProject\\Automated_Yolo\\dataset\\UAVDT-processed\\val\\images\\img000675.jpg: 352x640 (no detections), 39.7ms\n",
      "Speed: 2.2ms preprocess, 39.7ms inference, 0.5ms postprocess per image at shape (1, 3, 352, 640)\n"
     ]
    },
    {
     "name": "stderr",
     "output_type": "stream",
     "text": [
      " 61%|██████▏   | 675/1101 [00:47<00:29, 14.59it/s]"
     ]
    },
    {
     "name": "stdout",
     "output_type": "stream",
     "text": [
      "\n",
      "image 1/1 c:\\Users\\sande\\OneDrive\\Desktop\\IITTP\\2_Asgn\\Sem2\\2_dl\\SemProject\\Automated_Yolo\\dataset\\UAVDT-processed\\val\\images\\img000676.jpg: 352x640 (no detections), 42.7ms\n",
      "Speed: 2.1ms preprocess, 42.7ms inference, 0.5ms postprocess per image at shape (1, 3, 352, 640)\n",
      "\n",
      "image 1/1 c:\\Users\\sande\\OneDrive\\Desktop\\IITTP\\2_Asgn\\Sem2\\2_dl\\SemProject\\Automated_Yolo\\dataset\\UAVDT-processed\\val\\images\\img000677.jpg: 352x640 (no detections), 40.0ms\n",
      "Speed: 2.1ms preprocess, 40.0ms inference, 0.5ms postprocess per image at shape (1, 3, 352, 640)\n"
     ]
    },
    {
     "name": "stderr",
     "output_type": "stream",
     "text": [
      " 61%|██████▏   | 677/1101 [00:47<00:28, 14.92it/s]"
     ]
    },
    {
     "name": "stdout",
     "output_type": "stream",
     "text": [
      "\n",
      "image 1/1 c:\\Users\\sande\\OneDrive\\Desktop\\IITTP\\2_Asgn\\Sem2\\2_dl\\SemProject\\Automated_Yolo\\dataset\\UAVDT-processed\\val\\images\\img000678.jpg: 352x640 (no detections), 42.6ms\n",
      "Speed: 2.2ms preprocess, 42.6ms inference, 0.5ms postprocess per image at shape (1, 3, 352, 640)\n",
      "\n",
      "image 1/1 c:\\Users\\sande\\OneDrive\\Desktop\\IITTP\\2_Asgn\\Sem2\\2_dl\\SemProject\\Automated_Yolo\\dataset\\UAVDT-processed\\val\\images\\img000679.jpg: 352x640 (no detections), 40.8ms\n",
      "Speed: 2.1ms preprocess, 40.8ms inference, 0.4ms postprocess per image at shape (1, 3, 352, 640)\n"
     ]
    },
    {
     "name": "stderr",
     "output_type": "stream",
     "text": [
      " 62%|██████▏   | 679/1101 [00:48<00:28, 15.00it/s]"
     ]
    },
    {
     "name": "stdout",
     "output_type": "stream",
     "text": [
      "\n",
      "image 1/1 c:\\Users\\sande\\OneDrive\\Desktop\\IITTP\\2_Asgn\\Sem2\\2_dl\\SemProject\\Automated_Yolo\\dataset\\UAVDT-processed\\val\\images\\img000680.jpg: 352x640 (no detections), 43.0ms\n",
      "Speed: 2.4ms preprocess, 43.0ms inference, 0.5ms postprocess per image at shape (1, 3, 352, 640)\n",
      "\n",
      "image 1/1 c:\\Users\\sande\\OneDrive\\Desktop\\IITTP\\2_Asgn\\Sem2\\2_dl\\SemProject\\Automated_Yolo\\dataset\\UAVDT-processed\\val\\images\\img000681.jpg: 352x640 (no detections), 40.7ms\n",
      "Speed: 2.2ms preprocess, 40.7ms inference, 0.4ms postprocess per image at shape (1, 3, 352, 640)\n"
     ]
    },
    {
     "name": "stderr",
     "output_type": "stream",
     "text": [
      " 62%|██████▏   | 681/1101 [00:48<00:27, 15.13it/s]"
     ]
    },
    {
     "name": "stdout",
     "output_type": "stream",
     "text": [
      "\n",
      "image 1/1 c:\\Users\\sande\\OneDrive\\Desktop\\IITTP\\2_Asgn\\Sem2\\2_dl\\SemProject\\Automated_Yolo\\dataset\\UAVDT-processed\\val\\images\\img000682.jpg: 352x640 (no detections), 61.3ms\n",
      "Speed: 1.5ms preprocess, 61.3ms inference, 0.5ms postprocess per image at shape (1, 3, 352, 640)\n",
      "\n",
      "image 1/1 c:\\Users\\sande\\OneDrive\\Desktop\\IITTP\\2_Asgn\\Sem2\\2_dl\\SemProject\\Automated_Yolo\\dataset\\UAVDT-processed\\val\\images\\img000683.jpg: 352x640 (no detections), 43.7ms\n",
      "Speed: 2.4ms preprocess, 43.7ms inference, 0.6ms postprocess per image at shape (1, 3, 352, 640)\n"
     ]
    },
    {
     "name": "stderr",
     "output_type": "stream",
     "text": [
      " 62%|██████▏   | 683/1101 [00:48<00:28, 14.46it/s]"
     ]
    },
    {
     "name": "stdout",
     "output_type": "stream",
     "text": [
      "\n",
      "image 1/1 c:\\Users\\sande\\OneDrive\\Desktop\\IITTP\\2_Asgn\\Sem2\\2_dl\\SemProject\\Automated_Yolo\\dataset\\UAVDT-processed\\val\\images\\img000684.jpg: 352x640 (no detections), 43.9ms\n",
      "Speed: 2.0ms preprocess, 43.9ms inference, 0.5ms postprocess per image at shape (1, 3, 352, 640)\n",
      "\n",
      "image 1/1 c:\\Users\\sande\\OneDrive\\Desktop\\IITTP\\2_Asgn\\Sem2\\2_dl\\SemProject\\Automated_Yolo\\dataset\\UAVDT-processed\\val\\images\\img000685.jpg: 352x640 (no detections), 42.4ms\n",
      "Speed: 2.2ms preprocess, 42.4ms inference, 0.5ms postprocess per image at shape (1, 3, 352, 640)\n"
     ]
    },
    {
     "name": "stderr",
     "output_type": "stream",
     "text": [
      " 62%|██████▏   | 685/1101 [00:48<00:28, 14.57it/s]"
     ]
    },
    {
     "name": "stdout",
     "output_type": "stream",
     "text": [
      "\n",
      "image 1/1 c:\\Users\\sande\\OneDrive\\Desktop\\IITTP\\2_Asgn\\Sem2\\2_dl\\SemProject\\Automated_Yolo\\dataset\\UAVDT-processed\\val\\images\\img000686.jpg: 352x640 (no detections), 42.1ms\n",
      "Speed: 2.3ms preprocess, 42.1ms inference, 0.4ms postprocess per image at shape (1, 3, 352, 640)\n",
      "\n",
      "image 1/1 c:\\Users\\sande\\OneDrive\\Desktop\\IITTP\\2_Asgn\\Sem2\\2_dl\\SemProject\\Automated_Yolo\\dataset\\UAVDT-processed\\val\\images\\img000687.jpg: 352x640 (no detections), 41.2ms\n",
      "Speed: 2.1ms preprocess, 41.2ms inference, 0.5ms postprocess per image at shape (1, 3, 352, 640)\n"
     ]
    },
    {
     "name": "stderr",
     "output_type": "stream",
     "text": [
      " 62%|██████▏   | 687/1101 [00:48<00:27, 14.81it/s]"
     ]
    },
    {
     "name": "stdout",
     "output_type": "stream",
     "text": [
      "\n",
      "image 1/1 c:\\Users\\sande\\OneDrive\\Desktop\\IITTP\\2_Asgn\\Sem2\\2_dl\\SemProject\\Automated_Yolo\\dataset\\UAVDT-processed\\val\\images\\img000688.jpg: 352x640 (no detections), 44.8ms\n",
      "Speed: 2.2ms preprocess, 44.8ms inference, 0.6ms postprocess per image at shape (1, 3, 352, 640)\n",
      "\n",
      "image 1/1 c:\\Users\\sande\\OneDrive\\Desktop\\IITTP\\2_Asgn\\Sem2\\2_dl\\SemProject\\Automated_Yolo\\dataset\\UAVDT-processed\\val\\images\\img000689.jpg: 352x640 (no detections), 43.4ms\n",
      "Speed: 1.5ms preprocess, 43.4ms inference, 0.5ms postprocess per image at shape (1, 3, 352, 640)\n"
     ]
    },
    {
     "name": "stderr",
     "output_type": "stream",
     "text": [
      " 63%|██████▎   | 689/1101 [00:48<00:27, 14.96it/s]"
     ]
    },
    {
     "name": "stdout",
     "output_type": "stream",
     "text": [
      "\n",
      "image 1/1 c:\\Users\\sande\\OneDrive\\Desktop\\IITTP\\2_Asgn\\Sem2\\2_dl\\SemProject\\Automated_Yolo\\dataset\\UAVDT-processed\\val\\images\\img000690.jpg: 352x640 (no detections), 46.0ms\n",
      "Speed: 2.3ms preprocess, 46.0ms inference, 0.5ms postprocess per image at shape (1, 3, 352, 640)\n",
      "\n",
      "image 1/1 c:\\Users\\sande\\OneDrive\\Desktop\\IITTP\\2_Asgn\\Sem2\\2_dl\\SemProject\\Automated_Yolo\\dataset\\UAVDT-processed\\val\\images\\img000691.jpg: 352x640 (no detections), 42.0ms\n",
      "Speed: 2.0ms preprocess, 42.0ms inference, 0.5ms postprocess per image at shape (1, 3, 352, 640)\n"
     ]
    },
    {
     "name": "stderr",
     "output_type": "stream",
     "text": [
      " 63%|██████▎   | 691/1101 [00:48<00:27, 15.05it/s]"
     ]
    },
    {
     "name": "stdout",
     "output_type": "stream",
     "text": [
      "\n",
      "image 1/1 c:\\Users\\sande\\OneDrive\\Desktop\\IITTP\\2_Asgn\\Sem2\\2_dl\\SemProject\\Automated_Yolo\\dataset\\UAVDT-processed\\val\\images\\img000692.jpg: 352x640 (no detections), 50.0ms\n",
      "Speed: 2.2ms preprocess, 50.0ms inference, 0.6ms postprocess per image at shape (1, 3, 352, 640)\n",
      "\n",
      "image 1/1 c:\\Users\\sande\\OneDrive\\Desktop\\IITTP\\2_Asgn\\Sem2\\2_dl\\SemProject\\Automated_Yolo\\dataset\\UAVDT-processed\\val\\images\\img000693.jpg: 352x640 (no detections), 47.0ms\n",
      "Speed: 2.1ms preprocess, 47.0ms inference, 0.5ms postprocess per image at shape (1, 3, 352, 640)\n"
     ]
    },
    {
     "name": "stderr",
     "output_type": "stream",
     "text": [
      " 63%|██████▎   | 693/1101 [00:48<00:27, 14.59it/s]"
     ]
    },
    {
     "name": "stdout",
     "output_type": "stream",
     "text": [
      "\n",
      "image 1/1 c:\\Users\\sande\\OneDrive\\Desktop\\IITTP\\2_Asgn\\Sem2\\2_dl\\SemProject\\Automated_Yolo\\dataset\\UAVDT-processed\\val\\images\\img000694.jpg: 352x640 (no detections), 41.1ms\n",
      "Speed: 2.2ms preprocess, 41.1ms inference, 0.4ms postprocess per image at shape (1, 3, 352, 640)\n",
      "\n",
      "image 1/1 c:\\Users\\sande\\OneDrive\\Desktop\\IITTP\\2_Asgn\\Sem2\\2_dl\\SemProject\\Automated_Yolo\\dataset\\UAVDT-processed\\val\\images\\img000695.jpg: 352x640 (no detections), 41.1ms\n",
      "Speed: 2.1ms preprocess, 41.1ms inference, 0.6ms postprocess per image at shape (1, 3, 352, 640)\n"
     ]
    },
    {
     "name": "stderr",
     "output_type": "stream",
     "text": [
      " 63%|██████▎   | 695/1101 [00:49<00:27, 14.77it/s]"
     ]
    },
    {
     "name": "stdout",
     "output_type": "stream",
     "text": [
      "\n",
      "image 1/1 c:\\Users\\sande\\OneDrive\\Desktop\\IITTP\\2_Asgn\\Sem2\\2_dl\\SemProject\\Automated_Yolo\\dataset\\UAVDT-processed\\val\\images\\img000696.jpg: 352x640 (no detections), 44.6ms\n",
      "Speed: 2.2ms preprocess, 44.6ms inference, 0.5ms postprocess per image at shape (1, 3, 352, 640)\n",
      "\n",
      "image 1/1 c:\\Users\\sande\\OneDrive\\Desktop\\IITTP\\2_Asgn\\Sem2\\2_dl\\SemProject\\Automated_Yolo\\dataset\\UAVDT-processed\\val\\images\\img000697.jpg: 352x640 (no detections), 38.7ms\n",
      "Speed: 2.2ms preprocess, 38.7ms inference, 0.4ms postprocess per image at shape (1, 3, 352, 640)\n"
     ]
    },
    {
     "name": "stderr",
     "output_type": "stream",
     "text": [
      " 63%|██████▎   | 697/1101 [00:49<00:27, 14.93it/s]"
     ]
    },
    {
     "name": "stdout",
     "output_type": "stream",
     "text": [
      "\n",
      "image 1/1 c:\\Users\\sande\\OneDrive\\Desktop\\IITTP\\2_Asgn\\Sem2\\2_dl\\SemProject\\Automated_Yolo\\dataset\\UAVDT-processed\\val\\images\\img000698.jpg: 352x640 (no detections), 43.0ms\n",
      "Speed: 1.4ms preprocess, 43.0ms inference, 0.4ms postprocess per image at shape (1, 3, 352, 640)\n",
      "\n",
      "image 1/1 c:\\Users\\sande\\OneDrive\\Desktop\\IITTP\\2_Asgn\\Sem2\\2_dl\\SemProject\\Automated_Yolo\\dataset\\UAVDT-processed\\val\\images\\img000699.jpg: 352x640 (no detections), 39.9ms\n",
      "Speed: 2.4ms preprocess, 39.9ms inference, 0.5ms postprocess per image at shape (1, 3, 352, 640)\n"
     ]
    },
    {
     "name": "stderr",
     "output_type": "stream",
     "text": [
      " 63%|██████▎   | 699/1101 [00:49<00:26, 15.24it/s]"
     ]
    },
    {
     "name": "stdout",
     "output_type": "stream",
     "text": [
      "\n",
      "image 1/1 c:\\Users\\sande\\OneDrive\\Desktop\\IITTP\\2_Asgn\\Sem2\\2_dl\\SemProject\\Automated_Yolo\\dataset\\UAVDT-processed\\val\\images\\img000700.jpg: 352x640 (no detections), 41.9ms\n",
      "Speed: 2.1ms preprocess, 41.9ms inference, 0.5ms postprocess per image at shape (1, 3, 352, 640)\n",
      "\n",
      "image 1/1 c:\\Users\\sande\\OneDrive\\Desktop\\IITTP\\2_Asgn\\Sem2\\2_dl\\SemProject\\Automated_Yolo\\dataset\\UAVDT-processed\\val\\images\\img000701.jpg: 352x640 (no detections), 37.5ms\n",
      "Speed: 1.4ms preprocess, 37.5ms inference, 0.5ms postprocess per image at shape (1, 3, 352, 640)\n"
     ]
    },
    {
     "name": "stderr",
     "output_type": "stream",
     "text": [
      " 64%|██████▎   | 701/1101 [00:49<00:25, 15.55it/s]"
     ]
    },
    {
     "name": "stdout",
     "output_type": "stream",
     "text": [
      "\n",
      "image 1/1 c:\\Users\\sande\\OneDrive\\Desktop\\IITTP\\2_Asgn\\Sem2\\2_dl\\SemProject\\Automated_Yolo\\dataset\\UAVDT-processed\\val\\images\\img000702.jpg: 352x640 (no detections), 54.5ms\n",
      "Speed: 1.9ms preprocess, 54.5ms inference, 0.6ms postprocess per image at shape (1, 3, 352, 640)\n",
      "\n",
      "image 1/1 c:\\Users\\sande\\OneDrive\\Desktop\\IITTP\\2_Asgn\\Sem2\\2_dl\\SemProject\\Automated_Yolo\\dataset\\UAVDT-processed\\val\\images\\img000703.jpg: 352x640 (no detections), 41.9ms\n",
      "Speed: 2.4ms preprocess, 41.9ms inference, 0.6ms postprocess per image at shape (1, 3, 352, 640)\n"
     ]
    },
    {
     "name": "stderr",
     "output_type": "stream",
     "text": [
      " 64%|██████▍   | 703/1101 [00:49<00:27, 14.46it/s]"
     ]
    },
    {
     "name": "stdout",
     "output_type": "stream",
     "text": [
      "\n",
      "image 1/1 c:\\Users\\sande\\OneDrive\\Desktop\\IITTP\\2_Asgn\\Sem2\\2_dl\\SemProject\\Automated_Yolo\\dataset\\UAVDT-processed\\val\\images\\img000704.jpg: 352x640 (no detections), 41.3ms\n",
      "Speed: 2.1ms preprocess, 41.3ms inference, 0.4ms postprocess per image at shape (1, 3, 352, 640)\n",
      "\n",
      "image 1/1 c:\\Users\\sande\\OneDrive\\Desktop\\IITTP\\2_Asgn\\Sem2\\2_dl\\SemProject\\Automated_Yolo\\dataset\\UAVDT-processed\\val\\images\\img000705.jpg: 352x640 (no detections), 39.1ms\n",
      "Speed: 2.2ms preprocess, 39.1ms inference, 0.5ms postprocess per image at shape (1, 3, 352, 640)\n"
     ]
    },
    {
     "name": "stderr",
     "output_type": "stream",
     "text": [
      " 64%|██████▍   | 705/1101 [00:49<00:27, 14.35it/s]"
     ]
    },
    {
     "name": "stdout",
     "output_type": "stream",
     "text": [
      "\n",
      "image 1/1 c:\\Users\\sande\\OneDrive\\Desktop\\IITTP\\2_Asgn\\Sem2\\2_dl\\SemProject\\Automated_Yolo\\dataset\\UAVDT-processed\\val\\images\\img000706.jpg: 352x640 (no detections), 42.5ms\n",
      "Speed: 1.5ms preprocess, 42.5ms inference, 0.5ms postprocess per image at shape (1, 3, 352, 640)\n",
      "\n",
      "image 1/1 c:\\Users\\sande\\OneDrive\\Desktop\\IITTP\\2_Asgn\\Sem2\\2_dl\\SemProject\\Automated_Yolo\\dataset\\UAVDT-processed\\val\\images\\img000707.jpg: 352x640 (no detections), 39.7ms\n",
      "Speed: 2.1ms preprocess, 39.7ms inference, 0.4ms postprocess per image at shape (1, 3, 352, 640)\n"
     ]
    },
    {
     "name": "stderr",
     "output_type": "stream",
     "text": [
      " 64%|██████▍   | 707/1101 [00:49<00:27, 14.50it/s]"
     ]
    },
    {
     "name": "stdout",
     "output_type": "stream",
     "text": [
      "\n",
      "image 1/1 c:\\Users\\sande\\OneDrive\\Desktop\\IITTP\\2_Asgn\\Sem2\\2_dl\\SemProject\\Automated_Yolo\\dataset\\UAVDT-processed\\val\\images\\img000708.jpg: 352x640 (no detections), 41.3ms\n",
      "Speed: 2.1ms preprocess, 41.3ms inference, 0.6ms postprocess per image at shape (1, 3, 352, 640)\n",
      "\n",
      "image 1/1 c:\\Users\\sande\\OneDrive\\Desktop\\IITTP\\2_Asgn\\Sem2\\2_dl\\SemProject\\Automated_Yolo\\dataset\\UAVDT-processed\\val\\images\\img000709.jpg: 352x640 (no detections), 38.1ms\n",
      "Speed: 2.1ms preprocess, 38.1ms inference, 0.7ms postprocess per image at shape (1, 3, 352, 640)\n"
     ]
    },
    {
     "name": "stderr",
     "output_type": "stream",
     "text": [
      " 64%|██████▍   | 709/1101 [00:50<00:27, 14.33it/s]"
     ]
    },
    {
     "name": "stdout",
     "output_type": "stream",
     "text": [
      "\n",
      "image 1/1 c:\\Users\\sande\\OneDrive\\Desktop\\IITTP\\2_Asgn\\Sem2\\2_dl\\SemProject\\Automated_Yolo\\dataset\\UAVDT-processed\\val\\images\\img000710.jpg: 352x640 (no detections), 42.4ms\n",
      "Speed: 2.1ms preprocess, 42.4ms inference, 0.5ms postprocess per image at shape (1, 3, 352, 640)\n",
      "\n",
      "image 1/1 c:\\Users\\sande\\OneDrive\\Desktop\\IITTP\\2_Asgn\\Sem2\\2_dl\\SemProject\\Automated_Yolo\\dataset\\UAVDT-processed\\val\\images\\img000711.jpg: 352x640 (no detections), 39.9ms\n",
      "Speed: 1.3ms preprocess, 39.9ms inference, 0.5ms postprocess per image at shape (1, 3, 352, 640)\n"
     ]
    },
    {
     "name": "stderr",
     "output_type": "stream",
     "text": [
      " 65%|██████▍   | 711/1101 [00:50<00:27, 14.33it/s]"
     ]
    },
    {
     "name": "stdout",
     "output_type": "stream",
     "text": [
      "\n",
      "image 1/1 c:\\Users\\sande\\OneDrive\\Desktop\\IITTP\\2_Asgn\\Sem2\\2_dl\\SemProject\\Automated_Yolo\\dataset\\UAVDT-processed\\val\\images\\img000712.jpg: 352x640 (no detections), 40.1ms\n",
      "Speed: 1.7ms preprocess, 40.1ms inference, 0.4ms postprocess per image at shape (1, 3, 352, 640)\n",
      "\n",
      "image 1/1 c:\\Users\\sande\\OneDrive\\Desktop\\IITTP\\2_Asgn\\Sem2\\2_dl\\SemProject\\Automated_Yolo\\dataset\\UAVDT-processed\\val\\images\\img000713.jpg: 352x640 (no detections), 40.5ms\n",
      "Speed: 2.2ms preprocess, 40.5ms inference, 0.5ms postprocess per image at shape (1, 3, 352, 640)\n"
     ]
    },
    {
     "name": "stderr",
     "output_type": "stream",
     "text": [
      " 65%|██████▍   | 713/1101 [00:50<00:27, 14.11it/s]"
     ]
    },
    {
     "name": "stdout",
     "output_type": "stream",
     "text": [
      "\n",
      "image 1/1 c:\\Users\\sande\\OneDrive\\Desktop\\IITTP\\2_Asgn\\Sem2\\2_dl\\SemProject\\Automated_Yolo\\dataset\\UAVDT-processed\\val\\images\\img000714.jpg: 352x640 (no detections), 41.5ms\n",
      "Speed: 2.1ms preprocess, 41.5ms inference, 0.5ms postprocess per image at shape (1, 3, 352, 640)\n",
      "\n",
      "image 1/1 c:\\Users\\sande\\OneDrive\\Desktop\\IITTP\\2_Asgn\\Sem2\\2_dl\\SemProject\\Automated_Yolo\\dataset\\UAVDT-processed\\val\\images\\img000715.jpg: 352x640 (no detections), 56.5ms\n",
      "Speed: 2.3ms preprocess, 56.5ms inference, 0.6ms postprocess per image at shape (1, 3, 352, 640)\n"
     ]
    },
    {
     "name": "stderr",
     "output_type": "stream",
     "text": [
      " 65%|██████▍   | 715/1101 [00:50<00:28, 13.66it/s]"
     ]
    },
    {
     "name": "stdout",
     "output_type": "stream",
     "text": [
      "\n",
      "image 1/1 c:\\Users\\sande\\OneDrive\\Desktop\\IITTP\\2_Asgn\\Sem2\\2_dl\\SemProject\\Automated_Yolo\\dataset\\UAVDT-processed\\val\\images\\img000716.jpg: 352x640 (no detections), 47.1ms\n",
      "Speed: 2.5ms preprocess, 47.1ms inference, 0.5ms postprocess per image at shape (1, 3, 352, 640)\n",
      "\n",
      "image 1/1 c:\\Users\\sande\\OneDrive\\Desktop\\IITTP\\2_Asgn\\Sem2\\2_dl\\SemProject\\Automated_Yolo\\dataset\\UAVDT-processed\\val\\images\\img000717.jpg: 352x640 (no detections), 62.9ms\n",
      "Speed: 1.5ms preprocess, 62.9ms inference, 0.6ms postprocess per image at shape (1, 3, 352, 640)\n"
     ]
    },
    {
     "name": "stderr",
     "output_type": "stream",
     "text": [
      " 65%|██████▌   | 717/1101 [00:50<00:29, 12.83it/s]"
     ]
    },
    {
     "name": "stdout",
     "output_type": "stream",
     "text": [
      "\n",
      "image 1/1 c:\\Users\\sande\\OneDrive\\Desktop\\IITTP\\2_Asgn\\Sem2\\2_dl\\SemProject\\Automated_Yolo\\dataset\\UAVDT-processed\\val\\images\\img000718.jpg: 352x640 (no detections), 42.0ms\n",
      "Speed: 2.2ms preprocess, 42.0ms inference, 0.5ms postprocess per image at shape (1, 3, 352, 640)\n",
      "\n",
      "image 1/1 c:\\Users\\sande\\OneDrive\\Desktop\\IITTP\\2_Asgn\\Sem2\\2_dl\\SemProject\\Automated_Yolo\\dataset\\UAVDT-processed\\val\\images\\img000719.jpg: 352x640 (no detections), 41.8ms\n",
      "Speed: 2.1ms preprocess, 41.8ms inference, 0.5ms postprocess per image at shape (1, 3, 352, 640)\n"
     ]
    },
    {
     "name": "stderr",
     "output_type": "stream",
     "text": [
      " 65%|██████▌   | 719/1101 [00:50<00:29, 13.03it/s]"
     ]
    },
    {
     "name": "stdout",
     "output_type": "stream",
     "text": [
      "\n",
      "image 1/1 c:\\Users\\sande\\OneDrive\\Desktop\\IITTP\\2_Asgn\\Sem2\\2_dl\\SemProject\\Automated_Yolo\\dataset\\UAVDT-processed\\val\\images\\img000720.jpg: 352x640 (no detections), 39.9ms\n",
      "Speed: 2.3ms preprocess, 39.9ms inference, 0.5ms postprocess per image at shape (1, 3, 352, 640)\n",
      "\n",
      "image 1/1 c:\\Users\\sande\\OneDrive\\Desktop\\IITTP\\2_Asgn\\Sem2\\2_dl\\SemProject\\Automated_Yolo\\dataset\\UAVDT-processed\\val\\images\\img000721.jpg: 352x640 (no detections), 40.5ms\n",
      "Speed: 2.0ms preprocess, 40.5ms inference, 0.5ms postprocess per image at shape (1, 3, 352, 640)\n"
     ]
    },
    {
     "name": "stderr",
     "output_type": "stream",
     "text": [
      " 65%|██████▌   | 721/1101 [00:50<00:28, 13.34it/s]"
     ]
    },
    {
     "name": "stdout",
     "output_type": "stream",
     "text": [
      "\n",
      "image 1/1 c:\\Users\\sande\\OneDrive\\Desktop\\IITTP\\2_Asgn\\Sem2\\2_dl\\SemProject\\Automated_Yolo\\dataset\\UAVDT-processed\\val\\images\\img000722.jpg: 352x640 (no detections), 41.5ms\n",
      "Speed: 2.1ms preprocess, 41.5ms inference, 0.5ms postprocess per image at shape (1, 3, 352, 640)\n",
      "\n",
      "image 1/1 c:\\Users\\sande\\OneDrive\\Desktop\\IITTP\\2_Asgn\\Sem2\\2_dl\\SemProject\\Automated_Yolo\\dataset\\UAVDT-processed\\val\\images\\img000723.jpg: 352x640 (no detections), 39.3ms\n",
      "Speed: 2.0ms preprocess, 39.3ms inference, 0.5ms postprocess per image at shape (1, 3, 352, 640)\n"
     ]
    },
    {
     "name": "stderr",
     "output_type": "stream",
     "text": [
      " 66%|██████▌   | 723/1101 [00:51<00:27, 13.60it/s]"
     ]
    },
    {
     "name": "stdout",
     "output_type": "stream",
     "text": [
      "\n",
      "image 1/1 c:\\Users\\sande\\OneDrive\\Desktop\\IITTP\\2_Asgn\\Sem2\\2_dl\\SemProject\\Automated_Yolo\\dataset\\UAVDT-processed\\val\\images\\img000724.jpg: 352x640 (no detections), 41.7ms\n",
      "Speed: 2.1ms preprocess, 41.7ms inference, 0.5ms postprocess per image at shape (1, 3, 352, 640)\n",
      "\n",
      "image 1/1 c:\\Users\\sande\\OneDrive\\Desktop\\IITTP\\2_Asgn\\Sem2\\2_dl\\SemProject\\Automated_Yolo\\dataset\\UAVDT-processed\\val\\images\\img000725.jpg: 352x640 (no detections), 48.8ms\n",
      "Speed: 2.6ms preprocess, 48.8ms inference, 0.5ms postprocess per image at shape (1, 3, 352, 640)\n"
     ]
    },
    {
     "name": "stderr",
     "output_type": "stream",
     "text": [
      " 66%|██████▌   | 725/1101 [00:51<00:28, 13.19it/s]"
     ]
    },
    {
     "name": "stdout",
     "output_type": "stream",
     "text": [
      "\n",
      "image 1/1 c:\\Users\\sande\\OneDrive\\Desktop\\IITTP\\2_Asgn\\Sem2\\2_dl\\SemProject\\Automated_Yolo\\dataset\\UAVDT-processed\\val\\images\\img000726.jpg: 352x640 (no detections), 44.4ms\n",
      "Speed: 2.5ms preprocess, 44.4ms inference, 0.6ms postprocess per image at shape (1, 3, 352, 640)\n",
      "\n",
      "image 1/1 c:\\Users\\sande\\OneDrive\\Desktop\\IITTP\\2_Asgn\\Sem2\\2_dl\\SemProject\\Automated_Yolo\\dataset\\UAVDT-processed\\val\\images\\img000727.jpg: 352x640 (no detections), 42.5ms\n",
      "Speed: 2.1ms preprocess, 42.5ms inference, 0.5ms postprocess per image at shape (1, 3, 352, 640)\n"
     ]
    },
    {
     "name": "stderr",
     "output_type": "stream",
     "text": [
      " 66%|██████▌   | 727/1101 [00:51<00:28, 13.25it/s]"
     ]
    },
    {
     "name": "stdout",
     "output_type": "stream",
     "text": [
      "\n",
      "image 1/1 c:\\Users\\sande\\OneDrive\\Desktop\\IITTP\\2_Asgn\\Sem2\\2_dl\\SemProject\\Automated_Yolo\\dataset\\UAVDT-processed\\val\\images\\img000728.jpg: 352x640 (no detections), 41.1ms\n",
      "Speed: 2.1ms preprocess, 41.1ms inference, 0.5ms postprocess per image at shape (1, 3, 352, 640)\n",
      "\n",
      "image 1/1 c:\\Users\\sande\\OneDrive\\Desktop\\IITTP\\2_Asgn\\Sem2\\2_dl\\SemProject\\Automated_Yolo\\dataset\\UAVDT-processed\\val\\images\\img000729.jpg: 352x640 (no detections), 40.3ms\n",
      "Speed: 1.4ms preprocess, 40.3ms inference, 0.6ms postprocess per image at shape (1, 3, 352, 640)\n"
     ]
    },
    {
     "name": "stderr",
     "output_type": "stream",
     "text": [
      " 66%|██████▌   | 729/1101 [00:51<00:27, 13.59it/s]"
     ]
    },
    {
     "name": "stdout",
     "output_type": "stream",
     "text": [
      "\n",
      "image 1/1 c:\\Users\\sande\\OneDrive\\Desktop\\IITTP\\2_Asgn\\Sem2\\2_dl\\SemProject\\Automated_Yolo\\dataset\\UAVDT-processed\\val\\images\\img000730.jpg: 352x640 (no detections), 42.5ms\n",
      "Speed: 2.1ms preprocess, 42.5ms inference, 0.5ms postprocess per image at shape (1, 3, 352, 640)\n",
      "\n",
      "image 1/1 c:\\Users\\sande\\OneDrive\\Desktop\\IITTP\\2_Asgn\\Sem2\\2_dl\\SemProject\\Automated_Yolo\\dataset\\UAVDT-processed\\val\\images\\img000731.jpg: 352x640 (no detections), 39.6ms\n",
      "Speed: 2.2ms preprocess, 39.6ms inference, 0.5ms postprocess per image at shape (1, 3, 352, 640)\n"
     ]
    },
    {
     "name": "stderr",
     "output_type": "stream",
     "text": [
      " 66%|██████▋   | 731/1101 [00:51<00:26, 13.77it/s]"
     ]
    },
    {
     "name": "stdout",
     "output_type": "stream",
     "text": [
      "\n",
      "image 1/1 c:\\Users\\sande\\OneDrive\\Desktop\\IITTP\\2_Asgn\\Sem2\\2_dl\\SemProject\\Automated_Yolo\\dataset\\UAVDT-processed\\val\\images\\img000732.jpg: 352x640 (no detections), 40.9ms\n",
      "Speed: 2.1ms preprocess, 40.9ms inference, 0.5ms postprocess per image at shape (1, 3, 352, 640)\n",
      "\n",
      "image 1/1 c:\\Users\\sande\\OneDrive\\Desktop\\IITTP\\2_Asgn\\Sem2\\2_dl\\SemProject\\Automated_Yolo\\dataset\\UAVDT-processed\\val\\images\\img000733.jpg: 352x640 (no detections), 38.1ms\n",
      "Speed: 1.4ms preprocess, 38.1ms inference, 0.4ms postprocess per image at shape (1, 3, 352, 640)\n"
     ]
    },
    {
     "name": "stderr",
     "output_type": "stream",
     "text": [
      " 67%|██████▋   | 733/1101 [00:51<00:25, 14.32it/s]"
     ]
    },
    {
     "name": "stdout",
     "output_type": "stream",
     "text": [
      "\n",
      "image 1/1 c:\\Users\\sande\\OneDrive\\Desktop\\IITTP\\2_Asgn\\Sem2\\2_dl\\SemProject\\Automated_Yolo\\dataset\\UAVDT-processed\\val\\images\\img000734.jpg: 352x640 (no detections), 43.4ms\n",
      "Speed: 2.0ms preprocess, 43.4ms inference, 0.6ms postprocess per image at shape (1, 3, 352, 640)\n",
      "\n",
      "image 1/1 c:\\Users\\sande\\OneDrive\\Desktop\\IITTP\\2_Asgn\\Sem2\\2_dl\\SemProject\\Automated_Yolo\\dataset\\UAVDT-processed\\val\\images\\img000735.jpg: 352x640 (no detections), 40.1ms\n",
      "Speed: 1.9ms preprocess, 40.1ms inference, 0.6ms postprocess per image at shape (1, 3, 352, 640)\n"
     ]
    },
    {
     "name": "stderr",
     "output_type": "stream",
     "text": [
      " 67%|██████▋   | 735/1101 [00:51<00:26, 13.93it/s]"
     ]
    },
    {
     "name": "stdout",
     "output_type": "stream",
     "text": [
      "\n",
      "image 1/1 c:\\Users\\sande\\OneDrive\\Desktop\\IITTP\\2_Asgn\\Sem2\\2_dl\\SemProject\\Automated_Yolo\\dataset\\UAVDT-processed\\val\\images\\img000736.jpg: 352x640 (no detections), 54.1ms\n",
      "Speed: 1.6ms preprocess, 54.1ms inference, 0.6ms postprocess per image at shape (1, 3, 352, 640)\n",
      "\n",
      "image 1/1 c:\\Users\\sande\\OneDrive\\Desktop\\IITTP\\2_Asgn\\Sem2\\2_dl\\SemProject\\Automated_Yolo\\dataset\\UAVDT-processed\\val\\images\\img000737.jpg: 352x640 (no detections), 43.0ms\n",
      "Speed: 1.7ms preprocess, 43.0ms inference, 0.5ms postprocess per image at shape (1, 3, 352, 640)\n"
     ]
    },
    {
     "name": "stderr",
     "output_type": "stream",
     "text": [
      " 67%|██████▋   | 737/1101 [00:52<00:26, 13.61it/s]"
     ]
    },
    {
     "name": "stdout",
     "output_type": "stream",
     "text": [
      "\n",
      "image 1/1 c:\\Users\\sande\\OneDrive\\Desktop\\IITTP\\2_Asgn\\Sem2\\2_dl\\SemProject\\Automated_Yolo\\dataset\\UAVDT-processed\\val\\images\\img000738.jpg: 352x640 (no detections), 39.2ms\n",
      "Speed: 1.4ms preprocess, 39.2ms inference, 0.4ms postprocess per image at shape (1, 3, 352, 640)\n",
      "\n",
      "image 1/1 c:\\Users\\sande\\OneDrive\\Desktop\\IITTP\\2_Asgn\\Sem2\\2_dl\\SemProject\\Automated_Yolo\\dataset\\UAVDT-processed\\val\\images\\img000739.jpg: 352x640 (no detections), 40.6ms\n",
      "Speed: 2.1ms preprocess, 40.6ms inference, 0.4ms postprocess per image at shape (1, 3, 352, 640)\n"
     ]
    },
    {
     "name": "stderr",
     "output_type": "stream",
     "text": [
      " 67%|██████▋   | 739/1101 [00:52<00:26, 13.48it/s]"
     ]
    },
    {
     "name": "stdout",
     "output_type": "stream",
     "text": [
      "\n",
      "image 1/1 c:\\Users\\sande\\OneDrive\\Desktop\\IITTP\\2_Asgn\\Sem2\\2_dl\\SemProject\\Automated_Yolo\\dataset\\UAVDT-processed\\val\\images\\img000740.jpg: 352x640 (no detections), 43.1ms\n",
      "Speed: 1.7ms preprocess, 43.1ms inference, 0.5ms postprocess per image at shape (1, 3, 352, 640)\n",
      "\n",
      "image 1/1 c:\\Users\\sande\\OneDrive\\Desktop\\IITTP\\2_Asgn\\Sem2\\2_dl\\SemProject\\Automated_Yolo\\dataset\\UAVDT-processed\\val\\images\\img000741.jpg: 352x640 (no detections), 41.8ms\n",
      "Speed: 1.5ms preprocess, 41.8ms inference, 0.5ms postprocess per image at shape (1, 3, 352, 640)\n"
     ]
    },
    {
     "name": "stderr",
     "output_type": "stream",
     "text": [
      " 67%|██████▋   | 741/1101 [00:52<00:25, 14.17it/s]"
     ]
    },
    {
     "name": "stdout",
     "output_type": "stream",
     "text": [
      "\n",
      "image 1/1 c:\\Users\\sande\\OneDrive\\Desktop\\IITTP\\2_Asgn\\Sem2\\2_dl\\SemProject\\Automated_Yolo\\dataset\\UAVDT-processed\\val\\images\\img000742.jpg: 352x640 (no detections), 41.9ms\n",
      "Speed: 2.2ms preprocess, 41.9ms inference, 0.5ms postprocess per image at shape (1, 3, 352, 640)\n",
      "\n",
      "image 1/1 c:\\Users\\sande\\OneDrive\\Desktop\\IITTP\\2_Asgn\\Sem2\\2_dl\\SemProject\\Automated_Yolo\\dataset\\UAVDT-processed\\val\\images\\img000743.jpg: 352x640 (no detections), 39.2ms\n",
      "Speed: 2.1ms preprocess, 39.2ms inference, 0.5ms postprocess per image at shape (1, 3, 352, 640)\n"
     ]
    },
    {
     "name": "stderr",
     "output_type": "stream",
     "text": [
      " 67%|██████▋   | 743/1101 [00:52<00:25, 14.30it/s]"
     ]
    },
    {
     "name": "stdout",
     "output_type": "stream",
     "text": [
      "\n",
      "image 1/1 c:\\Users\\sande\\OneDrive\\Desktop\\IITTP\\2_Asgn\\Sem2\\2_dl\\SemProject\\Automated_Yolo\\dataset\\UAVDT-processed\\val\\images\\img000744.jpg: 352x640 (no detections), 42.0ms\n",
      "Speed: 1.7ms preprocess, 42.0ms inference, 0.5ms postprocess per image at shape (1, 3, 352, 640)\n",
      "\n",
      "image 1/1 c:\\Users\\sande\\OneDrive\\Desktop\\IITTP\\2_Asgn\\Sem2\\2_dl\\SemProject\\Automated_Yolo\\dataset\\UAVDT-processed\\val\\images\\img000745.jpg: 352x640 (no detections), 38.9ms\n",
      "Speed: 2.1ms preprocess, 38.9ms inference, 0.5ms postprocess per image at shape (1, 3, 352, 640)\n"
     ]
    },
    {
     "name": "stderr",
     "output_type": "stream",
     "text": [
      " 68%|██████▊   | 745/1101 [00:52<00:24, 14.46it/s]"
     ]
    },
    {
     "name": "stdout",
     "output_type": "stream",
     "text": [
      "\n",
      "image 1/1 c:\\Users\\sande\\OneDrive\\Desktop\\IITTP\\2_Asgn\\Sem2\\2_dl\\SemProject\\Automated_Yolo\\dataset\\UAVDT-processed\\val\\images\\img000746.jpg: 352x640 (no detections), 43.9ms\n",
      "Speed: 2.1ms preprocess, 43.9ms inference, 0.4ms postprocess per image at shape (1, 3, 352, 640)\n",
      "\n",
      "image 1/1 c:\\Users\\sande\\OneDrive\\Desktop\\IITTP\\2_Asgn\\Sem2\\2_dl\\SemProject\\Automated_Yolo\\dataset\\UAVDT-processed\\val\\images\\img000747.jpg: 352x640 (no detections), 53.6ms\n",
      "Speed: 2.8ms preprocess, 53.6ms inference, 0.6ms postprocess per image at shape (1, 3, 352, 640)\n"
     ]
    },
    {
     "name": "stderr",
     "output_type": "stream",
     "text": [
      " 68%|██████▊   | 747/1101 [00:52<00:25, 13.69it/s]"
     ]
    },
    {
     "name": "stdout",
     "output_type": "stream",
     "text": [
      "\n",
      "image 1/1 c:\\Users\\sande\\OneDrive\\Desktop\\IITTP\\2_Asgn\\Sem2\\2_dl\\SemProject\\Automated_Yolo\\dataset\\UAVDT-processed\\val\\images\\img000748.jpg: 352x640 (no detections), 42.6ms\n",
      "Speed: 2.2ms preprocess, 42.6ms inference, 0.5ms postprocess per image at shape (1, 3, 352, 640)\n",
      "\n",
      "image 1/1 c:\\Users\\sande\\OneDrive\\Desktop\\IITTP\\2_Asgn\\Sem2\\2_dl\\SemProject\\Automated_Yolo\\dataset\\UAVDT-processed\\val\\images\\img000749.jpg: 352x640 (no detections), 38.9ms\n",
      "Speed: 2.1ms preprocess, 38.9ms inference, 0.6ms postprocess per image at shape (1, 3, 352, 640)\n"
     ]
    },
    {
     "name": "stderr",
     "output_type": "stream",
     "text": [
      " 68%|██████▊   | 749/1101 [00:52<00:25, 13.89it/s]"
     ]
    },
    {
     "name": "stdout",
     "output_type": "stream",
     "text": [
      "\n",
      "image 1/1 c:\\Users\\sande\\OneDrive\\Desktop\\IITTP\\2_Asgn\\Sem2\\2_dl\\SemProject\\Automated_Yolo\\dataset\\UAVDT-processed\\val\\images\\img000750.jpg: 352x640 (no detections), 41.1ms\n",
      "Speed: 2.1ms preprocess, 41.1ms inference, 0.5ms postprocess per image at shape (1, 3, 352, 640)\n",
      "\n",
      "image 1/1 c:\\Users\\sande\\OneDrive\\Desktop\\IITTP\\2_Asgn\\Sem2\\2_dl\\SemProject\\Automated_Yolo\\dataset\\UAVDT-processed\\val\\images\\img000751.jpg: 352x640 (no detections), 39.9ms\n",
      "Speed: 2.0ms preprocess, 39.9ms inference, 0.5ms postprocess per image at shape (1, 3, 352, 640)\n"
     ]
    },
    {
     "name": "stderr",
     "output_type": "stream",
     "text": [
      " 68%|██████▊   | 751/1101 [00:53<00:24, 14.07it/s]"
     ]
    },
    {
     "name": "stdout",
     "output_type": "stream",
     "text": [
      "\n",
      "image 1/1 c:\\Users\\sande\\OneDrive\\Desktop\\IITTP\\2_Asgn\\Sem2\\2_dl\\SemProject\\Automated_Yolo\\dataset\\UAVDT-processed\\val\\images\\img000752.jpg: 352x640 (no detections), 41.4ms\n",
      "Speed: 2.2ms preprocess, 41.4ms inference, 0.5ms postprocess per image at shape (1, 3, 352, 640)\n",
      "\n",
      "image 1/1 c:\\Users\\sande\\OneDrive\\Desktop\\IITTP\\2_Asgn\\Sem2\\2_dl\\SemProject\\Automated_Yolo\\dataset\\UAVDT-processed\\val\\images\\img000753.jpg: 352x640 (no detections), 41.0ms\n",
      "Speed: 1.7ms preprocess, 41.0ms inference, 0.6ms postprocess per image at shape (1, 3, 352, 640)\n"
     ]
    },
    {
     "name": "stderr",
     "output_type": "stream",
     "text": [
      " 68%|██████▊   | 753/1101 [00:53<00:24, 14.07it/s]"
     ]
    },
    {
     "name": "stdout",
     "output_type": "stream",
     "text": [
      "\n",
      "image 1/1 c:\\Users\\sande\\OneDrive\\Desktop\\IITTP\\2_Asgn\\Sem2\\2_dl\\SemProject\\Automated_Yolo\\dataset\\UAVDT-processed\\val\\images\\img000754.jpg: 352x640 (no detections), 42.1ms\n",
      "Speed: 2.2ms preprocess, 42.1ms inference, 0.5ms postprocess per image at shape (1, 3, 352, 640)\n",
      "\n",
      "image 1/1 c:\\Users\\sande\\OneDrive\\Desktop\\IITTP\\2_Asgn\\Sem2\\2_dl\\SemProject\\Automated_Yolo\\dataset\\UAVDT-processed\\val\\images\\img000755.jpg: 352x640 (no detections), 41.2ms\n",
      "Speed: 2.2ms preprocess, 41.2ms inference, 0.5ms postprocess per image at shape (1, 3, 352, 640)\n"
     ]
    },
    {
     "name": "stderr",
     "output_type": "stream",
     "text": [
      " 69%|██████▊   | 755/1101 [00:53<00:24, 14.17it/s]"
     ]
    },
    {
     "name": "stdout",
     "output_type": "stream",
     "text": [
      "\n",
      "image 1/1 c:\\Users\\sande\\OneDrive\\Desktop\\IITTP\\2_Asgn\\Sem2\\2_dl\\SemProject\\Automated_Yolo\\dataset\\UAVDT-processed\\val\\images\\img000756.jpg: 352x640 (no detections), 42.7ms\n",
      "Speed: 2.0ms preprocess, 42.7ms inference, 0.5ms postprocess per image at shape (1, 3, 352, 640)\n",
      "\n",
      "image 1/1 c:\\Users\\sande\\OneDrive\\Desktop\\IITTP\\2_Asgn\\Sem2\\2_dl\\SemProject\\Automated_Yolo\\dataset\\UAVDT-processed\\val\\images\\img000757.jpg: 352x640 (no detections), 42.2ms\n",
      "Speed: 1.5ms preprocess, 42.2ms inference, 0.7ms postprocess per image at shape (1, 3, 352, 640)\n"
     ]
    },
    {
     "name": "stderr",
     "output_type": "stream",
     "text": [
      " 69%|██████▉   | 757/1101 [00:53<00:24, 14.08it/s]"
     ]
    },
    {
     "name": "stdout",
     "output_type": "stream",
     "text": [
      "\n",
      "image 1/1 c:\\Users\\sande\\OneDrive\\Desktop\\IITTP\\2_Asgn\\Sem2\\2_dl\\SemProject\\Automated_Yolo\\dataset\\UAVDT-processed\\val\\images\\img000758.jpg: 352x640 (no detections), 45.4ms\n",
      "Speed: 2.1ms preprocess, 45.4ms inference, 0.5ms postprocess per image at shape (1, 3, 352, 640)\n",
      "\n",
      "image 1/1 c:\\Users\\sande\\OneDrive\\Desktop\\IITTP\\2_Asgn\\Sem2\\2_dl\\SemProject\\Automated_Yolo\\dataset\\UAVDT-processed\\val\\images\\img000759.jpg: 352x640 (no detections), 61.3ms\n",
      "Speed: 2.6ms preprocess, 61.3ms inference, 0.5ms postprocess per image at shape (1, 3, 352, 640)\n"
     ]
    },
    {
     "name": "stderr",
     "output_type": "stream",
     "text": [
      " 69%|██████▉   | 759/1101 [00:53<00:26, 12.95it/s]"
     ]
    },
    {
     "name": "stdout",
     "output_type": "stream",
     "text": [
      "\n",
      "image 1/1 c:\\Users\\sande\\OneDrive\\Desktop\\IITTP\\2_Asgn\\Sem2\\2_dl\\SemProject\\Automated_Yolo\\dataset\\UAVDT-processed\\val\\images\\img000760.jpg: 352x640 (no detections), 43.3ms\n",
      "Speed: 2.0ms preprocess, 43.3ms inference, 0.7ms postprocess per image at shape (1, 3, 352, 640)\n",
      "\n",
      "image 1/1 c:\\Users\\sande\\OneDrive\\Desktop\\IITTP\\2_Asgn\\Sem2\\2_dl\\SemProject\\Automated_Yolo\\dataset\\UAVDT-processed\\val\\images\\img000761.jpg: 352x640 (no detections), 40.9ms\n",
      "Speed: 1.9ms preprocess, 40.9ms inference, 0.5ms postprocess per image at shape (1, 3, 352, 640)\n"
     ]
    },
    {
     "name": "stderr",
     "output_type": "stream",
     "text": [
      " 69%|██████▉   | 761/1101 [00:53<00:26, 13.07it/s]"
     ]
    },
    {
     "name": "stdout",
     "output_type": "stream",
     "text": [
      "\n",
      "image 1/1 c:\\Users\\sande\\OneDrive\\Desktop\\IITTP\\2_Asgn\\Sem2\\2_dl\\SemProject\\Automated_Yolo\\dataset\\UAVDT-processed\\val\\images\\img000762.jpg: 352x640 (no detections), 45.7ms\n",
      "Speed: 2.2ms preprocess, 45.7ms inference, 0.5ms postprocess per image at shape (1, 3, 352, 640)\n",
      "\n",
      "image 1/1 c:\\Users\\sande\\OneDrive\\Desktop\\IITTP\\2_Asgn\\Sem2\\2_dl\\SemProject\\Automated_Yolo\\dataset\\UAVDT-processed\\val\\images\\img000763.jpg: 352x640 (no detections), 45.5ms\n",
      "Speed: 2.4ms preprocess, 45.5ms inference, 0.8ms postprocess per image at shape (1, 3, 352, 640)\n"
     ]
    },
    {
     "name": "stderr",
     "output_type": "stream",
     "text": [
      " 69%|██████▉   | 763/1101 [00:54<00:25, 13.28it/s]"
     ]
    },
    {
     "name": "stdout",
     "output_type": "stream",
     "text": [
      "\n",
      "image 1/1 c:\\Users\\sande\\OneDrive\\Desktop\\IITTP\\2_Asgn\\Sem2\\2_dl\\SemProject\\Automated_Yolo\\dataset\\UAVDT-processed\\val\\images\\img000764.jpg: 352x640 (no detections), 47.1ms\n",
      "Speed: 2.3ms preprocess, 47.1ms inference, 0.5ms postprocess per image at shape (1, 3, 352, 640)\n",
      "\n",
      "image 1/1 c:\\Users\\sande\\OneDrive\\Desktop\\IITTP\\2_Asgn\\Sem2\\2_dl\\SemProject\\Automated_Yolo\\dataset\\UAVDT-processed\\val\\images\\img000765.jpg: 352x640 (no detections), 43.7ms\n",
      "Speed: 1.6ms preprocess, 43.7ms inference, 0.5ms postprocess per image at shape (1, 3, 352, 640)\n"
     ]
    },
    {
     "name": "stderr",
     "output_type": "stream",
     "text": [
      " 69%|██████▉   | 765/1101 [00:54<00:25, 12.95it/s]"
     ]
    },
    {
     "name": "stdout",
     "output_type": "stream",
     "text": [
      "\n",
      "image 1/1 c:\\Users\\sande\\OneDrive\\Desktop\\IITTP\\2_Asgn\\Sem2\\2_dl\\SemProject\\Automated_Yolo\\dataset\\UAVDT-processed\\val\\images\\img000766.jpg: 352x640 (no detections), 43.8ms\n",
      "Speed: 2.2ms preprocess, 43.8ms inference, 0.5ms postprocess per image at shape (1, 3, 352, 640)\n",
      "\n",
      "image 1/1 c:\\Users\\sande\\OneDrive\\Desktop\\IITTP\\2_Asgn\\Sem2\\2_dl\\SemProject\\Automated_Yolo\\dataset\\UAVDT-processed\\val\\images\\img000767.jpg: 352x640 (no detections), 45.8ms\n",
      "Speed: 2.2ms preprocess, 45.8ms inference, 0.4ms postprocess per image at shape (1, 3, 352, 640)\n"
     ]
    },
    {
     "name": "stderr",
     "output_type": "stream",
     "text": [
      " 70%|██████▉   | 767/1101 [00:54<00:25, 13.33it/s]"
     ]
    },
    {
     "name": "stdout",
     "output_type": "stream",
     "text": [
      "\n",
      "image 1/1 c:\\Users\\sande\\OneDrive\\Desktop\\IITTP\\2_Asgn\\Sem2\\2_dl\\SemProject\\Automated_Yolo\\dataset\\UAVDT-processed\\val\\images\\img000768.jpg: 352x640 (no detections), 42.5ms\n",
      "Speed: 2.5ms preprocess, 42.5ms inference, 0.5ms postprocess per image at shape (1, 3, 352, 640)\n",
      "\n",
      "image 1/1 c:\\Users\\sande\\OneDrive\\Desktop\\IITTP\\2_Asgn\\Sem2\\2_dl\\SemProject\\Automated_Yolo\\dataset\\UAVDT-processed\\val\\images\\img000769.jpg: 352x640 (no detections), 40.3ms\n",
      "Speed: 2.2ms preprocess, 40.3ms inference, 0.6ms postprocess per image at shape (1, 3, 352, 640)\n"
     ]
    },
    {
     "name": "stderr",
     "output_type": "stream",
     "text": [
      " 70%|██████▉   | 769/1101 [00:54<00:24, 13.51it/s]"
     ]
    },
    {
     "name": "stdout",
     "output_type": "stream",
     "text": [
      "\n",
      "image 1/1 c:\\Users\\sande\\OneDrive\\Desktop\\IITTP\\2_Asgn\\Sem2\\2_dl\\SemProject\\Automated_Yolo\\dataset\\UAVDT-processed\\val\\images\\img000770.jpg: 352x640 (no detections), 53.8ms\n",
      "Speed: 2.1ms preprocess, 53.8ms inference, 0.5ms postprocess per image at shape (1, 3, 352, 640)\n",
      "\n",
      "image 1/1 c:\\Users\\sande\\OneDrive\\Desktop\\IITTP\\2_Asgn\\Sem2\\2_dl\\SemProject\\Automated_Yolo\\dataset\\UAVDT-processed\\val\\images\\img000771.jpg: 352x640 (no detections), 42.9ms\n",
      "Speed: 2.5ms preprocess, 42.9ms inference, 0.5ms postprocess per image at shape (1, 3, 352, 640)\n"
     ]
    },
    {
     "name": "stderr",
     "output_type": "stream",
     "text": [
      " 70%|███████   | 771/1101 [00:54<00:25, 13.08it/s]"
     ]
    },
    {
     "name": "stdout",
     "output_type": "stream",
     "text": [
      "\n",
      "image 1/1 c:\\Users\\sande\\OneDrive\\Desktop\\IITTP\\2_Asgn\\Sem2\\2_dl\\SemProject\\Automated_Yolo\\dataset\\UAVDT-processed\\val\\images\\img000772.jpg: 352x640 (no detections), 39.0ms\n",
      "Speed: 2.0ms preprocess, 39.0ms inference, 0.4ms postprocess per image at shape (1, 3, 352, 640)\n",
      "\n",
      "image 1/1 c:\\Users\\sande\\OneDrive\\Desktop\\IITTP\\2_Asgn\\Sem2\\2_dl\\SemProject\\Automated_Yolo\\dataset\\UAVDT-processed\\val\\images\\img000773.jpg: 352x640 (no detections), 38.8ms\n",
      "Speed: 2.1ms preprocess, 38.8ms inference, 0.5ms postprocess per image at shape (1, 3, 352, 640)\n"
     ]
    },
    {
     "name": "stderr",
     "output_type": "stream",
     "text": [
      " 70%|███████   | 773/1101 [00:54<00:24, 13.43it/s]"
     ]
    },
    {
     "name": "stdout",
     "output_type": "stream",
     "text": [
      "\n",
      "image 1/1 c:\\Users\\sande\\OneDrive\\Desktop\\IITTP\\2_Asgn\\Sem2\\2_dl\\SemProject\\Automated_Yolo\\dataset\\UAVDT-processed\\val\\images\\img000774.jpg: 352x640 (no detections), 43.1ms\n",
      "Speed: 1.7ms preprocess, 43.1ms inference, 0.6ms postprocess per image at shape (1, 3, 352, 640)\n",
      "\n",
      "image 1/1 c:\\Users\\sande\\OneDrive\\Desktop\\IITTP\\2_Asgn\\Sem2\\2_dl\\SemProject\\Automated_Yolo\\dataset\\UAVDT-processed\\val\\images\\img000775.jpg: 352x640 (no detections), 39.5ms\n",
      "Speed: 2.1ms preprocess, 39.5ms inference, 0.4ms postprocess per image at shape (1, 3, 352, 640)\n"
     ]
    },
    {
     "name": "stderr",
     "output_type": "stream",
     "text": [
      " 70%|███████   | 775/1101 [00:54<00:23, 13.88it/s]"
     ]
    },
    {
     "name": "stdout",
     "output_type": "stream",
     "text": [
      "\n",
      "image 1/1 c:\\Users\\sande\\OneDrive\\Desktop\\IITTP\\2_Asgn\\Sem2\\2_dl\\SemProject\\Automated_Yolo\\dataset\\UAVDT-processed\\val\\images\\img000776.jpg: 352x640 (no detections), 42.8ms\n",
      "Speed: 1.9ms preprocess, 42.8ms inference, 0.5ms postprocess per image at shape (1, 3, 352, 640)\n",
      "\n",
      "image 1/1 c:\\Users\\sande\\OneDrive\\Desktop\\IITTP\\2_Asgn\\Sem2\\2_dl\\SemProject\\Automated_Yolo\\dataset\\UAVDT-processed\\val\\images\\img000777.jpg: 352x640 (no detections), 40.6ms\n",
      "Speed: 2.1ms preprocess, 40.6ms inference, 0.4ms postprocess per image at shape (1, 3, 352, 640)\n"
     ]
    },
    {
     "name": "stderr",
     "output_type": "stream",
     "text": [
      " 71%|███████   | 777/1101 [00:55<00:23, 13.77it/s]"
     ]
    },
    {
     "name": "stdout",
     "output_type": "stream",
     "text": [
      "\n",
      "image 1/1 c:\\Users\\sande\\OneDrive\\Desktop\\IITTP\\2_Asgn\\Sem2\\2_dl\\SemProject\\Automated_Yolo\\dataset\\UAVDT-processed\\val\\images\\img000778.jpg: 352x640 (no detections), 42.0ms\n",
      "Speed: 1.9ms preprocess, 42.0ms inference, 0.6ms postprocess per image at shape (1, 3, 352, 640)\n",
      "\n",
      "image 1/1 c:\\Users\\sande\\OneDrive\\Desktop\\IITTP\\2_Asgn\\Sem2\\2_dl\\SemProject\\Automated_Yolo\\dataset\\UAVDT-processed\\val\\images\\img000779.jpg: 352x640 (no detections), 40.9ms\n",
      "Speed: 2.1ms preprocess, 40.9ms inference, 0.4ms postprocess per image at shape (1, 3, 352, 640)\n"
     ]
    },
    {
     "name": "stderr",
     "output_type": "stream",
     "text": [
      " 71%|███████   | 779/1101 [00:55<00:23, 13.66it/s]"
     ]
    },
    {
     "name": "stdout",
     "output_type": "stream",
     "text": [
      "\n",
      "image 1/1 c:\\Users\\sande\\OneDrive\\Desktop\\IITTP\\2_Asgn\\Sem2\\2_dl\\SemProject\\Automated_Yolo\\dataset\\UAVDT-processed\\val\\images\\img000780.jpg: 352x640 (no detections), 40.6ms\n",
      "Speed: 2.1ms preprocess, 40.6ms inference, 0.5ms postprocess per image at shape (1, 3, 352, 640)\n",
      "\n",
      "image 1/1 c:\\Users\\sande\\OneDrive\\Desktop\\IITTP\\2_Asgn\\Sem2\\2_dl\\SemProject\\Automated_Yolo\\dataset\\UAVDT-processed\\val\\images\\img000781.jpg: 352x640 (no detections), 48.9ms\n",
      "Speed: 2.2ms preprocess, 48.9ms inference, 0.5ms postprocess per image at shape (1, 3, 352, 640)\n"
     ]
    },
    {
     "name": "stderr",
     "output_type": "stream",
     "text": [
      " 71%|███████   | 781/1101 [00:55<00:24, 13.19it/s]"
     ]
    },
    {
     "name": "stdout",
     "output_type": "stream",
     "text": [
      "\n",
      "image 1/1 c:\\Users\\sande\\OneDrive\\Desktop\\IITTP\\2_Asgn\\Sem2\\2_dl\\SemProject\\Automated_Yolo\\dataset\\UAVDT-processed\\val\\images\\img000782.jpg: 352x640 (no detections), 65.0ms\n",
      "Speed: 2.1ms preprocess, 65.0ms inference, 0.6ms postprocess per image at shape (1, 3, 352, 640)\n",
      "\n",
      "image 1/1 c:\\Users\\sande\\OneDrive\\Desktop\\IITTP\\2_Asgn\\Sem2\\2_dl\\SemProject\\Automated_Yolo\\dataset\\UAVDT-processed\\val\\images\\img000783.jpg: 352x640 (no detections), 44.0ms\n",
      "Speed: 2.0ms preprocess, 44.0ms inference, 0.5ms postprocess per image at shape (1, 3, 352, 640)\n"
     ]
    },
    {
     "name": "stderr",
     "output_type": "stream",
     "text": [
      " 71%|███████   | 783/1101 [00:55<00:24, 12.96it/s]"
     ]
    },
    {
     "name": "stdout",
     "output_type": "stream",
     "text": [
      "\n",
      "image 1/1 c:\\Users\\sande\\OneDrive\\Desktop\\IITTP\\2_Asgn\\Sem2\\2_dl\\SemProject\\Automated_Yolo\\dataset\\UAVDT-processed\\val\\images\\img000784.jpg: 352x640 (no detections), 43.7ms\n",
      "Speed: 1.7ms preprocess, 43.7ms inference, 0.5ms postprocess per image at shape (1, 3, 352, 640)\n",
      "\n",
      "image 1/1 c:\\Users\\sande\\OneDrive\\Desktop\\IITTP\\2_Asgn\\Sem2\\2_dl\\SemProject\\Automated_Yolo\\dataset\\UAVDT-processed\\val\\images\\img000785.jpg: 352x640 (no detections), 41.0ms\n",
      "Speed: 2.2ms preprocess, 41.0ms inference, 0.5ms postprocess per image at shape (1, 3, 352, 640)\n"
     ]
    },
    {
     "name": "stderr",
     "output_type": "stream",
     "text": [
      " 71%|███████▏  | 785/1101 [00:55<00:24, 13.15it/s]"
     ]
    },
    {
     "name": "stdout",
     "output_type": "stream",
     "text": [
      "\n",
      "image 1/1 c:\\Users\\sande\\OneDrive\\Desktop\\IITTP\\2_Asgn\\Sem2\\2_dl\\SemProject\\Automated_Yolo\\dataset\\UAVDT-processed\\val\\images\\img000786.jpg: 352x640 (no detections), 41.4ms\n",
      "Speed: 1.8ms preprocess, 41.4ms inference, 0.4ms postprocess per image at shape (1, 3, 352, 640)\n",
      "\n",
      "image 1/1 c:\\Users\\sande\\OneDrive\\Desktop\\IITTP\\2_Asgn\\Sem2\\2_dl\\SemProject\\Automated_Yolo\\dataset\\UAVDT-processed\\val\\images\\img000787.jpg: 352x640 (no detections), 39.5ms\n",
      "Speed: 2.1ms preprocess, 39.5ms inference, 0.4ms postprocess per image at shape (1, 3, 352, 640)\n"
     ]
    },
    {
     "name": "stderr",
     "output_type": "stream",
     "text": [
      " 71%|███████▏  | 787/1101 [00:55<00:23, 13.42it/s]"
     ]
    },
    {
     "name": "stdout",
     "output_type": "stream",
     "text": [
      "\n",
      "image 1/1 c:\\Users\\sande\\OneDrive\\Desktop\\IITTP\\2_Asgn\\Sem2\\2_dl\\SemProject\\Automated_Yolo\\dataset\\UAVDT-processed\\val\\images\\img000788.jpg: 352x640 (no detections), 43.2ms\n",
      "Speed: 2.2ms preprocess, 43.2ms inference, 0.8ms postprocess per image at shape (1, 3, 352, 640)\n",
      "\n",
      "image 1/1 c:\\Users\\sande\\OneDrive\\Desktop\\IITTP\\2_Asgn\\Sem2\\2_dl\\SemProject\\Automated_Yolo\\dataset\\UAVDT-processed\\val\\images\\img000789.jpg: 352x640 (no detections), 40.5ms\n",
      "Speed: 2.1ms preprocess, 40.5ms inference, 0.4ms postprocess per image at shape (1, 3, 352, 640)\n"
     ]
    },
    {
     "name": "stderr",
     "output_type": "stream",
     "text": [
      " 72%|███████▏  | 789/1101 [00:55<00:22, 13.99it/s]"
     ]
    },
    {
     "name": "stdout",
     "output_type": "stream",
     "text": [
      "\n",
      "image 1/1 c:\\Users\\sande\\OneDrive\\Desktop\\IITTP\\2_Asgn\\Sem2\\2_dl\\SemProject\\Automated_Yolo\\dataset\\UAVDT-processed\\val\\images\\img000790.jpg: 352x640 (no detections), 41.9ms\n",
      "Speed: 2.1ms preprocess, 41.9ms inference, 0.5ms postprocess per image at shape (1, 3, 352, 640)\n",
      "\n",
      "image 1/1 c:\\Users\\sande\\OneDrive\\Desktop\\IITTP\\2_Asgn\\Sem2\\2_dl\\SemProject\\Automated_Yolo\\dataset\\UAVDT-processed\\val\\images\\img000791.jpg: 352x640 (no detections), 38.1ms\n",
      "Speed: 2.1ms preprocess, 38.1ms inference, 0.5ms postprocess per image at shape (1, 3, 352, 640)\n"
     ]
    },
    {
     "name": "stderr",
     "output_type": "stream",
     "text": [
      " 72%|███████▏  | 791/1101 [00:56<00:22, 14.09it/s]"
     ]
    },
    {
     "name": "stdout",
     "output_type": "stream",
     "text": [
      "\n",
      "image 1/1 c:\\Users\\sande\\OneDrive\\Desktop\\IITTP\\2_Asgn\\Sem2\\2_dl\\SemProject\\Automated_Yolo\\dataset\\UAVDT-processed\\val\\images\\img000792.jpg: 352x640 (no detections), 63.4ms\n",
      "Speed: 1.5ms preprocess, 63.4ms inference, 0.6ms postprocess per image at shape (1, 3, 352, 640)\n",
      "\n",
      "image 1/1 c:\\Users\\sande\\OneDrive\\Desktop\\IITTP\\2_Asgn\\Sem2\\2_dl\\SemProject\\Automated_Yolo\\dataset\\UAVDT-processed\\val\\images\\img000793.jpg: 352x640 (no detections), 38.1ms\n",
      "Speed: 2.2ms preprocess, 38.1ms inference, 0.4ms postprocess per image at shape (1, 3, 352, 640)\n"
     ]
    },
    {
     "name": "stderr",
     "output_type": "stream",
     "text": [
      " 72%|███████▏  | 793/1101 [00:56<00:22, 13.41it/s]"
     ]
    },
    {
     "name": "stdout",
     "output_type": "stream",
     "text": [
      "\n",
      "image 1/1 c:\\Users\\sande\\OneDrive\\Desktop\\IITTP\\2_Asgn\\Sem2\\2_dl\\SemProject\\Automated_Yolo\\dataset\\UAVDT-processed\\val\\images\\img000794.jpg: 352x640 (no detections), 41.9ms\n",
      "Speed: 1.5ms preprocess, 41.9ms inference, 0.4ms postprocess per image at shape (1, 3, 352, 640)\n",
      "\n",
      "image 1/1 c:\\Users\\sande\\OneDrive\\Desktop\\IITTP\\2_Asgn\\Sem2\\2_dl\\SemProject\\Automated_Yolo\\dataset\\UAVDT-processed\\val\\images\\img000795.jpg: 352x640 (no detections), 40.6ms\n",
      "Speed: 1.5ms preprocess, 40.6ms inference, 0.5ms postprocess per image at shape (1, 3, 352, 640)\n"
     ]
    },
    {
     "name": "stderr",
     "output_type": "stream",
     "text": [
      " 72%|███████▏  | 795/1101 [00:56<00:21, 14.22it/s]"
     ]
    },
    {
     "name": "stdout",
     "output_type": "stream",
     "text": [
      "\n",
      "image 1/1 c:\\Users\\sande\\OneDrive\\Desktop\\IITTP\\2_Asgn\\Sem2\\2_dl\\SemProject\\Automated_Yolo\\dataset\\UAVDT-processed\\val\\images\\img000796.jpg: 352x640 (no detections), 41.2ms\n",
      "Speed: 2.2ms preprocess, 41.2ms inference, 0.4ms postprocess per image at shape (1, 3, 352, 640)\n",
      "\n",
      "image 1/1 c:\\Users\\sande\\OneDrive\\Desktop\\IITTP\\2_Asgn\\Sem2\\2_dl\\SemProject\\Automated_Yolo\\dataset\\UAVDT-processed\\val\\images\\img000797.jpg: 352x640 (no detections), 39.0ms\n",
      "Speed: 1.4ms preprocess, 39.0ms inference, 0.5ms postprocess per image at shape (1, 3, 352, 640)\n"
     ]
    },
    {
     "name": "stderr",
     "output_type": "stream",
     "text": [
      " 72%|███████▏  | 797/1101 [00:56<00:21, 14.12it/s]"
     ]
    },
    {
     "name": "stdout",
     "output_type": "stream",
     "text": [
      "\n",
      "image 1/1 c:\\Users\\sande\\OneDrive\\Desktop\\IITTP\\2_Asgn\\Sem2\\2_dl\\SemProject\\Automated_Yolo\\dataset\\UAVDT-processed\\val\\images\\img000798.jpg: 352x640 (no detections), 40.1ms\n",
      "Speed: 2.1ms preprocess, 40.1ms inference, 0.5ms postprocess per image at shape (1, 3, 352, 640)\n",
      "\n",
      "image 1/1 c:\\Users\\sande\\OneDrive\\Desktop\\IITTP\\2_Asgn\\Sem2\\2_dl\\SemProject\\Automated_Yolo\\dataset\\UAVDT-processed\\val\\images\\img000799.jpg: 352x640 (no detections), 44.2ms\n",
      "Speed: 2.0ms preprocess, 44.2ms inference, 0.5ms postprocess per image at shape (1, 3, 352, 640)\n"
     ]
    },
    {
     "name": "stderr",
     "output_type": "stream",
     "text": [
      " 73%|███████▎  | 799/1101 [00:56<00:21, 14.21it/s]"
     ]
    },
    {
     "name": "stdout",
     "output_type": "stream",
     "text": [
      "\n",
      "image 1/1 c:\\Users\\sande\\OneDrive\\Desktop\\IITTP\\2_Asgn\\Sem2\\2_dl\\SemProject\\Automated_Yolo\\dataset\\UAVDT-processed\\val\\images\\img000800.jpg: 352x640 (no detections), 45.3ms\n",
      "Speed: 2.2ms preprocess, 45.3ms inference, 0.5ms postprocess per image at shape (1, 3, 352, 640)\n",
      "\n",
      "image 1/1 c:\\Users\\sande\\OneDrive\\Desktop\\IITTP\\2_Asgn\\Sem2\\2_dl\\SemProject\\Automated_Yolo\\dataset\\UAVDT-processed\\val\\images\\img000801.jpg: 352x640 (no detections), 44.6ms\n",
      "Speed: 2.3ms preprocess, 44.6ms inference, 0.5ms postprocess per image at shape (1, 3, 352, 640)\n"
     ]
    },
    {
     "name": "stderr",
     "output_type": "stream",
     "text": [
      " 73%|███████▎  | 801/1101 [00:56<00:21, 13.65it/s]"
     ]
    },
    {
     "name": "stdout",
     "output_type": "stream",
     "text": [
      "\n",
      "image 1/1 c:\\Users\\sande\\OneDrive\\Desktop\\IITTP\\2_Asgn\\Sem2\\2_dl\\SemProject\\Automated_Yolo\\dataset\\UAVDT-processed\\val\\images\\img000802.jpg: 352x640 (no detections), 46.4ms\n",
      "Speed: 2.6ms preprocess, 46.4ms inference, 0.6ms postprocess per image at shape (1, 3, 352, 640)\n",
      "\n",
      "image 1/1 c:\\Users\\sande\\OneDrive\\Desktop\\IITTP\\2_Asgn\\Sem2\\2_dl\\SemProject\\Automated_Yolo\\dataset\\UAVDT-processed\\val\\images\\img000803.jpg: 352x640 (no detections), 60.7ms\n",
      "Speed: 2.1ms preprocess, 60.7ms inference, 0.6ms postprocess per image at shape (1, 3, 352, 640)\n"
     ]
    },
    {
     "name": "stderr",
     "output_type": "stream",
     "text": [
      " 73%|███████▎  | 803/1101 [00:56<00:23, 12.76it/s]"
     ]
    },
    {
     "name": "stdout",
     "output_type": "stream",
     "text": [
      "\n",
      "image 1/1 c:\\Users\\sande\\OneDrive\\Desktop\\IITTP\\2_Asgn\\Sem2\\2_dl\\SemProject\\Automated_Yolo\\dataset\\UAVDT-processed\\val\\images\\img000804.jpg: 352x640 (no detections), 47.3ms\n",
      "Speed: 1.7ms preprocess, 47.3ms inference, 0.5ms postprocess per image at shape (1, 3, 352, 640)\n",
      "\n",
      "image 1/1 c:\\Users\\sande\\OneDrive\\Desktop\\IITTP\\2_Asgn\\Sem2\\2_dl\\SemProject\\Automated_Yolo\\dataset\\UAVDT-processed\\val\\images\\img000805.jpg: 352x640 (no detections), 38.8ms\n",
      "Speed: 2.1ms preprocess, 38.8ms inference, 0.5ms postprocess per image at shape (1, 3, 352, 640)\n"
     ]
    },
    {
     "name": "stderr",
     "output_type": "stream",
     "text": [
      " 73%|███████▎  | 805/1101 [00:57<00:22, 12.93it/s]"
     ]
    },
    {
     "name": "stdout",
     "output_type": "stream",
     "text": [
      "\n",
      "image 1/1 c:\\Users\\sande\\OneDrive\\Desktop\\IITTP\\2_Asgn\\Sem2\\2_dl\\SemProject\\Automated_Yolo\\dataset\\UAVDT-processed\\val\\images\\img000806.jpg: 352x640 (no detections), 42.3ms\n",
      "Speed: 2.1ms preprocess, 42.3ms inference, 0.4ms postprocess per image at shape (1, 3, 352, 640)\n",
      "\n",
      "image 1/1 c:\\Users\\sande\\OneDrive\\Desktop\\IITTP\\2_Asgn\\Sem2\\2_dl\\SemProject\\Automated_Yolo\\dataset\\UAVDT-processed\\val\\images\\img000807.jpg: 352x640 (no detections), 41.6ms\n",
      "Speed: 2.2ms preprocess, 41.6ms inference, 0.8ms postprocess per image at shape (1, 3, 352, 640)\n"
     ]
    },
    {
     "name": "stderr",
     "output_type": "stream",
     "text": [
      " 73%|███████▎  | 807/1101 [00:57<00:22, 13.10it/s]"
     ]
    },
    {
     "name": "stdout",
     "output_type": "stream",
     "text": [
      "\n",
      "image 1/1 c:\\Users\\sande\\OneDrive\\Desktop\\IITTP\\2_Asgn\\Sem2\\2_dl\\SemProject\\Automated_Yolo\\dataset\\UAVDT-processed\\val\\images\\img000808.jpg: 352x640 (no detections), 43.1ms\n",
      "Speed: 2.3ms preprocess, 43.1ms inference, 0.5ms postprocess per image at shape (1, 3, 352, 640)\n",
      "\n",
      "image 1/1 c:\\Users\\sande\\OneDrive\\Desktop\\IITTP\\2_Asgn\\Sem2\\2_dl\\SemProject\\Automated_Yolo\\dataset\\UAVDT-processed\\val\\images\\img000809.jpg: 352x640 (no detections), 42.2ms\n",
      "Speed: 2.2ms preprocess, 42.2ms inference, 0.5ms postprocess per image at shape (1, 3, 352, 640)\n"
     ]
    },
    {
     "name": "stderr",
     "output_type": "stream",
     "text": [
      " 73%|███████▎  | 809/1101 [00:57<00:22, 13.19it/s]"
     ]
    },
    {
     "name": "stdout",
     "output_type": "stream",
     "text": [
      "\n",
      "image 1/1 c:\\Users\\sande\\OneDrive\\Desktop\\IITTP\\2_Asgn\\Sem2\\2_dl\\SemProject\\Automated_Yolo\\dataset\\UAVDT-processed\\val\\images\\img000810.jpg: 352x640 (no detections), 39.7ms\n",
      "Speed: 2.0ms preprocess, 39.7ms inference, 0.4ms postprocess per image at shape (1, 3, 352, 640)\n",
      "\n",
      "image 1/1 c:\\Users\\sande\\OneDrive\\Desktop\\IITTP\\2_Asgn\\Sem2\\2_dl\\SemProject\\Automated_Yolo\\dataset\\UAVDT-processed\\val\\images\\img000811.jpg: 352x640 (no detections), 38.5ms\n",
      "Speed: 2.1ms preprocess, 38.5ms inference, 0.4ms postprocess per image at shape (1, 3, 352, 640)\n"
     ]
    },
    {
     "name": "stderr",
     "output_type": "stream",
     "text": [
      " 74%|███████▎  | 811/1101 [00:57<00:21, 13.54it/s]"
     ]
    },
    {
     "name": "stdout",
     "output_type": "stream",
     "text": [
      "\n",
      "image 1/1 c:\\Users\\sande\\OneDrive\\Desktop\\IITTP\\2_Asgn\\Sem2\\2_dl\\SemProject\\Automated_Yolo\\dataset\\UAVDT-processed\\val\\images\\img000812.jpg: 352x640 (no detections), 42.7ms\n",
      "Speed: 1.4ms preprocess, 42.7ms inference, 0.5ms postprocess per image at shape (1, 3, 352, 640)\n",
      "\n",
      "image 1/1 c:\\Users\\sande\\OneDrive\\Desktop\\IITTP\\2_Asgn\\Sem2\\2_dl\\SemProject\\Automated_Yolo\\dataset\\UAVDT-processed\\val\\images\\img000813.jpg: 352x640 (no detections), 40.2ms\n",
      "Speed: 2.3ms preprocess, 40.2ms inference, 0.5ms postprocess per image at shape (1, 3, 352, 640)\n"
     ]
    },
    {
     "name": "stderr",
     "output_type": "stream",
     "text": [
      " 74%|███████▍  | 813/1101 [00:57<00:21, 13.58it/s]"
     ]
    },
    {
     "name": "stdout",
     "output_type": "stream",
     "text": [
      "\n",
      "image 1/1 c:\\Users\\sande\\OneDrive\\Desktop\\IITTP\\2_Asgn\\Sem2\\2_dl\\SemProject\\Automated_Yolo\\dataset\\UAVDT-processed\\val\\images\\img000814.jpg: 352x640 (no detections), 53.1ms\n",
      "Speed: 1.5ms preprocess, 53.1ms inference, 0.6ms postprocess per image at shape (1, 3, 352, 640)\n",
      "\n",
      "image 1/1 c:\\Users\\sande\\OneDrive\\Desktop\\IITTP\\2_Asgn\\Sem2\\2_dl\\SemProject\\Automated_Yolo\\dataset\\UAVDT-processed\\val\\images\\img000815.jpg: 352x640 (no detections), 41.6ms\n",
      "Speed: 1.6ms preprocess, 41.6ms inference, 0.4ms postprocess per image at shape (1, 3, 352, 640)\n"
     ]
    },
    {
     "name": "stderr",
     "output_type": "stream",
     "text": [
      " 74%|███████▍  | 815/1101 [00:57<00:21, 13.14it/s]"
     ]
    },
    {
     "name": "stdout",
     "output_type": "stream",
     "text": [
      "\n",
      "image 1/1 c:\\Users\\sande\\OneDrive\\Desktop\\IITTP\\2_Asgn\\Sem2\\2_dl\\SemProject\\Automated_Yolo\\dataset\\UAVDT-processed\\val\\images\\img000816.jpg: 352x640 (no detections), 38.7ms\n",
      "Speed: 1.9ms preprocess, 38.7ms inference, 0.4ms postprocess per image at shape (1, 3, 352, 640)\n",
      "\n",
      "image 1/1 c:\\Users\\sande\\OneDrive\\Desktop\\IITTP\\2_Asgn\\Sem2\\2_dl\\SemProject\\Automated_Yolo\\dataset\\UAVDT-processed\\val\\images\\img000817.jpg: 352x640 (no detections), 39.4ms\n",
      "Speed: 2.1ms preprocess, 39.4ms inference, 0.4ms postprocess per image at shape (1, 3, 352, 640)\n"
     ]
    },
    {
     "name": "stderr",
     "output_type": "stream",
     "text": [
      " 74%|███████▍  | 817/1101 [00:58<00:21, 13.41it/s]"
     ]
    },
    {
     "name": "stdout",
     "output_type": "stream",
     "text": [
      "\n",
      "image 1/1 c:\\Users\\sande\\OneDrive\\Desktop\\IITTP\\2_Asgn\\Sem2\\2_dl\\SemProject\\Automated_Yolo\\dataset\\UAVDT-processed\\val\\images\\img000818.jpg: 352x640 (no detections), 41.0ms\n",
      "Speed: 1.4ms preprocess, 41.0ms inference, 0.5ms postprocess per image at shape (1, 3, 352, 640)\n",
      "\n",
      "image 1/1 c:\\Users\\sande\\OneDrive\\Desktop\\IITTP\\2_Asgn\\Sem2\\2_dl\\SemProject\\Automated_Yolo\\dataset\\UAVDT-processed\\val\\images\\img000819.jpg: 352x640 (no detections), 37.9ms\n",
      "Speed: 2.2ms preprocess, 37.9ms inference, 0.4ms postprocess per image at shape (1, 3, 352, 640)\n"
     ]
    },
    {
     "name": "stderr",
     "output_type": "stream",
     "text": [
      " 74%|███████▍  | 819/1101 [00:58<00:20, 13.65it/s]"
     ]
    },
    {
     "name": "stdout",
     "output_type": "stream",
     "text": [
      "\n",
      "image 1/1 c:\\Users\\sande\\OneDrive\\Desktop\\IITTP\\2_Asgn\\Sem2\\2_dl\\SemProject\\Automated_Yolo\\dataset\\UAVDT-processed\\val\\images\\img000820.jpg: 352x640 (no detections), 46.1ms\n",
      "Speed: 2.2ms preprocess, 46.1ms inference, 0.5ms postprocess per image at shape (1, 3, 352, 640)\n",
      "\n",
      "image 1/1 c:\\Users\\sande\\OneDrive\\Desktop\\IITTP\\2_Asgn\\Sem2\\2_dl\\SemProject\\Automated_Yolo\\dataset\\UAVDT-processed\\val\\images\\img000821.jpg: 352x640 (no detections), 46.6ms\n",
      "Speed: 2.3ms preprocess, 46.6ms inference, 0.7ms postprocess per image at shape (1, 3, 352, 640)\n"
     ]
    },
    {
     "name": "stderr",
     "output_type": "stream",
     "text": [
      " 75%|███████▍  | 821/1101 [00:58<00:20, 13.48it/s]"
     ]
    },
    {
     "name": "stdout",
     "output_type": "stream",
     "text": [
      "\n",
      "image 1/1 c:\\Users\\sande\\OneDrive\\Desktop\\IITTP\\2_Asgn\\Sem2\\2_dl\\SemProject\\Automated_Yolo\\dataset\\UAVDT-processed\\val\\images\\img000822.jpg: 352x640 (no detections), 42.4ms\n",
      "Speed: 2.2ms preprocess, 42.4ms inference, 0.5ms postprocess per image at shape (1, 3, 352, 640)\n",
      "\n",
      "image 1/1 c:\\Users\\sande\\OneDrive\\Desktop\\IITTP\\2_Asgn\\Sem2\\2_dl\\SemProject\\Automated_Yolo\\dataset\\UAVDT-processed\\val\\images\\img000823.jpg: 352x640 (no detections), 41.7ms\n",
      "Speed: 1.5ms preprocess, 41.7ms inference, 0.5ms postprocess per image at shape (1, 3, 352, 640)\n"
     ]
    },
    {
     "name": "stderr",
     "output_type": "stream",
     "text": [
      " 75%|███████▍  | 823/1101 [00:58<00:20, 13.36it/s]"
     ]
    },
    {
     "name": "stdout",
     "output_type": "stream",
     "text": [
      "\n",
      "image 1/1 c:\\Users\\sande\\OneDrive\\Desktop\\IITTP\\2_Asgn\\Sem2\\2_dl\\SemProject\\Automated_Yolo\\dataset\\UAVDT-processed\\val\\images\\img000824.jpg: 352x640 (no detections), 42.6ms\n",
      "Speed: 2.2ms preprocess, 42.6ms inference, 0.5ms postprocess per image at shape (1, 3, 352, 640)\n",
      "\n",
      "image 1/1 c:\\Users\\sande\\OneDrive\\Desktop\\IITTP\\2_Asgn\\Sem2\\2_dl\\SemProject\\Automated_Yolo\\dataset\\UAVDT-processed\\val\\images\\img000825.jpg: 352x640 (no detections), 43.5ms\n",
      "Speed: 2.2ms preprocess, 43.5ms inference, 0.5ms postprocess per image at shape (1, 3, 352, 640)\n"
     ]
    },
    {
     "name": "stderr",
     "output_type": "stream",
     "text": [
      " 75%|███████▍  | 825/1101 [00:58<00:20, 13.34it/s]"
     ]
    },
    {
     "name": "stdout",
     "output_type": "stream",
     "text": [
      "\n",
      "image 1/1 c:\\Users\\sande\\OneDrive\\Desktop\\IITTP\\2_Asgn\\Sem2\\2_dl\\SemProject\\Automated_Yolo\\dataset\\UAVDT-processed\\val\\images\\img000826.jpg: 352x640 (no detections), 65.3ms\n",
      "Speed: 2.1ms preprocess, 65.3ms inference, 0.5ms postprocess per image at shape (1, 3, 352, 640)\n",
      "\n",
      "image 1/1 c:\\Users\\sande\\OneDrive\\Desktop\\IITTP\\2_Asgn\\Sem2\\2_dl\\SemProject\\Automated_Yolo\\dataset\\UAVDT-processed\\val\\images\\img000827.jpg: 352x640 (no detections), 41.0ms\n",
      "Speed: 1.6ms preprocess, 41.0ms inference, 0.5ms postprocess per image at shape (1, 3, 352, 640)\n"
     ]
    },
    {
     "name": "stderr",
     "output_type": "stream",
     "text": [
      " 75%|███████▌  | 827/1101 [00:58<00:21, 12.52it/s]"
     ]
    },
    {
     "name": "stdout",
     "output_type": "stream",
     "text": [
      "\n",
      "image 1/1 c:\\Users\\sande\\OneDrive\\Desktop\\IITTP\\2_Asgn\\Sem2\\2_dl\\SemProject\\Automated_Yolo\\dataset\\UAVDT-processed\\val\\images\\img000828.jpg: 352x640 (no detections), 43.5ms\n",
      "Speed: 1.5ms preprocess, 43.5ms inference, 0.5ms postprocess per image at shape (1, 3, 352, 640)\n",
      "\n",
      "image 1/1 c:\\Users\\sande\\OneDrive\\Desktop\\IITTP\\2_Asgn\\Sem2\\2_dl\\SemProject\\Automated_Yolo\\dataset\\UAVDT-processed\\val\\images\\img000829.jpg: 352x640 (no detections), 75.8ms\n",
      "Speed: 2.7ms preprocess, 75.8ms inference, 0.6ms postprocess per image at shape (1, 3, 352, 640)\n"
     ]
    },
    {
     "name": "stderr",
     "output_type": "stream",
     "text": [
      " 75%|███████▌  | 829/1101 [00:58<00:22, 12.05it/s]"
     ]
    },
    {
     "name": "stdout",
     "output_type": "stream",
     "text": [
      "\n",
      "image 1/1 c:\\Users\\sande\\OneDrive\\Desktop\\IITTP\\2_Asgn\\Sem2\\2_dl\\SemProject\\Automated_Yolo\\dataset\\UAVDT-processed\\val\\images\\img000830.jpg: 352x640 (no detections), 50.7ms\n",
      "Speed: 2.6ms preprocess, 50.7ms inference, 0.5ms postprocess per image at shape (1, 3, 352, 640)\n",
      "\n",
      "image 1/1 c:\\Users\\sande\\OneDrive\\Desktop\\IITTP\\2_Asgn\\Sem2\\2_dl\\SemProject\\Automated_Yolo\\dataset\\UAVDT-processed\\val\\images\\img000831.jpg: 352x640 (no detections), 46.9ms\n",
      "Speed: 2.0ms preprocess, 46.9ms inference, 0.5ms postprocess per image at shape (1, 3, 352, 640)\n"
     ]
    },
    {
     "name": "stderr",
     "output_type": "stream",
     "text": [
      " 75%|███████▌  | 831/1101 [00:59<00:22, 12.08it/s]"
     ]
    },
    {
     "name": "stdout",
     "output_type": "stream",
     "text": [
      "\n",
      "image 1/1 c:\\Users\\sande\\OneDrive\\Desktop\\IITTP\\2_Asgn\\Sem2\\2_dl\\SemProject\\Automated_Yolo\\dataset\\UAVDT-processed\\val\\images\\img000832.jpg: 352x640 (no detections), 48.6ms\n",
      "Speed: 1.7ms preprocess, 48.6ms inference, 0.7ms postprocess per image at shape (1, 3, 352, 640)\n",
      "\n",
      "image 1/1 c:\\Users\\sande\\OneDrive\\Desktop\\IITTP\\2_Asgn\\Sem2\\2_dl\\SemProject\\Automated_Yolo\\dataset\\UAVDT-processed\\val\\images\\img000833.jpg: 352x640 (no detections), 48.0ms\n",
      "Speed: 2.5ms preprocess, 48.0ms inference, 0.5ms postprocess per image at shape (1, 3, 352, 640)\n"
     ]
    },
    {
     "name": "stderr",
     "output_type": "stream",
     "text": [
      " 76%|███████▌  | 833/1101 [00:59<00:22, 12.16it/s]"
     ]
    },
    {
     "name": "stdout",
     "output_type": "stream",
     "text": [
      "\n",
      "image 1/1 c:\\Users\\sande\\OneDrive\\Desktop\\IITTP\\2_Asgn\\Sem2\\2_dl\\SemProject\\Automated_Yolo\\dataset\\UAVDT-processed\\val\\images\\img000834.jpg: 352x640 (no detections), 46.5ms\n",
      "Speed: 2.3ms preprocess, 46.5ms inference, 0.5ms postprocess per image at shape (1, 3, 352, 640)\n",
      "\n",
      "image 1/1 c:\\Users\\sande\\OneDrive\\Desktop\\IITTP\\2_Asgn\\Sem2\\2_dl\\SemProject\\Automated_Yolo\\dataset\\UAVDT-processed\\val\\images\\img000835.jpg: 352x640 (no detections), 44.6ms\n",
      "Speed: 2.3ms preprocess, 44.6ms inference, 0.5ms postprocess per image at shape (1, 3, 352, 640)\n"
     ]
    },
    {
     "name": "stderr",
     "output_type": "stream",
     "text": [
      " 76%|███████▌  | 835/1101 [00:59<00:21, 12.24it/s]"
     ]
    },
    {
     "name": "stdout",
     "output_type": "stream",
     "text": [
      "\n",
      "image 1/1 c:\\Users\\sande\\OneDrive\\Desktop\\IITTP\\2_Asgn\\Sem2\\2_dl\\SemProject\\Automated_Yolo\\dataset\\UAVDT-processed\\val\\images\\img000836.jpg: 352x640 (no detections), 69.4ms\n",
      "Speed: 1.7ms preprocess, 69.4ms inference, 0.6ms postprocess per image at shape (1, 3, 352, 640)\n",
      "\n",
      "image 1/1 c:\\Users\\sande\\OneDrive\\Desktop\\IITTP\\2_Asgn\\Sem2\\2_dl\\SemProject\\Automated_Yolo\\dataset\\UAVDT-processed\\val\\images\\img000837.jpg: 352x640 (no detections), 46.4ms\n",
      "Speed: 2.5ms preprocess, 46.4ms inference, 0.6ms postprocess per image at shape (1, 3, 352, 640)\n"
     ]
    },
    {
     "name": "stderr",
     "output_type": "stream",
     "text": [
      " 76%|███████▌  | 837/1101 [00:59<00:22, 11.84it/s]"
     ]
    },
    {
     "name": "stdout",
     "output_type": "stream",
     "text": [
      "\n",
      "image 1/1 c:\\Users\\sande\\OneDrive\\Desktop\\IITTP\\2_Asgn\\Sem2\\2_dl\\SemProject\\Automated_Yolo\\dataset\\UAVDT-processed\\val\\images\\img000838.jpg: 352x640 (no detections), 44.6ms\n",
      "Speed: 2.3ms preprocess, 44.6ms inference, 0.5ms postprocess per image at shape (1, 3, 352, 640)\n",
      "\n",
      "image 1/1 c:\\Users\\sande\\OneDrive\\Desktop\\IITTP\\2_Asgn\\Sem2\\2_dl\\SemProject\\Automated_Yolo\\dataset\\UAVDT-processed\\val\\images\\img000839.jpg: 352x640 (no detections), 42.5ms\n",
      "Speed: 2.2ms preprocess, 42.5ms inference, 0.5ms postprocess per image at shape (1, 3, 352, 640)\n"
     ]
    },
    {
     "name": "stderr",
     "output_type": "stream",
     "text": [
      " 76%|███████▌  | 839/1101 [00:59<00:21, 12.37it/s]"
     ]
    },
    {
     "name": "stdout",
     "output_type": "stream",
     "text": [
      "\n",
      "image 1/1 c:\\Users\\sande\\OneDrive\\Desktop\\IITTP\\2_Asgn\\Sem2\\2_dl\\SemProject\\Automated_Yolo\\dataset\\UAVDT-processed\\val\\images\\img000840.jpg: 352x640 (no detections), 43.8ms\n",
      "Speed: 2.2ms preprocess, 43.8ms inference, 0.4ms postprocess per image at shape (1, 3, 352, 640)\n",
      "\n",
      "image 1/1 c:\\Users\\sande\\OneDrive\\Desktop\\IITTP\\2_Asgn\\Sem2\\2_dl\\SemProject\\Automated_Yolo\\dataset\\UAVDT-processed\\val\\images\\img000841.jpg: 352x640 (no detections), 44.3ms\n",
      "Speed: 1.6ms preprocess, 44.3ms inference, 0.5ms postprocess per image at shape (1, 3, 352, 640)\n"
     ]
    },
    {
     "name": "stderr",
     "output_type": "stream",
     "text": [
      " 76%|███████▋  | 841/1101 [00:59<00:20, 12.56it/s]"
     ]
    },
    {
     "name": "stdout",
     "output_type": "stream",
     "text": [
      "\n",
      "image 1/1 c:\\Users\\sande\\OneDrive\\Desktop\\IITTP\\2_Asgn\\Sem2\\2_dl\\SemProject\\Automated_Yolo\\dataset\\UAVDT-processed\\val\\images\\img000842.jpg: 352x640 (no detections), 47.1ms\n",
      "Speed: 2.2ms preprocess, 47.1ms inference, 0.5ms postprocess per image at shape (1, 3, 352, 640)\n",
      "\n",
      "image 1/1 c:\\Users\\sande\\OneDrive\\Desktop\\IITTP\\2_Asgn\\Sem2\\2_dl\\SemProject\\Automated_Yolo\\dataset\\UAVDT-processed\\val\\images\\img000843.jpg: 352x640 (no detections), 46.7ms\n",
      "Speed: 1.5ms preprocess, 46.7ms inference, 0.5ms postprocess per image at shape (1, 3, 352, 640)\n"
     ]
    },
    {
     "name": "stderr",
     "output_type": "stream",
     "text": [
      " 77%|███████▋  | 843/1101 [01:00<00:19, 13.24it/s]"
     ]
    },
    {
     "name": "stdout",
     "output_type": "stream",
     "text": [
      "\n",
      "image 1/1 c:\\Users\\sande\\OneDrive\\Desktop\\IITTP\\2_Asgn\\Sem2\\2_dl\\SemProject\\Automated_Yolo\\dataset\\UAVDT-processed\\val\\images\\img000844.jpg: 352x640 (no detections), 47.8ms\n",
      "Speed: 1.8ms preprocess, 47.8ms inference, 0.5ms postprocess per image at shape (1, 3, 352, 640)\n",
      "\n",
      "image 1/1 c:\\Users\\sande\\OneDrive\\Desktop\\IITTP\\2_Asgn\\Sem2\\2_dl\\SemProject\\Automated_Yolo\\dataset\\UAVDT-processed\\val\\images\\img000845.jpg: 352x640 (no detections), 43.9ms\n",
      "Speed: 1.5ms preprocess, 43.9ms inference, 0.5ms postprocess per image at shape (1, 3, 352, 640)\n"
     ]
    },
    {
     "name": "stderr",
     "output_type": "stream",
     "text": [
      " 77%|███████▋  | 845/1101 [01:00<00:19, 13.02it/s]"
     ]
    },
    {
     "name": "stdout",
     "output_type": "stream",
     "text": [
      "\n",
      "image 1/1 c:\\Users\\sande\\OneDrive\\Desktop\\IITTP\\2_Asgn\\Sem2\\2_dl\\SemProject\\Automated_Yolo\\dataset\\UAVDT-processed\\val\\images\\img000846.jpg: 352x640 (no detections), 46.3ms\n",
      "Speed: 2.3ms preprocess, 46.3ms inference, 0.6ms postprocess per image at shape (1, 3, 352, 640)\n",
      "\n",
      "image 1/1 c:\\Users\\sande\\OneDrive\\Desktop\\IITTP\\2_Asgn\\Sem2\\2_dl\\SemProject\\Automated_Yolo\\dataset\\UAVDT-processed\\val\\images\\img000847.jpg: 352x640 (no detections), 44.7ms\n",
      "Speed: 1.7ms preprocess, 44.7ms inference, 0.5ms postprocess per image at shape (1, 3, 352, 640)\n"
     ]
    },
    {
     "name": "stderr",
     "output_type": "stream",
     "text": [
      " 77%|███████▋  | 847/1101 [01:00<00:19, 12.88it/s]"
     ]
    },
    {
     "name": "stdout",
     "output_type": "stream",
     "text": [
      "\n",
      "image 1/1 c:\\Users\\sande\\OneDrive\\Desktop\\IITTP\\2_Asgn\\Sem2\\2_dl\\SemProject\\Automated_Yolo\\dataset\\UAVDT-processed\\val\\images\\img000848.jpg: 352x640 (no detections), 67.4ms\n",
      "Speed: 1.7ms preprocess, 67.4ms inference, 0.6ms postprocess per image at shape (1, 3, 352, 640)\n",
      "\n",
      "image 1/1 c:\\Users\\sande\\OneDrive\\Desktop\\IITTP\\2_Asgn\\Sem2\\2_dl\\SemProject\\Automated_Yolo\\dataset\\UAVDT-processed\\val\\images\\img000849.jpg: 352x640 (no detections), 44.5ms\n",
      "Speed: 2.5ms preprocess, 44.5ms inference, 0.6ms postprocess per image at shape (1, 3, 352, 640)\n"
     ]
    },
    {
     "name": "stderr",
     "output_type": "stream",
     "text": [
      " 77%|███████▋  | 849/1101 [01:00<00:20, 12.23it/s]"
     ]
    },
    {
     "name": "stdout",
     "output_type": "stream",
     "text": [
      "\n",
      "image 1/1 c:\\Users\\sande\\OneDrive\\Desktop\\IITTP\\2_Asgn\\Sem2\\2_dl\\SemProject\\Automated_Yolo\\dataset\\UAVDT-processed\\val\\images\\img000850.jpg: 352x640 (no detections), 44.3ms\n",
      "Speed: 2.2ms preprocess, 44.3ms inference, 0.5ms postprocess per image at shape (1, 3, 352, 640)\n",
      "\n",
      "image 1/1 c:\\Users\\sande\\OneDrive\\Desktop\\IITTP\\2_Asgn\\Sem2\\2_dl\\SemProject\\Automated_Yolo\\dataset\\UAVDT-processed\\val\\images\\img000851.jpg: 352x640 (no detections), 43.3ms\n",
      "Speed: 1.9ms preprocess, 43.3ms inference, 0.5ms postprocess per image at shape (1, 3, 352, 640)\n"
     ]
    },
    {
     "name": "stderr",
     "output_type": "stream",
     "text": [
      " 77%|███████▋  | 851/1101 [01:00<00:19, 12.57it/s]"
     ]
    },
    {
     "name": "stdout",
     "output_type": "stream",
     "text": [
      "\n",
      "image 1/1 c:\\Users\\sande\\OneDrive\\Desktop\\IITTP\\2_Asgn\\Sem2\\2_dl\\SemProject\\Automated_Yolo\\dataset\\UAVDT-processed\\val\\images\\img000852.jpg: 352x640 (no detections), 43.8ms\n",
      "Speed: 2.2ms preprocess, 43.8ms inference, 0.5ms postprocess per image at shape (1, 3, 352, 640)\n",
      "\n",
      "image 1/1 c:\\Users\\sande\\OneDrive\\Desktop\\IITTP\\2_Asgn\\Sem2\\2_dl\\SemProject\\Automated_Yolo\\dataset\\UAVDT-processed\\val\\images\\img000853.jpg: 352x640 (no detections), 44.1ms\n",
      "Speed: 1.7ms preprocess, 44.1ms inference, 0.5ms postprocess per image at shape (1, 3, 352, 640)\n"
     ]
    },
    {
     "name": "stderr",
     "output_type": "stream",
     "text": [
      " 77%|███████▋  | 853/1101 [01:00<00:19, 12.85it/s]"
     ]
    },
    {
     "name": "stdout",
     "output_type": "stream",
     "text": [
      "\n",
      "image 1/1 c:\\Users\\sande\\OneDrive\\Desktop\\IITTP\\2_Asgn\\Sem2\\2_dl\\SemProject\\Automated_Yolo\\dataset\\UAVDT-processed\\val\\images\\img000854.jpg: 352x640 (no detections), 43.5ms\n",
      "Speed: 2.3ms preprocess, 43.5ms inference, 0.4ms postprocess per image at shape (1, 3, 352, 640)\n",
      "\n",
      "image 1/1 c:\\Users\\sande\\OneDrive\\Desktop\\IITTP\\2_Asgn\\Sem2\\2_dl\\SemProject\\Automated_Yolo\\dataset\\UAVDT-processed\\val\\images\\img000855.jpg: 352x640 (no detections), 45.3ms\n",
      "Speed: 2.5ms preprocess, 45.3ms inference, 0.5ms postprocess per image at shape (1, 3, 352, 640)\n"
     ]
    },
    {
     "name": "stderr",
     "output_type": "stream",
     "text": [
      " 78%|███████▊  | 855/1101 [01:01<00:19, 12.92it/s]"
     ]
    },
    {
     "name": "stdout",
     "output_type": "stream",
     "text": [
      "\n",
      "image 1/1 c:\\Users\\sande\\OneDrive\\Desktop\\IITTP\\2_Asgn\\Sem2\\2_dl\\SemProject\\Automated_Yolo\\dataset\\UAVDT-processed\\val\\images\\img000856.jpg: 352x640 (no detections), 46.4ms\n",
      "Speed: 2.2ms preprocess, 46.4ms inference, 0.5ms postprocess per image at shape (1, 3, 352, 640)\n",
      "\n",
      "image 1/1 c:\\Users\\sande\\OneDrive\\Desktop\\IITTP\\2_Asgn\\Sem2\\2_dl\\SemProject\\Automated_Yolo\\dataset\\UAVDT-processed\\val\\images\\img000857.jpg: 352x640 (no detections), 41.6ms\n",
      "Speed: 2.2ms preprocess, 41.6ms inference, 0.5ms postprocess per image at shape (1, 3, 352, 640)\n"
     ]
    },
    {
     "name": "stderr",
     "output_type": "stream",
     "text": [
      " 78%|███████▊  | 857/1101 [01:01<00:19, 12.78it/s]"
     ]
    },
    {
     "name": "stdout",
     "output_type": "stream",
     "text": [
      "\n",
      "image 1/1 c:\\Users\\sande\\OneDrive\\Desktop\\IITTP\\2_Asgn\\Sem2\\2_dl\\SemProject\\Automated_Yolo\\dataset\\UAVDT-processed\\val\\images\\img000858.jpg: 352x640 (no detections), 43.1ms\n",
      "Speed: 2.2ms preprocess, 43.1ms inference, 0.6ms postprocess per image at shape (1, 3, 352, 640)\n",
      "\n",
      "image 1/1 c:\\Users\\sande\\OneDrive\\Desktop\\IITTP\\2_Asgn\\Sem2\\2_dl\\SemProject\\Automated_Yolo\\dataset\\UAVDT-processed\\val\\images\\img000859.jpg: 352x640 (no detections), 69.2ms\n",
      "Speed: 6.7ms preprocess, 69.2ms inference, 0.4ms postprocess per image at shape (1, 3, 352, 640)\n"
     ]
    },
    {
     "name": "stderr",
     "output_type": "stream",
     "text": [
      " 78%|███████▊  | 859/1101 [01:01<00:19, 12.41it/s]"
     ]
    },
    {
     "name": "stdout",
     "output_type": "stream",
     "text": [
      "\n",
      "image 1/1 c:\\Users\\sande\\OneDrive\\Desktop\\IITTP\\2_Asgn\\Sem2\\2_dl\\SemProject\\Automated_Yolo\\dataset\\UAVDT-processed\\val\\images\\img000860.jpg: 352x640 (no detections), 49.4ms\n",
      "Speed: 2.4ms preprocess, 49.4ms inference, 0.6ms postprocess per image at shape (1, 3, 352, 640)\n",
      "\n",
      "image 1/1 c:\\Users\\sande\\OneDrive\\Desktop\\IITTP\\2_Asgn\\Sem2\\2_dl\\SemProject\\Automated_Yolo\\dataset\\UAVDT-processed\\val\\images\\img000861.jpg: 352x640 (no detections), 44.3ms\n",
      "Speed: 2.2ms preprocess, 44.3ms inference, 0.6ms postprocess per image at shape (1, 3, 352, 640)\n"
     ]
    },
    {
     "name": "stderr",
     "output_type": "stream",
     "text": [
      " 78%|███████▊  | 861/1101 [01:01<00:19, 12.42it/s]"
     ]
    },
    {
     "name": "stdout",
     "output_type": "stream",
     "text": [
      "\n",
      "image 1/1 c:\\Users\\sande\\OneDrive\\Desktop\\IITTP\\2_Asgn\\Sem2\\2_dl\\SemProject\\Automated_Yolo\\dataset\\UAVDT-processed\\val\\images\\img000862.jpg: 352x640 (no detections), 43.5ms\n",
      "Speed: 1.4ms preprocess, 43.5ms inference, 0.6ms postprocess per image at shape (1, 3, 352, 640)\n",
      "\n",
      "image 1/1 c:\\Users\\sande\\OneDrive\\Desktop\\IITTP\\2_Asgn\\Sem2\\2_dl\\SemProject\\Automated_Yolo\\dataset\\UAVDT-processed\\val\\images\\img000863.jpg: 352x640 (no detections), 43.3ms\n",
      "Speed: 2.0ms preprocess, 43.3ms inference, 0.5ms postprocess per image at shape (1, 3, 352, 640)\n"
     ]
    },
    {
     "name": "stderr",
     "output_type": "stream",
     "text": [
      " 78%|███████▊  | 863/1101 [01:01<00:18, 12.66it/s]"
     ]
    },
    {
     "name": "stdout",
     "output_type": "stream",
     "text": [
      "\n",
      "image 1/1 c:\\Users\\sande\\OneDrive\\Desktop\\IITTP\\2_Asgn\\Sem2\\2_dl\\SemProject\\Automated_Yolo\\dataset\\UAVDT-processed\\val\\images\\img000864.jpg: 352x640 (no detections), 45.9ms\n",
      "Speed: 1.4ms preprocess, 45.9ms inference, 0.9ms postprocess per image at shape (1, 3, 352, 640)\n",
      "\n",
      "image 1/1 c:\\Users\\sande\\OneDrive\\Desktop\\IITTP\\2_Asgn\\Sem2\\2_dl\\SemProject\\Automated_Yolo\\dataset\\UAVDT-processed\\val\\images\\img000865.jpg: 352x640 (no detections), 43.9ms\n",
      "Speed: 1.5ms preprocess, 43.9ms inference, 0.5ms postprocess per image at shape (1, 3, 352, 640)\n"
     ]
    },
    {
     "name": "stderr",
     "output_type": "stream",
     "text": [
      " 79%|███████▊  | 865/1101 [01:01<00:18, 12.94it/s]"
     ]
    },
    {
     "name": "stdout",
     "output_type": "stream",
     "text": [
      "\n",
      "image 1/1 c:\\Users\\sande\\OneDrive\\Desktop\\IITTP\\2_Asgn\\Sem2\\2_dl\\SemProject\\Automated_Yolo\\dataset\\UAVDT-processed\\val\\images\\img000866.jpg: 352x640 (no detections), 49.4ms\n",
      "Speed: 2.1ms preprocess, 49.4ms inference, 0.5ms postprocess per image at shape (1, 3, 352, 640)\n",
      "\n",
      "image 1/1 c:\\Users\\sande\\OneDrive\\Desktop\\IITTP\\2_Asgn\\Sem2\\2_dl\\SemProject\\Automated_Yolo\\dataset\\UAVDT-processed\\val\\images\\img000867.jpg: 352x640 (no detections), 45.7ms\n",
      "Speed: 2.4ms preprocess, 45.7ms inference, 0.5ms postprocess per image at shape (1, 3, 352, 640)\n"
     ]
    },
    {
     "name": "stderr",
     "output_type": "stream",
     "text": [
      " 79%|███████▊  | 867/1101 [01:01<00:18, 12.90it/s]"
     ]
    },
    {
     "name": "stdout",
     "output_type": "stream",
     "text": [
      "\n",
      "image 1/1 c:\\Users\\sande\\OneDrive\\Desktop\\IITTP\\2_Asgn\\Sem2\\2_dl\\SemProject\\Automated_Yolo\\dataset\\UAVDT-processed\\val\\images\\img000868.jpg: 352x640 (no detections), 48.5ms\n",
      "Speed: 2.5ms preprocess, 48.5ms inference, 0.4ms postprocess per image at shape (1, 3, 352, 640)\n",
      "\n",
      "image 1/1 c:\\Users\\sande\\OneDrive\\Desktop\\IITTP\\2_Asgn\\Sem2\\2_dl\\SemProject\\Automated_Yolo\\dataset\\UAVDT-processed\\val\\images\\img000869.jpg: 352x640 (no detections), 46.0ms\n",
      "Speed: 2.3ms preprocess, 46.0ms inference, 0.6ms postprocess per image at shape (1, 3, 352, 640)\n"
     ]
    },
    {
     "name": "stderr",
     "output_type": "stream",
     "text": [
      " 79%|███████▉  | 869/1101 [01:02<00:18, 12.80it/s]"
     ]
    },
    {
     "name": "stdout",
     "output_type": "stream",
     "text": [
      "\n",
      "image 1/1 c:\\Users\\sande\\OneDrive\\Desktop\\IITTP\\2_Asgn\\Sem2\\2_dl\\SemProject\\Automated_Yolo\\dataset\\UAVDT-processed\\val\\images\\img000870.jpg: 352x640 (no detections), 57.9ms\n",
      "Speed: 2.3ms preprocess, 57.9ms inference, 0.6ms postprocess per image at shape (1, 3, 352, 640)\n",
      "\n",
      "image 1/1 c:\\Users\\sande\\OneDrive\\Desktop\\IITTP\\2_Asgn\\Sem2\\2_dl\\SemProject\\Automated_Yolo\\dataset\\UAVDT-processed\\val\\images\\img000871.jpg: 352x640 (no detections), 51.0ms\n",
      "Speed: 3.7ms preprocess, 51.0ms inference, 0.5ms postprocess per image at shape (1, 3, 352, 640)\n"
     ]
    },
    {
     "name": "stderr",
     "output_type": "stream",
     "text": [
      " 79%|███████▉  | 871/1101 [01:02<00:18, 12.12it/s]"
     ]
    },
    {
     "name": "stdout",
     "output_type": "stream",
     "text": [
      "\n",
      "image 1/1 c:\\Users\\sande\\OneDrive\\Desktop\\IITTP\\2_Asgn\\Sem2\\2_dl\\SemProject\\Automated_Yolo\\dataset\\UAVDT-processed\\val\\images\\img000872.jpg: 352x640 (no detections), 47.0ms\n",
      "Speed: 2.3ms preprocess, 47.0ms inference, 0.4ms postprocess per image at shape (1, 3, 352, 640)\n",
      "\n",
      "image 1/1 c:\\Users\\sande\\OneDrive\\Desktop\\IITTP\\2_Asgn\\Sem2\\2_dl\\SemProject\\Automated_Yolo\\dataset\\UAVDT-processed\\val\\images\\img000873.jpg: 352x640 (no detections), 44.9ms\n",
      "Speed: 1.5ms preprocess, 44.9ms inference, 0.6ms postprocess per image at shape (1, 3, 352, 640)\n"
     ]
    },
    {
     "name": "stderr",
     "output_type": "stream",
     "text": [
      " 79%|███████▉  | 873/1101 [01:02<00:18, 12.16it/s]"
     ]
    },
    {
     "name": "stdout",
     "output_type": "stream",
     "text": [
      "\n",
      "image 1/1 c:\\Users\\sande\\OneDrive\\Desktop\\IITTP\\2_Asgn\\Sem2\\2_dl\\SemProject\\Automated_Yolo\\dataset\\UAVDT-processed\\val\\images\\img000874.jpg: 352x640 (no detections), 47.4ms\n",
      "Speed: 2.0ms preprocess, 47.4ms inference, 0.5ms postprocess per image at shape (1, 3, 352, 640)\n",
      "\n",
      "image 1/1 c:\\Users\\sande\\OneDrive\\Desktop\\IITTP\\2_Asgn\\Sem2\\2_dl\\SemProject\\Automated_Yolo\\dataset\\UAVDT-processed\\val\\images\\img000875.jpg: 352x640 (no detections), 43.1ms\n",
      "Speed: 2.3ms preprocess, 43.1ms inference, 0.7ms postprocess per image at shape (1, 3, 352, 640)\n"
     ]
    },
    {
     "name": "stderr",
     "output_type": "stream",
     "text": [
      " 79%|███████▉  | 875/1101 [01:02<00:18, 12.44it/s]"
     ]
    },
    {
     "name": "stdout",
     "output_type": "stream",
     "text": [
      "\n",
      "image 1/1 c:\\Users\\sande\\OneDrive\\Desktop\\IITTP\\2_Asgn\\Sem2\\2_dl\\SemProject\\Automated_Yolo\\dataset\\UAVDT-processed\\val\\images\\img000876.jpg: 352x640 (no detections), 45.9ms\n",
      "Speed: 2.2ms preprocess, 45.9ms inference, 0.5ms postprocess per image at shape (1, 3, 352, 640)\n",
      "\n",
      "image 1/1 c:\\Users\\sande\\OneDrive\\Desktop\\IITTP\\2_Asgn\\Sem2\\2_dl\\SemProject\\Automated_Yolo\\dataset\\UAVDT-processed\\val\\images\\img000877.jpg: 352x640 (no detections), 46.6ms\n",
      "Speed: 2.2ms preprocess, 46.6ms inference, 0.5ms postprocess per image at shape (1, 3, 352, 640)\n"
     ]
    },
    {
     "name": "stderr",
     "output_type": "stream",
     "text": [
      " 80%|███████▉  | 877/1101 [01:02<00:17, 13.00it/s]"
     ]
    },
    {
     "name": "stdout",
     "output_type": "stream",
     "text": [
      "\n",
      "image 1/1 c:\\Users\\sande\\OneDrive\\Desktop\\IITTP\\2_Asgn\\Sem2\\2_dl\\SemProject\\Automated_Yolo\\dataset\\UAVDT-processed\\val\\images\\img000878.jpg: 352x640 (no detections), 72.5ms\n",
      "Speed: 5.3ms preprocess, 72.5ms inference, 0.7ms postprocess per image at shape (1, 3, 352, 640)\n",
      "\n",
      "image 1/1 c:\\Users\\sande\\OneDrive\\Desktop\\IITTP\\2_Asgn\\Sem2\\2_dl\\SemProject\\Automated_Yolo\\dataset\\UAVDT-processed\\val\\images\\img000879.jpg: 352x640 (no detections), 43.9ms\n",
      "Speed: 2.2ms preprocess, 43.9ms inference, 0.6ms postprocess per image at shape (1, 3, 352, 640)\n"
     ]
    },
    {
     "name": "stderr",
     "output_type": "stream",
     "text": [
      " 80%|███████▉  | 879/1101 [01:02<00:18, 11.88it/s]"
     ]
    },
    {
     "name": "stdout",
     "output_type": "stream",
     "text": [
      "\n",
      "image 1/1 c:\\Users\\sande\\OneDrive\\Desktop\\IITTP\\2_Asgn\\Sem2\\2_dl\\SemProject\\Automated_Yolo\\dataset\\UAVDT-processed\\val\\images\\img000880.jpg: 352x640 (no detections), 45.0ms\n",
      "Speed: 2.2ms preprocess, 45.0ms inference, 0.5ms postprocess per image at shape (1, 3, 352, 640)\n",
      "\n",
      "image 1/1 c:\\Users\\sande\\OneDrive\\Desktop\\IITTP\\2_Asgn\\Sem2\\2_dl\\SemProject\\Automated_Yolo\\dataset\\UAVDT-processed\\val\\images\\img000881.jpg: 352x640 (no detections), 43.4ms\n",
      "Speed: 2.2ms preprocess, 43.4ms inference, 0.4ms postprocess per image at shape (1, 3, 352, 640)\n"
     ]
    },
    {
     "name": "stderr",
     "output_type": "stream",
     "text": [
      " 80%|████████  | 881/1101 [01:03<00:18, 12.07it/s]"
     ]
    },
    {
     "name": "stdout",
     "output_type": "stream",
     "text": [
      "\n",
      "image 1/1 c:\\Users\\sande\\OneDrive\\Desktop\\IITTP\\2_Asgn\\Sem2\\2_dl\\SemProject\\Automated_Yolo\\dataset\\UAVDT-processed\\val\\images\\img000882.jpg: 352x640 (no detections), 64.3ms\n",
      "Speed: 2.7ms preprocess, 64.3ms inference, 0.4ms postprocess per image at shape (1, 3, 352, 640)\n",
      "\n",
      "image 1/1 c:\\Users\\sande\\OneDrive\\Desktop\\IITTP\\2_Asgn\\Sem2\\2_dl\\SemProject\\Automated_Yolo\\dataset\\UAVDT-processed\\val\\images\\img000883.jpg: 352x640 (no detections), 45.7ms\n",
      "Speed: 2.6ms preprocess, 45.7ms inference, 0.5ms postprocess per image at shape (1, 3, 352, 640)\n"
     ]
    },
    {
     "name": "stderr",
     "output_type": "stream",
     "text": [
      " 80%|████████  | 883/1101 [01:03<00:17, 12.12it/s]"
     ]
    },
    {
     "name": "stdout",
     "output_type": "stream",
     "text": [
      "\n",
      "image 1/1 c:\\Users\\sande\\OneDrive\\Desktop\\IITTP\\2_Asgn\\Sem2\\2_dl\\SemProject\\Automated_Yolo\\dataset\\UAVDT-processed\\val\\images\\img000884.jpg: 352x640 (no detections), 46.5ms\n",
      "Speed: 1.8ms preprocess, 46.5ms inference, 0.5ms postprocess per image at shape (1, 3, 352, 640)\n",
      "\n",
      "image 1/1 c:\\Users\\sande\\OneDrive\\Desktop\\IITTP\\2_Asgn\\Sem2\\2_dl\\SemProject\\Automated_Yolo\\dataset\\UAVDT-processed\\val\\images\\img000885.jpg: 352x640 (no detections), 43.7ms\n",
      "Speed: 2.3ms preprocess, 43.7ms inference, 0.4ms postprocess per image at shape (1, 3, 352, 640)\n"
     ]
    },
    {
     "name": "stderr",
     "output_type": "stream",
     "text": [
      " 80%|████████  | 885/1101 [01:03<00:17, 12.18it/s]"
     ]
    },
    {
     "name": "stdout",
     "output_type": "stream",
     "text": [
      "\n",
      "image 1/1 c:\\Users\\sande\\OneDrive\\Desktop\\IITTP\\2_Asgn\\Sem2\\2_dl\\SemProject\\Automated_Yolo\\dataset\\UAVDT-processed\\val\\images\\img000886.jpg: 352x640 (no detections), 47.2ms\n",
      "Speed: 2.4ms preprocess, 47.2ms inference, 0.5ms postprocess per image at shape (1, 3, 352, 640)\n",
      "\n",
      "image 1/1 c:\\Users\\sande\\OneDrive\\Desktop\\IITTP\\2_Asgn\\Sem2\\2_dl\\SemProject\\Automated_Yolo\\dataset\\UAVDT-processed\\val\\images\\img000887.jpg: 352x640 (no detections), 46.3ms\n",
      "Speed: 2.2ms preprocess, 46.3ms inference, 0.5ms postprocess per image at shape (1, 3, 352, 640)\n"
     ]
    },
    {
     "name": "stderr",
     "output_type": "stream",
     "text": [
      " 81%|████████  | 887/1101 [01:03<00:17, 12.30it/s]"
     ]
    },
    {
     "name": "stdout",
     "output_type": "stream",
     "text": [
      "\n",
      "image 1/1 c:\\Users\\sande\\OneDrive\\Desktop\\IITTP\\2_Asgn\\Sem2\\2_dl\\SemProject\\Automated_Yolo\\dataset\\UAVDT-processed\\val\\images\\img000888.jpg: 352x640 (no detections), 49.6ms\n",
      "Speed: 2.6ms preprocess, 49.6ms inference, 0.5ms postprocess per image at shape (1, 3, 352, 640)\n",
      "\n",
      "image 1/1 c:\\Users\\sande\\OneDrive\\Desktop\\IITTP\\2_Asgn\\Sem2\\2_dl\\SemProject\\Automated_Yolo\\dataset\\UAVDT-processed\\val\\images\\img000889.jpg: 352x640 (no detections), 44.8ms\n",
      "Speed: 1.7ms preprocess, 44.8ms inference, 0.5ms postprocess per image at shape (1, 3, 352, 640)\n"
     ]
    },
    {
     "name": "stderr",
     "output_type": "stream",
     "text": [
      " 81%|████████  | 889/1101 [01:03<00:17, 12.40it/s]"
     ]
    },
    {
     "name": "stdout",
     "output_type": "stream",
     "text": [
      "\n",
      "image 1/1 c:\\Users\\sande\\OneDrive\\Desktop\\IITTP\\2_Asgn\\Sem2\\2_dl\\SemProject\\Automated_Yolo\\dataset\\UAVDT-processed\\val\\images\\img000890.jpg: 352x640 (no detections), 47.2ms\n",
      "Speed: 2.3ms preprocess, 47.2ms inference, 0.8ms postprocess per image at shape (1, 3, 352, 640)\n",
      "\n",
      "image 1/1 c:\\Users\\sande\\OneDrive\\Desktop\\IITTP\\2_Asgn\\Sem2\\2_dl\\SemProject\\Automated_Yolo\\dataset\\UAVDT-processed\\val\\images\\img000891.jpg: 352x640 (no detections), 44.3ms\n",
      "Speed: 2.4ms preprocess, 44.3ms inference, 0.4ms postprocess per image at shape (1, 3, 352, 640)\n"
     ]
    },
    {
     "name": "stderr",
     "output_type": "stream",
     "text": [
      " 81%|████████  | 891/1101 [01:03<00:16, 12.40it/s]"
     ]
    },
    {
     "name": "stdout",
     "output_type": "stream",
     "text": [
      "\n",
      "image 1/1 c:\\Users\\sande\\OneDrive\\Desktop\\IITTP\\2_Asgn\\Sem2\\2_dl\\SemProject\\Automated_Yolo\\dataset\\UAVDT-processed\\val\\images\\img000892.jpg: 352x640 (no detections), 67.8ms\n",
      "Speed: 2.3ms preprocess, 67.8ms inference, 0.6ms postprocess per image at shape (1, 3, 352, 640)\n",
      "\n",
      "image 1/1 c:\\Users\\sande\\OneDrive\\Desktop\\IITTP\\2_Asgn\\Sem2\\2_dl\\SemProject\\Automated_Yolo\\dataset\\UAVDT-processed\\val\\images\\img000893.jpg: 352x640 (no detections), 45.8ms\n",
      "Speed: 2.0ms preprocess, 45.8ms inference, 0.4ms postprocess per image at shape (1, 3, 352, 640)\n"
     ]
    },
    {
     "name": "stderr",
     "output_type": "stream",
     "text": [
      " 81%|████████  | 893/1101 [01:04<00:17, 12.18it/s]"
     ]
    },
    {
     "name": "stdout",
     "output_type": "stream",
     "text": [
      "\n",
      "image 1/1 c:\\Users\\sande\\OneDrive\\Desktop\\IITTP\\2_Asgn\\Sem2\\2_dl\\SemProject\\Automated_Yolo\\dataset\\UAVDT-processed\\val\\images\\img000894.jpg: 352x640 (no detections), 47.4ms\n",
      "Speed: 2.5ms preprocess, 47.4ms inference, 0.5ms postprocess per image at shape (1, 3, 352, 640)\n",
      "\n",
      "image 1/1 c:\\Users\\sande\\OneDrive\\Desktop\\IITTP\\2_Asgn\\Sem2\\2_dl\\SemProject\\Automated_Yolo\\dataset\\UAVDT-processed\\val\\images\\img000895.jpg: 352x640 (no detections), 44.9ms\n",
      "Speed: 2.3ms preprocess, 44.9ms inference, 0.5ms postprocess per image at shape (1, 3, 352, 640)\n"
     ]
    },
    {
     "name": "stderr",
     "output_type": "stream",
     "text": [
      " 81%|████████▏ | 895/1101 [01:04<00:16, 12.35it/s]"
     ]
    },
    {
     "name": "stdout",
     "output_type": "stream",
     "text": [
      "\n",
      "image 1/1 c:\\Users\\sande\\OneDrive\\Desktop\\IITTP\\2_Asgn\\Sem2\\2_dl\\SemProject\\Automated_Yolo\\dataset\\UAVDT-processed\\val\\images\\img000896.jpg: 352x640 (no detections), 47.2ms\n",
      "Speed: 2.3ms preprocess, 47.2ms inference, 0.5ms postprocess per image at shape (1, 3, 352, 640)\n",
      "\n",
      "image 1/1 c:\\Users\\sande\\OneDrive\\Desktop\\IITTP\\2_Asgn\\Sem2\\2_dl\\SemProject\\Automated_Yolo\\dataset\\UAVDT-processed\\val\\images\\img000897.jpg: 352x640 (no detections), 45.5ms\n",
      "Speed: 1.8ms preprocess, 45.5ms inference, 0.5ms postprocess per image at shape (1, 3, 352, 640)\n"
     ]
    },
    {
     "name": "stderr",
     "output_type": "stream",
     "text": [
      " 81%|████████▏ | 897/1101 [01:04<00:16, 12.59it/s]"
     ]
    },
    {
     "name": "stdout",
     "output_type": "stream",
     "text": [
      "\n",
      "image 1/1 c:\\Users\\sande\\OneDrive\\Desktop\\IITTP\\2_Asgn\\Sem2\\2_dl\\SemProject\\Automated_Yolo\\dataset\\UAVDT-processed\\val\\images\\img000898.jpg: 352x640 (no detections), 48.9ms\n",
      "Speed: 2.6ms preprocess, 48.9ms inference, 0.6ms postprocess per image at shape (1, 3, 352, 640)\n",
      "\n",
      "image 1/1 c:\\Users\\sande\\OneDrive\\Desktop\\IITTP\\2_Asgn\\Sem2\\2_dl\\SemProject\\Automated_Yolo\\dataset\\UAVDT-processed\\val\\images\\img000899.jpg: 352x640 (no detections), 45.2ms\n",
      "Speed: 2.4ms preprocess, 45.2ms inference, 0.6ms postprocess per image at shape (1, 3, 352, 640)\n"
     ]
    },
    {
     "name": "stderr",
     "output_type": "stream",
     "text": [
      " 82%|████████▏ | 899/1101 [01:04<00:16, 12.52it/s]"
     ]
    },
    {
     "name": "stdout",
     "output_type": "stream",
     "text": [
      "\n",
      "image 1/1 c:\\Users\\sande\\OneDrive\\Desktop\\IITTP\\2_Asgn\\Sem2\\2_dl\\SemProject\\Automated_Yolo\\dataset\\UAVDT-processed\\val\\images\\img000900.jpg: 352x640 (no detections), 46.1ms\n",
      "Speed: 2.3ms preprocess, 46.1ms inference, 0.4ms postprocess per image at shape (1, 3, 352, 640)\n",
      "\n",
      "image 1/1 c:\\Users\\sande\\OneDrive\\Desktop\\IITTP\\2_Asgn\\Sem2\\2_dl\\SemProject\\Automated_Yolo\\dataset\\UAVDT-processed\\val\\images\\img000901.jpg: 352x640 (no detections), 45.9ms\n",
      "Speed: 2.3ms preprocess, 45.9ms inference, 0.6ms postprocess per image at shape (1, 3, 352, 640)\n"
     ]
    },
    {
     "name": "stderr",
     "output_type": "stream",
     "text": [
      " 82%|████████▏ | 901/1101 [01:04<00:15, 12.79it/s]"
     ]
    },
    {
     "name": "stdout",
     "output_type": "stream",
     "text": [
      "\n",
      "image 1/1 c:\\Users\\sande\\OneDrive\\Desktop\\IITTP\\2_Asgn\\Sem2\\2_dl\\SemProject\\Automated_Yolo\\dataset\\UAVDT-processed\\val\\images\\img000902.jpg: 352x640 (no detections), 49.6ms\n",
      "Speed: 2.3ms preprocess, 49.6ms inference, 0.5ms postprocess per image at shape (1, 3, 352, 640)\n",
      "\n",
      "image 1/1 c:\\Users\\sande\\OneDrive\\Desktop\\IITTP\\2_Asgn\\Sem2\\2_dl\\SemProject\\Automated_Yolo\\dataset\\UAVDT-processed\\val\\images\\img000903.jpg: 352x640 (no detections), 66.6ms\n",
      "Speed: 4.0ms preprocess, 66.6ms inference, 0.6ms postprocess per image at shape (1, 3, 352, 640)\n"
     ]
    },
    {
     "name": "stderr",
     "output_type": "stream",
     "text": [
      " 82%|████████▏ | 903/1101 [01:04<00:16, 12.18it/s]"
     ]
    },
    {
     "name": "stdout",
     "output_type": "stream",
     "text": [
      "\n",
      "image 1/1 c:\\Users\\sande\\OneDrive\\Desktop\\IITTP\\2_Asgn\\Sem2\\2_dl\\SemProject\\Automated_Yolo\\dataset\\UAVDT-processed\\val\\images\\img000904.jpg: 352x640 (no detections), 47.1ms\n",
      "Speed: 2.3ms preprocess, 47.1ms inference, 0.4ms postprocess per image at shape (1, 3, 352, 640)\n",
      "\n",
      "image 1/1 c:\\Users\\sande\\OneDrive\\Desktop\\IITTP\\2_Asgn\\Sem2\\2_dl\\SemProject\\Automated_Yolo\\dataset\\UAVDT-processed\\val\\images\\img000905.jpg: 352x640 (no detections), 45.5ms\n",
      "Speed: 2.3ms preprocess, 45.5ms inference, 0.5ms postprocess per image at shape (1, 3, 352, 640)\n"
     ]
    },
    {
     "name": "stderr",
     "output_type": "stream",
     "text": [
      " 82%|████████▏ | 905/1101 [01:05<00:15, 12.31it/s]"
     ]
    },
    {
     "name": "stdout",
     "output_type": "stream",
     "text": [
      "\n",
      "image 1/1 c:\\Users\\sande\\OneDrive\\Desktop\\IITTP\\2_Asgn\\Sem2\\2_dl\\SemProject\\Automated_Yolo\\dataset\\UAVDT-processed\\val\\images\\img000906.jpg: 352x640 (no detections), 46.8ms\n",
      "Speed: 2.3ms preprocess, 46.8ms inference, 0.5ms postprocess per image at shape (1, 3, 352, 640)\n",
      "\n",
      "image 1/1 c:\\Users\\sande\\OneDrive\\Desktop\\IITTP\\2_Asgn\\Sem2\\2_dl\\SemProject\\Automated_Yolo\\dataset\\UAVDT-processed\\val\\images\\img000907.jpg: 352x640 (no detections), 45.3ms\n",
      "Speed: 2.4ms preprocess, 45.3ms inference, 0.5ms postprocess per image at shape (1, 3, 352, 640)\n"
     ]
    },
    {
     "name": "stderr",
     "output_type": "stream",
     "text": [
      " 82%|████████▏ | 907/1101 [01:05<00:15, 12.55it/s]"
     ]
    },
    {
     "name": "stdout",
     "output_type": "stream",
     "text": [
      "\n",
      "image 1/1 c:\\Users\\sande\\OneDrive\\Desktop\\IITTP\\2_Asgn\\Sem2\\2_dl\\SemProject\\Automated_Yolo\\dataset\\UAVDT-processed\\val\\images\\img000908.jpg: 352x640 (no detections), 48.9ms\n",
      "Speed: 2.4ms preprocess, 48.9ms inference, 0.4ms postprocess per image at shape (1, 3, 352, 640)\n",
      "\n",
      "image 1/1 c:\\Users\\sande\\OneDrive\\Desktop\\IITTP\\2_Asgn\\Sem2\\2_dl\\SemProject\\Automated_Yolo\\dataset\\UAVDT-processed\\val\\images\\img000909.jpg: 352x640 (no detections), 46.0ms\n",
      "Speed: 2.4ms preprocess, 46.0ms inference, 0.5ms postprocess per image at shape (1, 3, 352, 640)\n"
     ]
    },
    {
     "name": "stderr",
     "output_type": "stream",
     "text": [
      " 83%|████████▎ | 909/1101 [01:05<00:15, 12.54it/s]"
     ]
    },
    {
     "name": "stdout",
     "output_type": "stream",
     "text": [
      "\n",
      "image 1/1 c:\\Users\\sande\\OneDrive\\Desktop\\IITTP\\2_Asgn\\Sem2\\2_dl\\SemProject\\Automated_Yolo\\dataset\\UAVDT-processed\\val\\images\\img000910.jpg: 352x640 (no detections), 47.4ms\n",
      "Speed: 1.5ms preprocess, 47.4ms inference, 0.6ms postprocess per image at shape (1, 3, 352, 640)\n",
      "\n",
      "image 1/1 c:\\Users\\sande\\OneDrive\\Desktop\\IITTP\\2_Asgn\\Sem2\\2_dl\\SemProject\\Automated_Yolo\\dataset\\UAVDT-processed\\val\\images\\img000911.jpg: 352x640 (no detections), 44.6ms\n",
      "Speed: 2.4ms preprocess, 44.6ms inference, 0.5ms postprocess per image at shape (1, 3, 352, 640)\n"
     ]
    },
    {
     "name": "stderr",
     "output_type": "stream",
     "text": [
      " 83%|████████▎ | 911/1101 [01:05<00:14, 13.05it/s]"
     ]
    },
    {
     "name": "stdout",
     "output_type": "stream",
     "text": [
      "\n",
      "image 1/1 c:\\Users\\sande\\OneDrive\\Desktop\\IITTP\\2_Asgn\\Sem2\\2_dl\\SemProject\\Automated_Yolo\\dataset\\UAVDT-processed\\val\\images\\img000912.jpg: 352x640 (no detections), 46.2ms\n",
      "Speed: 2.3ms preprocess, 46.2ms inference, 0.5ms postprocess per image at shape (1, 3, 352, 640)\n",
      "\n",
      "image 1/1 c:\\Users\\sande\\OneDrive\\Desktop\\IITTP\\2_Asgn\\Sem2\\2_dl\\SemProject\\Automated_Yolo\\dataset\\UAVDT-processed\\val\\images\\img000913.jpg: 352x640 (no detections), 64.3ms\n",
      "Speed: 2.2ms preprocess, 64.3ms inference, 0.5ms postprocess per image at shape (1, 3, 352, 640)\n"
     ]
    },
    {
     "name": "stderr",
     "output_type": "stream",
     "text": [
      " 83%|████████▎ | 913/1101 [01:05<00:15, 12.25it/s]"
     ]
    },
    {
     "name": "stdout",
     "output_type": "stream",
     "text": [
      "\n",
      "image 1/1 c:\\Users\\sande\\OneDrive\\Desktop\\IITTP\\2_Asgn\\Sem2\\2_dl\\SemProject\\Automated_Yolo\\dataset\\UAVDT-processed\\val\\images\\img000914.jpg: 352x640 (no detections), 47.5ms\n",
      "Speed: 1.6ms preprocess, 47.5ms inference, 0.5ms postprocess per image at shape (1, 3, 352, 640)\n",
      "\n",
      "image 1/1 c:\\Users\\sande\\OneDrive\\Desktop\\IITTP\\2_Asgn\\Sem2\\2_dl\\SemProject\\Automated_Yolo\\dataset\\UAVDT-processed\\val\\images\\img000915.jpg: 352x640 (no detections), 43.2ms\n",
      "Speed: 1.6ms preprocess, 43.2ms inference, 0.5ms postprocess per image at shape (1, 3, 352, 640)\n"
     ]
    },
    {
     "name": "stderr",
     "output_type": "stream",
     "text": [
      " 83%|████████▎ | 915/1101 [01:05<00:15, 12.31it/s]"
     ]
    },
    {
     "name": "stdout",
     "output_type": "stream",
     "text": [
      "\n",
      "image 1/1 c:\\Users\\sande\\OneDrive\\Desktop\\IITTP\\2_Asgn\\Sem2\\2_dl\\SemProject\\Automated_Yolo\\dataset\\UAVDT-processed\\val\\images\\img000916.jpg: 352x640 (no detections), 43.1ms\n",
      "Speed: 2.1ms preprocess, 43.1ms inference, 0.5ms postprocess per image at shape (1, 3, 352, 640)\n",
      "\n",
      "image 1/1 c:\\Users\\sande\\OneDrive\\Desktop\\IITTP\\2_Asgn\\Sem2\\2_dl\\SemProject\\Automated_Yolo\\dataset\\UAVDT-processed\\val\\images\\img000917.jpg: 352x640 (no detections), 42.9ms\n",
      "Speed: 2.1ms preprocess, 42.9ms inference, 0.5ms postprocess per image at shape (1, 3, 352, 640)\n"
     ]
    },
    {
     "name": "stderr",
     "output_type": "stream",
     "text": [
      " 83%|████████▎ | 917/1101 [01:06<00:14, 12.69it/s]"
     ]
    },
    {
     "name": "stdout",
     "output_type": "stream",
     "text": [
      "\n",
      "image 1/1 c:\\Users\\sande\\OneDrive\\Desktop\\IITTP\\2_Asgn\\Sem2\\2_dl\\SemProject\\Automated_Yolo\\dataset\\UAVDT-processed\\val\\images\\img000918.jpg: 352x640 (no detections), 42.1ms\n",
      "Speed: 1.6ms preprocess, 42.1ms inference, 0.6ms postprocess per image at shape (1, 3, 352, 640)\n",
      "\n",
      "image 1/1 c:\\Users\\sande\\OneDrive\\Desktop\\IITTP\\2_Asgn\\Sem2\\2_dl\\SemProject\\Automated_Yolo\\dataset\\UAVDT-processed\\val\\images\\img000919.jpg: 352x640 (no detections), 43.8ms\n",
      "Speed: 1.5ms preprocess, 43.8ms inference, 0.5ms postprocess per image at shape (1, 3, 352, 640)\n"
     ]
    },
    {
     "name": "stderr",
     "output_type": "stream",
     "text": [
      " 83%|████████▎ | 919/1101 [01:06<00:14, 12.77it/s]"
     ]
    },
    {
     "name": "stdout",
     "output_type": "stream",
     "text": [
      "\n",
      "image 1/1 c:\\Users\\sande\\OneDrive\\Desktop\\IITTP\\2_Asgn\\Sem2\\2_dl\\SemProject\\Automated_Yolo\\dataset\\UAVDT-processed\\val\\images\\img000920.jpg: 352x640 (no detections), 66.6ms\n",
      "Speed: 2.7ms preprocess, 66.6ms inference, 0.5ms postprocess per image at shape (1, 3, 352, 640)\n",
      "\n",
      "image 1/1 c:\\Users\\sande\\OneDrive\\Desktop\\IITTP\\2_Asgn\\Sem2\\2_dl\\SemProject\\Automated_Yolo\\dataset\\UAVDT-processed\\val\\images\\img000921.jpg: 352x640 (no detections), 42.4ms\n",
      "Speed: 2.2ms preprocess, 42.4ms inference, 0.5ms postprocess per image at shape (1, 3, 352, 640)\n"
     ]
    },
    {
     "name": "stderr",
     "output_type": "stream",
     "text": [
      " 84%|████████▎ | 921/1101 [01:06<00:14, 12.06it/s]"
     ]
    },
    {
     "name": "stdout",
     "output_type": "stream",
     "text": [
      "\n",
      "image 1/1 c:\\Users\\sande\\OneDrive\\Desktop\\IITTP\\2_Asgn\\Sem2\\2_dl\\SemProject\\Automated_Yolo\\dataset\\UAVDT-processed\\val\\images\\img000922.jpg: 352x640 (no detections), 46.3ms\n",
      "Speed: 2.0ms preprocess, 46.3ms inference, 0.5ms postprocess per image at shape (1, 3, 352, 640)\n",
      "\n",
      "image 1/1 c:\\Users\\sande\\OneDrive\\Desktop\\IITTP\\2_Asgn\\Sem2\\2_dl\\SemProject\\Automated_Yolo\\dataset\\UAVDT-processed\\val\\images\\img000923.jpg: 352x640 (no detections), 45.9ms\n",
      "Speed: 2.2ms preprocess, 45.9ms inference, 0.4ms postprocess per image at shape (1, 3, 352, 640)\n"
     ]
    },
    {
     "name": "stderr",
     "output_type": "stream",
     "text": [
      " 84%|████████▍ | 923/1101 [01:06<00:14, 12.23it/s]"
     ]
    },
    {
     "name": "stdout",
     "output_type": "stream",
     "text": [
      "\n",
      "image 1/1 c:\\Users\\sande\\OneDrive\\Desktop\\IITTP\\2_Asgn\\Sem2\\2_dl\\SemProject\\Automated_Yolo\\dataset\\UAVDT-processed\\val\\images\\img000924.jpg: 352x640 (no detections), 46.2ms\n",
      "Speed: 1.7ms preprocess, 46.2ms inference, 0.5ms postprocess per image at shape (1, 3, 352, 640)\n",
      "\n",
      "image 1/1 c:\\Users\\sande\\OneDrive\\Desktop\\IITTP\\2_Asgn\\Sem2\\2_dl\\SemProject\\Automated_Yolo\\dataset\\UAVDT-processed\\val\\images\\img000925.jpg: 352x640 (no detections), 56.6ms\n",
      "Speed: 3.1ms preprocess, 56.6ms inference, 0.4ms postprocess per image at shape (1, 3, 352, 640)\n"
     ]
    },
    {
     "name": "stderr",
     "output_type": "stream",
     "text": [
      " 84%|████████▍ | 925/1101 [01:06<00:14, 12.01it/s]"
     ]
    },
    {
     "name": "stdout",
     "output_type": "stream",
     "text": [
      "\n",
      "image 1/1 c:\\Users\\sande\\OneDrive\\Desktop\\IITTP\\2_Asgn\\Sem2\\2_dl\\SemProject\\Automated_Yolo\\dataset\\UAVDT-processed\\val\\images\\img000926.jpg: 352x640 (no detections), 46.2ms\n",
      "Speed: 2.0ms preprocess, 46.2ms inference, 0.6ms postprocess per image at shape (1, 3, 352, 640)\n",
      "\n",
      "image 1/1 c:\\Users\\sande\\OneDrive\\Desktop\\IITTP\\2_Asgn\\Sem2\\2_dl\\SemProject\\Automated_Yolo\\dataset\\UAVDT-processed\\val\\images\\img000927.jpg: 352x640 (no detections), 45.1ms\n",
      "Speed: 2.4ms preprocess, 45.1ms inference, 0.4ms postprocess per image at shape (1, 3, 352, 640)\n"
     ]
    },
    {
     "name": "stderr",
     "output_type": "stream",
     "text": [
      " 84%|████████▍ | 927/1101 [01:06<00:13, 12.59it/s]"
     ]
    },
    {
     "name": "stdout",
     "output_type": "stream",
     "text": [
      "\n",
      "image 1/1 c:\\Users\\sande\\OneDrive\\Desktop\\IITTP\\2_Asgn\\Sem2\\2_dl\\SemProject\\Automated_Yolo\\dataset\\UAVDT-processed\\val\\images\\img000928.jpg: 352x640 (no detections), 49.8ms\n",
      "Speed: 2.4ms preprocess, 49.8ms inference, 0.5ms postprocess per image at shape (1, 3, 352, 640)\n",
      "\n",
      "image 1/1 c:\\Users\\sande\\OneDrive\\Desktop\\IITTP\\2_Asgn\\Sem2\\2_dl\\SemProject\\Automated_Yolo\\dataset\\UAVDT-processed\\val\\images\\img000929.jpg: 352x640 (no detections), 42.7ms\n",
      "Speed: 2.2ms preprocess, 42.7ms inference, 0.5ms postprocess per image at shape (1, 3, 352, 640)\n"
     ]
    },
    {
     "name": "stderr",
     "output_type": "stream",
     "text": [
      " 84%|████████▍ | 929/1101 [01:07<00:13, 12.62it/s]"
     ]
    },
    {
     "name": "stdout",
     "output_type": "stream",
     "text": [
      "\n",
      "image 1/1 c:\\Users\\sande\\OneDrive\\Desktop\\IITTP\\2_Asgn\\Sem2\\2_dl\\SemProject\\Automated_Yolo\\dataset\\UAVDT-processed\\val\\images\\img000930.jpg: 352x640 (no detections), 42.8ms\n",
      "Speed: 1.9ms preprocess, 42.8ms inference, 0.5ms postprocess per image at shape (1, 3, 352, 640)\n",
      "\n",
      "image 1/1 c:\\Users\\sande\\OneDrive\\Desktop\\IITTP\\2_Asgn\\Sem2\\2_dl\\SemProject\\Automated_Yolo\\dataset\\UAVDT-processed\\val\\images\\img000931.jpg: 352x640 (no detections), 43.1ms\n",
      "Speed: 2.2ms preprocess, 43.1ms inference, 0.4ms postprocess per image at shape (1, 3, 352, 640)\n"
     ]
    },
    {
     "name": "stderr",
     "output_type": "stream",
     "text": [
      " 85%|████████▍ | 931/1101 [01:07<00:13, 12.89it/s]"
     ]
    },
    {
     "name": "stdout",
     "output_type": "stream",
     "text": [
      "\n",
      "image 1/1 c:\\Users\\sande\\OneDrive\\Desktop\\IITTP\\2_Asgn\\Sem2\\2_dl\\SemProject\\Automated_Yolo\\dataset\\UAVDT-processed\\val\\images\\img000932.jpg: 352x640 (no detections), 42.7ms\n",
      "Speed: 2.2ms preprocess, 42.7ms inference, 0.5ms postprocess per image at shape (1, 3, 352, 640)\n",
      "\n",
      "image 1/1 c:\\Users\\sande\\OneDrive\\Desktop\\IITTP\\2_Asgn\\Sem2\\2_dl\\SemProject\\Automated_Yolo\\dataset\\UAVDT-processed\\val\\images\\img000933.jpg: 352x640 (no detections), 45.7ms\n",
      "Speed: 2.3ms preprocess, 45.7ms inference, 0.6ms postprocess per image at shape (1, 3, 352, 640)\n"
     ]
    },
    {
     "name": "stderr",
     "output_type": "stream",
     "text": [
      " 85%|████████▍ | 933/1101 [01:07<00:12, 13.17it/s]"
     ]
    },
    {
     "name": "stdout",
     "output_type": "stream",
     "text": [
      "\n",
      "image 1/1 c:\\Users\\sande\\OneDrive\\Desktop\\IITTP\\2_Asgn\\Sem2\\2_dl\\SemProject\\Automated_Yolo\\dataset\\UAVDT-processed\\val\\images\\img000934.jpg: 352x640 (no detections), 44.5ms\n",
      "Speed: 2.3ms preprocess, 44.5ms inference, 0.7ms postprocess per image at shape (1, 3, 352, 640)\n",
      "\n",
      "image 1/1 c:\\Users\\sande\\OneDrive\\Desktop\\IITTP\\2_Asgn\\Sem2\\2_dl\\SemProject\\Automated_Yolo\\dataset\\UAVDT-processed\\val\\images\\img000935.jpg: 352x640 (no detections), 45.2ms\n",
      "Speed: 2.3ms preprocess, 45.2ms inference, 0.6ms postprocess per image at shape (1, 3, 352, 640)\n"
     ]
    },
    {
     "name": "stderr",
     "output_type": "stream",
     "text": [
      " 85%|████████▍ | 935/1101 [01:07<00:12, 13.26it/s]"
     ]
    },
    {
     "name": "stdout",
     "output_type": "stream",
     "text": [
      "\n",
      "image 1/1 c:\\Users\\sande\\OneDrive\\Desktop\\IITTP\\2_Asgn\\Sem2\\2_dl\\SemProject\\Automated_Yolo\\dataset\\UAVDT-processed\\val\\images\\img000936.jpg: 352x640 (no detections), 67.8ms\n",
      "Speed: 4.5ms preprocess, 67.8ms inference, 0.6ms postprocess per image at shape (1, 3, 352, 640)\n",
      "\n",
      "image 1/1 c:\\Users\\sande\\OneDrive\\Desktop\\IITTP\\2_Asgn\\Sem2\\2_dl\\SemProject\\Automated_Yolo\\dataset\\UAVDT-processed\\val\\images\\img000937.jpg: 352x640 (no detections), 47.4ms\n",
      "Speed: 2.5ms preprocess, 47.4ms inference, 0.5ms postprocess per image at shape (1, 3, 352, 640)\n"
     ]
    },
    {
     "name": "stderr",
     "output_type": "stream",
     "text": [
      " 85%|████████▌ | 937/1101 [01:07<00:13, 12.53it/s]"
     ]
    },
    {
     "name": "stdout",
     "output_type": "stream",
     "text": [
      "\n",
      "image 1/1 c:\\Users\\sande\\OneDrive\\Desktop\\IITTP\\2_Asgn\\Sem2\\2_dl\\SemProject\\Automated_Yolo\\dataset\\UAVDT-processed\\val\\images\\img000938.jpg: 352x640 (no detections), 47.3ms\n",
      "Speed: 2.5ms preprocess, 47.3ms inference, 0.6ms postprocess per image at shape (1, 3, 352, 640)\n",
      "\n",
      "image 1/1 c:\\Users\\sande\\OneDrive\\Desktop\\IITTP\\2_Asgn\\Sem2\\2_dl\\SemProject\\Automated_Yolo\\dataset\\UAVDT-processed\\val\\images\\img000939.jpg: 352x640 (no detections), 47.4ms\n",
      "Speed: 1.6ms preprocess, 47.4ms inference, 0.5ms postprocess per image at shape (1, 3, 352, 640)\n"
     ]
    },
    {
     "name": "stderr",
     "output_type": "stream",
     "text": [
      " 85%|████████▌ | 939/1101 [01:07<00:12, 12.51it/s]"
     ]
    },
    {
     "name": "stdout",
     "output_type": "stream",
     "text": [
      "\n",
      "image 1/1 c:\\Users\\sande\\OneDrive\\Desktop\\IITTP\\2_Asgn\\Sem2\\2_dl\\SemProject\\Automated_Yolo\\dataset\\UAVDT-processed\\val\\images\\img000940.jpg: 352x640 (no detections), 49.9ms\n",
      "Speed: 2.3ms preprocess, 49.9ms inference, 0.6ms postprocess per image at shape (1, 3, 352, 640)\n",
      "\n",
      "image 1/1 c:\\Users\\sande\\OneDrive\\Desktop\\IITTP\\2_Asgn\\Sem2\\2_dl\\SemProject\\Automated_Yolo\\dataset\\UAVDT-processed\\val\\images\\img000941.jpg: 352x640 (no detections), 48.2ms\n",
      "Speed: 2.3ms preprocess, 48.2ms inference, 0.5ms postprocess per image at shape (1, 3, 352, 640)\n"
     ]
    },
    {
     "name": "stderr",
     "output_type": "stream",
     "text": [
      " 85%|████████▌ | 941/1101 [01:07<00:12, 12.57it/s]"
     ]
    },
    {
     "name": "stdout",
     "output_type": "stream",
     "text": [
      "\n",
      "image 1/1 c:\\Users\\sande\\OneDrive\\Desktop\\IITTP\\2_Asgn\\Sem2\\2_dl\\SemProject\\Automated_Yolo\\dataset\\UAVDT-processed\\val\\images\\img000942.jpg: 352x640 (no detections), 48.7ms\n",
      "Speed: 2.1ms preprocess, 48.7ms inference, 0.6ms postprocess per image at shape (1, 3, 352, 640)\n",
      "\n",
      "image 1/1 c:\\Users\\sande\\OneDrive\\Desktop\\IITTP\\2_Asgn\\Sem2\\2_dl\\SemProject\\Automated_Yolo\\dataset\\UAVDT-processed\\val\\images\\img000943.jpg: 352x640 (no detections), 45.4ms\n",
      "Speed: 2.3ms preprocess, 45.4ms inference, 0.5ms postprocess per image at shape (1, 3, 352, 640)\n"
     ]
    },
    {
     "name": "stderr",
     "output_type": "stream",
     "text": [
      " 86%|████████▌ | 943/1101 [01:08<00:12, 12.53it/s]"
     ]
    },
    {
     "name": "stdout",
     "output_type": "stream",
     "text": [
      "\n",
      "image 1/1 c:\\Users\\sande\\OneDrive\\Desktop\\IITTP\\2_Asgn\\Sem2\\2_dl\\SemProject\\Automated_Yolo\\dataset\\UAVDT-processed\\val\\images\\img000944.jpg: 352x640 (no detections), 45.1ms\n",
      "Speed: 2.2ms preprocess, 45.1ms inference, 0.4ms postprocess per image at shape (1, 3, 352, 640)\n",
      "\n",
      "image 1/1 c:\\Users\\sande\\OneDrive\\Desktop\\IITTP\\2_Asgn\\Sem2\\2_dl\\SemProject\\Automated_Yolo\\dataset\\UAVDT-processed\\val\\images\\img000945.jpg: 352x640 (no detections), 47.0ms\n",
      "Speed: 1.7ms preprocess, 47.0ms inference, 0.5ms postprocess per image at shape (1, 3, 352, 640)\n"
     ]
    },
    {
     "name": "stderr",
     "output_type": "stream",
     "text": [
      " 86%|████████▌ | 945/1101 [01:08<00:11, 13.20it/s]"
     ]
    },
    {
     "name": "stdout",
     "output_type": "stream",
     "text": [
      "\n",
      "image 1/1 c:\\Users\\sande\\OneDrive\\Desktop\\IITTP\\2_Asgn\\Sem2\\2_dl\\SemProject\\Automated_Yolo\\dataset\\UAVDT-processed\\val\\images\\img000946.jpg: 352x640 (no detections), 82.1ms\n",
      "Speed: 5.3ms preprocess, 82.1ms inference, 0.6ms postprocess per image at shape (1, 3, 352, 640)\n",
      "\n",
      "image 1/1 c:\\Users\\sande\\OneDrive\\Desktop\\IITTP\\2_Asgn\\Sem2\\2_dl\\SemProject\\Automated_Yolo\\dataset\\UAVDT-processed\\val\\images\\img000947.jpg: 352x640 (no detections), 45.0ms\n",
      "Speed: 2.3ms preprocess, 45.0ms inference, 0.4ms postprocess per image at shape (1, 3, 352, 640)\n"
     ]
    },
    {
     "name": "stderr",
     "output_type": "stream",
     "text": [
      " 86%|████████▌ | 947/1101 [01:08<00:12, 12.26it/s]"
     ]
    },
    {
     "name": "stdout",
     "output_type": "stream",
     "text": [
      "\n",
      "image 1/1 c:\\Users\\sande\\OneDrive\\Desktop\\IITTP\\2_Asgn\\Sem2\\2_dl\\SemProject\\Automated_Yolo\\dataset\\UAVDT-processed\\val\\images\\img000948.jpg: 352x640 (no detections), 47.1ms\n",
      "Speed: 2.2ms preprocess, 47.1ms inference, 0.5ms postprocess per image at shape (1, 3, 352, 640)\n",
      "\n",
      "image 1/1 c:\\Users\\sande\\OneDrive\\Desktop\\IITTP\\2_Asgn\\Sem2\\2_dl\\SemProject\\Automated_Yolo\\dataset\\UAVDT-processed\\val\\images\\img000949.jpg: 352x640 (no detections), 43.8ms\n",
      "Speed: 2.5ms preprocess, 43.8ms inference, 0.5ms postprocess per image at shape (1, 3, 352, 640)\n"
     ]
    },
    {
     "name": "stderr",
     "output_type": "stream",
     "text": [
      " 86%|████████▌ | 949/1101 [01:08<00:12, 12.29it/s]"
     ]
    },
    {
     "name": "stdout",
     "output_type": "stream",
     "text": [
      "\n",
      "image 1/1 c:\\Users\\sande\\OneDrive\\Desktop\\IITTP\\2_Asgn\\Sem2\\2_dl\\SemProject\\Automated_Yolo\\dataset\\UAVDT-processed\\val\\images\\img000950.jpg: 352x640 (no detections), 44.4ms\n",
      "Speed: 2.1ms preprocess, 44.4ms inference, 0.5ms postprocess per image at shape (1, 3, 352, 640)\n",
      "\n",
      "image 1/1 c:\\Users\\sande\\OneDrive\\Desktop\\IITTP\\2_Asgn\\Sem2\\2_dl\\SemProject\\Automated_Yolo\\dataset\\UAVDT-processed\\val\\images\\img000951.jpg: 352x640 (no detections), 46.5ms\n",
      "Speed: 2.3ms preprocess, 46.5ms inference, 0.5ms postprocess per image at shape (1, 3, 352, 640)\n"
     ]
    },
    {
     "name": "stderr",
     "output_type": "stream",
     "text": [
      " 86%|████████▋ | 951/1101 [01:08<00:11, 12.67it/s]"
     ]
    },
    {
     "name": "stdout",
     "output_type": "stream",
     "text": [
      "\n",
      "image 1/1 c:\\Users\\sande\\OneDrive\\Desktop\\IITTP\\2_Asgn\\Sem2\\2_dl\\SemProject\\Automated_Yolo\\dataset\\UAVDT-processed\\val\\images\\img000952.jpg: 352x640 (no detections), 46.6ms\n",
      "Speed: 2.1ms preprocess, 46.6ms inference, 0.5ms postprocess per image at shape (1, 3, 352, 640)\n",
      "\n",
      "image 1/1 c:\\Users\\sande\\OneDrive\\Desktop\\IITTP\\2_Asgn\\Sem2\\2_dl\\SemProject\\Automated_Yolo\\dataset\\UAVDT-processed\\val\\images\\img000953.jpg: 352x640 (no detections), 44.4ms\n",
      "Speed: 2.3ms preprocess, 44.4ms inference, 0.5ms postprocess per image at shape (1, 3, 352, 640)\n"
     ]
    },
    {
     "name": "stderr",
     "output_type": "stream",
     "text": [
      " 87%|████████▋ | 953/1101 [01:08<00:11, 12.49it/s]"
     ]
    },
    {
     "name": "stdout",
     "output_type": "stream",
     "text": [
      "\n",
      "image 1/1 c:\\Users\\sande\\OneDrive\\Desktop\\IITTP\\2_Asgn\\Sem2\\2_dl\\SemProject\\Automated_Yolo\\dataset\\UAVDT-processed\\val\\images\\img000954.jpg: 352x640 (no detections), 46.1ms\n",
      "Speed: 1.6ms preprocess, 46.1ms inference, 0.5ms postprocess per image at shape (1, 3, 352, 640)\n",
      "\n",
      "image 1/1 c:\\Users\\sande\\OneDrive\\Desktop\\IITTP\\2_Asgn\\Sem2\\2_dl\\SemProject\\Automated_Yolo\\dataset\\UAVDT-processed\\val\\images\\img000955.jpg: 352x640 (no detections), 45.8ms\n",
      "Speed: 2.3ms preprocess, 45.8ms inference, 0.5ms postprocess per image at shape (1, 3, 352, 640)\n"
     ]
    },
    {
     "name": "stderr",
     "output_type": "stream",
     "text": [
      " 87%|████████▋ | 955/1101 [01:09<00:11, 12.82it/s]"
     ]
    },
    {
     "name": "stdout",
     "output_type": "stream",
     "text": [
      "\n",
      "image 1/1 c:\\Users\\sande\\OneDrive\\Desktop\\IITTP\\2_Asgn\\Sem2\\2_dl\\SemProject\\Automated_Yolo\\dataset\\UAVDT-processed\\val\\images\\img000956.jpg: 352x640 (no detections), 67.9ms\n",
      "Speed: 2.5ms preprocess, 67.9ms inference, 0.8ms postprocess per image at shape (1, 3, 352, 640)\n",
      "\n",
      "image 1/1 c:\\Users\\sande\\OneDrive\\Desktop\\IITTP\\2_Asgn\\Sem2\\2_dl\\SemProject\\Automated_Yolo\\dataset\\UAVDT-processed\\val\\images\\img000957.jpg: 352x640 (no detections), 47.3ms\n",
      "Speed: 2.7ms preprocess, 47.3ms inference, 0.5ms postprocess per image at shape (1, 3, 352, 640)\n"
     ]
    },
    {
     "name": "stderr",
     "output_type": "stream",
     "text": [
      " 87%|████████▋ | 957/1101 [01:09<00:12, 11.96it/s]"
     ]
    },
    {
     "name": "stdout",
     "output_type": "stream",
     "text": [
      "\n",
      "image 1/1 c:\\Users\\sande\\OneDrive\\Desktop\\IITTP\\2_Asgn\\Sem2\\2_dl\\SemProject\\Automated_Yolo\\dataset\\UAVDT-processed\\val\\images\\img000958.jpg: 352x640 (no detections), 47.0ms\n",
      "Speed: 2.4ms preprocess, 47.0ms inference, 0.7ms postprocess per image at shape (1, 3, 352, 640)\n",
      "\n",
      "image 1/1 c:\\Users\\sande\\OneDrive\\Desktop\\IITTP\\2_Asgn\\Sem2\\2_dl\\SemProject\\Automated_Yolo\\dataset\\UAVDT-processed\\val\\images\\img000959.jpg: 352x640 (no detections), 42.6ms\n",
      "Speed: 2.5ms preprocess, 42.6ms inference, 0.4ms postprocess per image at shape (1, 3, 352, 640)\n"
     ]
    },
    {
     "name": "stderr",
     "output_type": "stream",
     "text": [
      " 87%|████████▋ | 959/1101 [01:09<00:11, 12.24it/s]"
     ]
    },
    {
     "name": "stdout",
     "output_type": "stream",
     "text": [
      "\n",
      "image 1/1 c:\\Users\\sande\\OneDrive\\Desktop\\IITTP\\2_Asgn\\Sem2\\2_dl\\SemProject\\Automated_Yolo\\dataset\\UAVDT-processed\\val\\images\\img000960.jpg: 352x640 (no detections), 45.1ms\n",
      "Speed: 2.1ms preprocess, 45.1ms inference, 0.5ms postprocess per image at shape (1, 3, 352, 640)\n",
      "\n",
      "image 1/1 c:\\Users\\sande\\OneDrive\\Desktop\\IITTP\\2_Asgn\\Sem2\\2_dl\\SemProject\\Automated_Yolo\\dataset\\UAVDT-processed\\val\\images\\img000961.jpg: 352x640 (no detections), 45.9ms\n",
      "Speed: 2.3ms preprocess, 45.9ms inference, 0.5ms postprocess per image at shape (1, 3, 352, 640)\n"
     ]
    },
    {
     "name": "stderr",
     "output_type": "stream",
     "text": [
      " 87%|████████▋ | 961/1101 [01:09<00:11, 12.32it/s]"
     ]
    },
    {
     "name": "stdout",
     "output_type": "stream",
     "text": [
      "\n",
      "image 1/1 c:\\Users\\sande\\OneDrive\\Desktop\\IITTP\\2_Asgn\\Sem2\\2_dl\\SemProject\\Automated_Yolo\\dataset\\UAVDT-processed\\val\\images\\img000962.jpg: 352x640 (no detections), 48.5ms\n",
      "Speed: 2.1ms preprocess, 48.5ms inference, 0.5ms postprocess per image at shape (1, 3, 352, 640)\n",
      "\n",
      "image 1/1 c:\\Users\\sande\\OneDrive\\Desktop\\IITTP\\2_Asgn\\Sem2\\2_dl\\SemProject\\Automated_Yolo\\dataset\\UAVDT-processed\\val\\images\\img000963.jpg: 352x640 (no detections), 44.5ms\n",
      "Speed: 2.3ms preprocess, 44.5ms inference, 0.5ms postprocess per image at shape (1, 3, 352, 640)\n"
     ]
    },
    {
     "name": "stderr",
     "output_type": "stream",
     "text": [
      " 87%|████████▋ | 963/1101 [01:09<00:11, 12.20it/s]"
     ]
    },
    {
     "name": "stdout",
     "output_type": "stream",
     "text": [
      "\n",
      "image 1/1 c:\\Users\\sande\\OneDrive\\Desktop\\IITTP\\2_Asgn\\Sem2\\2_dl\\SemProject\\Automated_Yolo\\dataset\\UAVDT-processed\\val\\images\\img000964.jpg: 352x640 (no detections), 42.0ms\n",
      "Speed: 2.2ms preprocess, 42.0ms inference, 0.5ms postprocess per image at shape (1, 3, 352, 640)\n",
      "\n",
      "image 1/1 c:\\Users\\sande\\OneDrive\\Desktop\\IITTP\\2_Asgn\\Sem2\\2_dl\\SemProject\\Automated_Yolo\\dataset\\UAVDT-processed\\val\\images\\img000965.jpg: 352x640 (no detections), 44.3ms\n",
      "Speed: 2.2ms preprocess, 44.3ms inference, 0.5ms postprocess per image at shape (1, 3, 352, 640)\n"
     ]
    },
    {
     "name": "stderr",
     "output_type": "stream",
     "text": [
      " 88%|████████▊ | 965/1101 [01:09<00:10, 12.59it/s]"
     ]
    },
    {
     "name": "stdout",
     "output_type": "stream",
     "text": [
      "\n",
      "image 1/1 c:\\Users\\sande\\OneDrive\\Desktop\\IITTP\\2_Asgn\\Sem2\\2_dl\\SemProject\\Automated_Yolo\\dataset\\UAVDT-processed\\val\\images\\img000966.jpg: 352x640 (no detections), 111.9ms\n",
      "Speed: 2.3ms preprocess, 111.9ms inference, 0.6ms postprocess per image at shape (1, 3, 352, 640)\n",
      "\n",
      "image 1/1 c:\\Users\\sande\\OneDrive\\Desktop\\IITTP\\2_Asgn\\Sem2\\2_dl\\SemProject\\Automated_Yolo\\dataset\\UAVDT-processed\\val\\images\\img000967.jpg: 352x640 (no detections), 45.1ms\n",
      "Speed: 2.4ms preprocess, 45.1ms inference, 0.5ms postprocess per image at shape (1, 3, 352, 640)\n"
     ]
    },
    {
     "name": "stderr",
     "output_type": "stream",
     "text": [
      " 88%|████████▊ | 967/1101 [01:10<00:11, 11.27it/s]"
     ]
    },
    {
     "name": "stdout",
     "output_type": "stream",
     "text": [
      "\n",
      "image 1/1 c:\\Users\\sande\\OneDrive\\Desktop\\IITTP\\2_Asgn\\Sem2\\2_dl\\SemProject\\Automated_Yolo\\dataset\\UAVDT-processed\\val\\images\\img000968.jpg: 352x640 (no detections), 46.4ms\n",
      "Speed: 2.2ms preprocess, 46.4ms inference, 0.5ms postprocess per image at shape (1, 3, 352, 640)\n",
      "\n",
      "image 1/1 c:\\Users\\sande\\OneDrive\\Desktop\\IITTP\\2_Asgn\\Sem2\\2_dl\\SemProject\\Automated_Yolo\\dataset\\UAVDT-processed\\val\\images\\img000969.jpg: 352x640 (no detections), 44.5ms\n",
      "Speed: 1.9ms preprocess, 44.5ms inference, 0.5ms postprocess per image at shape (1, 3, 352, 640)\n"
     ]
    },
    {
     "name": "stderr",
     "output_type": "stream",
     "text": [
      " 88%|████████▊ | 969/1101 [01:10<00:11, 11.56it/s]"
     ]
    },
    {
     "name": "stdout",
     "output_type": "stream",
     "text": [
      "\n",
      "image 1/1 c:\\Users\\sande\\OneDrive\\Desktop\\IITTP\\2_Asgn\\Sem2\\2_dl\\SemProject\\Automated_Yolo\\dataset\\UAVDT-processed\\val\\images\\img000970.jpg: 352x640 (no detections), 49.1ms\n",
      "Speed: 1.5ms preprocess, 49.1ms inference, 0.5ms postprocess per image at shape (1, 3, 352, 640)\n",
      "\n",
      "image 1/1 c:\\Users\\sande\\OneDrive\\Desktop\\IITTP\\2_Asgn\\Sem2\\2_dl\\SemProject\\Automated_Yolo\\dataset\\UAVDT-processed\\val\\images\\img000971.jpg: 352x640 (no detections), 46.8ms\n",
      "Speed: 2.3ms preprocess, 46.8ms inference, 0.6ms postprocess per image at shape (1, 3, 352, 640)\n"
     ]
    },
    {
     "name": "stderr",
     "output_type": "stream",
     "text": [
      " 88%|████████▊ | 971/1101 [01:10<00:10, 11.88it/s]"
     ]
    },
    {
     "name": "stdout",
     "output_type": "stream",
     "text": [
      "\n",
      "image 1/1 c:\\Users\\sande\\OneDrive\\Desktop\\IITTP\\2_Asgn\\Sem2\\2_dl\\SemProject\\Automated_Yolo\\dataset\\UAVDT-processed\\val\\images\\img000972.jpg: 352x640 (no detections), 47.9ms\n",
      "Speed: 2.3ms preprocess, 47.9ms inference, 0.4ms postprocess per image at shape (1, 3, 352, 640)\n",
      "\n",
      "image 1/1 c:\\Users\\sande\\OneDrive\\Desktop\\IITTP\\2_Asgn\\Sem2\\2_dl\\SemProject\\Automated_Yolo\\dataset\\UAVDT-processed\\val\\images\\img000973.jpg: 352x640 (no detections), 45.0ms\n",
      "Speed: 2.2ms preprocess, 45.0ms inference, 0.5ms postprocess per image at shape (1, 3, 352, 640)\n"
     ]
    },
    {
     "name": "stderr",
     "output_type": "stream",
     "text": [
      " 88%|████████▊ | 973/1101 [01:10<00:10, 11.95it/s]"
     ]
    },
    {
     "name": "stdout",
     "output_type": "stream",
     "text": [
      "\n",
      "image 1/1 c:\\Users\\sande\\OneDrive\\Desktop\\IITTP\\2_Asgn\\Sem2\\2_dl\\SemProject\\Automated_Yolo\\dataset\\UAVDT-processed\\val\\images\\img000974.jpg: 352x640 (no detections), 44.9ms\n",
      "Speed: 1.5ms preprocess, 44.9ms inference, 0.5ms postprocess per image at shape (1, 3, 352, 640)\n",
      "\n",
      "image 1/1 c:\\Users\\sande\\OneDrive\\Desktop\\IITTP\\2_Asgn\\Sem2\\2_dl\\SemProject\\Automated_Yolo\\dataset\\UAVDT-processed\\val\\images\\img000975.jpg: 352x640 (no detections), 42.9ms\n",
      "Speed: 2.2ms preprocess, 42.9ms inference, 0.4ms postprocess per image at shape (1, 3, 352, 640)\n"
     ]
    },
    {
     "name": "stderr",
     "output_type": "stream",
     "text": [
      " 89%|████████▊ | 975/1101 [01:10<00:09, 12.71it/s]"
     ]
    },
    {
     "name": "stdout",
     "output_type": "stream",
     "text": [
      "\n",
      "image 1/1 c:\\Users\\sande\\OneDrive\\Desktop\\IITTP\\2_Asgn\\Sem2\\2_dl\\SemProject\\Automated_Yolo\\dataset\\UAVDT-processed\\val\\images\\img000976.jpg: 352x640 (no detections), 75.1ms\n",
      "Speed: 2.3ms preprocess, 75.1ms inference, 0.5ms postprocess per image at shape (1, 3, 352, 640)\n",
      "\n",
      "image 1/1 c:\\Users\\sande\\OneDrive\\Desktop\\IITTP\\2_Asgn\\Sem2\\2_dl\\SemProject\\Automated_Yolo\\dataset\\UAVDT-processed\\val\\images\\img000977.jpg: 352x640 (no detections), 44.7ms\n",
      "Speed: 2.3ms preprocess, 44.7ms inference, 0.5ms postprocess per image at shape (1, 3, 352, 640)\n"
     ]
    },
    {
     "name": "stderr",
     "output_type": "stream",
     "text": [
      " 89%|████████▊ | 977/1101 [01:10<00:10, 12.22it/s]"
     ]
    },
    {
     "name": "stdout",
     "output_type": "stream",
     "text": [
      "\n",
      "image 1/1 c:\\Users\\sande\\OneDrive\\Desktop\\IITTP\\2_Asgn\\Sem2\\2_dl\\SemProject\\Automated_Yolo\\dataset\\UAVDT-processed\\val\\images\\img000978.jpg: 352x640 (no detections), 44.5ms\n",
      "Speed: 2.3ms preprocess, 44.5ms inference, 0.4ms postprocess per image at shape (1, 3, 352, 640)\n",
      "\n",
      "image 1/1 c:\\Users\\sande\\OneDrive\\Desktop\\IITTP\\2_Asgn\\Sem2\\2_dl\\SemProject\\Automated_Yolo\\dataset\\UAVDT-processed\\val\\images\\img000979.jpg: 352x640 (no detections), 44.2ms\n",
      "Speed: 2.3ms preprocess, 44.2ms inference, 0.5ms postprocess per image at shape (1, 3, 352, 640)\n"
     ]
    },
    {
     "name": "stderr",
     "output_type": "stream",
     "text": [
      " 89%|████████▉ | 979/1101 [01:11<00:09, 12.64it/s]"
     ]
    },
    {
     "name": "stdout",
     "output_type": "stream",
     "text": [
      "\n",
      "image 1/1 c:\\Users\\sande\\OneDrive\\Desktop\\IITTP\\2_Asgn\\Sem2\\2_dl\\SemProject\\Automated_Yolo\\dataset\\UAVDT-processed\\val\\images\\img000980.jpg: 352x640 (no detections), 46.5ms\n",
      "Speed: 1.6ms preprocess, 46.5ms inference, 0.5ms postprocess per image at shape (1, 3, 352, 640)\n",
      "\n",
      "image 1/1 c:\\Users\\sande\\OneDrive\\Desktop\\IITTP\\2_Asgn\\Sem2\\2_dl\\SemProject\\Automated_Yolo\\dataset\\UAVDT-processed\\val\\images\\img000981.jpg: 352x640 (no detections), 44.8ms\n",
      "Speed: 1.6ms preprocess, 44.8ms inference, 0.5ms postprocess per image at shape (1, 3, 352, 640)\n"
     ]
    },
    {
     "name": "stderr",
     "output_type": "stream",
     "text": [
      " 89%|████████▉ | 981/1101 [01:11<00:09, 12.95it/s]"
     ]
    },
    {
     "name": "stdout",
     "output_type": "stream",
     "text": [
      "\n",
      "image 1/1 c:\\Users\\sande\\OneDrive\\Desktop\\IITTP\\2_Asgn\\Sem2\\2_dl\\SemProject\\Automated_Yolo\\dataset\\UAVDT-processed\\val\\images\\img000982.jpg: 352x640 (no detections), 48.1ms\n",
      "Speed: 2.5ms preprocess, 48.1ms inference, 0.5ms postprocess per image at shape (1, 3, 352, 640)\n",
      "\n",
      "image 1/1 c:\\Users\\sande\\OneDrive\\Desktop\\IITTP\\2_Asgn\\Sem2\\2_dl\\SemProject\\Automated_Yolo\\dataset\\UAVDT-processed\\val\\images\\img000983.jpg: 352x640 (no detections), 44.6ms\n",
      "Speed: 2.5ms preprocess, 44.6ms inference, 0.5ms postprocess per image at shape (1, 3, 352, 640)\n"
     ]
    },
    {
     "name": "stderr",
     "output_type": "stream",
     "text": [
      " 89%|████████▉ | 983/1101 [01:11<00:09, 13.00it/s]"
     ]
    },
    {
     "name": "stdout",
     "output_type": "stream",
     "text": [
      "\n",
      "image 1/1 c:\\Users\\sande\\OneDrive\\Desktop\\IITTP\\2_Asgn\\Sem2\\2_dl\\SemProject\\Automated_Yolo\\dataset\\UAVDT-processed\\val\\images\\img000984.jpg: 352x640 (no detections), 45.2ms\n",
      "Speed: 2.2ms preprocess, 45.2ms inference, 0.6ms postprocess per image at shape (1, 3, 352, 640)\n",
      "\n",
      "image 1/1 c:\\Users\\sande\\OneDrive\\Desktop\\IITTP\\2_Asgn\\Sem2\\2_dl\\SemProject\\Automated_Yolo\\dataset\\UAVDT-processed\\val\\images\\img000985.jpg: 352x640 (no detections), 45.3ms\n",
      "Speed: 1.5ms preprocess, 45.3ms inference, 0.4ms postprocess per image at shape (1, 3, 352, 640)\n"
     ]
    },
    {
     "name": "stderr",
     "output_type": "stream",
     "text": [
      " 89%|████████▉ | 985/1101 [01:11<00:08, 13.11it/s]"
     ]
    },
    {
     "name": "stdout",
     "output_type": "stream",
     "text": [
      "\n",
      "image 1/1 c:\\Users\\sande\\OneDrive\\Desktop\\IITTP\\2_Asgn\\Sem2\\2_dl\\SemProject\\Automated_Yolo\\dataset\\UAVDT-processed\\val\\images\\img000986.jpg: 352x640 (no detections), 60.6ms\n",
      "Speed: 4.1ms preprocess, 60.6ms inference, 0.6ms postprocess per image at shape (1, 3, 352, 640)\n",
      "\n",
      "image 1/1 c:\\Users\\sande\\OneDrive\\Desktop\\IITTP\\2_Asgn\\Sem2\\2_dl\\SemProject\\Automated_Yolo\\dataset\\UAVDT-processed\\val\\images\\img000987.jpg: 352x640 (no detections), 43.2ms\n",
      "Speed: 2.3ms preprocess, 43.2ms inference, 0.4ms postprocess per image at shape (1, 3, 352, 640)\n"
     ]
    },
    {
     "name": "stderr",
     "output_type": "stream",
     "text": [
      " 90%|████████▉ | 987/1101 [01:11<00:08, 12.67it/s]"
     ]
    },
    {
     "name": "stdout",
     "output_type": "stream",
     "text": [
      "\n",
      "image 1/1 c:\\Users\\sande\\OneDrive\\Desktop\\IITTP\\2_Asgn\\Sem2\\2_dl\\SemProject\\Automated_Yolo\\dataset\\UAVDT-processed\\val\\images\\img000988.jpg: 352x640 (no detections), 42.4ms\n",
      "Speed: 2.1ms preprocess, 42.4ms inference, 0.4ms postprocess per image at shape (1, 3, 352, 640)\n",
      "\n",
      "image 1/1 c:\\Users\\sande\\OneDrive\\Desktop\\IITTP\\2_Asgn\\Sem2\\2_dl\\SemProject\\Automated_Yolo\\dataset\\UAVDT-processed\\val\\images\\img000989.jpg: 352x640 (no detections), 41.5ms\n",
      "Speed: 2.1ms preprocess, 41.5ms inference, 0.5ms postprocess per image at shape (1, 3, 352, 640)\n"
     ]
    },
    {
     "name": "stderr",
     "output_type": "stream",
     "text": [
      " 90%|████████▉ | 989/1101 [01:11<00:08, 12.79it/s]"
     ]
    },
    {
     "name": "stdout",
     "output_type": "stream",
     "text": [
      "\n",
      "image 1/1 c:\\Users\\sande\\OneDrive\\Desktop\\IITTP\\2_Asgn\\Sem2\\2_dl\\SemProject\\Automated_Yolo\\dataset\\UAVDT-processed\\val\\images\\img000990.jpg: 352x640 (no detections), 44.0ms\n",
      "Speed: 2.1ms preprocess, 44.0ms inference, 0.4ms postprocess per image at shape (1, 3, 352, 640)\n",
      "\n",
      "image 1/1 c:\\Users\\sande\\OneDrive\\Desktop\\IITTP\\2_Asgn\\Sem2\\2_dl\\SemProject\\Automated_Yolo\\dataset\\UAVDT-processed\\val\\images\\img000991.jpg: 352x640 (no detections), 42.4ms\n",
      "Speed: 2.2ms preprocess, 42.4ms inference, 0.5ms postprocess per image at shape (1, 3, 352, 640)\n"
     ]
    },
    {
     "name": "stderr",
     "output_type": "stream",
     "text": [
      " 90%|█████████ | 991/1101 [01:11<00:08, 12.89it/s]"
     ]
    },
    {
     "name": "stdout",
     "output_type": "stream",
     "text": [
      "\n",
      "image 1/1 c:\\Users\\sande\\OneDrive\\Desktop\\IITTP\\2_Asgn\\Sem2\\2_dl\\SemProject\\Automated_Yolo\\dataset\\UAVDT-processed\\val\\images\\img000992.jpg: 352x640 (no detections), 44.3ms\n",
      "Speed: 1.4ms preprocess, 44.3ms inference, 0.5ms postprocess per image at shape (1, 3, 352, 640)\n",
      "\n",
      "image 1/1 c:\\Users\\sande\\OneDrive\\Desktop\\IITTP\\2_Asgn\\Sem2\\2_dl\\SemProject\\Automated_Yolo\\dataset\\UAVDT-processed\\val\\images\\img000993.jpg: 352x640 (no detections), 40.4ms\n",
      "Speed: 2.3ms preprocess, 40.4ms inference, 0.5ms postprocess per image at shape (1, 3, 352, 640)\n"
     ]
    },
    {
     "name": "stderr",
     "output_type": "stream",
     "text": [
      " 90%|█████████ | 993/1101 [01:12<00:08, 13.04it/s]"
     ]
    },
    {
     "name": "stdout",
     "output_type": "stream",
     "text": [
      "\n",
      "image 1/1 c:\\Users\\sande\\OneDrive\\Desktop\\IITTP\\2_Asgn\\Sem2\\2_dl\\SemProject\\Automated_Yolo\\dataset\\UAVDT-processed\\val\\images\\img000994.jpg: 352x640 (no detections), 43.5ms\n",
      "Speed: 1.4ms preprocess, 43.5ms inference, 0.5ms postprocess per image at shape (1, 3, 352, 640)\n",
      "\n",
      "image 1/1 c:\\Users\\sande\\OneDrive\\Desktop\\IITTP\\2_Asgn\\Sem2\\2_dl\\SemProject\\Automated_Yolo\\dataset\\UAVDT-processed\\val\\images\\img000995.jpg: 352x640 (no detections), 46.9ms\n",
      "Speed: 2.3ms preprocess, 46.9ms inference, 0.5ms postprocess per image at shape (1, 3, 352, 640)\n"
     ]
    },
    {
     "name": "stderr",
     "output_type": "stream",
     "text": [
      " 90%|█████████ | 995/1101 [01:12<00:07, 13.47it/s]"
     ]
    },
    {
     "name": "stdout",
     "output_type": "stream",
     "text": [
      "\n",
      "image 1/1 c:\\Users\\sande\\OneDrive\\Desktop\\IITTP\\2_Asgn\\Sem2\\2_dl\\SemProject\\Automated_Yolo\\dataset\\UAVDT-processed\\val\\images\\img000996.jpg: 352x640 (no detections), 44.6ms\n",
      "Speed: 1.9ms preprocess, 44.6ms inference, 0.5ms postprocess per image at shape (1, 3, 352, 640)\n",
      "\n",
      "image 1/1 c:\\Users\\sande\\OneDrive\\Desktop\\IITTP\\2_Asgn\\Sem2\\2_dl\\SemProject\\Automated_Yolo\\dataset\\UAVDT-processed\\val\\images\\img000997.jpg: 352x640 (no detections), 43.0ms\n",
      "Speed: 2.3ms preprocess, 43.0ms inference, 0.5ms postprocess per image at shape (1, 3, 352, 640)\n"
     ]
    },
    {
     "name": "stderr",
     "output_type": "stream",
     "text": [
      " 91%|█████████ | 997/1101 [01:12<00:07, 13.59it/s]"
     ]
    },
    {
     "name": "stdout",
     "output_type": "stream",
     "text": [
      "\n",
      "image 1/1 c:\\Users\\sande\\OneDrive\\Desktop\\IITTP\\2_Asgn\\Sem2\\2_dl\\SemProject\\Automated_Yolo\\dataset\\UAVDT-processed\\val\\images\\img000998.jpg: 352x640 (no detections), 68.0ms\n",
      "Speed: 2.1ms preprocess, 68.0ms inference, 0.4ms postprocess per image at shape (1, 3, 352, 640)\n",
      "\n",
      "image 1/1 c:\\Users\\sande\\OneDrive\\Desktop\\IITTP\\2_Asgn\\Sem2\\2_dl\\SemProject\\Automated_Yolo\\dataset\\UAVDT-processed\\val\\images\\img000999.jpg: 352x640 (no detections), 44.9ms\n",
      "Speed: 2.3ms preprocess, 44.9ms inference, 0.4ms postprocess per image at shape (1, 3, 352, 640)\n"
     ]
    },
    {
     "name": "stderr",
     "output_type": "stream",
     "text": [
      " 91%|█████████ | 999/1101 [01:12<00:08, 12.71it/s]"
     ]
    },
    {
     "name": "stdout",
     "output_type": "stream",
     "text": [
      "\n",
      "image 1/1 c:\\Users\\sande\\OneDrive\\Desktop\\IITTP\\2_Asgn\\Sem2\\2_dl\\SemProject\\Automated_Yolo\\dataset\\UAVDT-processed\\val\\images\\img001000.jpg: 352x640 (no detections), 45.2ms\n",
      "Speed: 2.2ms preprocess, 45.2ms inference, 0.5ms postprocess per image at shape (1, 3, 352, 640)\n",
      "\n",
      "image 1/1 c:\\Users\\sande\\OneDrive\\Desktop\\IITTP\\2_Asgn\\Sem2\\2_dl\\SemProject\\Automated_Yolo\\dataset\\UAVDT-processed\\val\\images\\img001001.jpg: 352x640 (no detections), 41.8ms\n",
      "Speed: 2.5ms preprocess, 41.8ms inference, 0.4ms postprocess per image at shape (1, 3, 352, 640)\n"
     ]
    },
    {
     "name": "stderr",
     "output_type": "stream",
     "text": [
      " 91%|█████████ | 1001/1101 [01:12<00:07, 12.82it/s]"
     ]
    },
    {
     "name": "stdout",
     "output_type": "stream",
     "text": [
      "\n",
      "image 1/1 c:\\Users\\sande\\OneDrive\\Desktop\\IITTP\\2_Asgn\\Sem2\\2_dl\\SemProject\\Automated_Yolo\\dataset\\UAVDT-processed\\val\\images\\img001002.jpg: 352x640 (no detections), 43.3ms\n",
      "Speed: 2.2ms preprocess, 43.3ms inference, 0.5ms postprocess per image at shape (1, 3, 352, 640)\n",
      "\n",
      "image 1/1 c:\\Users\\sande\\OneDrive\\Desktop\\IITTP\\2_Asgn\\Sem2\\2_dl\\SemProject\\Automated_Yolo\\dataset\\UAVDT-processed\\val\\images\\img001003.jpg: 352x640 (no detections), 45.9ms\n",
      "Speed: 2.3ms preprocess, 45.9ms inference, 0.5ms postprocess per image at shape (1, 3, 352, 640)\n"
     ]
    },
    {
     "name": "stderr",
     "output_type": "stream",
     "text": [
      " 91%|█████████ | 1003/1101 [01:12<00:07, 12.97it/s]"
     ]
    },
    {
     "name": "stdout",
     "output_type": "stream",
     "text": [
      "\n",
      "image 1/1 c:\\Users\\sande\\OneDrive\\Desktop\\IITTP\\2_Asgn\\Sem2\\2_dl\\SemProject\\Automated_Yolo\\dataset\\UAVDT-processed\\val\\images\\img001004.jpg: 352x640 (no detections), 47.9ms\n",
      "Speed: 1.7ms preprocess, 47.9ms inference, 0.6ms postprocess per image at shape (1, 3, 352, 640)\n",
      "\n",
      "image 1/1 c:\\Users\\sande\\OneDrive\\Desktop\\IITTP\\2_Asgn\\Sem2\\2_dl\\SemProject\\Automated_Yolo\\dataset\\UAVDT-processed\\val\\images\\img001005.jpg: 352x640 (no detections), 44.5ms\n",
      "Speed: 1.8ms preprocess, 44.5ms inference, 0.5ms postprocess per image at shape (1, 3, 352, 640)\n"
     ]
    },
    {
     "name": "stderr",
     "output_type": "stream",
     "text": [
      " 91%|█████████▏| 1005/1101 [01:13<00:07, 12.95it/s]"
     ]
    },
    {
     "name": "stdout",
     "output_type": "stream",
     "text": [
      "\n",
      "image 1/1 c:\\Users\\sande\\OneDrive\\Desktop\\IITTP\\2_Asgn\\Sem2\\2_dl\\SemProject\\Automated_Yolo\\dataset\\UAVDT-processed\\val\\images\\img001006.jpg: 352x640 (no detections), 44.2ms\n",
      "Speed: 2.2ms preprocess, 44.2ms inference, 0.5ms postprocess per image at shape (1, 3, 352, 640)\n",
      "\n",
      "image 1/1 c:\\Users\\sande\\OneDrive\\Desktop\\IITTP\\2_Asgn\\Sem2\\2_dl\\SemProject\\Automated_Yolo\\dataset\\UAVDT-processed\\val\\images\\img001007.jpg: 352x640 (no detections), 42.4ms\n",
      "Speed: 1.5ms preprocess, 42.4ms inference, 0.4ms postprocess per image at shape (1, 3, 352, 640)\n"
     ]
    },
    {
     "name": "stderr",
     "output_type": "stream",
     "text": [
      " 91%|█████████▏| 1007/1101 [01:13<00:07, 13.30it/s]"
     ]
    },
    {
     "name": "stdout",
     "output_type": "stream",
     "text": [
      "\n",
      "image 1/1 c:\\Users\\sande\\OneDrive\\Desktop\\IITTP\\2_Asgn\\Sem2\\2_dl\\SemProject\\Automated_Yolo\\dataset\\UAVDT-processed\\val\\images\\img001008.jpg: 352x640 (no detections), 67.2ms\n",
      "Speed: 2.6ms preprocess, 67.2ms inference, 0.7ms postprocess per image at shape (1, 3, 352, 640)\n",
      "\n",
      "image 1/1 c:\\Users\\sande\\OneDrive\\Desktop\\IITTP\\2_Asgn\\Sem2\\2_dl\\SemProject\\Automated_Yolo\\dataset\\UAVDT-processed\\val\\images\\img001009.jpg: 352x640 (no detections), 45.4ms\n",
      "Speed: 2.6ms preprocess, 45.4ms inference, 0.5ms postprocess per image at shape (1, 3, 352, 640)\n"
     ]
    },
    {
     "name": "stderr",
     "output_type": "stream",
     "text": [
      " 92%|█████████▏| 1009/1101 [01:13<00:07, 12.43it/s]"
     ]
    },
    {
     "name": "stdout",
     "output_type": "stream",
     "text": [
      "\n",
      "image 1/1 c:\\Users\\sande\\OneDrive\\Desktop\\IITTP\\2_Asgn\\Sem2\\2_dl\\SemProject\\Automated_Yolo\\dataset\\UAVDT-processed\\val\\images\\img001010.jpg: 352x640 (no detections), 42.6ms\n",
      "Speed: 1.5ms preprocess, 42.6ms inference, 0.5ms postprocess per image at shape (1, 3, 352, 640)\n",
      "\n",
      "image 1/1 c:\\Users\\sande\\OneDrive\\Desktop\\IITTP\\2_Asgn\\Sem2\\2_dl\\SemProject\\Automated_Yolo\\dataset\\UAVDT-processed\\val\\images\\img001011.jpg: 352x640 (no detections), 42.3ms\n",
      "Speed: 2.1ms preprocess, 42.3ms inference, 0.6ms postprocess per image at shape (1, 3, 352, 640)\n"
     ]
    },
    {
     "name": "stderr",
     "output_type": "stream",
     "text": [
      " 92%|█████████▏| 1011/1101 [01:13<00:07, 12.77it/s]"
     ]
    },
    {
     "name": "stdout",
     "output_type": "stream",
     "text": [
      "\n",
      "image 1/1 c:\\Users\\sande\\OneDrive\\Desktop\\IITTP\\2_Asgn\\Sem2\\2_dl\\SemProject\\Automated_Yolo\\dataset\\UAVDT-processed\\val\\images\\img001012.jpg: 352x640 (no detections), 43.2ms\n",
      "Speed: 2.2ms preprocess, 43.2ms inference, 0.4ms postprocess per image at shape (1, 3, 352, 640)\n",
      "\n",
      "image 1/1 c:\\Users\\sande\\OneDrive\\Desktop\\IITTP\\2_Asgn\\Sem2\\2_dl\\SemProject\\Automated_Yolo\\dataset\\UAVDT-processed\\val\\images\\img001013.jpg: 352x640 (no detections), 43.7ms\n",
      "Speed: 2.2ms preprocess, 43.7ms inference, 0.5ms postprocess per image at shape (1, 3, 352, 640)\n"
     ]
    },
    {
     "name": "stderr",
     "output_type": "stream",
     "text": [
      " 92%|█████████▏| 1013/1101 [01:13<00:06, 12.76it/s]"
     ]
    },
    {
     "name": "stdout",
     "output_type": "stream",
     "text": [
      "\n",
      "image 1/1 c:\\Users\\sande\\OneDrive\\Desktop\\IITTP\\2_Asgn\\Sem2\\2_dl\\SemProject\\Automated_Yolo\\dataset\\UAVDT-processed\\val\\images\\img001014.jpg: 352x640 (no detections), 47.3ms\n",
      "Speed: 2.3ms preprocess, 47.3ms inference, 0.6ms postprocess per image at shape (1, 3, 352, 640)\n",
      "\n",
      "image 1/1 c:\\Users\\sande\\OneDrive\\Desktop\\IITTP\\2_Asgn\\Sem2\\2_dl\\SemProject\\Automated_Yolo\\dataset\\UAVDT-processed\\val\\images\\img001015.jpg: 352x640 (no detections), 66.3ms\n",
      "Speed: 2.3ms preprocess, 66.3ms inference, 0.7ms postprocess per image at shape (1, 3, 352, 640)\n"
     ]
    },
    {
     "name": "stderr",
     "output_type": "stream",
     "text": [
      " 92%|█████████▏| 1015/1101 [01:13<00:07, 12.16it/s]"
     ]
    },
    {
     "name": "stdout",
     "output_type": "stream",
     "text": [
      "\n",
      "image 1/1 c:\\Users\\sande\\OneDrive\\Desktop\\IITTP\\2_Asgn\\Sem2\\2_dl\\SemProject\\Automated_Yolo\\dataset\\UAVDT-processed\\val\\images\\img001016.jpg: 352x640 (no detections), 44.7ms\n",
      "Speed: 2.3ms preprocess, 44.7ms inference, 0.7ms postprocess per image at shape (1, 3, 352, 640)\n",
      "\n",
      "image 1/1 c:\\Users\\sande\\OneDrive\\Desktop\\IITTP\\2_Asgn\\Sem2\\2_dl\\SemProject\\Automated_Yolo\\dataset\\UAVDT-processed\\val\\images\\img001017.jpg: 352x640 (no detections), 43.6ms\n",
      "Speed: 2.4ms preprocess, 43.6ms inference, 0.5ms postprocess per image at shape (1, 3, 352, 640)\n"
     ]
    },
    {
     "name": "stderr",
     "output_type": "stream",
     "text": [
      " 92%|█████████▏| 1017/1101 [01:13<00:06, 12.57it/s]"
     ]
    },
    {
     "name": "stdout",
     "output_type": "stream",
     "text": [
      "\n",
      "image 1/1 c:\\Users\\sande\\OneDrive\\Desktop\\IITTP\\2_Asgn\\Sem2\\2_dl\\SemProject\\Automated_Yolo\\dataset\\UAVDT-processed\\val\\images\\img001018.jpg: 352x640 (no detections), 45.2ms\n",
      "Speed: 2.1ms preprocess, 45.2ms inference, 0.5ms postprocess per image at shape (1, 3, 352, 640)\n",
      "\n",
      "image 1/1 c:\\Users\\sande\\OneDrive\\Desktop\\IITTP\\2_Asgn\\Sem2\\2_dl\\SemProject\\Automated_Yolo\\dataset\\UAVDT-processed\\val\\images\\img001019.jpg: 352x640 (no detections), 43.9ms\n",
      "Speed: 2.1ms preprocess, 43.9ms inference, 0.6ms postprocess per image at shape (1, 3, 352, 640)\n"
     ]
    },
    {
     "name": "stderr",
     "output_type": "stream",
     "text": [
      " 93%|█████████▎| 1019/1101 [01:14<00:06, 12.58it/s]"
     ]
    },
    {
     "name": "stdout",
     "output_type": "stream",
     "text": [
      "\n",
      "image 1/1 c:\\Users\\sande\\OneDrive\\Desktop\\IITTP\\2_Asgn\\Sem2\\2_dl\\SemProject\\Automated_Yolo\\dataset\\UAVDT-processed\\val\\images\\img001020.jpg: 352x640 (no detections), 60.7ms\n",
      "Speed: 2.5ms preprocess, 60.7ms inference, 0.5ms postprocess per image at shape (1, 3, 352, 640)\n",
      "\n",
      "image 1/1 c:\\Users\\sande\\OneDrive\\Desktop\\IITTP\\2_Asgn\\Sem2\\2_dl\\SemProject\\Automated_Yolo\\dataset\\UAVDT-processed\\val\\images\\img001021.jpg: 352x640 (no detections), 41.9ms\n",
      "Speed: 2.1ms preprocess, 41.9ms inference, 0.6ms postprocess per image at shape (1, 3, 352, 640)\n"
     ]
    },
    {
     "name": "stderr",
     "output_type": "stream",
     "text": [
      " 93%|█████████▎| 1021/1101 [01:14<00:06, 12.22it/s]"
     ]
    },
    {
     "name": "stdout",
     "output_type": "stream",
     "text": [
      "\n",
      "image 1/1 c:\\Users\\sande\\OneDrive\\Desktop\\IITTP\\2_Asgn\\Sem2\\2_dl\\SemProject\\Automated_Yolo\\dataset\\UAVDT-processed\\val\\images\\img001022.jpg: 352x640 (no detections), 45.1ms\n",
      "Speed: 1.6ms preprocess, 45.1ms inference, 0.8ms postprocess per image at shape (1, 3, 352, 640)\n",
      "\n",
      "image 1/1 c:\\Users\\sande\\OneDrive\\Desktop\\IITTP\\2_Asgn\\Sem2\\2_dl\\SemProject\\Automated_Yolo\\dataset\\UAVDT-processed\\val\\images\\img001023.jpg: 352x640 (no detections), 43.7ms\n",
      "Speed: 2.2ms preprocess, 43.7ms inference, 0.4ms postprocess per image at shape (1, 3, 352, 640)\n"
     ]
    },
    {
     "name": "stderr",
     "output_type": "stream",
     "text": [
      " 93%|█████████▎| 1023/1101 [01:14<00:06, 12.64it/s]"
     ]
    },
    {
     "name": "stdout",
     "output_type": "stream",
     "text": [
      "\n",
      "image 1/1 c:\\Users\\sande\\OneDrive\\Desktop\\IITTP\\2_Asgn\\Sem2\\2_dl\\SemProject\\Automated_Yolo\\dataset\\UAVDT-processed\\val\\images\\img001024.jpg: 352x640 (no detections), 44.6ms\n",
      "Speed: 2.2ms preprocess, 44.6ms inference, 0.4ms postprocess per image at shape (1, 3, 352, 640)\n",
      "\n",
      "image 1/1 c:\\Users\\sande\\OneDrive\\Desktop\\IITTP\\2_Asgn\\Sem2\\2_dl\\SemProject\\Automated_Yolo\\dataset\\UAVDT-processed\\val\\images\\img001025.jpg: 352x640 (no detections), 44.6ms\n",
      "Speed: 1.9ms preprocess, 44.6ms inference, 0.5ms postprocess per image at shape (1, 3, 352, 640)\n"
     ]
    },
    {
     "name": "stderr",
     "output_type": "stream",
     "text": [
      " 93%|█████████▎| 1025/1101 [01:14<00:05, 12.78it/s]"
     ]
    },
    {
     "name": "stdout",
     "output_type": "stream",
     "text": [
      "\n",
      "image 1/1 c:\\Users\\sande\\OneDrive\\Desktop\\IITTP\\2_Asgn\\Sem2\\2_dl\\SemProject\\Automated_Yolo\\dataset\\UAVDT-processed\\val\\images\\img001026.jpg: 352x640 (no detections), 44.4ms\n",
      "Speed: 2.3ms preprocess, 44.4ms inference, 0.6ms postprocess per image at shape (1, 3, 352, 640)\n",
      "\n",
      "image 1/1 c:\\Users\\sande\\OneDrive\\Desktop\\IITTP\\2_Asgn\\Sem2\\2_dl\\SemProject\\Automated_Yolo\\dataset\\UAVDT-processed\\val\\images\\img001027.jpg: 352x640 (no detections), 44.2ms\n",
      "Speed: 1.5ms preprocess, 44.2ms inference, 0.5ms postprocess per image at shape (1, 3, 352, 640)\n"
     ]
    },
    {
     "name": "stderr",
     "output_type": "stream",
     "text": [
      " 93%|█████████▎| 1027/1101 [01:14<00:05, 13.16it/s]"
     ]
    },
    {
     "name": "stdout",
     "output_type": "stream",
     "text": [
      "\n",
      "image 1/1 c:\\Users\\sande\\OneDrive\\Desktop\\IITTP\\2_Asgn\\Sem2\\2_dl\\SemProject\\Automated_Yolo\\dataset\\UAVDT-processed\\val\\images\\img001028.jpg: 352x640 (no detections), 49.5ms\n",
      "Speed: 2.1ms preprocess, 49.5ms inference, 0.4ms postprocess per image at shape (1, 3, 352, 640)\n",
      "\n",
      "image 1/1 c:\\Users\\sande\\OneDrive\\Desktop\\IITTP\\2_Asgn\\Sem2\\2_dl\\SemProject\\Automated_Yolo\\dataset\\UAVDT-processed\\val\\images\\img001029.jpg: 352x640 (no detections), 43.2ms\n",
      "Speed: 1.7ms preprocess, 43.2ms inference, 0.5ms postprocess per image at shape (1, 3, 352, 640)\n"
     ]
    },
    {
     "name": "stderr",
     "output_type": "stream",
     "text": [
      " 93%|█████████▎| 1029/1101 [01:14<00:05, 13.52it/s]"
     ]
    },
    {
     "name": "stdout",
     "output_type": "stream",
     "text": [
      "\n",
      "image 1/1 c:\\Users\\sande\\OneDrive\\Desktop\\IITTP\\2_Asgn\\Sem2\\2_dl\\SemProject\\Automated_Yolo\\dataset\\UAVDT-processed\\val\\images\\img001030.jpg: 352x640 (no detections), 66.6ms\n",
      "Speed: 2.4ms preprocess, 66.6ms inference, 0.6ms postprocess per image at shape (1, 3, 352, 640)\n",
      "\n",
      "image 1/1 c:\\Users\\sande\\OneDrive\\Desktop\\IITTP\\2_Asgn\\Sem2\\2_dl\\SemProject\\Automated_Yolo\\dataset\\UAVDT-processed\\val\\images\\img001031.jpg: 352x640 (no detections), 45.6ms\n",
      "Speed: 2.0ms preprocess, 45.6ms inference, 0.5ms postprocess per image at shape (1, 3, 352, 640)\n"
     ]
    },
    {
     "name": "stderr",
     "output_type": "stream",
     "text": [
      " 94%|█████████▎| 1031/1101 [01:15<00:06, 10.61it/s]"
     ]
    },
    {
     "name": "stdout",
     "output_type": "stream",
     "text": [
      "\n",
      "image 1/1 c:\\Users\\sande\\OneDrive\\Desktop\\IITTP\\2_Asgn\\Sem2\\2_dl\\SemProject\\Automated_Yolo\\dataset\\UAVDT-processed\\val\\images\\img001032.jpg: 352x640 (no detections), 43.8ms\n",
      "Speed: 2.0ms preprocess, 43.8ms inference, 0.7ms postprocess per image at shape (1, 3, 352, 640)\n",
      "\n",
      "image 1/1 c:\\Users\\sande\\OneDrive\\Desktop\\IITTP\\2_Asgn\\Sem2\\2_dl\\SemProject\\Automated_Yolo\\dataset\\UAVDT-processed\\val\\images\\img001033.jpg: 352x640 (no detections), 44.7ms\n",
      "Speed: 2.5ms preprocess, 44.7ms inference, 0.4ms postprocess per image at shape (1, 3, 352, 640)\n"
     ]
    },
    {
     "name": "stderr",
     "output_type": "stream",
     "text": [
      " 94%|█████████▍| 1033/1101 [01:15<00:05, 11.66it/s]"
     ]
    },
    {
     "name": "stdout",
     "output_type": "stream",
     "text": [
      "\n",
      "image 1/1 c:\\Users\\sande\\OneDrive\\Desktop\\IITTP\\2_Asgn\\Sem2\\2_dl\\SemProject\\Automated_Yolo\\dataset\\UAVDT-processed\\val\\images\\img001034.jpg: 352x640 (no detections), 48.1ms\n",
      "Speed: 1.6ms preprocess, 48.1ms inference, 0.4ms postprocess per image at shape (1, 3, 352, 640)\n",
      "\n",
      "image 1/1 c:\\Users\\sande\\OneDrive\\Desktop\\IITTP\\2_Asgn\\Sem2\\2_dl\\SemProject\\Automated_Yolo\\dataset\\UAVDT-processed\\val\\images\\img001035.jpg: 352x640 (no detections), 44.1ms\n",
      "Speed: 2.2ms preprocess, 44.1ms inference, 0.4ms postprocess per image at shape (1, 3, 352, 640)\n"
     ]
    },
    {
     "name": "stderr",
     "output_type": "stream",
     "text": [
      " 94%|█████████▍| 1035/1101 [01:15<00:05, 12.38it/s]"
     ]
    },
    {
     "name": "stdout",
     "output_type": "stream",
     "text": [
      "\n",
      "image 1/1 c:\\Users\\sande\\OneDrive\\Desktop\\IITTP\\2_Asgn\\Sem2\\2_dl\\SemProject\\Automated_Yolo\\dataset\\UAVDT-processed\\val\\images\\img001036.jpg: 352x640 (no detections), 45.1ms\n",
      "Speed: 2.2ms preprocess, 45.1ms inference, 0.6ms postprocess per image at shape (1, 3, 352, 640)\n",
      "\n",
      "image 1/1 c:\\Users\\sande\\OneDrive\\Desktop\\IITTP\\2_Asgn\\Sem2\\2_dl\\SemProject\\Automated_Yolo\\dataset\\UAVDT-processed\\val\\images\\img001037.jpg: 352x640 (no detections), 45.3ms\n",
      "Speed: 1.6ms preprocess, 45.3ms inference, 0.5ms postprocess per image at shape (1, 3, 352, 640)\n"
     ]
    },
    {
     "name": "stderr",
     "output_type": "stream",
     "text": [
      " 94%|█████████▍| 1037/1101 [01:15<00:04, 13.09it/s]"
     ]
    },
    {
     "name": "stdout",
     "output_type": "stream",
     "text": [
      "\n",
      "image 1/1 c:\\Users\\sande\\OneDrive\\Desktop\\IITTP\\2_Asgn\\Sem2\\2_dl\\SemProject\\Automated_Yolo\\dataset\\UAVDT-processed\\val\\images\\img001038.jpg: 352x640 (no detections), 44.9ms\n",
      "Speed: 2.3ms preprocess, 44.9ms inference, 0.4ms postprocess per image at shape (1, 3, 352, 640)\n",
      "\n",
      "image 1/1 c:\\Users\\sande\\OneDrive\\Desktop\\IITTP\\2_Asgn\\Sem2\\2_dl\\SemProject\\Automated_Yolo\\dataset\\UAVDT-processed\\val\\images\\img001039.jpg: 352x640 (no detections), 71.4ms\n",
      "Speed: 2.3ms preprocess, 71.4ms inference, 0.6ms postprocess per image at shape (1, 3, 352, 640)\n"
     ]
    },
    {
     "name": "stderr",
     "output_type": "stream",
     "text": [
      " 94%|█████████▍| 1039/1101 [01:15<00:04, 12.78it/s]"
     ]
    },
    {
     "name": "stdout",
     "output_type": "stream",
     "text": [
      "\n",
      "image 1/1 c:\\Users\\sande\\OneDrive\\Desktop\\IITTP\\2_Asgn\\Sem2\\2_dl\\SemProject\\Automated_Yolo\\dataset\\UAVDT-processed\\val\\images\\img001040.jpg: 352x640 (no detections), 45.9ms\n",
      "Speed: 1.9ms preprocess, 45.9ms inference, 0.6ms postprocess per image at shape (1, 3, 352, 640)\n",
      "\n",
      "image 1/1 c:\\Users\\sande\\OneDrive\\Desktop\\IITTP\\2_Asgn\\Sem2\\2_dl\\SemProject\\Automated_Yolo\\dataset\\UAVDT-processed\\val\\images\\img001041.jpg: 352x640 (no detections), 42.5ms\n",
      "Speed: 2.3ms preprocess, 42.5ms inference, 0.5ms postprocess per image at shape (1, 3, 352, 640)\n"
     ]
    },
    {
     "name": "stderr",
     "output_type": "stream",
     "text": [
      " 95%|█████████▍| 1041/1101 [01:15<00:04, 13.38it/s]"
     ]
    },
    {
     "name": "stdout",
     "output_type": "stream",
     "text": [
      "\n",
      "image 1/1 c:\\Users\\sande\\OneDrive\\Desktop\\IITTP\\2_Asgn\\Sem2\\2_dl\\SemProject\\Automated_Yolo\\dataset\\UAVDT-processed\\val\\images\\img001042.jpg: 352x640 (no detections), 45.4ms\n",
      "Speed: 1.6ms preprocess, 45.4ms inference, 0.6ms postprocess per image at shape (1, 3, 352, 640)\n",
      "\n",
      "image 1/1 c:\\Users\\sande\\OneDrive\\Desktop\\IITTP\\2_Asgn\\Sem2\\2_dl\\SemProject\\Automated_Yolo\\dataset\\UAVDT-processed\\val\\images\\img001043.jpg: 352x640 (no detections), 43.8ms\n",
      "Speed: 2.2ms preprocess, 43.8ms inference, 0.6ms postprocess per image at shape (1, 3, 352, 640)\n"
     ]
    },
    {
     "name": "stderr",
     "output_type": "stream",
     "text": [
      " 95%|█████████▍| 1043/1101 [01:16<00:04, 13.80it/s]"
     ]
    },
    {
     "name": "stdout",
     "output_type": "stream",
     "text": [
      "\n",
      "image 1/1 c:\\Users\\sande\\OneDrive\\Desktop\\IITTP\\2_Asgn\\Sem2\\2_dl\\SemProject\\Automated_Yolo\\dataset\\UAVDT-processed\\val\\images\\img001044.jpg: 352x640 (no detections), 46.5ms\n",
      "Speed: 2.3ms preprocess, 46.5ms inference, 0.4ms postprocess per image at shape (1, 3, 352, 640)\n",
      "\n",
      "image 1/1 c:\\Users\\sande\\OneDrive\\Desktop\\IITTP\\2_Asgn\\Sem2\\2_dl\\SemProject\\Automated_Yolo\\dataset\\UAVDT-processed\\val\\images\\img001045.jpg: 352x640 (no detections), 43.7ms\n",
      "Speed: 1.6ms preprocess, 43.7ms inference, 0.5ms postprocess per image at shape (1, 3, 352, 640)\n"
     ]
    },
    {
     "name": "stderr",
     "output_type": "stream",
     "text": [
      " 95%|█████████▍| 1045/1101 [01:16<00:04, 13.98it/s]"
     ]
    },
    {
     "name": "stdout",
     "output_type": "stream",
     "text": [
      "\n",
      "image 1/1 c:\\Users\\sande\\OneDrive\\Desktop\\IITTP\\2_Asgn\\Sem2\\2_dl\\SemProject\\Automated_Yolo\\dataset\\UAVDT-processed\\val\\images\\img001046.jpg: 352x640 (no detections), 67.9ms\n",
      "Speed: 2.1ms preprocess, 67.9ms inference, 0.7ms postprocess per image at shape (1, 3, 352, 640)\n",
      "\n",
      "image 1/1 c:\\Users\\sande\\OneDrive\\Desktop\\IITTP\\2_Asgn\\Sem2\\2_dl\\SemProject\\Automated_Yolo\\dataset\\UAVDT-processed\\val\\images\\img001047.jpg: 352x640 (no detections), 46.0ms\n",
      "Speed: 2.6ms preprocess, 46.0ms inference, 0.4ms postprocess per image at shape (1, 3, 352, 640)\n"
     ]
    },
    {
     "name": "stderr",
     "output_type": "stream",
     "text": [
      " 95%|█████████▌| 1047/1101 [01:16<00:03, 13.53it/s]"
     ]
    },
    {
     "name": "stdout",
     "output_type": "stream",
     "text": [
      "\n",
      "image 1/1 c:\\Users\\sande\\OneDrive\\Desktop\\IITTP\\2_Asgn\\Sem2\\2_dl\\SemProject\\Automated_Yolo\\dataset\\UAVDT-processed\\val\\images\\img001048.jpg: 352x640 (no detections), 48.5ms\n",
      "Speed: 2.4ms preprocess, 48.5ms inference, 0.7ms postprocess per image at shape (1, 3, 352, 640)\n",
      "\n",
      "image 1/1 c:\\Users\\sande\\OneDrive\\Desktop\\IITTP\\2_Asgn\\Sem2\\2_dl\\SemProject\\Automated_Yolo\\dataset\\UAVDT-processed\\val\\images\\img001049.jpg: 352x640 (no detections), 44.2ms\n",
      "Speed: 2.4ms preprocess, 44.2ms inference, 0.4ms postprocess per image at shape (1, 3, 352, 640)\n"
     ]
    },
    {
     "name": "stderr",
     "output_type": "stream",
     "text": [
      " 95%|█████████▌| 1049/1101 [01:16<00:03, 13.75it/s]"
     ]
    },
    {
     "name": "stdout",
     "output_type": "stream",
     "text": [
      "\n",
      "image 1/1 c:\\Users\\sande\\OneDrive\\Desktop\\IITTP\\2_Asgn\\Sem2\\2_dl\\SemProject\\Automated_Yolo\\dataset\\UAVDT-processed\\val\\images\\img001050.jpg: 352x640 (no detections), 46.9ms\n",
      "Speed: 2.3ms preprocess, 46.9ms inference, 0.5ms postprocess per image at shape (1, 3, 352, 640)\n",
      "\n",
      "image 1/1 c:\\Users\\sande\\OneDrive\\Desktop\\IITTP\\2_Asgn\\Sem2\\2_dl\\SemProject\\Automated_Yolo\\dataset\\UAVDT-processed\\val\\images\\img001051.jpg: 352x640 (no detections), 43.4ms\n",
      "Speed: 1.6ms preprocess, 43.4ms inference, 0.6ms postprocess per image at shape (1, 3, 352, 640)\n"
     ]
    },
    {
     "name": "stderr",
     "output_type": "stream",
     "text": [
      " 95%|█████████▌| 1051/1101 [01:16<00:03, 13.96it/s]"
     ]
    },
    {
     "name": "stdout",
     "output_type": "stream",
     "text": [
      "\n",
      "image 1/1 c:\\Users\\sande\\OneDrive\\Desktop\\IITTP\\2_Asgn\\Sem2\\2_dl\\SemProject\\Automated_Yolo\\dataset\\UAVDT-processed\\val\\images\\img001052.jpg: 352x640 (no detections), 47.2ms\n",
      "Speed: 2.3ms preprocess, 47.2ms inference, 0.9ms postprocess per image at shape (1, 3, 352, 640)\n",
      "\n",
      "image 1/1 c:\\Users\\sande\\OneDrive\\Desktop\\IITTP\\2_Asgn\\Sem2\\2_dl\\SemProject\\Automated_Yolo\\dataset\\UAVDT-processed\\val\\images\\img001053.jpg: 352x640 (no detections), 41.3ms\n",
      "Speed: 2.3ms preprocess, 41.3ms inference, 0.5ms postprocess per image at shape (1, 3, 352, 640)\n"
     ]
    },
    {
     "name": "stderr",
     "output_type": "stream",
     "text": [
      " 96%|█████████▌| 1053/1101 [01:16<00:03, 14.08it/s]"
     ]
    },
    {
     "name": "stdout",
     "output_type": "stream",
     "text": [
      "\n",
      "image 1/1 c:\\Users\\sande\\OneDrive\\Desktop\\IITTP\\2_Asgn\\Sem2\\2_dl\\SemProject\\Automated_Yolo\\dataset\\UAVDT-processed\\val\\images\\img001054.jpg: 352x640 (no detections), 67.2ms\n",
      "Speed: 1.6ms preprocess, 67.2ms inference, 0.6ms postprocess per image at shape (1, 3, 352, 640)\n",
      "\n",
      "image 1/1 c:\\Users\\sande\\OneDrive\\Desktop\\IITTP\\2_Asgn\\Sem2\\2_dl\\SemProject\\Automated_Yolo\\dataset\\UAVDT-processed\\val\\images\\img001055.jpg: 352x640 (no detections), 46.3ms\n",
      "Speed: 1.9ms preprocess, 46.3ms inference, 0.6ms postprocess per image at shape (1, 3, 352, 640)\n"
     ]
    },
    {
     "name": "stderr",
     "output_type": "stream",
     "text": [
      " 96%|█████████▌| 1055/1101 [01:16<00:03, 13.48it/s]"
     ]
    },
    {
     "name": "stdout",
     "output_type": "stream",
     "text": [
      "\n",
      "image 1/1 c:\\Users\\sande\\OneDrive\\Desktop\\IITTP\\2_Asgn\\Sem2\\2_dl\\SemProject\\Automated_Yolo\\dataset\\UAVDT-processed\\val\\images\\img001056.jpg: 352x640 (no detections), 46.7ms\n",
      "Speed: 2.3ms preprocess, 46.7ms inference, 0.4ms postprocess per image at shape (1, 3, 352, 640)\n",
      "\n",
      "image 1/1 c:\\Users\\sande\\OneDrive\\Desktop\\IITTP\\2_Asgn\\Sem2\\2_dl\\SemProject\\Automated_Yolo\\dataset\\UAVDT-processed\\val\\images\\img001057.jpg: 352x640 (no detections), 44.6ms\n",
      "Speed: 2.3ms preprocess, 44.6ms inference, 0.6ms postprocess per image at shape (1, 3, 352, 640)\n"
     ]
    },
    {
     "name": "stderr",
     "output_type": "stream",
     "text": [
      " 96%|█████████▌| 1057/1101 [01:17<00:03, 13.74it/s]"
     ]
    },
    {
     "name": "stdout",
     "output_type": "stream",
     "text": [
      "\n",
      "image 1/1 c:\\Users\\sande\\OneDrive\\Desktop\\IITTP\\2_Asgn\\Sem2\\2_dl\\SemProject\\Automated_Yolo\\dataset\\UAVDT-processed\\val\\images\\img001058.jpg: 352x640 (no detections), 47.5ms\n",
      "Speed: 2.3ms preprocess, 47.5ms inference, 0.6ms postprocess per image at shape (1, 3, 352, 640)\n",
      "\n",
      "image 1/1 c:\\Users\\sande\\OneDrive\\Desktop\\IITTP\\2_Asgn\\Sem2\\2_dl\\SemProject\\Automated_Yolo\\dataset\\UAVDT-processed\\val\\images\\img001059.jpg: 352x640 (no detections), 44.2ms\n",
      "Speed: 2.3ms preprocess, 44.2ms inference, 0.6ms postprocess per image at shape (1, 3, 352, 640)\n"
     ]
    },
    {
     "name": "stderr",
     "output_type": "stream",
     "text": [
      " 96%|█████████▌| 1059/1101 [01:17<00:03, 13.70it/s]"
     ]
    },
    {
     "name": "stdout",
     "output_type": "stream",
     "text": [
      "\n",
      "image 1/1 c:\\Users\\sande\\OneDrive\\Desktop\\IITTP\\2_Asgn\\Sem2\\2_dl\\SemProject\\Automated_Yolo\\dataset\\UAVDT-processed\\val\\images\\img001060.jpg: 352x640 (no detections), 45.7ms\n",
      "Speed: 1.7ms preprocess, 45.7ms inference, 0.5ms postprocess per image at shape (1, 3, 352, 640)\n",
      "\n",
      "image 1/1 c:\\Users\\sande\\OneDrive\\Desktop\\IITTP\\2_Asgn\\Sem2\\2_dl\\SemProject\\Automated_Yolo\\dataset\\UAVDT-processed\\val\\images\\img001061.jpg: 352x640 (no detections), 45.4ms\n",
      "Speed: 2.2ms preprocess, 45.4ms inference, 0.5ms postprocess per image at shape (1, 3, 352, 640)\n"
     ]
    },
    {
     "name": "stderr",
     "output_type": "stream",
     "text": [
      " 96%|█████████▋| 1061/1101 [01:17<00:02, 13.64it/s]"
     ]
    },
    {
     "name": "stdout",
     "output_type": "stream",
     "text": [
      "\n",
      "image 1/1 c:\\Users\\sande\\OneDrive\\Desktop\\IITTP\\2_Asgn\\Sem2\\2_dl\\SemProject\\Automated_Yolo\\dataset\\UAVDT-processed\\val\\images\\img001062.jpg: 352x640 (no detections), 44.9ms\n",
      "Speed: 2.1ms preprocess, 44.9ms inference, 0.5ms postprocess per image at shape (1, 3, 352, 640)\n",
      "\n",
      "image 1/1 c:\\Users\\sande\\OneDrive\\Desktop\\IITTP\\2_Asgn\\Sem2\\2_dl\\SemProject\\Automated_Yolo\\dataset\\UAVDT-processed\\val\\images\\img001063.jpg: 352x640 (no detections), 43.8ms\n",
      "Speed: 2.2ms preprocess, 43.8ms inference, 0.6ms postprocess per image at shape (1, 3, 352, 640)\n"
     ]
    },
    {
     "name": "stderr",
     "output_type": "stream",
     "text": [
      " 97%|█████████▋| 1063/1101 [01:17<00:02, 13.48it/s]"
     ]
    },
    {
     "name": "stdout",
     "output_type": "stream",
     "text": [
      "\n",
      "image 1/1 c:\\Users\\sande\\OneDrive\\Desktop\\IITTP\\2_Asgn\\Sem2\\2_dl\\SemProject\\Automated_Yolo\\dataset\\UAVDT-processed\\val\\images\\img001064.jpg: 352x640 (no detections), 44.7ms\n",
      "Speed: 2.1ms preprocess, 44.7ms inference, 0.5ms postprocess per image at shape (1, 3, 352, 640)\n",
      "\n",
      "image 1/1 c:\\Users\\sande\\OneDrive\\Desktop\\IITTP\\2_Asgn\\Sem2\\2_dl\\SemProject\\Automated_Yolo\\dataset\\UAVDT-processed\\val\\images\\img001065.jpg: 352x640 (no detections), 53.1ms\n",
      "Speed: 3.5ms preprocess, 53.1ms inference, 0.5ms postprocess per image at shape (1, 3, 352, 640)\n"
     ]
    },
    {
     "name": "stderr",
     "output_type": "stream",
     "text": [
      " 97%|█████████▋| 1065/1101 [01:17<00:02, 12.84it/s]"
     ]
    },
    {
     "name": "stdout",
     "output_type": "stream",
     "text": [
      "\n",
      "image 1/1 c:\\Users\\sande\\OneDrive\\Desktop\\IITTP\\2_Asgn\\Sem2\\2_dl\\SemProject\\Automated_Yolo\\dataset\\UAVDT-processed\\val\\images\\img001066.jpg: 352x640 (no detections), 50.5ms\n",
      "Speed: 2.2ms preprocess, 50.5ms inference, 0.5ms postprocess per image at shape (1, 3, 352, 640)\n",
      "\n",
      "image 1/1 c:\\Users\\sande\\OneDrive\\Desktop\\IITTP\\2_Asgn\\Sem2\\2_dl\\SemProject\\Automated_Yolo\\dataset\\UAVDT-processed\\val\\images\\img001067.jpg: 352x640 (no detections), 43.4ms\n",
      "Speed: 2.4ms preprocess, 43.4ms inference, 0.6ms postprocess per image at shape (1, 3, 352, 640)\n"
     ]
    },
    {
     "name": "stderr",
     "output_type": "stream",
     "text": [
      " 97%|█████████▋| 1067/1101 [01:17<00:02, 12.56it/s]"
     ]
    },
    {
     "name": "stdout",
     "output_type": "stream",
     "text": [
      "\n",
      "image 1/1 c:\\Users\\sande\\OneDrive\\Desktop\\IITTP\\2_Asgn\\Sem2\\2_dl\\SemProject\\Automated_Yolo\\dataset\\UAVDT-processed\\val\\images\\img001068.jpg: 352x640 (no detections), 43.6ms\n",
      "Speed: 2.4ms preprocess, 43.6ms inference, 0.5ms postprocess per image at shape (1, 3, 352, 640)\n",
      "\n",
      "image 1/1 c:\\Users\\sande\\OneDrive\\Desktop\\IITTP\\2_Asgn\\Sem2\\2_dl\\SemProject\\Automated_Yolo\\dataset\\UAVDT-processed\\val\\images\\img001069.jpg: 352x640 (no detections), 42.6ms\n",
      "Speed: 1.4ms preprocess, 42.6ms inference, 0.4ms postprocess per image at shape (1, 3, 352, 640)\n"
     ]
    },
    {
     "name": "stderr",
     "output_type": "stream",
     "text": [
      " 97%|█████████▋| 1069/1101 [01:17<00:02, 12.76it/s]"
     ]
    },
    {
     "name": "stdout",
     "output_type": "stream",
     "text": [
      "\n",
      "image 1/1 c:\\Users\\sande\\OneDrive\\Desktop\\IITTP\\2_Asgn\\Sem2\\2_dl\\SemProject\\Automated_Yolo\\dataset\\UAVDT-processed\\val\\images\\img001070.jpg: 352x640 (no detections), 45.6ms\n",
      "Speed: 1.4ms preprocess, 45.6ms inference, 0.5ms postprocess per image at shape (1, 3, 352, 640)\n",
      "\n",
      "image 1/1 c:\\Users\\sande\\OneDrive\\Desktop\\IITTP\\2_Asgn\\Sem2\\2_dl\\SemProject\\Automated_Yolo\\dataset\\UAVDT-processed\\val\\images\\img001071.jpg: 352x640 (no detections), 44.1ms\n",
      "Speed: 2.2ms preprocess, 44.1ms inference, 0.6ms postprocess per image at shape (1, 3, 352, 640)\n"
     ]
    },
    {
     "name": "stderr",
     "output_type": "stream",
     "text": [
      " 97%|█████████▋| 1071/1101 [01:18<00:02, 13.20it/s]"
     ]
    },
    {
     "name": "stdout",
     "output_type": "stream",
     "text": [
      "\n",
      "image 1/1 c:\\Users\\sande\\OneDrive\\Desktop\\IITTP\\2_Asgn\\Sem2\\2_dl\\SemProject\\Automated_Yolo\\dataset\\UAVDT-processed\\val\\images\\img001072.jpg: 352x640 (no detections), 45.6ms\n",
      "Speed: 2.3ms preprocess, 45.6ms inference, 0.5ms postprocess per image at shape (1, 3, 352, 640)\n",
      "\n",
      "image 1/1 c:\\Users\\sande\\OneDrive\\Desktop\\IITTP\\2_Asgn\\Sem2\\2_dl\\SemProject\\Automated_Yolo\\dataset\\UAVDT-processed\\val\\images\\img001073.jpg: 352x640 (no detections), 43.2ms\n",
      "Speed: 2.4ms preprocess, 43.2ms inference, 0.5ms postprocess per image at shape (1, 3, 352, 640)\n"
     ]
    },
    {
     "name": "stderr",
     "output_type": "stream",
     "text": [
      " 97%|█████████▋| 1073/1101 [01:18<00:02, 13.32it/s]"
     ]
    },
    {
     "name": "stdout",
     "output_type": "stream",
     "text": [
      "\n",
      "image 1/1 c:\\Users\\sande\\OneDrive\\Desktop\\IITTP\\2_Asgn\\Sem2\\2_dl\\SemProject\\Automated_Yolo\\dataset\\UAVDT-processed\\val\\images\\img001074.jpg: 352x640 (no detections), 46.4ms\n",
      "Speed: 1.9ms preprocess, 46.4ms inference, 0.4ms postprocess per image at shape (1, 3, 352, 640)\n",
      "\n",
      "image 1/1 c:\\Users\\sande\\OneDrive\\Desktop\\IITTP\\2_Asgn\\Sem2\\2_dl\\SemProject\\Automated_Yolo\\dataset\\UAVDT-processed\\val\\images\\img001075.jpg: 352x640 (no detections), 43.7ms\n",
      "Speed: 1.6ms preprocess, 43.7ms inference, 0.5ms postprocess per image at shape (1, 3, 352, 640)\n"
     ]
    },
    {
     "name": "stderr",
     "output_type": "stream",
     "text": [
      " 98%|█████████▊| 1075/1101 [01:18<00:01, 13.43it/s]"
     ]
    },
    {
     "name": "stdout",
     "output_type": "stream",
     "text": [
      "\n",
      "image 1/1 c:\\Users\\sande\\OneDrive\\Desktop\\IITTP\\2_Asgn\\Sem2\\2_dl\\SemProject\\Automated_Yolo\\dataset\\UAVDT-processed\\val\\images\\img001076.jpg: 352x640 (no detections), 73.5ms\n",
      "Speed: 1.5ms preprocess, 73.5ms inference, 0.5ms postprocess per image at shape (1, 3, 352, 640)\n",
      "\n",
      "image 1/1 c:\\Users\\sande\\OneDrive\\Desktop\\IITTP\\2_Asgn\\Sem2\\2_dl\\SemProject\\Automated_Yolo\\dataset\\UAVDT-processed\\val\\images\\img001077.jpg: 352x640 (no detections), 45.8ms\n",
      "Speed: 2.5ms preprocess, 45.8ms inference, 0.5ms postprocess per image at shape (1, 3, 352, 640)\n"
     ]
    },
    {
     "name": "stderr",
     "output_type": "stream",
     "text": [
      " 98%|█████████▊| 1077/1101 [01:18<00:01, 13.08it/s]"
     ]
    },
    {
     "name": "stdout",
     "output_type": "stream",
     "text": [
      "\n",
      "image 1/1 c:\\Users\\sande\\OneDrive\\Desktop\\IITTP\\2_Asgn\\Sem2\\2_dl\\SemProject\\Automated_Yolo\\dataset\\UAVDT-processed\\val\\images\\img001078.jpg: 352x640 (no detections), 46.8ms\n",
      "Speed: 2.5ms preprocess, 46.8ms inference, 0.6ms postprocess per image at shape (1, 3, 352, 640)\n",
      "\n",
      "image 1/1 c:\\Users\\sande\\OneDrive\\Desktop\\IITTP\\2_Asgn\\Sem2\\2_dl\\SemProject\\Automated_Yolo\\dataset\\UAVDT-processed\\val\\images\\img001079.jpg: 352x640 (no detections), 43.0ms\n",
      "Speed: 2.0ms preprocess, 43.0ms inference, 0.5ms postprocess per image at shape (1, 3, 352, 640)\n"
     ]
    },
    {
     "name": "stderr",
     "output_type": "stream",
     "text": [
      " 98%|█████████▊| 1079/1101 [01:18<00:01, 13.01it/s]"
     ]
    },
    {
     "name": "stdout",
     "output_type": "stream",
     "text": [
      "\n",
      "image 1/1 c:\\Users\\sande\\OneDrive\\Desktop\\IITTP\\2_Asgn\\Sem2\\2_dl\\SemProject\\Automated_Yolo\\dataset\\UAVDT-processed\\val\\images\\img001080.jpg: 352x640 (no detections), 59.2ms\n",
      "Speed: 2.2ms preprocess, 59.2ms inference, 0.6ms postprocess per image at shape (1, 3, 352, 640)\n",
      "\n",
      "image 1/1 c:\\Users\\sande\\OneDrive\\Desktop\\IITTP\\2_Asgn\\Sem2\\2_dl\\SemProject\\Automated_Yolo\\dataset\\UAVDT-processed\\val\\images\\img001081.jpg: 352x640 (no detections), 51.2ms\n",
      "Speed: 2.6ms preprocess, 51.2ms inference, 0.5ms postprocess per image at shape (1, 3, 352, 640)\n"
     ]
    },
    {
     "name": "stderr",
     "output_type": "stream",
     "text": [
      " 98%|█████████▊| 1081/1101 [01:18<00:01, 12.29it/s]"
     ]
    },
    {
     "name": "stdout",
     "output_type": "stream",
     "text": [
      "\n",
      "image 1/1 c:\\Users\\sande\\OneDrive\\Desktop\\IITTP\\2_Asgn\\Sem2\\2_dl\\SemProject\\Automated_Yolo\\dataset\\UAVDT-processed\\val\\images\\img001082.jpg: 352x640 (no detections), 43.7ms\n",
      "Speed: 2.4ms preprocess, 43.7ms inference, 0.6ms postprocess per image at shape (1, 3, 352, 640)\n",
      "\n",
      "image 1/1 c:\\Users\\sande\\OneDrive\\Desktop\\IITTP\\2_Asgn\\Sem2\\2_dl\\SemProject\\Automated_Yolo\\dataset\\UAVDT-processed\\val\\images\\img001083.jpg: 352x640 (no detections), 43.3ms\n",
      "Speed: 2.2ms preprocess, 43.3ms inference, 0.5ms postprocess per image at shape (1, 3, 352, 640)\n"
     ]
    },
    {
     "name": "stderr",
     "output_type": "stream",
     "text": [
      " 98%|█████████▊| 1083/1101 [01:19<00:01, 12.55it/s]"
     ]
    },
    {
     "name": "stdout",
     "output_type": "stream",
     "text": [
      "\n",
      "image 1/1 c:\\Users\\sande\\OneDrive\\Desktop\\IITTP\\2_Asgn\\Sem2\\2_dl\\SemProject\\Automated_Yolo\\dataset\\UAVDT-processed\\val\\images\\img001084.jpg: 352x640 (no detections), 47.1ms\n",
      "Speed: 2.2ms preprocess, 47.1ms inference, 0.5ms postprocess per image at shape (1, 3, 352, 640)\n",
      "\n",
      "image 1/1 c:\\Users\\sande\\OneDrive\\Desktop\\IITTP\\2_Asgn\\Sem2\\2_dl\\SemProject\\Automated_Yolo\\dataset\\UAVDT-processed\\val\\images\\img001085.jpg: 352x640 (no detections), 44.8ms\n",
      "Speed: 2.4ms preprocess, 44.8ms inference, 0.6ms postprocess per image at shape (1, 3, 352, 640)\n"
     ]
    },
    {
     "name": "stderr",
     "output_type": "stream",
     "text": [
      " 99%|█████████▊| 1085/1101 [01:19<00:01, 12.92it/s]"
     ]
    },
    {
     "name": "stdout",
     "output_type": "stream",
     "text": [
      "\n",
      "image 1/1 c:\\Users\\sande\\OneDrive\\Desktop\\IITTP\\2_Asgn\\Sem2\\2_dl\\SemProject\\Automated_Yolo\\dataset\\UAVDT-processed\\val\\images\\img001086.jpg: 352x640 (no detections), 44.3ms\n",
      "Speed: 2.2ms preprocess, 44.3ms inference, 0.5ms postprocess per image at shape (1, 3, 352, 640)\n",
      "\n",
      "image 1/1 c:\\Users\\sande\\OneDrive\\Desktop\\IITTP\\2_Asgn\\Sem2\\2_dl\\SemProject\\Automated_Yolo\\dataset\\UAVDT-processed\\val\\images\\img001087.jpg: 352x640 (no detections), 75.9ms\n",
      "Speed: 2.4ms preprocess, 75.9ms inference, 0.6ms postprocess per image at shape (1, 3, 352, 640)\n"
     ]
    },
    {
     "name": "stderr",
     "output_type": "stream",
     "text": [
      " 99%|█████████▊| 1087/1101 [01:19<00:01, 12.27it/s]"
     ]
    },
    {
     "name": "stdout",
     "output_type": "stream",
     "text": [
      "\n",
      "image 1/1 c:\\Users\\sande\\OneDrive\\Desktop\\IITTP\\2_Asgn\\Sem2\\2_dl\\SemProject\\Automated_Yolo\\dataset\\UAVDT-processed\\val\\images\\img001088.jpg: 352x640 (no detections), 46.6ms\n",
      "Speed: 2.3ms preprocess, 46.6ms inference, 0.6ms postprocess per image at shape (1, 3, 352, 640)\n",
      "\n",
      "image 1/1 c:\\Users\\sande\\OneDrive\\Desktop\\IITTP\\2_Asgn\\Sem2\\2_dl\\SemProject\\Automated_Yolo\\dataset\\UAVDT-processed\\val\\images\\img001089.jpg: 352x640 (no detections), 43.4ms\n",
      "Speed: 2.0ms preprocess, 43.4ms inference, 0.4ms postprocess per image at shape (1, 3, 352, 640)\n"
     ]
    },
    {
     "name": "stderr",
     "output_type": "stream",
     "text": [
      " 99%|█████████▉| 1089/1101 [01:19<00:00, 12.72it/s]"
     ]
    },
    {
     "name": "stdout",
     "output_type": "stream",
     "text": [
      "\n",
      "image 1/1 c:\\Users\\sande\\OneDrive\\Desktop\\IITTP\\2_Asgn\\Sem2\\2_dl\\SemProject\\Automated_Yolo\\dataset\\UAVDT-processed\\val\\images\\img001090.jpg: 352x640 (no detections), 45.5ms\n",
      "Speed: 2.2ms preprocess, 45.5ms inference, 0.6ms postprocess per image at shape (1, 3, 352, 640)\n",
      "\n",
      "image 1/1 c:\\Users\\sande\\OneDrive\\Desktop\\IITTP\\2_Asgn\\Sem2\\2_dl\\SemProject\\Automated_Yolo\\dataset\\UAVDT-processed\\val\\images\\img001091.jpg: 352x640 (no detections), 42.5ms\n",
      "Speed: 1.5ms preprocess, 42.5ms inference, 0.4ms postprocess per image at shape (1, 3, 352, 640)\n"
     ]
    },
    {
     "name": "stderr",
     "output_type": "stream",
     "text": [
      " 99%|█████████▉| 1091/1101 [01:19<00:00, 12.97it/s]"
     ]
    },
    {
     "name": "stdout",
     "output_type": "stream",
     "text": [
      "\n",
      "image 1/1 c:\\Users\\sande\\OneDrive\\Desktop\\IITTP\\2_Asgn\\Sem2\\2_dl\\SemProject\\Automated_Yolo\\dataset\\UAVDT-processed\\val\\images\\img001092.jpg: 352x640 (no detections), 45.2ms\n",
      "Speed: 2.1ms preprocess, 45.2ms inference, 0.4ms postprocess per image at shape (1, 3, 352, 640)\n",
      "\n",
      "image 1/1 c:\\Users\\sande\\OneDrive\\Desktop\\IITTP\\2_Asgn\\Sem2\\2_dl\\SemProject\\Automated_Yolo\\dataset\\UAVDT-processed\\val\\images\\img001093.jpg: 352x640 (no detections), 43.4ms\n",
      "Speed: 2.2ms preprocess, 43.4ms inference, 0.5ms postprocess per image at shape (1, 3, 352, 640)\n"
     ]
    },
    {
     "name": "stderr",
     "output_type": "stream",
     "text": [
      " 99%|█████████▉| 1093/1101 [01:19<00:00, 13.01it/s]"
     ]
    },
    {
     "name": "stdout",
     "output_type": "stream",
     "text": [
      "\n",
      "image 1/1 c:\\Users\\sande\\OneDrive\\Desktop\\IITTP\\2_Asgn\\Sem2\\2_dl\\SemProject\\Automated_Yolo\\dataset\\UAVDT-processed\\val\\images\\img001094.jpg: 352x640 (no detections), 45.5ms\n",
      "Speed: 2.2ms preprocess, 45.5ms inference, 0.4ms postprocess per image at shape (1, 3, 352, 640)\n",
      "\n",
      "image 1/1 c:\\Users\\sande\\OneDrive\\Desktop\\IITTP\\2_Asgn\\Sem2\\2_dl\\SemProject\\Automated_Yolo\\dataset\\UAVDT-processed\\val\\images\\img001095.jpg: 352x640 (no detections), 45.7ms\n",
      "Speed: 2.3ms preprocess, 45.7ms inference, 0.5ms postprocess per image at shape (1, 3, 352, 640)\n"
     ]
    },
    {
     "name": "stderr",
     "output_type": "stream",
     "text": [
      " 99%|█████████▉| 1095/1101 [01:19<00:00, 12.89it/s]"
     ]
    },
    {
     "name": "stdout",
     "output_type": "stream",
     "text": [
      "\n",
      "image 1/1 c:\\Users\\sande\\OneDrive\\Desktop\\IITTP\\2_Asgn\\Sem2\\2_dl\\SemProject\\Automated_Yolo\\dataset\\UAVDT-processed\\val\\images\\img001096.jpg: 352x640 (no detections), 46.6ms\n",
      "Speed: 2.2ms preprocess, 46.6ms inference, 0.6ms postprocess per image at shape (1, 3, 352, 640)\n",
      "\n",
      "image 1/1 c:\\Users\\sande\\OneDrive\\Desktop\\IITTP\\2_Asgn\\Sem2\\2_dl\\SemProject\\Automated_Yolo\\dataset\\UAVDT-processed\\val\\images\\img001097.jpg: 352x640 (no detections), 58.0ms\n",
      "Speed: 2.2ms preprocess, 58.0ms inference, 0.6ms postprocess per image at shape (1, 3, 352, 640)\n"
     ]
    },
    {
     "name": "stderr",
     "output_type": "stream",
     "text": [
      "100%|█████████▉| 1097/1101 [01:20<00:00, 12.45it/s]"
     ]
    },
    {
     "name": "stdout",
     "output_type": "stream",
     "text": [
      "\n",
      "image 1/1 c:\\Users\\sande\\OneDrive\\Desktop\\IITTP\\2_Asgn\\Sem2\\2_dl\\SemProject\\Automated_Yolo\\dataset\\UAVDT-processed\\val\\images\\img001098.jpg: 352x640 (no detections), 50.8ms\n",
      "Speed: 2.7ms preprocess, 50.8ms inference, 0.6ms postprocess per image at shape (1, 3, 352, 640)\n",
      "\n",
      "image 1/1 c:\\Users\\sande\\OneDrive\\Desktop\\IITTP\\2_Asgn\\Sem2\\2_dl\\SemProject\\Automated_Yolo\\dataset\\UAVDT-processed\\val\\images\\img001099.jpg: 352x640 (no detections), 44.9ms\n",
      "Speed: 2.2ms preprocess, 44.9ms inference, 0.5ms postprocess per image at shape (1, 3, 352, 640)\n"
     ]
    },
    {
     "name": "stderr",
     "output_type": "stream",
     "text": [
      "100%|█████████▉| 1099/1101 [01:20<00:00, 12.47it/s]"
     ]
    },
    {
     "name": "stdout",
     "output_type": "stream",
     "text": [
      "\n",
      "image 1/1 c:\\Users\\sande\\OneDrive\\Desktop\\IITTP\\2_Asgn\\Sem2\\2_dl\\SemProject\\Automated_Yolo\\dataset\\UAVDT-processed\\val\\images\\img001100.jpg: 352x640 (no detections), 49.0ms\n",
      "Speed: 2.3ms preprocess, 49.0ms inference, 0.5ms postprocess per image at shape (1, 3, 352, 640)\n",
      "\n",
      "image 1/1 c:\\Users\\sande\\OneDrive\\Desktop\\IITTP\\2_Asgn\\Sem2\\2_dl\\SemProject\\Automated_Yolo\\dataset\\UAVDT-processed\\val\\images\\img001101.jpg: 352x640 (no detections), 45.8ms\n",
      "Speed: 2.2ms preprocess, 45.8ms inference, 0.5ms postprocess per image at shape (1, 3, 352, 640)\n"
     ]
    },
    {
     "name": "stderr",
     "output_type": "stream",
     "text": [
      "100%|██████████| 1101/1101 [01:20<00:00, 13.68it/s]"
     ]
    },
    {
     "name": "stdout",
     "output_type": "stream",
     "text": [
      "✅ New dataset created at: dataset/UAVDT-new/val/\n"
     ]
    },
    {
     "name": "stderr",
     "output_type": "stream",
     "text": [
      "\n"
     ]
    }
   ],
   "source": [
    "import os\n",
    "import cv2\n",
    "from ultralytics import YOLO\n",
    "from tqdm import tqdm\n",
    "import shutil\n",
    "import os\n",
    "\n",
    "root_dir = \"runs/train\"\n",
    "\n",
    "best_weights = []\n",
    "\n",
    "for subdir in os.listdir(root_dir):\n",
    "    full_path = os.path.join(root_dir, subdir, \"weights\", \"best.pt\")\n",
    "    if os.path.isfile(full_path):\n",
    "        best_weights.append(full_path)\n",
    "\n",
    "# Print all found paths\n",
    "for path in best_weights:\n",
    "    print(path)\n",
    "\n",
    "\n",
    "# Paths\n",
    "image_dir = \"dataset/UAVDT-processed/val/images\"\n",
    "output_img_dir = \"dataset/UAVDT-new/images\"\n",
    "output_lbl_dir = \"dataset/UAVDT-new/labels\"\n",
    "\n",
    "# Create directories if they don't exist\n",
    "os.makedirs(output_img_dir, exist_ok=True)\n",
    "os.makedirs(output_lbl_dir, exist_ok=True)\n",
    "\n",
    "# Load model\n",
    "model = YOLO(path)\n",
    "\n",
    "# Process each image\n",
    "for img_file in tqdm(sorted(os.listdir(image_dir))):\n",
    "    if not img_file.endswith(\".jpg\"):\n",
    "        continue\n",
    "\n",
    "    img_path = os.path.join(image_dir, img_file)\n",
    "    results = model(img_path, conf=0.25)\n",
    "\n",
    "    # Get image dimensions\n",
    "    img = cv2.imread(img_path)\n",
    "    h, w = img.shape[:2]\n",
    "\n",
    "    # Save prediction as YOLO .txt\n",
    "    label_path = os.path.join(output_lbl_dir, img_file.replace(\".jpg\", \".txt\"))\n",
    "    with open(label_path, \"w\") as f:\n",
    "        for box in results[0].boxes.data.tolist():\n",
    "            cls, x1, y1, x2, y2, conf = int(box[5]), *box[:4], box[4]\n",
    "            xc = (x1 + x2) / 2 / w\n",
    "            yc = (y1 + y2) / 2 / h\n",
    "            bw = (x2 - x1) / w\n",
    "            bh = (y2 - y1) / h\n",
    "            f.write(f\"{cls} {xc:.6f} {yc:.6f} {bw:.6f} {bh:.6f}\\n\")\n",
    "\n",
    "    # Copy image to new images folder\n",
    "    shutil.copy(img_path, os.path.join(output_img_dir, img_file))\n",
    "\n",
    "print(\"✅ New dataset created at: dataset/UAVDT-new/val/\")\n"
   ]
  },
  {
   "cell_type": "code",
   "execution_count": 3,
   "id": "72f17806",
   "metadata": {},
   "outputs": [],
   "source": [
    "# !pip install mean_average_precision"
   ]
  },
  {
   "cell_type": "code",
   "execution_count": 15,
   "id": "8bdc7d6b",
   "metadata": {},
   "outputs": [
    {
     "name": "stderr",
     "output_type": "stream",
     "text": [
      "100%|██████████| 1101/1101 [00:00<00:00, 2126.47it/s]"
     ]
    },
    {
     "name": "stdout",
     "output_type": "stream",
     "text": [
      "\n",
      "📊 Evaluation Results (YOLOv8 Predictions vs GT):\n",
      "car       : AP@0.5 = 0.0000\n",
      "truck     : AP@0.5 = 0.0000\n",
      "bus       : AP@0.5 = 0.0000\n",
      "vehicle   : AP@0.5 = 0.0000\n",
      "\n",
      "🔹 Mean mAP@0.5: 0.0000\n"
     ]
    },
    {
     "name": "stderr",
     "output_type": "stream",
     "text": [
      "\n"
     ]
    }
   ],
   "source": [
    "import os\n",
    "import numpy as np\n",
    "from tqdm import tqdm\n",
    "from mean_average_precision import MetricBuilder\n",
    "\n",
    "# Directories\n",
    "gt_dir = \"dataset/UAVDT-processed/val/labels\"\n",
    "pred_dir = \"dataset/UAVDT-new/labels\"\n",
    "\n",
    "# Classes\n",
    "class_names = ['car', 'truck', 'bus', 'vehicle']\n",
    "num_classes = len(class_names)\n",
    "\n",
    "# Dummy image size (YOLO normalized)\n",
    "dummy_w, dummy_h = 640, 480\n",
    "\n",
    "# Convert YOLO (xc, yc, w, h) to (xmin, ymin, xmax, ymax)\n",
    "def to_xyxy(box, w_img=1, h_img=1):\n",
    "    xc, yc, bw, bh = box[:4]\n",
    "    xmin = (xc - bw / 2) * w_img\n",
    "    xmax = (xc + bw / 2) * w_img\n",
    "    ymin = (yc - bh / 2) * h_img\n",
    "    ymax = (yc + bh / 2) * h_img\n",
    "    return [xmin, ymin, xmax, ymax]\n",
    "\n",
    "# Initialize metric\n",
    "metric_fn = MetricBuilder.build_evaluation_metric(\"map_2d\", async_mode=False, num_classes=num_classes)\n",
    "\n",
    "# Iterate files\n",
    "for label_file in tqdm(os.listdir(gt_dir)):\n",
    "    if not label_file.endswith(\".txt\"):\n",
    "        continue\n",
    "\n",
    "    gt_path = os.path.join(gt_dir, label_file)\n",
    "    pred_path = os.path.join(pred_dir, label_file)\n",
    "\n",
    "    gt_boxes = []\n",
    "    pred_boxes = []\n",
    "\n",
    "    # Load ground truth\n",
    "    with open(gt_path, \"r\") as f:\n",
    "        for line in f:\n",
    "            cls, xc, yc, bw, bh = map(float, line.strip().split())\n",
    "            box = to_xyxy([xc, yc, bw, bh], dummy_w, dummy_h)\n",
    "            gt_boxes.append([*box, int(cls), 0, 0])  # Add difficult=0, crowd=0\n",
    "\n",
    "    # Load predictions\n",
    "    if os.path.exists(pred_path):\n",
    "        with open(pred_path, \"r\") as f:\n",
    "            for line in f:\n",
    "                parts = line.strip().split()\n",
    "                cls = int(parts[0])\n",
    "                xc, yc, bw, bh = map(float, parts[1:5])\n",
    "                conf = float(parts[5]) if len(parts) == 6 else 1.0\n",
    "                box = to_xyxy([xc, yc, bw, bh], dummy_w, dummy_h)\n",
    "                pred_boxes.append([*box, conf, cls])\n",
    "\n",
    "    # Add to metric\n",
    "    metric_fn.add(np.array(pred_boxes), np.array(gt_boxes))\n",
    "\n",
    "# Compute evaluation results\n",
    "results = metric_fn.value(iou_thresholds=[0.5], recall_thresholds=np.linspace(0.0, 1.0, 11))\n",
    "\n",
    "print(\"\\n📊 Evaluation Results (YOLOv8 Predictions vs GT):\")\n",
    "for cls_id, class_name in enumerate(class_names):\n",
    "    try:\n",
    "        ap50 = results[0.5][cls_id][\"ap\"]\n",
    "        print(f\"{class_name:<10}: AP@0.5 = {ap50:.4f}\")\n",
    "    except:\n",
    "        print(f\"{class_name:<10}: AP@0.5 = N/A\")\n",
    "\n",
    "print(f\"\\n🔹 Mean mAP@0.5: {results['mAP']:.4f}\")\n",
    "\n"
   ]
  },
  {
   "cell_type": "markdown",
   "id": "63791729",
   "metadata": {},
   "source": [
    "# Save back into same dataset UAVDT-processed"
   ]
  },
  {
   "cell_type": "code",
   "execution_count": null,
   "id": "1ca10440",
   "metadata": {},
   "outputs": [],
   "source": [
    "# import os\n",
    "# import cv2\n",
    "# from ultralytics import YOLO\n",
    "# from tqdm import tqdm\n",
    "# import shutil\n",
    "# import os\n",
    "\n",
    "# root_dir = \"runs/train\"\n",
    "\n",
    "# best_weights = []\n",
    "\n",
    "# for subdir in os.listdir(root_dir):\n",
    "#     full_path = os.path.join(root_dir, subdir, \"weights\", \"best.pt\")\n",
    "#     if os.path.isfile(full_path):\n",
    "#         best_weights.append(full_path)\n",
    "\n",
    "# # Print all found paths\n",
    "# for path in best_weights:\n",
    "#     print(path)\n",
    "\n",
    "\n",
    "# # Paths\n",
    "# image_dir = \"dataset/UAVDT-processed/val/images\"\n",
    "# output_img_dir = \"dataset/UAVDT-processed/train/images\"\n",
    "# output_lbl_dir = \"dataset/UAVDT-processed/train/labels\"\n",
    "\n",
    "# # Create directories if they don't exist\n",
    "# os.makedirs(output_img_dir, exist_ok=True)\n",
    "# os.makedirs(output_lbl_dir, exist_ok=True)\n",
    "\n",
    "# # Load model\n",
    "# model = YOLO(path)\n",
    "\n",
    "# # Process each image\n",
    "# for img_file in tqdm(sorted(os.listdir(image_dir))):\n",
    "#     if not img_file.endswith(\".jpg\"):\n",
    "#         continue\n",
    "\n",
    "#     img_path = os.path.join(image_dir, img_file)\n",
    "#     results = model(img_path, conf=0.25)\n",
    "\n",
    "#     # Get image dimensions\n",
    "#     img = cv2.imread(img_path)\n",
    "#     h, w = img.shape[:2]\n",
    "\n",
    "#     # Save prediction as YOLO .txt\n",
    "#     label_path = os.path.join(output_lbl_dir, img_file.replace(\".jpg\", \".txt\"))\n",
    "#     with open(label_path, \"w\") as f:\n",
    "#         for box in results[0].boxes.data.tolist():\n",
    "#             cls, x1, y1, x2, y2, conf = int(box[5]), *box[:4], box[4]\n",
    "#             xc = (x1 + x2) / 2 / w\n",
    "#             yc = (y1 + y2) / 2 / h\n",
    "#             bw = (x2 - x1) / w\n",
    "#             bh = (y2 - y1) / h\n",
    "#             f.write(f\"{cls} {xc:.6f} {yc:.6f} {bw:.6f} {bh:.6f}\\n\")\n",
    "\n",
    "#     # Copy image to new images folder\n",
    "#     shutil.copy(img_path, os.path.join(output_img_dir, img_file))\n",
    "\n",
    "# print(\"✅ New dataset created at: dataset/UAVDT-new/val/\")\n"
   ]
  },
  {
   "cell_type": "markdown",
   "id": "7b6c1d63",
   "metadata": {},
   "source": [
    "# Predcition on videos "
   ]
  },
  {
   "cell_type": "code",
   "execution_count": 18,
   "id": "e227cd78",
   "metadata": {},
   "outputs": [
    {
     "name": "stdout",
     "output_type": "stream",
     "text": [
      "[INFO] Extracting frames...\n",
      "[INFO] Running inference...\n",
      "\n",
      "0: 384x640 (no detections), 61.0ms\n",
      "Speed: 1.8ms preprocess, 61.0ms inference, 0.6ms postprocess per image at shape (1, 3, 384, 640)\n",
      "\n",
      "0: 384x640 (no detections), 44.8ms\n",
      "Speed: 2.9ms preprocess, 44.8ms inference, 0.5ms postprocess per image at shape (1, 3, 384, 640)\n",
      "\n",
      "0: 384x640 (no detections), 45.8ms\n",
      "Speed: 2.1ms preprocess, 45.8ms inference, 0.4ms postprocess per image at shape (1, 3, 384, 640)\n",
      "\n",
      "0: 384x640 (no detections), 44.1ms\n",
      "Speed: 2.4ms preprocess, 44.1ms inference, 0.5ms postprocess per image at shape (1, 3, 384, 640)\n",
      "\n",
      "0: 384x640 (no detections), 46.1ms\n",
      "Speed: 2.4ms preprocess, 46.1ms inference, 0.4ms postprocess per image at shape (1, 3, 384, 640)\n",
      "\n",
      "0: 384x640 (no detections), 46.2ms\n",
      "Speed: 2.3ms preprocess, 46.2ms inference, 0.5ms postprocess per image at shape (1, 3, 384, 640)\n",
      "\n",
      "0: 384x640 (no detections), 44.9ms\n",
      "Speed: 2.3ms preprocess, 44.9ms inference, 0.4ms postprocess per image at shape (1, 3, 384, 640)\n",
      "\n",
      "0: 384x640 (no detections), 43.4ms\n",
      "Speed: 1.9ms preprocess, 43.4ms inference, 0.5ms postprocess per image at shape (1, 3, 384, 640)\n",
      "\n",
      "0: 384x640 (no detections), 42.0ms\n",
      "Speed: 1.7ms preprocess, 42.0ms inference, 0.4ms postprocess per image at shape (1, 3, 384, 640)\n",
      "\n",
      "0: 384x640 (no detections), 47.8ms\n",
      "Speed: 1.8ms preprocess, 47.8ms inference, 0.6ms postprocess per image at shape (1, 3, 384, 640)\n",
      "\n",
      "0: 384x640 (no detections), 44.2ms\n",
      "Speed: 2.3ms preprocess, 44.2ms inference, 0.4ms postprocess per image at shape (1, 3, 384, 640)\n",
      "\n",
      "0: 384x640 (no detections), 41.6ms\n",
      "Speed: 1.8ms preprocess, 41.6ms inference, 0.4ms postprocess per image at shape (1, 3, 384, 640)\n",
      "\n",
      "0: 384x640 (no detections), 41.1ms\n",
      "Speed: 1.8ms preprocess, 41.1ms inference, 0.4ms postprocess per image at shape (1, 3, 384, 640)\n",
      "\n",
      "0: 384x640 (no detections), 44.7ms\n",
      "Speed: 2.5ms preprocess, 44.7ms inference, 0.5ms postprocess per image at shape (1, 3, 384, 640)\n",
      "\n",
      "0: 384x640 (no detections), 45.0ms\n",
      "Speed: 2.0ms preprocess, 45.0ms inference, 0.5ms postprocess per image at shape (1, 3, 384, 640)\n",
      "\n",
      "0: 384x640 (no detections), 47.9ms\n",
      "Speed: 2.3ms preprocess, 47.9ms inference, 0.6ms postprocess per image at shape (1, 3, 384, 640)\n",
      "\n",
      "0: 384x640 (no detections), 42.4ms\n",
      "Speed: 2.1ms preprocess, 42.4ms inference, 0.4ms postprocess per image at shape (1, 3, 384, 640)\n",
      "\n",
      "0: 384x640 (no detections), 44.2ms\n",
      "Speed: 2.0ms preprocess, 44.2ms inference, 0.4ms postprocess per image at shape (1, 3, 384, 640)\n",
      "[INFO] Drawing results...\n",
      "[INFO] Creating final video...\n",
      "[DONE] Video labeling complete!\n"
     ]
    }
   ],
   "source": [
    "import cv2\n",
    "import os\n",
    "import torch\n",
    "import numpy as np\n",
    "from pathlib import Path\n",
    "\n",
    "# ------------------- CONFIG -------------------\n",
    "VIDEO_PATH = \"video.mp4\"\n",
    "OUTPUT_DIR = \"video_output\"\n",
    "CONF_THRESHOLD = 0.3\n",
    "FRAME_INTERVAL = 10\n",
    "# ----------------------------------------------\n",
    "\n",
    "# Check if video file exists and can be opened\n",
    "if not os.path.exists(VIDEO_PATH):\n",
    "    raise FileNotFoundError(f\"[ERROR] Video file not found: {VIDEO_PATH}\")\n",
    "\n",
    "cap = cv2.VideoCapture(VIDEO_PATH)\n",
    "if not cap.isOpened():\n",
    "    raise IOError(f\"[ERROR] Cannot open video file: {VIDEO_PATH}\")\n",
    "cap.release()\n",
    "\n",
    "\n",
    "# Assumes 'model' is already loaded and ready\n",
    "model.conf = CONF_THRESHOLD  # Optional: set confidence threshold\n",
    "\n",
    "frame_dir = os.path.join(OUTPUT_DIR, \"frames\")\n",
    "pred_dir = os.path.join(OUTPUT_DIR, \"predictions\")\n",
    "draw_dir = os.path.join(OUTPUT_DIR, \"annotated_frames\")\n",
    "os.makedirs(frame_dir, exist_ok=True)\n",
    "os.makedirs(pred_dir, exist_ok=True)\n",
    "os.makedirs(draw_dir, exist_ok=True)\n",
    "\n",
    "# Step 1: Extract frames\n",
    "def extract_frames(video_path, output_folder, every_n=1):\n",
    "    cap = cv2.VideoCapture(video_path)\n",
    "    frame_idx, save_idx = 0, 0\n",
    "    while cap.isOpened():\n",
    "        ret, frame = cap.read()\n",
    "        if not ret: break\n",
    "        if frame_idx % every_n == 0:\n",
    "            out_path = os.path.join(output_folder, f\"frame_{save_idx:05}.jpg\")\n",
    "            cv2.imwrite(out_path, frame)\n",
    "            save_idx += 1\n",
    "        frame_idx += 1\n",
    "    cap.release()\n",
    "\n",
    "# Step 2: Run model on each frame and save predictions\n",
    "def infer_and_save(model, frames_folder, pred_folder):\n",
    "    image_paths = sorted(Path(frames_folder).glob(\"*.jpg\"))\n",
    "    for path in image_paths:\n",
    "        img = cv2.imread(str(path))\n",
    "        h, w = img.shape[:2]\n",
    "        results = model(img)[0]\n",
    "        preds = results.boxes.xyxy.cpu().numpy()\n",
    "        classes = results.boxes.cls.cpu().numpy()\n",
    "        txt_path = os.path.join(pred_folder, path.stem + \".txt\")\n",
    "        with open(txt_path, 'w') as f:\n",
    "            for i, (x1, y1, x2, y2) in enumerate(preds):\n",
    "                cls = int(classes[i])\n",
    "                x_center = ((x1 + x2) / 2) / w\n",
    "                y_center = ((y1 + y2) / 2) / h\n",
    "                bw = (x2 - x1) / w\n",
    "                bh = (y2 - y1) / h\n",
    "                f.write(f\"{cls} {x_center} {y_center} {bw} {bh}\\n\")\n",
    "\n",
    "\n",
    "# Step 3: Draw bounding boxes on frames\n",
    "def draw_results(frames_folder, pred_folder, draw_folder):\n",
    "    for path in sorted(Path(frames_folder).glob(\"*.jpg\")):\n",
    "        img = cv2.imread(str(path))\n",
    "        h, w = img.shape[:2]\n",
    "        txt_file = os.path.join(pred_folder, path.stem + \".txt\")\n",
    "        if os.path.exists(txt_file):\n",
    "            with open(txt_file) as f:\n",
    "                for line in f:\n",
    "                    cls, xc, yc, bw, bh = map(float, line.strip().split())\n",
    "                    x1 = int((xc - bw / 2) * w)\n",
    "                    y1 = int((yc - bh / 2) * h)\n",
    "                    x2 = int((xc + bw / 2) * w)\n",
    "                    y2 = int((yc + bh / 2) * h)\n",
    "                    cv2.rectangle(img, (x1, y1), (x2, y2), (0,255,0), 2)\n",
    "                    cv2.putText(img, f\"{class_id_to_name[int(cls)]}\", (x1, y1-5), cv2.FONT_HERSHEY_SIMPLEX, 0.5, (255,255,0), 1)\n",
    "        cv2.imwrite(os.path.join(draw_folder, path.name), img)\n",
    "\n",
    "# Step 4: Rebuild video\n",
    "def rebuild_video(input_folder, output_path, fps=20):\n",
    "    files = sorted(Path(input_folder).glob(\"*.jpg\"))\n",
    "    if not files: return\n",
    "    first = cv2.imread(str(files[0]))\n",
    "    h, w = first.shape[:2]\n",
    "    out = cv2.VideoWriter(output_path, cv2.VideoWriter_fourcc(*\"mp4v\"), fps, (w, h))\n",
    "    for file in files:\n",
    "        frame = cv2.imread(str(file))\n",
    "        out.write(frame)\n",
    "    out.release()\n",
    "\n",
    "# ------------------- RUN -------------------\n",
    "if __name__ == \"__main__\":\n",
    "    print(\"[INFO] Extracting frames...\")\n",
    "    extract_frames(VIDEO_PATH, frame_dir, every_n=FRAME_INTERVAL)\n",
    "\n",
    "    print(\"[INFO] Running inference...\")\n",
    "    infer_and_save(model, frame_dir, pred_dir)\n",
    "\n",
    "    print(\"[INFO] Drawing results...\")\n",
    "    draw_results(frame_dir, pred_dir, draw_dir)\n",
    "\n",
    "    print(\"[INFO] Creating final video...\")\n",
    "    rebuild_video(draw_dir, os.path.join(OUTPUT_DIR, \"labeled_video.mp4\"))\n",
    "\n",
    "    print(\"[DONE] Video labeling complete!\")\n"
   ]
  },
  {
   "cell_type": "markdown",
   "id": "5d8df5fc",
   "metadata": {},
   "source": [
    "# Save predciton again on same directory "
   ]
  },
  {
   "cell_type": "code",
   "execution_count": 33,
   "id": "e9208dee",
   "metadata": {},
   "outputs": [],
   "source": [
    "# ------------------- CONFIG ------------------- \n",
    "VIDEO_PATH = \"video.mp4\" \n",
    "FRAME_INTERVAL = 20\n",
    "CONF_THRESHOLD = 0.3\n",
    "\n",
    "# Updated paths for retraining\n",
    "IMAGE_SAVE_DIR = \"dataset/UAVDT-new/images\"\n",
    "LABEL_SAVE_DIR = \"dataset/UAVDT-new/labels\"\n",
    "# ----------------------------------------------\n",
    "\n",
    "# Assumes 'model' is already loaded and ready\n",
    "model.conf = CONF_THRESHOLD  # Optional: set confidence threshold\n",
    "\n",
    "os.makedirs(IMAGE_SAVE_DIR, exist_ok=True)\n",
    "os.makedirs(LABEL_SAVE_DIR, exist_ok=True)\n"
   ]
  },
  {
   "cell_type": "code",
   "execution_count": 37,
   "id": "24d18d20",
   "metadata": {},
   "outputs": [],
   "source": [
    "# Step 1: Extract frames\n",
    "def extract_frames(video_path, output_folder, every_n=1):\n",
    "    cap = cv2.VideoCapture(video_path)\n",
    "    frame_idx, save_idx = 0, 0\n",
    "    while cap.isOpened():\n",
    "        ret, frame = cap.read()\n",
    "        if not ret: break\n",
    "        if frame_idx % every_n == 0:\n",
    "            out_path = os.path.join(output_folder, f\"frame_{save_idx:05}.jpg\")\n",
    "            cv2.imwrite(out_path, frame)\n",
    "            save_idx += 1\n",
    "        frame_idx += 1\n",
    "    cap.release()\n",
    "\n",
    "def infer_and_save(model, frames_folder, label_folder):\n",
    "    image_paths = sorted(Path(frames_folder).glob(\"*.jpg\"))\n",
    "    for path in image_paths:\n",
    "        img = cv2.imread(str(path))\n",
    "        h, w = img.shape[:2]\n",
    "        results = model(img)[0]\n",
    "        preds = results.boxes.xyxy.cpu().numpy()\n",
    "        classes = results.boxes.cls.cpu().numpy()\n",
    "        txt_path = os.path.join(label_folder, path.stem + \".txt\")\n",
    "        \n",
    "        with open(txt_path, 'w') as f:\n",
    "            for i, (x1, y1, x2, y2) in enumerate(preds):\n",
    "                cls = int(classes[i])\n",
    "                x_center = ((x1 + x2) / 2) / w\n",
    "                y_center = ((y1 + y2) / 2) / h\n",
    "                bw = (x2 - x1) / w\n",
    "                bh = (y2 - y1) / h\n",
    "                f.write(f\"{cls} {x_center:.6f} {y_center:.6f} {bw:.6f} {bh:.6f}\\n\")\n",
    "\n",
    "        # Optional: Copy image only if not already in destination\n",
    "        dst_path = os.path.join(IMAGE_SAVE_DIR, path.name)\n",
    "        if str(path.resolve()) != str(Path(dst_path).resolve()):\n",
    "            shutil.copy(str(path), dst_path)\n"
   ]
  },
  {
   "cell_type": "code",
   "execution_count": 38,
   "id": "31c7daca",
   "metadata": {},
   "outputs": [
    {
     "name": "stdout",
     "output_type": "stream",
     "text": [
      "[INFO] Extracting frames...\n",
      "[INFO] Running inference...\n",
      "\n",
      "0: 384x640 4 cars, 50.5ms\n",
      "Speed: 1.7ms preprocess, 50.5ms inference, 0.8ms postprocess per image at shape (1, 3, 384, 640)\n",
      "\n",
      "0: 384x640 9 cars, 46.5ms\n",
      "Speed: 2.4ms preprocess, 46.5ms inference, 0.8ms postprocess per image at shape (1, 3, 384, 640)\n",
      "\n",
      "0: 384x640 7 cars, 44.2ms\n",
      "Speed: 2.4ms preprocess, 44.2ms inference, 0.9ms postprocess per image at shape (1, 3, 384, 640)\n",
      "\n",
      "0: 384x640 7 cars, 45.9ms\n",
      "Speed: 2.0ms preprocess, 45.9ms inference, 0.7ms postprocess per image at shape (1, 3, 384, 640)\n",
      "\n",
      "0: 384x640 5 cars, 45.5ms\n",
      "Speed: 2.2ms preprocess, 45.5ms inference, 0.9ms postprocess per image at shape (1, 3, 384, 640)\n",
      "\n",
      "0: 384x640 7 cars, 43.3ms\n",
      "Speed: 2.0ms preprocess, 43.3ms inference, 0.8ms postprocess per image at shape (1, 3, 384, 640)\n",
      "\n",
      "0: 384x640 5 cars, 48.7ms\n",
      "Speed: 2.1ms preprocess, 48.7ms inference, 0.9ms postprocess per image at shape (1, 3, 384, 640)\n",
      "\n",
      "0: 384x640 6 cars, 49.2ms\n",
      "Speed: 2.1ms preprocess, 49.2ms inference, 0.9ms postprocess per image at shape (1, 3, 384, 640)\n",
      "\n",
      "0: 384x640 8 cars, 50.9ms\n",
      "Speed: 1.9ms preprocess, 50.9ms inference, 0.9ms postprocess per image at shape (1, 3, 384, 640)\n",
      "\n",
      "0: 352x640 18 cars, 46.8ms\n",
      "Speed: 2.2ms preprocess, 46.8ms inference, 0.8ms postprocess per image at shape (1, 3, 352, 640)\n",
      "\n",
      "0: 352x640 19 cars, 43.9ms\n",
      "Speed: 1.7ms preprocess, 43.9ms inference, 1.1ms postprocess per image at shape (1, 3, 352, 640)\n",
      "\n",
      "0: 352x640 18 cars, 42.1ms\n",
      "Speed: 2.0ms preprocess, 42.1ms inference, 0.9ms postprocess per image at shape (1, 3, 352, 640)\n",
      "\n",
      "0: 352x640 16 cars, 45.9ms\n",
      "Speed: 1.8ms preprocess, 45.9ms inference, 0.9ms postprocess per image at shape (1, 3, 352, 640)\n",
      "\n",
      "0: 352x640 17 cars, 36.0ms\n",
      "Speed: 1.8ms preprocess, 36.0ms inference, 0.9ms postprocess per image at shape (1, 3, 352, 640)\n",
      "\n",
      "0: 352x640 18 cars, 40.1ms\n",
      "Speed: 1.9ms preprocess, 40.1ms inference, 1.0ms postprocess per image at shape (1, 3, 352, 640)\n",
      "\n",
      "0: 352x640 18 cars, 40.3ms\n",
      "Speed: 1.6ms preprocess, 40.3ms inference, 0.9ms postprocess per image at shape (1, 3, 352, 640)\n",
      "\n",
      "0: 352x640 17 cars, 41.4ms\n",
      "Speed: 1.9ms preprocess, 41.4ms inference, 0.7ms postprocess per image at shape (1, 3, 352, 640)\n",
      "\n",
      "0: 352x640 17 cars, 43.1ms\n",
      "Speed: 1.9ms preprocess, 43.1ms inference, 1.1ms postprocess per image at shape (1, 3, 352, 640)\n",
      "\n",
      "0: 352x640 19 cars, 41.0ms\n",
      "Speed: 2.2ms preprocess, 41.0ms inference, 0.8ms postprocess per image at shape (1, 3, 352, 640)\n",
      "\n",
      "0: 352x640 16 cars, 40.1ms\n",
      "Speed: 1.6ms preprocess, 40.1ms inference, 0.8ms postprocess per image at shape (1, 3, 352, 640)\n",
      "\n",
      "0: 352x640 17 cars, 39.3ms\n",
      "Speed: 2.1ms preprocess, 39.3ms inference, 0.9ms postprocess per image at shape (1, 3, 352, 640)\n",
      "\n",
      "0: 352x640 20 cars, 41.6ms\n",
      "Speed: 1.8ms preprocess, 41.6ms inference, 0.8ms postprocess per image at shape (1, 3, 352, 640)\n",
      "\n",
      "0: 352x640 23 cars, 47.0ms\n",
      "Speed: 1.9ms preprocess, 47.0ms inference, 1.0ms postprocess per image at shape (1, 3, 352, 640)\n",
      "\n",
      "0: 352x640 17 cars, 56.1ms\n",
      "Speed: 1.9ms preprocess, 56.1ms inference, 0.9ms postprocess per image at shape (1, 3, 352, 640)\n",
      "\n",
      "0: 352x640 19 cars, 49.6ms\n",
      "Speed: 2.4ms preprocess, 49.6ms inference, 0.9ms postprocess per image at shape (1, 3, 352, 640)\n",
      "\n",
      "0: 352x640 16 cars, 43.2ms\n",
      "Speed: 1.8ms preprocess, 43.2ms inference, 0.9ms postprocess per image at shape (1, 3, 352, 640)\n",
      "\n",
      "0: 352x640 17 cars, 41.7ms\n",
      "Speed: 1.9ms preprocess, 41.7ms inference, 0.8ms postprocess per image at shape (1, 3, 352, 640)\n",
      "\n",
      "0: 352x640 17 cars, 41.9ms\n",
      "Speed: 1.7ms preprocess, 41.9ms inference, 0.7ms postprocess per image at shape (1, 3, 352, 640)\n",
      "\n",
      "0: 352x640 17 cars, 37.3ms\n",
      "Speed: 1.5ms preprocess, 37.3ms inference, 1.1ms postprocess per image at shape (1, 3, 352, 640)\n",
      "\n",
      "0: 352x640 16 cars, 34.2ms\n",
      "Speed: 1.3ms preprocess, 34.2ms inference, 0.7ms postprocess per image at shape (1, 3, 352, 640)\n",
      "\n",
      "0: 352x640 18 cars, 37.1ms\n",
      "Speed: 1.6ms preprocess, 37.1ms inference, 0.8ms postprocess per image at shape (1, 3, 352, 640)\n",
      "\n",
      "0: 352x640 24 cars, 35.6ms\n",
      "Speed: 1.5ms preprocess, 35.6ms inference, 0.8ms postprocess per image at shape (1, 3, 352, 640)\n",
      "\n",
      "0: 352x640 23 cars, 39.6ms\n",
      "Speed: 1.7ms preprocess, 39.6ms inference, 0.9ms postprocess per image at shape (1, 3, 352, 640)\n",
      "\n",
      "0: 352x640 20 cars, 38.5ms\n",
      "Speed: 1.5ms preprocess, 38.5ms inference, 0.9ms postprocess per image at shape (1, 3, 352, 640)\n",
      "\n",
      "0: 352x640 21 cars, 36.8ms\n",
      "Speed: 1.5ms preprocess, 36.8ms inference, 0.7ms postprocess per image at shape (1, 3, 352, 640)\n",
      "\n",
      "0: 352x640 21 cars, 40.4ms\n",
      "Speed: 1.3ms preprocess, 40.4ms inference, 0.9ms postprocess per image at shape (1, 3, 352, 640)\n",
      "\n",
      "0: 352x640 21 cars, 36.9ms\n",
      "Speed: 1.9ms preprocess, 36.9ms inference, 0.7ms postprocess per image at shape (1, 3, 352, 640)\n",
      "\n",
      "0: 352x640 23 cars, 37.6ms\n",
      "Speed: 1.4ms preprocess, 37.6ms inference, 0.7ms postprocess per image at shape (1, 3, 352, 640)\n",
      "\n",
      "0: 352x640 21 cars, 36.0ms\n",
      "Speed: 1.6ms preprocess, 36.0ms inference, 0.7ms postprocess per image at shape (1, 3, 352, 640)\n",
      "\n",
      "0: 352x640 17 cars, 38.4ms\n",
      "Speed: 1.7ms preprocess, 38.4ms inference, 0.8ms postprocess per image at shape (1, 3, 352, 640)\n",
      "\n",
      "0: 352x640 15 cars, 41.9ms\n",
      "Speed: 1.3ms preprocess, 41.9ms inference, 1.0ms postprocess per image at shape (1, 3, 352, 640)\n",
      "\n",
      "0: 352x640 21 cars, 48.0ms\n",
      "Speed: 2.2ms preprocess, 48.0ms inference, 0.8ms postprocess per image at shape (1, 3, 352, 640)\n",
      "\n",
      "0: 352x640 16 cars, 49.0ms\n",
      "Speed: 1.6ms preprocess, 49.0ms inference, 0.8ms postprocess per image at shape (1, 3, 352, 640)\n",
      "\n",
      "0: 352x640 16 cars, 44.2ms\n",
      "Speed: 2.1ms preprocess, 44.2ms inference, 0.8ms postprocess per image at shape (1, 3, 352, 640)\n",
      "\n",
      "0: 352x640 16 cars, 44.6ms\n",
      "Speed: 2.3ms preprocess, 44.6ms inference, 0.9ms postprocess per image at shape (1, 3, 352, 640)\n",
      "\n",
      "0: 352x640 16 cars, 42.1ms\n",
      "Speed: 2.0ms preprocess, 42.1ms inference, 0.8ms postprocess per image at shape (1, 3, 352, 640)\n",
      "\n",
      "0: 352x640 19 cars, 37.5ms\n",
      "Speed: 1.3ms preprocess, 37.5ms inference, 0.8ms postprocess per image at shape (1, 3, 352, 640)\n",
      "\n",
      "0: 352x640 13 cars, 40.0ms\n",
      "Speed: 1.3ms preprocess, 40.0ms inference, 0.9ms postprocess per image at shape (1, 3, 352, 640)\n",
      "\n",
      "0: 352x640 14 cars, 36.7ms\n",
      "Speed: 1.7ms preprocess, 36.7ms inference, 0.7ms postprocess per image at shape (1, 3, 352, 640)\n",
      "\n",
      "0: 352x640 14 cars, 41.4ms\n",
      "Speed: 1.3ms preprocess, 41.4ms inference, 0.9ms postprocess per image at shape (1, 3, 352, 640)\n",
      "\n",
      "0: 352x640 15 cars, 40.9ms\n",
      "Speed: 1.4ms preprocess, 40.9ms inference, 0.9ms postprocess per image at shape (1, 3, 352, 640)\n",
      "\n",
      "0: 352x640 17 cars, 39.8ms\n",
      "Speed: 1.4ms preprocess, 39.8ms inference, 0.7ms postprocess per image at shape (1, 3, 352, 640)\n",
      "\n",
      "0: 352x640 15 cars, 39.4ms\n",
      "Speed: 1.8ms preprocess, 39.4ms inference, 0.7ms postprocess per image at shape (1, 3, 352, 640)\n",
      "\n",
      "0: 352x640 14 cars, 39.9ms\n",
      "Speed: 1.6ms preprocess, 39.9ms inference, 0.9ms postprocess per image at shape (1, 3, 352, 640)\n",
      "\n",
      "0: 352x640 15 cars, 40.3ms\n",
      "Speed: 1.4ms preprocess, 40.3ms inference, 0.8ms postprocess per image at shape (1, 3, 352, 640)\n",
      "\n",
      "0: 352x640 15 cars, 39.6ms\n",
      "Speed: 1.7ms preprocess, 39.6ms inference, 0.7ms postprocess per image at shape (1, 3, 352, 640)\n",
      "\n",
      "0: 352x640 15 cars, 40.5ms\n",
      "Speed: 1.6ms preprocess, 40.5ms inference, 0.7ms postprocess per image at shape (1, 3, 352, 640)\n",
      "\n",
      "0: 352x640 17 cars, 39.3ms\n",
      "Speed: 1.6ms preprocess, 39.3ms inference, 1.1ms postprocess per image at shape (1, 3, 352, 640)\n",
      "\n",
      "0: 352x640 15 cars, 40.1ms\n",
      "Speed: 1.5ms preprocess, 40.1ms inference, 0.8ms postprocess per image at shape (1, 3, 352, 640)\n",
      "\n",
      "0: 352x640 16 cars, 42.2ms\n",
      "Speed: 1.9ms preprocess, 42.2ms inference, 1.0ms postprocess per image at shape (1, 3, 352, 640)\n",
      "\n",
      "0: 352x640 12 cars, 64.7ms\n",
      "Speed: 1.6ms preprocess, 64.7ms inference, 1.5ms postprocess per image at shape (1, 3, 352, 640)\n",
      "\n",
      "0: 352x640 18 cars, 53.4ms\n",
      "Speed: 1.8ms preprocess, 53.4ms inference, 1.0ms postprocess per image at shape (1, 3, 352, 640)\n",
      "\n",
      "0: 352x640 20 cars, 41.8ms\n",
      "Speed: 2.2ms preprocess, 41.8ms inference, 0.8ms postprocess per image at shape (1, 3, 352, 640)\n",
      "\n",
      "0: 352x640 16 cars, 41.9ms\n",
      "Speed: 2.0ms preprocess, 41.9ms inference, 0.7ms postprocess per image at shape (1, 3, 352, 640)\n",
      "\n",
      "0: 352x640 15 cars, 41.6ms\n",
      "Speed: 1.3ms preprocess, 41.6ms inference, 0.7ms postprocess per image at shape (1, 3, 352, 640)\n",
      "\n",
      "0: 352x640 12 cars, 38.6ms\n",
      "Speed: 1.7ms preprocess, 38.6ms inference, 0.8ms postprocess per image at shape (1, 3, 352, 640)\n",
      "\n",
      "0: 352x640 13 cars, 42.5ms\n",
      "Speed: 1.9ms preprocess, 42.5ms inference, 0.8ms postprocess per image at shape (1, 3, 352, 640)\n",
      "\n",
      "0: 352x640 14 cars, 44.9ms\n",
      "Speed: 1.5ms preprocess, 44.9ms inference, 1.0ms postprocess per image at shape (1, 3, 352, 640)\n",
      "\n",
      "0: 352x640 13 cars, 41.0ms\n",
      "Speed: 2.3ms preprocess, 41.0ms inference, 0.8ms postprocess per image at shape (1, 3, 352, 640)\n",
      "\n",
      "0: 352x640 15 cars, 40.4ms\n",
      "Speed: 2.1ms preprocess, 40.4ms inference, 0.9ms postprocess per image at shape (1, 3, 352, 640)\n",
      "\n",
      "0: 352x640 15 cars, 40.2ms\n",
      "Speed: 1.8ms preprocess, 40.2ms inference, 0.9ms postprocess per image at shape (1, 3, 352, 640)\n",
      "\n",
      "0: 352x640 17 cars, 41.2ms\n",
      "Speed: 1.4ms preprocess, 41.2ms inference, 0.8ms postprocess per image at shape (1, 3, 352, 640)\n",
      "\n",
      "0: 352x640 18 cars, 40.6ms\n",
      "Speed: 2.0ms preprocess, 40.6ms inference, 0.7ms postprocess per image at shape (1, 3, 352, 640)\n",
      "\n",
      "0: 352x640 13 cars, 42.5ms\n",
      "Speed: 1.5ms preprocess, 42.5ms inference, 0.9ms postprocess per image at shape (1, 3, 352, 640)\n",
      "\n",
      "0: 352x640 18 cars, 44.0ms\n",
      "Speed: 1.5ms preprocess, 44.0ms inference, 0.8ms postprocess per image at shape (1, 3, 352, 640)\n",
      "\n",
      "0: 352x640 13 cars, 44.9ms\n",
      "Speed: 2.0ms preprocess, 44.9ms inference, 0.9ms postprocess per image at shape (1, 3, 352, 640)\n",
      "\n",
      "0: 352x640 21 cars, 40.2ms\n",
      "Speed: 1.9ms preprocess, 40.2ms inference, 0.9ms postprocess per image at shape (1, 3, 352, 640)\n",
      "\n",
      "0: 352x640 16 cars, 42.4ms\n",
      "Speed: 1.8ms preprocess, 42.4ms inference, 1.0ms postprocess per image at shape (1, 3, 352, 640)\n",
      "\n",
      "0: 352x640 15 cars, 41.8ms\n",
      "Speed: 1.7ms preprocess, 41.8ms inference, 1.0ms postprocess per image at shape (1, 3, 352, 640)\n",
      "\n",
      "0: 352x640 18 cars, 41.1ms\n",
      "Speed: 1.3ms preprocess, 41.1ms inference, 0.7ms postprocess per image at shape (1, 3, 352, 640)\n",
      "\n",
      "0: 352x640 19 cars, 42.9ms\n",
      "Speed: 1.5ms preprocess, 42.9ms inference, 0.8ms postprocess per image at shape (1, 3, 352, 640)\n",
      "\n",
      "0: 352x640 19 cars, 45.6ms\n",
      "Speed: 1.9ms preprocess, 45.6ms inference, 0.9ms postprocess per image at shape (1, 3, 352, 640)\n",
      "\n",
      "0: 352x640 20 cars, 42.5ms\n",
      "Speed: 1.7ms preprocess, 42.5ms inference, 0.7ms postprocess per image at shape (1, 3, 352, 640)\n",
      "\n",
      "0: 352x640 18 cars, 41.1ms\n",
      "Speed: 2.1ms preprocess, 41.1ms inference, 1.0ms postprocess per image at shape (1, 3, 352, 640)\n",
      "\n",
      "0: 352x640 20 cars, 39.3ms\n",
      "Speed: 1.6ms preprocess, 39.3ms inference, 0.7ms postprocess per image at shape (1, 3, 352, 640)\n",
      "\n",
      "0: 352x640 13 cars, 39.4ms\n",
      "Speed: 1.4ms preprocess, 39.4ms inference, 0.8ms postprocess per image at shape (1, 3, 352, 640)\n",
      "\n",
      "0: 352x640 14 cars, 45.3ms\n",
      "Speed: 1.7ms preprocess, 45.3ms inference, 1.0ms postprocess per image at shape (1, 3, 352, 640)\n",
      "\n",
      "0: 352x640 16 cars, 43.9ms\n",
      "Speed: 1.9ms preprocess, 43.9ms inference, 0.8ms postprocess per image at shape (1, 3, 352, 640)\n",
      "\n",
      "0: 352x640 18 cars, 39.9ms\n",
      "Speed: 1.7ms preprocess, 39.9ms inference, 1.0ms postprocess per image at shape (1, 3, 352, 640)\n",
      "\n",
      "0: 352x640 13 cars, 39.3ms\n",
      "Speed: 1.4ms preprocess, 39.3ms inference, 0.7ms postprocess per image at shape (1, 3, 352, 640)\n",
      "\n",
      "0: 352x640 17 cars, 38.1ms\n",
      "Speed: 1.5ms preprocess, 38.1ms inference, 0.7ms postprocess per image at shape (1, 3, 352, 640)\n",
      "\n",
      "0: 352x640 15 cars, 39.0ms\n",
      "Speed: 1.7ms preprocess, 39.0ms inference, 0.8ms postprocess per image at shape (1, 3, 352, 640)\n",
      "\n",
      "0: 352x640 14 cars, 39.1ms\n",
      "Speed: 2.0ms preprocess, 39.1ms inference, 0.7ms postprocess per image at shape (1, 3, 352, 640)\n",
      "\n",
      "0: 352x640 12 cars, 67.2ms\n",
      "Speed: 1.8ms preprocess, 67.2ms inference, 1.5ms postprocess per image at shape (1, 3, 352, 640)\n",
      "\n",
      "0: 352x640 13 cars, 46.9ms\n",
      "Speed: 1.8ms preprocess, 46.9ms inference, 0.8ms postprocess per image at shape (1, 3, 352, 640)\n",
      "\n",
      "0: 352x640 13 cars, 41.7ms\n",
      "Speed: 2.3ms preprocess, 41.7ms inference, 0.9ms postprocess per image at shape (1, 3, 352, 640)\n",
      "\n",
      "0: 352x640 14 cars, 41.7ms\n",
      "Speed: 1.5ms preprocess, 41.7ms inference, 0.7ms postprocess per image at shape (1, 3, 352, 640)\n",
      "\n",
      "0: 352x640 16 cars, 39.0ms\n",
      "Speed: 1.6ms preprocess, 39.0ms inference, 0.7ms postprocess per image at shape (1, 3, 352, 640)\n",
      "\n",
      "0: 352x640 18 cars, 41.0ms\n",
      "Speed: 1.8ms preprocess, 41.0ms inference, 0.9ms postprocess per image at shape (1, 3, 352, 640)\n",
      "\n",
      "0: 352x640 18 cars, 38.0ms\n",
      "Speed: 1.8ms preprocess, 38.0ms inference, 0.7ms postprocess per image at shape (1, 3, 352, 640)\n",
      "\n",
      "0: 352x640 14 cars, 39.1ms\n",
      "Speed: 1.9ms preprocess, 39.1ms inference, 0.9ms postprocess per image at shape (1, 3, 352, 640)\n",
      "\n",
      "0: 352x640 17 cars, 40.6ms\n",
      "Speed: 1.6ms preprocess, 40.6ms inference, 0.8ms postprocess per image at shape (1, 3, 352, 640)\n",
      "\n",
      "0: 352x640 13 cars, 40.0ms\n",
      "Speed: 1.9ms preprocess, 40.0ms inference, 0.9ms postprocess per image at shape (1, 3, 352, 640)\n",
      "\n",
      "0: 352x640 15 cars, 37.4ms\n",
      "Speed: 1.5ms preprocess, 37.4ms inference, 0.7ms postprocess per image at shape (1, 3, 352, 640)\n",
      "\n",
      "0: 352x640 14 cars, 40.8ms\n",
      "Speed: 2.1ms preprocess, 40.8ms inference, 0.9ms postprocess per image at shape (1, 3, 352, 640)\n",
      "\n",
      "0: 352x640 19 cars, 41.7ms\n",
      "Speed: 1.9ms preprocess, 41.7ms inference, 0.9ms postprocess per image at shape (1, 3, 352, 640)\n",
      "\n",
      "0: 352x640 15 cars, 37.7ms\n",
      "Speed: 1.7ms preprocess, 37.7ms inference, 0.7ms postprocess per image at shape (1, 3, 352, 640)\n",
      "\n",
      "0: 352x640 9 cars, 37.3ms\n",
      "Speed: 2.1ms preprocess, 37.3ms inference, 0.7ms postprocess per image at shape (1, 3, 352, 640)\n",
      "\n",
      "0: 352x640 12 cars, 39.1ms\n",
      "Speed: 2.2ms preprocess, 39.1ms inference, 0.9ms postprocess per image at shape (1, 3, 352, 640)\n",
      "\n",
      "0: 352x640 10 cars, 39.3ms\n",
      "Speed: 1.3ms preprocess, 39.3ms inference, 0.8ms postprocess per image at shape (1, 3, 352, 640)\n",
      "\n",
      "0: 352x640 13 cars, 36.4ms\n",
      "Speed: 1.5ms preprocess, 36.4ms inference, 0.7ms postprocess per image at shape (1, 3, 352, 640)\n",
      "\n",
      "0: 352x640 17 cars, 37.6ms\n",
      "Speed: 1.3ms preprocess, 37.6ms inference, 0.7ms postprocess per image at shape (1, 3, 352, 640)\n",
      "\n",
      "0: 352x640 15 cars, 37.5ms\n",
      "Speed: 2.2ms preprocess, 37.5ms inference, 0.7ms postprocess per image at shape (1, 3, 352, 640)\n",
      "\n",
      "0: 352x640 16 cars, 38.2ms\n",
      "Speed: 1.9ms preprocess, 38.2ms inference, 0.8ms postprocess per image at shape (1, 3, 352, 640)\n",
      "\n",
      "0: 352x640 15 cars, 39.8ms\n",
      "Speed: 1.3ms preprocess, 39.8ms inference, 0.7ms postprocess per image at shape (1, 3, 352, 640)\n",
      "\n",
      "0: 352x640 16 cars, 38.3ms\n",
      "Speed: 1.9ms preprocess, 38.3ms inference, 0.8ms postprocess per image at shape (1, 3, 352, 640)\n",
      "\n",
      "0: 352x640 16 cars, 43.3ms\n",
      "Speed: 1.6ms preprocess, 43.3ms inference, 1.0ms postprocess per image at shape (1, 3, 352, 640)\n",
      "\n",
      "0: 352x640 16 cars, 40.6ms\n",
      "Speed: 2.0ms preprocess, 40.6ms inference, 0.7ms postprocess per image at shape (1, 3, 352, 640)\n",
      "\n",
      "0: 352x640 16 cars, 38.5ms\n",
      "Speed: 1.4ms preprocess, 38.5ms inference, 0.7ms postprocess per image at shape (1, 3, 352, 640)\n",
      "\n",
      "0: 352x640 13 cars, 39.0ms\n",
      "Speed: 1.7ms preprocess, 39.0ms inference, 0.9ms postprocess per image at shape (1, 3, 352, 640)\n",
      "\n",
      "0: 352x640 15 cars, 38.9ms\n",
      "Speed: 1.8ms preprocess, 38.9ms inference, 0.9ms postprocess per image at shape (1, 3, 352, 640)\n",
      "\n",
      "0: 352x640 18 cars, 36.1ms\n",
      "Speed: 1.9ms preprocess, 36.1ms inference, 0.7ms postprocess per image at shape (1, 3, 352, 640)\n",
      "\n",
      "0: 352x640 18 cars, 41.6ms\n",
      "Speed: 1.4ms preprocess, 41.6ms inference, 0.9ms postprocess per image at shape (1, 3, 352, 640)\n",
      "\n",
      "0: 352x640 19 cars, 37.9ms\n",
      "Speed: 1.8ms preprocess, 37.9ms inference, 0.7ms postprocess per image at shape (1, 3, 352, 640)\n",
      "\n",
      "0: 352x640 16 cars, 34.4ms\n",
      "Speed: 1.8ms preprocess, 34.4ms inference, 0.7ms postprocess per image at shape (1, 3, 352, 640)\n",
      "\n",
      "0: 352x640 15 cars, 40.1ms\n",
      "Speed: 1.6ms preprocess, 40.1ms inference, 0.8ms postprocess per image at shape (1, 3, 352, 640)\n",
      "\n",
      "0: 352x640 14 cars, 37.3ms\n",
      "Speed: 1.8ms preprocess, 37.3ms inference, 0.7ms postprocess per image at shape (1, 3, 352, 640)\n",
      "\n",
      "0: 352x640 15 cars, 39.4ms\n",
      "Speed: 1.8ms preprocess, 39.4ms inference, 0.8ms postprocess per image at shape (1, 3, 352, 640)\n",
      "\n",
      "0: 352x640 19 cars, 49.5ms\n",
      "Speed: 1.4ms preprocess, 49.5ms inference, 1.0ms postprocess per image at shape (1, 3, 352, 640)\n",
      "\n",
      "0: 352x640 20 cars, 53.4ms\n",
      "Speed: 2.3ms preprocess, 53.4ms inference, 0.8ms postprocess per image at shape (1, 3, 352, 640)\n",
      "\n",
      "0: 352x640 14 cars, 36.7ms\n",
      "Speed: 1.6ms preprocess, 36.7ms inference, 0.7ms postprocess per image at shape (1, 3, 352, 640)\n",
      "\n",
      "0: 352x640 13 cars, 36.2ms\n",
      "Speed: 1.5ms preprocess, 36.2ms inference, 1.2ms postprocess per image at shape (1, 3, 352, 640)\n",
      "\n",
      "0: 352x640 16 cars, 37.9ms\n",
      "Speed: 1.9ms preprocess, 37.9ms inference, 0.8ms postprocess per image at shape (1, 3, 352, 640)\n",
      "\n",
      "0: 352x640 19 cars, 40.6ms\n",
      "Speed: 1.9ms preprocess, 40.6ms inference, 0.9ms postprocess per image at shape (1, 3, 352, 640)\n",
      "\n",
      "0: 352x640 20 cars, 35.5ms\n",
      "Speed: 1.6ms preprocess, 35.5ms inference, 0.7ms postprocess per image at shape (1, 3, 352, 640)\n",
      "\n",
      "0: 352x640 19 cars, 38.7ms\n",
      "Speed: 1.9ms preprocess, 38.7ms inference, 0.7ms postprocess per image at shape (1, 3, 352, 640)\n",
      "\n",
      "0: 352x640 21 cars, 37.2ms\n",
      "Speed: 2.2ms preprocess, 37.2ms inference, 0.9ms postprocess per image at shape (1, 3, 352, 640)\n",
      "\n",
      "0: 352x640 19 cars, 39.7ms\n",
      "Speed: 1.8ms preprocess, 39.7ms inference, 0.9ms postprocess per image at shape (1, 3, 352, 640)\n",
      "\n",
      "0: 352x640 16 cars, 44.5ms\n",
      "Speed: 2.0ms preprocess, 44.5ms inference, 0.9ms postprocess per image at shape (1, 3, 352, 640)\n",
      "\n",
      "0: 352x640 11 cars, 41.0ms\n",
      "Speed: 1.5ms preprocess, 41.0ms inference, 0.9ms postprocess per image at shape (1, 3, 352, 640)\n",
      "\n",
      "0: 352x640 13 cars, 41.4ms\n",
      "Speed: 1.7ms preprocess, 41.4ms inference, 0.8ms postprocess per image at shape (1, 3, 352, 640)\n",
      "\n",
      "0: 352x640 11 cars, 37.1ms\n",
      "Speed: 1.7ms preprocess, 37.1ms inference, 1.0ms postprocess per image at shape (1, 3, 352, 640)\n",
      "\n",
      "0: 352x640 15 cars, 38.5ms\n",
      "Speed: 1.9ms preprocess, 38.5ms inference, 0.8ms postprocess per image at shape (1, 3, 352, 640)\n",
      "\n",
      "0: 352x640 12 cars, 44.9ms\n",
      "Speed: 1.9ms preprocess, 44.9ms inference, 1.0ms postprocess per image at shape (1, 3, 352, 640)\n",
      "\n",
      "0: 352x640 10 cars, 45.4ms\n",
      "Speed: 1.5ms preprocess, 45.4ms inference, 1.0ms postprocess per image at shape (1, 3, 352, 640)\n",
      "\n",
      "0: 352x640 11 cars, 43.4ms\n",
      "Speed: 2.0ms preprocess, 43.4ms inference, 0.9ms postprocess per image at shape (1, 3, 352, 640)\n",
      "\n",
      "0: 352x640 14 cars, 38.9ms\n",
      "Speed: 1.4ms preprocess, 38.9ms inference, 0.8ms postprocess per image at shape (1, 3, 352, 640)\n",
      "\n",
      "0: 352x640 10 cars, 39.1ms\n",
      "Speed: 1.3ms preprocess, 39.1ms inference, 0.8ms postprocess per image at shape (1, 3, 352, 640)\n",
      "\n",
      "0: 352x640 12 cars, 1 bus, 41.5ms\n",
      "Speed: 2.0ms preprocess, 41.5ms inference, 1.0ms postprocess per image at shape (1, 3, 352, 640)\n",
      "\n",
      "0: 352x640 12 cars, 1 bus, 46.8ms\n",
      "Speed: 1.9ms preprocess, 46.8ms inference, 1.1ms postprocess per image at shape (1, 3, 352, 640)\n",
      "\n",
      "0: 352x640 9 cars, 1 bus, 39.2ms\n",
      "Speed: 1.6ms preprocess, 39.2ms inference, 0.8ms postprocess per image at shape (1, 3, 352, 640)\n",
      "\n",
      "0: 352x640 10 cars, 37.6ms\n",
      "Speed: 1.5ms preprocess, 37.6ms inference, 0.7ms postprocess per image at shape (1, 3, 352, 640)\n",
      "\n",
      "0: 352x640 12 cars, 48.2ms\n",
      "Speed: 1.9ms preprocess, 48.2ms inference, 0.8ms postprocess per image at shape (1, 3, 352, 640)\n",
      "\n",
      "0: 352x640 10 cars, 40.4ms\n",
      "Speed: 1.8ms preprocess, 40.4ms inference, 1.1ms postprocess per image at shape (1, 3, 352, 640)\n",
      "\n",
      "0: 352x640 11 cars, 45.0ms\n",
      "Speed: 1.5ms preprocess, 45.0ms inference, 0.8ms postprocess per image at shape (1, 3, 352, 640)\n",
      "\n",
      "0: 352x640 12 cars, 41.2ms\n",
      "Speed: 1.7ms preprocess, 41.2ms inference, 0.8ms postprocess per image at shape (1, 3, 352, 640)\n",
      "\n",
      "0: 352x640 13 cars, 43.5ms\n",
      "Speed: 2.1ms preprocess, 43.5ms inference, 0.9ms postprocess per image at shape (1, 3, 352, 640)\n",
      "\n",
      "0: 352x640 12 cars, 37.7ms\n",
      "Speed: 2.0ms preprocess, 37.7ms inference, 0.8ms postprocess per image at shape (1, 3, 352, 640)\n",
      "\n",
      "0: 352x640 11 cars, 1 bus, 65.5ms\n",
      "Speed: 1.4ms preprocess, 65.5ms inference, 1.2ms postprocess per image at shape (1, 3, 352, 640)\n",
      "\n",
      "0: 352x640 11 cars, 1 bus, 51.5ms\n",
      "Speed: 1.6ms preprocess, 51.5ms inference, 1.0ms postprocess per image at shape (1, 3, 352, 640)\n",
      "\n",
      "0: 352x640 9 cars, 1 bus, 44.1ms\n",
      "Speed: 2.0ms preprocess, 44.1ms inference, 0.9ms postprocess per image at shape (1, 3, 352, 640)\n",
      "\n",
      "0: 352x640 9 cars, 39.9ms\n",
      "Speed: 1.7ms preprocess, 39.9ms inference, 0.9ms postprocess per image at shape (1, 3, 352, 640)\n",
      "\n",
      "0: 352x640 10 cars, 41.3ms\n",
      "Speed: 1.4ms preprocess, 41.3ms inference, 0.9ms postprocess per image at shape (1, 3, 352, 640)\n",
      "\n",
      "0: 352x640 10 cars, 1 bus, 42.3ms\n",
      "Speed: 1.4ms preprocess, 42.3ms inference, 1.0ms postprocess per image at shape (1, 3, 352, 640)\n",
      "\n",
      "0: 352x640 9 cars, 42.9ms\n",
      "Speed: 2.0ms preprocess, 42.9ms inference, 0.9ms postprocess per image at shape (1, 3, 352, 640)\n",
      "\n",
      "0: 352x640 10 cars, 41.0ms\n",
      "Speed: 1.7ms preprocess, 41.0ms inference, 0.8ms postprocess per image at shape (1, 3, 352, 640)\n",
      "\n",
      "0: 352x640 9 cars, 43.2ms\n",
      "Speed: 1.6ms preprocess, 43.2ms inference, 1.0ms postprocess per image at shape (1, 3, 352, 640)\n",
      "\n",
      "0: 352x640 13 cars, 40.4ms\n",
      "Speed: 1.4ms preprocess, 40.4ms inference, 0.8ms postprocess per image at shape (1, 3, 352, 640)\n",
      "\n",
      "0: 352x640 10 cars, 39.5ms\n",
      "Speed: 1.4ms preprocess, 39.5ms inference, 0.9ms postprocess per image at shape (1, 3, 352, 640)\n",
      "\n",
      "0: 352x640 13 cars, 42.5ms\n",
      "Speed: 1.5ms preprocess, 42.5ms inference, 0.9ms postprocess per image at shape (1, 3, 352, 640)\n",
      "\n",
      "0: 352x640 12 cars, 42.0ms\n",
      "Speed: 1.5ms preprocess, 42.0ms inference, 1.0ms postprocess per image at shape (1, 3, 352, 640)\n",
      "\n",
      "0: 352x640 12 cars, 45.1ms\n",
      "Speed: 1.9ms preprocess, 45.1ms inference, 0.9ms postprocess per image at shape (1, 3, 352, 640)\n",
      "\n",
      "0: 352x640 15 cars, 43.0ms\n",
      "Speed: 1.6ms preprocess, 43.0ms inference, 1.0ms postprocess per image at shape (1, 3, 352, 640)\n",
      "\n",
      "0: 352x640 15 cars, 43.2ms\n",
      "Speed: 1.4ms preprocess, 43.2ms inference, 0.8ms postprocess per image at shape (1, 3, 352, 640)\n",
      "\n",
      "0: 352x640 13 cars, 43.4ms\n",
      "Speed: 1.6ms preprocess, 43.4ms inference, 0.8ms postprocess per image at shape (1, 3, 352, 640)\n",
      "\n",
      "0: 352x640 15 cars, 41.9ms\n",
      "Speed: 1.5ms preprocess, 41.9ms inference, 0.9ms postprocess per image at shape (1, 3, 352, 640)\n",
      "\n",
      "0: 352x640 15 cars, 42.3ms\n",
      "Speed: 2.0ms preprocess, 42.3ms inference, 0.9ms postprocess per image at shape (1, 3, 352, 640)\n",
      "\n",
      "0: 352x640 10 cars, 41.2ms\n",
      "Speed: 2.0ms preprocess, 41.2ms inference, 0.8ms postprocess per image at shape (1, 3, 352, 640)\n",
      "\n",
      "0: 352x640 14 cars, 42.5ms\n",
      "Speed: 2.1ms preprocess, 42.5ms inference, 1.0ms postprocess per image at shape (1, 3, 352, 640)\n",
      "\n",
      "0: 352x640 11 cars, 42.2ms\n",
      "Speed: 1.3ms preprocess, 42.2ms inference, 1.2ms postprocess per image at shape (1, 3, 352, 640)\n",
      "\n",
      "0: 352x640 11 cars, 42.7ms\n",
      "Speed: 1.5ms preprocess, 42.7ms inference, 1.1ms postprocess per image at shape (1, 3, 352, 640)\n",
      "\n",
      "0: 352x640 12 cars, 43.1ms\n",
      "Speed: 1.4ms preprocess, 43.1ms inference, 0.9ms postprocess per image at shape (1, 3, 352, 640)\n",
      "\n",
      "0: 352x640 13 cars, 40.3ms\n",
      "Speed: 1.5ms preprocess, 40.3ms inference, 0.8ms postprocess per image at shape (1, 3, 352, 640)\n",
      "\n",
      "0: 352x640 10 cars, 39.9ms\n",
      "Speed: 1.4ms preprocess, 39.9ms inference, 0.8ms postprocess per image at shape (1, 3, 352, 640)\n",
      "\n",
      "0: 352x640 9 cars, 40.4ms\n",
      "Speed: 1.3ms preprocess, 40.4ms inference, 1.0ms postprocess per image at shape (1, 3, 352, 640)\n",
      "\n",
      "0: 352x640 11 cars, 37.0ms\n",
      "Speed: 1.5ms preprocess, 37.0ms inference, 0.9ms postprocess per image at shape (1, 3, 352, 640)\n",
      "\n",
      "0: 352x640 11 cars, 39.5ms\n",
      "Speed: 1.6ms preprocess, 39.5ms inference, 0.7ms postprocess per image at shape (1, 3, 352, 640)\n",
      "\n",
      "0: 352x640 13 cars, 40.2ms\n",
      "Speed: 1.8ms preprocess, 40.2ms inference, 0.9ms postprocess per image at shape (1, 3, 352, 640)\n",
      "\n",
      "0: 352x640 14 cars, 43.3ms\n",
      "Speed: 1.8ms preprocess, 43.3ms inference, 0.8ms postprocess per image at shape (1, 3, 352, 640)\n",
      "\n",
      "0: 352x640 14 cars, 38.9ms\n",
      "Speed: 1.7ms preprocess, 38.9ms inference, 0.8ms postprocess per image at shape (1, 3, 352, 640)\n",
      "\n",
      "0: 352x640 13 cars, 47.5ms\n",
      "Speed: 1.9ms preprocess, 47.5ms inference, 1.0ms postprocess per image at shape (1, 3, 352, 640)\n",
      "\n",
      "0: 352x640 10 cars, 60.3ms\n",
      "Speed: 2.3ms preprocess, 60.3ms inference, 0.9ms postprocess per image at shape (1, 3, 352, 640)\n",
      "\n",
      "0: 352x640 14 cars, 41.9ms\n",
      "Speed: 2.0ms preprocess, 41.9ms inference, 0.8ms postprocess per image at shape (1, 3, 352, 640)\n",
      "\n",
      "0: 352x640 12 cars, 41.3ms\n",
      "Speed: 1.8ms preprocess, 41.3ms inference, 1.0ms postprocess per image at shape (1, 3, 352, 640)\n",
      "\n",
      "0: 352x640 12 cars, 38.7ms\n",
      "Speed: 1.3ms preprocess, 38.7ms inference, 0.8ms postprocess per image at shape (1, 3, 352, 640)\n",
      "\n",
      "0: 352x640 10 cars, 38.6ms\n",
      "Speed: 1.7ms preprocess, 38.6ms inference, 0.9ms postprocess per image at shape (1, 3, 352, 640)\n",
      "\n",
      "0: 352x640 11 cars, 1 vehicle, 40.1ms\n",
      "Speed: 1.5ms preprocess, 40.1ms inference, 0.8ms postprocess per image at shape (1, 3, 352, 640)\n",
      "\n",
      "0: 352x640 15 cars, 1 vehicle, 40.2ms\n",
      "Speed: 2.0ms preprocess, 40.2ms inference, 0.8ms postprocess per image at shape (1, 3, 352, 640)\n",
      "\n",
      "0: 352x640 12 cars, 1 vehicle, 37.6ms\n",
      "Speed: 1.4ms preprocess, 37.6ms inference, 0.7ms postprocess per image at shape (1, 3, 352, 640)\n",
      "\n",
      "0: 352x640 12 cars, 35.6ms\n",
      "Speed: 1.7ms preprocess, 35.6ms inference, 0.8ms postprocess per image at shape (1, 3, 352, 640)\n",
      "\n",
      "0: 352x640 14 cars, 38.7ms\n",
      "Speed: 1.4ms preprocess, 38.7ms inference, 0.8ms postprocess per image at shape (1, 3, 352, 640)\n",
      "\n",
      "0: 352x640 12 cars, 36.7ms\n",
      "Speed: 1.4ms preprocess, 36.7ms inference, 0.8ms postprocess per image at shape (1, 3, 352, 640)\n",
      "[DONE] Saved images to: dataset/UAVDT-new/images\n",
      "[DONE] Saved YOLO-format labels to: dataset/UAVDT-new/labels\n"
     ]
    }
   ],
   "source": [
    "print(\"[INFO] Extracting frames...\")\n",
    "extract_frames(VIDEO_PATH, IMAGE_SAVE_DIR, every_n=FRAME_INTERVAL)\n",
    "\n",
    "print(\"[INFO] Running inference...\")\n",
    "infer_and_save(model, IMAGE_SAVE_DIR, LABEL_SAVE_DIR)\n",
    "\n",
    "print(\"[DONE] Saved images to:\", IMAGE_SAVE_DIR)\n",
    "print(\"[DONE] Saved YOLO-format labels to:\", LABEL_SAVE_DIR)\n"
   ]
  },
  {
   "cell_type": "markdown",
   "id": "151c12bd",
   "metadata": {},
   "source": [
    "# Retrain the model"
   ]
  },
  {
   "cell_type": "code",
   "execution_count": null,
   "id": "b9b1a5b8",
   "metadata": {},
   "outputs": [],
   "source": [
    "# import os\n",
    "# from ultralytics import YOLO\n",
    "\n",
    "# os.environ[\"KMP_DUPLICATE_LIB_OK\"] = \"TRUE\"\n",
    "\n",
    "# model = YOLO(\"yolov8n.pt\")\n",
    "\n",
    "# model.train(\n",
    "#     data=\"uavdt.yaml\",\n",
    "#     epochs=1,\n",
    "#     imgsz=640,\n",
    "#     batch=32,\n",
    "#     show=False,\n",
    "#     name=\"yolov8-uavdt\",\n",
    "#     project=\"runs/train\"\n",
    "# )\n"
   ]
  },
  {
   "cell_type": "markdown",
   "id": "735f04c0",
   "metadata": {},
   "source": [
    "# Print the metrics again "
   ]
  },
  {
   "cell_type": "code",
   "execution_count": null,
   "id": "149d43a3",
   "metadata": {},
   "outputs": [],
   "source": []
  },
  {
   "cell_type": "code",
   "execution_count": null,
   "id": "cbd55df7",
   "metadata": {},
   "outputs": [],
   "source": []
  },
  {
   "cell_type": "code",
   "execution_count": null,
   "id": "b18054d8",
   "metadata": {},
   "outputs": [],
   "source": []
  },
  {
   "cell_type": "markdown",
   "id": "79407c40",
   "metadata": {},
   "source": []
  }
 ],
 "metadata": {
  "kernelspec": {
   "display_name": "base",
   "language": "python",
   "name": "python3"
  },
  "language_info": {
   "codemirror_mode": {
    "name": "ipython",
    "version": 3
   },
   "file_extension": ".py",
   "mimetype": "text/x-python",
   "name": "python",
   "nbconvert_exporter": "python",
   "pygments_lexer": "ipython3",
   "version": "3.12.4"
  }
 },
 "nbformat": 4,
 "nbformat_minor": 5
}
